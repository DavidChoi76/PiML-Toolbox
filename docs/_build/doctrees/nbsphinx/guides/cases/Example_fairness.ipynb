{
 "cells": [
  {
   "cell_type": "markdown",
   "metadata": {
    "id": "xdsf78IH3_c7"
   },
   "source": [
    "# Fairness Testing\n",
    "\n",
    "Click the ipynb links to run examples in [Google Colab](https://colab.research.google.com/github/SelfExplainML/PiML-Toolbox/blob/main/examples/Example_fairness.ipynb)."
   ]
  },
  {
   "cell_type": "markdown",
   "metadata": {
    "id": "uGNfAjXUbwyE"
   },
   "source": [
    "## Stage 1: Data Generation"
   ]
  },
  {
   "cell_type": "code",
   "execution_count": 1,
   "metadata": {
    "id": "Y7YbutgRbwyF"
   },
   "outputs": [],
   "source": [
    "import numpy as np\n",
    "import pandas as pd\n",
    "from sklearn.preprocessing import MinMaxScaler\n",
    "\n",
    "def sigmoid(beta, x):\n",
    "    y = 1/(1 + np.exp(beta[0]+beta[1]*x))\n",
    "    return y\n",
    "\n",
    "def gen_data(seed=7):\n",
    "    #simulation data generation\n",
    "    np.random.seed(seed)\n",
    "    N = 10000\n",
    "    A = np.random.binomial(1,0.5, (N,1))\n",
    "    B0 = np.random.binomial(1,0.5, (N,1))\n",
    "    x1 = (0.3*A) + np.random.normal(0,0.5,(N,1))\n",
    "    x20 = np.random.normal(0,0.5,(N,1))\n",
    "    x2 = (x20 >0)*x20\n",
    "    x30 = B0\n",
    "    x3 = (x30 > 0)*1.0\n",
    "    x40 = (np.random.lognormal(1,0.7,(N,1))-1)/2.0\n",
    "    x4d = np.round(x40).astype(int)\n",
    "    x4 = (x40 - np.mean(x40))/(2*np.std(x40))\n",
    "    yl = x1 - sigmoid((0,2),x2) + x3/2 - x4 + np.random.normal(0,0.5,(N,1))\n",
    "    y = np.reshape((yl>np.mean(yl))*1,(N,1))\n",
    "\n",
    "    scaler = MinMaxScaler()\n",
    "    scaler.fit(x1)\n",
    "    x1d = np.round(scaler.transform(x1)*10000).astype(int)\n",
    "    scaler.fit(x2)\n",
    "    x2d = np.round(scaler.transform(x2)*10000).astype(int)\n",
    "    x2f = (x2d > x1d)*x1d + (x2d<=x1d)*x2d\n",
    "    v2 = np.random.binomial(1,0.15, (N,1))\n",
    "    B = ((B0+v2)>1)*0 + ((B0+v2)<=1)*(B0+v2)\n",
    "    x = np.hstack((x3,x1d,x2f,x4d,A,B))\n",
    "\n",
    "    df = pd.DataFrame(data=x, columns = ['Mortgage', 'Balance', 'Amount Past Due', 'Credit Inquiry', 'Gender','Race'])\n",
    "    df = pd.concat([df,pd.DataFrame(data=y, columns = ['Approved'])],axis =1)\n",
    "    return df\n",
    "\n",
    "df = gen_data(seed=7)"
   ]
  },
  {
   "cell_type": "markdown",
   "metadata": {
    "id": "4kcbghi53_dB"
   },
   "source": [
    "## Stage 2: Initialize an experiment, Load and Prepare data"
   ]
  },
  {
   "cell_type": "code",
   "execution_count": 2,
   "metadata": {
    "id": "EN4UWjkT3_dC"
   },
   "outputs": [],
   "source": [
    "from piml import Experiment\n",
    "exp = Experiment()"
   ]
  },
  {
   "cell_type": "code",
   "execution_count": 3,
   "metadata": {
    "colab": {
     "base_uri": "https://localhost:8080/",
     "height": 427,
     "referenced_widgets": [
      "46b3da5eefb54beeb1f1d4236d5ecf85",
      "8633679d3fe0498c8e281b91dd3e03e7",
      "db4786853e6c4abb9f205cf9b68d95b7"
     ]
    },
    "id": "1HXFMmmB3_dF",
    "outputId": "6926b16c-6d9a-4f26-a461-7e06f01a4283"
   },
   "outputs": [
    {
     "data": {
      "application/vnd.jupyter.widget-view+json": {
       "model_id": "fadd0ca4bdbc42239c2892071c70f893",
       "version_major": 2,
       "version_minor": 0
      },
      "text/plain": [
       "HTML(value='\\n        <style>\\n\\n        .left-label {\\n            width: 30%;\\n        }\\n\\n        .card-pa…"
      ]
     },
     "metadata": {},
     "output_type": "display_data"
    },
    {
     "data": {
      "application/javascript": [
       "\n",
       "        IPython.OutputArea.prototype._should_scroll = function(lines) {\n",
       "            return false;\n",
       "        }"
      ],
      "text/plain": [
       "<IPython.core.display.Javascript object>"
      ]
     },
     "metadata": {},
     "output_type": "display_data"
    },
    {
     "data": {
      "text/html": [
       "<div>\n",
       "<style scoped>\n",
       "    .dataframe tbody tr th:only-of-type {\n",
       "        vertical-align: middle;\n",
       "    }\n",
       "\n",
       "    .dataframe tbody tr th {\n",
       "        vertical-align: top;\n",
       "    }\n",
       "\n",
       "    .dataframe thead th {\n",
       "        text-align: right;\n",
       "    }\n",
       "</style>\n",
       "<table border=\"1\" class=\"dataframe\">\n",
       "  <thead>\n",
       "    <tr style=\"text-align: right;\">\n",
       "      <th></th>\n",
       "      <th>Mortgage</th>\n",
       "      <th>Balance</th>\n",
       "      <th>Amount Past Due</th>\n",
       "      <th>Credit Inquiry</th>\n",
       "      <th>Gender</th>\n",
       "      <th>Race</th>\n",
       "      <th>Approved</th>\n",
       "    </tr>\n",
       "  </thead>\n",
       "  <tbody>\n",
       "    <tr>\n",
       "      <th>0</th>\n",
       "      <td>1.0</td>\n",
       "      <td>3635.0</td>\n",
       "      <td>482.0</td>\n",
       "      <td>2.0</td>\n",
       "      <td>0.0</td>\n",
       "      <td>0.0</td>\n",
       "      <td>0.0</td>\n",
       "    </tr>\n",
       "    <tr>\n",
       "      <th>1</th>\n",
       "      <td>0.0</td>\n",
       "      <td>6265.0</td>\n",
       "      <td>0.0</td>\n",
       "      <td>1.0</td>\n",
       "      <td>1.0</td>\n",
       "      <td>0.0</td>\n",
       "      <td>0.0</td>\n",
       "    </tr>\n",
       "    <tr>\n",
       "      <th>2</th>\n",
       "      <td>1.0</td>\n",
       "      <td>4432.0</td>\n",
       "      <td>0.0</td>\n",
       "      <td>4.0</td>\n",
       "      <td>0.0</td>\n",
       "      <td>1.0</td>\n",
       "      <td>0.0</td>\n",
       "    </tr>\n",
       "    <tr>\n",
       "      <th>3</th>\n",
       "      <td>1.0</td>\n",
       "      <td>3092.0</td>\n",
       "      <td>0.0</td>\n",
       "      <td>1.0</td>\n",
       "      <td>1.0</td>\n",
       "      <td>1.0</td>\n",
       "      <td>0.0</td>\n",
       "    </tr>\n",
       "    <tr>\n",
       "      <th>4</th>\n",
       "      <td>1.0</td>\n",
       "      <td>8025.0</td>\n",
       "      <td>135.0</td>\n",
       "      <td>1.0</td>\n",
       "      <td>1.0</td>\n",
       "      <td>0.0</td>\n",
       "      <td>1.0</td>\n",
       "    </tr>\n",
       "    <tr>\n",
       "      <th>...</th>\n",
       "      <td>...</td>\n",
       "      <td>...</td>\n",
       "      <td>...</td>\n",
       "      <td>...</td>\n",
       "      <td>...</td>\n",
       "      <td>...</td>\n",
       "      <td>...</td>\n",
       "    </tr>\n",
       "    <tr>\n",
       "      <th>9995</th>\n",
       "      <td>1.0</td>\n",
       "      <td>4503.0</td>\n",
       "      <td>687.0</td>\n",
       "      <td>3.0</td>\n",
       "      <td>0.0</td>\n",
       "      <td>1.0</td>\n",
       "      <td>0.0</td>\n",
       "    </tr>\n",
       "    <tr>\n",
       "      <th>9996</th>\n",
       "      <td>1.0</td>\n",
       "      <td>5201.0</td>\n",
       "      <td>0.0</td>\n",
       "      <td>0.0</td>\n",
       "      <td>1.0</td>\n",
       "      <td>1.0</td>\n",
       "      <td>1.0</td>\n",
       "    </tr>\n",
       "    <tr>\n",
       "      <th>9997</th>\n",
       "      <td>0.0</td>\n",
       "      <td>5566.0</td>\n",
       "      <td>0.0</td>\n",
       "      <td>1.0</td>\n",
       "      <td>1.0</td>\n",
       "      <td>0.0</td>\n",
       "      <td>1.0</td>\n",
       "    </tr>\n",
       "    <tr>\n",
       "      <th>9998</th>\n",
       "      <td>1.0</td>\n",
       "      <td>3755.0</td>\n",
       "      <td>0.0</td>\n",
       "      <td>1.0</td>\n",
       "      <td>1.0</td>\n",
       "      <td>1.0</td>\n",
       "      <td>0.0</td>\n",
       "    </tr>\n",
       "    <tr>\n",
       "      <th>9999</th>\n",
       "      <td>1.0</td>\n",
       "      <td>5123.0</td>\n",
       "      <td>0.0</td>\n",
       "      <td>1.0</td>\n",
       "      <td>0.0</td>\n",
       "      <td>1.0</td>\n",
       "      <td>1.0</td>\n",
       "    </tr>\n",
       "  </tbody>\n",
       "</table>\n",
       "<p>10000 rows × 7 columns</p>\n",
       "</div>"
      ],
      "text/plain": [
       "      Mortgage  Balance  Amount Past Due  Credit Inquiry  Gender  Race  \\\n",
       "0          1.0   3635.0            482.0             2.0     0.0   0.0   \n",
       "1          0.0   6265.0              0.0             1.0     1.0   0.0   \n",
       "2          1.0   4432.0              0.0             4.0     0.0   1.0   \n",
       "3          1.0   3092.0              0.0             1.0     1.0   1.0   \n",
       "4          1.0   8025.0            135.0             1.0     1.0   0.0   \n",
       "...        ...      ...              ...             ...     ...   ...   \n",
       "9995       1.0   4503.0            687.0             3.0     0.0   1.0   \n",
       "9996       1.0   5201.0              0.0             0.0     1.0   1.0   \n",
       "9997       0.0   5566.0              0.0             1.0     1.0   0.0   \n",
       "9998       1.0   3755.0              0.0             1.0     1.0   1.0   \n",
       "9999       1.0   5123.0              0.0             1.0     0.0   1.0   \n",
       "\n",
       "      Approved  \n",
       "0          0.0  \n",
       "1          0.0  \n",
       "2          0.0  \n",
       "3          0.0  \n",
       "4          1.0  \n",
       "...        ...  \n",
       "9995       0.0  \n",
       "9996       1.0  \n",
       "9997       1.0  \n",
       "9998       0.0  \n",
       "9999       1.0  \n",
       "\n",
       "[10000 rows x 7 columns]"
      ]
     },
     "metadata": {},
     "output_type": "display_data"
    }
   ],
   "source": [
    "# Manually load data to piml\n",
    "exp.data_loader(data=df)"
   ]
  },
  {
   "cell_type": "code",
   "execution_count": 4,
   "metadata": {
    "colab": {
     "base_uri": "https://localhost:8080/",
     "height": 389,
     "referenced_widgets": [
      "9ff2dd79032740e5be0b4571ec2c73ee",
      "8153ace7ac8440ef887024938b4e551f",
      "9621da223f5348ab921b39bab35c8801",
      "5dd0bcc7d5774b33b8e0012f4764dce4",
      "c14fa7d456554e04991d4d4760b7d314",
      "412bfce2085d4e1c8bed92104a60b381",
      "fc5309f4a34343b580de8e81e19603b1",
      "f5087cdffb0542caa26de25b0857c4f8",
      "9d0a619ce955451abca1a84184e3c219",
      "1bba79d55c5f4f66af1fb90c3520bfce",
      "53ef8ee42f914006b4aebf78beda638d",
      "2e687c7f62be424c886d993e9672103f",
      "1f99e97b9eb748a394ac2f913571de3f",
      "bb4aca620bdf400ca3ff30c2b53f7621",
      "9a6e7553da9b4f29af7c31619c14f70b",
      "946e3ab19d6a4a508a96907af050bfaa",
      "7e713c73c8524976b192e9d1dfbc5b20",
      "68008fe1dbb4416c8b187948bea4d9fa",
      "4af2719ef8e741ff86c60bcb4b6efcad",
      "4bab07c3eae04317a2ccc18a42953b0e",
      "fa8cf23cf367478397ba8cdc3836ff8c",
      "2192d6b01b47467e87f68b739430acc0",
      "6afc062908d14c67a421a21aff252c19",
      "ac6f0cf57fc04fc5b8e907c5a0fcb598",
      "555064f0f54e450aadafeeebf1d9f86b",
      "74dae27c3c2344839d671c79cae7fd6b",
      "ecea23f75c4d4afbbf36f31c5bf6cf75",
      "20a2127df75c4ddb974df42dcbf76232",
      "22a884caa9e247db852cd4caa608f319",
      "6721f30ddd0a4753a34f4dc3d472e2fa",
      "633a8155855b44d3a4fbc39d3bd841f4",
      "324579304efb49f7a9c1b1aa65cb89dc",
      "a0e85ebdbd7a43c8b28e9e6488b935a2",
      "32231adc0a95442b8031cd6b4c686a03",
      "c287453ba77243fa9719c334e140f08e",
      "4a2000d036c346bbaac99623629bf372",
      "ebaf808ee2cc4a19bd7418c4d0436517",
      "ee5367b2c292427abc9bf1cac04e5d1a",
      "436edd9b037e412097da338600bf2f29",
      "a785315c22114f3bbff14071a5dbba1c",
      "a7d102f4978a414883e940477b2895ec",
      "bda83bc76b874c29b0422c42dce3a52c",
      "30f24771edc248f1b4f9e3ecf3873702",
      "11f99b8dbc834ac794a7f630f39ed680",
      "89d7ba6826eb49f0af429fdf7c122557",
      "e073dd4ef5a64f80ba2f6e90d2859041",
      "7e0314c21d534606b2e251b17484bf97",
      "ddf51659ffca4a09a45ae7f3333190ac",
      "51ff6783d2b9467fa447f777db301cc3",
      "bd061008061541068d37bc0927292547",
      "ca03e865ed584a5bbdc00a8b6655dcfb",
      "939bc3d179e145c5b13cf905c882af90",
      "df6b4528ed504e059fbb3c48c5b873c6",
      "a04af98c5c5446489e3c3860bc500b18",
      "20619ba14df9448a85b8ad89273fb9e6",
      "1209e0cef7584768ac087122d08edf89",
      "8080931447b24854a3c456ac8bebedfa",
      "bcaaaace39f340f1bc8340123ac1c3f1",
      "96c3a23855804037a4b4a29310e15dc6",
      "b2e3a03dd7a64dbbb704c8b005db1074",
      "911e9c2088ea479291f35382a13e509d",
      "acd09e7197a742dca40db2a9d7665747",
      "164ea10f57cb4b13b2da873d33c0eb35",
      "e3ac04e04910468e99ed91845d9da3f5",
      "130dd27e6e164896898a63fda6a216a5",
      "e9402c4384c24979b10d7034cff93dfe",
      "b6b30ce7127841de84b81f05cbe886d7",
      "278fd44366ad4dceaf2486dbe21f59d2",
      "a62e9f79d37643e08f3a54b0588b01cd",
      "976b24d72af3464fbf2919b8b109ef2f",
      "df38e3a00e124051bb6cd8fcffa63b5f",
      "4c29103b73904205a4996f8fa5225a59",
      "23668adc12ea4c6ebaa3714fd47c000a",
      "6e7c03ac9d7d4506a077b530bd5d49fa",
      "093ea3279b1045cab66acc2884b66d96",
      "c6dbbc3a7e464e87bf7013df09169dd4",
      "58c3fa29388840c994be3e38bc8ad6c8",
      "33338efb4e2c47889cb9b4f72b5c553a",
      "7ae4d517539b414f90b00653b7d5212e",
      "78010dbbce6b4bf6bdc241516ae3ae2d",
      "b028ed7ca09d40c8b5ec16494eadaa1b",
      "66fb8872fd954bb29591e406c1cddd51",
      "14e0f74f642e4aabb4653c6c02c87a96",
      "29791a0e0be448dc8b5642a08ceb7646",
      "159cbd6199a445008275f55cb4a88512",
      "63f8b8a842964faba24c8f14d4d215c3",
      "2b3581462d3e4670b0ac4ecedd87df60",
      "7f2fd71e03bb4e7cb79f04dee3b496a5",
      "9d4294bdcef94b34a90fede120989562",
      "1f04d888fa1b4e918bd50bb61c6527ec",
      "4b86aa2dd91f4aa8b62f74102a9ccbad",
      "004374984a3243829937a695556e6238",
      "8c76bd62073f40759288dfa85b9ef9a8",
      "293df70ce8ff43a2bc03cb6fb7ca787f",
      "45f214efb8424cad9d1b483ad8aa060b",
      "2cc1946b0fa74120953fd6d5d988bd7f",
      "062e8c66e0a0418286aec3b3572e59a9",
      "f5c01ec0d5104a31b88245b6ddbca710",
      "c84048d1b46f4be7801e5e4509435fcd",
      "52c8c25343694c1691acd279c92caccf",
      "b41986b3a8fa4357862c94b3dfe7276d"
     ]
    },
    "id": "RTcvcydS3_dH",
    "outputId": "a1ec9c23-77a0-49fd-d19c-eee9eee10595"
   },
   "outputs": [
    {
     "data": {
      "application/vnd.jupyter.widget-view+json": {
       "model_id": "e02e6abac8c3401887aed432ca719153",
       "version_major": 2,
       "version_minor": 0
      },
      "text/plain": [
       "HTML(value='\\n        <style>\\n\\n        .left-label {\\n            width: 30%;\\n        }\\n\\n        .card-pa…"
      ]
     },
     "metadata": {},
     "output_type": "display_data"
    },
    {
     "data": {
      "application/javascript": [
       "\n",
       "        IPython.OutputArea.prototype._should_scroll = function(lines) {\n",
       "            return false;\n",
       "        }"
      ],
      "text/plain": [
       "<IPython.core.display.Javascript object>"
      ]
     },
     "metadata": {},
     "output_type": "display_data"
    },
    {
     "data": {
      "application/vnd.jupyter.widget-view+json": {
       "model_id": "adf95fc927c44ecdb4bb3d392b6351bc",
       "version_major": 2,
       "version_minor": 0
      },
      "text/plain": [
       "HTML(value='<link rel=\"stylesheet\" href=\"//stackpath.bootstrapcdn.com/font-awesome/4.7.0/css/font-awesome.min.…"
      ]
     },
     "metadata": {},
     "output_type": "display_data"
    },
    {
     "data": {
      "application/vnd.jupyter.widget-view+json": {
       "model_id": "67347a575b404720bba6538b7c2c8250",
       "version_major": 2,
       "version_minor": 0
      },
      "text/plain": [
       "VBox(children=(HTML(value='Data Shape:(10000, 7)'), Tab(children=(Output(), Output()), _dom_classes=('data-sum…"
      ]
     },
     "metadata": {},
     "output_type": "display_data"
    }
   ],
   "source": [
    "# Exclude these features one-by-one: \"Mortgage\", \"Gender\", \"Race\"(demographic variables); \n",
    "# Excluded features will show in grey color in the table.\n",
    "exp.data_summary()"
   ]
  },
  {
   "cell_type": "code",
   "execution_count": 5,
   "metadata": {
    "colab": {
     "base_uri": "https://localhost:8080/",
     "height": 407,
     "referenced_widgets": [
      "f101129cce924eda89d1bd78951ae120",
      "2a6af32b62ee415286c11742230538bd",
      "565fb48e66884ae2912070c97cf7eb5e",
      "848f17d6aa01436f84344aa113dac916",
      "550e6634666542b3ae579cee4189da45",
      "ee232826619147bf8a4b3f0d6a20da60",
      "b8a9e8babc7744b3ad79bfb7a0d6525a",
      "6caea47c459b46ef851d4f33439f110f",
      "cf4c9769c6564c1282f7cf43770acd53",
      "c5b672d295374eb3bf66da94e80c147d",
      "7c52d0c86b5448eda3810a9add71212d",
      "cbe38d70306943bc8dffb1d11b39fd1c",
      "d6277a44dd324c6386e44488715e04d4",
      "7feadaf9a5e742d28b65719176ae5ae9",
      "217d6e0df7604b6faf7c223af822d408",
      "3e87bcb2087f4ca29ab9ed2c5ac02ee7",
      "bf1a2f0583c54e5084205544e3a2050c",
      "8fc4ec3b35064f86b75789fe792e5ec4",
      "17ba48e62b084609ba0fa4ad737c9f55",
      "8185865e6b504a7dac5a2a7397e12ec5",
      "b59b36a0ae664e799ad0ac1b293ae884",
      "b6a02f095190447bae4f0a73f7d9afdd",
      "f6c58634e4aa4aadb899599bcb528c1c",
      "9c44d70b83aa436788eb58f0976837a8",
      "5c1f595be8874965aa2dbeb9b964ba35",
      "eca599cbbb824282aab25f9c8c815ede",
      "c5d4a5080c514b81bb2ab8746d0ffa99",
      "6541c825c8fe4cd3a2f95ac871250cbe",
      "8a22c0450fb44ea59945abef9e104522",
      "130863300c0b42009a7ff52ff64463ca",
      "7c4c5fd9ee9f4c87b71dfce5a2f8013d",
      "4a13e431a7f044ca98c064a1377c3a9c",
      "5c0238dc5d434e8ca98735fe712fac88",
      "8b575287cbe64d109500078ced016272",
      "f01c17a3645b47d78c9e04e2266a1fbb",
      "60769b2409224460b87a064806207745",
      "e7c2158f180f4776855925d2ef914a04",
      "a4b30052e46f4111a42833d5a46ab555",
      "ff45855f1bc44646ad868e1cc715ae28",
      "b84b8136b8c24cb1abcd55268db73ce2",
      "d4a53174f0674742a1011114d80c121d",
      "84b174444cf4437d826402931de8e42d",
      "5ed1121f82734fde90873566fc584484",
      "4e2c43e121c94450a88f6a93a4a08550",
      "5672c41bd27f4278819186c9e72f0b29",
      "7bda8ad7abb64fd49799981cf5fb791d",
      "4818c7e39c394328ac718f0fdc650901",
      "c5de29a2a9524cbeb9dd8422e852e132",
      "10d833378cce4186952d1c4b910e25c1",
      "bd618b8a7093411398b16ac5a59a06a5",
      "f7beb3d3f9e24b2da979907166336e5a",
      "ba24a4690dd5479b96f15d3756c26f5b",
      "d3055d2b587b4d5da08c20014bc97ed8",
      "a118e53116504239b997619dcb77cdd6",
      "4836f9bcdc3243caa9936f140caa50c2",
      "3ee5528269974f62b03b2b729d34af45",
      "dfec07120bc443e0ab730fa0c858ad9b",
      "ce59a53496af405f990ec69afd167df3",
      "fff58a47a3014825ab31d05cb3b206a6",
      "49a8aca1040242b99587bbc2e5ffc84b",
      "519cb2d1e45d429499e6e7781fc7797f",
      "54033b5ad50a4af7877d4bf587d7d6e6",
      "f71c0d4f6cee4be3940d0477e71551b8",
      "2ddf4af09da34ccfbf443c953352109f",
      "723ee599311e414896be468969d83418",
      "7656eb2c34ae4f7cb001c9cdf88b8024",
      "64d7bc5f01d24ea991249a0999655409",
      "b5a88d8db4fb471389c1f6b37cca6d46",
      "83a0afd82b754de885cff9aa0b3b9624",
      "5ea832a7fed640629c6d0ed48833fdce",
      "c66cc40254074253909312a59d332523",
      "54393e6f93fd4d34bfd58ef3b8c10e12",
      "3e962b7362834f44b5dc23a0f691f8a3",
      "cf0def7dfdd244b5bccc11ebbf4fbf8f",
      "986b6a83b16a4a1c8a8ad27c139d76e1",
      "5207c10e27764a399cf552a91feb4772",
      "4fdb66fe34684dd5bf773a314435ddc3",
      "1622190312a446b3b8ba6ab4fdfc5474",
      "454fe3170b1345178b717a1569f21050",
      "f5e5f7658bcc4934b3d20cb7e33a6574",
      "bf62c6da832543249f3c1df114145e36",
      "f1c1af72045e49878318bdea87a81fc7"
     ]
    },
    "id": "iQBVjZlmDxWk",
    "outputId": "b157178f-4768-459b-ffcd-2396f9d77bca"
   },
   "outputs": [
    {
     "data": {
      "application/vnd.jupyter.widget-view+json": {
       "model_id": "3e079edce0fc4ce99f64f6b275ede335",
       "version_major": 2,
       "version_minor": 0
      },
      "text/plain": [
       "HTML(value='\\n        <style>\\n\\n        .left-label {\\n            width: 30%;\\n        }\\n\\n        .card-pa…"
      ]
     },
     "metadata": {},
     "output_type": "display_data"
    },
    {
     "data": {
      "application/javascript": [
       "\n",
       "        IPython.OutputArea.prototype._should_scroll = function(lines) {\n",
       "            return false;\n",
       "        }"
      ],
      "text/plain": [
       "<IPython.core.display.Javascript object>"
      ]
     },
     "metadata": {},
     "output_type": "display_data"
    },
    {
     "data": {
      "application/vnd.jupyter.widget-view+json": {
       "model_id": "ff151a928efa49a5b55478671b874775",
       "version_major": 2,
       "version_minor": 0
      },
      "text/plain": [
       "VBox(children=(HBox(children=(VBox(children=(HTML(value='<p>Target Variable:</p>'), HTML(value='<p>Test Ratio:…"
      ]
     },
     "metadata": {},
     "output_type": "display_data"
    }
   ],
   "source": [
    "# Prepare dataset with Test Ratio = 0.33\n",
    "exp.data_prepare()"
   ]
  },
  {
   "cell_type": "markdown",
   "metadata": {
    "id": "FGk06E-9bwyL"
   },
   "source": [
    "## Stage 3. Train Models"
   ]
  },
  {
   "cell_type": "code",
   "execution_count": 6,
   "metadata": {
    "colab": {
     "base_uri": "https://localhost:8080/",
     "height": 1171,
     "referenced_widgets": [
      "4f3e7fac8dd34c17b24037904966daea",
      "d1a9d8c395104fce835de22793868a73",
      "23db6a97fb224d0b9adc10640681d41f",
      "c831644d01b740d99baca6d8f64c3330",
      "2dfc2bfd4faf41b19eed9f6b82bc9e88",
      "c2963cadc9734ac6b03690b097a7dfc3",
      "fd1a7acdceec4bfdbdee5579194a2c2d",
      "7526b97a63424fdd9ac1c744aed9772d",
      "74598ec7d71641c587fa2cb6d9ac8b7a",
      "1ade294f4eb84a8996bf2408667c43a1",
      "1bceda067c054278b7e873cbcd52f250",
      "e0b30982c8544d9b96489c5967717257",
      "59995e689b714a978c4091037833e343",
      "c012bc73cb93497198f6aaa60a013f2c",
      "601399a881664b0591a36992296c2c0b",
      "0ff1dbee93e943ba878969c9e711ca40",
      "7c0314839bdb42e7bac9308fe586586a",
      "afb42d7db6294d009fa13bc88e396d2e",
      "2e9aa93bdf774e5bb378956167afd6fc",
      "6aecf29a612940b69ee8a0199126aa7c",
      "5d3340a7ea1e4e4396a8e51a42b029b6",
      "4386c82af83c4438954c136f887947f9",
      "06e3db02cde140e8b7123a7959d56687",
      "42002722ae864e4b8565f569b1dba3b1",
      "25b9ee23f3b4462eacda4c89183466d3",
      "0a5bcc3e907f43cc9f6f09c0150403c9",
      "0008fcacdeca4b72a316aa1c4995874e",
      "6dc32125a9004207bf22316c8ebcfa31",
      "9b1d7a30e35c4dba9979fe861a40d989",
      "0d8b862ec4ba417bbe40a92c97833f87",
      "cc90e92ea85c40d8ab4a2269055afdd2",
      "5202e220a48e4113b829f96c5aeb23d2",
      "e04d0c37ddb2480da270100f2f2b4232",
      "1bfd9386a9e04074b3284497a0c74286",
      "1f6b3349cf204a87a2eee592e83ffb3c",
      "550d3428cb4f4f7f90d68a87eae1e184",
      "8328a6bcc0744d629e79ae53a3e11b38",
      "2c24c1b3a847469498648e35ec5adf5f",
      "5ea576dd18a547868dc5e1d6c3e7a553",
      "2aa2b38f72184ae697cb662a6048ce97",
      "abd85773ce7345feb5b5730537af131e",
      "882072249f74494682560a5aef2619d4",
      "574e50d9eb264a0a924f36927e443e01",
      "beaaa8d8f658411b87f13175670febcf",
      "34b5341cdf6e46fa8b2bcb27a3773ef0",
      "b0d4652f55a747a2861077f78a7e9e07",
      "8f2ac7998769442d9823fdde948b5ef3",
      "9c5d2d50261e402f9b06eae41084c222",
      "a59ee702dfe141f0bccf0de747d0ae71",
      "017651d5bce34cbf921c91482ef19c8b",
      "be1b2af606da419eadd47ef0734ba7c9",
      "369b1db543a94d58be3a2f64b2839b74",
      "2638bfc5db184dc3a295a05a473f4d8e",
      "a95273f03169495ba0411ee9fb94db58",
      "c13e25824f6143a0b7963e574002203d",
      "25c2eeadb14c4e65a079d0fba5db2307",
      "9fce26c3b0e74f79b9aeb547bf209055",
      "3dc6271355244f42a1fbadc9f923bbc8",
      "8fd38487c80c493e9ef23dea8713e911",
      "f6c44288e803431db0819b926a31540d",
      "9585e77329514987948034d8df100040",
      "ec1b135f358c420f99353f3f77d6cdb0",
      "b6272d2fd8764ac39cdea4cc69af8903",
      "ea96565cd657458187cb38241c4947d3",
      "519f09e2d12d4bdfbe20447b9845cece",
      "5caa8692d0634c428e1cbcd5c2067941",
      "ce5864bd749b45ecb6244ac8aa9a906b",
      "a05bdf6321f14cf997a6a68757b0dbe2",
      "981d94f53ef34c37bc042c96bed5e9fc",
      "51c89de567c846d9ad23561b60176a23",
      "221f4bcd4b5d45c581a2ca82a8764c0d",
      "77e01857a70d44b194c0a2e7af495612",
      "2894c83890484d2081bd5b150f6618bf",
      "1257c24eba9c4106a1c09cfdbd37ab8f",
      "dd119c227329446897daef8d450b007a",
      "00314db08608464bb1744f371da6f05d",
      "711966531a3440c0ac475ebcb8bfd448",
      "1bc350f357824e26a4b5d3a27b24bbe3",
      "cb747fa92a10474bb41220fb0e4b23eb",
      "9167add34c4142118e85196e89d5ba8c",
      "09dd1ca8fe14460199e5735579f312dd",
      "47619bfe9be14126b3a64d689b35dabd",
      "d7106a30fd8942b8b93878cfdf18e02f",
      "790730526e4242cb98598341ef78e39b",
      "e26e6a6368d34d3dae79fe8b78910103",
      "0acdbc3e6ee64b539fb682e884f6d175",
      "0c6fff39d67a46338142dd6148ad4539",
      "73f48406aede4a02be6e610fcd023613",
      "34d20bfca15847289822e65ebad6c709",
      "e18b7e2f2c124cf9846aef7e8cedd84a",
      "5e910b228d954d939cf0dd2b5c91aba3",
      "7f400c0ce44b4c7aa286e0b1967fc043",
      "22b2afc34e8b4683a35af76bf8d7d57a",
      "734cf2d280754c858eb6040a119cdb19",
      "18fcb1e8f61c408ca4b09599715052b6",
      "561de5245a8b4dce979a93a2d070974a",
      "19cd36e6ea2f425e83d2f2a9bc85d6c3",
      "9531ff80ab35419eb60e21d0770f4b9b",
      "b089750f748a4ca3bcc35fe3ac4e3de7",
      "1b7b6d55d6204ca7976f24d41fcfed8b",
      "25eae7c4b7ea40c1810b193de6ce0788",
      "affe30f4b9584524bf70e239822fa348",
      "dd6d90ad184c43c5b38b605f1847e2ec",
      "dce8267379114558994948ec2d00f07c",
      "7a3bcfb2ba4b4ab7bd6a3dd6d44e257e",
      "6dbf02fb0d3445159910fab3a133becb",
      "b666a1cefc0e493297123b9751acccab",
      "0b4c0f1fe7a745419aedef4837af340f",
      "8ec09cc4695b4ffcb0b4fe1ea5da15be",
      "42de96e6738f403aae2e008efcd9c089",
      "a4c2974a25d04ddb9231c90585c43087",
      "355d824ff4444eb3bed0aa871b10d6dc",
      "92624f7572e34a7e9029e463661185b8",
      "7b9444d7b7304b6184b01b9987a381b9",
      "67f7d97d915e40bdac654026233ed993",
      "6e3a9335e94b4673bf00c69906daba05",
      "1f7c807d97c84d08a3a832234fe8d4fc",
      "12f0e608377a40229843c59da2fd65fe",
      "d8e79099ddd94770990f30690a6c186b",
      "cb3a99063e38494ea794bf18babff34d",
      "a7df3c7586e14c999820c08fe660b283",
      "bad033a86e7b45f58f3413def487692f",
      "c09f97a2eb7848e28e06a996772b46d8",
      "0b061dcab136403b9948bd2625a3b2cd",
      "feecc4ba72c64442a85708ceac58e144",
      "6a07ab5ed3cd4842accb79cfa94cf798",
      "1935e270d6ff48f685248e5de38aa1ce",
      "8046354ac8b8433cb008c7a5c9718c8f",
      "a7fb51e9b76f4aa68ba510cb581a4f30",
      "da789c41fda24b3eb6f7359453bb0588",
      "d39bff1f74a847559bfce64e94904b8e",
      "a74d4512b4b442c28dd32a7ed6727e5f",
      "78ea4a69b70c45b8b267aa7f61bb4b9e",
      "65c50d36b66d4fe7a80bc58643b52b20",
      "4c9e0c7f4c394f20bed064d4c5c6d083",
      "dfedf7892bdb4b06bc34709fa5e30ffc",
      "c8ac55dfbc5b4896bfff1b5b9f9b1603",
      "fdaec2b4d46f457ca351dc8538a6955f",
      "7c62be2668d048d3b9a52df860926a85",
      "21169ddea4404e0e941ea8ec4fe7b701",
      "e526942c87e74510b5cc0fae17528085",
      "196b881009484bf7809bf0904feb13fe",
      "824c1bae084846bdb62126a9c73ae0e4",
      "421fae9a1f0f4e64805c6735171b6ea4",
      "5ca6af4f174a4f39bd07355362fc9512",
      "5ed253806d3d4f4896b89dd88489cfed",
      "6102590eb39d4335a25fb193b0f48da6",
      "fc2d5819455b4daba2772a7a715b50d5",
      "14ede27c0e844385b4ae6d92b54f1d35",
      "fe1e0648930445e994fcdc78d391baa6",
      "64ad777ddd284373adaba2cd343deaeb",
      "a7a2adaca0b4448bb9ac2896c4b47e43",
      "45805ac0628144c4ac1e6532832735eb",
      "bc85c47cdda542bca7a57c325fc4599c",
      "c854a5e1cc8d4f4d8cc28096a8fe8c89",
      "cc7e82a0f8a04957aae0450f895b8ddf",
      "d50249cf9d0f4767a4aadfeed522769d",
      "7a428b057c0046e19985426b88d391ca",
      "29c36ab26a4f462a8f56334e9324aa74",
      "71c42774cec5401983d240781eb0f505",
      "db8c1ae0e59546ec9a99fc4b0199cab3",
      "451422a8254c47899790ca67dbe6407f",
      "87c707beb0a34fd4882ad54f3fd94e2d",
      "9730e9adcc10418ba69042c6957e88c1",
      "18df2c786dd441b5952cb980f0ae9430",
      "87c2c34c47334283b23c43b357e09882"
     ]
    },
    "id": "WOe59Icm3_dK",
    "outputId": "c42bc212-8269-421b-cfcc-1de38d6aebdd"
   },
   "outputs": [
    {
     "data": {
      "application/vnd.jupyter.widget-view+json": {
       "model_id": "cdc9350be52449c9b7e477cc56fc38e4",
       "version_major": 2,
       "version_minor": 0
      },
      "text/plain": [
       "HTML(value='\\n        <style>\\n\\n        .left-label {\\n            width: 30%;\\n        }\\n\\n        .card-pa…"
      ]
     },
     "metadata": {},
     "output_type": "display_data"
    },
    {
     "data": {
      "application/javascript": [
       "\n",
       "        IPython.OutputArea.prototype._should_scroll = function(lines) {\n",
       "            return false;\n",
       "        }"
      ],
      "text/plain": [
       "<IPython.core.display.Javascript object>"
      ]
     },
     "metadata": {},
     "output_type": "display_data"
    },
    {
     "data": {
      "text/html": [
       "<link rel=\"stylesheet\" href=\"https://stackpath.bootstrapcdn.com/font-awesome/4.7.0/css/font-awesome.min.css\"> "
      ],
      "text/plain": [
       "<IPython.core.display.HTML object>"
      ]
     },
     "metadata": {},
     "output_type": "display_data"
    },
    {
     "data": {
      "application/vnd.jupyter.widget-view+json": {
       "model_id": "d0949f37a92e4849a1273b2a4c578dd4",
       "version_major": 2,
       "version_minor": 0
      },
      "text/plain": [
       "VBox(children=(Box(children=(Box(children=(HTML(value=\"<h4 style='margin: 10px 0px;'>Choose Model</h4>\"), Box(…"
      ]
     },
     "metadata": {},
     "output_type": "display_data"
    }
   ],
   "source": [
    "# Choose GLM with default settings, click run; \n",
    "# When training is finished, register the model.\n",
    "exp.model_train()"
   ]
  },
  {
   "cell_type": "markdown",
   "metadata": {
    "id": "Lu3mpYH33_dK"
   },
   "source": [
    "## Stage 4. Fairness Testing"
   ]
  },
  {
   "cell_type": "markdown",
   "metadata": {
    "id": "rI7GgL74uOVR"
   },
   "source": [
    "Procudures:\n",
    "- First select a registered model, say GLM.\n",
    "\n",
    "- Then, in the Group Setting Panel:\n",
    "  - Set Add Category=\"Gender\", Select \"1.0\" in reference; Select \"0.0\" in protected; Click on Add Button.\n",
    "  - Set Add Category=\"Race\", Select \"1.0\" in reference; Select \"0.0\" in protected; Click on Add Button. \n",
    "\n",
    "- Then Switch to the Metrics Panel:\n",
    "  - Select a metric (default to AIR); Select the Favorable Threshold and Class for cutting the predicted response as favored or unfavored.\n",
    "\n",
    "- Then Switch to Segmented Metrics:\n",
    "  - Select the segment feature; Select the number of bins if it is a numerical feature; otherwise, it will be segmented automatically using its classes.\n",
    "\n",
    "- Then Switch to Thresholding:\n",
    "   - Select a fairness metric (default to AIR); Select a performance metric (default to ACC); Select the Favorable Threshold and Class for cutting the predicted response as favored or unfavored. Red dashed line shows the threshold."
   ]
  },
  {
   "cell_type": "code",
   "execution_count": 7,
   "metadata": {
    "colab": {
     "base_uri": "https://localhost:8080/",
     "height": 399,
     "referenced_widgets": [
      "c84234641b2345b1aa9e457ecac65fcd",
      "4008638659e643b185ff5eb869a63edd",
      "24ad5236b67a403dbfe28275de8c1e65",
      "3205364b797b4c309c004af441a92027",
      "3ebc53e639f14d4e904c93926ae3f9c0",
      "fde6b9cdeaaa478c85b3ecffbbb63fb5",
      "2d15ed96191b456c8f32252973dc70dc",
      "10706776befa4d81b47da9cbffba367e",
      "585f45d292fe4d14b52d474c4212d677",
      "fb90c2eb0cff434aa17b0a2afd2e9fb4",
      "26a4d5a708a64c7bb4c659c8634d6e2d",
      "b32965b18625450a92744f2db6f8b2ce",
      "4f1c8d97e22641cc8b287a8080948785",
      "b1f714e79a8c464da523a6fc6c207457",
      "6e1e09b265c547b9b28d616236af9980",
      "d97f2e0e0cde4f6889fa19bf6116488a",
      "976cee40e70940878d1ef8904fddc9fc",
      "c9eb0829a3dd47348207faee994cb300",
      "606402c2a93e4a74a9c6c0f82820cb75",
      "4db1b75fec6a4e31aea697c840271371",
      "67e5cb3df71f4d8eb57f0621512d7f17",
      "baa29c8a96a24ee5b03500b114f6730b",
      "e5534e8a8ff14f94a7cf27c33335b0b3",
      "4e2cdb5d166244a7b4bd5f045e3ab099",
      "e0e01068dddc4a31bb0089b5be36d0ff",
      "daa97237edf247cba43c46cad56450d4",
      "213e832fabe240beba5e1f23e404acec",
      "b121c1b458534ef598ed637076e1c08e",
      "3c37e0da160b4bae9963059cf7c627c2",
      "6ad87ad6ef064bd8b79072e5f312734f",
      "321c413e1c2944faa66edb26b4e0a865",
      "ea4d64cb74a54d95b0956afc24c34fd9",
      "aa541f74b3d84bc2a00127dd1fe4dd15",
      "ba14b95ec8d748b39234be5164c8bc19",
      "b4972efee27b49a9b2428cf690572404",
      "c40fb44a25f64be5b18af37fc02ca98f",
      "3973bb8130744c37b9ea946a55eb4604",
      "e7b8439d9efb4690aa3abf7e2d26d93b",
      "fab6f8e377454b8eafcf7d1c1276605a",
      "dcaa0c61fdfe43e2a8d71ee30127aaad",
      "555e0b93fab84d46baa31b3d5bb088a4",
      "e6793ff4bf604867a5057be09db4759e",
      "a1e212082fa74a0eaccb746a050a4092",
      "7ddf9866bd40436c99f76fcabd93c619",
      "3f8f98f258f9466695f03f72f1ed9c2e",
      "99c23519b8ca4e828ae762f4c77261ee",
      "6a60899e4b6d4b23942c6b2cc2dc6d01",
      "1a5f2e732a7d40a7b8d24eef4b4e6084",
      "38c27894c03b49bc9cf9d38a755ee8ac",
      "45d50f306e0b4be2b7be9cb54bd7a51b",
      "2cc42fbeaa7f4910b77a9334b0a16576",
      "c36b2a6a90784bfd88b0c8bb4349b706",
      "8c272fb76ffa4a42a0d68e08fbaa54b7",
      "c01b93cb2b594d6cadfd803bd360fc0a",
      "d9eb44f5bcc042efacfbd013e0eb13cd",
      "9cac4f93d7ed41bfb70b145ea9db563d",
      "3b52a8bbe57f434cb3e88cd91ef05a5a",
      "cc1fd553b9534e978a31359a66cdba5d",
      "3aefd020fc554e0c85849106ad8e5af7",
      "b502e89960644c498a56ab494ab12e6f",
      "86cd9f2b64a94194bbb360fa78617119",
      "a0bbe7c24cb644448004d8c88b7910cc",
      "6c08854727784655b8b573b8d29420ba",
      "5e22a365d71c45ab9ee51955c163b176",
      "ed4f868760e94902a1f2614e303c33f0",
      "a2bf5a33471a4d3ca2946a8c8d7a086e",
      "f92e6d6471034da4aca54c54c12ddcd0",
      "48f759c386004cdba997a8c16987d78d",
      "5421aa9803b7480eb07f371064782187",
      "c9e0d1ee5df54d669e7b4e56ffab0178",
      "a88ea218ea7c4a81bdf9f5fc015469a7",
      "d897159333ea4bb89619e2af00e7b122",
      "a9421f7ebf4e43ddba586df9e32110bd",
      "981c728f10ae40bab43db8b1c80b0419",
      "4d57676e4e1c49fda05604e69c515bb0",
      "8621ffae12a344fca645a4e5cc97e056",
      "2949d0315a624c1ba96ce64f0a2ff362",
      "df84409bae614f37afa371fa7a8b4c3f",
      "bed3234fd79944308fcff7f3d72bd11f",
      "26379d97505243d6bde2140e22b55dad",
      "5327d7026226412eace13bec481b2c33",
      "ef789b85e2d44a039b6dd648795a07b4",
      "3e5eba42bec546c187f38369c3138cd3",
      "be4f90aa91e34358b323f96ad12b195f",
      "8c058d2bc7714f15a0d7470aadf2e59c",
      "07a17b52df8d478bb9b5af9a50f961f1",
      "b82d23b48acf4922a473798f84f715c8",
      "9e81c885ad7649a18618e7614cf0b2e9",
      "f10583feb40846c7b926e53d20b3a29a",
      "e496d3e15d1d404fb47257249caf3c70",
      "b7c103656dfd4891a010da54bf7f8c8c",
      "72cd026359df499e80d360f0a53e0a33",
      "97ebdbdf32ce4ff2a0a65577b1e740a1",
      "978fc3e6a32d4fd6a26596ec5770202d",
      "0f79b214627b4c57843524a0027fd1ca",
      "57ba3a6476ae41a0a7ae372f8486dc9e",
      "33b7394246c54f7aae12da64d7426530",
      "a6766b357ca8477eb5d3ff51cb83f796",
      "c37b633a9a4146a58d310329d8acc680",
      "5a80593554e343d98261d7d6e39f8441",
      "e55c8c6b7fc14dba978cf546f0bce665",
      "dc7468d95b3e4d1c8e3d2f0b95b06fb9",
      "06c0d8faaed9494093fe359d2e0821e0",
      "afa207d78d99413d8b81b7994d50fc5a",
      "9e1bd45f0af44d9da0b088a15d1d7208",
      "a6a47c1bbb70430bbc29cff9159b3aef",
      "fb0d29c56c2e47f9b68096b3eec3b7d9",
      "ba087ccc34734238b4fe5a2caea35d97",
      "32aa501eb36b4452962d5e1526b315c4",
      "0ceea1ceacc4444fb0e1e1552fca3665",
      "438fec7b753347d184290ccf553674e7",
      "b1be1bd925ac4db48d58e8d8ea036cba",
      "97fd76dc39d04f8fb6c6dcf674bf6466",
      "bf33375757ed49b89619808d5eef2c1a",
      "b3063d226ade47d59ef9801e6da48ae4",
      "9fb59874f6f84104bb44c9a63ddae5b5",
      "364a87be545140eea9eef046b7bf996a",
      "bde4d132f6fc483f9398899e71f9e7d7",
      "73bfbb559b874ce192d7a6bcab2a6af2",
      "a5b38d0645724fcd924e1fcface3ab37",
      "87e0c5f2fd8541868bed71a58bb2c8d3",
      "d6beee1486544f1bb589745bb49c6032",
      "303ea986ef1b49e29b2eca766535feaa",
      "5316b104647b42e0a0309cab7266226e",
      "cd526a79bf054461829242c69b391b6d",
      "9b9db38f9a1e4ae5a25cb5782407d4be",
      "84fcd299f34948b8b0785f6d4f922594",
      "5a9d0baf31cf45139adabf722cc24da5",
      "b884ac0f903e4035b3230fbf78e3b8d7",
      "2947fa37bb3b459b863fc81f51f9dfac",
      "9fd9e21e2952428294ff87439d5b0502",
      "2b1265079f324225b80d8784c5d40a3c",
      "bb333c65a9d143f7b530e69fcec07ecd",
      "e7694f49458d4d879a71ea6a9829d558",
      "376d7e98836942dda075b391c6b770d9",
      "56caefe9b6c648a9b042b648aa931b22",
      "1ac4a20dfeb84ce59741036445024132",
      "e69aeb5ee3ac4b5dbf2658dfe2a9523f",
      "d5b9aa10a96e4c509d8e32a5b4d1d901",
      "d39dd587a7db4e0b93122e3aadb9bca2",
      "6d8fc7f085ff40eaba639cdd71f2e43c",
      "d62b1a2cb0e843d2885a3bc7df88b7a4",
      "2f1603740a22477caae2642c467a7bd8",
      "d53b5c1cf27f4b478e2a490534fdc545",
      "96ca51c330e94e9daaa7802e9fa9827c",
      "24c73fac6e604fa0ac80fd12dd3554dd",
      "cd7b99c31a7f4b6f851e2526d17d95a2",
      "baeda83bfd8047a1af75b899cf72ab33",
      "80df814195f04443bfa1f8ab965933f9",
      "44efad77d55948bf9e7ef5aa87a395b8",
      "b31a3e0be0d54b07857d2a3369351895",
      "9d2d006faeae40ac85345ecca18e1877",
      "e6883bbff7144070bdc9667acab3824e",
      "6928ff8004614e3d8522df1f6bb18c56",
      "33feb822153245c39b2f08abb864448e",
      "f8f4296635984c77bbb8c7435eece1e9",
      "3dd68e73073b4bafb03a27dc47541767",
      "73a22679e8e64f0a94d080f828582117",
      "77e256d376494b31ae4a810853fe69a0",
      "5bea763998af4ccd8e3e5c5e15a4129e",
      "247828a808aa47899cbf730f1230c681",
      "d9134e08b0764ab49387675d9c55c38b",
      "7432a655fa414cd48b5f0ed886370eea",
      "071dc825a4044872a229eb497d5ed255",
      "e9a932fd726f4b26a99bb6f1eeaa0174",
      "f39e22db03c441d4a574e45bde20ca9d",
      "8b2f6c0df8b4490ca6fc1b6b95da7225",
      "49328e99187e4a77aab22d76a735a560",
      "7806914532ac42d886e54bb7875cbee6",
      "c132ac62dafe4989be9a26fce5e20e80",
      "e41d9d5ede374f32af7188b5e13f48d5",
      "75bc7c75bbdf4624aa4412e3656856c7",
      "b82f614e1c854de7b725894f67d3e624",
      "54c8f75962ab4982bd9b41b5aea2a2f8",
      "949c93f7623347d79215895b131a477e",
      "cad3077ec77e468987d813139e954c3c",
      "31109ae2037c4985a5ecad0152a137f1",
      "8cc41e976b504d5a8615322616fd4954",
      "65825ce8fefb41eb972f8619f63981da",
      "19c7f4a922354c2ebe67285df62bc922",
      "b8bf50d499e4457b8d8cceb810afff24",
      "edbbfe5ffdbd4f2086d27d5f47c2a5ae",
      "5726344cc5064537a5fea8214a294790",
      "fae117c75ab14a4dbcb07b671d3fe202",
      "1212496279a741bf806a23066a1965da",
      "88ee358a97734259b8a0f010b6aa763e",
      "a98a5fd183274c439bd10dc0a1a874cc",
      "f9cce28982b2427dbfaf21883d0efb15",
      "0059ba3162044d7783c2e9fb0f2dd6a3",
      "f81ec65a3dbb415ab40e6665dff81c5e",
      "7426929bc37e4b159cc1c360832ad55a",
      "85dcd2906df24806badc6e0ea389c0fb",
      "bc93af26e31c4d869c5a921ccad7286d",
      "cce76cdd071f4215ae7b390bdbd87725",
      "25f17c62817849d5a0082f1219829372",
      "73dcdbc70ea14be0a7ad1dd63e622416",
      "177a0d4974384a529c64268781f81005",
      "4de230f7fc4040868b1cb8f4d784ff1a",
      "693c33e4cbb2460191fe3454ed243213",
      "e99ed5f5a7e5414b9a599ed2ba2b00ca",
      "d06782222794432f80d5427b0c0074fd",
      "996a6580c7614686b72bd70bacf853a1",
      "6d77c3f4098e4b9099c9828b6e506e57",
      "b93c3122398d44418fb70d31405ab4c5",
      "db081ff2f8df4c699b741840162a850f",
      "aa65b3468ffd4ad3b56ffa73129226fc",
      "66327d9f1d0e4132bb967becb8c66f8f",
      "dc078590095148c0b78939255387e26e",
      "5e6cfc999a284782925dd0f47364aee8",
      "2bc55eb3d3c84940a7a55a85ed34c848",
      "89aac54208c24457a77b9d646aa07c91",
      "edddb691cba2423dbf2210c80daddd6f",
      "48f44f511b73429183a0033a4965561a",
      "8481cb27f9c74d0ca9591e84b445c3d6",
      "9b0e6b9d5f824f239ac7cb445776782d",
      "493f6e82a5eb4fccac2ce62009789b8e",
      "ec3634604e9342c88be3bb3c2ebe0ca0",
      "0a7ac296b0fd4038bbed02e6095f99f6",
      "2917570490a745acae60717791bf40ba",
      "97718f9ce19846c099dfd77cd8d63c41",
      "0803a27e57d840109fddd097a9ef1216",
      "2ac77fdeef464abdbfcb428c4fa721b8",
      "2ae2f4cb662a49baaf99400eef8fc70d",
      "8f764ee1b367436eb206cbdd00a6dc8e",
      "80650bda16f14eb8ba7da08698f43f50",
      "224759330a9e41bfb07c056b9c6cdc33",
      "c8af426480f8492386fb2174233b0fa0",
      "952bbf3d45ed478caf8f2964b03949b7",
      "d45915dd046d4c92ac2e0fd202d5716b",
      "4851139231de49e7a3355b49c5464e72",
      "693f71f410fb4ad0b219e07c83c5f058",
      "8b92695f7b754eb7b5bdebc7b285a489",
      "d63bfe9dd4694e67b9b9b47789efb555",
      "9399d5183a3742d59f0ba1a0a8152fde",
      "be1459c725fc4ccdaec7c738ddaa4340",
      "b37080b6df1d402f9e592dda3850155a",
      "9bc4bae3e2ea4e008182b9664e4ad994",
      "b3667b654e404fe29330d3ab7163a9f0",
      "c1c6e24f57514a0185abc3f8ddd09ca6",
      "d909a871043f403faaeaa7dbe08e049d",
      "bf17558e0e914a0ab27fd0dae71cc3b8",
      "029484401e3249faa6fc7ee38565afba",
      "06e85ed52cf24aa29f84cf1b03930f48",
      "e9e1927d55794ca18be5790e63aba587",
      "bee1158dd93744e9adba21c035e03d8f",
      "5536bd54699b41c2a25fd84720cbda86",
      "ee41ed531e7f44ae8d34ae9fd4b3ee81",
      "6904b39be6e6482897de096802e5e0fd",
      "a8e0298c0f694445b9ce9bf87f52e15d",
      "0ba09e66f435474dba6e28f022f7f229",
      "a7dfb49bd4c445e28c6e490b5663bdd0",
      "2f41c4bf4d2d45ba8abc2748b198ff1c",
      "fdaf867284404ed38ab41de44609b75f",
      "7054649ea59b4044a771b19d008e267e",
      "d9d0923e9a414abea66914f05e42399b",
      "3327f995f49a4f57bc8d555e50394def",
      "97a0f364fd6642218e5954edbc23cf69",
      "a147b98addb54e1a97accb86920e92d2",
      "1c58175e846a4332b41c93a3ab1dcbd4",
      "591632ee2cdd497da0803ba00ddb0549",
      "9911c711fcee4c53996d969ae6ee24cc",
      "d3eca2d6d011446fb902f59471d48f5b",
      "2519b795da404250a42267ffaf84ffd3",
      "a13e485927124308b525cab43d8089ba",
      "3c48688fdcb247e1b080c5edb4117221",
      "3786d6c058f3445c9bc77162b0e58a36",
      "7e8338b532a4429980fd596f48817a77",
      "65d7ab6b57d547a7a033a832c549b1e2",
      "f8379ded0c42470aac50a59cfe0922b5",
      "81b390ce9961467d9ec7882ccfa9a136",
      "29fe25532a064a02bc3a4d00724251a2",
      "e29327fc4c1341d4b94f935e0fb91205",
      "1c111ec58dd147f68b647d5c0424b40f",
      "ea5399a0ea5a44f49c86fac85b3a7a27",
      "b07596c608f548dca0104ec9bd6f8868",
      "7e5343e95c0347c7acbfb6e5522cd0b2",
      "2f1f83923ef94854af98fc97461bd11e",
      "60e89294532b42f68001815bb65f6a83",
      "0316f86f9afa40618481bf4d620d06a2",
      "4b5f72d2090a4e07a8b5974061fd2f58",
      "9dd64e8b27d84b71ae536fff7f69498c",
      "a250072d0ccd4c758201ec2583fcb50d",
      "1f8e8f4df14f4d459161bf34983bb8aa",
      "e7daa27b3bb244bfa74d08ae7d97f522",
      "826128e5ff62453e886edb2381a75e3b",
      "01fd8d6259074e129d72a163cd3586ca",
      "85a2071765664dc3a3b666c20b8e4f24",
      "f68189f82279489ebbc415c9d3d578bc",
      "e3aecfe235f4464793ccc5b87de65289",
      "45633316052349f9a16464c4b03bf2a0",
      "759c6828c8f042f788a017187a5b49b5",
      "7bf6a6854a07446bb3a715522838d035",
      "a206bd33bc07461ba1450782f773e669",
      "491bcaaf8fda40069fc36a9663ff3e3f",
      "683e8a6c8cfd4bdcb6ed79fe0330a581",
      "6d0c2aa3e42e45d3a20e4079e9dfc012",
      "04c4278523a044c590c5421455ed7e9a",
      "944d43ed33b44289b934df35ec5c2fdf",
      "5b158f2aa16b4c6388385ef65527feab",
      "b215098f589145a3b1ee6f53017c6a8f",
      "e50f29adcd9f49d2bb1acef0e813142a",
      "29e9375ec2684581b49a70c7316e006f",
      "dee6d1df575c4294bf953d23ae8c2ee4",
      "f351043920e345d3a86c15ba8699e183",
      "9293e7ab2e8e43dd9bae436db10c12c4",
      "bdc31af8addc4fc9a78ca8271c2c9128",
      "dac7116f77dd4b15a749de2c0a316a23",
      "7e25255b92124fa299032819e597a90b",
      "2178e37692c4481fabb35d19944c4837",
      "5006543ca0d3494c950ca1aaaab2d002",
      "8d127a499fe343b2aff19ac3b788af04",
      "755e3f9ebb7e4d0187056feb633af752",
      "a9c9fe8c267845fc9ecc94ab8ee6fad2",
      "57c5617425b44a3cb251ca0132808ce9",
      "39f9fdacb0f94117b5e5462661301c91",
      "5fc2e373d52e48f2b8777b8fa7f95adb",
      "be6284ef17454c6099ef7b4b91ebb03d",
      "63dfbc78629a4eaf8029fb6c64e69660",
      "ddbc98748ab2420086a2709eb28acc35",
      "3bcb45e50b2449569f3d4074e1ca1905",
      "68cbf98f64584782b10198afb3c67ec0",
      "7af2d6bfab65433cad11be7fa5f35233",
      "d978fabd5b394a5eb53853fad21361c9",
      "60697c6d1d2e4059b97af5fa544e2e6b",
      "2d84ac8da26b48f28389ecc25163ec51",
      "ddd8b898b1734b8ba25b11182658640b",
      "80ed6341c9254d3dbcb08ed27e8c583c",
      "e65cd4c9c043418bb526460c6cd66efe",
      "373eb240c99a4e80ad5bd6406c0f1455",
      "af330a6d7bd2403f9d66ca122764a191",
      "11cf40e49eca421b81e23df917578af3",
      "f3be5b8bccb64591b26dea94715862ba",
      "c96a64d69c694c2e8392e32fc514e3d6",
      "ebf59445d0004463add5e14c72314705",
      "bf12591c5788459faa7aced3e30a25b2",
      "c0fcba4196c04a329ad18121c57ad4f6",
      "533668308b8b4cc09b3da9869a0727c9",
      "230df614b6e74f689c8bac99fc7181c5",
      "4ca70884d011418ba5861f9ed1151b6f",
      "840e48e5823340b5ba123da44851e30f",
      "a53901f24c4b4967b56a7506baf7ab77",
      "30852db149a24fd893463439636a5fda",
      "bf2fd1c5a7be4bb2a1c8cd0566b6c476",
      "6fa1f6b6ff5547529afb18af87efb168",
      "334eaa429a6049d8966d903bd2b2085e",
      "03189313523d4318b3f972e39281782e",
      "a8c000f512744ddebfc41643035187d6",
      "c5a5e01aae3b4a27bec5b3b3996fa334",
      "a7f2f6a112fd4efe98559d0b4dcf2679",
      "3038444227fb424dbd01d774d8ee3833",
      "93076c805ae3450ca920a0aab6fbe2f9",
      "06da1ce5b42c48478b5b1bac222fc3b6",
      "45c9bc3790f94ee0994cc7a09c6315e2",
      "b7b51121ff9f4a929b2e9d8a3ddf89df",
      "cc8faf2367334145afab3a1e4fa5372b",
      "240b0094c8754c01bdec8e0be936c4e7",
      "bb7227959d2a476cac3425bfad7597fd",
      "9e96e5b9646049959058ebbbb601c6ae",
      "2b1c22ba04954d2c9fb9e4cb2bf2f6ed",
      "51329f435ae54ba59371b5f93f84f1d7",
      "d9feb9e83b1447a49497a83d610f9129",
      "391d2412c639431fa3eacdc1bcd2e3ea",
      "3ba77ad9dc9b4459ac9da847a7cce12e",
      "9703f3fec2e54f1693874a95c2e03c41",
      "14d473bdff4e47d8b3e0fdb2d81582dd",
      "e61adc4a08cb46c9a8c3bd0a59f45844",
      "e36a9bb242eb493ea53def4d328df981",
      "4b1399c657f64d39a8b79f4f443ab565",
      "ba1a88e5f5514098b65746b6c992c17e",
      "856f4b47fa754330ad7d1de1e6e9df85",
      "5d635789f9de43639e0a304a82e7419d",
      "ee9ec20867124ebf811e7c953c6bc271",
      "7eca087162d2475090322ef753c2a135",
      "01efa457637d44ed9c4931bda99d5807",
      "b339939c3e394550acb0a2f8b40403be",
      "219672bab10e4b2291283ed095948632",
      "b198d41ba640484e920ef3b01f2d6e3e",
      "b60bbd10659c49ca9c80fe57f98f04e0",
      "e8b9001e7c664fcc9bc6df36ee945d47",
      "a9027eccc27d48d2bb206abd09d0b1cb",
      "017666d0d6d041d4a73a42a502f60cbb",
      "af903d7b7aa94d67950adfae97a88aa6",
      "40ebef07f7344fcea1ccd6147f2d3dc9",
      "33a77fd5df94434ab35fe4de1822372a",
      "c6714b1852b24c51bdc111fc142869e4",
      "bd587313b71c4b6991e6f2a86afc461b",
      "1dd3e69f207e4c87bfd57335dbc86720",
      "2e63c40a915f49eab93925bb3750037e",
      "737cfbd0cf814074b239dbe61e2a087d",
      "5066b76b9a174d5d84202fa2196c1967",
      "fe24e5a36b064c708996c8b89bb23d91",
      "8df8a011f3fd4f9e9e072b10e1e81eb7",
      "088dad14b6fa495cb7ec25f0b42a6932",
      "b3148d7e39b4456caafeee6cdbcca7df",
      "2246dd657a964939a6aced2e25afac22",
      "064da575b2434200bdcf20cb4c353d4c",
      "78eb14538860468888078bb1c49ba206",
      "e0318ba380664241a59cc63e6fa4e177",
      "b5abe8aeb0df4c7392ffd4389d245dfd",
      "959f09c157534d26bacf90f066ff330d",
      "354c71af945547fb84713ed350218acd",
      "c67400aa3012426cb0914c751c08ce94",
      "97f368cfa03f440192b02829d2d835a2",
      "708164b957bd4bab8ba94c3b8aca6b4a",
      "1101998fae644fc99fdfb92bf10555f7",
      "529514eaaa994ef39e4a1d8ab9611b0a",
      "ac345c5209e441b2b058d03b76887cad",
      "9bbe89f8a4fe4fc8a41e8f5b43a88e73",
      "12d86a91fc88454bb990fbb08811f170",
      "c7de070aca104d47be1dd71ae97586cf",
      "ee8404e6e80c47839bd6438874f8544c",
      "45ec34191b734972b44583d218912e93",
      "0c4171f53069438a8e47e8c8b0411acc",
      "70956089feae4f6daa75221743fab3c8",
      "fa1f07c8df934c17bb97820b31cd6bd1",
      "64b583adb734435abcfc9fb96bb95f8a",
      "6bf39d82ee0e4351bf5b70d2043a6d8f",
      "5dea1dd3e2174660acce0fac7c9f16d8",
      "3a71ec2877ee4aeab10b5376b94a0fbd",
      "6c316fabdae04987a7665fc14942280d",
      "009ecce4227e4f229befab136a7511cf",
      "f54c8aeb34cf44a384b398f943e8b855",
      "0da314652b5c451eb34d8c7a87f1c8df",
      "487f97442d074ebca5a4e7a2efbfd266",
      "a1b31501ce94463ab990ee6fcbd8148d",
      "24c931ad17394a5eb6bdfb2a150741d2",
      "2bc973f0d56b45a78d1812fb866a897c",
      "9bad2dfcd09840e7b27055189cf4d702",
      "ab5a004908884d0dba011e17da2741bd",
      "bf1bf53b7a0747a390e1d0c81f7aa8b0",
      "6cccfbd588b440b1acd90e9435897433",
      "5a951a2d053445bfb77fe1874c6b5ec1",
      "64c772c847064b65887f54095a7e65d9",
      "b2d7cbb8a07a433ebc57a672c5c66d7f",
      "2c6f480234874386b5b76d4eda6230d8",
      "f0cd0d42988c4e53a43ba8c6be44687b",
      "a08580c723dd46b39e18f680b7a110f9",
      "6b058ef29a704f04855e3a55c6e9e489",
      "7b5f626ce35d480f92a2120c259995ce",
      "fc2ba08737c3408280c57eff706f6038",
      "02cc32b102e24a238135306ef8d7b00d",
      "69fc73348845489b9cf278c61cabd843",
      "fcea6f76b8bd4797894366c4f7f2c941",
      "588954bd6d364b178c82be327aa57b2f",
      "31448b8b033245ffa5e70d4fcb458109",
      "79e490a987bd452abed00bc769954a25",
      "20ab873e27094788832223f342161b64",
      "97bf74e2a23c49abab3d09b6523ff5ab",
      "3f98a00a463f49998cad9e23f2d91981",
      "aadf93b5f22e41c28a705ee858540b29",
      "48d87c40b80e488cbdba4952150977fe",
      "d869646394374e4f93197434b5fc74f3",
      "a326bd7bee104f23a2e487e920e26a62",
      "57f5314556d94f0cb4c87af3bb2cc90c",
      "cb65751eec1f4534b144440ce4a5d7f6",
      "9c7cc69671ca4c8dbeeb4cb0906c7aec",
      "d24def49e42b4480b9bcf87002b62c9b",
      "d51042278d1c44d787001f0372984ab4",
      "3b9ba7f1217d444799549ae0adb06ccb",
      "65663cc696344254b1b3009b77d67c6a",
      "ac62551dce514deda5c44178e01b0e39",
      "bd458153f388486c9daa13512c048aae",
      "2e14f487f1a14677b979bfb497454a86",
      "6513cc1877b340f7a819716001a25ee9",
      "4cc506d54b6e42ac8444aa9e7eaa954e",
      "4d14c1aee14c453d8517109f914be0de",
      "77f02477c5634e50addb931bcee6cd3c",
      "55950874cb4748109d946196c797e847",
      "5af597a9c32a4754ad49ddadc040635f",
      "6ba893b9cf0948b2a1cb16de7d6c9782",
      "b0460b59e63244f882b03dcd26ce562c",
      "8498af2bb8fa4808be9aeef853b6d0d3",
      "0058d5f98ba445619001bcacdeae02b7",
      "65669278b89a4bad80751466e47ada2b",
      "c9345f54328c4e4a8f041c9d183bfc49",
      "8afdfd7afb9246d2bc3dadb553af0c9a",
      "f9ab935122e24c9cbaf84063eeb0e0ed",
      "7c39f9c2586843fbbaec2eb5e53c7d91",
      "c6869b1a72cc465685d7eb4b4206bc72",
      "0db1faee06f3404f91434a6e9be3d04d",
      "ab5673352d544de2945b94ff69ec9b54",
      "989c9adbb6494aa4bee6af5ecfc9c8a3",
      "ffd670c7c393448a87ef919c175097d0",
      "420e5e70eec546709b3eadd33175c97f",
      "8508c5ddc2204ca79d3f391938bf435f",
      "146f461d6a694d66a02ae8ced97ed576",
      "38939b56bfa247e6be74ef11d28a1223",
      "7417718283ee45a4bcbd285e4041830d",
      "9268aaf08be747d1be1461467f1215a1",
      "aec5c49fbe65406fb868d059f79bf114",
      "e3befcbf8b574b92bb454cfea647082a",
      "540fd4e2470a4921ad33d85e8f4d8940",
      "34405ddb508c432ca6af1f1f1668ac67",
      "c28fe8d9a3224c79a7eb9308d4252f1e",
      "1bc3f7c09a384549abb2541aa829f4d5",
      "74b8b79daa31401d82b4250d667d9112",
      "cc71f95f5fe74ab2a77991eb3c4854c3",
      "9763362dcf574228bb59568229486900",
      "2dfc21e5a96846bca631279f817ff290",
      "01fd1e20cc254e42a05fbe19cab02350",
      "f68273ed3a9a43dd9ce5349a3461a25d",
      "016c26f18ca7443bbe4b91afe69e4bbb",
      "ef886e9b42304688b881db5ec3b2f8eb",
      "fc5868a8e1114ef995e1744663cc6108",
      "7629d7b7eca246eeb7b5167ad229bae0",
      "257e6e015bf44c58bb4b36a87a43bd43",
      "0f99308d4c224cebbe7ccd8f237880f9",
      "34f40d7d4f2d4cdeac00a8bc58e7f17e",
      "6b2cd573866c4055841b5e1ca0f717f3",
      "ae66c857836244aa978f195512212f12",
      "cd34540864814258973523af43d81560",
      "6b2276b2142a4c949f65eb4ec601e072",
      "ec647df605b34e5da7149586f751f095",
      "8a7e295f3fb04d3ab51c9638b42e6a95",
      "b41f101eb5484c50b36e4b2fd3737c2b",
      "6ee31d2f97ad49e0bc60b548278ee707",
      "7f95f31af6ca493595d91595d022d1cb",
      "e804cbbab81948be9eace77f295598b7",
      "5edcb1fdea6741abb6a4e9ad6f80449f",
      "052298b415944b3199b3b251e04d24ed",
      "c76e4820a3264690aacdbf0071be2182",
      "6997b642f58842fe8293d5ac38b31777",
      "b8c4830ff25f4382ad0f2c0f843c7697",
      "3081d0f026624039901040cd5dd28c82",
      "c4567026fb974b63ae29f245d15a2312",
      "b2b99fbe42fb442e91fe18a947329a1a",
      "7719b90e0bfa474ca647d8306d2fde7f",
      "d775d70a5fe74424a626afc0ecf8554b",
      "482437a6be4941d28f76a732c2ec897d",
      "6306e179b07c4f3fa910a8720667c683",
      "219351df57ea4b7cbe0e4a9bb03d807c",
      "7a7bcdc7f2f94095a8ffd0dbf9be0a1c",
      "ac3123e00cc647deaaca5f3f027df7ad",
      "a42c7b3b402e4c459b027d016abbccd4",
      "f88442f6241c44e5a5ad8e2d4c4f9e02",
      "2274fd9616be402dbbbb1dce64a188a7",
      "1215e9a8fdf24234b16ca59b97037688",
      "eb5002e53a7f4b2897a018503a82865e",
      "c5364b5ae9ca49659ba7ab072c74bee3",
      "d3ca472d3ae349d0bde8bbc69c252c4f",
      "65d4666923b54e5c8ab57cf0f1dd54a8",
      "f7a06deb9d364bbda2fab22af58e62f1",
      "58a1211a64024ae29168b203f8ae6c78",
      "7fcdee2f61f84abe93782049353d9fc0",
      "933c4b043e204fdd945bd817a4c61a2c",
      "0f800adbe77b4851a292279772496926",
      "c7c28273604544e29d17ed86879f3e2e",
      "789daff4a6c046e7927e8184e20c6bd9",
      "d5c6c9c440614ee88a9170d7b9280a68",
      "9814d3c7e60b4783bfebe0080f0b3c77",
      "f62e8b1781914bf2ac0a196c60fcef56",
      "344ae4253ce642fe825a19cfc6432c8b",
      "b9d4231e7cdd45c7a2f528ebaaa8c64d",
      "b779112de09b4d248506a5df32460bb7",
      "c3ee228560f14ad98abf48da82921cb0",
      "5f0dfe233b5a468fa95555f5cca60d02",
      "f70dba4c8982486e9364a73bd8017ac4",
      "71fc37fc75f74fc09c7ad1b3c60e19d1",
      "9086d148dd8a41be833038759034d152",
      "6594df2fc8de4763a5aeecfa4243fa4d",
      "f1a8595502374c36a19e7c55cc6d5ec1",
      "d489c27cbbb8414f8e1cbfd1c3040d7a",
      "6188cab540c743aeb5775433fcdd108d",
      "8391a67919314c44b7baaffa14015636",
      "7165303659eb4b179876d7bd465f4fa7",
      "1692670749d14de3a8c99f7097aa5ab5",
      "6bdfc8279b4b4e56af404810737d5ae6",
      "6ddb3c9be069468597d535e8fda07c66",
      "f2ccb74ad60547df896795002b7306ff",
      "bceea178f22e423ba6427e40460983d5",
      "e554853060404152aad141a8e0cc4395",
      "56c2d0ba18624e7ba60dc81423d2ffce",
      "0c252ae917a54ef896296a5b054b8065",
      "c9af56bd99bc4514986ba8296da8dc26",
      "87759fa60ecb400482fc518e59fda2c1",
      "38eba3adf4f444d1869e7eea10c4533e",
      "323c03d0e56842d999beea4fbe505d5e",
      "937d7ef5582c4e25bd73a532d99bc0f0",
      "711f0f3530ee48e4934cb151a288ce12",
      "e0e323980fde4d4db7d58b5c9217687e",
      "fbec419a566a4fdea3628dc7cf1c20e2",
      "ab8e1cbde6e141d78dafc5489ed25ac5",
      "b8227a9faa7d484bbf1ef146b8d2921b",
      "c862d5123df9488e916275545a6402bf",
      "dca395d7d837478e9c01ebe723254a59",
      "cb12f4b525af4da7856123796f2c4577",
      "ca783a1ab08b47a0bd99bba1786ee27f",
      "66ef4b93385b4f958f7251fa636f877f",
      "2e360bc8857c49d4ac61e59f296c70fb",
      "ec9a8af3a1e44a028edc8a1aa04842bf",
      "cfdcad7a7c2045e4acc9ac981beac1e8",
      "dbac4d68768848f8bc469e4fbb048c94",
      "ec44ba3b3b8a4d218fd88ab31310810f",
      "d95ad6e3d9024b91a3b802ba0f596bb9",
      "b983f076854146abbe240d793ae8b9d6",
      "a175350e8e6640a5881b42e02220dd5e",
      "824542b4577640cb80c2c1463e7770c1",
      "7b849fe07ed14583a5c02e700850ecbc",
      "4d3081fbbe8c43ef989e67ce1aaf60c4",
      "2abf97ddd9e34a3db3690a973e65307d",
      "c8d02d76ee954328925ded7684b3416b",
      "9efd5b38dff14787985ffe9f9b1a4185",
      "66ac8dcc1c1a4aee8954057bca5b3ea8",
      "19e7398dd05143eab0899171347e8c82",
      "89adf61fdd47402b9edca0dbf73141b8"
     ]
    },
    "id": "e--UE4y7Zlm3",
    "outputId": "39bde8d5-c43b-4dd4-8f90-3069c45c4c8e"
   },
   "outputs": [
    {
     "data": {
      "application/vnd.jupyter.widget-view+json": {
       "model_id": "88d040c468854fc4830a5a37ec1f8bc2",
       "version_major": 2,
       "version_minor": 0
      },
      "text/plain": [
       "HTML(value='\\n        <style>\\n\\n        .left-label {\\n            width: 30%;\\n        }\\n\\n        .card-pa…"
      ]
     },
     "metadata": {},
     "output_type": "display_data"
    },
    {
     "data": {
      "application/javascript": [
       "\n",
       "        IPython.OutputArea.prototype._should_scroll = function(lines) {\n",
       "            return false;\n",
       "        }"
      ],
      "text/plain": [
       "<IPython.core.display.Javascript object>"
      ]
     },
     "metadata": {},
     "output_type": "display_data"
    },
    {
     "data": {
      "application/javascript": [
       "\n",
       "        IPython.OutputArea.prototype._should_scroll = function(lines) {\n",
       "            return false;\n",
       "        }"
      ],
      "text/plain": [
       "<IPython.core.display.Javascript object>"
      ]
     },
     "metadata": {},
     "output_type": "display_data"
    },
    {
     "data": {
      "application/vnd.jupyter.widget-view+json": {
       "model_id": "f5ff0bede5d24394abd23f409a79b495",
       "version_major": 2,
       "version_minor": 0
      },
      "text/plain": [
       "VBox(children=(HBox(children=(Dropdown(layout=Layout(width='40%'), options=('Select Model', 'GLM'), style=Desc…"
      ]
     },
     "metadata": {},
     "output_type": "display_data"
    }
   ],
   "source": [
    "exp.model_fairness()"
   ]
  },
  {
   "cell_type": "code",
   "execution_count": null,
   "metadata": {},
   "outputs": [],
   "source": []
  }
 ],
 "metadata": {
  "colab": {
   "provenance": []
  },
  "kernelspec": {
   "display_name": "Python 3 (ipykernel)",
   "language": "python",
   "name": "python3"
  },
  "language_info": {
   "codemirror_mode": {
    "name": "ipython",
    "version": 3
   },
   "file_extension": ".py",
   "mimetype": "text/x-python",
   "name": "python",
   "nbconvert_exporter": "python",
   "pygments_lexer": "ipython3",
   "version": "3.8.8"
  },
  "widgets": {
   "application/vnd.jupyter.widget-state+json": {
    "state": {
     "000cea394099460faa0dea02e3ab0edc": {
      "model_module": "@jupyter-widgets/base",
      "model_module_version": "1.2.0",
      "model_name": "LayoutModel",
      "state": {
       "width": "auto"
      }
     },
     "00394be7fc5a48caa46ad621feee5b92": {
      "model_module": "@jupyter-widgets/base",
      "model_module_version": "1.2.0",
      "model_name": "LayoutModel",
      "state": {}
     },
     "009947f6cbd64301b8eb2c318d2f27f9": {
      "model_module": "@jupyter-widgets/controls",
      "model_module_version": "1.5.0",
      "model_name": "HBoxModel",
      "state": {
       "children": [
        "IPY_MODEL_51e7339823f44763869d563743edfd71",
        "IPY_MODEL_43409b27a4db404abd8746a4caaef2f5"
       ],
       "layout": "IPY_MODEL_fe6b83ebb87e4bd1abdd81ff7119fdda"
      }
     },
     "00e55e777ae54a7797a5fc546e587ec4": {
      "model_module": "@jupyter-widgets/base",
      "model_module_version": "1.2.0",
      "model_name": "LayoutModel",
      "state": {
       "justify_content": "flex-end",
       "width": "auto"
      }
     },
     "0160f8a29fad4e56a27f4759b4e0e46d": {
      "model_module": "@jupyter-widgets/controls",
      "model_module_version": "1.5.0",
      "model_name": "ButtonStyleModel",
      "state": {}
     },
     "01b3973ca5634cd8a56bc06c4e66f2e9": {
      "model_module": "@jupyter-widgets/controls",
      "model_module_version": "1.5.0",
      "model_name": "DescriptionStyleModel",
      "state": {
       "description_width": ""
      }
     },
     "020a5b07a297494d846db1f2824500d8": {
      "model_module": "@jupyter-widgets/base",
      "model_module_version": "1.2.0",
      "model_name": "LayoutModel",
      "state": {
       "display": "flex",
       "flex_flow": "column",
       "width": "100%"
      }
     },
     "023469263e354c0796df9991b808d28e": {
      "model_module": "@jupyter-widgets/controls",
      "model_module_version": "1.5.0",
      "model_name": "HTMLModel",
      "state": {
       "layout": "IPY_MODEL_ab9e0c107e68400cbb88c4377723520f",
       "style": "IPY_MODEL_93742e786138429c82536544842cdfe4",
       "value": "<h4 style='margin-top: 5px;margin-bottom: 0px;'>Registered Model</h4>"
      }
     },
     "0240ce73723c462ea0c1f2e54bb5be79": {
      "model_module": "@jupyter-widgets/base",
      "model_module_version": "1.2.0",
      "model_name": "LayoutModel",
      "state": {}
     },
     "0244f3fa668742df9c6db50af4ee20ad": {
      "model_module": "@jupyter-widgets/controls",
      "model_module_version": "1.5.0",
      "model_name": "HBoxModel",
      "state": {
       "layout": "IPY_MODEL_1b7ae3c216e14b0ab4813e28fe05e6d6"
      }
     },
     "02455f1b34ed4d5cb543f4d929f6f766": {
      "model_module": "@jupyter-widgets/controls",
      "model_module_version": "1.5.0",
      "model_name": "DescriptionStyleModel",
      "state": {
       "description_width": "initial"
      }
     },
     "0261ebdfa65b4c2dae234dfb38affdef": {
      "model_module": "@jupyter-widgets/controls",
      "model_module_version": "1.5.0",
      "model_name": "VBoxModel",
      "state": {
       "children": [
        "IPY_MODEL_6cd32973fcac44c4b8f8bc78376e500b"
       ],
       "layout": "IPY_MODEL_475d7ac49e3d47438c60a90d1d846bdb"
      }
     },
     "02f7eea3168847bc87baac279aca9f87": {
      "model_module": "@jupyter-widgets/controls",
      "model_module_version": "1.5.0",
      "model_name": "DescriptionStyleModel",
      "state": {
       "description_width": "initial"
      }
     },
     "0320ee47ec344321bfbbcdec528db228": {
      "model_module": "@jupyter-widgets/base",
      "model_module_version": "1.2.0",
      "model_name": "LayoutModel",
      "state": {
       "width": "100%"
      }
     },
     "032769b238ac4445a5b929f3c9582b73": {
      "model_module": "@jupyter-widgets/controls",
      "model_module_version": "1.5.0",
      "model_name": "DescriptionStyleModel",
      "state": {
       "description_width": ""
      }
     },
     "03946e5ef4a145bbbb49956113aae148": {
      "model_module": "@jupyter-widgets/controls",
      "model_module_version": "1.5.0",
      "model_name": "DescriptionStyleModel",
      "state": {
       "description_width": ""
      }
     },
     "0427ceb2b4224f93a3d9c1ca2cc786fd": {
      "model_module": "@jupyter-widgets/output",
      "model_module_version": "1.0.0",
      "model_name": "OutputModel",
      "state": {
       "layout": "IPY_MODEL_2217d247d5374470b8e2c040cde24232"
      }
     },
     "043c845d1132403cb5a06628b85f866a": {
      "model_module": "@jupyter-widgets/controls",
      "model_module_version": "1.5.0",
      "model_name": "HBoxModel",
      "state": {
       "children": [
        "IPY_MODEL_16287597ce6b430ab2b3922e6f380463",
        "IPY_MODEL_6af79aac8bd44deda9f7d8948a35ced0"
       ],
       "layout": "IPY_MODEL_0aa4c89a2d894e94b7b69e07992cdaef"
      }
     },
     "045399a65c73426e9474823de47b116a": {
      "model_module": "@jupyter-widgets/controls",
      "model_module_version": "1.5.0",
      "model_name": "HTMLModel",
      "state": {
       "layout": "IPY_MODEL_15c490d74d844311bf90e3ef4a2b82be",
       "style": "IPY_MODEL_6d40c907c9a14fccb4375a1146a3356c",
       "value": "L1_regularzation:"
      }
     },
     "04f2024108e343af9ffc17e83561c05f": {
      "model_module": "@jupyter-widgets/base",
      "model_module_version": "1.2.0",
      "model_name": "LayoutModel",
      "state": {
       "width": "40%"
      }
     },
     "04f2e585d8fb4b5893a8355a9c9088e4": {
      "model_module": "@jupyter-widgets/controls",
      "model_module_version": "1.5.0",
      "model_name": "HBoxModel",
      "state": {
       "children": [
        "IPY_MODEL_9255342e11a843baaed58bdb7ad69613",
        "IPY_MODEL_3a95a8cd59084b48826fdcc3d02de12c"
       ],
       "layout": "IPY_MODEL_280af7f7a68842ca9718d8c09343e51c"
      }
     },
     "0565d1d5c2be4d8fbd42714af910d07f": {
      "model_module": "@jupyter-widgets/controls",
      "model_module_version": "1.5.0",
      "model_name": "HTMLModel",
      "state": {
       "layout": "IPY_MODEL_e34c120b7d48409b8529f0b26c9fc570",
       "style": "IPY_MODEL_dce6914f5d0b4956bc484926b176998d",
       "value": "\n        <table class='ptable striped'>\n            <thead class='pthead'>\n            </thead>\n\n            <tbody class='ptbody'>\n                <tr class='ptr'><td class='ptd'>Excluded columns</td><td class='ptd'>['Mortgage', 'Gender', 'Race']</td></tr><tr class='ptr'><td class='ptd'>Target variable</td><td class='ptd'>Approved</td></tr><tr class='ptr'><td class='ptd'>Sample weight</td><td class='ptd'>None</td></tr><tr class='ptr'><td class='ptd'>Task type</td><td class='ptd'>Classification</td></tr><tr class='ptr'><td class='ptd'>Split method</td><td class='ptd'>Random</td></tr><tr class='ptr'><td class='ptd'>Test ratio</td><td class='ptd'>0.2</td></tr><tr class='ptr'><td class='ptd'>Random state</td><td class='ptd'>0</td></tr>\n            </tbody>\n        </table>\n        "
      }
     },
     "05a47b790cb541ccbe4e05a18310e5c2": {
      "model_module": "@jupyter-widgets/controls",
      "model_module_version": "1.5.0",
      "model_name": "HBoxModel",
      "state": {
       "children": [
        "IPY_MODEL_5130a9fbaa28483ea15454bf3c1448e0",
        "IPY_MODEL_1fe5f1e9fe134d83bf50a63dfc7138c8"
       ],
       "layout": "IPY_MODEL_48cf0325452f4da9bc975987a3a771c2"
      }
     },
     "05c5b7eec0bf473eb3219038e18280a9": {
      "model_module": "@jupyter-widgets/controls",
      "model_module_version": "1.5.0",
      "model_name": "ToggleButtonsStyleModel",
      "state": {
       "button_width": "",
       "description_width": ""
      }
     },
     "0624c1c818cf49fca5e11ca5117047fa": {
      "model_module": "@jupyter-widgets/controls",
      "model_module_version": "1.5.0",
      "model_name": "DescriptionStyleModel",
      "state": {
       "description_width": ""
      }
     },
     "065293da25464f9f9ce9e8292e6efc24": {
      "model_module": "@jupyter-widgets/controls",
      "model_module_version": "1.5.0",
      "model_name": "HTMLModel",
      "state": {
       "layout": "IPY_MODEL_6893cc97b6fc4d7f8271d8f7dd8d476c",
       "style": "IPY_MODEL_664800684a924d0c9ab64073dc733cf3",
       "value": "Model name:"
      }
     },
     "0675dc7fe67d47dfa664943f983c4d5a": {
      "model_module": "@jupyter-widgets/controls",
      "model_module_version": "1.5.0",
      "model_name": "BoxModel",
      "state": {
       "_dom_classes": [
        "inner-card"
       ],
       "children": [
        "IPY_MODEL_3d3374f1c25d412cbd41d5a4dd0078f8",
        "IPY_MODEL_a6daff45418c425b80b76a3140c688c6",
        "IPY_MODEL_5413e48cc83644198bb2368e465eccd1"
       ],
       "layout": "IPY_MODEL_f383e887cfce4b7bb7aa6640ec3a617f"
      }
     },
     "06bfe09c72ee480484737e9ad882b760": {
      "model_module": "@jupyter-widgets/base",
      "model_module_version": "1.2.0",
      "model_name": "LayoutModel",
      "state": {
       "width": "100px"
      }
     },
     "07216523cb3e437fbf1ef05db461751c": {
      "model_module": "@jupyter-widgets/base",
      "model_module_version": "1.2.0",
      "model_name": "LayoutModel",
      "state": {}
     },
     "07993967dbfa4272ac3314963e8c162d": {
      "model_module": "@jupyter-widgets/controls",
      "model_module_version": "1.5.0",
      "model_name": "DescriptionStyleModel",
      "state": {
       "description_width": ""
      }
     },
     "079c73bc84d14f36b6989ddcde2c12df": {
      "model_module": "@jupyter-widgets/controls",
      "model_module_version": "1.5.0",
      "model_name": "VBoxModel",
      "state": {
       "children": [
        "IPY_MODEL_bd4606f28fd04c1ba91fb244dbd9019e",
        "IPY_MODEL_dfe9c9b36cf940f39ef56256a73a0b0d",
        "IPY_MODEL_ce319b0386414e12ae5423dd9dd4c347",
        "IPY_MODEL_9903dc4bfeeb4299826a2da87c3178c6",
        "IPY_MODEL_7a2a001bbf864c4a8bbe3fe5ce49d771",
        "IPY_MODEL_e185288101394289ae3f9dd18619f515",
        "IPY_MODEL_56a740b0b2634ad5b70f19d6286ebcb8",
        "IPY_MODEL_8dfb8093374940e1b2cd4df14bd0be07"
       ],
       "layout": "IPY_MODEL_1cb93b00100145f6b9bf75e32800584c"
      }
     },
     "07df6ea00876400c8be048a82c9ca4b7": {
      "model_module": "@jupyter-widgets/controls",
      "model_module_version": "1.5.0",
      "model_name": "DescriptionStyleModel",
      "state": {
       "description_width": "initial"
      }
     },
     "08199c375fed4006b103ff8465f731d1": {
      "model_module": "@jupyter-widgets/controls",
      "model_module_version": "1.5.0",
      "model_name": "DescriptionStyleModel",
      "state": {
       "description_width": ""
      }
     },
     "0869e1b41fc34dd2bdf7e6ae6c2d7b20": {
      "model_module": "@jupyter-widgets/base",
      "model_module_version": "1.2.0",
      "model_name": "LayoutModel",
      "state": {}
     },
     "086e3a7de3f7494987a6636764bd2573": {
      "model_module": "@jupyter-widgets/base",
      "model_module_version": "1.2.0",
      "model_name": "LayoutModel",
      "state": {
       "width": "auto"
      }
     },
     "089520d01c2d409380b9253149b1c54d": {
      "model_module": "@jupyter-widgets/controls",
      "model_module_version": "1.5.0",
      "model_name": "DescriptionStyleModel",
      "state": {
       "description_width": ""
      }
     },
     "08c19895f92a4cb483125ca90cf0d43d": {
      "model_module": "@jupyter-widgets/controls",
      "model_module_version": "1.5.0",
      "model_name": "DescriptionStyleModel",
      "state": {
       "description_width": ""
      }
     },
     "08e93a8f22d34ef1b42b33bb05a943aa": {
      "model_module": "@jupyter-widgets/base",
      "model_module_version": "1.2.0",
      "model_name": "LayoutModel",
      "state": {}
     },
     "0940b8a2ad3d4077ae6270e7b555a05d": {
      "model_module": "@jupyter-widgets/controls",
      "model_module_version": "1.5.0",
      "model_name": "DescriptionStyleModel",
      "state": {
       "description_width": "initial"
      }
     },
     "0949d9a727134d20a0bb7f168ff6db4f": {
      "model_module": "@jupyter-widgets/controls",
      "model_module_version": "1.5.0",
      "model_name": "HBoxModel",
      "state": {
       "_dom_classes": [
        "list-item"
       ],
       "children": [
        "IPY_MODEL_332edf6f07e745849b49c3e29e281aca",
        "IPY_MODEL_0f2e906b9fb14da296fd4d27b88ecd26"
       ],
       "layout": "IPY_MODEL_1031b096a6b34b848d0802f261fb7cce"
      }
     },
     "098874deef1e43569c099127fe337078": {
      "model_module": "@jupyter-widgets/base",
      "model_module_version": "1.2.0",
      "model_name": "LayoutModel",
      "state": {
       "width": "100px"
      }
     },
     "098c26a4f268413098643623577c707f": {
      "model_module": "@jupyter-widgets/controls",
      "model_module_version": "1.5.0",
      "model_name": "HTMLModel",
      "state": {
       "layout": "IPY_MODEL_0a0ef486dac24632b71ea6057c6b5c79",
       "style": "IPY_MODEL_0d65a5518c4643a7bc6f49bb2b921574",
       "value": "<h4 style='margin: 10px 0px;'>Customize Model</h4>"
      }
     },
     "09a7576e3ee442959b0602f40339d826": {
      "model_module": "@jupyter-widgets/base",
      "model_module_version": "1.2.0",
      "model_name": "LayoutModel",
      "state": {
       "width": "155px"
      }
     },
     "09eaa9f09a7e4aeba9dbd4ce68bbfd66": {
      "model_module": "@jupyter-widgets/controls",
      "model_module_version": "1.5.0",
      "model_name": "VBoxModel",
      "state": {
       "children": [
        "IPY_MODEL_7932d2f7f3c543a6bd88c9b21439859c"
       ],
       "layout": "IPY_MODEL_e3a62ccb8ea740a29877f194e15f194c"
      }
     },
     "0a0ef486dac24632b71ea6057c6b5c79": {
      "model_module": "@jupyter-widgets/base",
      "model_module_version": "1.2.0",
      "model_name": "LayoutModel",
      "state": {}
     },
     "0a3ec2685f0a4a949b7b1f565df0f39c": {
      "model_module": "@jupyter-widgets/controls",
      "model_module_version": "1.5.0",
      "model_name": "BoundedIntTextModel",
      "state": {
       "layout": "IPY_MODEL_eb591f71eb434b1c97a14dc4a7cc233b",
       "max": 10000,
       "style": "IPY_MODEL_8eab02c4d10542c3a49ed13215bffa10"
      }
     },
     "0a71dc577b1f4f9783251b4688b19d6c": {
      "model_module": "@jupyter-widgets/base",
      "model_module_version": "1.2.0",
      "model_name": "LayoutModel",
      "state": {}
     },
     "0a9b5e3fbaed4fc88453c4e447c670ef": {
      "model_module": "@jupyter-widgets/base",
      "model_module_version": "1.2.0",
      "model_name": "LayoutModel",
      "state": {}
     },
     "0aa4c89a2d894e94b7b69e07992cdaef": {
      "model_module": "@jupyter-widgets/base",
      "model_module_version": "1.2.0",
      "model_name": "LayoutModel",
      "state": {
       "width": "99%"
      }
     },
     "0ae17352ef4c45a9bd2657ee332c45c9": {
      "model_module": "@jupyter-widgets/controls",
      "model_module_version": "1.5.0",
      "model_name": "DescriptionStyleModel",
      "state": {
       "description_width": "initial"
      }
     },
     "0b644f733b0a4ad28dfa54cf57118939": {
      "model_module": "@jupyter-widgets/base",
      "model_module_version": "1.2.0",
      "model_name": "LayoutModel",
      "state": {
       "width": "100%"
      }
     },
     "0b7e82c5ed284353a50b1f038f6323b9": {
      "model_module": "@jupyter-widgets/controls",
      "model_module_version": "1.5.0",
      "model_name": "DescriptionStyleModel",
      "state": {
       "description_width": ""
      }
     },
     "0c0f1a0119fb47ed8161b3df717d17c5": {
      "model_module": "@jupyter-widgets/controls",
      "model_module_version": "1.5.0",
      "model_name": "DescriptionStyleModel",
      "state": {
       "description_width": ""
      }
     },
     "0d25e59c4b1f43d3852d3f94a19f1fdd": {
      "model_module": "@jupyter-widgets/controls",
      "model_module_version": "1.5.0",
      "model_name": "HTMLModel",
      "state": {
       "layout": "IPY_MODEL_7df276f0c06643cb8d9a7d647ca19887",
       "style": "IPY_MODEL_a80669b57000448295aad04e352dfc86",
       "value": "<p>Target Variable:</p>"
      }
     },
     "0d290f6dfa864b0685fb869a5d9dcb60": {
      "model_module": "@jupyter-widgets/controls",
      "model_module_version": "1.5.0",
      "model_name": "DescriptionStyleModel",
      "state": {
       "description_width": ""
      }
     },
     "0d3f2438388f4af88adbf8731cc180d1": {
      "model_module": "@jupyter-widgets/base",
      "model_module_version": "1.2.0",
      "model_name": "LayoutModel",
      "state": {
       "width": "99%"
      }
     },
     "0d45072705774a53a1e7220c5aacf5d6": {
      "model_module": "@jupyter-widgets/base",
      "model_module_version": "1.2.0",
      "model_name": "LayoutModel",
      "state": {
       "width": "14%"
      }
     },
     "0d4c2f0fd5204aeda2a4d2b6e1069cdb": {
      "model_module": "@jupyter-widgets/controls",
      "model_module_version": "1.5.0",
      "model_name": "ButtonStyleModel",
      "state": {}
     },
     "0d65a5518c4643a7bc6f49bb2b921574": {
      "model_module": "@jupyter-widgets/controls",
      "model_module_version": "1.5.0",
      "model_name": "DescriptionStyleModel",
      "state": {
       "description_width": ""
      }
     },
     "0e54f3180abb4096b444127dc8235d0b": {
      "model_module": "@jupyter-widgets/base",
      "model_module_version": "1.2.0",
      "model_name": "LayoutModel",
      "state": {
       "display": "flex",
       "flex_flow": "column",
       "width": "auto"
      }
     },
     "0ea7dd85b7fd4dd0b93eef0712a466f0": {
      "model_module": "@jupyter-widgets/base",
      "model_module_version": "1.2.0",
      "model_name": "LayoutModel",
      "state": {}
     },
     "0edebc63a41843d481d027ebe06da6c9": {
      "model_module": "@jupyter-widgets/base",
      "model_module_version": "1.2.0",
      "model_name": "LayoutModel",
      "state": {}
     },
     "0ee3564832834654aced7bb0516ab30a": {
      "model_module": "@jupyter-widgets/controls",
      "model_module_version": "1.5.0",
      "model_name": "HTMLModel",
      "state": {
       "layout": "IPY_MODEL_ddd27415655541a986174c0a5bb8e7a3",
       "style": "IPY_MODEL_01b3973ca5634cd8a56bc06c4e66f2e9",
       "value": "Early_stop_epochs:"
      }
     },
     "0ee9718800204b60b6da20c296977fef": {
      "model_module": "@jupyter-widgets/base",
      "model_module_version": "1.2.0",
      "model_name": "LayoutModel",
      "state": {}
     },
     "0f224a68697d496cb2aecee102c99bf7": {
      "model_module": "@jupyter-widgets/controls",
      "model_module_version": "1.5.0",
      "model_name": "ButtonStyleModel",
      "state": {}
     },
     "0f2e906b9fb14da296fd4d27b88ecd26": {
      "model_module": "@jupyter-widgets/controls",
      "model_module_version": "1.5.0",
      "model_name": "ButtonModel",
      "state": {
       "_dom_classes": [
        "pbtn"
       ],
       "button_style": "danger",
       "icon": "cog",
       "layout": "IPY_MODEL_f4c6fd95d6d848e1859d1eaf4c664402",
       "style": "IPY_MODEL_2fb4eb19e09e4866b00ffe00508494c6"
      }
     },
     "0f9f34fb0246449eb9a01450ade9b9fc": {
      "model_module": "@jupyter-widgets/base",
      "model_module_version": "1.2.0",
      "model_name": "LayoutModel",
      "state": {
       "width": "auto"
      }
     },
     "0fc9e6fe06014e349aa53385b4407744": {
      "model_module": "@jupyter-widgets/controls",
      "model_module_version": "1.5.0",
      "model_name": "BoxModel",
      "state": {
       "_dom_classes": [
        "inner-card"
       ],
       "children": [
        "IPY_MODEL_444a03f1b2784171b66ee86baff0736d"
       ],
       "layout": "IPY_MODEL_7316d5be9244404987bcd61d4d97ae18"
      }
     },
     "0fd79930b039479db0f77dc3aa6e3ade": {
      "model_module": "@jupyter-widgets/output",
      "model_module_version": "1.0.0",
      "model_name": "OutputModel",
      "state": {
       "layout": "IPY_MODEL_5fd2532760ea4be592fd7c7d749ca0d8"
      }
     },
     "0ff46e6cbdff4813b3f68168306ade9d": {
      "model_module": "@jupyter-widgets/output",
      "model_module_version": "1.0.0",
      "model_name": "OutputModel",
      "state": {
       "_dom_classes": [
        "register-btn"
       ],
       "layout": "IPY_MODEL_f880af88d04d4fa6b7b4d1b329b93c09",
       "outputs": [
        {
         "data": {
          "application/vnd.jupyter.widget-view+json": {
           "model_id": "49eccbf6437f41e0b8e73cf1f3c922d2",
           "version_major": 2,
           "version_minor": 0
          },
          "text/plain": "HBox(children=(Dropdown(description='Model Name:', layout=Layout(width='55%'), options=('Select Model', 'GLM')…"
         },
         "metadata": {},
         "output_type": "display_data"
        }
       ]
      }
     },
     "1031b096a6b34b848d0802f261fb7cce": {
      "model_module": "@jupyter-widgets/base",
      "model_module_version": "1.2.0",
      "model_name": "LayoutModel",
      "state": {
       "align_items": "center",
       "display": "flex",
       "flex_flow": "row",
       "width": "100%"
      }
     },
     "1037eec4461c4b578390149a5223279b": {
      "model_module": "@jupyter-widgets/controls",
      "model_module_version": "1.5.0",
      "model_name": "VBoxModel",
      "state": {
       "children": [
        "IPY_MODEL_adeae9133aaf42aaa4859ea539f83972",
        "IPY_MODEL_241fd0d43a3e45b98581f45d84f13856"
       ],
       "layout": "IPY_MODEL_eda84b01201446e5ae7810a6e14d68d2"
      }
     },
     "1051b8a9a6a44826bfd140804813fe46": {
      "model_module": "@jupyter-widgets/base",
      "model_module_version": "1.2.0",
      "model_name": "LayoutModel",
      "state": {
       "width": "30%"
      }
     },
     "1087aca97cf34899b99f613f52badaff": {
      "model_module": "@jupyter-widgets/controls",
      "model_module_version": "1.5.0",
      "model_name": "HTMLModel",
      "state": {
       "layout": "IPY_MODEL_d8c3661218e14dec9102083356988446",
       "style": "IPY_MODEL_1d804435119e458b9f9bd118f3db3864",
       "value": "<h4 style='margin: 10px 0px;'>Customize Model</h4>"
      }
     },
     "10f415bdcb914b26a585dd06d40fa8ac": {
      "model_module": "@jupyter-widgets/controls",
      "model_module_version": "1.5.0",
      "model_name": "DescriptionStyleModel",
      "state": {
       "description_width": ""
      }
     },
     "1117d0e431254aa9a2b69b6400298372": {
      "model_module": "@jupyter-widgets/controls",
      "model_module_version": "1.5.0",
      "model_name": "DescriptionStyleModel",
      "state": {
       "description_width": "initial"
      }
     },
     "116c0c7730b5459e916116a7074ecfa3": {
      "model_module": "@jupyter-widgets/controls",
      "model_module_version": "1.5.0",
      "model_name": "HTMLModel",
      "state": {
       "layout": "IPY_MODEL_5229a27d67d94c048db45b44cf2f8c51",
       "style": "IPY_MODEL_187bbe29c5144c6ba7bc0a2543896922",
       "value": "Random_state:"
      }
     },
     "117989fda1b547b296fa428ec0d36651": {
      "model_module": "@jupyter-widgets/controls",
      "model_module_version": "1.5.0",
      "model_name": "HBoxModel",
      "state": {
       "children": [
        "IPY_MODEL_45aa52633bc0480a9d210d38552182f9",
        "IPY_MODEL_c10b29ad23cd4c2a8df86ae4d79d025d"
       ],
       "layout": "IPY_MODEL_bef629a64b7f4df5865a4db40c428bd8"
      }
     },
     "117b6807d4ca4b85878ec2a1daecbc4d": {
      "model_module": "@jupyter-widgets/base",
      "model_module_version": "1.2.0",
      "model_name": "LayoutModel",
      "state": {}
     },
     "1186a6a4c7314c2a9cecd1660c2bde3f": {
      "model_module": "@jupyter-widgets/base",
      "model_module_version": "1.2.0",
      "model_name": "LayoutModel",
      "state": {}
     },
     "11919260b08c45318a4b4cd809f20e10": {
      "model_module": "@jupyter-widgets/base",
      "model_module_version": "1.2.0",
      "model_name": "LayoutModel",
      "state": {
       "width": "65%"
      }
     },
     "119a2f8f63ed41b8afdb5d8a07912bb1": {
      "model_module": "@jupyter-widgets/base",
      "model_module_version": "1.2.0",
      "model_name": "LayoutModel",
      "state": {
       "display": "flex",
       "flex_flow": "column",
       "width": "50%"
      }
     },
     "11ada378fe864b52b6f6f29618c601a2": {
      "model_module": "@jupyter-widgets/controls",
      "model_module_version": "1.5.0",
      "model_name": "DescriptionStyleModel",
      "state": {
       "description_width": ""
      }
     },
     "120a9c518b9d4bc2bdaad48aa5711491": {
      "model_module": "@jupyter-widgets/base",
      "model_module_version": "1.2.0",
      "model_name": "LayoutModel",
      "state": {
       "width": "auto"
      }
     },
     "120d30e9bbc642acb7c57c26e41d6b14": {
      "model_module": "@jupyter-widgets/output",
      "model_module_version": "1.0.0",
      "model_name": "OutputModel",
      "state": {
       "layout": "IPY_MODEL_7f952823788a44d6935fb2f3e50d3cf7",
       "outputs": [
        {
         "data": {
          "application/vnd.jupyter.widget-view+json": {
           "model_id": "151c2341f9a74a399482950da9950b12",
           "version_major": 2,
           "version_minor": 0
          },
          "text/plain": "HBox(children=(VBox(children=(HTML(value='Reference:'),), layout=Layout(width='80px')), VBox(children=(Dropdow…"
         },
         "metadata": {},
         "output_type": "display_data"
        }
       ]
      }
     },
     "125eaf1598314a3086263aefeaf75eb9": {
      "model_module": "@jupyter-widgets/controls",
      "model_module_version": "1.5.0",
      "model_name": "DescriptionStyleModel",
      "state": {
       "description_width": ""
      }
     },
     "1271efcf3cb14163912482b1b74a6c26": {
      "model_module": "@jupyter-widgets/controls",
      "model_module_version": "1.5.0",
      "model_name": "DescriptionStyleModel",
      "state": {
       "description_width": "initial"
      }
     },
     "12758a21ff6b439390b64d41de66a159": {
      "model_module": "@jupyter-widgets/base",
      "model_module_version": "1.2.0",
      "model_name": "LayoutModel",
      "state": {}
     },
     "12e139cd42b943b5aa0eb26f39f47841": {
      "model_module": "@jupyter-widgets/base",
      "model_module_version": "1.2.0",
      "model_name": "LayoutModel",
      "state": {
       "width": "14%"
      }
     },
     "1322c562d1ad485ca21f9298fa5b9740": {
      "model_module": "@jupyter-widgets/controls",
      "model_module_version": "1.5.0",
      "model_name": "TabModel",
      "state": {
       "_dom_classes": [
        "data-summary-tab"
       ],
       "_titles": {
        "0": "Numerical Attributes",
        "1": "Categorical Attributes"
       },
       "children": [
        "IPY_MODEL_ff8d605677a04c399c829f60a9d6e4b3",
        "IPY_MODEL_91258cbff24043bc8c81cba9ffdafe86"
       ],
       "layout": "IPY_MODEL_c62b5f45f4994e028e532db330e659ac"
      }
     },
     "13da42c0967a4e1b8fe9c89e94e70a33": {
      "model_module": "@jupyter-widgets/base",
      "model_module_version": "1.2.0",
      "model_name": "LayoutModel",
      "state": {}
     },
     "13f1089cdb11401088c2fc26e4b884c0": {
      "model_module": "@jupyter-widgets/controls",
      "model_module_version": "1.5.0",
      "model_name": "HTMLModel",
      "state": {
       "layout": "IPY_MODEL_88da9b7fb13d40c1bfcc02dc618829f6",
       "style": "IPY_MODEL_cb97f2a965ce432fbed7eab700cb422a",
       "value": "Feature_increasing:"
      }
     },
     "141945df97c048fa9bf0f633e98e6bff": {
      "model_module": "@jupyter-widgets/controls",
      "model_module_version": "1.5.0",
      "model_name": "ButtonModel",
      "state": {
       "_dom_classes": [
        "pbtn"
       ],
       "button_style": "danger",
       "icon": "cog",
       "layout": "IPY_MODEL_df01bdd990564eec8db646f8e53a5383",
       "style": "IPY_MODEL_dc82c272687e44d790ab3b5f0d402e83"
      }
     },
     "14d232bf9324436aa1add3a6b4d09b9a": {
      "model_module": "@jupyter-widgets/controls",
      "model_module_version": "1.5.0",
      "model_name": "ButtonModel",
      "state": {
       "_dom_classes": [
        "pbtn"
       ],
       "button_style": "danger",
       "description": "Register",
       "layout": "IPY_MODEL_21421e582e054b58bf7350448fc2b756",
       "style": "IPY_MODEL_ee764b4a8eef4e41a3ec1c106d895b4d"
      }
     },
     "14f2ac122f5b446a82762df7c1768a1e": {
      "model_module": "@jupyter-widgets/controls",
      "model_module_version": "1.5.0",
      "model_name": "BoxModel",
      "state": {
       "children": [
        "IPY_MODEL_38df06f1c1a44248bec79045a50472ba",
        "IPY_MODEL_28a532baa3d44c08af63dca9ece7a743",
        "IPY_MODEL_48804160f425443dbcb55d9a84bd486b"
       ],
       "layout": "IPY_MODEL_119a2f8f63ed41b8afdb5d8a07912bb1"
      }
     },
     "14fc3b80b57b446fb55f220971d51f3c": {
      "model_module": "@jupyter-widgets/controls",
      "model_module_version": "1.5.0",
      "model_name": "HBoxModel",
      "state": {
       "children": [
        "IPY_MODEL_9a4f548afb4a4b769c34ce2702ad7960",
        "IPY_MODEL_d20a7d0a6a364c009afbb87c5e97e0bc"
       ],
       "layout": "IPY_MODEL_833e3cf377454d339aba3a9b6ab3d7e3"
      }
     },
     "151c2341f9a74a399482950da9950b12": {
      "model_module": "@jupyter-widgets/controls",
      "model_module_version": "1.5.0",
      "model_name": "HBoxModel",
      "state": {
       "children": [
        "IPY_MODEL_5e4f685688d940b1931ce4e37cdd675f",
        "IPY_MODEL_fe676cf415144a5085b2413966d8b397",
        "IPY_MODEL_b7bdce70382c467ebf42ed6997a12e8b",
        "IPY_MODEL_09eaa9f09a7e4aeba9dbd4ce68bbfd66",
        "IPY_MODEL_c734575f7e044790a9696117d33eb577"
       ],
       "layout": "IPY_MODEL_34a40d8cbc4a4bb99f9e008322887ee6"
      }
     },
     "158268a5f44942c98a4fefded8aca528": {
      "model_module": "@jupyter-widgets/controls",
      "model_module_version": "1.5.0",
      "model_name": "HTMLModel",
      "state": {
       "layout": "IPY_MODEL_f61776ae51354555b9049f8462bbe9ee",
       "style": "IPY_MODEL_d41f92691a2a4f818d3b1368ecd1c56d",
       "value": "Model name:"
      }
     },
     "1585181bdc324e1f86d57f9c929ceedb": {
      "model_module": "@jupyter-widgets/controls",
      "model_module_version": "1.5.0",
      "model_name": "HTMLModel",
      "state": {
       "layout": "IPY_MODEL_68b3602170cf475eaffe1edbb798905e",
       "style": "IPY_MODEL_7b5e1b7778674ab39fb014f8ace0dd61",
       "value": "<div class='divider'></div>"
      }
     },
     "15b61ff78cce4c509d7bb8c144c7591d": {
      "model_module": "@jupyter-widgets/base",
      "model_module_version": "1.2.0",
      "model_name": "LayoutModel",
      "state": {}
     },
     "15c490d74d844311bf90e3ef4a2b82be": {
      "model_module": "@jupyter-widgets/base",
      "model_module_version": "1.2.0",
      "model_name": "LayoutModel",
      "state": {}
     },
     "16287597ce6b430ab2b3922e6f380463": {
      "model_module": "@jupyter-widgets/controls",
      "model_module_version": "1.5.0",
      "model_name": "VBoxModel",
      "state": {
       "children": [
        "IPY_MODEL_a75e6b03c8774cf1a4b051b4cd67eb82",
        "IPY_MODEL_41ad0762db4c4f03a8d30bdb03bb89c8",
        "IPY_MODEL_c86cc1f5e8e94cc08fa950dd510b5f5c",
        "IPY_MODEL_ed45950f88a342d0875625efbca14398"
       ],
       "layout": "IPY_MODEL_836716710c5d41a09cdee7f84184f670"
      }
     },
     "16bc73ffd3104d10b77cc872130c55c3": {
      "model_module": "@jupyter-widgets/base",
      "model_module_version": "1.2.0",
      "model_name": "LayoutModel",
      "state": {
       "width": "25px"
      }
     },
     "1750e2c5cd0b4d058d1694fc6ff7ad3b": {
      "model_module": "@jupyter-widgets/controls",
      "model_module_version": "1.5.0",
      "model_name": "BoxModel",
      "state": {
       "_dom_classes": [
        "inner-card"
       ],
       "children": [
        "IPY_MODEL_db7f8835874941b1a9a47ae214dd94fa"
       ],
       "layout": "IPY_MODEL_37a0599a7dc744bea8d4d6fb19e5a39a"
      }
     },
     "17d827ddd7de42fab9d063e7fbb74b87": {
      "model_module": "@jupyter-widgets/base",
      "model_module_version": "1.2.0",
      "model_name": "LayoutModel",
      "state": {
       "width": "auto"
      }
     },
     "17faa212db1c4e8f97c17e2a4f653bc7": {
      "model_module": "@jupyter-widgets/controls",
      "model_module_version": "1.5.0",
      "model_name": "DescriptionStyleModel",
      "state": {
       "description_width": "initial"
      }
     },
     "184f1f701539456f892aaf46bb598fce": {
      "model_module": "@jupyter-widgets/controls",
      "model_module_version": "1.5.0",
      "model_name": "DescriptionStyleModel",
      "state": {
       "description_width": ""
      }
     },
     "187bbe29c5144c6ba7bc0a2543896922": {
      "model_module": "@jupyter-widgets/controls",
      "model_module_version": "1.5.0",
      "model_name": "DescriptionStyleModel",
      "state": {
       "description_width": ""
      }
     },
     "193b58f08ff44e34b77521df3fe69ede": {
      "model_module": "@jupyter-widgets/controls",
      "model_module_version": "1.5.0",
      "model_name": "DescriptionStyleModel",
      "state": {
       "description_width": ""
      }
     },
     "19612136aad74f2bb6cecd58f6dfaf00": {
      "model_module": "@jupyter-widgets/controls",
      "model_module_version": "1.5.0",
      "model_name": "ButtonModel",
      "state": {
       "_dom_classes": [
        "pbtn"
       ],
       "button_style": "danger",
       "icon": "history",
       "layout": "IPY_MODEL_16bc73ffd3104d10b77cc872130c55c3",
       "style": "IPY_MODEL_d0df14467f814537b7389352bc121a3a"
      }
     },
     "19bff748822b4cba92f7204699a2632f": {
      "model_module": "@jupyter-widgets/controls",
      "model_module_version": "1.5.0",
      "model_name": "DescriptionStyleModel",
      "state": {
       "description_width": "initial"
      }
     },
     "19ff6630d71e473b951e96857b412588": {
      "model_module": "@jupyter-widgets/base",
      "model_module_version": "1.2.0",
      "model_name": "LayoutModel",
      "state": {}
     },
     "1a0d0b83568a42e6bfd233f801b2a0e9": {
      "model_module": "@jupyter-widgets/controls",
      "model_module_version": "1.5.0",
      "model_name": "DescriptionStyleModel",
      "state": {
       "description_width": "initial"
      }
     },
     "1a3d4eeb86914a56860100d2eb22eb24": {
      "model_module": "@jupyter-widgets/controls",
      "model_module_version": "1.5.0",
      "model_name": "HTMLModel",
      "state": {
       "layout": "IPY_MODEL_527dbaafd9e1441cadf7d20cb84ba50b",
       "style": "IPY_MODEL_249cf3931f3d43d486daa8a1c3b8b9d7",
       "value": "<div class='divider'></div>"
      }
     },
     "1b06e186a6e941ba8dc97c7d4b003883": {
      "model_module": "@jupyter-widgets/base",
      "model_module_version": "1.2.0",
      "model_name": "LayoutModel",
      "state": {}
     },
     "1b0941c126cf479091699747780d62e9": {
      "model_module": "@jupyter-widgets/controls",
      "model_module_version": "1.5.0",
      "model_name": "HTMLModel",
      "state": {
       "layout": "IPY_MODEL_4454aef6bf964578b5dd318afc7dafb2",
       "style": "IPY_MODEL_26d4f4d92a30466493920ded333c2fa0",
       "value": "n_interactions:"
      }
     },
     "1b540e8dd52847fda2cf8376badfe8e5": {
      "model_module": "@jupyter-widgets/base",
      "model_module_version": "1.2.0",
      "model_name": "LayoutModel",
      "state": {
       "width": "auto"
      }
     },
     "1b5920120c814484ad078b9cd37f0107": {
      "model_module": "@jupyter-widgets/base",
      "model_module_version": "1.2.0",
      "model_name": "LayoutModel",
      "state": {
       "width": "15%"
      }
     },
     "1b7ae3c216e14b0ab4813e28fe05e6d6": {
      "model_module": "@jupyter-widgets/base",
      "model_module_version": "1.2.0",
      "model_name": "LayoutModel",
      "state": {
       "width": "2px"
      }
     },
     "1ba93a7b490f45e4b24f82c0da810be7": {
      "model_module": "@jupyter-widgets/controls",
      "model_module_version": "1.5.0",
      "model_name": "VBoxModel",
      "state": {
       "children": [
        "IPY_MODEL_f077597ff27d4b238d6a19e212cac629",
        "IPY_MODEL_36889bdc1d7b42bc8262864b4dd8d059"
       ],
       "layout": "IPY_MODEL_860a60d233774640b2ec10edb84c45fb"
      }
     },
     "1bd350e5e0214481a1fe58e8be1736d2": {
      "model_module": "@jupyter-widgets/base",
      "model_module_version": "1.2.0",
      "model_name": "LayoutModel",
      "state": {}
     },
     "1c5c7b293e594830a6e1de923fbdf725": {
      "model_module": "@jupyter-widgets/base",
      "model_module_version": "1.2.0",
      "model_name": "LayoutModel",
      "state": {
       "width": "auto"
      }
     },
     "1c9d62df20c641fa8bba73d48d15576e": {
      "model_module": "@jupyter-widgets/controls",
      "model_module_version": "1.5.0",
      "model_name": "HBoxModel",
      "state": {
       "children": [
        "IPY_MODEL_9842add6a9dd477e87741242b4c145d0",
        "IPY_MODEL_7d423debd29848709c1aa05024c3d953",
        "IPY_MODEL_cf80d87f6eee442ebf00547d0f3d28d5"
       ],
       "layout": "IPY_MODEL_ea218fbdbf864acfb44e880e7a82eefb"
      }
     },
     "1cb93b00100145f6b9bf75e32800584c": {
      "model_module": "@jupyter-widgets/base",
      "model_module_version": "1.2.0",
      "model_name": "LayoutModel",
      "state": {
       "width": "65%"
      }
     },
     "1cc6dbdda66b46b7a0f21331af6e3d5f": {
      "model_module": "@jupyter-widgets/controls",
      "model_module_version": "1.5.0",
      "model_name": "DescriptionStyleModel",
      "state": {
       "description_width": ""
      }
     },
     "1d38836d95b14f95ae7f02b7a4b46536": {
      "model_module": "@jupyter-widgets/controls",
      "model_module_version": "1.5.0",
      "model_name": "VBoxModel",
      "state": {
       "children": [
        "IPY_MODEL_da84fae7faf84d70a1cc525a7de34047"
       ],
       "layout": "IPY_MODEL_68821a7275d545869cd3bd814ab21981"
      }
     },
     "1d4fa1872d754418b775a90c9f54bd37": {
      "model_module": "@jupyter-widgets/controls",
      "model_module_version": "1.5.0",
      "model_name": "ButtonModel",
      "state": {
       "_dom_classes": [
        "pbtn"
       ],
       "button_style": "danger",
       "icon": "cog",
       "layout": "IPY_MODEL_b8716e56126248e9a705e590e5825ae5",
       "style": "IPY_MODEL_ab6bf4cbcfaf40abb572a5a84ac6861c"
      }
     },
     "1d7c56ffcf2a40c0b71651a17d50d76e": {
      "model_module": "@jupyter-widgets/controls",
      "model_module_version": "1.5.0",
      "model_name": "DescriptionStyleModel",
      "state": {
       "description_width": ""
      }
     },
     "1d804435119e458b9f9bd118f3db3864": {
      "model_module": "@jupyter-widgets/controls",
      "model_module_version": "1.5.0",
      "model_name": "DescriptionStyleModel",
      "state": {
       "description_width": ""
      }
     },
     "1e0149215f2f41ed8a4242b1167fd7f7": {
      "model_module": "@jupyter-widgets/controls",
      "model_module_version": "1.5.0",
      "model_name": "BoxModel",
      "state": {
       "children": [
        "IPY_MODEL_158268a5f44942c98a4fefded8aca528"
       ],
       "layout": "IPY_MODEL_2da05afd496047c68655db1f83063745"
      }
     },
     "1e5c610c43554a558a3bd9d29922552d": {
      "model_module": "@jupyter-widgets/controls",
      "model_module_version": "1.5.0",
      "model_name": "DescriptionStyleModel",
      "state": {
       "description_width": ""
      }
     },
     "1e8ea3f6105b43fb81b22ea4345c4781": {
      "model_module": "@jupyter-widgets/controls",
      "model_module_version": "1.5.0",
      "model_name": "DescriptionStyleModel",
      "state": {
       "description_width": ""
      }
     },
     "1eb627da862f4a93833f1f49053fa136": {
      "model_module": "@jupyter-widgets/controls",
      "model_module_version": "1.5.0",
      "model_name": "HBoxModel",
      "state": {
       "children": [
        "IPY_MODEL_d1ce3dc7e7af49f198b24b4a9538b1a1",
        "IPY_MODEL_73190655e6c842d09260e215b7b79402"
       ],
       "layout": "IPY_MODEL_7cdbb805624c4ad49d2d5b915164f749"
      }
     },
     "1ecc71afca854ca6927160ceda2137e6": {
      "model_module": "@jupyter-widgets/controls",
      "model_module_version": "1.5.0",
      "model_name": "DescriptionStyleModel",
      "state": {
       "description_width": ""
      }
     },
     "1ee55121ba5a494786c186f4cdf58421": {
      "model_module": "@jupyter-widgets/controls",
      "model_module_version": "1.5.0",
      "model_name": "CheckboxModel",
      "state": {
       "description": "ReLU-DNN",
       "disabled": false,
       "indent": false,
       "layout": "IPY_MODEL_0320ee47ec344321bfbbcdec528db228",
       "style": "IPY_MODEL_bb108aff20e0439993fcccfa310563d4",
       "value": false
      }
     },
     "1f09aac8dda148108787d8c43f777d23": {
      "model_module": "@jupyter-widgets/controls",
      "model_module_version": "1.5.0",
      "model_name": "HBoxModel",
      "state": {
       "children": [
        "IPY_MODEL_74858aeb0cf64d739ef9fc7f131e570d",
        "IPY_MODEL_0244f3fa668742df9c6db50af4ee20ad",
        "IPY_MODEL_5ee071417fce4f058648d32f09a93b35"
       ],
       "layout": "IPY_MODEL_7488ab0927304eec8e90d8df308cb995"
      }
     },
     "1f2faaf182e841fca669fd7ad878de3c": {
      "model_module": "@jupyter-widgets/base",
      "model_module_version": "1.2.0",
      "model_name": "LayoutModel",
      "state": {}
     },
     "1fa1920044e34cf4ba3968cd149865f0": {
      "model_module": "@jupyter-widgets/controls",
      "model_module_version": "1.5.0",
      "model_name": "ButtonModel",
      "state": {
       "_dom_classes": [
        "pbtn"
       ],
       "button_style": "danger",
       "icon": "cog",
       "layout": "IPY_MODEL_4d49e30bd2a2449e905694d2600829de",
       "style": "IPY_MODEL_3e411c435ac948a49f465f278c5165fe"
      }
     },
     "1fe5f1e9fe134d83bf50a63dfc7138c8": {
      "model_module": "@jupyter-widgets/controls",
      "model_module_version": "1.5.0",
      "model_name": "VBoxModel",
      "state": {
       "children": [
        "IPY_MODEL_9744e93596d84be4b7968c6380264aaa",
        "IPY_MODEL_baf79d1566ea4d968397751da6451804",
        "IPY_MODEL_8b0428d75b1a4d789ea766a63a996c9e",
        "IPY_MODEL_fdc8137b0649411887e878ba7573dffa",
        "IPY_MODEL_209ab6b172364c239c8fe54fcc51165b",
        "IPY_MODEL_41f6e7ba5be14036a02968d14468a22d",
        "IPY_MODEL_0a3ec2685f0a4a949b7b1f565df0f39c"
       ],
       "layout": "IPY_MODEL_283ccec58c08457aa8d23abb923b6219"
      }
     },
     "209ab6b172364c239c8fe54fcc51165b": {
      "model_module": "@jupyter-widgets/controls",
      "model_module_version": "1.5.0",
      "model_name": "TextModel",
      "state": {
       "layout": "IPY_MODEL_3a8f7c9f23884968b30a22508b6553d7",
       "placeholder": "1000, 1000, 1000",
       "style": "IPY_MODEL_caf0a4c91f68417f93eb939c21b978f5",
       "value": "1000, 1000, 1000"
      }
     },
     "20cb6913b16740e8be113231ef61c0aa": {
      "model_module": "@jupyter-widgets/controls",
      "model_module_version": "1.5.0",
      "model_name": "HTMLModel",
      "state": {
       "layout": "IPY_MODEL_83e48dd67b5347e1b5c3c6144d8d144c",
       "style": "IPY_MODEL_f7787e3591814529a0a76298bbdf69d9",
       "value": "Feature_decreasing:"
      }
     },
     "211eea6a35b4404ba27e141aeb81db25": {
      "model_module": "@jupyter-widgets/controls",
      "model_module_version": "1.5.0",
      "model_name": "DescriptionStyleModel",
      "state": {
       "description_width": ""
      }
     },
     "212f89427e3a4d2b864482507537f566": {
      "model_module": "@jupyter-widgets/controls",
      "model_module_version": "1.5.0",
      "model_name": "BoxModel",
      "state": {
       "children": [
        "IPY_MODEL_065293da25464f9f9ce9e8292e6efc24"
       ],
       "layout": "IPY_MODEL_2a4971262b5b42e7b8c2913af5bb81b5"
      }
     },
     "2135716f3a0b441ab31e724ed7814287": {
      "model_module": "@jupyter-widgets/controls",
      "model_module_version": "1.5.0",
      "model_name": "HTMLModel",
      "state": {
       "layout": "IPY_MODEL_0edebc63a41843d481d027ebe06da6c9",
       "style": "IPY_MODEL_a79694667f3246939e24ba057ca7d8fd",
       "value": "Max_interaction_bins:"
      }
     },
     "21377954999a4d4e88a097213f03223b": {
      "model_module": "@jupyter-widgets/controls",
      "model_module_version": "1.5.0",
      "model_name": "DescriptionStyleModel",
      "state": {
       "description_width": ""
      }
     },
     "21421e582e054b58bf7350448fc2b756": {
      "model_module": "@jupyter-widgets/base",
      "model_module_version": "1.2.0",
      "model_name": "LayoutModel",
      "state": {
       "width": "40%"
      }
     },
     "217fe7283d1749348661dfa854968049": {
      "model_module": "@jupyter-widgets/base",
      "model_module_version": "1.2.0",
      "model_name": "LayoutModel",
      "state": {
       "width": "auto"
      }
     },
     "21cd5f16fd5843f89a76ab8065dbf347": {
      "model_module": "@jupyter-widgets/controls",
      "model_module_version": "1.5.0",
      "model_name": "HTMLModel",
      "state": {
       "layout": "IPY_MODEL_63141df154ea42a5aad6ef1e0f3c0a47",
       "style": "IPY_MODEL_7b37bb85913044be83dcbdff0432d1b4",
       "value": "n_interactions:"
      }
     },
     "2217d247d5374470b8e2c040cde24232": {
      "model_module": "@jupyter-widgets/base",
      "model_module_version": "1.2.0",
      "model_name": "LayoutModel",
      "state": {}
     },
     "22548f3e4bcb4f32a8ffa93db3e2fbb0": {
      "model_module": "@jupyter-widgets/base",
      "model_module_version": "1.2.0",
      "model_name": "LayoutModel",
      "state": {}
     },
     "22603a21ca4f4aee946c91ce7e2dc38f": {
      "model_module": "@jupyter-widgets/base",
      "model_module_version": "1.2.0",
      "model_name": "LayoutModel",
      "state": {
       "width": "auto"
      }
     },
     "2269e9f5777b410789d74e3857598400": {
      "model_module": "@jupyter-widgets/base",
      "model_module_version": "1.2.0",
      "model_name": "LayoutModel",
      "state": {
       "width": "25px"
      }
     },
     "22b60173279046549f2a5b789e0f734e": {
      "model_module": "@jupyter-widgets/controls",
      "model_module_version": "1.5.0",
      "model_name": "DescriptionStyleModel",
      "state": {
       "description_width": "initial"
      }
     },
     "22f581d0406a4145bb4549df11445990": {
      "model_module": "@jupyter-widgets/base",
      "model_module_version": "1.2.0",
      "model_name": "LayoutModel",
      "state": {}
     },
     "2332292b374f4afe87e136d56c1c9b39": {
      "model_module": "@jupyter-widgets/base",
      "model_module_version": "1.2.0",
      "model_name": "LayoutModel",
      "state": {}
     },
     "23744ac3c6df4310bf7965d5a24b7bbf": {
      "model_module": "@jupyter-widgets/controls",
      "model_module_version": "1.5.0",
      "model_name": "DescriptionStyleModel",
      "state": {
       "description_width": ""
      }
     },
     "241fd0d43a3e45b98581f45d84f13856": {
      "model_module": "@jupyter-widgets/controls",
      "model_module_version": "1.5.0",
      "model_name": "HTMLModel",
      "state": {
       "layout": "IPY_MODEL_9cafbb5e7d5e4d6da650620c020c8721",
       "style": "IPY_MODEL_21377954999a4d4e88a097213f03223b",
       "value": "Max_iterations:"
      }
     },
     "244025d9af584c2082b71b7b93479600": {
      "model_module": "@jupyter-widgets/base",
      "model_module_version": "1.2.0",
      "model_name": "LayoutModel",
      "state": {
       "width": "110px"
      }
     },
     "249cf3931f3d43d486daa8a1c3b8b9d7": {
      "model_module": "@jupyter-widgets/controls",
      "model_module_version": "1.5.0",
      "model_name": "DescriptionStyleModel",
      "state": {
       "description_width": ""
      }
     },
     "251e17ab440648869c69de9baf5e7d69": {
      "model_module": "@jupyter-widgets/controls",
      "model_module_version": "1.5.0",
      "model_name": "HBoxModel",
      "state": {
       "children": [
        "IPY_MODEL_ac2af8d602e44ce8a3eb45de29bdc844",
        "IPY_MODEL_7e7fa9ced2a8478cad4384f7deeb9dc7",
        "IPY_MODEL_e1cfe5f60b6f44249a44f43eaefc2db8",
        "IPY_MODEL_c3faab4dfb684e1c9610402e3313fe5f",
        "IPY_MODEL_da8d652e88a14dac8fd501af32530d17",
        "IPY_MODEL_b50d2e8f985f4be88aa939e2d11d9cd4",
        "IPY_MODEL_5d9c749fe221402aae3fc2a1dc886876"
       ],
       "layout": "IPY_MODEL_bbb71994e5a04841b1090e201e11581f"
      }
     },
     "2587fb36b69b4a228336007d9259aa35": {
      "model_module": "@jupyter-widgets/base",
      "model_module_version": "1.2.0",
      "model_name": "LayoutModel",
      "state": {
       "width": "auto"
      }
     },
     "25aa031670c744069c11acccdbaf880a": {
      "model_module": "@jupyter-widgets/controls",
      "model_module_version": "1.5.0",
      "model_name": "DescriptionStyleModel",
      "state": {
       "description_width": ""
      }
     },
     "25ab885823c84cb89220a97bdfbf9e9e": {
      "model_module": "@jupyter-widgets/base",
      "model_module_version": "1.2.0",
      "model_name": "LayoutModel",
      "state": {}
     },
     "25d82c8d7c214c36ba323debda1f964b": {
      "model_module": "@jupyter-widgets/base",
      "model_module_version": "1.2.0",
      "model_name": "LayoutModel",
      "state": {}
     },
     "25e5e56c6d6a41fbb807b9cbde039adc": {
      "model_module": "@jupyter-widgets/base",
      "model_module_version": "1.2.0",
      "model_name": "LayoutModel",
      "state": {
       "width": "auto"
      }
     },
     "263a4b3082e34ba291c300ef96d8f025": {
      "model_module": "@jupyter-widgets/base",
      "model_module_version": "1.2.0",
      "model_name": "LayoutModel",
      "state": {}
     },
     "2648c1ce1ce7470285332ec60095fba2": {
      "model_module": "@jupyter-widgets/base",
      "model_module_version": "1.2.0",
      "model_name": "LayoutModel",
      "state": {}
     },
     "265bd58cf6f44e559bb868b214e25170": {
      "model_module": "@jupyter-widgets/controls",
      "model_module_version": "1.5.0",
      "model_name": "HTMLModel",
      "state": {
       "layout": "IPY_MODEL_75587ecbaff5430db7af5d78120ae094",
       "style": "IPY_MODEL_ed669e6bc60f4e4c887b2948273ad5e3",
       "value": "Learning_rate:"
      }
     },
     "266e1f33f1264960aa29ddb754100d8e": {
      "model_module": "@jupyter-widgets/controls",
      "model_module_version": "1.5.0",
      "model_name": "DescriptionStyleModel",
      "state": {
       "description_width": ""
      }
     },
     "26d4f4d92a30466493920ded333c2fa0": {
      "model_module": "@jupyter-widgets/controls",
      "model_module_version": "1.5.0",
      "model_name": "DescriptionStyleModel",
      "state": {
       "description_width": ""
      }
     },
     "26d7df626f3844c8afca1b4dfcba1177": {
      "model_module": "@jupyter-widgets/controls",
      "model_module_version": "1.5.0",
      "model_name": "ButtonModel",
      "state": {
       "_dom_classes": [
        "pbtn"
       ],
       "button_style": "danger",
       "description": "DEL",
       "layout": "IPY_MODEL_3d2217afcd074994848084d6b2e7671b",
       "style": "IPY_MODEL_489a88ed2a4b40cabca65c21f6409a8b"
      }
     },
     "26daea57dc07407584ea32a97a626118": {
      "model_module": "@jupyter-widgets/controls",
      "model_module_version": "1.5.0",
      "model_name": "HTMLModel",
      "state": {
       "layout": "IPY_MODEL_3c33d3fc26864a819e59785d9f55e397",
       "style": "IPY_MODEL_33933543dbf349fcacddc41c6ddf0de4",
       "value": "\n        <table class='ptable striped'>\n            <thead class='pthead'>\n                <tr class='ptr'>\n                    <th class='pth'></th><th class='pth'>name</th><th class='pth'>n_missing</th><th class='pth'>mean</th><th class='pth'>std</th><th class='pth'>min</th><th class='pth'>q1</th><th class='pth'>median</th><th class='pth'>q3</th><th class='pth'>max</th>\n                </tr>\n            </thead>\n\n            <tbody class='ptbody'>\n                <tr class='ptr'><td class='ptd'>0</td><td class='ptd'>Balance</td><td class='ptd'>0.0</td><td class='ptd'>5273.876</td><td class='ptd'>1250.01039</td><td class='ptd'>0.0</td><td class='ptd'>4427.0</td><td class='ptd'>5265.0</td><td class='ptd'>6128.0</td><td class='ptd'>10000.0</td></tr><tr class='ptr'><td class='ptd'>1</td><td class='ptd'>Amount Past Due</td><td class='ptd'>0.0</td><td class='ptd'>1021.5116</td><td class='ptd'>1433.433443</td><td class='ptd'>0.0</td><td class='ptd'>0.0</td><td class='ptd'>16.0</td><td class='ptd'>1785.5</td><td class='ptd'>7722.0</td></tr><tr class='ptr'><td class='ptd'>2</td><td class='ptd'>Credit Inquiry</td><td class='ptd'>0.0</td><td class='ptd'>1.2195</td><td class='ptd'>1.419972</td><td class='ptd'>0.0</td><td class='ptd'>0.0</td><td class='ptd'>1.0</td><td class='ptd'>2.0</td><td class='ptd'>27.0</td></tr>\n            </tbody>\n        </table>\n        "
      }
     },
     "26db138e45d74e3f8b32b4fd6f6312ef": {
      "model_module": "@jupyter-widgets/controls",
      "model_module_version": "1.5.0",
      "model_name": "DescriptionStyleModel",
      "state": {
       "description_width": "initial"
      }
     },
     "26e14f0edb404b9f8d7e8fc2ba87b725": {
      "model_module": "@jupyter-widgets/base",
      "model_module_version": "1.2.0",
      "model_name": "LayoutModel",
      "state": {}
     },
     "2711a4ce2d404d1b8a70cfa2927d16c2": {
      "model_module": "@jupyter-widgets/controls",
      "model_module_version": "1.5.0",
      "model_name": "DescriptionStyleModel",
      "state": {
       "description_width": ""
      }
     },
     "273d8c8468684d77aa5e7aa112725550": {
      "model_module": "@jupyter-widgets/controls",
      "model_module_version": "1.5.0",
      "model_name": "TextModel",
      "state": {
       "layout": "IPY_MODEL_fd8d17e11b7d4acb91833dd1b19df353",
       "placeholder": "Input name",
       "style": "IPY_MODEL_22b60173279046549f2a5b789e0f734e",
       "value": "EBM"
      }
     },
     "274aef92b31b4d19a2661bc34834eb11": {
      "model_module": "@jupyter-widgets/controls",
      "model_module_version": "1.5.0",
      "model_name": "FloatRangeSliderModel",
      "state": {
       "_model_name": "FloatRangeSliderModel",
       "_view_name": "FloatRangeSliderView",
       "layout": "IPY_MODEL_785ce6cad3f648e89dba93f6f118f98b",
       "readout": false,
       "step": 0.1,
       "style": "IPY_MODEL_dbef8edc9cbc4f28bde7abd61a34b2df",
       "value": [
        25,
        75
       ]
      }
     },
     "278210b254044119a03db304a977c88f": {
      "model_module": "@jupyter-widgets/controls",
      "model_module_version": "1.5.0",
      "model_name": "BoxModel",
      "state": {
       "_dom_classes": [
        "inner-card"
       ],
       "children": [
        "IPY_MODEL_14fc3b80b57b446fb55f220971d51f3c",
        "IPY_MODEL_6026ff9dd40249279566bef7fe296f58",
        "IPY_MODEL_043c845d1132403cb5a06628b85f866a"
       ],
       "layout": "IPY_MODEL_796a559c9b9e4c60a3bb80478829dd23"
      }
     },
     "278deaa6143d4f0ea0ea766a5577a103": {
      "model_module": "@jupyter-widgets/base",
      "model_module_version": "1.2.0",
      "model_name": "LayoutModel",
      "state": {
       "width": "70px"
      }
     },
     "280af7f7a68842ca9718d8c09343e51c": {
      "model_module": "@jupyter-widgets/base",
      "model_module_version": "1.2.0",
      "model_name": "LayoutModel",
      "state": {
       "width": "99%"
      }
     },
     "283ccec58c08457aa8d23abb923b6219": {
      "model_module": "@jupyter-widgets/base",
      "model_module_version": "1.2.0",
      "model_name": "LayoutModel",
      "state": {
       "width": "65%"
      }
     },
     "2868bc12ef55473089f13fc544960081": {
      "model_module": "@jupyter-widgets/controls",
      "model_module_version": "1.5.0",
      "model_name": "DescriptionStyleModel",
      "state": {
       "description_width": ""
      }
     },
     "2881b06ce887455caae8a045fd2131a0": {
      "model_module": "@jupyter-widgets/base",
      "model_module_version": "1.2.0",
      "model_name": "LayoutModel",
      "state": {}
     },
     "28a532baa3d44c08af63dca9ece7a743": {
      "model_module": "@jupyter-widgets/controls",
      "model_module_version": "1.5.0",
      "model_name": "BoxModel",
      "state": {
       "_dom_classes": [
        "list"
       ],
       "children": [
        "IPY_MODEL_da43f867d3d74b51a7beea3979518d60",
        "IPY_MODEL_7eceb03533a14bd78c84e1b57626bcda",
        "IPY_MODEL_321dccecc51844e988fea53a97b810c0",
        "IPY_MODEL_0949d9a727134d20a0bb7f168ff6db4f",
        "IPY_MODEL_b5b9130cf2cd4649a11d2151ca7ec4e0",
        "IPY_MODEL_2fd22026a8794d90aca522eeaed98052",
        "IPY_MODEL_31333f95efbf44358b43ca4f3b06bb2f",
        "IPY_MODEL_60a7d53a73a544ca8990bdb80431d897"
       ],
       "layout": "IPY_MODEL_7a19c73bae7f4e61a3a6d1639f9c229f"
      }
     },
     "290fd29b711140ec84fed5aae43b6cc7": {
      "model_module": "@jupyter-widgets/base",
      "model_module_version": "1.2.0",
      "model_name": "LayoutModel",
      "state": {
       "width": "100%"
      }
     },
     "293aae90ac534fd8a170b2a33ab089aa": {
      "model_module": "@jupyter-widgets/base",
      "model_module_version": "1.2.0",
      "model_name": "LayoutModel",
      "state": {
       "align_items": "center",
       "display": "flex",
       "flex_flow": "row",
       "width": "100%"
      }
     },
     "299ff5544856424e8a26ce8ed39b7fbc": {
      "model_module": "@jupyter-widgets/controls",
      "model_module_version": "1.5.0",
      "model_name": "BoundedFloatTextModel",
      "state": {
       "layout": "IPY_MODEL_4a29d55d213b47f5983537547e2fb4a9",
       "step": null,
       "style": "IPY_MODEL_9febb7cb762c41ad85acd2e84e37b972"
      }
     },
     "29a26ad5289e473fbd371bf656f60443": {
      "model_module": "@jupyter-widgets/base",
      "model_module_version": "1.2.0",
      "model_name": "LayoutModel",
      "state": {
       "width": "auto"
      }
     },
     "29a5d4533f6c4592a750849a3c09e874": {
      "model_module": "@jupyter-widgets/base",
      "model_module_version": "1.2.0",
      "model_name": "LayoutModel",
      "state": {
       "width": "20%"
      }
     },
     "29f9b91e38614092aebe210ab6d3b31c": {
      "model_module": "@jupyter-widgets/base",
      "model_module_version": "1.2.0",
      "model_name": "LayoutModel",
      "state": {}
     },
     "2a4971262b5b42e7b8c2913af5bb81b5": {
      "model_module": "@jupyter-widgets/base",
      "model_module_version": "1.2.0",
      "model_name": "LayoutModel",
      "state": {
       "width": "155px"
      }
     },
     "2ac4deab7ae0414b8a293be9069da83e": {
      "model_module": "@jupyter-widgets/controls",
      "model_module_version": "1.5.0",
      "model_name": "DescriptionStyleModel",
      "state": {
       "description_width": "initial"
      }
     },
     "2b0b190eb3914af299bf91c9d6de8760": {
      "model_module": "@jupyter-widgets/base",
      "model_module_version": "1.2.0",
      "model_name": "LayoutModel",
      "state": {}
     },
     "2ba657c0e3ae49f5b8fb72a5302399d6": {
      "model_module": "@jupyter-widgets/base",
      "model_module_version": "1.2.0",
      "model_name": "LayoutModel",
      "state": {
       "width": "99%"
      }
     },
     "2c0693588d1d486cbf0737b34b59181f": {
      "model_module": "@jupyter-widgets/controls",
      "model_module_version": "1.5.0",
      "model_name": "DescriptionStyleModel",
      "state": {
       "description_width": ""
      }
     },
     "2c3b3e462a2b49d88560672452bcad6c": {
      "model_module": "@jupyter-widgets/base",
      "model_module_version": "1.2.0",
      "model_name": "LayoutModel",
      "state": {
       "width": "100px"
      }
     },
     "2d65d6b1dc6f4ceeba007dd7684413bf": {
      "model_module": "@jupyter-widgets/controls",
      "model_module_version": "1.5.0",
      "model_name": "DescriptionStyleModel",
      "state": {
       "description_width": "initial"
      }
     },
     "2d903b59feac4d4380a717ba8321bde7": {
      "model_module": "@jupyter-widgets/base",
      "model_module_version": "1.2.0",
      "model_name": "LayoutModel",
      "state": {}
     },
     "2da05afd496047c68655db1f83063745": {
      "model_module": "@jupyter-widgets/base",
      "model_module_version": "1.2.0",
      "model_name": "LayoutModel",
      "state": {
       "width": "155px"
      }
     },
     "2ddb06ab66184cceab76c9f985a2a2f4": {
      "model_module": "@jupyter-widgets/base",
      "model_module_version": "1.2.0",
      "model_name": "LayoutModel",
      "state": {}
     },
     "2e194f3aca3f40588a209e82cc1a6ac3": {
      "model_module": "@jupyter-widgets/base",
      "model_module_version": "1.2.0",
      "model_name": "LayoutModel",
      "state": {}
     },
     "2e4de99d374444f6914bb48ce53a24fb": {
      "model_module": "@jupyter-widgets/controls",
      "model_module_version": "1.5.0",
      "model_name": "HTMLModel",
      "state": {
       "layout": "IPY_MODEL_12758a21ff6b439390b64d41de66a159",
       "style": "IPY_MODEL_6cf94ef808b0443496b153da78f7e322",
       "value": "gamma:"
      }
     },
     "2e5de89a0b7948a197104e30fb175a11": {
      "model_module": "@jupyter-widgets/output",
      "model_module_version": "1.0.0",
      "model_name": "OutputModel",
      "state": {
       "layout": "IPY_MODEL_b0b13c3ee2d84e9799f5f4f602dc0641",
       "outputs": [
        {
         "data": {
          "application/vnd.jupyter.widget-view+json": {
           "model_id": "673682ffd23d42cfbbeb7e15c038dea9",
           "version_major": 2,
           "version_minor": 0
          },
          "text/plain": "HTML(value='<p class=\"notification info\">Excluded attribute \"Mortgage\"</p>')"
         },
         "metadata": {},
         "output_type": "display_data"
        }
       ]
      }
     },
     "2fad6ccfd7fd492eb0639a0787dab14d": {
      "model_module": "@jupyter-widgets/controls",
      "model_module_version": "1.5.0",
      "model_name": "BoundedFloatTextModel",
      "state": {
       "layout": "IPY_MODEL_c1c44d6b06f5437fa2ebaf5011638198",
       "step": null,
       "style": "IPY_MODEL_547ee479dc194683abf198ab6d2eb5e6"
      }
     },
     "2fb4eb19e09e4866b00ffe00508494c6": {
      "model_module": "@jupyter-widgets/controls",
      "model_module_version": "1.5.0",
      "model_name": "ButtonStyleModel",
      "state": {}
     },
     "2fd22026a8794d90aca522eeaed98052": {
      "model_module": "@jupyter-widgets/controls",
      "model_module_version": "1.5.0",
      "model_name": "HBoxModel",
      "state": {
       "_dom_classes": [
        "list-item"
       ],
       "children": [
        "IPY_MODEL_a026bbc876cc433dba0f76ca53b9f37e",
        "IPY_MODEL_e975c1dabd8c416ab194703f8c9d55d0"
       ],
       "layout": "IPY_MODEL_483002d2f0a946aaa20e0d14f9c8edd3"
      }
     },
     "3011dd9edc074c1e870dde957a76cc3e": {
      "model_module": "@jupyter-widgets/base",
      "model_module_version": "1.2.0",
      "model_name": "LayoutModel",
      "state": {}
     },
     "30b64971be504d16961fcfb2401a2784": {
      "model_module": "@jupyter-widgets/base",
      "model_module_version": "1.2.0",
      "model_name": "LayoutModel",
      "state": {
       "width": "30%"
      }
     },
     "30c2ef879d5f488d854cf92f8a47116f": {
      "model_module": "@jupyter-widgets/controls",
      "model_module_version": "1.5.0",
      "model_name": "BoundedIntTextModel",
      "state": {
       "layout": "IPY_MODEL_e9ee6121c2534e7a8ba182b4eb324871",
       "max": 1000,
       "style": "IPY_MODEL_07df6ea00876400c8be048a82c9ca4b7",
       "value": 32
      }
     },
     "30ef1e88de4d4833a9dac96c180d148d": {
      "model_module": "@jupyter-widgets/controls",
      "model_module_version": "1.5.0",
      "model_name": "DescriptionStyleModel",
      "state": {
       "description_width": ""
      }
     },
     "3119910c61574d1da3ef71d56bab0650": {
      "model_module": "@jupyter-widgets/base",
      "model_module_version": "1.2.0",
      "model_name": "LayoutModel",
      "state": {}
     },
     "31333f95efbf44358b43ca4f3b06bb2f": {
      "model_module": "@jupyter-widgets/controls",
      "model_module_version": "1.5.0",
      "model_name": "HBoxModel",
      "state": {
       "_dom_classes": [
        "list-item"
       ],
       "children": [
        "IPY_MODEL_dec588e3532542f384828d37862486f1",
        "IPY_MODEL_d6162099e1174a0b9df46cde24ce82c3"
       ],
       "layout": "IPY_MODEL_5dae2aaeeee844729188e621d2a59dea"
      }
     },
     "31ae0d8838774a1697ac4a953c1eda0a": {
      "model_module": "@jupyter-widgets/controls",
      "model_module_version": "1.5.0",
      "model_name": "DescriptionStyleModel",
      "state": {
       "description_width": ""
      }
     },
     "31ba543d77014a938ce84d56b0f886b9": {
      "model_module": "@jupyter-widgets/controls",
      "model_module_version": "1.5.0",
      "model_name": "BoundedFloatTextModel",
      "state": {
       "layout": "IPY_MODEL_000cea394099460faa0dea02e3ab0edc",
       "max": 1,
       "step": null,
       "style": "IPY_MODEL_35f1e3b0ec4542a2a6eafc773418e85d",
       "value": 0.3
      }
     },
     "31baf9a6d0924ac0949d0e2abfacb216": {
      "model_module": "@jupyter-widgets/base",
      "model_module_version": "1.2.0",
      "model_name": "LayoutModel",
      "state": {}
     },
     "31be94fb68dd479ba2c4290a01bca912": {
      "model_module": "@jupyter-widgets/controls",
      "model_module_version": "1.5.0",
      "model_name": "DescriptionStyleModel",
      "state": {
       "description_width": ""
      }
     },
     "31cbebacaa5d43a6b9dab119750e25f7": {
      "model_module": "@jupyter-widgets/controls",
      "model_module_version": "1.5.0",
      "model_name": "BoxModel",
      "state": {
       "children": [
        "IPY_MODEL_a8a5bc063727459ba26fe437b63cd4b1",
        "IPY_MODEL_e2fcf39c7cbc41eda84740028891c75e",
        "IPY_MODEL_b024ab9767824a0b82e59a61f8fa61bc",
        "IPY_MODEL_0fc9e6fe06014e349aa53385b4407744"
       ],
       "layout": "IPY_MODEL_020a5b07a297494d846db1f2824500d8"
      }
     },
     "31e6e0d9bc224e87be1a224a578439d8": {
      "model_module": "@jupyter-widgets/controls",
      "model_module_version": "1.5.0",
      "model_name": "ButtonModel",
      "state": {
       "_dom_classes": [
        "pbtn"
       ],
       "button_style": "danger",
       "icon": "cog",
       "layout": "IPY_MODEL_feb07aa7e1eb45a19d0d5527cb80675d",
       "style": "IPY_MODEL_0160f8a29fad4e56a27f4759b4e0e46d"
      }
     },
     "321949033cf9470c8ac81e669338e34d": {
      "model_module": "@jupyter-widgets/output",
      "model_module_version": "1.0.0",
      "model_name": "OutputModel",
      "state": {
       "layout": "IPY_MODEL_e0aeb454b90f4ec58dcb998a9112270a",
       "outputs": [
        {
         "data": {
          "application/vnd.jupyter.widget-view+json": {
           "model_id": "992e12c4db1241fab2a1f9657c23436d",
           "version_major": 2,
           "version_minor": 0
          },
          "text/plain": "HTML(value=\"\\n        <table class='ptable striped'>\\n            <thead class='pthead'>\\n            </thead>…"
         },
         "metadata": {},
         "output_type": "display_data"
        }
       ]
      }
     },
     "321dccecc51844e988fea53a97b810c0": {
      "model_module": "@jupyter-widgets/controls",
      "model_module_version": "1.5.0",
      "model_name": "HBoxModel",
      "state": {
       "_dom_classes": [
        "list-item"
       ],
       "children": [
        "IPY_MODEL_d68642cd4d4843e1a02fe382af8292ad",
        "IPY_MODEL_7ec11a662e6c4bb7928b4ed53a38e92d"
       ],
       "layout": "IPY_MODEL_9165038760704629b7446948b0228895"
      }
     },
     "3263f2b500844c3dbd3f5286caebbc66": {
      "model_module": "@jupyter-widgets/base",
      "model_module_version": "1.2.0",
      "model_name": "LayoutModel",
      "state": {}
     },
     "326a72956520489aa18e8dfffdfa1fe5": {
      "model_module": "@jupyter-widgets/controls",
      "model_module_version": "1.5.0",
      "model_name": "DescriptionStyleModel",
      "state": {
       "description_width": ""
      }
     },
     "32ccd610fd564c92b80c42c8dbaf395c": {
      "model_module": "@jupyter-widgets/base",
      "model_module_version": "1.2.0",
      "model_name": "LayoutModel",
      "state": {
       "width": "30%"
      }
     },
     "332edf6f07e745849b49c3e29e281aca": {
      "model_module": "@jupyter-widgets/controls",
      "model_module_version": "1.5.0",
      "model_name": "CheckboxModel",
      "state": {
       "description": "FIGS",
       "disabled": false,
       "indent": false,
       "layout": "IPY_MODEL_5cc60032793f4c2587fc518afc7da40f",
       "style": "IPY_MODEL_5d01511cac3445c7bb7cfd21bf00cb74",
       "value": false
      }
     },
     "33933543dbf349fcacddc41c6ddf0de4": {
      "model_module": "@jupyter-widgets/controls",
      "model_module_version": "1.5.0",
      "model_name": "DescriptionStyleModel",
      "state": {
       "description_width": ""
      }
     },
     "34017ebafc1c4b0cbbd8fa2735c1a348": {
      "model_module": "@jupyter-widgets/base",
      "model_module_version": "1.2.0",
      "model_name": "LayoutModel",
      "state": {
       "width": "100%"
      }
     },
     "3404962a90844161b7eb4da323937870": {
      "model_module": "@jupyter-widgets/base",
      "model_module_version": "1.2.0",
      "model_name": "LayoutModel",
      "state": {
       "width": "auto"
      }
     },
     "340c7b8860bb4ae59c39603243a697b5": {
      "model_module": "@jupyter-widgets/controls",
      "model_module_version": "1.5.0",
      "model_name": "BoxModel",
      "state": {
       "_dom_classes": [
        "inner-card"
       ],
       "children": [
        "IPY_MODEL_36c8a25b483f43408cc6b79c887f8898",
        "IPY_MODEL_9388fde85dc247ef9bfb54c92e3c09ad",
        "IPY_MODEL_7added2501954b7e9aa9be11a8e193f9"
       ],
       "layout": "IPY_MODEL_0e54f3180abb4096b444127dc8235d0b"
      }
     },
     "341348efd6524adab01dd6e84e2bee68": {
      "model_module": "@jupyter-widgets/base",
      "model_module_version": "1.2.0",
      "model_name": "LayoutModel",
      "state": {
       "width": "65%"
      }
     },
     "3438d454dea24087ab413f5da6a6f805": {
      "model_module": "@jupyter-widgets/base",
      "model_module_version": "1.2.0",
      "model_name": "LayoutModel",
      "state": {
       "width": "20%"
      }
     },
     "34852eac21c44311a655722e7dd3027c": {
      "model_module": "@jupyter-widgets/controls",
      "model_module_version": "1.5.0",
      "model_name": "HTMLModel",
      "state": {
       "layout": "IPY_MODEL_8f3d5f952d76455ba76b6038512175bf",
       "style": "IPY_MODEL_88f868d3c31347e68c2ab6eff7391da3",
       "value": "Max_bins:"
      }
     },
     "34a40d8cbc4a4bb99f9e008322887ee6": {
      "model_module": "@jupyter-widgets/base",
      "model_module_version": "1.2.0",
      "model_name": "LayoutModel",
      "state": {
       "height": "auto"
      }
     },
     "34b3e994bf894f85920a4e7ead756cdd": {
      "model_module": "@jupyter-widgets/base",
      "model_module_version": "1.2.0",
      "model_name": "LayoutModel",
      "state": {}
     },
     "34bead2db3c442128a6b21c50e7975b6": {
      "model_module": "@jupyter-widgets/controls",
      "model_module_version": "1.5.0",
      "model_name": "DropdownModel",
      "state": {
       "_options_labels": [
        "None",
        "Balance",
        "Amount Past Due",
        "Credit Inquiry",
        "Approved"
       ],
       "index": 0,
       "layout": "IPY_MODEL_7e33b531851944d08c546d804ef252f0",
       "style": "IPY_MODEL_02f7eea3168847bc87baac279aca9f87"
      }
     },
     "353ce7b3c6574a96bee3e5c84954c232": {
      "model_module": "@jupyter-widgets/base",
      "model_module_version": "1.2.0",
      "model_name": "LayoutModel",
      "state": {
       "display": "flex",
       "flex_flow": "column",
       "width": "48%"
      }
     },
     "35b2d71358fb4c5aa54778675c1f237c": {
      "model_module": "@jupyter-widgets/base",
      "model_module_version": "1.2.0",
      "model_name": "LayoutModel",
      "state": {}
     },
     "35e52996970b4a5e9f035b09eacf7f54": {
      "model_module": "@jupyter-widgets/controls",
      "model_module_version": "1.5.0",
      "model_name": "DropdownModel",
      "state": {
       "_options_labels": [
        "Select",
        "Mortgage",
        "Balance",
        "Amount Past Due",
        "Credit Inquiry",
        "Gender",
        "Race",
        "Approved"
       ],
       "index": 0,
       "layout": "IPY_MODEL_49b6a08242cf4e858cadab5041a42306",
       "style": "IPY_MODEL_38ae5c7842f54b41b7f49ce3deb05718"
      }
     },
     "35f1e3b0ec4542a2a6eafc773418e85d": {
      "model_module": "@jupyter-widgets/controls",
      "model_module_version": "1.5.0",
      "model_name": "DescriptionStyleModel",
      "state": {
       "description_width": "initial"
      }
     },
     "362b574deb11441e9c8e34110d1703e1": {
      "model_module": "@jupyter-widgets/base",
      "model_module_version": "1.2.0",
      "model_name": "LayoutModel",
      "state": {
       "width": "155px"
      }
     },
     "3658f8ba0e9d43bf99e883a9738f41b1": {
      "model_module": "@jupyter-widgets/controls",
      "model_module_version": "1.5.0",
      "model_name": "DropdownModel",
      "state": {
       "_options_labels": [
        "By Weights",
        "Mortgage",
        "Balance",
        "Amount Past Due",
        "Credit Inquiry",
        "Gender",
        "Race",
        "Approved"
       ],
       "index": 6,
       "layout": "IPY_MODEL_db26343a1a124f58b458f3357a029007",
       "style": "IPY_MODEL_8cd322976d854676b5d31dc1eecc6d2e"
      }
     },
     "36889bdc1d7b42bc8262864b4dd8d059": {
      "model_module": "@jupyter-widgets/controls",
      "model_module_version": "1.5.0",
      "model_name": "BoundedIntTextModel",
      "state": {
       "layout": "IPY_MODEL_bf6b50ed40354f93898171e8b4bb1281",
       "max": 10000,
       "min": 1,
       "style": "IPY_MODEL_98e91b60fae344899913e49dd0e07020",
       "value": 100
      }
     },
     "36c8a25b483f43408cc6b79c887f8898": {
      "model_module": "@jupyter-widgets/controls",
      "model_module_version": "1.5.0",
      "model_name": "HBoxModel",
      "state": {
       "children": [
        "IPY_MODEL_1e0149215f2f41ed8a4242b1167fd7f7",
        "IPY_MODEL_8604bb71e2f349449813cdff1558df4b"
       ],
       "layout": "IPY_MODEL_bda3fc6b4b754864a0609191b7144edf"
      }
     },
     "36d6564d2f804fcc876093aacf10a31a": {
      "model_module": "@jupyter-widgets/controls",
      "model_module_version": "1.5.0",
      "model_name": "VBoxModel",
      "state": {
       "children": [
        "IPY_MODEL_539f1185eca2435e941b57bca6d2d6cc",
        "IPY_MODEL_b95f21bf031a4806ad59d9079239f2fd",
        "IPY_MODEL_37f6461a39b945c597d4fc09be1f95f9",
        "IPY_MODEL_79e03efd4f234540aed8b0e08e3b4889"
       ],
       "layout": "IPY_MODEL_87823a1fd74f464792b08d10de1acac0"
      }
     },
     "3780618626534b6c94de2f63d36fbc3a": {
      "model_module": "@jupyter-widgets/base",
      "model_module_version": "1.2.0",
      "model_name": "LayoutModel",
      "state": {
       "width": "65%"
      }
     },
     "37a0599a7dc744bea8d4d6fb19e5a39a": {
      "model_module": "@jupyter-widgets/base",
      "model_module_version": "1.2.0",
      "model_name": "LayoutModel",
      "state": {
       "display": "flex",
       "flex_flow": "column",
       "width": "auto"
      }
     },
     "37a645a2394a4501999e52add12e80c9": {
      "model_module": "@jupyter-widgets/controls",
      "model_module_version": "1.5.0",
      "model_name": "HBoxModel",
      "state": {
       "children": [
        "IPY_MODEL_65400aa62b1e45ec9b3c60be126795d5",
        "IPY_MODEL_b79de3194cdd4b71a931cb2484b7fe4d"
       ],
       "layout": "IPY_MODEL_5ffce30c9d4145fa8e598545e90dec11"
      }
     },
     "37bc90c69a8d45cd8f9115d0e8edf2a3": {
      "model_module": "@jupyter-widgets/controls",
      "model_module_version": "1.5.0",
      "model_name": "HTMLModel",
      "state": {
       "layout": "IPY_MODEL_c38db407ca274f899222123569639e7c",
       "style": "IPY_MODEL_eb4ee0a1793b473fa491c2074f0a7b30",
       "value": "<div class='divider'></div>"
      }
     },
     "37f6461a39b945c597d4fc09be1f95f9": {
      "model_module": "@jupyter-widgets/controls",
      "model_module_version": "1.5.0",
      "model_name": "HTMLModel",
      "state": {
       "layout": "IPY_MODEL_b293fc47ef174b26abd633616b94a228",
       "style": "IPY_MODEL_0b7e82c5ed284353a50b1f038f6323b9",
       "value": "Min_samples_leaf:"
      }
     },
     "383350fdbf41458e8c619d27a474b36a": {
      "model_module": "@jupyter-widgets/base",
      "model_module_version": "1.2.0",
      "model_name": "LayoutModel",
      "state": {
       "width": "auto"
      }
     },
     "383bfc4d6f294c919ce82eae4b1e40c7": {
      "model_module": "@jupyter-widgets/controls",
      "model_module_version": "1.5.0",
      "model_name": "DescriptionStyleModel",
      "state": {
       "description_width": "initial"
      }
     },
     "384b1fd5afb549958de025d7a9ffdbe9": {
      "model_module": "@jupyter-widgets/base",
      "model_module_version": "1.2.0",
      "model_name": "LayoutModel",
      "state": {
       "width": "auto"
      }
     },
     "3881a34e9d804d8e8596f4047b642b5d": {
      "model_module": "@jupyter-widgets/controls",
      "model_module_version": "1.5.0",
      "model_name": "DropdownModel",
      "state": {
       "_options_labels": [
        "0.0",
        "1.0"
       ],
       "index": 1,
       "layout": "IPY_MODEL_9932f42802f4441ab920eb376cf9bae1",
       "style": "IPY_MODEL_1a0d0b83568a42e6bfd233f801b2a0e9"
      }
     },
     "389372664c2f437c9a313d91d834a8a0": {
      "model_module": "@jupyter-widgets/controls",
      "model_module_version": "1.5.0",
      "model_name": "DescriptionStyleModel",
      "state": {
       "description_width": "initial"
      }
     },
     "38ae5c7842f54b41b7f49ce3deb05718": {
      "model_module": "@jupyter-widgets/controls",
      "model_module_version": "1.5.0",
      "model_name": "DescriptionStyleModel",
      "state": {
       "description_width": "initial"
      }
     },
     "38df06f1c1a44248bec79045a50472ba": {
      "model_module": "@jupyter-widgets/controls",
      "model_module_version": "1.5.0",
      "model_name": "HTMLModel",
      "state": {
       "layout": "IPY_MODEL_34b3e994bf894f85920a4e7ead756cdd",
       "style": "IPY_MODEL_674624e3a490455a850ae23578423472",
       "value": "<h4 style='margin: 10px 0px;'>Choose Model</h4>"
      }
     },
     "38fbb55345b54f009f635b43440038ae": {
      "model_module": "@jupyter-widgets/controls",
      "model_module_version": "1.5.0",
      "model_name": "VBoxModel",
      "state": {
       "children": [
        "IPY_MODEL_7932d2f7f3c543a6bd88c9b21439859c"
       ],
       "layout": "IPY_MODEL_e73cdd935f1f4409a5064b6fc082ba09"
      }
     },
     "39814e6f259b4be9a1b01fe821768710": {
      "model_module": "@jupyter-widgets/controls",
      "model_module_version": "1.5.0",
      "model_name": "ButtonStyleModel",
      "state": {}
     },
     "39a127ed6c3c468fb8356fd78bcee276": {
      "model_module": "@jupyter-widgets/controls",
      "model_module_version": "1.5.0",
      "model_name": "HTMLModel",
      "state": {
       "layout": "IPY_MODEL_63051a33465e4b13943eef94287c2b8a",
       "style": "IPY_MODEL_bc7742509dd348fc9c6e164a9b6c34ec",
       "value": "Feature_increasing:"
      }
     },
     "39a3ca5bd8e642dda91c553ea4b43ade": {
      "model_module": "@jupyter-widgets/base",
      "model_module_version": "1.2.0",
      "model_name": "LayoutModel",
      "state": {}
     },
     "3a4da1f1b22d490aa21c1b8722ee6e46": {
      "model_module": "@jupyter-widgets/controls",
      "model_module_version": "1.5.0",
      "model_name": "HTMLModel",
      "state": {
       "layout": "IPY_MODEL_bc004fae62654b8ba71608086d13fe8f",
       "style": "IPY_MODEL_08199c375fed4006b103ff8465f731d1",
       "value": "Model name:"
      }
     },
     "3a681e18e08e4d0db6e5b5a96a8fcea4": {
      "model_module": "@jupyter-widgets/base",
      "model_module_version": "1.2.0",
      "model_name": "LayoutModel",
      "state": {
       "width": "20%"
      }
     },
     "3a8f7c9f23884968b30a22508b6553d7": {
      "model_module": "@jupyter-widgets/base",
      "model_module_version": "1.2.0",
      "model_name": "LayoutModel",
      "state": {
       "width": "auto"
      }
     },
     "3a92363e984241c0a727701fd534e9a3": {
      "model_module": "@jupyter-widgets/base",
      "model_module_version": "1.2.0",
      "model_name": "LayoutModel",
      "state": {}
     },
     "3a95a8cd59084b48826fdcc3d02de12c": {
      "model_module": "@jupyter-widgets/controls",
      "model_module_version": "1.5.0",
      "model_name": "TextModel",
      "state": {
       "layout": "IPY_MODEL_e97420e96d7c4151980e84bb65102e35",
       "placeholder": "Input name",
       "style": "IPY_MODEL_aa653adede00410f8d82e1b3281fe7c2",
       "value": "GLM"
      }
     },
     "3c33d3fc26864a819e59785d9f55e397": {
      "model_module": "@jupyter-widgets/base",
      "model_module_version": "1.2.0",
      "model_name": "LayoutModel",
      "state": {}
     },
     "3ca61982aca04e328e45df684857af7f": {
      "model_module": "@jupyter-widgets/base",
      "model_module_version": "1.2.0",
      "model_name": "LayoutModel",
      "state": {
       "width": "65%"
      }
     },
     "3d2217afcd074994848084d6b2e7671b": {
      "model_module": "@jupyter-widgets/base",
      "model_module_version": "1.2.0",
      "model_name": "LayoutModel",
      "state": {
       "height": "30%",
       "width": "auto"
      }
     },
     "3d3374f1c25d412cbd41d5a4dd0078f8": {
      "model_module": "@jupyter-widgets/controls",
      "model_module_version": "1.5.0",
      "model_name": "HBoxModel",
      "state": {
       "children": [
        "IPY_MODEL_212f89427e3a4d2b864482507537f566",
        "IPY_MODEL_273d8c8468684d77aa5e7aa112725550"
       ],
       "layout": "IPY_MODEL_5cb91bb5e9514d1f87248431aa245898"
      }
     },
     "3d69ace5c2cb4b2c8527079349f5f445": {
      "model_module": "@jupyter-widgets/controls",
      "model_module_version": "1.5.0",
      "model_name": "BoxModel",
      "state": {
       "layout": "IPY_MODEL_12e139cd42b943b5aa0eb26f39f47841"
      }
     },
     "3e079edce0fc4ce99f64f6b275ede335": {
      "model_module": "@jupyter-widgets/controls",
      "model_module_version": "1.5.0",
      "model_name": "HTMLModel",
      "state": {
       "layout": "IPY_MODEL_c7e5ed09a8064d20a9741fcf38d6cc75",
       "style": "IPY_MODEL_e34dcd44e5124eab9657acea46c771d2",
       "value": "\n        <style>\n\n        .left-label {\n            width: 30%;\n        }\n\n        .card-panel {\n            -webkit-transition: -webkit-box-shadow .25s;\n            transition: -webkit-box-shadow .25s;\n            transition: box-shadow .25s;\n            transition: box-shadow .25s, -webkit-box-shadow .25s;\n            padding: 24px;\n            margin: 0.5rem 0 1rem 0;\n            border-radius: 2px;\n            background-color: #fff;\n        }\n\n        .card {\n            position: relative;\n            margin: 0.5rem 0.1rem 1rem 0.2rem;\n            background-color: #fff;\n            -webkit-transition: -webkit-box-shadow .25s;\n            transition: -webkit-box-shadow .25s;\n            transition: box-shadow .25s;\n            transition: box-shadow .25s, -webkit-box-shadow .25s;\n            border-radius: 2px;\n            box-shadow: 0 2px 2px 0 rgb(0 0 0 / 14%), 0 3px 1px -2px rgb(0 0 0 / 12%), 0 1px 5px 0 rgb(0 0 0 / 20%);\n            padding: 24px;\n            color: white;\n        }\n\n        .card .card-title {\n            font-size: 24px;\n            font-weight: 300;\n        }\n\n        @media only screen and (min-width: 800px) {\n            /* For notebook: */\n            .card {width: 99% !important;}\n        }\n\n        @media only screen and (min-width: 1400px) {\n            /* For colab: */\n            .card {width: 99% !important;}\n        }\n\n        .blue-grey.darken-1 {\n            background-color: #546e7a !important;\n        }\n\n        .small-card {\n            position: relative;\n            margin: 0.5rem 0 1rem 0;\n            background-color: #fff;\n            -webkit-transition: -webkit-box-shadow .25s;\n            transition: -webkit-box-shadow .25s;\n            transition: box-shadow .25s;\n            transition: box-shadow .25s, -webkit-box-shadow .25s;\n            border-radius: 2px;\n            box-shadow: 0 2px 2px 0 rgb(0 0 0 / 14%), 0 3px 1px -2px rgb(0 0 0 / 12%), 0 1px 5px 0 rgb(0 0 0 / 20%);\n            padding: 0px 5px 0px 5px;\n            color: white;\n        }\n\n        .inner-card {\n            position: relative;\n            background-color: #fff;\n            -webkit-transition: -webkit-box-shadow .25s;\n            transition: -webkit-box-shadow .25s;\n            transition: box-shadow .25s;\n            transition: box-shadow .25s, -webkit-box-shadow .25s;\n            border-radius: 2px;\n            box-shadow: 0 2px 2px 0 rgb(0 0 0 / 14%), 0 3px 1px -2px rgb(0 0 0 / 12%), 0 1px 5px 0 rgb(0 0 0 / 20%);\n            padding: 20px;\n            color: white;\n            margin: 0px 1px 1px 1px;\n        }\n\n        .card-with-tab {\n            position: relative;\n            margin: 0.5rem 0.1rem 1rem 0.2rem;\n            background-color: #fff;\n            -webkit-transition: -webkit-box-shadow .25s;\n            transition: -webkit-box-shadow .25s;\n            transition: box-shadow .25s;\n            transition: box-shadow .25s, -webkit-box-shadow .25s;\n            border-radius: 2px;\n            box-shadow: 0 2px 2px 0 rgb(0 0 0 / 14%), 0 3px 1px -2px rgb(0 0 0 / 12%), 0 1px 5px 0 rgb(0 0 0 / 20%);\n            padding: 24px;\n            color: white;\n        }\n\n        .card-with-tab button {\n            width: auto;\n            padding: 12px 40px;\n        }\n\n        .list {\n            padding: 0px 10px;\n            box-shadow: 0 2px 2px 0 rgb(0 0 0 / 14%), 0 3px 1px -2px rgb(0 0 0 / 12%), 0 1px 5px 0 rgb(0 0 0 / 20%);\n            margin: 0px 1px 60px 1px;\n        }\n\n        .list-item {\n            padding: 10px 0px;\n            border-width: 0;\n            border-style: solid;\n            border-color: rgba(0, 0, 0, 0.08);\n            border-bottom-width: thin;\n        }\n\n        .divider {\n            margin: 10px 0px;\n            border-width: 0;\n            border-style: solid;\n            border-color: rgba(0, 0, 0, 0.08);\n            border-bottom-width: thin;\n        }\n\n        .hr {\n            margin: 0;\n            -webkit-flex-shrink: 0;\n            -ms-flex-negative: 0;\n            flex-shrink: 0;\n            border-width: 0;\n            border-style: solid;\n            border-color: rgba(0, 0, 0, 0.08);\n            border-bottom-width: thin;\n        }\n\n        .notification {\n            transition: box-shadow 300ms cubic-bezier(0.4, 0, 0.2, 1) 0ms;\n            border-radius: 4px;\n            box-shadow: 0 2px 2px 0 rgb(0 0 0 / 14%), 0 3px 1px -2px rgb(0 0 0 / 12%), 0 1px 5px 0 rgb(0 0 0 / 20%);\n            font-family: Roboto, Helvetica, Arial, sans-serif;\n            font-weight: 500;\n            font-size: 12px;\n            line-height: 1.43;\n            letter-spacing: 0.01071em;\n            background-color: rgb(2, 136, 209);\n            display: flex;\n            padding: 6px 16px;\n            color: rgb(255, 255, 255);\n            margin-top: 10px;\n        }\n\n        .success {\n            background-color: #EDF7ED;\n            color: #1E4620;\n        }\n\n        .error {\n            background-color: #FDEDED;\n            color: #5F2120;\n        }\n\n        .info {\n            background-color: #E5F6FD;\n            color: #528298;\n        }\n\n        .warn {\n            background-color: #FFF4E5;\n            color: #663C00;\n        }\n\n        .margin-top-20 {\n            margin-top: 20px;\n        }\n\n        .hide {\n            display: none;\n        }\n\n        .pbtn {\n            display: inline-flex;\n            -webkit-box-align: center;\n            align-items: center;\n            -webkit-box-pack: center;\n            justify-content: center;\n            position: relative;\n            box-sizing: border-box;\n            -webkit-tap-highlight-color: transparent;\n            outline: 0px;\n            border: 0px;\n            margin: 0px;\n            cursor: pointer;\n            user-select: none;\n            vertical-align: middle;\n            appearance: none;\n            text-decoration: none;\n            font-family: Roboto, Helvetica, Arial, sans-serif;\n            font-weight: 550;\n            font-size: 12px;\n            line-height: 1.75;\n            letter-spacing: 0.02857em;\n            text-transform: uppercase;\n            min-width: 64px;\n            padding: 6px 16px;\n            border-radius: 4px;\n            transition: background-color 250ms cubic-bezier(0.4, 0, 0.2, 1) 0ms, box-shadow 250ms cubic-bezier(0.4, 0, 0.2, 1) 0ms, border-color 250ms cubic-bezier(0.4, 0, 0.2, 1) 0ms, color 250ms cubic-bezier(0.4, 0, 0.2, 1) 0ms;\n            color: rgb(255, 255, 255);\n            background-color: #D71E28;\n            box-shadow: rgb(0 0 0 / 20%) 0px 3px 1px -2px, rgb(0 0 0 / 14%) 0px 2px 2px 0px, rgb(0 0 0 / 12%) 0px 1px 5px 0px;\n        }\n\n        .output_subarea {\n            padding: 0px !important;\n        }\n\n        .ptable, .pth, .ptd {\n            border: none;\n        }\n\n        .pth, .ptd {\n            max-width: 150px;\n            white-space: nowrap;\n            overflow: hidden;\n            -o-text-overflow: ellipsis;\n            -ms-text-overflow: ellipsis;\n            text-overflow: ellipsis;\n        }\n\n        .ptable {\n            display: table;\n            border-collapse: collapse;\n            border-spacing: 0;\n        }\n\n        .ptable.striped .ptr {\n            border-bottom: none;\n        }\n\n        .ptable.striped > .ptbody > .ptr:nth-child(odd) {\n            background-color: rgba(242, 242, 242, 0.5);\n        }\n\n        .ptable.striped > .ptbody > .ptr > .ptd {\n            border-radius: 0;\n        }\n\n        .ptable.highlight > .ptbody > .ptr {\n            -webkit-transition: background-color .25s ease;\n            transition: background-color .25s ease;\n        }\n\n        .ptable.highlight > .ptbody > .ptr:hover {\n            background-color: rgba(242, 242, 242, 0.5);\n        }\n\n        .ptable.centered .pthead .ptr .pth, .ptable.centered .ptbody .ptr .ptd {\n            text-align: center;\n        }\n\n        .ptr {\n            border-bottom: 1px solid rgba(0, 0, 0, 0.12);\n        }\n\n        .ptr.hightlight {\n            background-color: yellow !important;\n        }\n\n        .ptd, .pth {\n            padding: 0.2rem 0.6rem;\n            display: table-cell;\n            text-align: right;\n            vertical-align: middle;\n            border-radius: 2px;\n            position: relative;\n        }\n\n        .ptr.grey {\n            background-color: grey !important;\n        }\n\n        .ptr.strikeout .ptd:before {\n            content: \" \";\n            position: absolute;\n            top: 50%;\n            left: 0;\n            border-bottom: 1px solid #111;\n            width: 100%;\n        }\n\n        .widget-toggle-button {\n            display: inline-flex;\n            -webkit-box-align: center;\n            align-items: center;\n            -webkit-box-pack: center;\n            justify-content: center;\n            box-sizing: border-box;\n            -webkit-tap-highlight-color: transparent;\n            background-color: transparent !important;\n            outline: 0px;\n            border: 0px;\n            border-bottom: 2px solid #E4E4E4 !important;\n            box-shadow: none !important;\n            margin: 0px !important;\n            border-radius: 0px;\n            cursor: pointer;\n            user-select: none;\n            vertical-align: middle;\n            appearance: none;\n            text-decoration: none;\n            font-family: Roboto, Helvetica, Arial, sans-serif;\n            font-weight: 500;\n            font-size: 14px;\n            line-height: 1.25;\n            letter-spacing: 0.02857em;\n            max-width: 360px;\n            min-width: 90px;\n            position: relative;\n            min-height: 48px;\n            flex-shrink: 0;\n            padding: 12px 16px;\n            overflow: hidden;\n            white-space: normal;\n            text-align: center;\n            flex-direction: column;\n            color: rgba(0, 0, 0, 0.6);\n        }\n\n        .mod-active {\n            color: rgb(25, 118, 210) !important;\n            border-bottom: 2px solid rgb(25, 118, 210) !important;\n        }\n\n        .narrow-tab button {\n            max-width: 15%;\n        }\n\n        .overflow-fix .jupyter-widgets {\n            overflow: auto;\n        }\n\n        .inner-padding {\n            padding-top: 20px;\n        }\n\n        .fix-img img {\n            width: 100%;\n        }\n\n        .flex-reverse-for-update-button {\n            flex-direction: row-reverse;\n            margin-right: 50px;\n        }\n\n        .data-summary-tab {\n            max-height: 400px;\n        }\n\n        .input-width-with-parent .widget-dropdown {\n            width: 100%;\n        }\n\n        .input-width-with-parent .widget-text {\n            width: 100%;\n        }\n\n        .no-margin {\n            margin: 0px;\n        }\n\n        .widget-hprogress label {\n            text-align: left;\n        }\n\n        .widget-dropdown label {\n            margin-right: 10px;\n        }\n\n        .form .widget-dropdown {\n            width: auto;\n        }\n\n        .form .widget-text {\n            width: auto;\n        }\n\n        .form p {\n            margin: 0px;\n        }\n\n        .widget-dropdown {\n            white-space: nowrap;\n            overflow: hidden;\n            -o-text-overflow: ellipsis;\n            -ms-text-overflow: ellipsis;\n            text-overflow: ellipsis;\n        }\n\n        .progress-train label {\n            margin-right: 10px;\n        }\n\n        select {\n            height: 97% !important;\n        }\n\n        .no-overflow {\n            overflow: none;\n        }\n\n        .split-btn button {\n            margin-bottom: 2px;\n        }\n\n        .register-btn {\n            width: 50%\n        }\n\n        .register-btn-colab {\n            width: 40%\n        }\n\n        .fix-config-from-overflow .jp-OutputArea-child {\n            display: inherit;\n        }\n        \n        .checkbox-center input[type=\"checkbox\"] {\n            vertical-align: middle;\n        }\n\n        input[type=\"checkbox\"] {\n            vertical-align: middle;\n        }\n\n        </style>\n        "
      }
     },
     "3e2407d5ed164ebf8e2ea1ec20e61d68": {
      "model_module": "@jupyter-widgets/base",
      "model_module_version": "1.2.0",
      "model_name": "LayoutModel",
      "state": {
       "width": "15%"
      }
     },
     "3e32c9ee6fb645a78e41ab4fb8e9a0d5": {
      "model_module": "@jupyter-widgets/base",
      "model_module_version": "1.2.0",
      "model_name": "LayoutModel",
      "state": {}
     },
     "3e411c435ac948a49f465f278c5165fe": {
      "model_module": "@jupyter-widgets/controls",
      "model_module_version": "1.5.0",
      "model_name": "ButtonStyleModel",
      "state": {}
     },
     "3e65f176b8484f02bf8dc47da5b062f0": {
      "model_module": "@jupyter-widgets/controls",
      "model_module_version": "1.5.0",
      "model_name": "DescriptionStyleModel",
      "state": {
       "description_width": ""
      }
     },
     "3e72498eb6e34d2381e07903f0ed7ed3": {
      "model_module": "@jupyter-widgets/controls",
      "model_module_version": "1.5.0",
      "model_name": "DescriptionStyleModel",
      "state": {
       "description_width": ""
      }
     },
     "3e9d36b35d344b18a8df7b68fb33a3fa": {
      "model_module": "@jupyter-widgets/output",
      "model_module_version": "1.0.0",
      "model_name": "OutputModel",
      "state": {
       "layout": "IPY_MODEL_91cc9d4ddbf14024858b8a4b2d06d725",
       "outputs": [
        {
         "data": {
          "application/vnd.jupyter.widget-view+json": {
           "model_id": "eb84416c48324e77bc573e39d7c0eaa8",
           "version_major": 2,
           "version_minor": 0
          },
          "text/plain": "HTML(value=\"<p class='notification info'>Register GLM Done</p>\")"
         },
         "metadata": {},
         "output_type": "display_data"
        }
       ]
      }
     },
     "3eaee7be5e9e4a82b698279053450fd2": {
      "model_module": "@jupyter-widgets/output",
      "model_module_version": "1.0.0",
      "model_name": "OutputModel",
      "state": {
       "layout": "IPY_MODEL_25ab885823c84cb89220a97bdfbf9e9e",
       "outputs": [
        {
         "data": {
          "application/vnd.jupyter.widget-view+json": {
           "model_id": "65a77af368cf4daa9420743db8dcdb46",
           "version_major": 2,
           "version_minor": 0
          },
          "text/plain": "VBox(children=(HTML(value=\"<div class='divider'></div>\"), HTML(value=\"<h4 style='margin-top: 0px;margin-bottom…"
         },
         "metadata": {},
         "output_type": "display_data"
        },
        {
         "data": {
          "application/vnd.jupyter.widget-view+json": {
           "model_id": "dec080883f5441eeb44604c59747a7c1",
           "version_major": 2,
           "version_minor": 0
          },
          "text/plain": "HTML(value=\"\\n        <table class='ptable striped'>\\n            <thead class='pthead'>\\n                <tr …"
         },
         "metadata": {},
         "output_type": "display_data"
        }
       ]
      }
     },
     "3efd5b82349f48a6bbb043af9b7d9c68": {
      "model_module": "@jupyter-widgets/controls",
      "model_module_version": "1.5.0",
      "model_name": "DescriptionStyleModel",
      "state": {
       "description_width": ""
      }
     },
     "3f14f50148d14d98a2e6224a657484a4": {
      "model_module": "@jupyter-widgets/controls",
      "model_module_version": "1.5.0",
      "model_name": "DescriptionStyleModel",
      "state": {
       "description_width": "initial"
      }
     },
     "3f2429fb690b49e6a410a21a017e452f": {
      "model_module": "@jupyter-widgets/base",
      "model_module_version": "1.2.0",
      "model_name": "LayoutModel",
      "state": {}
     },
     "3f80d51b8775445181fff1d80a16654c": {
      "model_module": "@jupyter-widgets/base",
      "model_module_version": "1.2.0",
      "model_name": "LayoutModel",
      "state": {}
     },
     "3f823e2b8c86435697fffa804cdb421f": {
      "model_module": "@jupyter-widgets/controls",
      "model_module_version": "1.5.0",
      "model_name": "BoxModel",
      "state": {
       "layout": "IPY_MODEL_a8d0314034ed4289b6ecc24cdfe6fcab"
      }
     },
     "3fa52b5323a343b68c94d59ee6739212": {
      "model_module": "@jupyter-widgets/controls",
      "model_module_version": "1.5.0",
      "model_name": "HTMLModel",
      "state": {
       "layout": "IPY_MODEL_39a3ca5bd8e642dda91c553ea4b43ade",
       "style": "IPY_MODEL_7f9f128d221b47ed9e5208a30d523e99",
       "value": "<div style='margin-right: 10px'></div>"
      }
     },
     "4172cb749e1e4075baa8f043f038c3b8": {
      "model_module": "@jupyter-widgets/controls",
      "model_module_version": "1.5.0",
      "model_name": "DescriptionStyleModel",
      "state": {
       "description_width": ""
      }
     },
     "41ad0762db4c4f03a8d30bdb03bb89c8": {
      "model_module": "@jupyter-widgets/controls",
      "model_module_version": "1.5.0",
      "model_name": "HTMLModel",
      "state": {
       "layout": "IPY_MODEL_2b0b190eb3914af299bf91c9d6de8760",
       "style": "IPY_MODEL_976c997abc7c45b7b236069e642399bc",
       "value": "n_knots:"
      }
     },
     "41b43c28da5d49ba83a6341b6cc425e8": {
      "model_module": "@jupyter-widgets/base",
      "model_module_version": "1.2.0",
      "model_name": "LayoutModel",
      "state": {
       "width": "55%"
      }
     },
     "41f6e7ba5be14036a02968d14468a22d": {
      "model_module": "@jupyter-widgets/controls",
      "model_module_version": "1.5.0",
      "model_name": "TextModel",
      "state": {
       "layout": "IPY_MODEL_e15c5216c0a2445aa3758d0e0abb5494",
       "placeholder": "1e-3, 1e-3, 1e-4",
       "style": "IPY_MODEL_9006ea7eeaf54ff3aabcfbe6b7cf59eb",
       "value": "1e-3, 1e-3, 1e-4"
      }
     },
     "42406acaa9c748d98237545f6f214e02": {
      "model_module": "@jupyter-widgets/controls",
      "model_module_version": "1.5.0",
      "model_name": "HTMLModel",
      "state": {
       "layout": "IPY_MODEL_3a92363e984241c0a727701fd534e9a3",
       "style": "IPY_MODEL_a703cc44f1514e25a1dd2bfcb1023957",
       "value": "Model name:"
      }
     },
     "42728e2293b04ea88ae77f42e8d69fac": {
      "model_module": "@jupyter-widgets/controls",
      "model_module_version": "1.5.0",
      "model_name": "HTMLModel",
      "state": {
       "layout": "IPY_MODEL_54fa9128e37a420a86fef8f3bc3fd9cd",
       "style": "IPY_MODEL_03946e5ef4a145bbbb49956113aae148",
       "value": "\n        <table class='ptable striped'>\n            <thead class='pthead'>\n                <tr class='ptr'>\n                    <th class='pth'></th><th class='pth'>name</th><th class='pth'>n_missing</th><th class='pth'>n_unique</th><th class='pth'>top1</th><th class='pth'>top2</th><th class='pth'>top3</th><th class='pth'>n_others</th>\n                </tr>\n            </thead>\n\n            <tbody class='ptbody'>\n                <tr class='ptr'><td class='ptd'>0</td><td class='ptd'>Mortgage</td><td class='ptd'>0</td><td class='ptd'>2</td><td class='ptd'>1.0 : 5014</td><td class='ptd'>0.0 : 4986</td><td class='ptd'>0</td><td class='ptd'>0</td></tr><tr class='ptr grey'><td class='ptd'>1</td><td class='ptd'>Gender</td><td class='ptd'>0</td><td class='ptd'>2</td><td class='ptd'>0.0 : 5043</td><td class='ptd'>1.0 : 4957</td><td class='ptd'>0</td><td class='ptd'>0</td></tr><tr class='ptr grey'><td class='ptd'>2</td><td class='ptd'>Race</td><td class='ptd'>0</td><td class='ptd'>2</td><td class='ptd'>1.0 : 5031</td><td class='ptd'>0.0 : 4969</td><td class='ptd'>0</td><td class='ptd'>0</td></tr><tr class='ptr'><td class='ptd'>3</td><td class='ptd'>Approved</td><td class='ptd'>0</td><td class='ptd'>2</td><td class='ptd'>1.0 : 5166</td><td class='ptd'>0.0 : 4834</td><td class='ptd'>0</td><td class='ptd'>0</td></tr>\n            </tbody>\n        </table>\n        "
      }
     },
     "42ed1b517313441c9b2ffcf4f12f7483": {
      "model_module": "@jupyter-widgets/controls",
      "model_module_version": "1.5.0",
      "model_name": "DescriptionStyleModel",
      "state": {
       "description_width": ""
      }
     },
     "43409b27a4db404abd8746a4caaef2f5": {
      "model_module": "@jupyter-widgets/controls",
      "model_module_version": "1.5.0",
      "model_name": "ButtonModel",
      "state": {
       "_dom_classes": [
        "pbtn"
       ],
       "button_style": "danger",
       "description": "Register",
       "layout": "IPY_MODEL_ac412f514c2940da9845f993848a16a4",
       "style": "IPY_MODEL_ee1c58eabc2d4696b39cade74057077d"
      }
     },
     "437a117ebfc64f079bbe3cc9ee11bb09": {
      "model_module": "@jupyter-widgets/base",
      "model_module_version": "1.2.0",
      "model_name": "LayoutModel",
      "state": {}
     },
     "43800e723b8b492c91acc5809702430e": {
      "model_module": "@jupyter-widgets/controls",
      "model_module_version": "1.5.0",
      "model_name": "HTMLModel",
      "state": {
       "layout": "IPY_MODEL_8f9f934537d14fe1987d909d96c097eb",
       "style": "IPY_MODEL_c8a96fe51931485091816cb21bce3506",
       "value": "<div class='divider'></div>"
      }
     },
     "43d946a6334c4aabad9255b15a7774ae": {
      "model_module": "@jupyter-widgets/controls",
      "model_module_version": "1.5.0",
      "model_name": "VBoxModel",
      "state": {
       "children": [
        "IPY_MODEL_e260ed55ea474b43841176e1e8297a91",
        "IPY_MODEL_ad5aeae41fb74eb9b4de8d6be8eaf21f",
        "IPY_MODEL_ddd9bbb84c14415b8d98a27b2d2665aa",
        "IPY_MODEL_c34e5586ba4f43449b0737258a798d3b",
        "IPY_MODEL_30c2ef879d5f488d854cf92f8a47116f",
        "IPY_MODEL_f98a3953ff9849b5bb2ef28ec14a978f",
        "IPY_MODEL_5c045788311645a29de5f00e79d3beb6",
        "IPY_MODEL_a60721cd9abb41128b6f26f228f5b2df",
        "IPY_MODEL_9eb88849eb094780bb73d0eb4fa64a08"
       ],
       "layout": "IPY_MODEL_341348efd6524adab01dd6e84e2bee68"
      }
     },
     "4420e763472b42dab93a204e06b5136b": {
      "model_module": "@jupyter-widgets/controls",
      "model_module_version": "1.5.0",
      "model_name": "HTMLModel",
      "state": {
       "layout": "IPY_MODEL_3f80d51b8775445181fff1d80a16654c",
       "style": "IPY_MODEL_b61f18a4b5654144bb0c594a31338be2",
       "value": "Max_rounds:"
      }
     },
     "4432e80f12f84fc1a20ed468ed14161e": {
      "model_module": "@jupyter-widgets/base",
      "model_module_version": "1.2.0",
      "model_name": "LayoutModel",
      "state": {}
     },
     "4435c892ee5c45c0a2713e28ca8f4886": {
      "model_module": "@jupyter-widgets/controls",
      "model_module_version": "1.5.0",
      "model_name": "HBoxModel",
      "state": {
       "children": [
        "IPY_MODEL_4ec8d1226d6a4eceac97c2a45d41b83d",
        "IPY_MODEL_7960a300cbe5482b993df6614bef8336",
        "IPY_MODEL_5bd97314218042ce99543933edbf5b05",
        "IPY_MODEL_9087293fcf8545398a8619fd468d0feb",
        "IPY_MODEL_8a01bdfc9663459181b1d2e534fc2267",
        "IPY_MODEL_de632e2626ef47d695b530fbdf4b4f64"
       ],
       "layout": "IPY_MODEL_c8a885587668438286e092c31d07bc50"
      }
     },
     "444a03f1b2784171b66ee86baff0736d": {
      "model_module": "@jupyter-widgets/controls",
      "model_module_version": "1.5.0",
      "model_name": "VBoxModel",
      "state": {
       "children": [
        "IPY_MODEL_ceb135fc9ee344d991e88b3037a8e500",
        "IPY_MODEL_d9286ed2edc04d2fb50720cf50e28350"
       ],
       "layout": "IPY_MODEL_4432e80f12f84fc1a20ed468ed14161e"
      }
     },
     "4454aef6bf964578b5dd318afc7dafb2": {
      "model_module": "@jupyter-widgets/base",
      "model_module_version": "1.2.0",
      "model_name": "LayoutModel",
      "state": {}
     },
     "4456b3d1c2c14dfb93534cefefa58c62": {
      "model_module": "@jupyter-widgets/controls",
      "model_module_version": "1.5.0",
      "model_name": "BoxModel",
      "state": {
       "children": [
        "IPY_MODEL_ceee215bb88f4559b3d4171a7d1bc27d"
       ],
       "layout": "IPY_MODEL_362b574deb11441e9c8e34110d1703e1"
      }
     },
     "445eee35db9f46e5ab004a80c23c1eeb": {
      "model_module": "@jupyter-widgets/base",
      "model_module_version": "1.2.0",
      "model_name": "LayoutModel",
      "state": {}
     },
     "44b6825a19e049829ce605dd52a3a07d": {
      "model_module": "@jupyter-widgets/controls",
      "model_module_version": "1.5.0",
      "model_name": "DescriptionStyleModel",
      "state": {
       "description_width": ""
      }
     },
     "44bc955a5bc64d4d83e8a72ac77839b8": {
      "model_module": "@jupyter-widgets/controls",
      "model_module_version": "1.5.0",
      "model_name": "DescriptionStyleModel",
      "state": {
       "description_width": ""
      }
     },
     "44e6d8f4ea144ceabc2b2840c53834b8": {
      "model_module": "@jupyter-widgets/base",
      "model_module_version": "1.2.0",
      "model_name": "LayoutModel",
      "state": {
       "width": "auto"
      }
     },
     "4534d22e18b94b45afcfb82515ee6133": {
      "model_module": "@jupyter-widgets/controls",
      "model_module_version": "1.5.0",
      "model_name": "DescriptionStyleModel",
      "state": {
       "description_width": ""
      }
     },
     "457cda32aa7f433dae4532041fae86b9": {
      "model_module": "@jupyter-widgets/controls",
      "model_module_version": "1.5.0",
      "model_name": "HTMLModel",
      "state": {
       "layout": "IPY_MODEL_e1735907838b41dc8ce6577fccb642b6",
       "style": "IPY_MODEL_31be94fb68dd479ba2c4290a01bca912",
       "value": "Model name:"
      }
     },
     "45aa52633bc0480a9d210d38552182f9": {
      "model_module": "@jupyter-widgets/controls",
      "model_module_version": "1.5.0",
      "model_name": "BoxModel",
      "state": {
       "children": [
        "IPY_MODEL_42406acaa9c748d98237545f6f214e02"
       ],
       "layout": "IPY_MODEL_c302ceb8d0254f29be2c1f3cb19b2fa0"
      }
     },
     "45d4987c50d04decaceec0bd5d081d3e": {
      "model_module": "@jupyter-widgets/controls",
      "model_module_version": "1.5.0",
      "model_name": "HTMLModel",
      "state": {
       "layout": "IPY_MODEL_73ab008464ab4b49883341e5d8dca751",
       "style": "IPY_MODEL_759bf08079d946dab73993f85b7d2c75",
       "value": "<div class='divider'></div>"
      }
     },
     "45f57804766748bd9e560fb03c41f231": {
      "model_module": "@jupyter-widgets/controls",
      "model_module_version": "1.5.0",
      "model_name": "HTMLModel",
      "state": {
       "layout": "IPY_MODEL_b22893ede00f433b8f2075255298580b",
       "style": "IPY_MODEL_6bf94fe1d7d1446285d6a0e647f765d1",
       "value": "Outer_bags:"
      }
     },
     "474a8f007ece47d8a0225ad18b69f8b5": {
      "model_module": "@jupyter-widgets/controls",
      "model_module_version": "1.5.0",
      "model_name": "HTMLModel",
      "state": {
       "layout": "IPY_MODEL_35b2d71358fb4c5aa54778675c1f237c",
       "style": "IPY_MODEL_a44253f4b3da40a4ad0ba98d09723f62",
       "value": " Early_stop_tol:"
      }
     },
     "475d7ac49e3d47438c60a90d1d846bdb": {
      "model_module": "@jupyter-widgets/base",
      "model_module_version": "1.2.0",
      "model_name": "LayoutModel",
      "state": {
       "width": "80px"
      }
     },
     "4770785990ea4fe5858d858f48513df2": {
      "model_module": "@jupyter-widgets/base",
      "model_module_version": "1.2.0",
      "model_name": "LayoutModel",
      "state": {
       "width": "auto"
      }
     },
     "47a9bd9746cb4701a18696b94e7582db": {
      "model_module": "@jupyter-widgets/controls",
      "model_module_version": "1.5.0",
      "model_name": "HTMLModel",
      "state": {
       "layout": "IPY_MODEL_22548f3e4bcb4f32a8ffa93db3e2fbb0",
       "style": "IPY_MODEL_5afb032b954649739d825d06662c6632",
       "value": "Model name:"
      }
     },
     "47b16d7d759846b1bafe52789cff0d75": {
      "model_module": "@jupyter-widgets/base",
      "model_module_version": "1.2.0",
      "model_name": "LayoutModel",
      "state": {}
     },
     "47d5b27661764ab78c3550c391632274": {
      "model_module": "@jupyter-widgets/base",
      "model_module_version": "1.2.0",
      "model_name": "LayoutModel",
      "state": {}
     },
     "483002d2f0a946aaa20e0d14f9c8edd3": {
      "model_module": "@jupyter-widgets/base",
      "model_module_version": "1.2.0",
      "model_name": "LayoutModel",
      "state": {
       "align_items": "center",
       "display": "flex",
       "flex_flow": "row",
       "width": "100%"
      }
     },
     "4857b80f885f4538a48f875136eb797b": {
      "model_module": "@jupyter-widgets/controls",
      "model_module_version": "1.5.0",
      "model_name": "BoxModel",
      "state": {
       "_dom_classes": [
        "inner-card"
       ],
       "children": [
        "IPY_MODEL_04f2e585d8fb4b5893a8355a9c9088e4",
        "IPY_MODEL_a9be54b1ec6348ddaf46dddb0a72e4ca",
        "IPY_MODEL_1eb627da862f4a93833f1f49053fa136"
       ],
       "layout": "IPY_MODEL_9d1999d0be144ae0996d16e4f89a282b"
      }
     },
     "486128dffb3e4bf99026e3189a2aabab": {
      "model_module": "@jupyter-widgets/controls",
      "model_module_version": "1.5.0",
      "model_name": "HBoxModel",
      "state": {
       "children": [
        "IPY_MODEL_7c1679d8a512443eada449fb92dc73b4",
        "IPY_MODEL_35e52996970b4a5e9f035b09eacf7f54",
        "IPY_MODEL_cdbe2d6b01a6465aac310c54f26908ee",
        "IPY_MODEL_1f09aac8dda148108787d8c43f777d23",
        "IPY_MODEL_3d69ace5c2cb4b2c8527079349f5f445"
       ],
       "layout": "IPY_MODEL_df461489a3554df39533bf7484d140d5"
      }
     },
     "48804160f425443dbcb55d9a84bd486b": {
      "model_module": "@jupyter-widgets/output",
      "model_module_version": "1.0.0",
      "model_name": "OutputModel",
      "state": {
       "layout": "IPY_MODEL_c874f926775441c7bb62e9839b146257",
       "outputs": [
        {
         "data": {
          "application/vnd.jupyter.widget-view+json": {
           "model_id": "893d8548d81b430fabd3410d31da5ca0",
           "version_major": 2,
           "version_minor": 0
          },
          "text/plain": "HBox(children=(Dropdown(description='Rank Metric:', layout=Layout(width='55%'), options=('ACC', 'AUC', 'F1'), …"
         },
         "metadata": {},
         "output_type": "display_data"
        }
       ]
      }
     },
     "489a88ed2a4b40cabca65c21f6409a8b": {
      "model_module": "@jupyter-widgets/controls",
      "model_module_version": "1.5.0",
      "model_name": "ButtonStyleModel",
      "state": {}
     },
     "48cf0325452f4da9bc975987a3a771c2": {
      "model_module": "@jupyter-widgets/base",
      "model_module_version": "1.2.0",
      "model_name": "LayoutModel",
      "state": {
       "width": "99%"
      }
     },
     "495cb5895b0a496ab95df5d857db9641": {
      "model_module": "@jupyter-widgets/base",
      "model_module_version": "1.2.0",
      "model_name": "LayoutModel",
      "state": {
       "width": "20%"
      }
     },
     "49b6a08242cf4e858cadab5041a42306": {
      "model_module": "@jupyter-widgets/base",
      "model_module_version": "1.2.0",
      "model_name": "LayoutModel",
      "state": {
       "width": "20%"
      }
     },
     "49eccbf6437f41e0b8e73cf1f3c922d2": {
      "model_module": "@jupyter-widgets/controls",
      "model_module_version": "1.5.0",
      "model_name": "HBoxModel",
      "state": {
       "children": [
        "IPY_MODEL_e668cf3a3646486b98505ce48294b7f3",
        "IPY_MODEL_14d232bf9324436aa1add3a6b4d09b9a"
       ],
       "layout": "IPY_MODEL_ef9cdbd3131548b48bf9852115fbd075"
      }
     },
     "4a278e30a0cb4fb793e3707cdab2098f": {
      "model_module": "@jupyter-widgets/controls",
      "model_module_version": "1.5.0",
      "model_name": "HTMLModel",
      "state": {
       "layout": "IPY_MODEL_5c311a92328741098c13ce4f7eb632ee",
       "style": "IPY_MODEL_8e04756594ed47bfb90db42cca2eea55",
       "value": "<div style='margin-right: 10px'></div>"
      }
     },
     "4a29d55d213b47f5983537547e2fb4a9": {
      "model_module": "@jupyter-widgets/base",
      "model_module_version": "1.2.0",
      "model_name": "LayoutModel",
      "state": {
       "width": "auto"
      }
     },
     "4a3966f8035041df9eda78892dc2a921": {
      "model_module": "@jupyter-widgets/controls",
      "model_module_version": "1.5.0",
      "model_name": "DescriptionStyleModel",
      "state": {
       "description_width": ""
      }
     },
     "4a6a207a3eb842929c76f61e3d395c74": {
      "model_module": "@jupyter-widgets/controls",
      "model_module_version": "1.5.0",
      "model_name": "DescriptionStyleModel",
      "state": {
       "description_width": "initial"
      }
     },
     "4ae2317b7b1a4cf59ce709402856529d": {
      "model_module": "@jupyter-widgets/base",
      "model_module_version": "1.2.0",
      "model_name": "LayoutModel",
      "state": {
       "width": "99%"
      }
     },
     "4af7ae5f99b64b6588d6e0ba83d86e3f": {
      "model_module": "@jupyter-widgets/controls",
      "model_module_version": "1.5.0",
      "model_name": "HBoxModel",
      "state": {
       "children": [
        "IPY_MODEL_4456b3d1c2c14dfb93534cefefa58c62",
        "IPY_MODEL_943e2e7e2edc46568365d65759d4a495"
       ],
       "layout": "IPY_MODEL_b2ad1e7758cc460a9349304806f01d75"
      }
     },
     "4b2dcb781d6c4663ac54422dec450164": {
      "model_module": "@jupyter-widgets/controls",
      "model_module_version": "1.5.0",
      "model_name": "DescriptionStyleModel",
      "state": {
       "description_width": ""
      }
     },
     "4b570104445b4cc7a9d70033b9b91cce": {
      "model_module": "@jupyter-widgets/base",
      "model_module_version": "1.2.0",
      "model_name": "LayoutModel",
      "state": {
       "width": "auto"
      }
     },
     "4b8a8c8a1bf445a1bda869c9ddb78cb6": {
      "model_module": "@jupyter-widgets/controls",
      "model_module_version": "1.5.0",
      "model_name": "HTMLModel",
      "state": {
       "layout": "IPY_MODEL_dacdbcaa004e43c1bcc84770c5b5ecff",
       "style": "IPY_MODEL_8f75892323e64c438a885d2e35d8093e",
       "value": "<div style='margin-top: 5px'></div>"
      }
     },
     "4c7368c46f6c444386dba536fa154abc": {
      "model_module": "@jupyter-widgets/controls",
      "model_module_version": "1.5.0",
      "model_name": "HTMLModel",
      "state": {
       "layout": "IPY_MODEL_26e14f0edb404b9f8d7e8fc2ba87b725",
       "style": "IPY_MODEL_211eea6a35b4404ba27e141aeb81db25",
       "value": "<p class=\"notification info\">Excluded attribute \"Race\"</p>"
      }
     },
     "4cac9112f36b41198f361244e4c5387f": {
      "model_module": "@jupyter-widgets/controls",
      "model_module_version": "1.5.0",
      "model_name": "HTMLModel",
      "state": {
       "layout": "IPY_MODEL_bbe536a783ba42f48ea17591417bae8e",
       "style": "IPY_MODEL_11ada378fe864b52b6f6f29618c601a2",
       "value": "<div style='margin-right: 10px'></div>"
      }
     },
     "4d270676997943b6b05cf50f970cfc09": {
      "model_module": "@jupyter-widgets/controls",
      "model_module_version": "1.5.0",
      "model_name": "DescriptionStyleModel",
      "state": {
       "description_width": ""
      }
     },
     "4d49e30bd2a2449e905694d2600829de": {
      "model_module": "@jupyter-widgets/base",
      "model_module_version": "1.2.0",
      "model_name": "LayoutModel",
      "state": {
       "height": "25px",
       "width": "35px"
      }
     },
     "4d5cd3411ff9478598a326cc6edb72a6": {
      "model_module": "@jupyter-widgets/controls",
      "model_module_version": "1.5.0",
      "model_name": "BoundedFloatTextModel",
      "state": {
       "layout": "IPY_MODEL_29a26ad5289e473fbd371bf656f60443",
       "step": null,
       "style": "IPY_MODEL_fa7dbb865c8343099f676fdc96f30046",
       "value": 1
      }
     },
     "4dcb22432e884802b9153780dc24ff9a": {
      "model_module": "@jupyter-widgets/controls",
      "model_module_version": "1.5.0",
      "model_name": "BoundedIntTextModel",
      "state": {
       "layout": "IPY_MODEL_cd6f16a2c68540f5a1e97aad74a796ed",
       "min": 1,
       "style": "IPY_MODEL_2ac4deab7ae0414b8a293be9069da83e",
       "value": 5
      }
     },
     "4de45231ea0b407eba4b4df1a0f49fa4": {
      "model_module": "@jupyter-widgets/base",
      "model_module_version": "1.2.0",
      "model_name": "LayoutModel",
      "state": {
       "width": "100%"
      }
     },
     "4e68908d4e7c4751bcba6d562e0f46d6": {
      "model_module": "@jupyter-widgets/base",
      "model_module_version": "1.2.0",
      "model_name": "LayoutModel",
      "state": {
       "width": "15%"
      }
     },
     "4ec8d1226d6a4eceac97c2a45d41b83d": {
      "model_module": "@jupyter-widgets/controls",
      "model_module_version": "1.5.0",
      "model_name": "VBoxModel",
      "state": {
       "children": [
        "IPY_MODEL_e2d0cf81634840718ff6932cab91f058",
        "IPY_MODEL_cba87084bfd34ac7b3a8611193f386f1"
       ],
       "layout": "IPY_MODEL_244025d9af584c2082b71b7b93479600"
      }
     },
     "4ee6ee5499cb4223bfd06c42b0d0770c": {
      "model_module": "@jupyter-widgets/base",
      "model_module_version": "1.2.0",
      "model_name": "LayoutModel",
      "state": {}
     },
     "4f2b6b826d3e482a825f7f367cfea39c": {
      "model_module": "@jupyter-widgets/controls",
      "model_module_version": "1.5.0",
      "model_name": "HTMLModel",
      "state": {
       "layout": "IPY_MODEL_31baf9a6d0924ac0949d0e2abfacb216",
       "style": "IPY_MODEL_a06b193a57f446d8bca0eb306bfccca9",
       "value": "\n        <table class='ptable striped'>\n            <thead class='pthead'>\n                <tr class='ptr'>\n                    <th class='pth'></th><th class='pth'>name</th><th class='pth'>n_missing</th><th class='pth'>n_unique</th><th class='pth'>top1</th><th class='pth'>top2</th><th class='pth'>top3</th><th class='pth'>n_others</th>\n                </tr>\n            </thead>\n\n            <tbody class='ptbody'>\n                <tr class='ptr grey'><td class='ptd'>0</td><td class='ptd'>Mortgage</td><td class='ptd'>0</td><td class='ptd'>2</td><td class='ptd'>1.0 : 5014</td><td class='ptd'>0.0 : 4986</td><td class='ptd'>0</td><td class='ptd'>0</td></tr><tr class='ptr grey'><td class='ptd'>1</td><td class='ptd'>Gender</td><td class='ptd'>0</td><td class='ptd'>2</td><td class='ptd'>0.0 : 5043</td><td class='ptd'>1.0 : 4957</td><td class='ptd'>0</td><td class='ptd'>0</td></tr><tr class='ptr grey'><td class='ptd'>2</td><td class='ptd'>Race</td><td class='ptd'>0</td><td class='ptd'>2</td><td class='ptd'>1.0 : 5031</td><td class='ptd'>0.0 : 4969</td><td class='ptd'>0</td><td class='ptd'>0</td></tr><tr class='ptr'><td class='ptd'>3</td><td class='ptd'>Approved</td><td class='ptd'>0</td><td class='ptd'>2</td><td class='ptd'>1.0 : 5166</td><td class='ptd'>0.0 : 4834</td><td class='ptd'>0</td><td class='ptd'>0</td></tr>\n            </tbody>\n        </table>\n        "
      }
     },
     "4f81af354fc840388b25d4271c0554d5": {
      "model_module": "@jupyter-widgets/base",
      "model_module_version": "1.2.0",
      "model_name": "LayoutModel",
      "state": {
       "width": "auto"
      }
     },
     "4fd52e4b20894458b84b9271c000441b": {
      "model_module": "@jupyter-widgets/base",
      "model_module_version": "1.2.0",
      "model_name": "LayoutModel",
      "state": {}
     },
     "50615008206f498e8e48c847ee87f134": {
      "model_module": "@jupyter-widgets/controls",
      "model_module_version": "1.5.0",
      "model_name": "DescriptionStyleModel",
      "state": {
       "description_width": "initial"
      }
     },
     "50c23da8a1964889bbaaca4e27942b35": {
      "model_module": "@jupyter-widgets/controls",
      "model_module_version": "1.5.0",
      "model_name": "TextModel",
      "state": {
       "layout": "IPY_MODEL_384b1fd5afb549958de025d7a9ffdbe9",
       "placeholder": "Category Name",
       "style": "IPY_MODEL_bc8624965e154d88917570893cd2b4d5"
      }
     },
     "5130a9fbaa28483ea15454bf3c1448e0": {
      "model_module": "@jupyter-widgets/controls",
      "model_module_version": "1.5.0",
      "model_name": "VBoxModel",
      "state": {
       "children": [
        "IPY_MODEL_21cd5f16fd5843f89a76ab8065dbf347",
        "IPY_MODEL_d88b376cc5e34c06a48eb6a0b67040fb",
        "IPY_MODEL_6134fa16c1234cc9998ce8618933d5a1",
        "IPY_MODEL_a48894f2abcf4c7b99c6846957e8533f",
        "IPY_MODEL_55c7f43a26fe481cbb6f14658ed5bbf4",
        "IPY_MODEL_7e546c4ef0eb481ba41c117830c09776",
        "IPY_MODEL_116c0c7730b5459e916116a7074ecfa3"
       ],
       "layout": "IPY_MODEL_caf4f62d9fce44fa883ae2ea7a89716b"
      }
     },
     "515052b2db6f47528faf943cfd023541": {
      "model_module": "@jupyter-widgets/controls",
      "model_module_version": "1.5.0",
      "model_name": "DropdownModel",
      "state": {
       "_options_labels": [
        "Select",
        "Mortgage",
        "Balance",
        "Amount Past Due",
        "Credit Inquiry",
        "Gender",
        "Race",
        "Approved"
       ],
       "index": 1,
       "layout": "IPY_MODEL_3a681e18e08e4d0db6e5b5a96a8fcea4",
       "style": "IPY_MODEL_1117d0e431254aa9a2b69b6400298372"
      }
     },
     "51890875112d4f1ab87d3a84316658c4": {
      "model_module": "@jupyter-widgets/controls",
      "model_module_version": "1.5.0",
      "model_name": "HBoxModel",
      "state": {
       "children": [
        "IPY_MODEL_7551a44dc10747888f1db82d09607574",
        "IPY_MODEL_079c73bc84d14f36b6989ddcde2c12df"
       ],
       "layout": "IPY_MODEL_7e7d0c21fe3345c18797c64a0a203338"
      }
     },
     "51e7339823f44763869d563743edfd71": {
      "model_module": "@jupyter-widgets/controls",
      "model_module_version": "1.5.0",
      "model_name": "DropdownModel",
      "state": {
       "_options_labels": [
        "Select Model"
       ],
       "description": "Model Name:",
       "index": 0,
       "layout": "IPY_MODEL_f0e15f7e07e443b18cd3ad7367a54b6f",
       "style": "IPY_MODEL_0ae17352ef4c45a9bd2657ee332c45c9"
      }
     },
     "5229a27d67d94c048db45b44cf2f8c51": {
      "model_module": "@jupyter-widgets/base",
      "model_module_version": "1.2.0",
      "model_name": "LayoutModel",
      "state": {}
     },
     "5253b8cf967b42b6857efa572ac22207": {
      "model_module": "@jupyter-widgets/base",
      "model_module_version": "1.2.0",
      "model_name": "LayoutModel",
      "state": {}
     },
     "527dbaafd9e1441cadf7d20cb84ba50b": {
      "model_module": "@jupyter-widgets/base",
      "model_module_version": "1.2.0",
      "model_name": "LayoutModel",
      "state": {}
     },
     "52cf33db15134a869afda389a7ac6ac7": {
      "model_module": "@jupyter-widgets/controls",
      "model_module_version": "1.5.0",
      "model_name": "DescriptionStyleModel",
      "state": {
       "description_width": ""
      }
     },
     "539f1185eca2435e941b57bca6d2d6cc": {
      "model_module": "@jupyter-widgets/controls",
      "model_module_version": "1.5.0",
      "model_name": "HTMLModel",
      "state": {
       "layout": "IPY_MODEL_862875ec6bee4c61bc18f7cef47162c9",
       "style": "IPY_MODEL_2c0693588d1d486cbf0737b34b59181f",
       "value": "Criterion:"
      }
     },
     "540ca8f621c54b9d9e80baf8b74c7469": {
      "model_module": "@jupyter-widgets/controls",
      "model_module_version": "1.5.0",
      "model_name": "DescriptionStyleModel",
      "state": {
       "description_width": ""
      }
     },
     "5413e48cc83644198bb2368e465eccd1": {
      "model_module": "@jupyter-widgets/controls",
      "model_module_version": "1.5.0",
      "model_name": "HBoxModel",
      "state": {
       "children": [
        "IPY_MODEL_9cb6e4b4ddaa40199e87edad563c77ed",
        "IPY_MODEL_43d946a6334c4aabad9255b15a7774ae"
       ],
       "layout": "IPY_MODEL_8c234699d4424639a65b859a97c44c5e"
      }
     },
     "547ee479dc194683abf198ab6d2eb5e6": {
      "model_module": "@jupyter-widgets/controls",
      "model_module_version": "1.5.0",
      "model_name": "DescriptionStyleModel",
      "state": {
       "description_width": "initial"
      }
     },
     "5485b1d9c24042869a4983726fb18480": {
      "model_module": "@jupyter-widgets/controls",
      "model_module_version": "1.5.0",
      "model_name": "HTMLModel",
      "state": {
       "layout": "IPY_MODEL_3e32c9ee6fb645a78e41ab4fb8e9a0d5",
       "style": "IPY_MODEL_a92fa965b1dc468b8650d47cbd222803",
       "value": "<p>Sample Weight:</p>"
      }
     },
     "54a043e1d4794033afd19e7cf7f1084c": {
      "model_module": "@jupyter-widgets/controls",
      "model_module_version": "1.5.0",
      "model_name": "DescriptionStyleModel",
      "state": {
       "description_width": ""
      }
     },
     "54e750522232477281785bfe864c3c4a": {
      "model_module": "@jupyter-widgets/controls",
      "model_module_version": "1.5.0",
      "model_name": "HBoxModel",
      "state": {
       "children": [
        "IPY_MODEL_1037eec4461c4b578390149a5223279b",
        "IPY_MODEL_1ba93a7b490f45e4b24f82c0da810be7"
       ],
       "layout": "IPY_MODEL_7178abb312d248b6b931ad87d1a4266b"
      }
     },
     "54fa9128e37a420a86fef8f3bc3fd9cd": {
      "model_module": "@jupyter-widgets/base",
      "model_module_version": "1.2.0",
      "model_name": "LayoutModel",
      "state": {}
     },
     "5526c82dc28942cb99cea319008ca463": {
      "model_module": "@jupyter-widgets/output",
      "model_module_version": "1.0.0",
      "model_name": "OutputModel",
      "state": {
       "layout": "IPY_MODEL_742780fbd5fc41dd9340dcc77b6ee5c1"
      }
     },
     "55480cc6f885410e95cce226f0e085e1": {
      "model_module": "@jupyter-widgets/controls",
      "model_module_version": "1.5.0",
      "model_name": "HTMLModel",
      "state": {
       "layout": "IPY_MODEL_00394be7fc5a48caa46ad621feee5b92",
       "style": "IPY_MODEL_9bf71d6e0d6644b29f3448d1f1f23817",
       "value": "<p class=\"notification info\">Excluded attribute \"Gender\"</p>"
      }
     },
     "5567263fa2b544a1a3061b89b2ec5570": {
      "model_module": "@jupyter-widgets/controls",
      "model_module_version": "1.5.0",
      "model_name": "BoxModel",
      "state": {
       "_dom_classes": [
        "inner-padding"
       ],
       "children": [
        "IPY_MODEL_69e041d00d794b069bfb29102907cd47"
       ],
       "layout": "IPY_MODEL_13da42c0967a4e1b8fe9c89e94e70a33"
      }
     },
     "558ad92f1c644614a25d25ca5a9077f6": {
      "model_module": "@jupyter-widgets/controls",
      "model_module_version": "1.5.0",
      "model_name": "DescriptionStyleModel",
      "state": {
       "description_width": "initial"
      }
     },
     "55ac014a229543bab8871d91936d2d3c": {
      "model_module": "@jupyter-widgets/controls",
      "model_module_version": "1.5.0",
      "model_name": "DescriptionStyleModel",
      "state": {
       "description_width": ""
      }
     },
     "55c7f43a26fe481cbb6f14658ed5bbf4": {
      "model_module": "@jupyter-widgets/controls",
      "model_module_version": "1.5.0",
      "model_name": "HTMLModel",
      "state": {
       "layout": "IPY_MODEL_59f787aa0cb7499699ea9e53a0ee73de",
       "style": "IPY_MODEL_9043970a5c7b428c8b4ad48bf07f1e76",
       "value": "Max_epochs:"
      }
     },
     "55c80cb034514faa91dc591a1508242b": {
      "model_module": "@jupyter-widgets/base",
      "model_module_version": "1.2.0",
      "model_name": "LayoutModel",
      "state": {}
     },
     "56a740b0b2634ad5b70f19d6286ebcb8": {
      "model_module": "@jupyter-widgets/controls",
      "model_module_version": "1.5.0",
      "model_name": "BoundedIntTextModel",
      "state": {
       "layout": "IPY_MODEL_1c5c7b293e594830a6e1de923fbdf725",
       "max": 10000,
       "min": 1,
       "style": "IPY_MODEL_ce71680532b64bec95ecd109b2d10600",
       "value": 20
      }
     },
     "56b4bcda9cb94f8e943d17bd001e8e5b": {
      "model_module": "@jupyter-widgets/controls",
      "model_module_version": "1.5.0",
      "model_name": "DescriptionStyleModel",
      "state": {
       "description_width": ""
      }
     },
     "57071549497d485590ee8b416761ca1d": {
      "model_module": "@jupyter-widgets/base",
      "model_module_version": "1.2.0",
      "model_name": "LayoutModel",
      "state": {
       "justify_content": "space-around"
      }
     },
     "58ade90c6820486cb18adf45188fbf9d": {
      "model_module": "@jupyter-widgets/base",
      "model_module_version": "1.2.0",
      "model_name": "LayoutModel",
      "state": {}
     },
     "58f980207a954bb19449ae94e8cf0da2": {
      "model_module": "@jupyter-widgets/controls",
      "model_module_version": "1.5.0",
      "model_name": "BoxModel",
      "state": {
       "children": [
        "IPY_MODEL_865f7618e8674851971f546a12cf9ddf"
       ],
       "layout": "IPY_MODEL_09a7576e3ee442959b0602f40339d826"
      }
     },
     "591fb1594ec04258ac6c580b0fce73a5": {
      "model_module": "@jupyter-widgets/base",
      "model_module_version": "1.2.0",
      "model_name": "LayoutModel",
      "state": {}
     },
     "5920ce348db145249ac461c5031acff1": {
      "model_module": "@jupyter-widgets/controls",
      "model_module_version": "1.5.0",
      "model_name": "VBoxModel",
      "state": {
       "children": [
        "IPY_MODEL_34bead2db3c442128a6b21c50e7975b6",
        "IPY_MODEL_84f4511bc2e94a9ba52922d900ec7281",
        "IPY_MODEL_5fe47db690354ffbb7001983011f2002"
       ],
       "layout": "IPY_MODEL_1b5920120c814484ad078b9cd37f0107"
      }
     },
     "595fdec23b44432a80bf9221e0a62fb6": {
      "model_module": "@jupyter-widgets/base",
      "model_module_version": "1.2.0",
      "model_name": "LayoutModel",
      "state": {
       "display": "flex",
       "flex_flow": "column",
       "width": "100%"
      }
     },
     "599fda1c7e7b416e9a91c7a8474538a7": {
      "model_module": "@jupyter-widgets/base",
      "model_module_version": "1.2.0",
      "model_name": "LayoutModel",
      "state": {
       "width": "auto"
      }
     },
     "59e12d9f12604a5386ed3b2178285a6f": {
      "model_module": "@jupyter-widgets/base",
      "model_module_version": "1.2.0",
      "model_name": "LayoutModel",
      "state": {
       "align_items": "center",
       "display": "flex",
       "flex_flow": "row",
       "width": "100%"
      }
     },
     "59f787aa0cb7499699ea9e53a0ee73de": {
      "model_module": "@jupyter-widgets/base",
      "model_module_version": "1.2.0",
      "model_name": "LayoutModel",
      "state": {}
     },
     "5a039d30d83f42ff90b4b15766c902cf": {
      "model_module": "@jupyter-widgets/base",
      "model_module_version": "1.2.0",
      "model_name": "LayoutModel",
      "state": {}
     },
     "5a336d82f1914a02968d26e87343d474": {
      "model_module": "@jupyter-widgets/controls",
      "model_module_version": "1.5.0",
      "model_name": "DescriptionStyleModel",
      "state": {
       "description_width": ""
      }
     },
     "5a3fb9897dac4d989de50c9fa79320ec": {
      "model_module": "@jupyter-widgets/controls",
      "model_module_version": "1.5.0",
      "model_name": "DescriptionStyleModel",
      "state": {
       "description_width": ""
      }
     },
     "5a49cf9087b241159658481c2d6a7023": {
      "model_module": "@jupyter-widgets/base",
      "model_module_version": "1.2.0",
      "model_name": "LayoutModel",
      "state": {}
     },
     "5ad57950a8cc42d8ade1b4a854b3a638": {
      "model_module": "@jupyter-widgets/controls",
      "model_module_version": "1.5.0",
      "model_name": "DescriptionStyleModel",
      "state": {
       "description_width": ""
      }
     },
     "5adcd6e8e0fe414084a529dc860f8f92": {
      "model_module": "@jupyter-widgets/controls",
      "model_module_version": "1.5.0",
      "model_name": "VBoxModel",
      "state": {
       "children": [
        "IPY_MODEL_3881a34e9d804d8e8596f4047b642b5d"
       ],
       "layout": "IPY_MODEL_1051b8a9a6a44826bfd140804813fe46"
      }
     },
     "5aef822cc6304ae8b46c375d9353314c": {
      "model_module": "@jupyter-widgets/base",
      "model_module_version": "1.2.0",
      "model_name": "LayoutModel",
      "state": {}
     },
     "5afb032b954649739d825d06662c6632": {
      "model_module": "@jupyter-widgets/controls",
      "model_module_version": "1.5.0",
      "model_name": "DescriptionStyleModel",
      "state": {
       "description_width": ""
      }
     },
     "5b2c50c19f5047589dbf87433d1ed512": {
      "model_module": "@jupyter-widgets/base",
      "model_module_version": "1.2.0",
      "model_name": "LayoutModel",
      "state": {
       "width": "40%"
      }
     },
     "5b3ebd4e6d8046b8b77cbd58de9fa262": {
      "model_module": "@jupyter-widgets/base",
      "model_module_version": "1.2.0",
      "model_name": "LayoutModel",
      "state": {
       "display": "flex",
       "flex_flow": "column",
       "width": "auto"
      }
     },
     "5b4c64a80fcf4917bd908740e3b2eeac": {
      "model_module": "@jupyter-widgets/controls",
      "model_module_version": "1.5.0",
      "model_name": "HTMLModel",
      "state": {
       "layout": "IPY_MODEL_9203bc5b43294513a8f1aa37ea2b2221",
       "style": "IPY_MODEL_193b58f08ff44e34b77521df3fe69ede",
       "value": "<h4 style='margin-top: 0px;'>Register Trained Model</h4>"
      }
     },
     "5bd97314218042ce99543933edbf5b05": {
      "model_module": "@jupyter-widgets/controls",
      "model_module_version": "1.5.0",
      "model_name": "HTMLModel",
      "state": {
       "layout": "IPY_MODEL_7e45409beb094e9e8622f202fe87c879",
       "style": "IPY_MODEL_0c0f1a0119fb47ed8161b3df717d17c5",
       "value": "<div style='margin-right: 10px'></div>"
      }
     },
     "5c045788311645a29de5f00e79d3beb6": {
      "model_module": "@jupyter-widgets/controls",
      "model_module_version": "1.5.0",
      "model_name": "BoundedIntTextModel",
      "state": {
       "layout": "IPY_MODEL_b6d75f2e32b5401f8c81db7118886170",
       "max": 1000,
       "style": "IPY_MODEL_c01c3c8709694b7dbf7e9a6cba80143b",
       "value": 50
      }
     },
     "5c311a92328741098c13ce4f7eb632ee": {
      "model_module": "@jupyter-widgets/base",
      "model_module_version": "1.2.0",
      "model_name": "LayoutModel",
      "state": {}
     },
     "5c4d1598b6bd4d7980a4356b6f605dff": {
      "model_module": "@jupyter-widgets/controls",
      "model_module_version": "1.5.0",
      "model_name": "ProgressStyleModel",
      "state": {
       "description_width": "initial"
      }
     },
     "5c6f0c38a767422b8c055132f34d587f": {
      "model_module": "@jupyter-widgets/base",
      "model_module_version": "1.2.0",
      "model_name": "LayoutModel",
      "state": {
       "width": "auto"
      }
     },
     "5cb91bb5e9514d1f87248431aa245898": {
      "model_module": "@jupyter-widgets/base",
      "model_module_version": "1.2.0",
      "model_name": "LayoutModel",
      "state": {
       "width": "99%"
      }
     },
     "5cc60032793f4c2587fc518afc7da40f": {
      "model_module": "@jupyter-widgets/base",
      "model_module_version": "1.2.0",
      "model_name": "LayoutModel",
      "state": {
       "width": "100%"
      }
     },
     "5d01511cac3445c7bb7cfd21bf00cb74": {
      "model_module": "@jupyter-widgets/controls",
      "model_module_version": "1.5.0",
      "model_name": "DescriptionStyleModel",
      "state": {
       "description_width": ""
      }
     },
     "5d796ff9fc254e0f83629748bca25e0d": {
      "model_module": "@jupyter-widgets/controls",
      "model_module_version": "1.5.0",
      "model_name": "DescriptionStyleModel",
      "state": {
       "description_width": "initial"
      }
     },
     "5d88be63d2dc4295b6378a563b70ba6c": {
      "model_module": "@jupyter-widgets/base",
      "model_module_version": "1.2.0",
      "model_name": "LayoutModel",
      "state": {
       "width": "65%"
      }
     },
     "5d9c749fe221402aae3fc2a1dc886876": {
      "model_module": "@jupyter-widgets/controls",
      "model_module_version": "1.5.0",
      "model_name": "VBoxModel",
      "state": {
       "children": [
        "IPY_MODEL_d66d569fa9f8410ba6ab65df88e8aeee"
       ],
       "layout": "IPY_MODEL_3438d454dea24087ab413f5da6a6f805"
      }
     },
     "5dae2aaeeee844729188e621d2a59dea": {
      "model_module": "@jupyter-widgets/base",
      "model_module_version": "1.2.0",
      "model_name": "LayoutModel",
      "state": {
       "align_items": "center",
       "display": "flex",
       "flex_flow": "row",
       "width": "100%"
      }
     },
     "5db53e9986a649e19e4edd5facd1e4d4": {
      "model_module": "@jupyter-widgets/base",
      "model_module_version": "1.2.0",
      "model_name": "LayoutModel",
      "state": {}
     },
     "5e46b5b860294c8b905cf96e498ccb22": {
      "model_module": "@jupyter-widgets/controls",
      "model_module_version": "1.5.0",
      "model_name": "DescriptionStyleModel",
      "state": {
       "description_width": ""
      }
     },
     "5e4f685688d940b1931ce4e37cdd675f": {
      "model_module": "@jupyter-widgets/controls",
      "model_module_version": "1.5.0",
      "model_name": "VBoxModel",
      "state": {
       "children": [
        "IPY_MODEL_6cd32973fcac44c4b8f8bc78376e500b"
       ],
       "layout": "IPY_MODEL_c328ff85e102404f872be9cad1aba45f"
      }
     },
     "5ed9e792bf8e47cbb223cf27aec282e8": {
      "model_module": "@jupyter-widgets/controls",
      "model_module_version": "1.5.0",
      "model_name": "DescriptionStyleModel",
      "state": {
       "description_width": ""
      }
     },
     "5ee071417fce4f058648d32f09a93b35": {
      "model_module": "@jupyter-widgets/controls",
      "model_module_version": "1.5.0",
      "model_name": "ButtonModel",
      "state": {
       "_dom_classes": [
        "pbtn"
       ],
       "button_style": "danger",
       "icon": "history",
       "layout": "IPY_MODEL_2269e9f5777b410789d74e3857598400",
       "style": "IPY_MODEL_fe2e80dc8274419ba311bec6adcb02b8"
      }
     },
     "5f47cae5d83c4a1e8445b21a940e1f56": {
      "model_module": "@jupyter-widgets/controls",
      "model_module_version": "1.5.0",
      "model_name": "HTMLModel",
      "state": {
       "layout": "IPY_MODEL_bb463558e438454ea66f8dcbf62f8f69",
       "style": "IPY_MODEL_61881f09699341638c13d238f63ce3ce",
       "value": "Random_state:"
      }
     },
     "5f986950914741f78c9198e1cecc444e": {
      "model_module": "@jupyter-widgets/base",
      "model_module_version": "1.2.0",
      "model_name": "LayoutModel",
      "state": {
       "width": "auto"
      }
     },
     "5fad487c22874bf7b320159617599d75": {
      "model_module": "@jupyter-widgets/base",
      "model_module_version": "1.2.0",
      "model_name": "LayoutModel",
      "state": {
       "width": "auto"
      }
     },
     "5fd2532760ea4be592fd7c7d749ca0d8": {
      "model_module": "@jupyter-widgets/base",
      "model_module_version": "1.2.0",
      "model_name": "LayoutModel",
      "state": {}
     },
     "5fe47db690354ffbb7001983011f2002": {
      "model_module": "@jupyter-widgets/controls",
      "model_module_version": "1.5.0",
      "model_name": "HBoxModel",
      "state": {
       "_dom_classes": [
        "split-btn"
       ],
       "children": [
        "IPY_MODEL_9dc03f6dde5648a4a2ca8b5c905b548c",
        "IPY_MODEL_7a517e842b4a4a99bd830482f28b97a3"
       ],
       "layout": "IPY_MODEL_d8152b9402954c7c8b4fb91b579e212f"
      }
     },
     "5fe7633d517b47cf9de3501a9f13af2f": {
      "model_module": "@jupyter-widgets/controls",
      "model_module_version": "1.5.0",
      "model_name": "DropdownModel",
      "state": {
       "_options_labels": [
        "0",
        "1"
       ],
       "index": 0,
       "layout": "IPY_MODEL_cabb05bfd9e641c49d526d3637b6603a",
       "style": "IPY_MODEL_72a979dbb92e4c80b2cbbae073e51f94"
      }
     },
     "5ffce30c9d4145fa8e598545e90dec11": {
      "model_module": "@jupyter-widgets/base",
      "model_module_version": "1.2.0",
      "model_name": "LayoutModel",
      "state": {
       "width": "99%"
      }
     },
     "600069c3ee6d4460a189ad5a43474e1a": {
      "model_module": "@jupyter-widgets/controls",
      "model_module_version": "1.5.0",
      "model_name": "DescriptionStyleModel",
      "state": {
       "description_width": "initial"
      }
     },
     "6023a6277a044df697e6691af24c8294": {
      "model_module": "@jupyter-widgets/base",
      "model_module_version": "1.2.0",
      "model_name": "LayoutModel",
      "state": {}
     },
     "6026ff9dd40249279566bef7fe296f58": {
      "model_module": "@jupyter-widgets/controls",
      "model_module_version": "1.5.0",
      "model_name": "HTMLModel",
      "state": {
       "layout": "IPY_MODEL_cb6ebc844b084f23b0336705a878fee1",
       "style": "IPY_MODEL_54a043e1d4794033afd19e7cf7f1084c",
       "value": "<div class='divider'></div>"
      }
     },
     "60a6076b79134243b2a83f648c415ffd": {
      "model_module": "@jupyter-widgets/base",
      "model_module_version": "1.2.0",
      "model_name": "LayoutModel",
      "state": {}
     },
     "60a7d53a73a544ca8990bdb80431d897": {
      "model_module": "@jupyter-widgets/controls",
      "model_module_version": "1.5.0",
      "model_name": "HBoxModel",
      "state": {
       "_dom_classes": [
        "list-item"
       ],
       "children": [
        "IPY_MODEL_1ee55121ba5a494786c186f4cdf58421",
        "IPY_MODEL_141945df97c048fa9bf0f633e98e6bff"
       ],
       "layout": "IPY_MODEL_7752e04fdfe741a390537f64615b903d"
      }
     },
     "60c3bd9e93354d20a346a0bed45c76ff": {
      "model_module": "@jupyter-widgets/base",
      "model_module_version": "1.2.0",
      "model_name": "LayoutModel",
      "state": {
       "height": "80%",
       "width": "60%"
      }
     },
     "6134fa16c1234cc9998ce8618933d5a1": {
      "model_module": "@jupyter-widgets/controls",
      "model_module_version": "1.5.0",
      "model_name": "HTMLModel",
      "state": {
       "layout": "IPY_MODEL_afd149f9c9ec42678bbbc6efb57ec505",
       "style": "IPY_MODEL_10f415bdcb914b26a585dd06d40fa8ac",
       "value": "Subnet1_size:"
      }
     },
     "61881f09699341638c13d238f63ce3ce": {
      "model_module": "@jupyter-widgets/controls",
      "model_module_version": "1.5.0",
      "model_name": "DescriptionStyleModel",
      "state": {
       "description_width": ""
      }
     },
     "61a300ccf3df42468dbdafea3eac5a5e": {
      "model_module": "@jupyter-widgets/base",
      "model_module_version": "1.2.0",
      "model_name": "LayoutModel",
      "state": {
       "display": "flex",
       "flex_flow": "column",
       "width": "auto"
      }
     },
     "61f24c7c92d84ec5b7d9a66aa5a4cdb3": {
      "model_module": "@jupyter-widgets/controls",
      "model_module_version": "1.5.0",
      "model_name": "HTMLModel",
      "state": {
       "layout": "IPY_MODEL_d4f7f73a74f04375ab41b02c952f7a1a",
       "style": "IPY_MODEL_9a87ad2a21334f578f67a513e0fcf481",
       "value": "<div class='divider'></div>"
      }
     },
     "62090a02e84e45cb8d62db28f181e783": {
      "model_module": "@jupyter-widgets/controls",
      "model_module_version": "1.5.0",
      "model_name": "DescriptionStyleModel",
      "state": {
       "description_width": ""
      }
     },
     "6214e86ddb97494d8fedea2f7b855d62": {
      "model_module": "@jupyter-widgets/controls",
      "model_module_version": "1.5.0",
      "model_name": "DescriptionStyleModel",
      "state": {
       "description_width": ""
      }
     },
     "6224f1dd0fb0426da04f7c910d415a20": {
      "model_module": "@jupyter-widgets/controls",
      "model_module_version": "1.5.0",
      "model_name": "BoxModel",
      "state": {
       "children": [
        "IPY_MODEL_9e82952591844fc48f92b0a0108e8c29",
        "IPY_MODEL_e13ae38104d446cfb60087a63c3a9ea0",
        "IPY_MODEL_9ca20162254c45c6a7db5400869058cf",
        "IPY_MODEL_1750e2c5cd0b4d058d1694fc6ff7ad3b"
       ],
       "layout": "IPY_MODEL_96d362d1d9664e2ba5b358cfb0dacc4b"
      }
     },
     "62627087fb234a49a7336c50afa46bba": {
      "model_module": "@jupyter-widgets/base",
      "model_module_version": "1.2.0",
      "model_name": "LayoutModel",
      "state": {
       "width": "99%"
      }
     },
     "63051a33465e4b13943eef94287c2b8a": {
      "model_module": "@jupyter-widgets/base",
      "model_module_version": "1.2.0",
      "model_name": "LayoutModel",
      "state": {}
     },
     "63141df154ea42a5aad6ef1e0f3c0a47": {
      "model_module": "@jupyter-widgets/base",
      "model_module_version": "1.2.0",
      "model_name": "LayoutModel",
      "state": {}
     },
     "63dc8ad3022b45d98b6989efdf681521": {
      "model_module": "@jupyter-widgets/controls",
      "model_module_version": "1.5.0",
      "model_name": "ButtonStyleModel",
      "state": {}
     },
     "63e4e4f535d249dd803ea31f7857f845": {
      "model_module": "@jupyter-widgets/controls",
      "model_module_version": "1.5.0",
      "model_name": "FloatRangeSliderModel",
      "state": {
       "_model_name": "FloatRangeSliderModel",
       "_view_name": "FloatRangeSliderView",
       "layout": "IPY_MODEL_a5ff7ebafd6644639720651840cb5c61",
       "readout": false,
       "step": 0.1,
       "style": "IPY_MODEL_da9ec581ce3f4456a1fab93a3781077d",
       "value": [
        25,
        75
       ]
      }
     },
     "64b37b9741634965a0fdd1d1a1816a63": {
      "model_module": "@jupyter-widgets/controls",
      "model_module_version": "1.5.0",
      "model_name": "DescriptionStyleModel",
      "state": {
       "description_width": ""
      }
     },
     "65400aa62b1e45ec9b3c60be126795d5": {
      "model_module": "@jupyter-widgets/controls",
      "model_module_version": "1.5.0",
      "model_name": "BoxModel",
      "state": {
       "children": [
        "IPY_MODEL_3a4da1f1b22d490aa21c1b8722ee6e46"
       ],
       "layout": "IPY_MODEL_a8d96ed8d6d74c88bc42ccbe56f0430e"
      }
     },
     "6547548d450c4c85873949c30f8be100": {
      "model_module": "@jupyter-widgets/controls",
      "model_module_version": "1.5.0",
      "model_name": "DescriptionStyleModel",
      "state": {
       "description_width": "initial"
      }
     },
     "65a77af368cf4daa9420743db8dcdb46": {
      "model_module": "@jupyter-widgets/controls",
      "model_module_version": "1.5.0",
      "model_name": "VBoxModel",
      "state": {
       "children": [
        "IPY_MODEL_ad8d4529bf214974a01e9f920252b555",
        "IPY_MODEL_a74c207f08c4477c8eabb31522afd7ed"
       ],
       "layout": "IPY_MODEL_591fb1594ec04258ac6c580b0fce73a5"
      }
     },
     "65e0c29661bd4444943e8a015d6add0f": {
      "model_module": "@jupyter-widgets/base",
      "model_module_version": "1.2.0",
      "model_name": "LayoutModel",
      "state": {
       "width": "100%"
      }
     },
     "664800684a924d0c9ab64073dc733cf3": {
      "model_module": "@jupyter-widgets/controls",
      "model_module_version": "1.5.0",
      "model_name": "DescriptionStyleModel",
      "state": {
       "description_width": ""
      }
     },
     "6686f0ca5df244afb3c9e698c12037cd": {
      "model_module": "@jupyter-widgets/controls",
      "model_module_version": "1.5.0",
      "model_name": "ButtonModel",
      "state": {
       "_dom_classes": [
        "pbtn"
       ],
       "button_style": "danger",
       "description": "ADD",
       "layout": "IPY_MODEL_e86a9ca10c9547b796e44713558959ba",
       "style": "IPY_MODEL_fcdb4313d36a4ae4abda61038ce37d5b"
      }
     },
     "67074d6185a3454c8ca37e0dc56eca37": {
      "model_module": "@jupyter-widgets/controls",
      "model_module_version": "1.5.0",
      "model_name": "ButtonModel",
      "state": {
       "_dom_classes": [
        "pbtn"
       ],
       "button_style": "danger",
       "description": "RUN",
       "layout": "IPY_MODEL_5b2c50c19f5047589dbf87433d1ed512",
       "style": "IPY_MODEL_ebd8b415d35f4191b74f85f09f498c1b"
      }
     },
     "67347a575b404720bba6538b7c2c8250": {
      "model_module": "@jupyter-widgets/controls",
      "model_module_version": "1.5.0",
      "model_name": "VBoxModel",
      "state": {
       "children": [
        "IPY_MODEL_a2237ec98d1d4ca0bbf3247f17ca1c4b",
        "IPY_MODEL_1322c562d1ad485ca21f9298fa5b9740",
        "IPY_MODEL_af85ddfc8a474705a08de1d93a83b7f1",
        "IPY_MODEL_486128dffb3e4bf99026e3189a2aabab",
        "IPY_MODEL_4b8a8c8a1bf445a1bda869c9ddb78cb6",
        "IPY_MODEL_a15727c9594349c9b87a8766c21738c5",
        "IPY_MODEL_2e5de89a0b7948a197104e30fb175a11"
       ],
       "layout": "IPY_MODEL_47b16d7d759846b1bafe52789cff0d75"
      }
     },
     "673682ffd23d42cfbbeb7e15c038dea9": {
      "model_module": "@jupyter-widgets/controls",
      "model_module_version": "1.5.0",
      "model_name": "HTMLModel",
      "state": {
       "layout": "IPY_MODEL_2d903b59feac4d4380a717ba8321bde7",
       "style": "IPY_MODEL_d800121010c54cfbb378a003cc3330de",
       "value": "<p class=\"notification info\">Excluded attribute \"Mortgage\"</p>"
      }
     },
     "674624e3a490455a850ae23578423472": {
      "model_module": "@jupyter-widgets/controls",
      "model_module_version": "1.5.0",
      "model_name": "DescriptionStyleModel",
      "state": {
       "description_width": ""
      }
     },
     "687cdaecfb8f467c9a27c58469282f08": {
      "model_module": "@jupyter-widgets/base",
      "model_module_version": "1.2.0",
      "model_name": "LayoutModel",
      "state": {}
     },
     "68821a7275d545869cd3bd814ab21981": {
      "model_module": "@jupyter-widgets/base",
      "model_module_version": "1.2.0",
      "model_name": "LayoutModel",
      "state": {
       "width": "30%"
      }
     },
     "68880b5f4c2247f0aa63ae434effe39f": {
      "model_module": "@jupyter-widgets/controls",
      "model_module_version": "1.5.0",
      "model_name": "DropdownModel",
      "state": {
       "_options_labels": [
        "Classification",
        "Regression"
       ],
       "index": 0,
       "layout": "IPY_MODEL_25d82c8d7c214c36ba323debda1f964b",
       "style": "IPY_MODEL_b3161b5b28db47709beae08d047f025e"
      }
     },
     "6893cc97b6fc4d7f8271d8f7dd8d476c": {
      "model_module": "@jupyter-widgets/base",
      "model_module_version": "1.2.0",
      "model_name": "LayoutModel",
      "state": {}
     },
     "689e5106b89140ab8f82c1fcc185c87c": {
      "model_module": "@jupyter-widgets/base",
      "model_module_version": "1.2.0",
      "model_name": "LayoutModel",
      "state": {
       "width": "auto"
      }
     },
     "68b3602170cf475eaffe1edbb798905e": {
      "model_module": "@jupyter-widgets/base",
      "model_module_version": "1.2.0",
      "model_name": "LayoutModel",
      "state": {}
     },
     "68bb191882ff4969a11e688a51105c27": {
      "model_module": "@jupyter-widgets/controls",
      "model_module_version": "1.5.0",
      "model_name": "HTMLModel",
      "state": {
       "layout": "IPY_MODEL_d245ca29d95b42b7b32483bc62cabb2c",
       "style": "IPY_MODEL_c70886fe1545432aa4b8edf0f3006a2d",
       "value": "L1_regularization:"
      }
     },
     "68c05ff8389643278c24a98fb9dccaa2": {
      "model_module": "@jupyter-widgets/controls",
      "model_module_version": "1.5.0",
      "model_name": "HTMLModel",
      "state": {
       "layout": "IPY_MODEL_8d26a97f56cb44e0a58fe0301e5c77d8",
       "style": "IPY_MODEL_64b37b9741634965a0fdd1d1a1816a63",
       "value": "<div style='margin-top: 20px'></div>"
      }
     },
     "698a9dbfe96f45a5b752ddc08246f75d": {
      "model_module": "@jupyter-widgets/base",
      "model_module_version": "1.2.0",
      "model_name": "LayoutModel",
      "state": {
       "width": "65%"
      }
     },
     "6999e4d40ce2435d896ea81ca7749746": {
      "model_module": "@jupyter-widgets/controls",
      "model_module_version": "1.5.0",
      "model_name": "DescriptionStyleModel",
      "state": {
       "description_width": ""
      }
     },
     "69e041d00d794b069bfb29102907cd47": {
      "model_module": "@jupyter-widgets/controls",
      "model_module_version": "1.5.0",
      "model_name": "VBoxModel",
      "state": {
       "children": [
        "IPY_MODEL_4435c892ee5c45c0a2713e28ca8f4886",
        "IPY_MODEL_6ca0bfc4b9254d48af866d4f21863d6b"
       ],
       "layout": "IPY_MODEL_34017ebafc1c4b0cbbd8fa2735c1a348"
      }
     },
     "6af79aac8bd44deda9f7d8948a35ced0": {
      "model_module": "@jupyter-widgets/controls",
      "model_module_version": "1.5.0",
      "model_name": "VBoxModel",
      "state": {
       "children": [
        "IPY_MODEL_919a1e5590f04ca992c0c2ccda6419d0",
        "IPY_MODEL_80c90c280447423fb1ab365acadf9867",
        "IPY_MODEL_ed6e0003e14d4163939e7ac970f18302",
        "IPY_MODEL_f47b3aa53de0450d93ba80106e001d3c"
       ],
       "layout": "IPY_MODEL_fcb303a58cc84855bc382748b009679a"
      }
     },
     "6b913500f6a643e3a1ee57a5d75019ed": {
      "model_module": "@jupyter-widgets/controls",
      "model_module_version": "1.5.0",
      "model_name": "DropdownModel",
      "state": {
       "_options_labels": [
        "gini",
        "entropy",
        "log_loss"
       ],
       "index": 0,
       "layout": "IPY_MODEL_0f9f34fb0246449eb9a01450ade9b9fc",
       "style": "IPY_MODEL_bbb6a21de6934330aa6da66b9b5a54aa"
      }
     },
     "6be42ebd4080404a84ba590d998204f0": {
      "model_module": "@jupyter-widgets/controls",
      "model_module_version": "1.5.0",
      "model_name": "HTMLModel",
      "state": {
       "layout": "IPY_MODEL_6e1c474bb76d4c85ada0e2c9fb76a923",
       "style": "IPY_MODEL_acd282765f4a4d8e9747b3cc2913acc0",
       "value": "Batch_size:"
      }
     },
     "6bf94fe1d7d1446285d6a0e647f765d1": {
      "model_module": "@jupyter-widgets/controls",
      "model_module_version": "1.5.0",
      "model_name": "DescriptionStyleModel",
      "state": {
       "description_width": ""
      }
     },
     "6c21e61d525547c98b43b2f989023196": {
      "model_module": "@jupyter-widgets/base",
      "model_module_version": "1.2.0",
      "model_name": "LayoutModel",
      "state": {}
     },
     "6ca0bfc4b9254d48af866d4f21863d6b": {
      "model_module": "@jupyter-widgets/output",
      "model_module_version": "1.0.0",
      "model_name": "OutputModel",
      "state": {
       "layout": "IPY_MODEL_5aef822cc6304ae8b46c375d9353314c",
       "outputs": [
        {
         "data": {
          "text/html": "<div>\n<style scoped>\n    .dataframe tbody tr th:only-of-type {\n        vertical-align: middle;\n    }\n\n    .dataframe tbody tr th {\n        vertical-align: top;\n    }\n\n    .dataframe thead th {\n        text-align: right;\n    }\n</style>\n<table border=\"1\" class=\"dataframe\">\n  <thead>\n    <tr style=\"text-align: right;\">\n      <th></th>\n      <th>Group Category</th>\n      <th>Reference Group</th>\n      <th>Protected Group</th>\n    </tr>\n  </thead>\n  <tbody>\n    <tr>\n      <th>0</th>\n      <td>Gender</td>\n      <td>1.0</td>\n      <td>0.0</td>\n    </tr>\n    <tr>\n      <th>1</th>\n      <td>Race</td>\n      <td>1.0</td>\n      <td>0.0</td>\n    </tr>\n  </tbody>\n</table>\n</div>",
          "text/plain": "  Group Category Reference Group Protected Group\n0         Gender             1.0             0.0\n1           Race             1.0             0.0"
         },
         "metadata": {},
         "output_type": "display_data"
        }
       ]
      }
     },
     "6cac5e8bf84a42899f751c243508491d": {
      "model_module": "@jupyter-widgets/base",
      "model_module_version": "1.2.0",
      "model_name": "LayoutModel",
      "state": {
       "align_items": "center",
       "display": "flex",
       "flex_flow": "row",
       "justify_content": "space-between",
       "width": "100%"
      }
     },
     "6cad7ef3ec2344c185a0326b4763f298": {
      "model_module": "@jupyter-widgets/controls",
      "model_module_version": "1.5.0",
      "model_name": "HBoxModel",
      "state": {
       "children": [
        "IPY_MODEL_f2fa88ffa5ba40349c63d060fb916561",
        "IPY_MODEL_f5c1d26e894a4187952817306459b2a3",
        "IPY_MODEL_a3a29a3093bc472f9d32c64416f58f6a"
       ],
       "layout": "IPY_MODEL_0d3f2438388f4af88adbf8731cc180d1"
      }
     },
     "6cd32973fcac44c4b8f8bc78376e500b": {
      "model_module": "@jupyter-widgets/controls",
      "model_module_version": "1.5.0",
      "model_name": "HTMLModel",
      "state": {
       "layout": "IPY_MODEL_8fd21267519647738cbcf8344c6ff584",
       "style": "IPY_MODEL_6999e4d40ce2435d896ea81ca7749746",
       "value": "Reference:"
      }
     },
     "6ce2eda9a3db489ca9549d98a844de05": {
      "model_module": "@jupyter-widgets/controls",
      "model_module_version": "1.5.0",
      "model_name": "VBoxModel",
      "state": {
       "children": [
        "IPY_MODEL_743980efc7df41e59f29b4c6a4d93f29",
        "IPY_MODEL_dfc114ca3fe342478caa0d400fc6e551"
       ],
       "layout": "IPY_MODEL_687cdaecfb8f467c9a27c58469282f08"
      }
     },
     "6cf94ef808b0443496b153da78f7e322": {
      "model_module": "@jupyter-widgets/controls",
      "model_module_version": "1.5.0",
      "model_name": "DescriptionStyleModel",
      "state": {
       "description_width": ""
      }
     },
     "6d40c907c9a14fccb4375a1146a3356c": {
      "model_module": "@jupyter-widgets/controls",
      "model_module_version": "1.5.0",
      "model_name": "DescriptionStyleModel",
      "state": {
       "description_width": ""
      }
     },
     "6db92288ef88475ea6837286544d48bf": {
      "model_module": "@jupyter-widgets/base",
      "model_module_version": "1.2.0",
      "model_name": "LayoutModel",
      "state": {}
     },
     "6e1c474bb76d4c85ada0e2c9fb76a923": {
      "model_module": "@jupyter-widgets/base",
      "model_module_version": "1.2.0",
      "model_name": "LayoutModel",
      "state": {}
     },
     "6e83a1d43f9b479b93d96718cd83e2f6": {
      "model_module": "@jupyter-widgets/controls",
      "model_module_version": "1.5.0",
      "model_name": "DescriptionStyleModel",
      "state": {
       "description_width": "initial"
      }
     },
     "6f1e105820774f508bd4cab41f143694": {
      "model_module": "@jupyter-widgets/base",
      "model_module_version": "1.2.0",
      "model_name": "LayoutModel",
      "state": {
       "width": "20%"
      }
     },
     "6f3e05e5dff246938be88945c4df3b60": {
      "model_module": "@jupyter-widgets/base",
      "model_module_version": "1.2.0",
      "model_name": "LayoutModel",
      "state": {}
     },
     "6f810b71a24f4a13a8bd4a101b852f64": {
      "model_module": "@jupyter-widgets/base",
      "model_module_version": "1.2.0",
      "model_name": "LayoutModel",
      "state": {
       "width": "155px"
      }
     },
     "6f8e9fd1e57742a9af48412ecf62cf9c": {
      "model_module": "@jupyter-widgets/base",
      "model_module_version": "1.2.0",
      "model_name": "LayoutModel",
      "state": {}
     },
     "6fdaf13231cb44f899c3036eed736669": {
      "model_module": "@jupyter-widgets/controls",
      "model_module_version": "1.5.0",
      "model_name": "VBoxModel",
      "state": {
       "children": [
        "IPY_MODEL_b4d88c877575498c9adf2869d01efdb3",
        "IPY_MODEL_73c7c3bb1fd64d4d9f35d80e11c32563"
       ],
       "layout": "IPY_MODEL_4e68908d4e7c4751bcba6d562e0f46d6"
      }
     },
     "6fe273239fcb4f1db1d2b4fe0d5a16b7": {
      "model_module": "@jupyter-widgets/controls",
      "model_module_version": "1.5.0",
      "model_name": "DescriptionStyleModel",
      "state": {
       "description_width": ""
      }
     },
     "70e7aef91a65461386a09917b6f12e26": {
      "model_module": "@jupyter-widgets/controls",
      "model_module_version": "1.5.0",
      "model_name": "DescriptionStyleModel",
      "state": {
       "description_width": ""
      }
     },
     "712dfa9b797d4d3c91adcde0addaf6d2": {
      "model_module": "@jupyter-widgets/output",
      "model_module_version": "1.0.0",
      "model_name": "OutputModel",
      "state": {
       "layout": "IPY_MODEL_6023a6277a044df697e6691af24c8294",
       "outputs": [
        {
         "data": {
          "application/vnd.jupyter.widget-view+json": {
           "model_id": "c763dfe68c6f472cb6bd86487237ffea",
           "version_major": 2,
           "version_minor": 0
          },
          "text/plain": "VBox(children=(HTML(value=\"<div class='divider'></div>\"), HTML(value=\"<h4 style='margin-top: 5px;margin-bottom…"
         },
         "metadata": {},
         "output_type": "display_data"
        },
        {
         "data": {
          "application/vnd.jupyter.widget-view+json": {
           "model_id": "d3102aa5e9be4a74910fac8477cb0d98",
           "version_major": 2,
           "version_minor": 0
          },
          "text/plain": "HTML(value=\"\\n        <table class='ptable striped'>\\n            <thead class='pthead'>\\n                <tr …"
         },
         "metadata": {},
         "output_type": "display_data"
        }
       ]
      }
     },
     "7178abb312d248b6b931ad87d1a4266b": {
      "model_module": "@jupyter-widgets/base",
      "model_module_version": "1.2.0",
      "model_name": "LayoutModel",
      "state": {
       "width": "99%"
      }
     },
     "71893f1fd8e8430e86ad7224a24dca68": {
      "model_module": "@jupyter-widgets/controls",
      "model_module_version": "1.5.0",
      "model_name": "HTMLModel",
      "state": {
       "layout": "IPY_MODEL_263a4b3082e34ba291c300ef96d8f025",
       "style": "IPY_MODEL_52cf33db15134a869afda389a7ac6ac7",
       "value": "<h4 style='margin: 10px 0px;'>Customize Model</h4>"
      }
     },
     "71ac39994e0647cf8e6e730d6d9596ca": {
      "model_module": "@jupyter-widgets/base",
      "model_module_version": "1.2.0",
      "model_name": "LayoutModel",
      "state": {
       "height": "25px",
       "width": "35px"
      }
     },
     "7291c40db66d4ecc8dddbf16ccb0886e": {
      "model_module": "@jupyter-widgets/base",
      "model_module_version": "1.2.0",
      "model_name": "LayoutModel",
      "state": {}
     },
     "72a979dbb92e4c80b2cbbae073e51f94": {
      "model_module": "@jupyter-widgets/controls",
      "model_module_version": "1.5.0",
      "model_name": "DescriptionStyleModel",
      "state": {
       "description_width": "initial"
      }
     },
     "72d3bc01c76b43fc8266a20e5419db59": {
      "model_module": "@jupyter-widgets/base",
      "model_module_version": "1.2.0",
      "model_name": "LayoutModel",
      "state": {
       "width": "155px"
      }
     },
     "7316d5be9244404987bcd61d4d97ae18": {
      "model_module": "@jupyter-widgets/base",
      "model_module_version": "1.2.0",
      "model_name": "LayoutModel",
      "state": {
       "display": "flex",
       "flex_flow": "column",
       "width": "auto"
      }
     },
     "73190655e6c842d09260e215b7b79402": {
      "model_module": "@jupyter-widgets/controls",
      "model_module_version": "1.5.0",
      "model_name": "VBoxModel",
      "state": {
       "children": [
        "IPY_MODEL_299ff5544856424e8a26ce8ed39b7fbc",
        "IPY_MODEL_cdc974424d194772afd59909a7ed8d70"
       ],
       "layout": "IPY_MODEL_5d88be63d2dc4295b6378a563b70ba6c"
      }
     },
     "73ab008464ab4b49883341e5d8dca751": {
      "model_module": "@jupyter-widgets/base",
      "model_module_version": "1.2.0",
      "model_name": "LayoutModel",
      "state": {}
     },
     "73c7c3bb1fd64d4d9f35d80e11c32563": {
      "model_module": "@jupyter-widgets/controls",
      "model_module_version": "1.5.0",
      "model_name": "BoundedFloatTextModel",
      "state": {
       "layout": "IPY_MODEL_4b570104445b4cc7a9d70033b9b91cce",
       "max": 1,
       "step": 0.01,
       "style": "IPY_MODEL_f01f18ef88af4337bf293a2d8137116a",
       "value": 0.33
      }
     },
     "741a17d8847342deb6868004137cbba9": {
      "model_module": "@jupyter-widgets/base",
      "model_module_version": "1.2.0",
      "model_name": "LayoutModel",
      "state": {}
     },
     "742780fbd5fc41dd9340dcc77b6ee5c1": {
      "model_module": "@jupyter-widgets/base",
      "model_module_version": "1.2.0",
      "model_name": "LayoutModel",
      "state": {}
     },
     "7436c480e07f4a7aba22bfecec8c5651": {
      "model_module": "@jupyter-widgets/base",
      "model_module_version": "1.2.0",
      "model_name": "LayoutModel",
      "state": {
       "display": "flex",
       "flex_flow": "column",
       "width": "100%"
      }
     },
     "743980efc7df41e59f29b4c6a4d93f29": {
      "model_module": "@jupyter-widgets/controls",
      "model_module_version": "1.5.0",
      "model_name": "ToggleButtonsModel",
      "state": {
       "_options_labels": [
        "Group Setting",
        "Metrics",
        "Segmented Metrics",
        "Thresholding",
        "Feature Removal"
       ],
       "button_style": "",
       "icons": [],
       "index": 0,
       "layout": "IPY_MODEL_437a117ebfc64f079bbe3cc9ee11bb09",
       "style": "IPY_MODEL_05c5b7eec0bf473eb3219038e18280a9",
       "tooltips": []
      }
     },
     "7469fdb5b0244bf1b189e9bd539cddc8": {
      "model_module": "@jupyter-widgets/controls",
      "model_module_version": "1.5.0",
      "model_name": "HTMLModel",
      "state": {
       "layout": "IPY_MODEL_6c21e61d525547c98b43b2f989023196",
       "style": "IPY_MODEL_266e1f33f1264960aa29ddb754100d8e",
       "value": "reg_alpha:"
      }
     },
     "74858aeb0cf64d739ef9fc7f131e570d": {
      "model_module": "@jupyter-widgets/controls",
      "model_module_version": "1.5.0",
      "model_name": "ButtonModel",
      "state": {
       "_dom_classes": [
        "pbtn"
       ],
       "button_style": "danger",
       "description": "OK",
       "layout": "IPY_MODEL_dda053d7c8684c418c4ce8c2eed78098",
       "style": "IPY_MODEL_39814e6f259b4be9a1b01fe821768710"
      }
     },
     "7488ab0927304eec8e90d8df308cb995": {
      "model_module": "@jupyter-widgets/base",
      "model_module_version": "1.2.0",
      "model_name": "LayoutModel",
      "state": {
       "width": "20%"
      }
     },
     "74d0dcf691d147f3b0d7f9b7d009253c": {
      "model_module": "@jupyter-widgets/controls",
      "model_module_version": "1.5.0",
      "model_name": "HTMLModel",
      "state": {
       "layout": "IPY_MODEL_dd0318a1f60345e1a6a410207725d4bb",
       "style": "IPY_MODEL_31ae0d8838774a1697ac4a953c1eda0a"
      }
     },
     "74e246aa08994723870e72080cc31c1b": {
      "model_module": "@jupyter-widgets/controls",
      "model_module_version": "1.5.0",
      "model_name": "DescriptionStyleModel",
      "state": {
       "description_width": "initial"
      }
     },
     "7551a44dc10747888f1db82d09607574": {
      "model_module": "@jupyter-widgets/controls",
      "model_module_version": "1.5.0",
      "model_name": "VBoxModel",
      "state": {
       "children": [
        "IPY_MODEL_f2745c60a3b5423d9ac7e880aa7ff033",
        "IPY_MODEL_8930b3d2a99e4a3dbc52ddfb5fb71fab",
        "IPY_MODEL_f06f6b90fcf24f47994c022fd43f3008",
        "IPY_MODEL_6be42ebd4080404a84ba590d998204f0",
        "IPY_MODEL_68bb191882ff4969a11e688a51105c27",
        "IPY_MODEL_d7d543111e20452a89af56f9affbc106",
        "IPY_MODEL_0ee3564832834654aced7bb0516ab30a",
        "IPY_MODEL_5f47cae5d83c4a1e8445b21a940e1f56"
       ],
       "layout": "IPY_MODEL_b11f5ef3c14c4f2e8bcbdb48be3fa618"
      }
     },
     "75587ecbaff5430db7af5d78120ae094": {
      "model_module": "@jupyter-widgets/base",
      "model_module_version": "1.2.0",
      "model_name": "LayoutModel",
      "state": {}
     },
     "759bf08079d946dab73993f85b7d2c75": {
      "model_module": "@jupyter-widgets/controls",
      "model_module_version": "1.5.0",
      "model_name": "DescriptionStyleModel",
      "state": {
       "description_width": ""
      }
     },
     "759e252657ed42d4ac50505322c56563": {
      "model_module": "@jupyter-widgets/controls",
      "model_module_version": "1.5.0",
      "model_name": "DescriptionStyleModel",
      "state": {
       "description_width": ""
      }
     },
     "76a9be9d07934e4d8d2130ed12e34b2f": {
      "model_module": "@jupyter-widgets/base",
      "model_module_version": "1.2.0",
      "model_name": "LayoutModel",
      "state": {
       "height": "5px"
      }
     },
     "7752e04fdfe741a390537f64615b903d": {
      "model_module": "@jupyter-widgets/base",
      "model_module_version": "1.2.0",
      "model_name": "LayoutModel",
      "state": {
       "align_items": "center",
       "display": "flex",
       "flex_flow": "row",
       "width": "100%"
      }
     },
     "776264bce8344bbe89905ca6e17af220": {
      "model_module": "@jupyter-widgets/base",
      "model_module_version": "1.2.0",
      "model_name": "LayoutModel",
      "state": {}
     },
     "783c4d8ca2924e919b7563e6e8529dd8": {
      "model_module": "@jupyter-widgets/controls",
      "model_module_version": "1.5.0",
      "model_name": "CheckboxModel",
      "state": {
       "description": "GAM",
       "disabled": false,
       "indent": false,
       "layout": "IPY_MODEL_0b644f733b0a4ad28dfa54cf57118939",
       "style": "IPY_MODEL_b2d79e65b18a487e8ba046566a54a049",
       "value": false
      }
     },
     "785ce6cad3f648e89dba93f6f118f98b": {
      "model_module": "@jupyter-widgets/base",
      "model_module_version": "1.2.0",
      "model_name": "LayoutModel",
      "state": {
       "width": "auto"
      }
     },
     "7932d2f7f3c543a6bd88c9b21439859c": {
      "model_module": "@jupyter-widgets/controls",
      "model_module_version": "1.5.0",
      "model_name": "HTMLModel",
      "state": {
       "layout": "IPY_MODEL_a9f66c293f7d46ef937bca09e4263bcf",
       "style": "IPY_MODEL_f65a27e518124d849d88a9dc6ec12e37",
       "value": "Protected:"
      }
     },
     "7960a300cbe5482b993df6614bef8336": {
      "model_module": "@jupyter-widgets/controls",
      "model_module_version": "1.5.0",
      "model_name": "VBoxModel",
      "state": {
       "children": [
        "IPY_MODEL_3658f8ba0e9d43bf99e883a9738f41b1",
        "IPY_MODEL_5fe7633d517b47cf9de3501a9f13af2f"
       ],
       "layout": "IPY_MODEL_3e2407d5ed164ebf8e2ea1ec20e61d68"
      }
     },
     "796a559c9b9e4c60a3bb80478829dd23": {
      "model_module": "@jupyter-widgets/base",
      "model_module_version": "1.2.0",
      "model_name": "LayoutModel",
      "state": {
       "display": "flex",
       "flex_flow": "column",
       "width": "auto"
      }
     },
     "79761e1481944e2b99bbcef4396282c6": {
      "model_module": "@jupyter-widgets/base",
      "model_module_version": "1.2.0",
      "model_name": "LayoutModel",
      "state": {}
     },
     "7982732dc39b45b2bcfbec097ea913e6": {
      "model_module": "@jupyter-widgets/controls",
      "model_module_version": "1.5.0",
      "model_name": "HTMLModel",
      "state": {
       "layout": "IPY_MODEL_4fd52e4b20894458b84b9271c000441b",
       "style": "IPY_MODEL_1cc6dbdda66b46b7a0f21331af6e3d5f",
       "value": "\n        <table class='ptable striped'>\n            <thead class='pthead'>\n                <tr class='ptr'>\n                    <th class='pth'></th><th class='pth'>name</th><th class='pth'>n_missing</th><th class='pth'>n_unique</th><th class='pth'>top1</th><th class='pth'>top2</th><th class='pth'>top3</th><th class='pth'>n_others</th>\n                </tr>\n            </thead>\n\n            <tbody class='ptbody'>\n                <tr class='ptr'><td class='ptd'>0</td><td class='ptd'>Mortgage</td><td class='ptd'>0</td><td class='ptd'>2</td><td class='ptd'>1.0 : 5014</td><td class='ptd'>0.0 : 4986</td><td class='ptd'>0</td><td class='ptd'>0</td></tr><tr class='ptr grey'><td class='ptd'>1</td><td class='ptd'>Gender</td><td class='ptd'>0</td><td class='ptd'>2</td><td class='ptd'>0.0 : 5043</td><td class='ptd'>1.0 : 4957</td><td class='ptd'>0</td><td class='ptd'>0</td></tr><tr class='ptr'><td class='ptd'>2</td><td class='ptd'>Race</td><td class='ptd'>0</td><td class='ptd'>2</td><td class='ptd'>1.0 : 5031</td><td class='ptd'>0.0 : 4969</td><td class='ptd'>0</td><td class='ptd'>0</td></tr><tr class='ptr'><td class='ptd'>3</td><td class='ptd'>Approved</td><td class='ptd'>0</td><td class='ptd'>2</td><td class='ptd'>1.0 : 5166</td><td class='ptd'>0.0 : 4834</td><td class='ptd'>0</td><td class='ptd'>0</td></tr>\n            </tbody>\n        </table>\n        "
      }
     },
     "7997b65de92e4940b5218bb90e1ea978": {
      "model_module": "@jupyter-widgets/controls",
      "model_module_version": "1.5.0",
      "model_name": "DropdownModel",
      "state": {
       "_options_labels": [
        "ACC",
        "AUC",
        "F1"
       ],
       "description": "Rank Metric:",
       "index": 0,
       "layout": "IPY_MODEL_80963309b983411886faa17b895fe2b9",
       "style": "IPY_MODEL_74e246aa08994723870e72080cc31c1b"
      }
     },
     "79a0104273e94d2996836d9b041ad602": {
      "model_module": "@jupyter-widgets/output",
      "model_module_version": "1.0.0",
      "model_name": "OutputModel",
      "state": {
       "layout": "IPY_MODEL_5db53e9986a649e19e4edd5facd1e4d4",
       "outputs": [
        {
         "data": {
          "application/vnd.jupyter.widget-view+json": {
           "model_id": "adfec7abbf024442af871065dfb7b2aa",
           "version_major": 2,
           "version_minor": 0
          },
          "text/plain": "HTML(value=\"<p class='notification info'>Model Training Done</p>\")"
         },
         "metadata": {},
         "output_type": "display_data"
        }
       ]
      }
     },
     "79b01084f8d748f0b2b65afb302119e8": {
      "model_module": "@jupyter-widgets/base",
      "model_module_version": "1.2.0",
      "model_name": "LayoutModel",
      "state": {}
     },
     "79e03efd4f234540aed8b0e08e3b4889": {
      "model_module": "@jupyter-widgets/controls",
      "model_module_version": "1.5.0",
      "model_name": "HTMLModel",
      "state": {
       "layout": "IPY_MODEL_7291c40db66d4ecc8dddbf16ccb0886e",
       "style": "IPY_MODEL_5a3fb9897dac4d989de50c9fa79320ec",
       "value": "Prune_parameter:"
      }
     },
     "79e1367a3122406f9e9594a6a6b058a6": {
      "model_module": "@jupyter-widgets/controls",
      "model_module_version": "1.5.0",
      "model_name": "HBoxModel",
      "state": {
       "children": [
        "IPY_MODEL_58f980207a954bb19449ae94e8cf0da2",
        "IPY_MODEL_8d18b991a40c4c92b8382e91c79b570a"
       ],
       "layout": "IPY_MODEL_4ae2317b7b1a4cf59ce709402856529d"
      }
     },
     "7a19c73bae7f4e61a3a6d1639f9c229f": {
      "model_module": "@jupyter-widgets/base",
      "model_module_version": "1.2.0",
      "model_name": "LayoutModel",
      "state": {
       "align_items": "center",
       "display": "flex",
       "flex_flow": "column",
       "width": "99%"
      }
     },
     "7a2a001bbf864c4a8bbe3fe5ce49d771": {
      "model_module": "@jupyter-widgets/controls",
      "model_module_version": "1.5.0",
      "model_name": "BoundedFloatTextModel",
      "state": {
       "layout": "IPY_MODEL_c49097906bf2486aa43532eab20bf5e4",
       "max": 1,
       "step": null,
       "style": "IPY_MODEL_d91954a1070a4cd2baba1ceda6791425",
       "value": 1e-05
      }
     },
     "7a517e842b4a4a99bd830482f28b97a3": {
      "model_module": "@jupyter-widgets/controls",
      "model_module_version": "1.5.0",
      "model_name": "ButtonModel",
      "state": {
       "_dom_classes": [
        "pbtn"
       ],
       "button_style": "danger",
       "description": "UPDATE",
       "layout": "IPY_MODEL_60c3bd9e93354d20a346a0bed45c76ff",
       "style": "IPY_MODEL_0f224a68697d496cb2aecee102c99bf7"
      }
     },
     "7a55ad7750d44e9590b85311a52c32c7": {
      "model_module": "@jupyter-widgets/base",
      "model_module_version": "1.2.0",
      "model_name": "LayoutModel",
      "state": {}
     },
     "7a63bf12d6f7420cb2020b6caca77814": {
      "model_module": "@jupyter-widgets/controls",
      "model_module_version": "1.5.0",
      "model_name": "BoxModel",
      "state": {
       "children": [
        "IPY_MODEL_098c26a4f268413098643623577c707f",
        "IPY_MODEL_0675dc7fe67d47dfa664943f983c4d5a"
       ],
       "layout": "IPY_MODEL_d728c261f20f46d8a011183be3c0e2c9"
      }
     },
     "7ac2f844c4024200a3939403abc3a904": {
      "model_module": "@jupyter-widgets/controls",
      "model_module_version": "1.5.0",
      "model_name": "HTMLModel",
      "state": {
       "layout": "IPY_MODEL_0ea7dd85b7fd4dd0b93eef0712a466f0",
       "style": "IPY_MODEL_ba2be4bba45f47b0b5053bf18b24e461",
       "value": "\n        <table class='ptable striped'>\n            <thead class='pthead'>\n                <tr class='ptr'>\n                    <th class='pth'></th><th class='pth'>name</th><th class='pth'>n_missing</th><th class='pth'>mean</th><th class='pth'>std</th><th class='pth'>min</th><th class='pth'>q1</th><th class='pth'>median</th><th class='pth'>q3</th><th class='pth'>max</th>\n                </tr>\n            </thead>\n\n            <tbody class='ptbody'>\n                <tr class='ptr'><td class='ptd'>0</td><td class='ptd'>Balance</td><td class='ptd'>0.0</td><td class='ptd'>5273.876</td><td class='ptd'>1250.01039</td><td class='ptd'>0.0</td><td class='ptd'>4427.0</td><td class='ptd'>5265.0</td><td class='ptd'>6128.0</td><td class='ptd'>10000.0</td></tr><tr class='ptr'><td class='ptd'>1</td><td class='ptd'>Amount Past Due</td><td class='ptd'>0.0</td><td class='ptd'>1021.5116</td><td class='ptd'>1433.433443</td><td class='ptd'>0.0</td><td class='ptd'>0.0</td><td class='ptd'>16.0</td><td class='ptd'>1785.5</td><td class='ptd'>7722.0</td></tr><tr class='ptr'><td class='ptd'>2</td><td class='ptd'>Credit Inquiry</td><td class='ptd'>0.0</td><td class='ptd'>1.2195</td><td class='ptd'>1.419972</td><td class='ptd'>0.0</td><td class='ptd'>0.0</td><td class='ptd'>1.0</td><td class='ptd'>2.0</td><td class='ptd'>27.0</td></tr>\n            </tbody>\n        </table>\n        "
      }
     },
     "7added2501954b7e9aa9be11a8e193f9": {
      "model_module": "@jupyter-widgets/controls",
      "model_module_version": "1.5.0",
      "model_name": "HBoxModel",
      "state": {
       "children": [
        "IPY_MODEL_36d6564d2f804fcc876093aacf10a31a",
        "IPY_MODEL_f58a333e690344b19e4e283337490409"
       ],
       "layout": "IPY_MODEL_62627087fb234a49a7336c50afa46bba"
      }
     },
     "7b0a97d966ef4b759cf5beb21452743f": {
      "model_module": "@jupyter-widgets/controls",
      "model_module_version": "1.5.0",
      "model_name": "BoxModel",
      "state": {
       "children": [
        "IPY_MODEL_1087aca97cf34899b99f613f52badaff",
        "IPY_MODEL_4857b80f885f4538a48f875136eb797b"
       ],
       "layout": "IPY_MODEL_f5e89e728f6f4d4da98c331e95e23e71"
      }
     },
     "7b37bb85913044be83dcbdff0432d1b4": {
      "model_module": "@jupyter-widgets/controls",
      "model_module_version": "1.5.0",
      "model_name": "DescriptionStyleModel",
      "state": {
       "description_width": ""
      }
     },
     "7b5e1b7778674ab39fb014f8ace0dd61": {
      "model_module": "@jupyter-widgets/controls",
      "model_module_version": "1.5.0",
      "model_name": "DescriptionStyleModel",
      "state": {
       "description_width": ""
      }
     },
     "7bb958009415498fa527aca61801033d": {
      "model_module": "@jupyter-widgets/base",
      "model_module_version": "1.2.0",
      "model_name": "LayoutModel",
      "state": {
       "width": "auto"
      }
     },
     "7bdf0d963377423f9c12ecff05838211": {
      "model_module": "@jupyter-widgets/controls",
      "model_module_version": "1.5.0",
      "model_name": "HBoxModel",
      "state": {
       "children": [
        "IPY_MODEL_cf56751e9cab43088dc44825fb8da9b5",
        "IPY_MODEL_0244f3fa668742df9c6db50af4ee20ad",
        "IPY_MODEL_19612136aad74f2bb6cecd58f6dfaf00"
       ],
       "layout": "IPY_MODEL_6f1e105820774f508bd4cab41f143694"
      }
     },
     "7c1679d8a512443eada449fb92dc73b4": {
      "model_module": "@jupyter-widgets/controls",
      "model_module_version": "1.5.0",
      "model_name": "HTMLModel",
      "state": {
       "layout": "IPY_MODEL_495cb5895b0a496ab95df5d857db9641",
       "style": "IPY_MODEL_5ed9e792bf8e47cbb223cf27aec282e8",
       "value": "Update Attribute:"
      }
     },
     "7c69ae0ffa0a4288b0d30f7bc7572846": {
      "model_module": "@jupyter-widgets/controls",
      "model_module_version": "1.5.0",
      "model_name": "DescriptionStyleModel",
      "state": {
       "description_width": ""
      }
     },
     "7cdbb805624c4ad49d2d5b915164f749": {
      "model_module": "@jupyter-widgets/base",
      "model_module_version": "1.2.0",
      "model_name": "LayoutModel",
      "state": {
       "width": "99%"
      }
     },
     "7d423debd29848709c1aa05024c3d953": {
      "model_module": "@jupyter-widgets/controls",
      "model_module_version": "1.5.0",
      "model_name": "HTMLModel",
      "state": {
       "layout": "IPY_MODEL_3119910c61574d1da3ef71d56bab0650",
       "style": "IPY_MODEL_ab7804a31c034f6ab16b26ffd372011c",
       "value": "<div style='margin-top: 10px'></div>"
      }
     },
     "7df276f0c06643cb8d9a7d647ca19887": {
      "model_module": "@jupyter-widgets/base",
      "model_module_version": "1.2.0",
      "model_name": "LayoutModel",
      "state": {}
     },
     "7e2d858935d1446884668d76bda9b0c5": {
      "model_module": "@jupyter-widgets/base",
      "model_module_version": "1.2.0",
      "model_name": "LayoutModel",
      "state": {
       "width": "15%"
      }
     },
     "7e33b531851944d08c546d804ef252f0": {
      "model_module": "@jupyter-widgets/base",
      "model_module_version": "1.2.0",
      "model_name": "LayoutModel",
      "state": {}
     },
     "7e45409beb094e9e8622f202fe87c879": {
      "model_module": "@jupyter-widgets/base",
      "model_module_version": "1.2.0",
      "model_name": "LayoutModel",
      "state": {}
     },
     "7e546c4ef0eb481ba41c117830c09776": {
      "model_module": "@jupyter-widgets/controls",
      "model_module_version": "1.5.0",
      "model_name": "HTMLModel",
      "state": {
       "layout": "IPY_MODEL_91f6e80f7d2f40d1bb8674f2eeaf651c",
       "style": "IPY_MODEL_d66982de08a947ddb566a4e8766eb5df",
       "value": "Learning_rates:"
      }
     },
     "7e7d0c21fe3345c18797c64a0a203338": {
      "model_module": "@jupyter-widgets/base",
      "model_module_version": "1.2.0",
      "model_name": "LayoutModel",
      "state": {
       "width": "99%"
      }
     },
     "7e7fa9ced2a8478cad4384f7deeb9dc7": {
      "model_module": "@jupyter-widgets/controls",
      "model_module_version": "1.5.0",
      "model_name": "HTMLModel",
      "state": {
       "layout": "IPY_MODEL_87e3194f605946aaa0df785ce470c447",
       "style": "IPY_MODEL_e53740dbb59343ef819531a7c20cadbf",
       "value": "<div style='margin-right: 10px'></div>"
      }
     },
     "7ec11a662e6c4bb7928b4ed53a38e92d": {
      "model_module": "@jupyter-widgets/controls",
      "model_module_version": "1.5.0",
      "model_name": "ButtonModel",
      "state": {
       "_dom_classes": [
        "pbtn"
       ],
       "button_style": "danger",
       "icon": "cog",
       "layout": "IPY_MODEL_c4a5f224b86d4a95b5079ac2b45a00e7",
       "style": "IPY_MODEL_63dc8ad3022b45d98b6989efdf681521"
      }
     },
     "7eceb03533a14bd78c84e1b57626bcda": {
      "model_module": "@jupyter-widgets/controls",
      "model_module_version": "1.5.0",
      "model_name": "HBoxModel",
      "state": {
       "_dom_classes": [
        "list-item"
       ],
       "children": [
        "IPY_MODEL_783c4d8ca2924e919b7563e6e8529dd8",
        "IPY_MODEL_31e6e0d9bc224e87be1a224a578439d8"
       ],
       "layout": "IPY_MODEL_59e12d9f12604a5386ed3b2178285a6f"
      }
     },
     "7f35d0dc9a3e43bdaeb2556e37b45a7f": {
      "model_module": "@jupyter-widgets/base",
      "model_module_version": "1.2.0",
      "model_name": "LayoutModel",
      "state": {}
     },
     "7f952823788a44d6935fb2f3e50d3cf7": {
      "model_module": "@jupyter-widgets/base",
      "model_module_version": "1.2.0",
      "model_name": "LayoutModel",
      "state": {}
     },
     "7f9f128d221b47ed9e5208a30d523e99": {
      "model_module": "@jupyter-widgets/controls",
      "model_module_version": "1.5.0",
      "model_name": "DescriptionStyleModel",
      "state": {
       "description_width": ""
      }
     },
     "8043f667186b41fa93e3fbed85ce9de8": {
      "model_module": "@jupyter-widgets/controls",
      "model_module_version": "1.5.0",
      "model_name": "DescriptionStyleModel",
      "state": {
       "description_width": ""
      }
     },
     "808fe788e31e4e03adbc422ce270433b": {
      "model_module": "@jupyter-widgets/base",
      "model_module_version": "1.2.0",
      "model_name": "LayoutModel",
      "state": {
       "justify_content": "space-between"
      }
     },
     "80963309b983411886faa17b895fe2b9": {
      "model_module": "@jupyter-widgets/base",
      "model_module_version": "1.2.0",
      "model_name": "LayoutModel",
      "state": {
       "width": "55%"
      }
     },
     "80b4beb7f0284f90bd46604d3f1b1ac5": {
      "model_module": "@jupyter-widgets/base",
      "model_module_version": "1.2.0",
      "model_name": "LayoutModel",
      "state": {
       "width": "100%"
      }
     },
     "80c90c280447423fb1ab365acadf9867": {
      "model_module": "@jupyter-widgets/controls",
      "model_module_version": "1.5.0",
      "model_name": "BoundedIntTextModel",
      "state": {
       "layout": "IPY_MODEL_dcbe9d405f3f48ee8b54a2cd7d1db88e",
       "max": 1000,
       "min": 1,
       "style": "IPY_MODEL_3f14f50148d14d98a2e6224a657484a4",
       "value": 20
      }
     },
     "80c94d72fd2d4ef994096561c8a4e412": {
      "model_module": "@jupyter-widgets/controls",
      "model_module_version": "1.5.0",
      "model_name": "BoxModel",
      "state": {
       "children": [
        "IPY_MODEL_a6dbedc040c749de9300aced6af6f391",
        "IPY_MODEL_92a83763ec014cd7bc8b2c11534373a2"
       ],
       "layout": "IPY_MODEL_7436c480e07f4a7aba22bfecec8c5651"
      }
     },
     "827c790defe148c59710474b6f95da3d": {
      "model_module": "@jupyter-widgets/controls",
      "model_module_version": "1.5.0",
      "model_name": "DescriptionStyleModel",
      "state": {
       "description_width": "initial"
      }
     },
     "8330e752e4824e9cb830416320696d64": {
      "model_module": "@jupyter-widgets/controls",
      "model_module_version": "1.5.0",
      "model_name": "DescriptionStyleModel",
      "state": {
       "description_width": "initial"
      }
     },
     "833e3cf377454d339aba3a9b6ab3d7e3": {
      "model_module": "@jupyter-widgets/base",
      "model_module_version": "1.2.0",
      "model_name": "LayoutModel",
      "state": {
       "width": "99%"
      }
     },
     "836716710c5d41a09cdee7f84184f670": {
      "model_module": "@jupyter-widgets/base",
      "model_module_version": "1.2.0",
      "model_name": "LayoutModel",
      "state": {
       "width": "155px"
      }
     },
     "839cf23d10b341e19c88711d39af2667": {
      "model_module": "@jupyter-widgets/controls",
      "model_module_version": "1.5.0",
      "model_name": "HBoxModel",
      "state": {
       "children": [
        "IPY_MODEL_73c7c3bb1fd64d4d9f35d80e11c32563",
        "IPY_MODEL_a7e9ba2fd083483dbd8106a05a5e1b9f",
        "IPY_MODEL_7a517e842b4a4a99bd830482f28b97a3",
        "IPY_MODEL_3f823e2b8c86435697fffa804cdb421f"
       ],
       "layout": "IPY_MODEL_57071549497d485590ee8b416761ca1d"
      }
     },
     "83e48dd67b5347e1b5c3c6144d8d144c": {
      "model_module": "@jupyter-widgets/base",
      "model_module_version": "1.2.0",
      "model_name": "LayoutModel",
      "state": {}
     },
     "8477d85606ea43b98cabfb462f8ce355": {
      "model_module": "@jupyter-widgets/controls",
      "model_module_version": "1.5.0",
      "model_name": "DescriptionStyleModel",
      "state": {
       "description_width": ""
      }
     },
     "84f4511bc2e94a9ba52922d900ec7281": {
      "model_module": "@jupyter-widgets/controls",
      "model_module_version": "1.5.0",
      "model_name": "HTMLModel",
      "state": {
       "layout": "IPY_MODEL_9701a8a0f3894cecbe611d1bba6dbc64",
       "style": "IPY_MODEL_3e72498eb6e34d2381e07903f0ed7ed3",
       "value": "<div style='margin-right: 2px'></div>"
      }
     },
     "8593b926629d480f96f47374e9490cd1": {
      "model_module": "@jupyter-widgets/base",
      "model_module_version": "1.2.0",
      "model_name": "LayoutModel",
      "state": {}
     },
     "85e6412c020c4bb5b6221d3d8006cad3": {
      "model_module": "@jupyter-widgets/base",
      "model_module_version": "1.2.0",
      "model_name": "LayoutModel",
      "state": {}
     },
     "8604bb71e2f349449813cdff1558df4b": {
      "model_module": "@jupyter-widgets/controls",
      "model_module_version": "1.5.0",
      "model_name": "TextModel",
      "state": {
       "layout": "IPY_MODEL_87dbb64738064bc9883f5fcfff03a8be",
       "placeholder": "Input name",
       "style": "IPY_MODEL_aa836fc3efbf414bae98cf4a51926393",
       "value": "Tree"
      }
     },
     "860a60d233774640b2ec10edb84c45fb": {
      "model_module": "@jupyter-widgets/base",
      "model_module_version": "1.2.0",
      "model_name": "LayoutModel",
      "state": {
       "width": "65%"
      }
     },
     "862875ec6bee4c61bc18f7cef47162c9": {
      "model_module": "@jupyter-widgets/base",
      "model_module_version": "1.2.0",
      "model_name": "LayoutModel",
      "state": {}
     },
     "865f7618e8674851971f546a12cf9ddf": {
      "model_module": "@jupyter-widgets/controls",
      "model_module_version": "1.5.0",
      "model_name": "HTMLModel",
      "state": {
       "layout": "IPY_MODEL_7f35d0dc9a3e43bdaeb2556e37b45a7f",
       "style": "IPY_MODEL_da7862842032472283c86be20aca8d7e",
       "value": "Model name:"
      }
     },
     "86686f6e086842838320b2ca59597eb1": {
      "model_module": "@jupyter-widgets/controls",
      "model_module_version": "1.5.0",
      "model_name": "DescriptionStyleModel",
      "state": {
       "description_width": "initial"
      }
     },
     "868fdd5d933640cc8873124da6709b12": {
      "model_module": "@jupyter-widgets/controls",
      "model_module_version": "1.5.0",
      "model_name": "DescriptionStyleModel",
      "state": {
       "description_width": "initial"
      }
     },
     "86ad42ee48ae44d0a1de6a390be84a62": {
      "model_module": "@jupyter-widgets/base",
      "model_module_version": "1.2.0",
      "model_name": "LayoutModel",
      "state": {
       "width": "70px"
      }
     },
     "874d4c5a13bc4c3d81299cc12441973e": {
      "model_module": "@jupyter-widgets/controls",
      "model_module_version": "1.5.0",
      "model_name": "DescriptionStyleModel",
      "state": {
       "description_width": ""
      }
     },
     "875f7076422e4bac98e00d2cedc4f3b2": {
      "model_module": "@jupyter-widgets/controls",
      "model_module_version": "1.5.0",
      "model_name": "HBoxModel",
      "state": {
       "children": [
        "IPY_MODEL_f9f45f483df14e2298141b38870e18f9",
        "IPY_MODEL_a7994a32bff8472eb6f7cc41b1c98453"
       ],
       "layout": "IPY_MODEL_2ba657c0e3ae49f5b8fb72a5302399d6"
      }
     },
     "87823a1fd74f464792b08d10de1acac0": {
      "model_module": "@jupyter-widgets/base",
      "model_module_version": "1.2.0",
      "model_name": "LayoutModel",
      "state": {
       "width": "155px"
      }
     },
     "87dbb64738064bc9883f5fcfff03a8be": {
      "model_module": "@jupyter-widgets/base",
      "model_module_version": "1.2.0",
      "model_name": "LayoutModel",
      "state": {
       "width": "65%"
      }
     },
     "87e3194f605946aaa0df785ce470c447": {
      "model_module": "@jupyter-widgets/base",
      "model_module_version": "1.2.0",
      "model_name": "LayoutModel",
      "state": {}
     },
     "87fd8648138741f49257d14e87228b78": {
      "model_module": "@jupyter-widgets/base",
      "model_module_version": "1.2.0",
      "model_name": "LayoutModel",
      "state": {}
     },
     "88706fd1ed394714a33a9591bbe799c2": {
      "model_module": "@jupyter-widgets/controls",
      "model_module_version": "1.5.0",
      "model_name": "DescriptionStyleModel",
      "state": {
       "description_width": ""
      }
     },
     "88d040c468854fc4830a5a37ec1f8bc2": {
      "model_module": "@jupyter-widgets/controls",
      "model_module_version": "1.5.0",
      "model_name": "HTMLModel",
      "state": {
       "layout": "IPY_MODEL_29f9b91e38614092aebe210ab6d3b31c",
       "style": "IPY_MODEL_25aa031670c744069c11acccdbaf880a",
       "value": "\n        <style>\n\n        .left-label {\n            width: 30%;\n        }\n\n        .card-panel {\n            -webkit-transition: -webkit-box-shadow .25s;\n            transition: -webkit-box-shadow .25s;\n            transition: box-shadow .25s;\n            transition: box-shadow .25s, -webkit-box-shadow .25s;\n            padding: 24px;\n            margin: 0.5rem 0 1rem 0;\n            border-radius: 2px;\n            background-color: #fff;\n        }\n\n        .card {\n            position: relative;\n            margin: 0.5rem 0.1rem 1rem 0.2rem;\n            background-color: #fff;\n            -webkit-transition: -webkit-box-shadow .25s;\n            transition: -webkit-box-shadow .25s;\n            transition: box-shadow .25s;\n            transition: box-shadow .25s, -webkit-box-shadow .25s;\n            border-radius: 2px;\n            box-shadow: 0 2px 2px 0 rgb(0 0 0 / 14%), 0 3px 1px -2px rgb(0 0 0 / 12%), 0 1px 5px 0 rgb(0 0 0 / 20%);\n            padding: 24px;\n            color: white;\n        }\n\n        .card .card-title {\n            font-size: 24px;\n            font-weight: 300;\n        }\n\n        @media only screen and (min-width: 800px) {\n            /* For notebook: */\n            .card {width: 99% !important;}\n        }\n\n        @media only screen and (min-width: 1400px) {\n            /* For colab: */\n            .card {width: 99% !important;}\n        }\n\n        .blue-grey.darken-1 {\n            background-color: #546e7a !important;\n        }\n\n        .small-card {\n            position: relative;\n            margin: 0.5rem 0 1rem 0;\n            background-color: #fff;\n            -webkit-transition: -webkit-box-shadow .25s;\n            transition: -webkit-box-shadow .25s;\n            transition: box-shadow .25s;\n            transition: box-shadow .25s, -webkit-box-shadow .25s;\n            border-radius: 2px;\n            box-shadow: 0 2px 2px 0 rgb(0 0 0 / 14%), 0 3px 1px -2px rgb(0 0 0 / 12%), 0 1px 5px 0 rgb(0 0 0 / 20%);\n            padding: 0px 5px 0px 5px;\n            color: white;\n        }\n\n        .inner-card {\n            position: relative;\n            background-color: #fff;\n            -webkit-transition: -webkit-box-shadow .25s;\n            transition: -webkit-box-shadow .25s;\n            transition: box-shadow .25s;\n            transition: box-shadow .25s, -webkit-box-shadow .25s;\n            border-radius: 2px;\n            box-shadow: 0 2px 2px 0 rgb(0 0 0 / 14%), 0 3px 1px -2px rgb(0 0 0 / 12%), 0 1px 5px 0 rgb(0 0 0 / 20%);\n            padding: 20px;\n            color: white;\n            margin: 0px 1px 1px 1px;\n        }\n\n        .card-with-tab {\n            position: relative;\n            margin: 0.5rem 0.1rem 1rem 0.2rem;\n            background-color: #fff;\n            -webkit-transition: -webkit-box-shadow .25s;\n            transition: -webkit-box-shadow .25s;\n            transition: box-shadow .25s;\n            transition: box-shadow .25s, -webkit-box-shadow .25s;\n            border-radius: 2px;\n            box-shadow: 0 2px 2px 0 rgb(0 0 0 / 14%), 0 3px 1px -2px rgb(0 0 0 / 12%), 0 1px 5px 0 rgb(0 0 0 / 20%);\n            padding: 24px;\n            color: white;\n        }\n\n        .card-with-tab button {\n            width: auto;\n            padding: 12px 40px;\n        }\n\n        .list {\n            padding: 0px 10px;\n            box-shadow: 0 2px 2px 0 rgb(0 0 0 / 14%), 0 3px 1px -2px rgb(0 0 0 / 12%), 0 1px 5px 0 rgb(0 0 0 / 20%);\n            margin: 0px 1px 60px 1px;\n        }\n\n        .list-item {\n            padding: 10px 0px;\n            border-width: 0;\n            border-style: solid;\n            border-color: rgba(0, 0, 0, 0.08);\n            border-bottom-width: thin;\n        }\n\n        .divider {\n            margin: 10px 0px;\n            border-width: 0;\n            border-style: solid;\n            border-color: rgba(0, 0, 0, 0.08);\n            border-bottom-width: thin;\n        }\n\n        .hr {\n            margin: 0;\n            -webkit-flex-shrink: 0;\n            -ms-flex-negative: 0;\n            flex-shrink: 0;\n            border-width: 0;\n            border-style: solid;\n            border-color: rgba(0, 0, 0, 0.08);\n            border-bottom-width: thin;\n        }\n\n        .notification {\n            transition: box-shadow 300ms cubic-bezier(0.4, 0, 0.2, 1) 0ms;\n            border-radius: 4px;\n            box-shadow: 0 2px 2px 0 rgb(0 0 0 / 14%), 0 3px 1px -2px rgb(0 0 0 / 12%), 0 1px 5px 0 rgb(0 0 0 / 20%);\n            font-family: Roboto, Helvetica, Arial, sans-serif;\n            font-weight: 500;\n            font-size: 12px;\n            line-height: 1.43;\n            letter-spacing: 0.01071em;\n            background-color: rgb(2, 136, 209);\n            display: flex;\n            padding: 6px 16px;\n            color: rgb(255, 255, 255);\n            margin-top: 10px;\n        }\n\n        .success {\n            background-color: #EDF7ED;\n            color: #1E4620;\n        }\n\n        .error {\n            background-color: #FDEDED;\n            color: #5F2120;\n        }\n\n        .info {\n            background-color: #E5F6FD;\n            color: #528298;\n        }\n\n        .warn {\n            background-color: #FFF4E5;\n            color: #663C00;\n        }\n\n        .margin-top-20 {\n            margin-top: 20px;\n        }\n\n        .hide {\n            display: none;\n        }\n\n        .pbtn {\n            display: inline-flex;\n            -webkit-box-align: center;\n            align-items: center;\n            -webkit-box-pack: center;\n            justify-content: center;\n            position: relative;\n            box-sizing: border-box;\n            -webkit-tap-highlight-color: transparent;\n            outline: 0px;\n            border: 0px;\n            margin: 0px;\n            cursor: pointer;\n            user-select: none;\n            vertical-align: middle;\n            appearance: none;\n            text-decoration: none;\n            font-family: Roboto, Helvetica, Arial, sans-serif;\n            font-weight: 550;\n            font-size: 12px;\n            line-height: 1.75;\n            letter-spacing: 0.02857em;\n            text-transform: uppercase;\n            min-width: 64px;\n            padding: 6px 16px;\n            border-radius: 4px;\n            transition: background-color 250ms cubic-bezier(0.4, 0, 0.2, 1) 0ms, box-shadow 250ms cubic-bezier(0.4, 0, 0.2, 1) 0ms, border-color 250ms cubic-bezier(0.4, 0, 0.2, 1) 0ms, color 250ms cubic-bezier(0.4, 0, 0.2, 1) 0ms;\n            color: rgb(255, 255, 255);\n            background-color: #D71E28;\n            box-shadow: rgb(0 0 0 / 20%) 0px 3px 1px -2px, rgb(0 0 0 / 14%) 0px 2px 2px 0px, rgb(0 0 0 / 12%) 0px 1px 5px 0px;\n        }\n\n        .output_subarea {\n            padding: 0px !important;\n        }\n\n        .ptable, .pth, .ptd {\n            border: none;\n        }\n\n        .pth, .ptd {\n            max-width: 150px;\n            white-space: nowrap;\n            overflow: hidden;\n            -o-text-overflow: ellipsis;\n            -ms-text-overflow: ellipsis;\n            text-overflow: ellipsis;\n        }\n\n        .ptable {\n            display: table;\n            border-collapse: collapse;\n            border-spacing: 0;\n        }\n\n        .ptable.striped .ptr {\n            border-bottom: none;\n        }\n\n        .ptable.striped > .ptbody > .ptr:nth-child(odd) {\n            background-color: rgba(242, 242, 242, 0.5);\n        }\n\n        .ptable.striped > .ptbody > .ptr > .ptd {\n            border-radius: 0;\n        }\n\n        .ptable.highlight > .ptbody > .ptr {\n            -webkit-transition: background-color .25s ease;\n            transition: background-color .25s ease;\n        }\n\n        .ptable.highlight > .ptbody > .ptr:hover {\n            background-color: rgba(242, 242, 242, 0.5);\n        }\n\n        .ptable.centered .pthead .ptr .pth, .ptable.centered .ptbody .ptr .ptd {\n            text-align: center;\n        }\n\n        .ptr {\n            border-bottom: 1px solid rgba(0, 0, 0, 0.12);\n        }\n\n        .ptr.hightlight {\n            background-color: yellow !important;\n        }\n\n        .ptd, .pth {\n            padding: 0.2rem 0.6rem;\n            display: table-cell;\n            text-align: right;\n            vertical-align: middle;\n            border-radius: 2px;\n            position: relative;\n        }\n\n        .ptr.grey {\n            background-color: grey !important;\n        }\n\n        .ptr.strikeout .ptd:before {\n            content: \" \";\n            position: absolute;\n            top: 50%;\n            left: 0;\n            border-bottom: 1px solid #111;\n            width: 100%;\n        }\n\n        .widget-toggle-button {\n            display: inline-flex;\n            -webkit-box-align: center;\n            align-items: center;\n            -webkit-box-pack: center;\n            justify-content: center;\n            box-sizing: border-box;\n            -webkit-tap-highlight-color: transparent;\n            background-color: transparent !important;\n            outline: 0px;\n            border: 0px;\n            border-bottom: 2px solid #E4E4E4 !important;\n            box-shadow: none !important;\n            margin: 0px !important;\n            border-radius: 0px;\n            cursor: pointer;\n            user-select: none;\n            vertical-align: middle;\n            appearance: none;\n            text-decoration: none;\n            font-family: Roboto, Helvetica, Arial, sans-serif;\n            font-weight: 500;\n            font-size: 14px;\n            line-height: 1.25;\n            letter-spacing: 0.02857em;\n            max-width: 360px;\n            min-width: 90px;\n            position: relative;\n            min-height: 48px;\n            flex-shrink: 0;\n            padding: 12px 16px;\n            overflow: hidden;\n            white-space: normal;\n            text-align: center;\n            flex-direction: column;\n            color: rgba(0, 0, 0, 0.6);\n        }\n\n        .mod-active {\n            color: rgb(25, 118, 210) !important;\n            border-bottom: 2px solid rgb(25, 118, 210) !important;\n        }\n\n        .narrow-tab button {\n            max-width: 15%;\n        }\n\n        .overflow-fix .jupyter-widgets {\n            overflow: auto;\n        }\n\n        .inner-padding {\n            padding-top: 20px;\n        }\n\n        .fix-img img {\n            width: 100%;\n        }\n\n        .flex-reverse-for-update-button {\n            flex-direction: row-reverse;\n            margin-right: 50px;\n        }\n\n        .data-summary-tab {\n            max-height: 400px;\n        }\n\n        .input-width-with-parent .widget-dropdown {\n            width: 100%;\n        }\n\n        .input-width-with-parent .widget-text {\n            width: 100%;\n        }\n\n        .no-margin {\n            margin: 0px;\n        }\n\n        .widget-hprogress label {\n            text-align: left;\n        }\n\n        .widget-dropdown label {\n            margin-right: 10px;\n        }\n\n        .form .widget-dropdown {\n            width: auto;\n        }\n\n        .form .widget-text {\n            width: auto;\n        }\n\n        .form p {\n            margin: 0px;\n        }\n\n        .widget-dropdown {\n            white-space: nowrap;\n            overflow: hidden;\n            -o-text-overflow: ellipsis;\n            -ms-text-overflow: ellipsis;\n            text-overflow: ellipsis;\n        }\n\n        .progress-train label {\n            margin-right: 10px;\n        }\n\n        select {\n            height: 97% !important;\n        }\n\n        .no-overflow {\n            overflow: none;\n        }\n\n        .split-btn button {\n            margin-bottom: 2px;\n        }\n\n        .register-btn {\n            width: 50%\n        }\n\n        .register-btn-colab {\n            width: 40%\n        }\n\n        .fix-config-from-overflow .jp-OutputArea-child {\n            display: inherit;\n        }\n        \n        .checkbox-center input[type=\"checkbox\"] {\n            vertical-align: middle;\n        }\n\n        input[type=\"checkbox\"] {\n            vertical-align: middle;\n        }\n\n        </style>\n        "
      }
     },
     "88d048f321cc4df2ae8e98eb2fd402e6": {
      "model_module": "@jupyter-widgets/controls",
      "model_module_version": "1.5.0",
      "model_name": "DescriptionStyleModel",
      "state": {
       "description_width": "initial"
      }
     },
     "88da9b7fb13d40c1bfcc02dc618829f6": {
      "model_module": "@jupyter-widgets/base",
      "model_module_version": "1.2.0",
      "model_name": "LayoutModel",
      "state": {}
     },
     "88f868d3c31347e68c2ab6eff7391da3": {
      "model_module": "@jupyter-widgets/controls",
      "model_module_version": "1.5.0",
      "model_name": "DescriptionStyleModel",
      "state": {
       "description_width": ""
      }
     },
     "892e202d05de42269050e57cf7188835": {
      "model_module": "@jupyter-widgets/controls",
      "model_module_version": "1.5.0",
      "model_name": "HTMLModel",
      "state": {
       "layout": "IPY_MODEL_bc6ff50f34c9424cb9585fe562a5c54b",
       "style": "IPY_MODEL_ebb24ecceac14911b7fddeb38febfa39",
       "value": "<h4 style='margin: 10px 0px;'>Customize Model</h4>"
      }
     },
     "8930b3d2a99e4a3dbc52ddfb5fb71fab": {
      "model_module": "@jupyter-widgets/controls",
      "model_module_version": "1.5.0",
      "model_name": "HTMLModel",
      "state": {
       "layout": "IPY_MODEL_8db3232d443742e388b666e3f65afe04",
       "style": "IPY_MODEL_032769b238ac4445a5b929f3c9582b73",
       "value": "Max_epochs:"
      }
     },
     "893d8548d81b430fabd3410d31da5ca0": {
      "model_module": "@jupyter-widgets/controls",
      "model_module_version": "1.5.0",
      "model_name": "HBoxModel",
      "state": {
       "children": [
        "IPY_MODEL_7997b65de92e4940b5218bb90e1ea978",
        "IPY_MODEL_67074d6185a3454c8ca37e0dc56eca37"
       ],
       "layout": "IPY_MODEL_6cac5e8bf84a42899f751c243508491d"
      }
     },
     "89b31836aeec493ba48ae7a7d86b8fe0": {
      "model_module": "@jupyter-widgets/controls",
      "model_module_version": "1.5.0",
      "model_name": "HBoxModel",
      "state": {
       "children": [
        "IPY_MODEL_d5a8d0660d5042cf8cde7aab3c0a5921",
        "IPY_MODEL_a876859c078048c78ddcf8faf0fac93e"
       ],
       "layout": "IPY_MODEL_b8387f912e2248ac89c910865c61c72a"
      }
     },
     "89b5ffce81b14a2997e9fba6c6836c9e": {
      "model_module": "@jupyter-widgets/controls",
      "model_module_version": "1.5.0",
      "model_name": "DescriptionStyleModel",
      "state": {
       "description_width": ""
      }
     },
     "8a01bdfc9663459181b1d2e534fc2267": {
      "model_module": "@jupyter-widgets/controls",
      "model_module_version": "1.5.0",
      "model_name": "HTMLModel",
      "state": {
       "layout": "IPY_MODEL_f243c632db7f4bbda68d0cba4fbd9c5e",
       "style": "IPY_MODEL_07993967dbfa4272ac3314963e8c162d",
       "value": "<div style='margin-right: 10px'></div>"
      }
     },
     "8b0428d75b1a4d789ea766a63a996c9e": {
      "model_module": "@jupyter-widgets/controls",
      "model_module_version": "1.5.0",
      "model_name": "TextModel",
      "state": {
       "layout": "IPY_MODEL_bec63408681e46a88bf4c1356121c84f",
       "placeholder": "[40,40]...",
       "style": "IPY_MODEL_e2ded34557e44f369f90cb8aae5fe680",
       "value": "[20,]"
      }
     },
     "8c234699d4424639a65b859a97c44c5e": {
      "model_module": "@jupyter-widgets/base",
      "model_module_version": "1.2.0",
      "model_name": "LayoutModel",
      "state": {
       "width": "99%"
      }
     },
     "8cd322976d854676b5d31dc1eecc6d2e": {
      "model_module": "@jupyter-widgets/controls",
      "model_module_version": "1.5.0",
      "model_name": "DescriptionStyleModel",
      "state": {
       "description_width": "initial"
      }
     },
     "8cf1fdc81b3b4d338d275dad6f2ae1d1": {
      "model_module": "@jupyter-widgets/controls",
      "model_module_version": "1.5.0",
      "model_name": "VBoxModel",
      "state": {
       "children": [
        "IPY_MODEL_68880b5f4c2247f0aa63ae434effe39f",
        "IPY_MODEL_a7e9ba2fd083483dbd8106a05a5e1b9f"
       ],
       "layout": "IPY_MODEL_b2fee0ef99e54cc1ac3a23ad86093c9e"
      }
     },
     "8d18b991a40c4c92b8382e91c79b570a": {
      "model_module": "@jupyter-widgets/controls",
      "model_module_version": "1.5.0",
      "model_name": "TextModel",
      "state": {
       "layout": "IPY_MODEL_a1488e91630845fbbc41435384e781c9",
       "placeholder": "Input name",
       "style": "IPY_MODEL_86686f6e086842838320b2ca59597eb1",
       "value": "XGB2"
      }
     },
     "8d26a97f56cb44e0a58fe0301e5c77d8": {
      "model_module": "@jupyter-widgets/base",
      "model_module_version": "1.2.0",
      "model_name": "LayoutModel",
      "state": {}
     },
     "8d49d5b3bf9546448785928cce059f1d": {
      "model_module": "@jupyter-widgets/controls",
      "model_module_version": "1.5.0",
      "model_name": "IntProgressModel",
      "state": {
       "_dom_classes": [
        "progress-train"
       ],
       "description": "Training GLM:",
       "layout": "IPY_MODEL_2e194f3aca3f40588a209e82cc1a6ac3",
       "max": 1,
       "style": "IPY_MODEL_5c4d1598b6bd4d7980a4356b6f605dff",
       "value": 1
      }
     },
     "8db3232d443742e388b666e3f65afe04": {
      "model_module": "@jupyter-widgets/base",
      "model_module_version": "1.2.0",
      "model_name": "LayoutModel",
      "state": {}
     },
     "8dfb8093374940e1b2cd4df14bd0be07": {
      "model_module": "@jupyter-widgets/controls",
      "model_module_version": "1.5.0",
      "model_name": "BoundedIntTextModel",
      "state": {
       "layout": "IPY_MODEL_c765248a05c44987864eb191b0066889",
       "max": 10000,
       "style": "IPY_MODEL_eaca6317915b414e8d361ef36898d582"
      }
     },
     "8e04756594ed47bfb90db42cca2eea55": {
      "model_module": "@jupyter-widgets/controls",
      "model_module_version": "1.5.0",
      "model_name": "DescriptionStyleModel",
      "state": {
       "description_width": ""
      }
     },
     "8e0ac72044884090a22a47d6eab4846e": {
      "model_module": "@jupyter-widgets/controls",
      "model_module_version": "1.5.0",
      "model_name": "HTMLModel",
      "state": {
       "layout": "IPY_MODEL_3263f2b500844c3dbd3f5286caebbc66",
       "style": "IPY_MODEL_de3aa84d7fac438aa587cd616c2bc710",
       "value": "reg_lambda:"
      }
     },
     "8e10909688634d4680c5d13d3ae9ee01": {
      "model_module": "@jupyter-widgets/controls",
      "model_module_version": "1.5.0",
      "model_name": "DescriptionStyleModel",
      "state": {
       "description_width": ""
      }
     },
     "8e1583564067438eaf248da4e7bd791b": {
      "model_module": "@jupyter-widgets/controls",
      "model_module_version": "1.5.0",
      "model_name": "BoxModel",
      "state": {
       "_dom_classes": [
        "inner-card"
       ],
       "children": [
        "IPY_MODEL_117989fda1b547b296fa428ec0d36651",
        "IPY_MODEL_1a3d4eeb86914a56860100d2eb22eb24",
        "IPY_MODEL_54e750522232477281785bfe864c3c4a"
       ],
       "layout": "IPY_MODEL_b5c3e35cb79f4d91a6b679a0e26b3bc6"
      }
     },
     "8e5093ace9d141cf88040f94d45b53ca": {
      "model_module": "@jupyter-widgets/base",
      "model_module_version": "1.2.0",
      "model_name": "LayoutModel",
      "state": {}
     },
     "8eab02c4d10542c3a49ed13215bffa10": {
      "model_module": "@jupyter-widgets/controls",
      "model_module_version": "1.5.0",
      "model_name": "DescriptionStyleModel",
      "state": {
       "description_width": "initial"
      }
     },
     "8efbda5bc7744bf0970e08d23520d516": {
      "model_module": "@jupyter-widgets/controls",
      "model_module_version": "1.5.0",
      "model_name": "TextModel",
      "state": {
       "layout": "IPY_MODEL_d5fc9e061c624fb5a9f2463973ccb121",
       "placeholder": "1,2... or \"f1\",\"f2\"...",
       "style": "IPY_MODEL_50615008206f498e8e48c847ee87f134"
      }
     },
     "8f1ec17187be440daa0858e557a32ab3": {
      "model_module": "@jupyter-widgets/base",
      "model_module_version": "1.2.0",
      "model_name": "LayoutModel",
      "state": {}
     },
     "8f3d5f952d76455ba76b6038512175bf": {
      "model_module": "@jupyter-widgets/base",
      "model_module_version": "1.2.0",
      "model_name": "LayoutModel",
      "state": {}
     },
     "8f75892323e64c438a885d2e35d8093e": {
      "model_module": "@jupyter-widgets/controls",
      "model_module_version": "1.5.0",
      "model_name": "DescriptionStyleModel",
      "state": {
       "description_width": ""
      }
     },
     "8f9f934537d14fe1987d909d96c097eb": {
      "model_module": "@jupyter-widgets/base",
      "model_module_version": "1.2.0",
      "model_name": "LayoutModel",
      "state": {}
     },
     "8fd21267519647738cbcf8344c6ff584": {
      "model_module": "@jupyter-widgets/base",
      "model_module_version": "1.2.0",
      "model_name": "LayoutModel",
      "state": {}
     },
     "9006ea7eeaf54ff3aabcfbe6b7cf59eb": {
      "model_module": "@jupyter-widgets/controls",
      "model_module_version": "1.5.0",
      "model_name": "DescriptionStyleModel",
      "state": {
       "description_width": "initial"
      }
     },
     "9043970a5c7b428c8b4ad48bf07f1e76": {
      "model_module": "@jupyter-widgets/controls",
      "model_module_version": "1.5.0",
      "model_name": "DescriptionStyleModel",
      "state": {
       "description_width": ""
      }
     },
     "90469f3c7e9f463aa608d14dbed3befe": {
      "model_module": "@jupyter-widgets/base",
      "model_module_version": "1.2.0",
      "model_name": "LayoutModel",
      "state": {}
     },
     "9087293fcf8545398a8619fd468d0feb": {
      "model_module": "@jupyter-widgets/controls",
      "model_module_version": "1.5.0",
      "model_name": "VBoxModel",
      "state": {
       "children": [
        "IPY_MODEL_120d30e9bbc642acb7c57c26e41d6b14"
       ],
       "layout": "IPY_MODEL_41b43c28da5d49ba83a6341b6cc425e8"
      }
     },
     "91258cbff24043bc8c81cba9ffdafe86": {
      "model_module": "@jupyter-widgets/output",
      "model_module_version": "1.0.0",
      "model_name": "OutputModel",
      "state": {
       "layout": "IPY_MODEL_47d5b27661764ab78c3550c391632274",
       "outputs": [
        {
         "data": {
          "application/vnd.jupyter.widget-view+json": {
           "model_id": "4f2b6b826d3e482a825f7f367cfea39c",
           "version_major": 2,
           "version_minor": 0
          },
          "text/plain": "HTML(value=\"\\n        <table class='ptable striped'>\\n            <thead class='pthead'>\\n                <tr …"
         },
         "metadata": {},
         "output_type": "display_data"
        }
       ]
      }
     },
     "9165038760704629b7446948b0228895": {
      "model_module": "@jupyter-widgets/base",
      "model_module_version": "1.2.0",
      "model_name": "LayoutModel",
      "state": {
       "align_items": "center",
       "display": "flex",
       "flex_flow": "row",
       "width": "100%"
      }
     },
     "917d09fabeda4de99f4c79fa0e8efa1c": {
      "model_module": "@jupyter-widgets/base",
      "model_module_version": "1.2.0",
      "model_name": "LayoutModel",
      "state": {
       "display": "flex",
       "flex_flow": "column",
       "width": "auto"
      }
     },
     "918cb92604684837a1945e126327179c": {
      "model_module": "@jupyter-widgets/base",
      "model_module_version": "1.2.0",
      "model_name": "LayoutModel",
      "state": {}
     },
     "919a1e5590f04ca992c0c2ccda6419d0": {
      "model_module": "@jupyter-widgets/controls",
      "model_module_version": "1.5.0",
      "model_name": "BoundedIntTextModel",
      "state": {
       "layout": "IPY_MODEL_1b540e8dd52847fda2cf8376badfe8e5",
       "style": "IPY_MODEL_600069c3ee6d4460a189ad5a43474e1a",
       "value": 3
      }
     },
     "91cc9d4ddbf14024858b8a4b2d06d725": {
      "model_module": "@jupyter-widgets/base",
      "model_module_version": "1.2.0",
      "model_name": "LayoutModel",
      "state": {}
     },
     "91f6e80f7d2f40d1bb8674f2eeaf651c": {
      "model_module": "@jupyter-widgets/base",
      "model_module_version": "1.2.0",
      "model_name": "LayoutModel",
      "state": {}
     },
     "9203bc5b43294513a8f1aa37ea2b2221": {
      "model_module": "@jupyter-widgets/base",
      "model_module_version": "1.2.0",
      "model_name": "LayoutModel",
      "state": {}
     },
     "9206201a1b8a4d39abe974b034cb95cc": {
      "model_module": "@jupyter-widgets/base",
      "model_module_version": "1.2.0",
      "model_name": "LayoutModel",
      "state": {
       "width": "auto"
      }
     },
     "9217a1e0a90d4bac9ac97bea80eacdea": {
      "model_module": "@jupyter-widgets/base",
      "model_module_version": "1.2.0",
      "model_name": "LayoutModel",
      "state": {}
     },
     "9255342e11a843baaed58bdb7ad69613": {
      "model_module": "@jupyter-widgets/controls",
      "model_module_version": "1.5.0",
      "model_name": "BoxModel",
      "state": {
       "children": [
        "IPY_MODEL_47a9bd9746cb4701a18696b94e7582db"
       ],
       "layout": "IPY_MODEL_adcdf0ced02d47b09f35ba26e3a79151"
      }
     },
     "9258c25d065a45329674224cd9f93610": {
      "model_module": "@jupyter-widgets/controls",
      "model_module_version": "1.5.0",
      "model_name": "DescriptionStyleModel",
      "state": {
       "description_width": ""
      }
     },
     "92a1d0504df94cf19c61f2b68524ebba": {
      "model_module": "@jupyter-widgets/controls",
      "model_module_version": "1.5.0",
      "model_name": "BoxModel",
      "state": {
       "children": [
        "IPY_MODEL_14f2ac122f5b446a82762df7c1768a1e",
        "IPY_MODEL_cf29ebe69e764e889786f0a8cde09f03"
       ],
       "layout": "IPY_MODEL_ea9a803929cf483c96ffafaba142e91b"
      }
     },
     "92a83763ec014cd7bc8b2c11534373a2": {
      "model_module": "@jupyter-widgets/controls",
      "model_module_version": "1.5.0",
      "model_name": "BoxModel",
      "state": {
       "_dom_classes": [
        "inner-card"
       ],
       "children": [
        "IPY_MODEL_37a645a2394a4501999e52add12e80c9",
        "IPY_MODEL_45d4987c50d04decaceec0bd5d081d3e",
        "IPY_MODEL_51890875112d4f1ab87d3a84316658c4"
       ],
       "layout": "IPY_MODEL_61a300ccf3df42468dbdafea3eac5a5e"
      }
     },
     "9363eb0a8ad44fddb501bbf8d143ca7d": {
      "model_module": "@jupyter-widgets/controls",
      "model_module_version": "1.5.0",
      "model_name": "HTMLModel",
      "state": {
       "layout": "IPY_MODEL_c5948e9ada804303b7b33cc364166595",
       "style": "IPY_MODEL_ce35f024770b4994a8f0c1b7246f108b",
       "value": "\n        <table class='ptable striped'>\n            <thead class='pthead'>\n                <tr class='ptr'>\n                    <th class='pth'></th><th class='pth'>name</th><th class='pth'>n_missing</th><th class='pth'>mean</th><th class='pth'>std</th><th class='pth'>min</th><th class='pth'>q1</th><th class='pth'>median</th><th class='pth'>q3</th><th class='pth'>max</th>\n                </tr>\n            </thead>\n\n            <tbody class='ptbody'>\n                <tr class='ptr'><td class='ptd'>0</td><td class='ptd'>Balance</td><td class='ptd'>0.0</td><td class='ptd'>5273.876</td><td class='ptd'>1250.0104</td><td class='ptd'>0.0</td><td class='ptd'>4427.0</td><td class='ptd'>5265.0</td><td class='ptd'>6128.0</td><td class='ptd'>10000.0</td></tr><tr class='ptr'><td class='ptd'>1</td><td class='ptd'>Amount Past Due</td><td class='ptd'>0.0</td><td class='ptd'>1021.5116</td><td class='ptd'>1433.4334</td><td class='ptd'>0.0</td><td class='ptd'>0.0</td><td class='ptd'>16.0</td><td class='ptd'>1785.5</td><td class='ptd'>7722.0</td></tr><tr class='ptr'><td class='ptd'>2</td><td class='ptd'>Credit Inquiry</td><td class='ptd'>0.0</td><td class='ptd'>1.2195</td><td class='ptd'>1.42</td><td class='ptd'>0.0</td><td class='ptd'>0.0</td><td class='ptd'>1.0</td><td class='ptd'>2.0</td><td class='ptd'>27.0</td></tr>\n            </tbody>\n        </table>\n        "
      }
     },
     "93742e786138429c82536544842cdfe4": {
      "model_module": "@jupyter-widgets/controls",
      "model_module_version": "1.5.0",
      "model_name": "DescriptionStyleModel",
      "state": {
       "description_width": ""
      }
     },
     "9387580c65954099ada321030328571c": {
      "model_module": "@jupyter-widgets/controls",
      "model_module_version": "1.5.0",
      "model_name": "DescriptionStyleModel",
      "state": {
       "description_width": "initial"
      }
     },
     "9388fde85dc247ef9bfb54c92e3c09ad": {
      "model_module": "@jupyter-widgets/controls",
      "model_module_version": "1.5.0",
      "model_name": "HTMLModel",
      "state": {
       "layout": "IPY_MODEL_79761e1481944e2b99bbcef4396282c6",
       "style": "IPY_MODEL_b214761656964c33bc7adc2a6018f1cf",
       "value": "<div class='divider'></div>"
      }
     },
     "93b45a67e78f437e82229ee034100166": {
      "model_module": "@jupyter-widgets/output",
      "model_module_version": "1.0.0",
      "model_name": "OutputModel",
      "state": {
       "layout": "IPY_MODEL_918cb92604684837a1945e126327179c"
      }
     },
     "943e2e7e2edc46568365d65759d4a495": {
      "model_module": "@jupyter-widgets/controls",
      "model_module_version": "1.5.0",
      "model_name": "TextModel",
      "state": {
       "layout": "IPY_MODEL_3780618626534b6c94de2f63d36fbc3a",
       "placeholder": "Input name",
       "style": "IPY_MODEL_e9a1df7bbab8401c8b9e1cdb1de922ce",
       "value": "GAMI-Net"
      }
     },
     "96d362d1d9664e2ba5b358cfb0dacc4b": {
      "model_module": "@jupyter-widgets/base",
      "model_module_version": "1.2.0",
      "model_name": "LayoutModel",
      "state": {
       "display": "flex",
       "flex_flow": "column",
       "width": "100%"
      }
     },
     "9701a8a0f3894cecbe611d1bba6dbc64": {
      "model_module": "@jupyter-widgets/base",
      "model_module_version": "1.2.0",
      "model_name": "LayoutModel",
      "state": {}
     },
     "9744e93596d84be4b7968c6380264aaa": {
      "model_module": "@jupyter-widgets/controls",
      "model_module_version": "1.5.0",
      "model_name": "BoundedIntTextModel",
      "state": {
       "layout": "IPY_MODEL_d2b13daf50bf48b2a5494c3731a1f4c0",
       "style": "IPY_MODEL_f0bbe43096b0413794723a3c91d82f5e",
       "value": 10
      }
     },
     "976c997abc7c45b7b236069e642399bc": {
      "model_module": "@jupyter-widgets/controls",
      "model_module_version": "1.5.0",
      "model_name": "DescriptionStyleModel",
      "state": {
       "description_width": ""
      }
     },
     "97d666a5a7ba42708c143bf5baee047a": {
      "model_module": "@jupyter-widgets/controls",
      "model_module_version": "1.5.0",
      "model_name": "DescriptionStyleModel",
      "state": {
       "description_width": ""
      }
     },
     "9807c3aa4d78470ea6098b2885d1ef2e": {
      "model_module": "@jupyter-widgets/controls",
      "model_module_version": "1.5.0",
      "model_name": "HTMLModel",
      "state": {
       "layout": "IPY_MODEL_3011dd9edc074c1e870dde957a76cc3e",
       "style": "IPY_MODEL_1e8ea3f6105b43fb81b22ea4345c4781",
       "value": "\n        <table class='ptable striped'>\n            <thead class='pthead'>\n                <tr class='ptr'>\n                    <th class='pth'></th><th class='pth'>name</th><th class='pth'>n_missing</th><th class='pth'>n_unique</th><th class='pth'>top1</th><th class='pth'>top2</th><th class='pth'>top3</th><th class='pth'>n_others</th>\n                </tr>\n            </thead>\n\n            <tbody class='ptbody'>\n                <tr class='ptr'><td class='ptd'>0</td><td class='ptd'>Mortgage</td><td class='ptd'>0</td><td class='ptd'>2</td><td class='ptd'>1.0 : 5014</td><td class='ptd'>0.0 : 4986</td><td class='ptd'>0</td><td class='ptd'>0</td></tr><tr class='ptr'><td class='ptd'>1</td><td class='ptd'>Gender</td><td class='ptd'>0</td><td class='ptd'>2</td><td class='ptd'>0.0 : 5043</td><td class='ptd'>1.0 : 4957</td><td class='ptd'>0</td><td class='ptd'>0</td></tr><tr class='ptr'><td class='ptd'>2</td><td class='ptd'>Race</td><td class='ptd'>0</td><td class='ptd'>2</td><td class='ptd'>1.0 : 5031</td><td class='ptd'>0.0 : 4969</td><td class='ptd'>0</td><td class='ptd'>0</td></tr><tr class='ptr'><td class='ptd'>3</td><td class='ptd'>Approved</td><td class='ptd'>0</td><td class='ptd'>2</td><td class='ptd'>1.0 : 5166</td><td class='ptd'>0.0 : 4834</td><td class='ptd'>0</td><td class='ptd'>0</td></tr>\n            </tbody>\n        </table>\n        "
      }
     },
     "9842add6a9dd477e87741242b4c145d0": {
      "model_module": "@jupyter-widgets/controls",
      "model_module_version": "1.5.0",
      "model_name": "DropdownModel",
      "state": {
       "_options_labels": [
        "Select Model",
        "GLM"
       ],
       "index": 1,
       "layout": "IPY_MODEL_04f2024108e343af9ffc17e83561c05f",
       "style": "IPY_MODEL_bc6b26e088d046b4892339ae0173ab11"
      }
     },
     "98a32033ae504715b2f5d695618bd21a": {
      "model_module": "@jupyter-widgets/controls",
      "model_module_version": "1.5.0",
      "model_name": "BoundedIntTextModel",
      "state": {
       "layout": "IPY_MODEL_5f986950914741f78c9198e1cecc444e",
       "max": 10000,
       "min": 1,
       "style": "IPY_MODEL_1271efcf3cb14163912482b1b74a6c26",
       "value": 100
      }
     },
     "98e91b60fae344899913e49dd0e07020": {
      "model_module": "@jupyter-widgets/controls",
      "model_module_version": "1.5.0",
      "model_name": "DescriptionStyleModel",
      "state": {
       "description_width": "initial"
      }
     },
     "9903dc4bfeeb4299826a2da87c3178c6": {
      "model_module": "@jupyter-widgets/controls",
      "model_module_version": "1.5.0",
      "model_name": "BoundedIntTextModel",
      "state": {
       "layout": "IPY_MODEL_3404962a90844161b7eb4da323937870",
       "max": 100000,
       "min": 1,
       "style": "IPY_MODEL_deb793711f594021af97e36bc596260f",
       "value": 500
      }
     },
     "990450074d024eef89afcf7adce5b0ac": {
      "model_module": "@jupyter-widgets/controls",
      "model_module_version": "1.5.0",
      "model_name": "BoundedFloatTextModel",
      "state": {
       "layout": "IPY_MODEL_599fda1c7e7b416e9a91c7a8474538a7",
       "step": null,
       "style": "IPY_MODEL_c91a787e81e74fbebf428d7c5f8fda91"
      }
     },
     "990a47a08ba64cd790b24f84ea1db421": {
      "model_module": "@jupyter-widgets/base",
      "model_module_version": "1.2.0",
      "model_name": "LayoutModel",
      "state": {
       "width": "120px"
      }
     },
     "990bea068b0f4b1eaf17d3141a31f16d": {
      "model_module": "@jupyter-widgets/base",
      "model_module_version": "1.2.0",
      "model_name": "LayoutModel",
      "state": {}
     },
     "992e12c4db1241fab2a1f9657c23436d": {
      "model_module": "@jupyter-widgets/controls",
      "model_module_version": "1.5.0",
      "model_name": "HTMLModel",
      "state": {
       "layout": "IPY_MODEL_3f2429fb690b49e6a410a21a017e452f",
       "style": "IPY_MODEL_326a72956520489aa18e8dfffdfa1fe5",
       "value": "\n        <table class='ptable striped'>\n            <thead class='pthead'>\n            </thead>\n\n            <tbody class='ptbody'>\n                <tr class='ptr'><td class='ptd'>Excluded columns</td><td class='ptd'>['Mortgage', 'Gender', 'Race']</td></tr><tr class='ptr'><td class='ptd'>Target variable</td><td class='ptd'>Approved</td></tr><tr class='ptr'><td class='ptd'>Sample weight</td><td class='ptd'>None</td></tr><tr class='ptr'><td class='ptd'>Task type</td><td class='ptd'>Classification</td></tr><tr class='ptr'><td class='ptd'>Split method</td><td class='ptd'>Random</td></tr><tr class='ptr'><td class='ptd'>Test ratio</td><td class='ptd'>0.33</td></tr><tr class='ptr'><td class='ptd'>Random state</td><td class='ptd'>7</td></tr>\n            </tbody>\n        </table>\n        "
      }
     },
     "9932f42802f4441ab920eb376cf9bae1": {
      "model_module": "@jupyter-widgets/base",
      "model_module_version": "1.2.0",
      "model_name": "LayoutModel",
      "state": {
       "width": "auto"
      }
     },
     "99f67701492747dfbb877b6f2cd178a9": {
      "model_module": "@jupyter-widgets/controls",
      "model_module_version": "1.5.0",
      "model_name": "BoundedFloatTextModel",
      "state": {
       "layout": "IPY_MODEL_ee98d156ebc44b628f4ad9d1bda7952f",
       "max": 10,
       "step": null,
       "style": "IPY_MODEL_e754d21d34334bd0b4b8c745465e8ed4"
      }
     },
     "9a49db67438c4264bdc73c2f27fa8599": {
      "model_module": "@jupyter-widgets/controls",
      "model_module_version": "1.5.0",
      "model_name": "HTMLModel",
      "state": {
       "layout": "IPY_MODEL_cd01fa43722442dcbb7806be41651e38",
       "style": "IPY_MODEL_1e5c610c43554a558a3bd9d29922552d",
       "value": "<div style='margin-top: 15px'></div>"
      }
     },
     "9a4f548afb4a4b769c34ce2702ad7960": {
      "model_module": "@jupyter-widgets/controls",
      "model_module_version": "1.5.0",
      "model_name": "BoxModel",
      "state": {
       "children": [
        "IPY_MODEL_457cda32aa7f433dae4532041fae86b9"
       ],
       "layout": "IPY_MODEL_a44cacd0c913426a93abe13c5ecd7b34"
      }
     },
     "9a6ed991f7c24342991e2b9af77e4259": {
      "model_module": "@jupyter-widgets/controls",
      "model_module_version": "1.5.0",
      "model_name": "HTMLModel",
      "state": {
       "layout": "IPY_MODEL_fe2a132255294e518a7ac6dc63ffbb8f",
       "style": "IPY_MODEL_c92f4ca9f6674621a3ec58142ff8c7dd",
       "value": "<p>Task Type:</p>"
      }
     },
     "9a87ad2a21334f578f67a513e0fcf481": {
      "model_module": "@jupyter-widgets/controls",
      "model_module_version": "1.5.0",
      "model_name": "DescriptionStyleModel",
      "state": {
       "description_width": ""
      }
     },
     "9ae4e7eb8d9a48e48f478b2cf1428de9": {
      "model_module": "@jupyter-widgets/base",
      "model_module_version": "1.2.0",
      "model_name": "LayoutModel",
      "state": {}
     },
     "9b728b8836f248118707704e2b213b12": {
      "model_module": "@jupyter-widgets/controls",
      "model_module_version": "1.5.0",
      "model_name": "DescriptionStyleModel",
      "state": {
       "description_width": "initial"
      }
     },
     "9bab1a30c8464b22b5f65c94dca178fe": {
      "model_module": "@jupyter-widgets/controls",
      "model_module_version": "1.5.0",
      "model_name": "CheckboxModel",
      "state": {
       "description": "EBM",
       "disabled": false,
       "indent": false,
       "layout": "IPY_MODEL_a54e5601c2b4454ca0b57f13292dc91d",
       "style": "IPY_MODEL_f7525ea7078648849d845bd75f4299a6",
       "value": false
      }
     },
     "9bf71d6e0d6644b29f3448d1f1f23817": {
      "model_module": "@jupyter-widgets/controls",
      "model_module_version": "1.5.0",
      "model_name": "DescriptionStyleModel",
      "state": {
       "description_width": ""
      }
     },
     "9c978250a171461d872ac28912e6e59c": {
      "model_module": "@jupyter-widgets/base",
      "model_module_version": "1.2.0",
      "model_name": "LayoutModel",
      "state": {
       "width": "auto"
      }
     },
     "9ca20162254c45c6a7db5400869058cf": {
      "model_module": "@jupyter-widgets/controls",
      "model_module_version": "1.5.0",
      "model_name": "HTMLModel",
      "state": {
       "layout": "IPY_MODEL_0869e1b41fc34dd2bdf7e6ae6c2d7b20",
       "style": "IPY_MODEL_5ad57950a8cc42d8ade1b4a854b3a638",
       "value": "<h4 style='margin: 10px 0px;'>Monotonic Setting</h4>"
      }
     },
     "9cafbb5e7d5e4d6da650620c020c8721": {
      "model_module": "@jupyter-widgets/base",
      "model_module_version": "1.2.0",
      "model_name": "LayoutModel",
      "state": {}
     },
     "9cb6e4b4ddaa40199e87edad563c77ed": {
      "model_module": "@jupyter-widgets/controls",
      "model_module_version": "1.5.0",
      "model_name": "VBoxModel",
      "state": {
       "children": [
        "IPY_MODEL_1b0941c126cf479091699747780d62e9",
        "IPY_MODEL_45f57804766748bd9e560fb03c41f231",
        "IPY_MODEL_a269ce7aef224368898942a120f35606",
        "IPY_MODEL_34852eac21c44311a655722e7dd3027c",
        "IPY_MODEL_2135716f3a0b441ab31e724ed7814287",
        "IPY_MODEL_4420e763472b42dab93a204e06b5136b",
        "IPY_MODEL_e538014f524348db9bb9c4765c150b1c",
        "IPY_MODEL_474a8f007ece47d8a0225ad18b69f8b5",
        "IPY_MODEL_d419abfb7b864d3f8bde243ea515ca17"
       ],
       "layout": "IPY_MODEL_c5000fa7ecab403cb7edb824f0e9cbbf"
      }
     },
     "9d1999d0be144ae0996d16e4f89a282b": {
      "model_module": "@jupyter-widgets/base",
      "model_module_version": "1.2.0",
      "model_name": "LayoutModel",
      "state": {
       "display": "flex",
       "flex_flow": "column",
       "width": "auto"
      }
     },
     "9dc03f6dde5648a4a2ca8b5c905b548c": {
      "model_module": "@jupyter-widgets/controls",
      "model_module_version": "1.5.0",
      "model_name": "HTMLModel",
      "state": {
       "layout": "IPY_MODEL_2332292b374f4afe87e136d56c1c9b39",
       "style": "IPY_MODEL_b162eb55599d4239886971f8eabf0aa6",
       "value": "<div style='margin-right: 10px'></div>"
      }
     },
     "9dec2670bfd24e5f81aee8f66bbc1494": {
      "model_module": "@jupyter-widgets/controls",
      "model_module_version": "1.5.0",
      "model_name": "DescriptionStyleModel",
      "state": {
       "description_width": "initial"
      }
     },
     "9e405a6336c74283980eaca31c194fd9": {
      "model_module": "@jupyter-widgets/base",
      "model_module_version": "1.2.0",
      "model_name": "LayoutModel",
      "state": {}
     },
     "9e82952591844fc48f92b0a0108e8c29": {
      "model_module": "@jupyter-widgets/controls",
      "model_module_version": "1.5.0",
      "model_name": "HTMLModel",
      "state": {
       "layout": "IPY_MODEL_0ee9718800204b60b6da20c296977fef",
       "style": "IPY_MODEL_c4c38e929740451a91c1357a72ddb9a8",
       "value": "<h4 style='margin: 10px 0px;'>Customize Model</h4>"
      }
     },
     "9eb88849eb094780bb73d0eb4fa64a08": {
      "model_module": "@jupyter-widgets/controls",
      "model_module_version": "1.5.0",
      "model_name": "BoundedIntTextModel",
      "state": {
       "layout": "IPY_MODEL_25e5e56c6d6a41fbb807b9cbde039adc",
       "max": 10000,
       "style": "IPY_MODEL_fb05dc71a78d474c82d0c29be4243a5e"
      }
     },
     "9f7cccf6fb4343649810b7ba74f2f834": {
      "model_module": "@jupyter-widgets/controls",
      "model_module_version": "1.5.0",
      "model_name": "DescriptionStyleModel",
      "state": {
       "description_width": ""
      }
     },
     "9f84054c6f2b44ff8c2e4f5c1b686575": {
      "model_module": "@jupyter-widgets/controls",
      "model_module_version": "1.5.0",
      "model_name": "DescriptionStyleModel",
      "state": {
       "description_width": ""
      }
     },
     "9f88d79373094a3f8126e2770c3539b2": {
      "model_module": "@jupyter-widgets/controls",
      "model_module_version": "1.5.0",
      "model_name": "DescriptionStyleModel",
      "state": {
       "description_width": "initial"
      }
     },
     "9fa6f1715f06466da51813581a1b0406": {
      "model_module": "@jupyter-widgets/controls",
      "model_module_version": "1.5.0",
      "model_name": "DescriptionStyleModel",
      "state": {
       "description_width": ""
      }
     },
     "9febb7cb762c41ad85acd2e84e37b972": {
      "model_module": "@jupyter-widgets/controls",
      "model_module_version": "1.5.0",
      "model_name": "DescriptionStyleModel",
      "state": {
       "description_width": "initial"
      }
     },
     "a026bbc876cc433dba0f76ca53b9f37e": {
      "model_module": "@jupyter-widgets/controls",
      "model_module_version": "1.5.0",
      "model_name": "CheckboxModel",
      "state": {
       "description": "XGB2",
       "disabled": false,
       "indent": false,
       "layout": "IPY_MODEL_4de45231ea0b407eba4b4df1a0f49fa4",
       "style": "IPY_MODEL_89b5ffce81b14a2997e9fba6c6836c9e",
       "value": false
      }
     },
     "a03bb75cc4e445e6bef5c13b959a04e0": {
      "model_module": "@jupyter-widgets/base",
      "model_module_version": "1.2.0",
      "model_name": "LayoutModel",
      "state": {
       "height": "10px"
      }
     },
     "a06b193a57f446d8bca0eb306bfccca9": {
      "model_module": "@jupyter-widgets/controls",
      "model_module_version": "1.5.0",
      "model_name": "DescriptionStyleModel",
      "state": {
       "description_width": ""
      }
     },
     "a09a9ac32a0945bfbbd162147de35e65": {
      "model_module": "@jupyter-widgets/base",
      "model_module_version": "1.2.0",
      "model_name": "LayoutModel",
      "state": {}
     },
     "a1488e91630845fbbc41435384e781c9": {
      "model_module": "@jupyter-widgets/base",
      "model_module_version": "1.2.0",
      "model_name": "LayoutModel",
      "state": {
       "width": "65%"
      }
     },
     "a15727c9594349c9b87a8766c21738c5": {
      "model_module": "@jupyter-widgets/controls",
      "model_module_version": "1.5.0",
      "model_name": "HBoxModel",
      "state": {
       "children": [
        "IPY_MODEL_b2016d8497ba454cbf6e40d30d1cb91b",
        "IPY_MODEL_515052b2db6f47528faf943cfd023541",
        "IPY_MODEL_7bdf0d963377423f9c12ecff05838211",
        "IPY_MODEL_ef66baa2e4984109a645a8b7e9e826f0",
        "IPY_MODEL_fb7014876091441caf186ba0675ddc38"
       ],
       "layout": "IPY_MODEL_808fe788e31e4e03adbc422ce270433b"
      }
     },
     "a2237ec98d1d4ca0bbf3247f17ca1c4b": {
      "model_module": "@jupyter-widgets/controls",
      "model_module_version": "1.5.0",
      "model_name": "HTMLModel",
      "state": {
       "layout": "IPY_MODEL_1186a6a4c7314c2a9cecd1660c2bde3f",
       "style": "IPY_MODEL_089520d01c2d409380b9253149b1c54d",
       "value": "Data Shape:(10000, 7)"
      }
     },
     "a269ce7aef224368898942a120f35606": {
      "model_module": "@jupyter-widgets/controls",
      "model_module_version": "1.5.0",
      "model_name": "HTMLModel",
      "state": {
       "layout": "IPY_MODEL_0a9b5e3fbaed4fc88453c4e447c670ef",
       "style": "IPY_MODEL_8e10909688634d4680c5d13d3ae9ee01",
       "value": "Inner_bags:"
      }
     },
     "a3041c1726904710b0035b864817270d": {
      "model_module": "@jupyter-widgets/controls",
      "model_module_version": "1.5.0",
      "model_name": "TextModel",
      "state": {
       "layout": "IPY_MODEL_9c978250a171461d872ac28912e6e59c",
       "placeholder": "1,2... or \"f1\",\"f2\"...",
       "style": "IPY_MODEL_dd54db13b6cc46dda5d5e02eb96a1eeb"
      }
     },
     "a3a29a3093bc472f9d32c64416f58f6a": {
      "model_module": "@jupyter-widgets/controls",
      "model_module_version": "1.5.0",
      "model_name": "TextModel",
      "state": {
       "layout": "IPY_MODEL_689e5106b89140ab8f82c1fcc185c87c",
       "placeholder": "1,2... or \"f1\",\"f2\"...",
       "style": "IPY_MODEL_ed18fdcf0d7f4d46bc8fd1d6c7420a95"
      }
     },
     "a3e4c8e92a8f4be8af4106afe32ce9a6": {
      "model_module": "@jupyter-widgets/controls",
      "model_module_version": "1.5.0",
      "model_name": "HBoxModel",
      "state": {
       "children": [
        "IPY_MODEL_74d0dcf691d147f3b0d7f9b7d009253c"
       ],
       "layout": "IPY_MODEL_a03bb75cc4e445e6bef5c13b959a04e0"
      }
     },
     "a44253f4b3da40a4ad0ba98d09723f62": {
      "model_module": "@jupyter-widgets/controls",
      "model_module_version": "1.5.0",
      "model_name": "DescriptionStyleModel",
      "state": {
       "description_width": ""
      }
     },
     "a44cacd0c913426a93abe13c5ecd7b34": {
      "model_module": "@jupyter-widgets/base",
      "model_module_version": "1.2.0",
      "model_name": "LayoutModel",
      "state": {
       "width": "155px"
      }
     },
     "a48894f2abcf4c7b99c6846957e8533f": {
      "model_module": "@jupyter-widgets/controls",
      "model_module_version": "1.5.0",
      "model_name": "HTMLModel",
      "state": {
       "layout": "IPY_MODEL_87fd8648138741f49257d14e87228b78",
       "style": "IPY_MODEL_3e65f176b8484f02bf8dc47da5b062f0",
       "value": "Subnet2_size:"
      }
     },
     "a510225cc860438fbdbdc9dbfb7d6a90": {
      "model_module": "@jupyter-widgets/base",
      "model_module_version": "1.2.0",
      "model_name": "LayoutModel",
      "state": {
       "width": "auto"
      }
     },
     "a54e5601c2b4454ca0b57f13292dc91d": {
      "model_module": "@jupyter-widgets/base",
      "model_module_version": "1.2.0",
      "model_name": "LayoutModel",
      "state": {
       "width": "100%"
      }
     },
     "a5fbf19cd06a4225a06a77a44c666e95": {
      "model_module": "@jupyter-widgets/controls",
      "model_module_version": "1.5.0",
      "model_name": "VBoxModel",
      "state": {
       "children": [
        "IPY_MODEL_9a6ed991f7c24342991e2b9af77e4259",
        "IPY_MODEL_eaf23770b1454d658388c653d30b5c01"
       ],
       "layout": "IPY_MODEL_098874deef1e43569c099127fe337078"
      }
     },
     "a5ff7ebafd6644639720651840cb5c61": {
      "model_module": "@jupyter-widgets/base",
      "model_module_version": "1.2.0",
      "model_name": "LayoutModel",
      "state": {
       "width": "auto"
      }
     },
     "a60721cd9abb41128b6f26f228f5b2df": {
      "model_module": "@jupyter-widgets/controls",
      "model_module_version": "1.5.0",
      "model_name": "BoundedFloatTextModel",
      "state": {
       "layout": "IPY_MODEL_383350fdbf41458e8c619d27a474b36a",
       "max": 1,
       "step": null,
       "style": "IPY_MODEL_9dec2670bfd24e5f81aee8f66bbc1494",
       "value": 0.0001
      }
     },
     "a633988a081e4856b76abe1194881d9e": {
      "model_module": "@jupyter-widgets/controls",
      "model_module_version": "1.5.0",
      "model_name": "BoxModel",
      "state": {
       "children": [
        "IPY_MODEL_fef5eec25da8493796364b25cc2cad7e",
        "IPY_MODEL_8e1583564067438eaf248da4e7bd791b"
       ],
       "layout": "IPY_MODEL_d6a1965478cf44589bee5728ab08b797"
      }
     },
     "a6daff45418c425b80b76a3140c688c6": {
      "model_module": "@jupyter-widgets/controls",
      "model_module_version": "1.5.0",
      "model_name": "HTMLModel",
      "state": {
       "layout": "IPY_MODEL_cf92d35711094c54aa5f485e4ecd59e1",
       "style": "IPY_MODEL_8477d85606ea43b98cabfb462f8ce355",
       "value": "<div class='divider'></div>"
      }
     },
     "a6dbedc040c749de9300aced6af6f391": {
      "model_module": "@jupyter-widgets/controls",
      "model_module_version": "1.5.0",
      "model_name": "HTMLModel",
      "state": {
       "layout": "IPY_MODEL_a09a9ac32a0945bfbbd162147de35e65",
       "style": "IPY_MODEL_0624c1c818cf49fca5e11ca5117047fa",
       "value": "<h4 style='margin: 10px 0px;'>Customize Model</h4>"
      }
     },
     "a703cc44f1514e25a1dd2bfcb1023957": {
      "model_module": "@jupyter-widgets/controls",
      "model_module_version": "1.5.0",
      "model_name": "DescriptionStyleModel",
      "state": {
       "description_width": ""
      }
     },
     "a74c207f08c4477c8eabb31522afd7ed": {
      "model_module": "@jupyter-widgets/controls",
      "model_module_version": "1.5.0",
      "model_name": "HTMLModel",
      "state": {
       "layout": "IPY_MODEL_b9849f8bf01848149a1095e9be861019",
       "style": "IPY_MODEL_2868bc12ef55473089f13fc544960081",
       "value": "<h4 style='margin-top: 0px;margin-bottom: 0px;'>Leaderboard</h4>"
      }
     },
     "a75e6b03c8774cf1a4b051b4cd67eb82": {
      "model_module": "@jupyter-widgets/controls",
      "model_module_version": "1.5.0",
      "model_name": "HTMLModel",
      "state": {
       "layout": "IPY_MODEL_c35b2c45569743c19c58378c413226e6",
       "style": "IPY_MODEL_184f1f701539456f892aaf46bb598fce",
       "value": "Spline_order:"
      }
     },
     "a79694667f3246939e24ba057ca7d8fd": {
      "model_module": "@jupyter-widgets/controls",
      "model_module_version": "1.5.0",
      "model_name": "DescriptionStyleModel",
      "state": {
       "description_width": ""
      }
     },
     "a7994a32bff8472eb6f7cc41b1c98453": {
      "model_module": "@jupyter-widgets/controls",
      "model_module_version": "1.5.0",
      "model_name": "TextModel",
      "state": {
       "layout": "IPY_MODEL_7bb958009415498fa527aca61801033d",
       "placeholder": "1,2... or \"f1\",\"f2\"...",
       "style": "IPY_MODEL_17faa212db1c4e8f97c17e2a4f653bc7"
      }
     },
     "a7a5cebc7ebb4a10b9818ed4bdf06b3d": {
      "model_module": "@jupyter-widgets/controls",
      "model_module_version": "1.5.0",
      "model_name": "DescriptionStyleModel",
      "state": {
       "description_width": ""
      }
     },
     "a7e9ba2fd083483dbd8106a05a5e1b9f": {
      "model_module": "@jupyter-widgets/controls",
      "model_module_version": "1.5.0",
      "model_name": "BoundedIntTextModel",
      "state": {
       "layout": "IPY_MODEL_00e55e777ae54a7797a5fc546e587ec4",
       "style": "IPY_MODEL_02455f1b34ed4d5cb543f4d929f6f766",
       "value": 7
      }
     },
     "a80669b57000448295aad04e352dfc86": {
      "model_module": "@jupyter-widgets/controls",
      "model_module_version": "1.5.0",
      "model_name": "DescriptionStyleModel",
      "state": {
       "description_width": ""
      }
     },
     "a86eb59298d54d10aca7ae1c25a3c65d": {
      "model_module": "@jupyter-widgets/controls",
      "model_module_version": "1.5.0",
      "model_name": "HTMLModel",
      "state": {
       "layout": "IPY_MODEL_db8fb716a2024866a28375237de1fcd3",
       "style": "IPY_MODEL_56b4bcda9cb94f8e943d17bd001e8e5b"
      }
     },
     "a8720274b85b4c008db7d62362c3f1c3": {
      "model_module": "@jupyter-widgets/base",
      "model_module_version": "1.2.0",
      "model_name": "LayoutModel",
      "state": {}
     },
     "a876859c078048c78ddcf8faf0fac93e": {
      "model_module": "@jupyter-widgets/controls",
      "model_module_version": "1.5.0",
      "model_name": "VBoxModel",
      "state": {
       "children": [
        "IPY_MODEL_98a32033ae504715b2f5d695618bd21a",
        "IPY_MODEL_31ba543d77014a938ce84d56b0f886b9",
        "IPY_MODEL_990450074d024eef89afcf7adce5b0ac",
        "IPY_MODEL_2fad6ccfd7fd492eb0639a0787dab14d",
        "IPY_MODEL_4d5cd3411ff9478598a326cc6edb72a6"
       ],
       "layout": "IPY_MODEL_698a9dbfe96f45a5b752ddc08246f75d"
      }
     },
     "a8a5bc063727459ba26fe437b63cd4b1": {
      "model_module": "@jupyter-widgets/controls",
      "model_module_version": "1.5.0",
      "model_name": "HTMLModel",
      "state": {
       "layout": "IPY_MODEL_445eee35db9f46e5ab004a80c23c1eeb",
       "style": "IPY_MODEL_ec61d1256d574b609da2e20245f6ac1c",
       "value": "<h4 style='margin: 10px 0px;'>Customize Model</h4>"
      }
     },
     "a8d0314034ed4289b6ecc24cdfe6fcab": {
      "model_module": "@jupyter-widgets/base",
      "model_module_version": "1.2.0",
      "model_name": "LayoutModel",
      "state": {
       "width": "14%"
      }
     },
     "a8d96ed8d6d74c88bc42ccbe56f0430e": {
      "model_module": "@jupyter-widgets/base",
      "model_module_version": "1.2.0",
      "model_name": "LayoutModel",
      "state": {
       "width": "155px"
      }
     },
     "a92fa965b1dc468b8650d47cbd222803": {
      "model_module": "@jupyter-widgets/controls",
      "model_module_version": "1.5.0",
      "model_name": "DescriptionStyleModel",
      "state": {
       "description_width": ""
      }
     },
     "a95b8b14295649eebda7430a4313457b": {
      "model_module": "@jupyter-widgets/controls",
      "model_module_version": "1.5.0",
      "model_name": "DescriptionStyleModel",
      "state": {
       "description_width": "initial"
      }
     },
     "a96c52c3b5f8498db6fcd806fb6ad064": {
      "model_module": "@jupyter-widgets/controls",
      "model_module_version": "1.5.0",
      "model_name": "BoxModel",
      "state": {
       "children": [
        "IPY_MODEL_71893f1fd8e8430e86ad7224a24dca68",
        "IPY_MODEL_340c7b8860bb4ae59c39603243a697b5"
       ],
       "layout": "IPY_MODEL_595fdec23b44432a80bf9221e0a62fb6"
      }
     },
     "a97b2cf4ac6b4e16bd199ae258aa9f7b": {
      "model_module": "@jupyter-widgets/base",
      "model_module_version": "1.2.0",
      "model_name": "LayoutModel",
      "state": {
       "width": "20%"
      }
     },
     "a9be54b1ec6348ddaf46dddb0a72e4ca": {
      "model_module": "@jupyter-widgets/controls",
      "model_module_version": "1.5.0",
      "model_name": "HTMLModel",
      "state": {
       "layout": "IPY_MODEL_990bea068b0f4b1eaf17d3141a31f16d",
       "style": "IPY_MODEL_5a336d82f1914a02968d26e87343d474",
       "value": "<div class='divider'></div>"
      }
     },
     "a9f66c293f7d46ef937bca09e4263bcf": {
      "model_module": "@jupyter-widgets/base",
      "model_module_version": "1.2.0",
      "model_name": "LayoutModel",
      "state": {}
     },
     "aa653adede00410f8d82e1b3281fe7c2": {
      "model_module": "@jupyter-widgets/controls",
      "model_module_version": "1.5.0",
      "model_name": "DescriptionStyleModel",
      "state": {
       "description_width": "initial"
      }
     },
     "aa836fc3efbf414bae98cf4a51926393": {
      "model_module": "@jupyter-widgets/controls",
      "model_module_version": "1.5.0",
      "model_name": "DescriptionStyleModel",
      "state": {
       "description_width": "initial"
      }
     },
     "aafefff91dce4dfa9bcd8a503ddcde1b": {
      "model_module": "@jupyter-widgets/base",
      "model_module_version": "1.2.0",
      "model_name": "LayoutModel",
      "state": {
       "width": "20%"
      }
     },
     "ab6bf4cbcfaf40abb572a5a84ac6861c": {
      "model_module": "@jupyter-widgets/controls",
      "model_module_version": "1.5.0",
      "model_name": "ButtonStyleModel",
      "state": {}
     },
     "ab7804a31c034f6ab16b26ffd372011c": {
      "model_module": "@jupyter-widgets/controls",
      "model_module_version": "1.5.0",
      "model_name": "DescriptionStyleModel",
      "state": {
       "description_width": ""
      }
     },
     "ab9e0c107e68400cbb88c4377723520f": {
      "model_module": "@jupyter-widgets/base",
      "model_module_version": "1.2.0",
      "model_name": "LayoutModel",
      "state": {}
     },
     "abfb98628671421bb6cc32d8b3587bc3": {
      "model_module": "@jupyter-widgets/controls",
      "model_module_version": "1.5.0",
      "model_name": "HTMLModel",
      "state": {
       "layout": "IPY_MODEL_d5a96de3644348ed94812b53c9c33bfd",
       "style": "IPY_MODEL_afcda884c4de420d9fd46bf8581e5660",
       "value": "<div class='divider'></div>"
      }
     },
     "ac1b1a867d6d439c8a386f9c206f6d32": {
      "model_module": "@jupyter-widgets/base",
      "model_module_version": "1.2.0",
      "model_name": "LayoutModel",
      "state": {
       "width": "99%"
      }
     },
     "ac2af8d602e44ce8a3eb45de29bdc844": {
      "model_module": "@jupyter-widgets/controls",
      "model_module_version": "1.5.0",
      "model_name": "VBoxModel",
      "state": {
       "children": [
        "IPY_MODEL_50c23da8a1964889bbaaca4e27942b35"
       ],
       "layout": "IPY_MODEL_990a47a08ba64cd790b24f84ea1db421"
      }
     },
     "ac40a9c698bc41dd926c32a667436f22": {
      "model_module": "@jupyter-widgets/base",
      "model_module_version": "1.2.0",
      "model_name": "LayoutModel",
      "state": {}
     },
     "ac412f514c2940da9845f993848a16a4": {
      "model_module": "@jupyter-widgets/base",
      "model_module_version": "1.2.0",
      "model_name": "LayoutModel",
      "state": {
       "width": "40%"
      }
     },
     "acd282765f4a4d8e9747b3cc2913acc0": {
      "model_module": "@jupyter-widgets/controls",
      "model_module_version": "1.5.0",
      "model_name": "DescriptionStyleModel",
      "state": {
       "description_width": ""
      }
     },
     "ad5aeae41fb74eb9b4de8d6be8eaf21f": {
      "model_module": "@jupyter-widgets/controls",
      "model_module_version": "1.5.0",
      "model_name": "BoundedIntTextModel",
      "state": {
       "layout": "IPY_MODEL_9206201a1b8a4d39abe974b034cb95cc",
       "style": "IPY_MODEL_558ad92f1c644614a25d25ca5a9077f6",
       "value": 8
      }
     },
     "ad8d4529bf214974a01e9f920252b555": {
      "model_module": "@jupyter-widgets/controls",
      "model_module_version": "1.5.0",
      "model_name": "HTMLModel",
      "state": {
       "layout": "IPY_MODEL_776264bce8344bbe89905ca6e17af220",
       "style": "IPY_MODEL_1d7c56ffcf2a40c0b71651a17d50d76e",
       "value": "<div class='divider'></div>"
      }
     },
     "adcdf0ced02d47b09f35ba26e3a79151": {
      "model_module": "@jupyter-widgets/base",
      "model_module_version": "1.2.0",
      "model_name": "LayoutModel",
      "state": {
       "width": "155px"
      }
     },
     "adce285b17f44a6a8810e1d7dfa2cce4": {
      "model_module": "@jupyter-widgets/base",
      "model_module_version": "1.2.0",
      "model_name": "LayoutModel",
      "state": {}
     },
     "adeae9133aaf42aaa4859ea539f83972": {
      "model_module": "@jupyter-widgets/controls",
      "model_module_version": "1.5.0",
      "model_name": "HTMLModel",
      "state": {
       "layout": "IPY_MODEL_1bd350e5e0214481a1fe58e8be1736d2",
       "style": "IPY_MODEL_125eaf1598314a3086263aefeaf75eb9",
       "value": "Max_depth:"
      }
     },
     "adf95fc927c44ecdb4bb3d392b6351bc": {
      "model_module": "@jupyter-widgets/controls",
      "model_module_version": "1.5.0",
      "model_name": "HTMLModel",
      "state": {
       "layout": "IPY_MODEL_07216523cb3e437fbf1ef05db461751c",
       "style": "IPY_MODEL_759e252657ed42d4ac50505322c56563",
       "value": "<link rel=\"stylesheet\" href=\"//stackpath.bootstrapcdn.com/font-awesome/4.7.0/css/font-awesome.min.css\"/>"
      }
     },
     "adfec7abbf024442af871065dfb7b2aa": {
      "model_module": "@jupyter-widgets/controls",
      "model_module_version": "1.5.0",
      "model_name": "HTMLModel",
      "state": {
       "layout": "IPY_MODEL_ec7c1e25c3dc4566b2e213325997053e",
       "style": "IPY_MODEL_08c19895f92a4cb483125ca90cf0d43d",
       "value": "<p class='notification info'>Model Training Done</p>"
      }
     },
     "aeeaeb2d38924558910789bcc1422111": {
      "model_module": "@jupyter-widgets/controls",
      "model_module_version": "1.5.0",
      "model_name": "DescriptionStyleModel",
      "state": {
       "description_width": ""
      }
     },
     "af85ddfc8a474705a08de1d93a83b7f1": {
      "model_module": "@jupyter-widgets/controls",
      "model_module_version": "1.5.0",
      "model_name": "HTMLModel",
      "state": {
       "layout": "IPY_MODEL_e3a218f8bbbe4108939724dce5bd8b22",
       "style": "IPY_MODEL_540ca8f621c54b9d9e80baf8b74c7469",
       "value": "<div style='margin-top: 5px'></div>"
      }
     },
     "afcda884c4de420d9fd46bf8581e5660": {
      "model_module": "@jupyter-widgets/controls",
      "model_module_version": "1.5.0",
      "model_name": "DescriptionStyleModel",
      "state": {
       "description_width": ""
      }
     },
     "afd149f9c9ec42678bbbc6efb57ec505": {
      "model_module": "@jupyter-widgets/base",
      "model_module_version": "1.2.0",
      "model_name": "LayoutModel",
      "state": {}
     },
     "b024ab9767824a0b82e59a61f8fa61bc": {
      "model_module": "@jupyter-widgets/controls",
      "model_module_version": "1.5.0",
      "model_name": "HTMLModel",
      "state": {
       "layout": "IPY_MODEL_117b6807d4ca4b85878ec2a1daecbc4d",
       "style": "IPY_MODEL_4a3966f8035041df9eda78892dc2a921",
       "value": "<h4 style='margin: 10px 0px;'>Monotonic Setting</h4>"
      }
     },
     "b0b13c3ee2d84e9799f5f4f602dc0641": {
      "model_module": "@jupyter-widgets/base",
      "model_module_version": "1.2.0",
      "model_name": "LayoutModel",
      "state": {}
     },
     "b0bcd8a39a6640168345511e4356e26c": {
      "model_module": "@jupyter-widgets/controls",
      "model_module_version": "1.5.0",
      "model_name": "DescriptionStyleModel",
      "state": {
       "description_width": ""
      }
     },
     "b11f5ef3c14c4f2e8bcbdb48be3fa618": {
      "model_module": "@jupyter-widgets/base",
      "model_module_version": "1.2.0",
      "model_name": "LayoutModel",
      "state": {
       "width": "155px"
      }
     },
     "b13cbd1878644c1eb99f3917940be074": {
      "model_module": "@jupyter-widgets/base",
      "model_module_version": "1.2.0",
      "model_name": "LayoutModel",
      "state": {
       "width": "auto"
      }
     },
     "b144198079c8423e825c4633a756e6e7": {
      "model_module": "@jupyter-widgets/base",
      "model_module_version": "1.2.0",
      "model_name": "LayoutModel",
      "state": {
       "width": "99%"
      }
     },
     "b162eb55599d4239886971f8eabf0aa6": {
      "model_module": "@jupyter-widgets/controls",
      "model_module_version": "1.5.0",
      "model_name": "DescriptionStyleModel",
      "state": {
       "description_width": ""
      }
     },
     "b2016d8497ba454cbf6e40d30d1cb91b": {
      "model_module": "@jupyter-widgets/controls",
      "model_module_version": "1.5.0",
      "model_name": "HTMLModel",
      "state": {
       "layout": "IPY_MODEL_29a5d4533f6c4592a750849a3c09e874",
       "style": "IPY_MODEL_44b6825a19e049829ce605dd52a3a07d",
       "value": "Exclude Attribute:"
      }
     },
     "b214761656964c33bc7adc2a6018f1cf": {
      "model_module": "@jupyter-widgets/controls",
      "model_module_version": "1.5.0",
      "model_name": "DescriptionStyleModel",
      "state": {
       "description_width": ""
      }
     },
     "b22893ede00f433b8f2075255298580b": {
      "model_module": "@jupyter-widgets/base",
      "model_module_version": "1.2.0",
      "model_name": "LayoutModel",
      "state": {}
     },
     "b26041ac771e4cb3bbec0ad2491ae7da": {
      "model_module": "@jupyter-widgets/controls",
      "model_module_version": "1.5.0",
      "model_name": "HTMLModel",
      "state": {
       "layout": "IPY_MODEL_a8720274b85b4c008db7d62362c3f1c3",
       "style": "IPY_MODEL_9fa6f1715f06466da51813581a1b0406",
       "value": "<div style='margin-top: 10px'></div>"
      }
     },
     "b293fc47ef174b26abd633616b94a228": {
      "model_module": "@jupyter-widgets/base",
      "model_module_version": "1.2.0",
      "model_name": "LayoutModel",
      "state": {}
     },
     "b2ad1e7758cc460a9349304806f01d75": {
      "model_module": "@jupyter-widgets/base",
      "model_module_version": "1.2.0",
      "model_name": "LayoutModel",
      "state": {
       "width": "99%"
      }
     },
     "b2d79e65b18a487e8ba046566a54a049": {
      "model_module": "@jupyter-widgets/controls",
      "model_module_version": "1.5.0",
      "model_name": "DescriptionStyleModel",
      "state": {
       "description_width": ""
      }
     },
     "b2fee0ef99e54cc1ac3a23ad86093c9e": {
      "model_module": "@jupyter-widgets/base",
      "model_module_version": "1.2.0",
      "model_name": "LayoutModel",
      "state": {
       "width": "15%"
      }
     },
     "b3161b5b28db47709beae08d047f025e": {
      "model_module": "@jupyter-widgets/controls",
      "model_module_version": "1.5.0",
      "model_name": "DescriptionStyleModel",
      "state": {
       "description_width": "initial"
      }
     },
     "b3c33961201143ec87f24863550e013d": {
      "model_module": "@jupyter-widgets/controls",
      "model_module_version": "1.5.0",
      "model_name": "HBoxModel",
      "state": {
       "children": [
        "IPY_MODEL_0261ebdfa65b4c2dae234dfb38affdef",
        "IPY_MODEL_5adcd6e8e0fe414084a529dc860f8f92",
        "IPY_MODEL_4a278e30a0cb4fb793e3707cdab2098f",
        "IPY_MODEL_38fbb55345b54f009f635b43440038ae",
        "IPY_MODEL_1d38836d95b14f95ae7f02b7a4b46536"
       ],
       "layout": "IPY_MODEL_d28573036cf84cf59ffdcfda858e4d61"
      }
     },
     "b43e18fb15034363a1fc149e6279ecfa": {
      "model_module": "@jupyter-widgets/controls",
      "model_module_version": "1.5.0",
      "model_name": "DescriptionStyleModel",
      "state": {
       "description_width": ""
      }
     },
     "b4aafd08873a41f883fbe12a101b2f34": {
      "model_module": "@jupyter-widgets/base",
      "model_module_version": "1.2.0",
      "model_name": "LayoutModel",
      "state": {
       "width": "55%"
      }
     },
     "b4d88c877575498c9adf2869d01efdb3": {
      "model_module": "@jupyter-widgets/controls",
      "model_module_version": "1.5.0",
      "model_name": "DropdownModel",
      "state": {
       "_options_labels": [
        "Balance",
        "Amount Past Due",
        "Credit Inquiry",
        "Approved"
       ],
       "index": 3,
       "layout": "IPY_MODEL_d1f1e55e2a924bdd80dda2a55befc28f",
       "style": "IPY_MODEL_b8e5a6439d364b438c48e70383d478b5"
      }
     },
     "b50d2e8f985f4be88aa939e2d11d9cd4": {
      "model_module": "@jupyter-widgets/controls",
      "model_module_version": "1.5.0",
      "model_name": "VBoxModel",
      "state": {
       "children": [
        "IPY_MODEL_7932d2f7f3c543a6bd88c9b21439859c"
       ],
       "layout": "IPY_MODEL_86ad42ee48ae44d0a1de6a390be84a62"
      }
     },
     "b5b9130cf2cd4649a11d2151ca7ec4e0": {
      "model_module": "@jupyter-widgets/controls",
      "model_module_version": "1.5.0",
      "model_name": "HBoxModel",
      "state": {
       "_dom_classes": [
        "list-item"
       ],
       "children": [
        "IPY_MODEL_9bab1a30c8464b22b5f65c94dca178fe",
        "IPY_MODEL_1d4fa1872d754418b775a90c9f54bd37"
       ],
       "layout": "IPY_MODEL_f5d5612b72834385bc59408e35949423"
      }
     },
     "b5c3e35cb79f4d91a6b679a0e26b3bc6": {
      "model_module": "@jupyter-widgets/base",
      "model_module_version": "1.2.0",
      "model_name": "LayoutModel",
      "state": {
       "display": "flex",
       "flex_flow": "column",
       "width": "auto"
      }
     },
     "b61f18a4b5654144bb0c594a31338be2": {
      "model_module": "@jupyter-widgets/controls",
      "model_module_version": "1.5.0",
      "model_name": "DescriptionStyleModel",
      "state": {
       "description_width": ""
      }
     },
     "b6d75f2e32b5401f8c81db7118886170": {
      "model_module": "@jupyter-widgets/base",
      "model_module_version": "1.2.0",
      "model_name": "LayoutModel",
      "state": {
       "width": "auto"
      }
     },
     "b79de3194cdd4b71a931cb2484b7fe4d": {
      "model_module": "@jupyter-widgets/controls",
      "model_module_version": "1.5.0",
      "model_name": "TextModel",
      "state": {
       "layout": "IPY_MODEL_11919260b08c45318a4b4cd809f20e10",
       "placeholder": "Input name",
       "style": "IPY_MODEL_389372664c2f437c9a313d91d834a8a0",
       "value": "ReLU-DNN"
      }
     },
     "b7bdce70382c467ebf42ed6997a12e8b": {
      "model_module": "@jupyter-widgets/controls",
      "model_module_version": "1.5.0",
      "model_name": "HTMLModel",
      "state": {
       "layout": "IPY_MODEL_fc5530a1f80241fa807919dcf2b91729",
       "style": "IPY_MODEL_23744ac3c6df4310bf7965d5a24b7bbf",
       "value": "<div style='margin-right: 10px'></div>"
      }
     },
     "b8387f912e2248ac89c910865c61c72a": {
      "model_module": "@jupyter-widgets/base",
      "model_module_version": "1.2.0",
      "model_name": "LayoutModel",
      "state": {
       "width": "99%"
      }
     },
     "b8716e56126248e9a705e590e5825ae5": {
      "model_module": "@jupyter-widgets/base",
      "model_module_version": "1.2.0",
      "model_name": "LayoutModel",
      "state": {
       "height": "25px",
       "width": "35px"
      }
     },
     "b8b716dbfe3141969c5b711fa9f4c11b": {
      "model_module": "@jupyter-widgets/controls",
      "model_module_version": "1.5.0",
      "model_name": "DescriptionStyleModel",
      "state": {
       "description_width": ""
      }
     },
     "b8e5a6439d364b438c48e70383d478b5": {
      "model_module": "@jupyter-widgets/controls",
      "model_module_version": "1.5.0",
      "model_name": "DescriptionStyleModel",
      "state": {
       "description_width": "initial"
      }
     },
     "b95f21bf031a4806ad59d9079239f2fd": {
      "model_module": "@jupyter-widgets/controls",
      "model_module_version": "1.5.0",
      "model_name": "HTMLModel",
      "state": {
       "layout": "IPY_MODEL_db828f53520d4a8497aee7bd77044534",
       "style": "IPY_MODEL_9f7cccf6fb4343649810b7ba74f2f834",
       "value": "Max_depth:"
      }
     },
     "b9849f8bf01848149a1095e9be861019": {
      "model_module": "@jupyter-widgets/base",
      "model_module_version": "1.2.0",
      "model_name": "LayoutModel",
      "state": {}
     },
     "b99f039d005749eaaab42e12069142d7": {
      "model_module": "@jupyter-widgets/output",
      "model_module_version": "1.0.0",
      "model_name": "OutputModel",
      "state": {
       "layout": "IPY_MODEL_0240ce73723c462ea0c1f2e54bb5be79"
      }
     },
     "ba2be4bba45f47b0b5053bf18b24e461": {
      "model_module": "@jupyter-widgets/controls",
      "model_module_version": "1.5.0",
      "model_name": "DescriptionStyleModel",
      "state": {
       "description_width": ""
      }
     },
     "ba57e882747b418190023213a57432b8": {
      "model_module": "@jupyter-widgets/controls",
      "model_module_version": "1.5.0",
      "model_name": "DescriptionStyleModel",
      "state": {
       "description_width": ""
      }
     },
     "bae766ee59304d2bbd21bace9da27309": {
      "model_module": "@jupyter-widgets/controls",
      "model_module_version": "1.5.0",
      "model_name": "DescriptionStyleModel",
      "state": {
       "description_width": ""
      }
     },
     "baf79d1566ea4d968397751da6451804": {
      "model_module": "@jupyter-widgets/controls",
      "model_module_version": "1.5.0",
      "model_name": "BoundedIntTextModel",
      "state": {
       "layout": "IPY_MODEL_2587fb36b69b4a228336007d9259aa35",
       "max": 10000,
       "min": 1,
       "style": "IPY_MODEL_dc9fbdcda8d940658882506261b48e5b",
       "value": 1000
      }
     },
     "bb108aff20e0439993fcccfa310563d4": {
      "model_module": "@jupyter-widgets/controls",
      "model_module_version": "1.5.0",
      "model_name": "DescriptionStyleModel",
      "state": {
       "description_width": ""
      }
     },
     "bb463558e438454ea66f8dcbf62f8f69": {
      "model_module": "@jupyter-widgets/base",
      "model_module_version": "1.2.0",
      "model_name": "LayoutModel",
      "state": {}
     },
     "bbb6a21de6934330aa6da66b9b5a54aa": {
      "model_module": "@jupyter-widgets/controls",
      "model_module_version": "1.5.0",
      "model_name": "DescriptionStyleModel",
      "state": {
       "description_width": "initial"
      }
     },
     "bbb71994e5a04841b1090e201e11581f": {
      "model_module": "@jupyter-widgets/base",
      "model_module_version": "1.2.0",
      "model_name": "LayoutModel",
      "state": {
       "height": "auto"
      }
     },
     "bbd991690dd3419db91cce1f2b4edae3": {
      "model_module": "@jupyter-widgets/base",
      "model_module_version": "1.2.0",
      "model_name": "LayoutModel",
      "state": {}
     },
     "bbe536a783ba42f48ea17591417bae8e": {
      "model_module": "@jupyter-widgets/base",
      "model_module_version": "1.2.0",
      "model_name": "LayoutModel",
      "state": {}
     },
     "bc004fae62654b8ba71608086d13fe8f": {
      "model_module": "@jupyter-widgets/base",
      "model_module_version": "1.2.0",
      "model_name": "LayoutModel",
      "state": {}
     },
     "bc6b26e088d046b4892339ae0173ab11": {
      "model_module": "@jupyter-widgets/controls",
      "model_module_version": "1.5.0",
      "model_name": "DescriptionStyleModel",
      "state": {
       "description_width": "initial"
      }
     },
     "bc6ff50f34c9424cb9585fe562a5c54b": {
      "model_module": "@jupyter-widgets/base",
      "model_module_version": "1.2.0",
      "model_name": "LayoutModel",
      "state": {}
     },
     "bc7742509dd348fc9c6e164a9b6c34ec": {
      "model_module": "@jupyter-widgets/controls",
      "model_module_version": "1.5.0",
      "model_name": "DescriptionStyleModel",
      "state": {
       "description_width": ""
      }
     },
     "bc8624965e154d88917570893cd2b4d5": {
      "model_module": "@jupyter-widgets/controls",
      "model_module_version": "1.5.0",
      "model_name": "DescriptionStyleModel",
      "state": {
       "description_width": "initial"
      }
     },
     "bcc0616bd7ed4117894bb4ecd2c3ad33": {
      "model_module": "@jupyter-widgets/controls",
      "model_module_version": "1.5.0",
      "model_name": "VBoxModel",
      "state": {
       "children": [
        "IPY_MODEL_5485b1d9c24042869a4983726fb18480"
       ],
       "layout": "IPY_MODEL_2c3b3e462a2b49d88560672452bcad6c"
      }
     },
     "bd4606f28fd04c1ba91fb244dbd9019e": {
      "model_module": "@jupyter-widgets/controls",
      "model_module_version": "1.5.0",
      "model_name": "TextModel",
      "state": {
       "layout": "IPY_MODEL_17d827ddd7de42fab9d063e7fbb74b87",
       "placeholder": "",
       "style": "IPY_MODEL_827c790defe148c59710474b6f95da3d",
       "value": "[40,40]"
      }
     },
     "bda3fc6b4b754864a0609191b7144edf": {
      "model_module": "@jupyter-widgets/base",
      "model_module_version": "1.2.0",
      "model_name": "LayoutModel",
      "state": {
       "width": "99%"
      }
     },
     "bec63408681e46a88bf4c1356121c84f": {
      "model_module": "@jupyter-widgets/base",
      "model_module_version": "1.2.0",
      "model_name": "LayoutModel",
      "state": {
       "width": "auto"
      }
     },
     "bee0fb7266bd4418982b0165f8d3415b": {
      "model_module": "@jupyter-widgets/base",
      "model_module_version": "1.2.0",
      "model_name": "LayoutModel",
      "state": {
       "width": "auto"
      }
     },
     "bef261126e80402fb7dbb1662981fa49": {
      "model_module": "@jupyter-widgets/controls",
      "model_module_version": "1.5.0",
      "model_name": "DescriptionStyleModel",
      "state": {
       "description_width": ""
      }
     },
     "bef629a64b7f4df5865a4db40c428bd8": {
      "model_module": "@jupyter-widgets/base",
      "model_module_version": "1.2.0",
      "model_name": "LayoutModel",
      "state": {
       "width": "99%"
      }
     },
     "bf6b50ed40354f93898171e8b4bb1281": {
      "model_module": "@jupyter-widgets/base",
      "model_module_version": "1.2.0",
      "model_name": "LayoutModel",
      "state": {
       "width": "auto"
      }
     },
     "c01c3c8709694b7dbf7e9a6cba80143b": {
      "model_module": "@jupyter-widgets/controls",
      "model_module_version": "1.5.0",
      "model_name": "DescriptionStyleModel",
      "state": {
       "description_width": "initial"
      }
     },
     "c10b29ad23cd4c2a8df86ae4d79d025d": {
      "model_module": "@jupyter-widgets/controls",
      "model_module_version": "1.5.0",
      "model_name": "TextModel",
      "state": {
       "layout": "IPY_MODEL_f7c7e1bacda3444d8c445f9dbe39c8cb",
       "placeholder": "Input name",
       "style": "IPY_MODEL_9f88d79373094a3f8126e2770c3539b2",
       "value": "FIGS"
      }
     },
     "c1c44d6b06f5437fa2ebaf5011638198": {
      "model_module": "@jupyter-widgets/base",
      "model_module_version": "1.2.0",
      "model_name": "LayoutModel",
      "state": {
       "width": "auto"
      }
     },
     "c302ceb8d0254f29be2c1f3cb19b2fa0": {
      "model_module": "@jupyter-widgets/base",
      "model_module_version": "1.2.0",
      "model_name": "LayoutModel",
      "state": {
       "width": "155px"
      }
     },
     "c328ff85e102404f872be9cad1aba45f": {
      "model_module": "@jupyter-widgets/base",
      "model_module_version": "1.2.0",
      "model_name": "LayoutModel",
      "state": {
       "width": "80px"
      }
     },
     "c34e5586ba4f43449b0737258a798d3b": {
      "model_module": "@jupyter-widgets/controls",
      "model_module_version": "1.5.0",
      "model_name": "BoundedIntTextModel",
      "state": {
       "layout": "IPY_MODEL_f94c29f779994da2ab7dc0e814af1c3d",
       "max": 10000,
       "style": "IPY_MODEL_d59ceb40d9f743128f94e8efbc72d909",
       "value": 256
      }
     },
     "c35b2c45569743c19c58378c413226e6": {
      "model_module": "@jupyter-widgets/base",
      "model_module_version": "1.2.0",
      "model_name": "LayoutModel",
      "state": {}
     },
     "c38db407ca274f899222123569639e7c": {
      "model_module": "@jupyter-widgets/base",
      "model_module_version": "1.2.0",
      "model_name": "LayoutModel",
      "state": {}
     },
     "c3faab4dfb684e1c9610402e3313fe5f": {
      "model_module": "@jupyter-widgets/controls",
      "model_module_version": "1.5.0",
      "model_name": "VBoxModel",
      "state": {
       "children": [
        "IPY_MODEL_cc400ae11f6e412e9de8b39b26af82d2"
       ],
       "layout": "IPY_MODEL_e037d3386ccb4309a6ace13a05a20c75"
      }
     },
     "c49097906bf2486aa43532eab20bf5e4": {
      "model_module": "@jupyter-widgets/base",
      "model_module_version": "1.2.0",
      "model_name": "LayoutModel",
      "state": {
       "width": "auto"
      }
     },
     "c4a5f224b86d4a95b5079ac2b45a00e7": {
      "model_module": "@jupyter-widgets/base",
      "model_module_version": "1.2.0",
      "model_name": "LayoutModel",
      "state": {
       "height": "25px",
       "width": "35px"
      }
     },
     "c4c38e929740451a91c1357a72ddb9a8": {
      "model_module": "@jupyter-widgets/controls",
      "model_module_version": "1.5.0",
      "model_name": "DescriptionStyleModel",
      "state": {
       "description_width": ""
      }
     },
     "c4dfc064c74f4358845ec74fe426069c": {
      "model_module": "@jupyter-widgets/output",
      "model_module_version": "1.0.0",
      "model_name": "OutputModel",
      "state": {
       "layout": "IPY_MODEL_0a71dc577b1f4f9783251b4688b19d6c",
       "outputs": [
        {
         "data": {
          "text/html": "<p class=\"notification info\">Update Data Preparation Done</p>",
          "text/plain": "<IPython.core.display.HTML object>"
         },
         "metadata": {},
         "output_type": "display_data"
        }
       ]
      }
     },
     "c5000fa7ecab403cb7edb824f0e9cbbf": {
      "model_module": "@jupyter-widgets/base",
      "model_module_version": "1.2.0",
      "model_name": "LayoutModel",
      "state": {
       "width": "155px"
      }
     },
     "c5948e9ada804303b7b33cc364166595": {
      "model_module": "@jupyter-widgets/base",
      "model_module_version": "1.2.0",
      "model_name": "LayoutModel",
      "state": {}
     },
     "c5961faae45741e09388c26545099dd9": {
      "model_module": "@jupyter-widgets/controls",
      "model_module_version": "1.5.0",
      "model_name": "HBoxModel",
      "state": {
       "children": [
        "IPY_MODEL_a86eb59298d54d10aca7ae1c25a3c65d"
       ],
       "layout": "IPY_MODEL_76a9be9d07934e4d8d2130ed12e34b2f"
      }
     },
     "c62b5f45f4994e028e532db330e659ac": {
      "model_module": "@jupyter-widgets/base",
      "model_module_version": "1.2.0",
      "model_name": "LayoutModel",
      "state": {}
     },
     "c70886fe1545432aa4b8edf0f3006a2d": {
      "model_module": "@jupyter-widgets/controls",
      "model_module_version": "1.5.0",
      "model_name": "DescriptionStyleModel",
      "state": {
       "description_width": ""
      }
     },
     "c734575f7e044790a9696117d33eb577": {
      "model_module": "@jupyter-widgets/controls",
      "model_module_version": "1.5.0",
      "model_name": "VBoxModel",
      "state": {
       "children": [
        "IPY_MODEL_da84fae7faf84d70a1cc525a7de34047"
       ],
       "layout": "IPY_MODEL_32ccd610fd564c92b80c42c8dbaf395c"
      }
     },
     "c763dfe68c6f472cb6bd86487237ffea": {
      "model_module": "@jupyter-widgets/controls",
      "model_module_version": "1.5.0",
      "model_name": "VBoxModel",
      "state": {
       "children": [
        "IPY_MODEL_61f24c7c92d84ec5b7d9a66aa5a4cdb3",
        "IPY_MODEL_023469263e354c0796df9991b808d28e"
       ],
       "layout": "IPY_MODEL_9217a1e0a90d4bac9ac97bea80eacdea"
      }
     },
     "c765248a05c44987864eb191b0066889": {
      "model_module": "@jupyter-widgets/base",
      "model_module_version": "1.2.0",
      "model_name": "LayoutModel",
      "state": {
       "width": "auto"
      }
     },
     "c7e5ed09a8064d20a9741fcf38d6cc75": {
      "model_module": "@jupyter-widgets/base",
      "model_module_version": "1.2.0",
      "model_name": "LayoutModel",
      "state": {}
     },
     "c83c7cc1a7f842d68f8a8ce4d704affa": {
      "model_module": "@jupyter-widgets/base",
      "model_module_version": "1.2.0",
      "model_name": "LayoutModel",
      "state": {}
     },
     "c86cc1f5e8e94cc08fa950dd510b5f5c": {
      "model_module": "@jupyter-widgets/controls",
      "model_module_version": "1.5.0",
      "model_name": "HTMLModel",
      "state": {
       "layout": "IPY_MODEL_55c80cb034514faa91dc591a1508242b",
       "style": "IPY_MODEL_0d290f6dfa864b0685fb869a5d9dcb60",
       "value": "Smoothness:"
      }
     },
     "c874f926775441c7bb62e9839b146257": {
      "model_module": "@jupyter-widgets/base",
      "model_module_version": "1.2.0",
      "model_name": "LayoutModel",
      "state": {}
     },
     "c8a885587668438286e092c31d07bc50": {
      "model_module": "@jupyter-widgets/base",
      "model_module_version": "1.2.0",
      "model_name": "LayoutModel",
      "state": {
       "height": "auto"
      }
     },
     "c8a96fe51931485091816cb21bce3506": {
      "model_module": "@jupyter-widgets/controls",
      "model_module_version": "1.5.0",
      "model_name": "DescriptionStyleModel",
      "state": {
       "description_width": ""
      }
     },
     "c91a787e81e74fbebf428d7c5f8fda91": {
      "model_module": "@jupyter-widgets/controls",
      "model_module_version": "1.5.0",
      "model_name": "DescriptionStyleModel",
      "state": {
       "description_width": "initial"
      }
     },
     "c92f4ca9f6674621a3ec58142ff8c7dd": {
      "model_module": "@jupyter-widgets/controls",
      "model_module_version": "1.5.0",
      "model_name": "DescriptionStyleModel",
      "state": {
       "description_width": ""
      }
     },
     "c95dac79156c43d8a9583fec416d5b28": {
      "model_module": "@jupyter-widgets/base",
      "model_module_version": "1.2.0",
      "model_name": "LayoutModel",
      "state": {}
     },
     "ca8c022c463345a282d66ab2ba942085": {
      "model_module": "@jupyter-widgets/base",
      "model_module_version": "1.2.0",
      "model_name": "LayoutModel",
      "state": {
       "display": "flex",
       "flex_flow": "column",
       "width": "100%"
      }
     },
     "cabb05bfd9e641c49d526d3637b6603a": {
      "model_module": "@jupyter-widgets/base",
      "model_module_version": "1.2.0",
      "model_name": "LayoutModel",
      "state": {
       "width": "auto"
      }
     },
     "caf0a4c91f68417f93eb939c21b978f5": {
      "model_module": "@jupyter-widgets/controls",
      "model_module_version": "1.5.0",
      "model_name": "DescriptionStyleModel",
      "state": {
       "description_width": "initial"
      }
     },
     "caf4f62d9fce44fa883ae2ea7a89716b": {
      "model_module": "@jupyter-widgets/base",
      "model_module_version": "1.2.0",
      "model_name": "LayoutModel",
      "state": {
       "width": "155px"
      }
     },
     "cb6ebc844b084f23b0336705a878fee1": {
      "model_module": "@jupyter-widgets/base",
      "model_module_version": "1.2.0",
      "model_name": "LayoutModel",
      "state": {}
     },
     "cb97f2a965ce432fbed7eab700cb422a": {
      "model_module": "@jupyter-widgets/controls",
      "model_module_version": "1.5.0",
      "model_name": "DescriptionStyleModel",
      "state": {
       "description_width": ""
      }
     },
     "cba87084bfd34ac7b3a8611193f386f1": {
      "model_module": "@jupyter-widgets/controls",
      "model_module_version": "1.5.0",
      "model_name": "HTMLModel",
      "state": {
       "layout": "IPY_MODEL_8e5093ace9d141cf88040f94d45b53ca",
       "style": "IPY_MODEL_9f84054c6f2b44ff8c2e4f5c1b686575",
       "value": "Delete Group:"
      }
     },
     "cbfadf1d429b427ca401f3285d50f800": {
      "model_module": "@jupyter-widgets/controls",
      "model_module_version": "1.5.0",
      "model_name": "HTMLModel",
      "state": {
       "layout": "IPY_MODEL_9ae4e7eb8d9a48e48f478b2cf1428de9",
       "style": "IPY_MODEL_88706fd1ed394714a33a9591bbe799c2",
       "value": "Feature_decreasing:"
      }
     },
     "cc400ae11f6e412e9de8b39b26af82d2": {
      "model_module": "@jupyter-widgets/controls",
      "model_module_version": "1.5.0",
      "model_name": "DropdownModel",
      "state": {
       "_options_labels": [
        "Mortgage",
        "Balance",
        "Amount Past Due",
        "Credit Inquiry",
        "Gender",
        "Race",
        "Approved"
       ],
       "index": 0,
       "layout": "IPY_MODEL_086e3a7de3f7494987a6636764bd2573",
       "style": "IPY_MODEL_5d796ff9fc254e0f83629748bca25e0d"
      }
     },
     "cd01fa43722442dcbb7806be41651e38": {
      "model_module": "@jupyter-widgets/base",
      "model_module_version": "1.2.0",
      "model_name": "LayoutModel",
      "state": {}
     },
     "cd6f16a2c68540f5a1e97aad74a796ed": {
      "model_module": "@jupyter-widgets/base",
      "model_module_version": "1.2.0",
      "model_name": "LayoutModel",
      "state": {
       "width": "auto"
      }
     },
     "cdba8455e7724afe925e962e6b8db963": {
      "model_module": "@jupyter-widgets/base",
      "model_module_version": "1.2.0",
      "model_name": "LayoutModel",
      "state": {}
     },
     "cdbe2d6b01a6465aac310c54f26908ee": {
      "model_module": "@jupyter-widgets/controls",
      "model_module_version": "1.5.0",
      "model_name": "DropdownModel",
      "state": {
       "_options_labels": [
        "Type",
        "categorical",
        "numerical"
       ],
       "index": 0,
       "layout": "IPY_MODEL_a97b2cf4ac6b4e16bd199ae258aa9f7b",
       "style": "IPY_MODEL_6547548d450c4c85873949c30f8be100"
      }
     },
     "cdc9350be52449c9b7e477cc56fc38e4": {
      "model_module": "@jupyter-widgets/controls",
      "model_module_version": "1.5.0",
      "model_name": "HTMLModel",
      "state": {
       "layout": "IPY_MODEL_fecab481e6154f00bc350f965130b4ac",
       "style": "IPY_MODEL_aeeaeb2d38924558910789bcc1422111",
       "value": "\n        <style>\n\n        .left-label {\n            width: 30%;\n        }\n\n        .card-panel {\n            -webkit-transition: -webkit-box-shadow .25s;\n            transition: -webkit-box-shadow .25s;\n            transition: box-shadow .25s;\n            transition: box-shadow .25s, -webkit-box-shadow .25s;\n            padding: 24px;\n            margin: 0.5rem 0 1rem 0;\n            border-radius: 2px;\n            background-color: #fff;\n        }\n\n        .card {\n            position: relative;\n            margin: 0.5rem 0.1rem 1rem 0.2rem;\n            background-color: #fff;\n            -webkit-transition: -webkit-box-shadow .25s;\n            transition: -webkit-box-shadow .25s;\n            transition: box-shadow .25s;\n            transition: box-shadow .25s, -webkit-box-shadow .25s;\n            border-radius: 2px;\n            box-shadow: 0 2px 2px 0 rgb(0 0 0 / 14%), 0 3px 1px -2px rgb(0 0 0 / 12%), 0 1px 5px 0 rgb(0 0 0 / 20%);\n            padding: 24px;\n            color: white;\n        }\n\n        .card .card-title {\n            font-size: 24px;\n            font-weight: 300;\n        }\n\n        @media only screen and (min-width: 800px) {\n            /* For notebook: */\n            .card {width: 99% !important;}\n        }\n\n        @media only screen and (min-width: 1400px) {\n            /* For colab: */\n            .card {width: 99% !important;}\n        }\n\n        .blue-grey.darken-1 {\n            background-color: #546e7a !important;\n        }\n\n        .small-card {\n            position: relative;\n            margin: 0.5rem 0 1rem 0;\n            background-color: #fff;\n            -webkit-transition: -webkit-box-shadow .25s;\n            transition: -webkit-box-shadow .25s;\n            transition: box-shadow .25s;\n            transition: box-shadow .25s, -webkit-box-shadow .25s;\n            border-radius: 2px;\n            box-shadow: 0 2px 2px 0 rgb(0 0 0 / 14%), 0 3px 1px -2px rgb(0 0 0 / 12%), 0 1px 5px 0 rgb(0 0 0 / 20%);\n            padding: 0px 5px 0px 5px;\n            color: white;\n        }\n\n        .inner-card {\n            position: relative;\n            background-color: #fff;\n            -webkit-transition: -webkit-box-shadow .25s;\n            transition: -webkit-box-shadow .25s;\n            transition: box-shadow .25s;\n            transition: box-shadow .25s, -webkit-box-shadow .25s;\n            border-radius: 2px;\n            box-shadow: 0 2px 2px 0 rgb(0 0 0 / 14%), 0 3px 1px -2px rgb(0 0 0 / 12%), 0 1px 5px 0 rgb(0 0 0 / 20%);\n            padding: 20px;\n            color: white;\n            margin: 0px 1px 1px 1px;\n        }\n\n        .card-with-tab {\n            position: relative;\n            margin: 0.5rem 0.1rem 1rem 0.2rem;\n            background-color: #fff;\n            -webkit-transition: -webkit-box-shadow .25s;\n            transition: -webkit-box-shadow .25s;\n            transition: box-shadow .25s;\n            transition: box-shadow .25s, -webkit-box-shadow .25s;\n            border-radius: 2px;\n            box-shadow: 0 2px 2px 0 rgb(0 0 0 / 14%), 0 3px 1px -2px rgb(0 0 0 / 12%), 0 1px 5px 0 rgb(0 0 0 / 20%);\n            padding: 24px;\n            color: white;\n        }\n\n        .card-with-tab button {\n            width: auto;\n            padding: 12px 40px;\n        }\n\n        .list {\n            padding: 0px 10px;\n            box-shadow: 0 2px 2px 0 rgb(0 0 0 / 14%), 0 3px 1px -2px rgb(0 0 0 / 12%), 0 1px 5px 0 rgb(0 0 0 / 20%);\n            margin: 0px 1px 60px 1px;\n        }\n\n        .list-item {\n            padding: 10px 0px;\n            border-width: 0;\n            border-style: solid;\n            border-color: rgba(0, 0, 0, 0.08);\n            border-bottom-width: thin;\n        }\n\n        .divider {\n            margin: 10px 0px;\n            border-width: 0;\n            border-style: solid;\n            border-color: rgba(0, 0, 0, 0.08);\n            border-bottom-width: thin;\n        }\n\n        .hr {\n            margin: 0;\n            -webkit-flex-shrink: 0;\n            -ms-flex-negative: 0;\n            flex-shrink: 0;\n            border-width: 0;\n            border-style: solid;\n            border-color: rgba(0, 0, 0, 0.08);\n            border-bottom-width: thin;\n        }\n\n        .notification {\n            transition: box-shadow 300ms cubic-bezier(0.4, 0, 0.2, 1) 0ms;\n            border-radius: 4px;\n            box-shadow: 0 2px 2px 0 rgb(0 0 0 / 14%), 0 3px 1px -2px rgb(0 0 0 / 12%), 0 1px 5px 0 rgb(0 0 0 / 20%);\n            font-family: Roboto, Helvetica, Arial, sans-serif;\n            font-weight: 500;\n            font-size: 12px;\n            line-height: 1.43;\n            letter-spacing: 0.01071em;\n            background-color: rgb(2, 136, 209);\n            display: flex;\n            padding: 6px 16px;\n            color: rgb(255, 255, 255);\n            margin-top: 10px;\n        }\n\n        .success {\n            background-color: #EDF7ED;\n            color: #1E4620;\n        }\n\n        .error {\n            background-color: #FDEDED;\n            color: #5F2120;\n        }\n\n        .info {\n            background-color: #E5F6FD;\n            color: #528298;\n        }\n\n        .warn {\n            background-color: #FFF4E5;\n            color: #663C00;\n        }\n\n        .margin-top-20 {\n            margin-top: 20px;\n        }\n\n        .hide {\n            display: none;\n        }\n\n        .pbtn {\n            display: inline-flex;\n            -webkit-box-align: center;\n            align-items: center;\n            -webkit-box-pack: center;\n            justify-content: center;\n            position: relative;\n            box-sizing: border-box;\n            -webkit-tap-highlight-color: transparent;\n            outline: 0px;\n            border: 0px;\n            margin: 0px;\n            cursor: pointer;\n            user-select: none;\n            vertical-align: middle;\n            appearance: none;\n            text-decoration: none;\n            font-family: Roboto, Helvetica, Arial, sans-serif;\n            font-weight: 550;\n            font-size: 12px;\n            line-height: 1.75;\n            letter-spacing: 0.02857em;\n            text-transform: uppercase;\n            min-width: 64px;\n            padding: 6px 16px;\n            border-radius: 4px;\n            transition: background-color 250ms cubic-bezier(0.4, 0, 0.2, 1) 0ms, box-shadow 250ms cubic-bezier(0.4, 0, 0.2, 1) 0ms, border-color 250ms cubic-bezier(0.4, 0, 0.2, 1) 0ms, color 250ms cubic-bezier(0.4, 0, 0.2, 1) 0ms;\n            color: rgb(255, 255, 255);\n            background-color: #D71E28;\n            box-shadow: rgb(0 0 0 / 20%) 0px 3px 1px -2px, rgb(0 0 0 / 14%) 0px 2px 2px 0px, rgb(0 0 0 / 12%) 0px 1px 5px 0px;\n        }\n\n        .output_subarea {\n            padding: 0px !important;\n        }\n\n        .ptable, .pth, .ptd {\n            border: none;\n        }\n\n        .pth, .ptd {\n            max-width: 150px;\n            white-space: nowrap;\n            overflow: hidden;\n            -o-text-overflow: ellipsis;\n            -ms-text-overflow: ellipsis;\n            text-overflow: ellipsis;\n        }\n\n        .ptable {\n            display: table;\n            border-collapse: collapse;\n            border-spacing: 0;\n        }\n\n        .ptable.striped .ptr {\n            border-bottom: none;\n        }\n\n        .ptable.striped > .ptbody > .ptr:nth-child(odd) {\n            background-color: rgba(242, 242, 242, 0.5);\n        }\n\n        .ptable.striped > .ptbody > .ptr > .ptd {\n            border-radius: 0;\n        }\n\n        .ptable.highlight > .ptbody > .ptr {\n            -webkit-transition: background-color .25s ease;\n            transition: background-color .25s ease;\n        }\n\n        .ptable.highlight > .ptbody > .ptr:hover {\n            background-color: rgba(242, 242, 242, 0.5);\n        }\n\n        .ptable.centered .pthead .ptr .pth, .ptable.centered .ptbody .ptr .ptd {\n            text-align: center;\n        }\n\n        .ptr {\n            border-bottom: 1px solid rgba(0, 0, 0, 0.12);\n        }\n\n        .ptr.hightlight {\n            background-color: yellow !important;\n        }\n\n        .ptd, .pth {\n            padding: 0.2rem 0.6rem;\n            display: table-cell;\n            text-align: right;\n            vertical-align: middle;\n            border-radius: 2px;\n            position: relative;\n        }\n\n        .ptr.grey {\n            background-color: grey !important;\n        }\n\n        .ptr.strikeout .ptd:before {\n            content: \" \";\n            position: absolute;\n            top: 50%;\n            left: 0;\n            border-bottom: 1px solid #111;\n            width: 100%;\n        }\n\n        .widget-toggle-button {\n            display: inline-flex;\n            -webkit-box-align: center;\n            align-items: center;\n            -webkit-box-pack: center;\n            justify-content: center;\n            box-sizing: border-box;\n            -webkit-tap-highlight-color: transparent;\n            background-color: transparent !important;\n            outline: 0px;\n            border: 0px;\n            border-bottom: 2px solid #E4E4E4 !important;\n            box-shadow: none !important;\n            margin: 0px !important;\n            border-radius: 0px;\n            cursor: pointer;\n            user-select: none;\n            vertical-align: middle;\n            appearance: none;\n            text-decoration: none;\n            font-family: Roboto, Helvetica, Arial, sans-serif;\n            font-weight: 500;\n            font-size: 14px;\n            line-height: 1.25;\n            letter-spacing: 0.02857em;\n            max-width: 360px;\n            min-width: 90px;\n            position: relative;\n            min-height: 48px;\n            flex-shrink: 0;\n            padding: 12px 16px;\n            overflow: hidden;\n            white-space: normal;\n            text-align: center;\n            flex-direction: column;\n            color: rgba(0, 0, 0, 0.6);\n        }\n\n        .mod-active {\n            color: rgb(25, 118, 210) !important;\n            border-bottom: 2px solid rgb(25, 118, 210) !important;\n        }\n\n        .narrow-tab button {\n            max-width: 15%;\n        }\n\n        .overflow-fix .jupyter-widgets {\n            overflow: auto;\n        }\n\n        .inner-padding {\n            padding-top: 20px;\n        }\n\n        .fix-img img {\n            width: 100%;\n        }\n\n        .flex-reverse-for-update-button {\n            flex-direction: row-reverse;\n            margin-right: 50px;\n        }\n\n        .data-summary-tab {\n            max-height: 400px;\n        }\n\n        .input-width-with-parent .widget-dropdown {\n            width: 100%;\n        }\n\n        .input-width-with-parent .widget-text {\n            width: 100%;\n        }\n\n        .no-margin {\n            margin: 0px;\n        }\n\n        .widget-hprogress label {\n            text-align: left;\n        }\n\n        .widget-dropdown label {\n            margin-right: 10px;\n        }\n\n        .form .widget-dropdown {\n            width: auto;\n        }\n\n        .form .widget-text {\n            width: auto;\n        }\n\n        .form p {\n            margin: 0px;\n        }\n\n        .widget-dropdown {\n            white-space: nowrap;\n            overflow: hidden;\n            -o-text-overflow: ellipsis;\n            -ms-text-overflow: ellipsis;\n            text-overflow: ellipsis;\n        }\n\n        .progress-train label {\n            margin-right: 10px;\n        }\n\n        select {\n            height: 97% !important;\n        }\n\n        .no-overflow {\n            overflow: none;\n        }\n\n        .split-btn button {\n            margin-bottom: 2px;\n        }\n\n        .register-btn {\n            width: 50%\n        }\n\n        .register-btn-colab {\n            width: 40%\n        }\n\n        .fix-config-from-overflow .jp-OutputArea-child {\n            display: inherit;\n        }\n        \n        .checkbox-center input[type=\"checkbox\"] {\n            vertical-align: middle;\n        }\n\n        input[type=\"checkbox\"] {\n            vertical-align: middle;\n        }\n\n        </style>\n        "
      }
     },
     "cdc974424d194772afd59909a7ed8d70": {
      "model_module": "@jupyter-widgets/controls",
      "model_module_version": "1.5.0",
      "model_name": "BoundedFloatTextModel",
      "state": {
       "layout": "IPY_MODEL_e64a478b49c041dda53d021b9eba9339",
       "step": null,
       "style": "IPY_MODEL_9387580c65954099ada321030328571c"
      }
     },
     "ce319b0386414e12ae5423dd9dd4c347": {
      "model_module": "@jupyter-widgets/controls",
      "model_module_version": "1.5.0",
      "model_name": "BoundedFloatTextModel",
      "state": {
       "layout": "IPY_MODEL_4f81af354fc840388b25d4271c0554d5",
       "max": 1,
       "step": null,
       "style": "IPY_MODEL_8330e752e4824e9cb830416320696d64",
       "value": 0.001
      }
     },
     "ce35f024770b4994a8f0c1b7246f108b": {
      "model_module": "@jupyter-widgets/controls",
      "model_module_version": "1.5.0",
      "model_name": "DescriptionStyleModel",
      "state": {
       "description_width": ""
      }
     },
     "ce71680532b64bec95ecd109b2d10600": {
      "model_module": "@jupyter-widgets/controls",
      "model_module_version": "1.5.0",
      "model_name": "DescriptionStyleModel",
      "state": {
       "description_width": "initial"
      }
     },
     "ceb135fc9ee344d991e88b3037a8e500": {
      "model_module": "@jupyter-widgets/controls",
      "model_module_version": "1.5.0",
      "model_name": "HBoxModel",
      "state": {
       "children": [
        "IPY_MODEL_39a127ed6c3c468fb8356fd78bcee276",
        "IPY_MODEL_ef6a251d18e5451a97dc4dab8c539e4b",
        "IPY_MODEL_8efbda5bc7744bf0970e08d23520d516"
       ],
       "layout": "IPY_MODEL_b144198079c8423e825c4633a756e6e7"
      }
     },
     "cecfa01daefd426a844fee4af2f2e3a9": {
      "model_module": "@jupyter-widgets/controls",
      "model_module_version": "1.5.0",
      "model_name": "DescriptionStyleModel",
      "state": {
       "description_width": ""
      }
     },
     "ceee215bb88f4559b3d4171a7d1bc27d": {
      "model_module": "@jupyter-widgets/controls",
      "model_module_version": "1.5.0",
      "model_name": "HTMLModel",
      "state": {
       "layout": "IPY_MODEL_df7ebc859ab144c3afc506aaf9b1470b",
       "style": "IPY_MODEL_6214e86ddb97494d8fedea2f7b855d62",
       "value": "Model name:"
      }
     },
     "cf29ebe69e764e889786f0a8cde09f03": {
      "model_module": "@jupyter-widgets/controls",
      "model_module_version": "1.5.0",
      "model_name": "BoxModel",
      "state": {
       "_dom_classes": [
        "fix-config-from-overflow"
       ],
       "children": [
        "IPY_MODEL_0427ceb2b4224f93a3d9c1ca2cc786fd"
       ],
       "layout": "IPY_MODEL_353ce7b3c6574a96bee3e5c84954c232"
      }
     },
     "cf56751e9cab43088dc44825fb8da9b5": {
      "model_module": "@jupyter-widgets/controls",
      "model_module_version": "1.5.0",
      "model_name": "ButtonModel",
      "state": {
       "_dom_classes": [
        "pbtn"
       ],
       "button_style": "danger",
       "description": "OK",
       "layout": "IPY_MODEL_08e93a8f22d34ef1b42b33bb05a943aa",
       "style": "IPY_MODEL_e301e78890a344b6b3d1a731456ea4df"
      }
     },
     "cf80d87f6eee442ebf00547d0f3d28d5": {
      "model_module": "@jupyter-widgets/controls",
      "model_module_version": "1.5.0",
      "model_name": "CheckboxModel",
      "state": {
       "description": "Original Scale",
       "disabled": true,
       "indent": false,
       "layout": "IPY_MODEL_8f1ec17187be440daa0858e557a32ab3",
       "style": "IPY_MODEL_874d4c5a13bc4c3d81299cc12441973e",
       "value": true
      }
     },
     "cf92d35711094c54aa5f485e4ecd59e1": {
      "model_module": "@jupyter-widgets/base",
      "model_module_version": "1.2.0",
      "model_name": "LayoutModel",
      "state": {}
     },
     "cfcbc86eba1e493bbb72dd6c8953ff64": {
      "model_module": "@jupyter-widgets/base",
      "model_module_version": "1.2.0",
      "model_name": "LayoutModel",
      "state": {
       "width": "100%"
      }
     },
     "d0949f37a92e4849a1273b2a4c578dd4": {
      "model_module": "@jupyter-widgets/controls",
      "model_module_version": "1.5.0",
      "model_name": "VBoxModel",
      "state": {
       "_dom_classes": [
        "card"
       ],
       "children": [
        "IPY_MODEL_92a1d0504df94cf19c61f2b68524ebba",
        "IPY_MODEL_68c05ff8389643278c24a98fb9dccaa2",
        "IPY_MODEL_3eaee7be5e9e4a82b698279053450fd2",
        "IPY_MODEL_5526c82dc28942cb99cea319008ca463",
        "IPY_MODEL_79a0104273e94d2996836d9b041ad602",
        "IPY_MODEL_9a49db67438c4264bdc73c2f27fa8599",
        "IPY_MODEL_37bc90c69a8d45cd8f9115d0e8edf2a3",
        "IPY_MODEL_5b4c64a80fcf4917bd908740e3b2eeac",
        "IPY_MODEL_0ff46e6cbdff4813b3f68168306ade9d",
        "IPY_MODEL_f0f396bfe17c4e08b1aeda8df08a8f8d",
        "IPY_MODEL_3e9d36b35d344b18a8df7b68fb33a3fa",
        "IPY_MODEL_712dfa9b797d4d3c91adcde0addaf6d2"
       ],
       "layout": "IPY_MODEL_9e405a6336c74283980eaca31c194fd9"
      }
     },
     "d0df14467f814537b7389352bc121a3a": {
      "model_module": "@jupyter-widgets/controls",
      "model_module_version": "1.5.0",
      "model_name": "ButtonStyleModel",
      "state": {}
     },
     "d189bfd95da3422ca7e4bd87c3f24911": {
      "model_module": "@jupyter-widgets/controls",
      "model_module_version": "1.5.0",
      "model_name": "DescriptionStyleModel",
      "state": {
       "description_width": ""
      }
     },
     "d1ba8699552d4dacbd27fded628b3079": {
      "model_module": "@jupyter-widgets/controls",
      "model_module_version": "1.5.0",
      "model_name": "BoundedIntTextModel",
      "state": {
       "layout": "IPY_MODEL_ffcfa898661e4085a22ca524731c21cd",
       "min": 1,
       "style": "IPY_MODEL_868fdd5d933640cc8873124da6709b12",
       "value": 5
      }
     },
     "d1ce3dc7e7af49f198b24b4a9538b1a1": {
      "model_module": "@jupyter-widgets/controls",
      "model_module_version": "1.5.0",
      "model_name": "VBoxModel",
      "state": {
       "children": [
        "IPY_MODEL_045399a65c73426e9474823de47b116a",
        "IPY_MODEL_e4a55b9df841413391a0f8cd5fbc1c12"
       ],
       "layout": "IPY_MODEL_72d3bc01c76b43fc8266a20e5419db59"
      }
     },
     "d1f1e55e2a924bdd80dda2a55befc28f": {
      "model_module": "@jupyter-widgets/base",
      "model_module_version": "1.2.0",
      "model_name": "LayoutModel",
      "state": {}
     },
     "d20a7d0a6a364c009afbb87c5e97e0bc": {
      "model_module": "@jupyter-widgets/controls",
      "model_module_version": "1.5.0",
      "model_name": "TextModel",
      "state": {
       "layout": "IPY_MODEL_fc78394aa32c423ebfbe050dc18b2bf5",
       "placeholder": "Input name",
       "style": "IPY_MODEL_88d048f321cc4df2ae8e98eb2fd402e6",
       "value": "GAM"
      }
     },
     "d245ca29d95b42b7b32483bc62cabb2c": {
      "model_module": "@jupyter-widgets/base",
      "model_module_version": "1.2.0",
      "model_name": "LayoutModel",
      "state": {}
     },
     "d28573036cf84cf59ffdcfda858e4d61": {
      "model_module": "@jupyter-widgets/base",
      "model_module_version": "1.2.0",
      "model_name": "LayoutModel",
      "state": {
       "height": "auto"
      }
     },
     "d2b13daf50bf48b2a5494c3731a1f4c0": {
      "model_module": "@jupyter-widgets/base",
      "model_module_version": "1.2.0",
      "model_name": "LayoutModel",
      "state": {
       "width": "auto"
      }
     },
     "d30129614162438596c856496aefe3ce": {
      "model_module": "@jupyter-widgets/base",
      "model_module_version": "1.2.0",
      "model_name": "LayoutModel",
      "state": {}
     },
     "d3102aa5e9be4a74910fac8477cb0d98": {
      "model_module": "@jupyter-widgets/controls",
      "model_module_version": "1.5.0",
      "model_name": "HTMLModel",
      "state": {
       "layout": "IPY_MODEL_d3aec4ab31d74aabb31cf72881bad5ae",
       "style": "IPY_MODEL_d9f1994c994a45e0a6a695abfabe421d",
       "value": "\n        <table class='ptable striped'>\n            <thead class='pthead'>\n                <tr class='ptr'>\n                    <th class='pth'></th><th class='pth'>Model</th><th class='pth'>test_ACC</th><th class='pth'>test_AUC</th><th class='pth'>test_F1</th><th class='pth'>train_ACC</th><th class='pth'>train_AUC</th><th class='pth'>train_F1</th><th class='pth'>Time</th>\n                </tr>\n            </thead>\n\n            <tbody class='ptbody'>\n                <tr class='ptr'><td class='ptd'>0</td><td class='ptd'>GLM</td><td class='ptd'>0.7703</td><td class='ptd'>0.8624</td><td class='ptd'>0.7812</td><td class='ptd'>0.7740</td><td class='ptd'>0.8597</td><td class='ptd'>0.7848</td><td class='ptd'>0.0</td></tr>\n            </tbody>\n        </table>\n        "
      }
     },
     "d35072d4785d491e8b4ab8545948a01f": {
      "model_module": "@jupyter-widgets/controls",
      "model_module_version": "1.5.0",
      "model_name": "HTMLModel",
      "state": {
       "layout": "IPY_MODEL_5a039d30d83f42ff90b4b15766c902cf",
       "style": "IPY_MODEL_debf2cdbffab4c0fbe56b2ca6748da97",
       "value": "Reference Weight:"
      }
     },
     "d3aec4ab31d74aabb31cf72881bad5ae": {
      "model_module": "@jupyter-widgets/base",
      "model_module_version": "1.2.0",
      "model_name": "LayoutModel",
      "state": {}
     },
     "d419abfb7b864d3f8bde243ea515ca17": {
      "model_module": "@jupyter-widgets/controls",
      "model_module_version": "1.5.0",
      "model_name": "HTMLModel",
      "state": {
       "layout": "IPY_MODEL_90469f3c7e9f463aa608d14dbed3befe",
       "style": "IPY_MODEL_ded602d4517341b0af11b0ba174e4631",
       "value": "Random_state:"
      }
     },
     "d41f92691a2a4f818d3b1368ecd1c56d": {
      "model_module": "@jupyter-widgets/controls",
      "model_module_version": "1.5.0",
      "model_name": "DescriptionStyleModel",
      "state": {
       "description_width": ""
      }
     },
     "d4f7f73a74f04375ab41b02c952f7a1a": {
      "model_module": "@jupyter-widgets/base",
      "model_module_version": "1.2.0",
      "model_name": "LayoutModel",
      "state": {}
     },
     "d59ceb40d9f743128f94e8efbc72d909": {
      "model_module": "@jupyter-widgets/controls",
      "model_module_version": "1.5.0",
      "model_name": "DescriptionStyleModel",
      "state": {
       "description_width": "initial"
      }
     },
     "d5a8d0660d5042cf8cde7aab3c0a5921": {
      "model_module": "@jupyter-widgets/controls",
      "model_module_version": "1.5.0",
      "model_name": "VBoxModel",
      "state": {
       "children": [
        "IPY_MODEL_f199df404dca4b7294e354bc3bc92ad4",
        "IPY_MODEL_265bd58cf6f44e559bb868b214e25170",
        "IPY_MODEL_2e4de99d374444f6914bb48ce53a24fb",
        "IPY_MODEL_7469fdb5b0244bf1b189e9bd539cddc8",
        "IPY_MODEL_8e0ac72044884090a22a47d6eab4846e"
       ],
       "layout": "IPY_MODEL_6f810b71a24f4a13a8bd4a101b852f64"
      }
     },
     "d5a96de3644348ed94812b53c9c33bfd": {
      "model_module": "@jupyter-widgets/base",
      "model_module_version": "1.2.0",
      "model_name": "LayoutModel",
      "state": {}
     },
     "d5fc9e061c624fb5a9f2463973ccb121": {
      "model_module": "@jupyter-widgets/base",
      "model_module_version": "1.2.0",
      "model_name": "LayoutModel",
      "state": {
       "width": "auto"
      }
     },
     "d6162099e1174a0b9df46cde24ce82c3": {
      "model_module": "@jupyter-widgets/controls",
      "model_module_version": "1.5.0",
      "model_name": "ButtonModel",
      "state": {
       "_dom_classes": [
        "pbtn"
       ],
       "button_style": "danger",
       "icon": "cog",
       "layout": "IPY_MODEL_71ac39994e0647cf8e6e730d6d9596ca",
       "style": "IPY_MODEL_0d4c2f0fd5204aeda2a4d2b6e1069cdb"
      }
     },
     "d66982de08a947ddb566a4e8766eb5df": {
      "model_module": "@jupyter-widgets/controls",
      "model_module_version": "1.5.0",
      "model_name": "DescriptionStyleModel",
      "state": {
       "description_width": ""
      }
     },
     "d66d569fa9f8410ba6ab65df88e8aeee": {
      "model_module": "@jupyter-widgets/controls",
      "model_module_version": "1.5.0",
      "model_name": "DropdownModel",
      "state": {
       "_options_labels": [
        "Mortgage",
        "Balance",
        "Amount Past Due",
        "Credit Inquiry",
        "Gender",
        "Race",
        "Approved"
       ],
       "index": 0,
       "layout": "IPY_MODEL_b13cbd1878644c1eb99f3917940be074",
       "style": "IPY_MODEL_4a6a207a3eb842929c76f61e3d395c74"
      }
     },
     "d68642cd4d4843e1a02fe382af8292ad": {
      "model_module": "@jupyter-widgets/controls",
      "model_module_version": "1.5.0",
      "model_name": "CheckboxModel",
      "state": {
       "description": "Tree",
       "disabled": false,
       "indent": false,
       "layout": "IPY_MODEL_290fd29b711140ec84fed5aae43b6cc7",
       "style": "IPY_MODEL_4b2dcb781d6c4663ac54422dec450164",
       "value": false
      }
     },
     "d6a1965478cf44589bee5728ab08b797": {
      "model_module": "@jupyter-widgets/base",
      "model_module_version": "1.2.0",
      "model_name": "LayoutModel",
      "state": {
       "display": "flex",
       "flex_flow": "column",
       "width": "100%"
      }
     },
     "d6f9b589681044fa8a843f6ca7be0de3": {
      "model_module": "@jupyter-widgets/base",
      "model_module_version": "1.2.0",
      "model_name": "LayoutModel",
      "state": {
       "width": "auto"
      }
     },
     "d70d08e1deae476da1783c233b528bf0": {
      "model_module": "@jupyter-widgets/controls",
      "model_module_version": "1.5.0",
      "model_name": "HTMLModel",
      "state": {
       "layout": "IPY_MODEL_f6ff36dbf68e4c1a88196dd5e109c935",
       "style": "IPY_MODEL_ba57e882747b418190023213a57432b8",
       "value": "<div style='margin-right: 10px'></div>"
      }
     },
     "d728c261f20f46d8a011183be3c0e2c9": {
      "model_module": "@jupyter-widgets/base",
      "model_module_version": "1.2.0",
      "model_name": "LayoutModel",
      "state": {
       "display": "flex",
       "flex_flow": "column",
       "width": "100%"
      }
     },
     "d74574803996420a8c62fdf4662950c8": {
      "model_module": "@jupyter-widgets/base",
      "model_module_version": "1.2.0",
      "model_name": "LayoutModel",
      "state": {}
     },
     "d77dc8288677424ba0f6fd837120529a": {
      "model_module": "@jupyter-widgets/controls",
      "model_module_version": "1.5.0",
      "model_name": "HBoxModel",
      "state": {
       "_dom_classes": [
        "form"
       ],
       "children": [
        "IPY_MODEL_fa062661b1694cdabc5e2d69cbb77d33",
        "IPY_MODEL_6fdaf13231cb44f899c3036eed736669",
        "IPY_MODEL_4cac9112f36b41198f361244e4c5387f",
        "IPY_MODEL_a5fbf19cd06a4225a06a77a44c666e95",
        "IPY_MODEL_8cf1fdc81b3b4d338d275dad6f2ae1d1",
        "IPY_MODEL_3fa52b5323a343b68c94d59ee6739212",
        "IPY_MODEL_bcc0616bd7ed4117894bb4ecd2c3ad33",
        "IPY_MODEL_5920ce348db145249ac461c5031acff1",
        "IPY_MODEL_d70d08e1deae476da1783c233b528bf0"
       ],
       "layout": "IPY_MODEL_cfcbc86eba1e493bbb72dd6c8953ff64"
      }
     },
     "d7d543111e20452a89af56f9affbc106": {
      "model_module": "@jupyter-widgets/controls",
      "model_module_version": "1.5.0",
      "model_name": "HTMLModel",
      "state": {
       "layout": "IPY_MODEL_d74574803996420a8c62fdf4662950c8",
       "style": "IPY_MODEL_7c69ae0ffa0a4288b0d30f7bc7572846",
       "value": "Dropout_rate:"
      }
     },
     "d800121010c54cfbb378a003cc3330de": {
      "model_module": "@jupyter-widgets/controls",
      "model_module_version": "1.5.0",
      "model_name": "DescriptionStyleModel",
      "state": {
       "description_width": ""
      }
     },
     "d8152b9402954c7c8b4fb91b579e212f": {
      "model_module": "@jupyter-widgets/base",
      "model_module_version": "1.2.0",
      "model_name": "LayoutModel",
      "state": {
       "justify_content": "space-between",
       "width": "100%"
      }
     },
     "d82da13b48384debb4d8264e4c085d91": {
      "model_module": "@jupyter-widgets/controls",
      "model_module_version": "1.5.0",
      "model_name": "DescriptionStyleModel",
      "state": {
       "description_width": "initial"
      }
     },
     "d88b376cc5e34c06a48eb6a0b67040fb": {
      "model_module": "@jupyter-widgets/controls",
      "model_module_version": "1.5.0",
      "model_name": "HTMLModel",
      "state": {
       "layout": "IPY_MODEL_60a6076b79134243b2a83f648c415ffd",
       "style": "IPY_MODEL_97d666a5a7ba42708c143bf5baee047a",
       "value": "Batch_size:"
      }
     },
     "d8c3661218e14dec9102083356988446": {
      "model_module": "@jupyter-widgets/base",
      "model_module_version": "1.2.0",
      "model_name": "LayoutModel",
      "state": {}
     },
     "d91954a1070a4cd2baba1ceda6791425": {
      "model_module": "@jupyter-widgets/controls",
      "model_module_version": "1.5.0",
      "model_name": "DescriptionStyleModel",
      "state": {
       "description_width": "initial"
      }
     },
     "d9286ed2edc04d2fb50720cf50e28350": {
      "model_module": "@jupyter-widgets/controls",
      "model_module_version": "1.5.0",
      "model_name": "HBoxModel",
      "state": {
       "children": [
        "IPY_MODEL_eaa27d9decaa46c5b477938a560d9482",
        "IPY_MODEL_a3041c1726904710b0035b864817270d"
       ],
       "layout": "IPY_MODEL_ac1b1a867d6d439c8a386f9c206f6d32"
      }
     },
     "d9f1994c994a45e0a6a695abfabe421d": {
      "model_module": "@jupyter-widgets/controls",
      "model_module_version": "1.5.0",
      "model_name": "DescriptionStyleModel",
      "state": {
       "description_width": ""
      }
     },
     "da43f867d3d74b51a7beea3979518d60": {
      "model_module": "@jupyter-widgets/controls",
      "model_module_version": "1.5.0",
      "model_name": "HBoxModel",
      "state": {
       "_dom_classes": [
        "list-item"
       ],
       "children": [
        "IPY_MODEL_e3ba739079494b3b8c2c1490dcface0d",
        "IPY_MODEL_1fa1920044e34cf4ba3968cd149865f0"
       ],
       "layout": "IPY_MODEL_293aae90ac534fd8a170b2a33ab089aa"
      }
     },
     "da5a1361e0cd444dafa664114baa7abe": {
      "model_module": "@jupyter-widgets/controls",
      "model_module_version": "1.5.0",
      "model_name": "DescriptionStyleModel",
      "state": {
       "description_width": "initial"
      }
     },
     "da7862842032472283c86be20aca8d7e": {
      "model_module": "@jupyter-widgets/controls",
      "model_module_version": "1.5.0",
      "model_name": "DescriptionStyleModel",
      "state": {
       "description_width": ""
      }
     },
     "da84fae7faf84d70a1cc525a7de34047": {
      "model_module": "@jupyter-widgets/controls",
      "model_module_version": "1.5.0",
      "model_name": "DropdownModel",
      "state": {
       "_options_labels": [
        "0.0",
        "1.0"
       ],
       "index": 0,
       "layout": "IPY_MODEL_5c6f0c38a767422b8c055132f34d587f",
       "style": "IPY_MODEL_383bfc4d6f294c919ce82eae4b1e40c7"
      }
     },
     "da8d652e88a14dac8fd501af32530d17": {
      "model_module": "@jupyter-widgets/controls",
      "model_module_version": "1.5.0",
      "model_name": "HTMLModel",
      "state": {
       "layout": "IPY_MODEL_22f581d0406a4145bb4549df11445990",
       "style": "IPY_MODEL_2711a4ce2d404d1b8a70cfa2927d16c2",
       "value": "<div style='margin-right: 10px'></div>"
      }
     },
     "da9ec581ce3f4456a1fab93a3781077d": {
      "model_module": "@jupyter-widgets/controls",
      "model_module_version": "1.5.0",
      "model_name": "SliderStyleModel",
      "state": {
       "description_width": ""
      }
     },
     "dacdbcaa004e43c1bcc84770c5b5ecff": {
      "model_module": "@jupyter-widgets/base",
      "model_module_version": "1.2.0",
      "model_name": "LayoutModel",
      "state": {}
     },
     "db26343a1a124f58b458f3357a029007": {
      "model_module": "@jupyter-widgets/base",
      "model_module_version": "1.2.0",
      "model_name": "LayoutModel",
      "state": {
       "width": "auto"
      }
     },
     "db76d804d0d84c0397dbe87795c54a6a": {
      "model_module": "@jupyter-widgets/base",
      "model_module_version": "1.2.0",
      "model_name": "LayoutModel",
      "state": {}
     },
     "db7f8835874941b1a9a47ae214dd94fa": {
      "model_module": "@jupyter-widgets/controls",
      "model_module_version": "1.5.0",
      "model_name": "VBoxModel",
      "state": {
       "children": [
        "IPY_MODEL_6cad7ef3ec2344c185a0326b4763f298",
        "IPY_MODEL_875f7076422e4bac98e00d2cedc4f3b2"
       ],
       "layout": "IPY_MODEL_ac40a9c698bc41dd926c32a667436f22"
      }
     },
     "db828f53520d4a8497aee7bd77044534": {
      "model_module": "@jupyter-widgets/base",
      "model_module_version": "1.2.0",
      "model_name": "LayoutModel",
      "state": {}
     },
     "db8fb716a2024866a28375237de1fcd3": {
      "model_module": "@jupyter-widgets/base",
      "model_module_version": "1.2.0",
      "model_name": "LayoutModel",
      "state": {}
     },
     "dbef8edc9cbc4f28bde7abd61a34b2df": {
      "model_module": "@jupyter-widgets/controls",
      "model_module_version": "1.5.0",
      "model_name": "SliderStyleModel",
      "state": {
       "description_width": ""
      }
     },
     "dc7d2626afe0420dad723b0baf4ffe36": {
      "model_module": "@jupyter-widgets/base",
      "model_module_version": "1.2.0",
      "model_name": "LayoutModel",
      "state": {
       "height": "25px",
       "width": "35px"
      }
     },
     "dc82c272687e44d790ab3b5f0d402e83": {
      "model_module": "@jupyter-widgets/controls",
      "model_module_version": "1.5.0",
      "model_name": "ButtonStyleModel",
      "state": {}
     },
     "dc9fbdcda8d940658882506261b48e5b": {
      "model_module": "@jupyter-widgets/controls",
      "model_module_version": "1.5.0",
      "model_name": "DescriptionStyleModel",
      "state": {
       "description_width": "initial"
      }
     },
     "dcbe9d405f3f48ee8b54a2cd7d1db88e": {
      "model_module": "@jupyter-widgets/base",
      "model_module_version": "1.2.0",
      "model_name": "LayoutModel",
      "state": {
       "width": "auto"
      }
     },
     "dce6914f5d0b4956bc484926b176998d": {
      "model_module": "@jupyter-widgets/controls",
      "model_module_version": "1.5.0",
      "model_name": "DescriptionStyleModel",
      "state": {
       "description_width": ""
      }
     },
     "dd0318a1f60345e1a6a410207725d4bb": {
      "model_module": "@jupyter-widgets/base",
      "model_module_version": "1.2.0",
      "model_name": "LayoutModel",
      "state": {}
     },
     "dd54db13b6cc46dda5d5e02eb96a1eeb": {
      "model_module": "@jupyter-widgets/controls",
      "model_module_version": "1.5.0",
      "model_name": "DescriptionStyleModel",
      "state": {
       "description_width": "initial"
      }
     },
     "dda053d7c8684c418c4ce8c2eed78098": {
      "model_module": "@jupyter-widgets/base",
      "model_module_version": "1.2.0",
      "model_name": "LayoutModel",
      "state": {}
     },
     "ddd27415655541a986174c0a5bb8e7a3": {
      "model_module": "@jupyter-widgets/base",
      "model_module_version": "1.2.0",
      "model_name": "LayoutModel",
      "state": {}
     },
     "ddd9bbb84c14415b8d98a27b2d2665aa": {
      "model_module": "@jupyter-widgets/controls",
      "model_module_version": "1.5.0",
      "model_name": "BoundedIntTextModel",
      "state": {
       "layout": "IPY_MODEL_4770785990ea4fe5858d858f48513df2",
       "style": "IPY_MODEL_d82da13b48384debb4d8264e4c085d91"
      }
     },
     "de3aa84d7fac438aa587cd616c2bc710": {
      "model_module": "@jupyter-widgets/controls",
      "model_module_version": "1.5.0",
      "model_name": "DescriptionStyleModel",
      "state": {
       "description_width": ""
      }
     },
     "de632e2626ef47d695b530fbdf4b4f64": {
      "model_module": "@jupyter-widgets/controls",
      "model_module_version": "1.5.0",
      "model_name": "VBoxModel",
      "state": {
       "children": [
        "IPY_MODEL_6686f0ca5df244afb3c9e698c12037cd",
        "IPY_MODEL_c5961faae45741e09388c26545099dd9",
        "IPY_MODEL_26d7df626f3844c8afca1b4dfcba1177"
       ],
       "layout": "IPY_MODEL_7e2d858935d1446884668d76bda9b0c5"
      }
     },
     "deb793711f594021af97e36bc596260f": {
      "model_module": "@jupyter-widgets/controls",
      "model_module_version": "1.5.0",
      "model_name": "DescriptionStyleModel",
      "state": {
       "description_width": "initial"
      }
     },
     "debf2cdbffab4c0fbe56b2ca6748da97": {
      "model_module": "@jupyter-widgets/controls",
      "model_module_version": "1.5.0",
      "model_name": "DescriptionStyleModel",
      "state": {
       "description_width": ""
      }
     },
     "dec080883f5441eeb44604c59747a7c1": {
      "model_module": "@jupyter-widgets/controls",
      "model_module_version": "1.5.0",
      "model_name": "HTMLModel",
      "state": {
       "layout": "IPY_MODEL_1f2faaf182e841fca669fd7ad878de3c",
       "style": "IPY_MODEL_70e7aef91a65461386a09917b6f12e26",
       "value": "\n        <table class='ptable striped'>\n            <thead class='pthead'>\n                <tr class='ptr'>\n                    <th class='pth'></th><th class='pth'>Model</th><th class='pth'>test_ACC</th><th class='pth'>test_AUC</th><th class='pth'>test_F1</th><th class='pth'>train_ACC</th><th class='pth'>train_AUC</th><th class='pth'>train_F1</th><th class='pth'>Time</th>\n                </tr>\n            </thead>\n\n            <tbody class='ptbody'>\n                <tr class='ptr hightlight'><td class='ptd'>0</td><td class='ptd'>GLM</td><td class='ptd'>0.7703</td><td class='ptd'>0.8624</td><td class='ptd'>0.7812</td><td class='ptd'>0.7740</td><td class='ptd'>0.8597</td><td class='ptd'>0.7848</td><td class='ptd'>0.0</td></tr>\n            </tbody>\n        </table>\n        "
      }
     },
     "dec588e3532542f384828d37862486f1": {
      "model_module": "@jupyter-widgets/controls",
      "model_module_version": "1.5.0",
      "model_name": "CheckboxModel",
      "state": {
       "description": "GAMI-Net",
       "disabled": false,
       "indent": false,
       "layout": "IPY_MODEL_65e0c29661bd4444943e8a015d6add0f",
       "style": "IPY_MODEL_a7a5cebc7ebb4a10b9818ed4bdf06b3d",
       "value": false
      }
     },
     "ded602d4517341b0af11b0ba174e4631": {
      "model_module": "@jupyter-widgets/controls",
      "model_module_version": "1.5.0",
      "model_name": "DescriptionStyleModel",
      "state": {
       "description_width": ""
      }
     },
     "df01bdd990564eec8db646f8e53a5383": {
      "model_module": "@jupyter-widgets/base",
      "model_module_version": "1.2.0",
      "model_name": "LayoutModel",
      "state": {
       "height": "25px",
       "width": "35px"
      }
     },
     "df461489a3554df39533bf7484d140d5": {
      "model_module": "@jupyter-widgets/base",
      "model_module_version": "1.2.0",
      "model_name": "LayoutModel",
      "state": {
       "justify_content": "space-between"
      }
     },
     "df7ebc859ab144c3afc506aaf9b1470b": {
      "model_module": "@jupyter-widgets/base",
      "model_module_version": "1.2.0",
      "model_name": "LayoutModel",
      "state": {}
     },
     "dfc114ca3fe342478caa0d400fc6e551": {
      "model_module": "@jupyter-widgets/output",
      "model_module_version": "1.0.0",
      "model_name": "OutputModel",
      "state": {
       "layout": "IPY_MODEL_2ddb06ab66184cceab76c9f985a2a2f4",
       "outputs": [
        {
         "data": {
          "application/vnd.jupyter.widget-view+json": {
           "model_id": "5567263fa2b544a1a3061b89b2ec5570",
           "version_major": 2,
           "version_minor": 0
          },
          "text/plain": "Box(children=(VBox(children=(HBox(children=(VBox(children=(HTML(value='Add Category:'), HTML(value='Delete Gro…"
         },
         "metadata": {},
         "output_type": "display_data"
        }
       ]
      }
     },
     "dfe9c9b36cf940f39ef56256a73a0b0d": {
      "model_module": "@jupyter-widgets/controls",
      "model_module_version": "1.5.0",
      "model_name": "BoundedIntTextModel",
      "state": {
       "layout": "IPY_MODEL_44e6d8f4ea144ceabc2b2840c53834b8",
       "max": 100000,
       "min": 1,
       "style": "IPY_MODEL_da5a1361e0cd444dafa664114baa7abe",
       "value": 1000
      }
     },
     "e02e6abac8c3401887aed432ca719153": {
      "model_module": "@jupyter-widgets/controls",
      "model_module_version": "1.5.0",
      "model_name": "HTMLModel",
      "state": {
       "layout": "IPY_MODEL_6f8e9fd1e57742a9af48412ecf62cf9c",
       "style": "IPY_MODEL_5e46b5b860294c8b905cf96e498ccb22",
       "value": "\n        <style>\n\n        .left-label {\n            width: 30%;\n        }\n\n        .card-panel {\n            -webkit-transition: -webkit-box-shadow .25s;\n            transition: -webkit-box-shadow .25s;\n            transition: box-shadow .25s;\n            transition: box-shadow .25s, -webkit-box-shadow .25s;\n            padding: 24px;\n            margin: 0.5rem 0 1rem 0;\n            border-radius: 2px;\n            background-color: #fff;\n        }\n\n        .card {\n            position: relative;\n            margin: 0.5rem 0.1rem 1rem 0.2rem;\n            background-color: #fff;\n            -webkit-transition: -webkit-box-shadow .25s;\n            transition: -webkit-box-shadow .25s;\n            transition: box-shadow .25s;\n            transition: box-shadow .25s, -webkit-box-shadow .25s;\n            border-radius: 2px;\n            box-shadow: 0 2px 2px 0 rgb(0 0 0 / 14%), 0 3px 1px -2px rgb(0 0 0 / 12%), 0 1px 5px 0 rgb(0 0 0 / 20%);\n            padding: 24px;\n            color: white;\n        }\n\n        .card .card-title {\n            font-size: 24px;\n            font-weight: 300;\n        }\n\n        @media only screen and (min-width: 800px) {\n            /* For notebook: */\n            .card {width: 99% !important;}\n        }\n\n        @media only screen and (min-width: 1400px) {\n            /* For colab: */\n            .card {width: 99% !important;}\n        }\n\n        .blue-grey.darken-1 {\n            background-color: #546e7a !important;\n        }\n\n        .small-card {\n            position: relative;\n            margin: 0.5rem 0 1rem 0;\n            background-color: #fff;\n            -webkit-transition: -webkit-box-shadow .25s;\n            transition: -webkit-box-shadow .25s;\n            transition: box-shadow .25s;\n            transition: box-shadow .25s, -webkit-box-shadow .25s;\n            border-radius: 2px;\n            box-shadow: 0 2px 2px 0 rgb(0 0 0 / 14%), 0 3px 1px -2px rgb(0 0 0 / 12%), 0 1px 5px 0 rgb(0 0 0 / 20%);\n            padding: 0px 5px 0px 5px;\n            color: white;\n        }\n\n        .inner-card {\n            position: relative;\n            background-color: #fff;\n            -webkit-transition: -webkit-box-shadow .25s;\n            transition: -webkit-box-shadow .25s;\n            transition: box-shadow .25s;\n            transition: box-shadow .25s, -webkit-box-shadow .25s;\n            border-radius: 2px;\n            box-shadow: 0 2px 2px 0 rgb(0 0 0 / 14%), 0 3px 1px -2px rgb(0 0 0 / 12%), 0 1px 5px 0 rgb(0 0 0 / 20%);\n            padding: 20px;\n            color: white;\n            margin: 0px 1px 1px 1px;\n        }\n\n        .card-with-tab {\n            position: relative;\n            margin: 0.5rem 0.1rem 1rem 0.2rem;\n            background-color: #fff;\n            -webkit-transition: -webkit-box-shadow .25s;\n            transition: -webkit-box-shadow .25s;\n            transition: box-shadow .25s;\n            transition: box-shadow .25s, -webkit-box-shadow .25s;\n            border-radius: 2px;\n            box-shadow: 0 2px 2px 0 rgb(0 0 0 / 14%), 0 3px 1px -2px rgb(0 0 0 / 12%), 0 1px 5px 0 rgb(0 0 0 / 20%);\n            padding: 24px;\n            color: white;\n        }\n\n        .card-with-tab button {\n            width: auto;\n            padding: 12px 40px;\n        }\n\n        .list {\n            padding: 0px 10px;\n            box-shadow: 0 2px 2px 0 rgb(0 0 0 / 14%), 0 3px 1px -2px rgb(0 0 0 / 12%), 0 1px 5px 0 rgb(0 0 0 / 20%);\n            margin: 0px 1px 60px 1px;\n        }\n\n        .list-item {\n            padding: 10px 0px;\n            border-width: 0;\n            border-style: solid;\n            border-color: rgba(0, 0, 0, 0.08);\n            border-bottom-width: thin;\n        }\n\n        .divider {\n            margin: 10px 0px;\n            border-width: 0;\n            border-style: solid;\n            border-color: rgba(0, 0, 0, 0.08);\n            border-bottom-width: thin;\n        }\n\n        .hr {\n            margin: 0;\n            -webkit-flex-shrink: 0;\n            -ms-flex-negative: 0;\n            flex-shrink: 0;\n            border-width: 0;\n            border-style: solid;\n            border-color: rgba(0, 0, 0, 0.08);\n            border-bottom-width: thin;\n        }\n\n        .notification {\n            transition: box-shadow 300ms cubic-bezier(0.4, 0, 0.2, 1) 0ms;\n            border-radius: 4px;\n            box-shadow: 0 2px 2px 0 rgb(0 0 0 / 14%), 0 3px 1px -2px rgb(0 0 0 / 12%), 0 1px 5px 0 rgb(0 0 0 / 20%);\n            font-family: Roboto, Helvetica, Arial, sans-serif;\n            font-weight: 500;\n            font-size: 12px;\n            line-height: 1.43;\n            letter-spacing: 0.01071em;\n            background-color: rgb(2, 136, 209);\n            display: flex;\n            padding: 6px 16px;\n            color: rgb(255, 255, 255);\n            margin-top: 10px;\n        }\n\n        .success {\n            background-color: #EDF7ED;\n            color: #1E4620;\n        }\n\n        .error {\n            background-color: #FDEDED;\n            color: #5F2120;\n        }\n\n        .info {\n            background-color: #E5F6FD;\n            color: #528298;\n        }\n\n        .warn {\n            background-color: #FFF4E5;\n            color: #663C00;\n        }\n\n        .margin-top-20 {\n            margin-top: 20px;\n        }\n\n        .hide {\n            display: none;\n        }\n\n        .pbtn {\n            display: inline-flex;\n            -webkit-box-align: center;\n            align-items: center;\n            -webkit-box-pack: center;\n            justify-content: center;\n            position: relative;\n            box-sizing: border-box;\n            -webkit-tap-highlight-color: transparent;\n            outline: 0px;\n            border: 0px;\n            margin: 0px;\n            cursor: pointer;\n            user-select: none;\n            vertical-align: middle;\n            appearance: none;\n            text-decoration: none;\n            font-family: Roboto, Helvetica, Arial, sans-serif;\n            font-weight: 550;\n            font-size: 12px;\n            line-height: 1.75;\n            letter-spacing: 0.02857em;\n            text-transform: uppercase;\n            min-width: 64px;\n            padding: 6px 16px;\n            border-radius: 4px;\n            transition: background-color 250ms cubic-bezier(0.4, 0, 0.2, 1) 0ms, box-shadow 250ms cubic-bezier(0.4, 0, 0.2, 1) 0ms, border-color 250ms cubic-bezier(0.4, 0, 0.2, 1) 0ms, color 250ms cubic-bezier(0.4, 0, 0.2, 1) 0ms;\n            color: rgb(255, 255, 255);\n            background-color: #D71E28;\n            box-shadow: rgb(0 0 0 / 20%) 0px 3px 1px -2px, rgb(0 0 0 / 14%) 0px 2px 2px 0px, rgb(0 0 0 / 12%) 0px 1px 5px 0px;\n        }\n\n        .output_subarea {\n            padding: 0px !important;\n        }\n\n        .ptable, .pth, .ptd {\n            border: none;\n        }\n\n        .pth, .ptd {\n            max-width: 150px;\n            white-space: nowrap;\n            overflow: hidden;\n            -o-text-overflow: ellipsis;\n            -ms-text-overflow: ellipsis;\n            text-overflow: ellipsis;\n        }\n\n        .ptable {\n            display: table;\n            border-collapse: collapse;\n            border-spacing: 0;\n        }\n\n        .ptable.striped .ptr {\n            border-bottom: none;\n        }\n\n        .ptable.striped > .ptbody > .ptr:nth-child(odd) {\n            background-color: rgba(242, 242, 242, 0.5);\n        }\n\n        .ptable.striped > .ptbody > .ptr > .ptd {\n            border-radius: 0;\n        }\n\n        .ptable.highlight > .ptbody > .ptr {\n            -webkit-transition: background-color .25s ease;\n            transition: background-color .25s ease;\n        }\n\n        .ptable.highlight > .ptbody > .ptr:hover {\n            background-color: rgba(242, 242, 242, 0.5);\n        }\n\n        .ptable.centered .pthead .ptr .pth, .ptable.centered .ptbody .ptr .ptd {\n            text-align: center;\n        }\n\n        .ptr {\n            border-bottom: 1px solid rgba(0, 0, 0, 0.12);\n        }\n\n        .ptr.hightlight {\n            background-color: yellow !important;\n        }\n\n        .ptd, .pth {\n            padding: 0.2rem 0.6rem;\n            display: table-cell;\n            text-align: right;\n            vertical-align: middle;\n            border-radius: 2px;\n            position: relative;\n        }\n\n        .ptr.grey {\n            background-color: grey !important;\n        }\n\n        .ptr.strikeout .ptd:before {\n            content: \" \";\n            position: absolute;\n            top: 50%;\n            left: 0;\n            border-bottom: 1px solid #111;\n            width: 100%;\n        }\n\n        .widget-toggle-button {\n            display: inline-flex;\n            -webkit-box-align: center;\n            align-items: center;\n            -webkit-box-pack: center;\n            justify-content: center;\n            box-sizing: border-box;\n            -webkit-tap-highlight-color: transparent;\n            background-color: transparent !important;\n            outline: 0px;\n            border: 0px;\n            border-bottom: 2px solid #E4E4E4 !important;\n            box-shadow: none !important;\n            margin: 0px !important;\n            border-radius: 0px;\n            cursor: pointer;\n            user-select: none;\n            vertical-align: middle;\n            appearance: none;\n            text-decoration: none;\n            font-family: Roboto, Helvetica, Arial, sans-serif;\n            font-weight: 500;\n            font-size: 14px;\n            line-height: 1.25;\n            letter-spacing: 0.02857em;\n            max-width: 360px;\n            min-width: 90px;\n            position: relative;\n            min-height: 48px;\n            flex-shrink: 0;\n            padding: 12px 16px;\n            overflow: hidden;\n            white-space: normal;\n            text-align: center;\n            flex-direction: column;\n            color: rgba(0, 0, 0, 0.6);\n        }\n\n        .mod-active {\n            color: rgb(25, 118, 210) !important;\n            border-bottom: 2px solid rgb(25, 118, 210) !important;\n        }\n\n        .narrow-tab button {\n            max-width: 15%;\n        }\n\n        .overflow-fix .jupyter-widgets {\n            overflow: auto;\n        }\n\n        .inner-padding {\n            padding-top: 20px;\n        }\n\n        .fix-img img {\n            width: 100%;\n        }\n\n        .flex-reverse-for-update-button {\n            flex-direction: row-reverse;\n            margin-right: 50px;\n        }\n\n        .data-summary-tab {\n            max-height: 400px;\n        }\n\n        .input-width-with-parent .widget-dropdown {\n            width: 100%;\n        }\n\n        .input-width-with-parent .widget-text {\n            width: 100%;\n        }\n\n        .no-margin {\n            margin: 0px;\n        }\n\n        .widget-hprogress label {\n            text-align: left;\n        }\n\n        .widget-dropdown label {\n            margin-right: 10px;\n        }\n\n        .form .widget-dropdown {\n            width: auto;\n        }\n\n        .form .widget-text {\n            width: auto;\n        }\n\n        .form p {\n            margin: 0px;\n        }\n\n        .widget-dropdown {\n            white-space: nowrap;\n            overflow: hidden;\n            -o-text-overflow: ellipsis;\n            -ms-text-overflow: ellipsis;\n            text-overflow: ellipsis;\n        }\n\n        .progress-train label {\n            margin-right: 10px;\n        }\n\n        select {\n            height: 97% !important;\n        }\n\n        .no-overflow {\n            overflow: none;\n        }\n\n        .split-btn button {\n            margin-bottom: 2px;\n        }\n\n        .register-btn {\n            width: 50%\n        }\n\n        .register-btn-colab {\n            width: 40%\n        }\n\n        .fix-config-from-overflow .jp-OutputArea-child {\n            display: inherit;\n        }\n        \n        .checkbox-center input[type=\"checkbox\"] {\n            vertical-align: middle;\n        }\n\n        input[type=\"checkbox\"] {\n            vertical-align: middle;\n        }\n\n        </style>\n        "
      }
     },
     "e037d3386ccb4309a6ace13a05a20c75": {
      "model_module": "@jupyter-widgets/base",
      "model_module_version": "1.2.0",
      "model_name": "LayoutModel",
      "state": {
       "width": "20%"
      }
     },
     "e0aeb454b90f4ec58dcb998a9112270a": {
      "model_module": "@jupyter-widgets/base",
      "model_module_version": "1.2.0",
      "model_name": "LayoutModel",
      "state": {}
     },
     "e13ae38104d446cfb60087a63c3a9ea0": {
      "model_module": "@jupyter-widgets/controls",
      "model_module_version": "1.5.0",
      "model_name": "BoxModel",
      "state": {
       "_dom_classes": [
        "inner-card"
       ],
       "children": [
        "IPY_MODEL_79e1367a3122406f9e9594a6a6b058a6",
        "IPY_MODEL_abfb98628671421bb6cc32d8b3587bc3",
        "IPY_MODEL_89b31836aeec493ba48ae7a7d86b8fe0"
       ],
       "layout": "IPY_MODEL_5b3ebd4e6d8046b8b77cbd58de9fa262"
      }
     },
     "e15c5216c0a2445aa3758d0e0abb5494": {
      "model_module": "@jupyter-widgets/base",
      "model_module_version": "1.2.0",
      "model_name": "LayoutModel",
      "state": {
       "width": "auto"
      }
     },
     "e1735907838b41dc8ce6577fccb642b6": {
      "model_module": "@jupyter-widgets/base",
      "model_module_version": "1.2.0",
      "model_name": "LayoutModel",
      "state": {}
     },
     "e185288101394289ae3f9dd18619f515": {
      "model_module": "@jupyter-widgets/controls",
      "model_module_version": "1.5.0",
      "model_name": "BoundedFloatTextModel",
      "state": {
       "layout": "IPY_MODEL_d6f9b589681044fa8a843f6ca7be0de3",
       "max": 1,
       "step": null,
       "style": "IPY_MODEL_a95b8b14295649eebda7430a4313457b"
      }
     },
     "e19f50decf294906bb65a32ff417ed1f": {
      "model_module": "@jupyter-widgets/base",
      "model_module_version": "1.2.0",
      "model_name": "LayoutModel",
      "state": {}
     },
     "e1cfe5f60b6f44249a44f43eaefc2db8": {
      "model_module": "@jupyter-widgets/controls",
      "model_module_version": "1.5.0",
      "model_name": "VBoxModel",
      "state": {
       "children": [
        "IPY_MODEL_6cd32973fcac44c4b8f8bc78376e500b"
       ],
       "layout": "IPY_MODEL_278deaa6143d4f0ea0ea766a5577a103"
      }
     },
     "e1d28c022ed345b69cbe31907e24d8a3": {
      "model_module": "@jupyter-widgets/controls",
      "model_module_version": "1.5.0",
      "model_name": "HTMLModel",
      "state": {
       "layout": "IPY_MODEL_6f3e05e5dff246938be88945c4df3b60",
       "style": "IPY_MODEL_8043f667186b41fa93e3fbed85ce9de8",
       "value": "\n        <table class='ptable striped'>\n            <thead class='pthead'>\n                <tr class='ptr'>\n                    <th class='pth'></th><th class='pth'>name</th><th class='pth'>n_missing</th><th class='pth'>mean</th><th class='pth'>std</th><th class='pth'>min</th><th class='pth'>q1</th><th class='pth'>median</th><th class='pth'>q3</th><th class='pth'>max</th>\n                </tr>\n            </thead>\n\n            <tbody class='ptbody'>\n                <tr class='ptr'><td class='ptd'>0</td><td class='ptd'>Balance</td><td class='ptd'>0.0</td><td class='ptd'>5273.876</td><td class='ptd'>1250.01039</td><td class='ptd'>0.0</td><td class='ptd'>4427.0</td><td class='ptd'>5265.0</td><td class='ptd'>6128.0</td><td class='ptd'>10000.0</td></tr><tr class='ptr'><td class='ptd'>1</td><td class='ptd'>Amount Past Due</td><td class='ptd'>0.0</td><td class='ptd'>1021.5116</td><td class='ptd'>1433.433443</td><td class='ptd'>0.0</td><td class='ptd'>0.0</td><td class='ptd'>16.0</td><td class='ptd'>1785.5</td><td class='ptd'>7722.0</td></tr><tr class='ptr'><td class='ptd'>2</td><td class='ptd'>Credit Inquiry</td><td class='ptd'>0.0</td><td class='ptd'>1.2195</td><td class='ptd'>1.419972</td><td class='ptd'>0.0</td><td class='ptd'>0.0</td><td class='ptd'>1.0</td><td class='ptd'>2.0</td><td class='ptd'>27.0</td></tr>\n            </tbody>\n        </table>\n        "
      }
     },
     "e21707d96c204f5586671f1e20bfee5b": {
      "model_module": "@jupyter-widgets/controls",
      "model_module_version": "1.5.0",
      "model_name": "HTMLModel",
      "state": {
       "layout": "IPY_MODEL_e19f50decf294906bb65a32ff417ed1f",
       "style": "IPY_MODEL_ed73ad77129f4028b1afe694db97b67d",
       "value": "Protected Weight:"
      }
     },
     "e260ed55ea474b43841176e1e8297a91": {
      "model_module": "@jupyter-widgets/controls",
      "model_module_version": "1.5.0",
      "model_name": "BoundedIntTextModel",
      "state": {
       "layout": "IPY_MODEL_5fad487c22874bf7b320159617599d75",
       "style": "IPY_MODEL_6e83a1d43f9b479b93d96718cd83e2f6",
       "value": 10
      }
     },
     "e27edb4fb33e4b3ea19bf0e58c8c3418": {
      "model_module": "@jupyter-widgets/base",
      "model_module_version": "1.2.0",
      "model_name": "LayoutModel",
      "state": {}
     },
     "e2d0cf81634840718ff6932cab91f058": {
      "model_module": "@jupyter-widgets/controls",
      "model_module_version": "1.5.0",
      "model_name": "HTMLModel",
      "state": {
       "layout": "IPY_MODEL_2648c1ce1ce7470285332ec60095fba2",
       "style": "IPY_MODEL_3efd5b82349f48a6bbb043af9b7d9c68",
       "value": "Add Category:"
      }
     },
     "e2ded34557e44f369f90cb8aae5fe680": {
      "model_module": "@jupyter-widgets/controls",
      "model_module_version": "1.5.0",
      "model_name": "DescriptionStyleModel",
      "state": {
       "description_width": "initial"
      }
     },
     "e2fcf39c7cbc41eda84740028891c75e": {
      "model_module": "@jupyter-widgets/controls",
      "model_module_version": "1.5.0",
      "model_name": "BoxModel",
      "state": {
       "_dom_classes": [
        "inner-card"
       ],
       "children": [
        "IPY_MODEL_4af7ae5f99b64b6588d6e0ba83d86e3f",
        "IPY_MODEL_1585181bdc324e1f86d57f9c929ceedb",
        "IPY_MODEL_05a47b790cb541ccbe4e05a18310e5c2"
       ],
       "layout": "IPY_MODEL_917d09fabeda4de99f4c79fa0e8efa1c"
      }
     },
     "e301e78890a344b6b3d1a731456ea4df": {
      "model_module": "@jupyter-widgets/controls",
      "model_module_version": "1.5.0",
      "model_name": "ButtonStyleModel",
      "state": {}
     },
     "e33479a573f24dc5b590dbd7a9fde62c": {
      "model_module": "@jupyter-widgets/controls",
      "model_module_version": "1.5.0",
      "model_name": "DescriptionStyleModel",
      "state": {
       "description_width": "initial"
      }
     },
     "e34c120b7d48409b8529f0b26c9fc570": {
      "model_module": "@jupyter-widgets/base",
      "model_module_version": "1.2.0",
      "model_name": "LayoutModel",
      "state": {}
     },
     "e34dcd44e5124eab9657acea46c771d2": {
      "model_module": "@jupyter-widgets/controls",
      "model_module_version": "1.5.0",
      "model_name": "DescriptionStyleModel",
      "state": {
       "description_width": ""
      }
     },
     "e3a218f8bbbe4108939724dce5bd8b22": {
      "model_module": "@jupyter-widgets/base",
      "model_module_version": "1.2.0",
      "model_name": "LayoutModel",
      "state": {}
     },
     "e3a62ccb8ea740a29877f194e15f194c": {
      "model_module": "@jupyter-widgets/base",
      "model_module_version": "1.2.0",
      "model_name": "LayoutModel",
      "state": {
       "width": "80px"
      }
     },
     "e3ba739079494b3b8c2c1490dcface0d": {
      "model_module": "@jupyter-widgets/controls",
      "model_module_version": "1.5.0",
      "model_name": "CheckboxModel",
      "state": {
       "description": "GLM",
       "disabled": false,
       "indent": false,
       "layout": "IPY_MODEL_80b4beb7f0284f90bd46604d3f1b1ac5",
       "style": "IPY_MODEL_cecfa01daefd426a844fee4af2f2e3a9",
       "value": true
      }
     },
     "e4a55b9df841413391a0f8cd5fbc1c12": {
      "model_module": "@jupyter-widgets/controls",
      "model_module_version": "1.5.0",
      "model_name": "HTMLModel",
      "state": {
       "layout": "IPY_MODEL_cdba8455e7724afe925e962e6b8db963",
       "style": "IPY_MODEL_bef261126e80402fb7dbb1662981fa49",
       "value": "L2_regularzation:"
      }
     },
     "e53740dbb59343ef819531a7c20cadbf": {
      "model_module": "@jupyter-widgets/controls",
      "model_module_version": "1.5.0",
      "model_name": "DescriptionStyleModel",
      "state": {
       "description_width": ""
      }
     },
     "e538014f524348db9bb9c4765c150b1c": {
      "model_module": "@jupyter-widgets/controls",
      "model_module_version": "1.5.0",
      "model_name": "HTMLModel",
      "state": {
       "layout": "IPY_MODEL_adce285b17f44a6a8810e1d7dfa2cce4",
       "style": "IPY_MODEL_4534d22e18b94b45afcfb82515ee6133",
       "value": "Early_stop_rounds:"
      }
     },
     "e628303a3f604cb08d0a4a3224064483": {
      "model_module": "@jupyter-widgets/output",
      "model_module_version": "1.0.0",
      "model_name": "OutputModel",
      "state": {
       "layout": "IPY_MODEL_db76d804d0d84c0397dbe87795c54a6a",
       "outputs": [
        {
         "data": {
          "application/vnd.jupyter.widget-view+json": {
           "model_id": "6ce2eda9a3db489ca9549d98a844de05",
           "version_major": 2,
           "version_minor": 0
          },
          "text/plain": "VBox(children=(ToggleButtons(options=('Group Setting', 'Metrics', 'Segmented Metrics', 'Thresholding', 'Featur…"
         },
         "metadata": {},
         "output_type": "display_data"
        }
       ]
      }
     },
     "e64a478b49c041dda53d021b9eba9339": {
      "model_module": "@jupyter-widgets/base",
      "model_module_version": "1.2.0",
      "model_name": "LayoutModel",
      "state": {
       "width": "auto"
      }
     },
     "e668cf3a3646486b98505ce48294b7f3": {
      "model_module": "@jupyter-widgets/controls",
      "model_module_version": "1.5.0",
      "model_name": "DropdownModel",
      "state": {
       "_options_labels": [
        "Select Model",
        "GLM"
       ],
       "description": "Model Name:",
       "index": 1,
       "layout": "IPY_MODEL_b4aafd08873a41f883fbe12a101b2f34",
       "style": "IPY_MODEL_0940b8a2ad3d4077ae6270e7b555a05d"
      }
     },
     "e73cdd935f1f4409a5064b6fc082ba09": {
      "model_module": "@jupyter-widgets/base",
      "model_module_version": "1.2.0",
      "model_name": "LayoutModel",
      "state": {
       "width": "80px"
      }
     },
     "e754d21d34334bd0b4b8c745465e8ed4": {
      "model_module": "@jupyter-widgets/controls",
      "model_module_version": "1.5.0",
      "model_name": "DescriptionStyleModel",
      "state": {
       "description_width": "initial"
      }
     },
     "e86a9ca10c9547b796e44713558959ba": {
      "model_module": "@jupyter-widgets/base",
      "model_module_version": "1.2.0",
      "model_name": "LayoutModel",
      "state": {
       "height": "30%",
       "width": "auto"
      }
     },
     "e97420e96d7c4151980e84bb65102e35": {
      "model_module": "@jupyter-widgets/base",
      "model_module_version": "1.2.0",
      "model_name": "LayoutModel",
      "state": {
       "width": "65%"
      }
     },
     "e975c1dabd8c416ab194703f8c9d55d0": {
      "model_module": "@jupyter-widgets/controls",
      "model_module_version": "1.5.0",
      "model_name": "ButtonModel",
      "state": {
       "_dom_classes": [
        "pbtn"
       ],
       "button_style": "danger",
       "icon": "cog",
       "layout": "IPY_MODEL_dc7d2626afe0420dad723b0baf4ffe36",
       "style": "IPY_MODEL_fac7e68bd80547d6bcebae0011b977a3"
      }
     },
     "e9a1df7bbab8401c8b9e1cdb1de922ce": {
      "model_module": "@jupyter-widgets/controls",
      "model_module_version": "1.5.0",
      "model_name": "DescriptionStyleModel",
      "state": {
       "description_width": "initial"
      }
     },
     "e9ee6121c2534e7a8ba182b4eb324871": {
      "model_module": "@jupyter-widgets/base",
      "model_module_version": "1.2.0",
      "model_name": "LayoutModel",
      "state": {
       "width": "auto"
      }
     },
     "ea218fbdbf864acfb44e880e7a82eefb": {
      "model_module": "@jupyter-widgets/base",
      "model_module_version": "1.2.0",
      "model_name": "LayoutModel",
      "state": {
       "justify_content": "space-between",
       "width": "50%"
      }
     },
     "ea9a803929cf483c96ffafaba142e91b": {
      "model_module": "@jupyter-widgets/base",
      "model_module_version": "1.2.0",
      "model_name": "LayoutModel",
      "state": {
       "display": "flex",
       "flex_flow": "row",
       "justify_content": "space-between",
       "width": "99%"
      }
     },
     "eaa27d9decaa46c5b477938a560d9482": {
      "model_module": "@jupyter-widgets/controls",
      "model_module_version": "1.5.0",
      "model_name": "HTMLModel",
      "state": {
       "layout": "IPY_MODEL_5253b8cf967b42b6857efa572ac22207",
       "style": "IPY_MODEL_55ac014a229543bab8871d91936d2d3c",
       "value": "Feature_decreasing:"
      }
     },
     "eaca6317915b414e8d361ef36898d582": {
      "model_module": "@jupyter-widgets/controls",
      "model_module_version": "1.5.0",
      "model_name": "DescriptionStyleModel",
      "state": {
       "description_width": "initial"
      }
     },
     "eaf23770b1454d658388c653d30b5c01": {
      "model_module": "@jupyter-widgets/controls",
      "model_module_version": "1.5.0",
      "model_name": "HTMLModel",
      "state": {
       "layout": "IPY_MODEL_85e6412c020c4bb5b6221d3d8006cad3",
       "style": "IPY_MODEL_bae766ee59304d2bbd21bace9da27309",
       "value": "<p>Random Seed:</p>"
      }
     },
     "eb32035ef0d14f44a312a3d2bb2ed627": {
      "model_module": "@jupyter-widgets/controls",
      "model_module_version": "1.5.0",
      "model_name": "DescriptionStyleModel",
      "state": {
       "description_width": ""
      }
     },
     "eb4ee0a1793b473fa491c2074f0a7b30": {
      "model_module": "@jupyter-widgets/controls",
      "model_module_version": "1.5.0",
      "model_name": "DescriptionStyleModel",
      "state": {
       "description_width": ""
      }
     },
     "eb591f71eb434b1c97a14dc4a7cc233b": {
      "model_module": "@jupyter-widgets/base",
      "model_module_version": "1.2.0",
      "model_name": "LayoutModel",
      "state": {
       "width": "auto"
      }
     },
     "eb84416c48324e77bc573e39d7c0eaa8": {
      "model_module": "@jupyter-widgets/controls",
      "model_module_version": "1.5.0",
      "model_name": "HTMLModel",
      "state": {
       "layout": "IPY_MODEL_741a17d8847342deb6868004137cbba9",
       "style": "IPY_MODEL_eb32035ef0d14f44a312a3d2bb2ed627",
       "value": "<p class='notification info'>Register GLM Done</p>"
      }
     },
     "ebb24ecceac14911b7fddeb38febfa39": {
      "model_module": "@jupyter-widgets/controls",
      "model_module_version": "1.5.0",
      "model_name": "DescriptionStyleModel",
      "state": {
       "description_width": ""
      }
     },
     "ebd8b415d35f4191b74f85f09f498c1b": {
      "model_module": "@jupyter-widgets/controls",
      "model_module_version": "1.5.0",
      "model_name": "ButtonStyleModel",
      "state": {}
     },
     "ec61d1256d574b609da2e20245f6ac1c": {
      "model_module": "@jupyter-widgets/controls",
      "model_module_version": "1.5.0",
      "model_name": "DescriptionStyleModel",
      "state": {
       "description_width": ""
      }
     },
     "ec7c1e25c3dc4566b2e213325997053e": {
      "model_module": "@jupyter-widgets/base",
      "model_module_version": "1.2.0",
      "model_name": "LayoutModel",
      "state": {}
     },
     "ed18fdcf0d7f4d46bc8fd1d6c7420a95": {
      "model_module": "@jupyter-widgets/controls",
      "model_module_version": "1.5.0",
      "model_name": "DescriptionStyleModel",
      "state": {
       "description_width": "initial"
      }
     },
     "ed45950f88a342d0875625efbca14398": {
      "model_module": "@jupyter-widgets/controls",
      "model_module_version": "1.5.0",
      "model_name": "HTMLModel",
      "state": {
       "layout": "IPY_MODEL_2881b06ce887455caae8a045fd2131a0",
       "style": "IPY_MODEL_4d270676997943b6b05cf50f970cfc09",
       "value": "Max_iterations:"
      }
     },
     "ed669e6bc60f4e4c887b2948273ad5e3": {
      "model_module": "@jupyter-widgets/controls",
      "model_module_version": "1.5.0",
      "model_name": "DescriptionStyleModel",
      "state": {
       "description_width": ""
      }
     },
     "ed6e0003e14d4163939e7ac970f18302": {
      "model_module": "@jupyter-widgets/controls",
      "model_module_version": "1.5.0",
      "model_name": "BoundedFloatTextModel",
      "state": {
       "layout": "IPY_MODEL_120a9c518b9d4bc2bdaad48aa5711491",
       "max": 10,
       "step": null,
       "style": "IPY_MODEL_9b728b8836f248118707704e2b213b12",
       "value": 0.6
      }
     },
     "ed73ad77129f4028b1afe694db97b67d": {
      "model_module": "@jupyter-widgets/controls",
      "model_module_version": "1.5.0",
      "model_name": "DescriptionStyleModel",
      "state": {
       "description_width": ""
      }
     },
     "eda84b01201446e5ae7810a6e14d68d2": {
      "model_module": "@jupyter-widgets/base",
      "model_module_version": "1.2.0",
      "model_name": "LayoutModel",
      "state": {
       "width": "155px"
      }
     },
     "ee1c58eabc2d4696b39cade74057077d": {
      "model_module": "@jupyter-widgets/controls",
      "model_module_version": "1.5.0",
      "model_name": "ButtonStyleModel",
      "state": {}
     },
     "ee5b913b79854ae0ad8cce7a06fbb7d2": {
      "model_module": "@jupyter-widgets/controls",
      "model_module_version": "1.5.0",
      "model_name": "HTMLModel",
      "state": {
       "layout": "IPY_MODEL_8593b926629d480f96f47374e9490cd1",
       "style": "IPY_MODEL_4172cb749e1e4075baa8f043f038c3b8",
       "value": "<p>Test Ratio:</p>"
      }
     },
     "ee764b4a8eef4e41a3ec1c106d895b4d": {
      "model_module": "@jupyter-widgets/controls",
      "model_module_version": "1.5.0",
      "model_name": "ButtonStyleModel",
      "state": {}
     },
     "ee98d156ebc44b628f4ad9d1bda7952f": {
      "model_module": "@jupyter-widgets/base",
      "model_module_version": "1.2.0",
      "model_name": "LayoutModel",
      "state": {
       "width": "auto"
      }
     },
     "ef66baa2e4984109a645a8b7e9e826f0": {
      "model_module": "@jupyter-widgets/controls",
      "model_module_version": "1.5.0",
      "model_name": "BoxModel",
      "state": {
       "layout": "IPY_MODEL_aafefff91dce4dfa9bcd8a503ddcde1b"
      }
     },
     "ef6a251d18e5451a97dc4dab8c539e4b": {
      "model_module": "@jupyter-widgets/controls",
      "model_module_version": "1.5.0",
      "model_name": "HTMLModel",
      "state": {
       "layout": "IPY_MODEL_6db92288ef88475ea6837286544d48bf",
       "style": "IPY_MODEL_b8b716dbfe3141969c5b711fa9f4c11b",
       "value": "<div class='divider'></div>"
      }
     },
     "ef9cdbd3131548b48bf9852115fbd075": {
      "model_module": "@jupyter-widgets/base",
      "model_module_version": "1.2.0",
      "model_name": "LayoutModel",
      "state": {
       "align_items": "center",
       "justify_content": "space-between",
       "width": "100%"
      }
     },
     "f01f18ef88af4337bf293a2d8137116a": {
      "model_module": "@jupyter-widgets/controls",
      "model_module_version": "1.5.0",
      "model_name": "DescriptionStyleModel",
      "state": {
       "description_width": "initial"
      }
     },
     "f06f6b90fcf24f47994c022fd43f3008": {
      "model_module": "@jupyter-widgets/controls",
      "model_module_version": "1.5.0",
      "model_name": "HTMLModel",
      "state": {
       "layout": "IPY_MODEL_7a55ad7750d44e9590b85311a52c32c7",
       "style": "IPY_MODEL_9258c25d065a45329674224cd9f93610",
       "value": "Learning_rate:"
      }
     },
     "f077597ff27d4b238d6a19e212cac629": {
      "model_module": "@jupyter-widgets/controls",
      "model_module_version": "1.5.0",
      "model_name": "BoundedIntTextModel",
      "state": {
       "layout": "IPY_MODEL_22603a21ca4f4aee946c91ce7e2dc38f",
       "min": 1,
       "style": "IPY_MODEL_19bff748822b4cba92f7204699a2632f",
       "value": 5
      }
     },
     "f0bbe43096b0413794723a3c91d82f5e": {
      "model_module": "@jupyter-widgets/controls",
      "model_module_version": "1.5.0",
      "model_name": "DescriptionStyleModel",
      "state": {
       "description_width": "initial"
      }
     },
     "f0e15f7e07e443b18cd3ad7367a54b6f": {
      "model_module": "@jupyter-widgets/base",
      "model_module_version": "1.2.0",
      "model_name": "LayoutModel",
      "state": {
       "width": "55%"
      }
     },
     "f0f396bfe17c4e08b1aeda8df08a8f8d": {
      "model_module": "@jupyter-widgets/controls",
      "model_module_version": "1.5.0",
      "model_name": "HTMLModel",
      "state": {
       "layout": "IPY_MODEL_e27edb4fb33e4b3ea19bf0e58c8c3418",
       "style": "IPY_MODEL_62090a02e84e45cb8d62db28f181e783",
       "value": "<div style='margin-top: 10px'></div>"
      }
     },
     "f199df404dca4b7294e354bc3bc92ad4": {
      "model_module": "@jupyter-widgets/controls",
      "model_module_version": "1.5.0",
      "model_name": "HTMLModel",
      "state": {
       "layout": "IPY_MODEL_5a49cf9087b241159658481c2d6a7023",
       "style": "IPY_MODEL_6fe273239fcb4f1db1d2b4fe0d5a16b7",
       "value": "n_estimators:"
      }
     },
     "f243c632db7f4bbda68d0cba4fbd9c5e": {
      "model_module": "@jupyter-widgets/base",
      "model_module_version": "1.2.0",
      "model_name": "LayoutModel",
      "state": {}
     },
     "f2745c60a3b5423d9ac7e880aa7ff033": {
      "model_module": "@jupyter-widgets/controls",
      "model_module_version": "1.5.0",
      "model_name": "HTMLModel",
      "state": {
       "layout": "IPY_MODEL_c95dac79156c43d8a9583fec416d5b28",
       "style": "IPY_MODEL_30ef1e88de4d4833a9dac96c180d148d",
       "value": "Layer_sizes:"
      }
     },
     "f2fa88ffa5ba40349c63d060fb916561": {
      "model_module": "@jupyter-widgets/controls",
      "model_module_version": "1.5.0",
      "model_name": "HTMLModel",
      "state": {
       "layout": "IPY_MODEL_4ee6ee5499cb4223bfd06c42b0d0770c",
       "style": "IPY_MODEL_b43e18fb15034363a1fc149e6279ecfa",
       "value": "Feature_increasing:"
      }
     },
     "f383e887cfce4b7bb7aa6640ec3a617f": {
      "model_module": "@jupyter-widgets/base",
      "model_module_version": "1.2.0",
      "model_name": "LayoutModel",
      "state": {
       "display": "flex",
       "flex_flow": "column",
       "width": "auto"
      }
     },
     "f47b3aa53de0450d93ba80106e001d3c": {
      "model_module": "@jupyter-widgets/controls",
      "model_module_version": "1.5.0",
      "model_name": "BoundedIntTextModel",
      "state": {
       "layout": "IPY_MODEL_217fe7283d1749348661dfa854968049",
       "max": 10000,
       "min": 1,
       "style": "IPY_MODEL_e33479a573f24dc5b590dbd7a9fde62c",
       "value": 100
      }
     },
     "f4c6fd95d6d848e1859d1eaf4c664402": {
      "model_module": "@jupyter-widgets/base",
      "model_module_version": "1.2.0",
      "model_name": "LayoutModel",
      "state": {
       "height": "25px",
       "width": "35px"
      }
     },
     "f58a333e690344b19e4e283337490409": {
      "model_module": "@jupyter-widgets/controls",
      "model_module_version": "1.5.0",
      "model_name": "VBoxModel",
      "state": {
       "children": [
        "IPY_MODEL_6b913500f6a643e3a1ee57a5d75019ed",
        "IPY_MODEL_d1ba8699552d4dacbd27fded628b3079",
        "IPY_MODEL_4dcb22432e884802b9153780dc24ff9a",
        "IPY_MODEL_99f67701492747dfbb877b6f2cd178a9"
       ],
       "layout": "IPY_MODEL_3ca61982aca04e328e45df684857af7f"
      }
     },
     "f5c1d26e894a4187952817306459b2a3": {
      "model_module": "@jupyter-widgets/controls",
      "model_module_version": "1.5.0",
      "model_name": "HTMLModel",
      "state": {
       "layout": "IPY_MODEL_c83c7cc1a7f842d68f8a8ce4d704affa",
       "style": "IPY_MODEL_b0bcd8a39a6640168345511e4356e26c",
       "value": "<div class='divider'></div>"
      }
     },
     "f5d5612b72834385bc59408e35949423": {
      "model_module": "@jupyter-widgets/base",
      "model_module_version": "1.2.0",
      "model_name": "LayoutModel",
      "state": {
       "align_items": "center",
       "display": "flex",
       "flex_flow": "row",
       "width": "100%"
      }
     },
     "f5e89e728f6f4d4da98c331e95e23e71": {
      "model_module": "@jupyter-widgets/base",
      "model_module_version": "1.2.0",
      "model_name": "LayoutModel",
      "state": {
       "display": "flex",
       "flex_flow": "column",
       "width": "100%"
      }
     },
     "f5ff0bede5d24394abd23f409a79b495": {
      "model_module": "@jupyter-widgets/controls",
      "model_module_version": "1.5.0",
      "model_name": "VBoxModel",
      "state": {
       "_dom_classes": [
        "card-with-tab"
       ],
       "children": [
        "IPY_MODEL_1c9d62df20c641fa8bba73d48d15576e",
        "IPY_MODEL_b26041ac771e4cb3bbec0ad2491ae7da",
        "IPY_MODEL_e628303a3f604cb08d0a4a3224064483"
       ],
       "layout": "IPY_MODEL_1b06e186a6e941ba8dc97c7d4b003883"
      }
     },
     "f61776ae51354555b9049f8462bbe9ee": {
      "model_module": "@jupyter-widgets/base",
      "model_module_version": "1.2.0",
      "model_name": "LayoutModel",
      "state": {}
     },
     "f65a27e518124d849d88a9dc6ec12e37": {
      "model_module": "@jupyter-widgets/controls",
      "model_module_version": "1.5.0",
      "model_name": "DescriptionStyleModel",
      "state": {
       "description_width": ""
      }
     },
     "f6ff36dbf68e4c1a88196dd5e109c935": {
      "model_module": "@jupyter-widgets/base",
      "model_module_version": "1.2.0",
      "model_name": "LayoutModel",
      "state": {}
     },
     "f7525ea7078648849d845bd75f4299a6": {
      "model_module": "@jupyter-widgets/controls",
      "model_module_version": "1.5.0",
      "model_name": "DescriptionStyleModel",
      "state": {
       "description_width": ""
      }
     },
     "f7787e3591814529a0a76298bbdf69d9": {
      "model_module": "@jupyter-widgets/controls",
      "model_module_version": "1.5.0",
      "model_name": "DescriptionStyleModel",
      "state": {
       "description_width": ""
      }
     },
     "f7c7e1bacda3444d8c445f9dbe39c8cb": {
      "model_module": "@jupyter-widgets/base",
      "model_module_version": "1.2.0",
      "model_name": "LayoutModel",
      "state": {
       "width": "65%"
      }
     },
     "f880af88d04d4fa6b7b4d1b329b93c09": {
      "model_module": "@jupyter-widgets/base",
      "model_module_version": "1.2.0",
      "model_name": "LayoutModel",
      "state": {}
     },
     "f94c29f779994da2ab7dc0e814af1c3d": {
      "model_module": "@jupyter-widgets/base",
      "model_module_version": "1.2.0",
      "model_name": "LayoutModel",
      "state": {
       "width": "auto"
      }
     },
     "f98a3953ff9849b5bb2ef28ec14a978f": {
      "model_module": "@jupyter-widgets/controls",
      "model_module_version": "1.5.0",
      "model_name": "BoundedIntTextModel",
      "state": {
       "layout": "IPY_MODEL_a510225cc860438fbdbdc9dbfb7d6a90",
       "max": 100000,
       "style": "IPY_MODEL_2d65d6b1dc6f4ceeba007dd7684413bf",
       "value": 5000
      }
     },
     "f9f45f483df14e2298141b38870e18f9": {
      "model_module": "@jupyter-widgets/controls",
      "model_module_version": "1.5.0",
      "model_name": "HTMLModel",
      "state": {
       "layout": "IPY_MODEL_79b01084f8d748f0b2b65afb302119e8",
       "style": "IPY_MODEL_d189bfd95da3422ca7e4bd87c3f24911",
       "value": "Feature_decreasing:"
      }
     },
     "fa062661b1694cdabc5e2d69cbb77d33": {
      "model_module": "@jupyter-widgets/controls",
      "model_module_version": "1.5.0",
      "model_name": "VBoxModel",
      "state": {
       "children": [
        "IPY_MODEL_0d25e59c4b1f43d3852d3f94a19f1fdd",
        "IPY_MODEL_ee5b913b79854ae0ad8cce7a06fbb7d2"
       ],
       "layout": "IPY_MODEL_06bfe09c72ee480484737e9ad882b760"
      }
     },
     "fa7dbb865c8343099f676fdc96f30046": {
      "model_module": "@jupyter-widgets/controls",
      "model_module_version": "1.5.0",
      "model_name": "DescriptionStyleModel",
      "state": {
       "description_width": "initial"
      }
     },
     "fac7e68bd80547d6bcebae0011b977a3": {
      "model_module": "@jupyter-widgets/controls",
      "model_module_version": "1.5.0",
      "model_name": "ButtonStyleModel",
      "state": {}
     },
     "fadd0ca4bdbc42239c2892071c70f893": {
      "model_module": "@jupyter-widgets/controls",
      "model_module_version": "1.5.0",
      "model_name": "HTMLModel",
      "state": {
       "layout": "IPY_MODEL_bbd991690dd3419db91cce1f2b4edae3",
       "style": "IPY_MODEL_1ecc71afca854ca6927160ceda2137e6",
       "value": "\n        <style>\n\n        .left-label {\n            width: 30%;\n        }\n\n        .card-panel {\n            -webkit-transition: -webkit-box-shadow .25s;\n            transition: -webkit-box-shadow .25s;\n            transition: box-shadow .25s;\n            transition: box-shadow .25s, -webkit-box-shadow .25s;\n            padding: 24px;\n            margin: 0.5rem 0 1rem 0;\n            border-radius: 2px;\n            background-color: #fff;\n        }\n\n        .card {\n            position: relative;\n            margin: 0.5rem 0.1rem 1rem 0.2rem;\n            background-color: #fff;\n            -webkit-transition: -webkit-box-shadow .25s;\n            transition: -webkit-box-shadow .25s;\n            transition: box-shadow .25s;\n            transition: box-shadow .25s, -webkit-box-shadow .25s;\n            border-radius: 2px;\n            box-shadow: 0 2px 2px 0 rgb(0 0 0 / 14%), 0 3px 1px -2px rgb(0 0 0 / 12%), 0 1px 5px 0 rgb(0 0 0 / 20%);\n            padding: 24px;\n            color: white;\n        }\n\n        .card .card-title {\n            font-size: 24px;\n            font-weight: 300;\n        }\n\n        @media only screen and (min-width: 800px) {\n            /* For notebook: */\n            .card {width: 99% !important;}\n        }\n\n        @media only screen and (min-width: 1400px) {\n            /* For colab: */\n            .card {width: 99% !important;}\n        }\n\n        .blue-grey.darken-1 {\n            background-color: #546e7a !important;\n        }\n\n        .small-card {\n            position: relative;\n            margin: 0.5rem 0 1rem 0;\n            background-color: #fff;\n            -webkit-transition: -webkit-box-shadow .25s;\n            transition: -webkit-box-shadow .25s;\n            transition: box-shadow .25s;\n            transition: box-shadow .25s, -webkit-box-shadow .25s;\n            border-radius: 2px;\n            box-shadow: 0 2px 2px 0 rgb(0 0 0 / 14%), 0 3px 1px -2px rgb(0 0 0 / 12%), 0 1px 5px 0 rgb(0 0 0 / 20%);\n            padding: 0px 5px 0px 5px;\n            color: white;\n        }\n\n        .inner-card {\n            position: relative;\n            background-color: #fff;\n            -webkit-transition: -webkit-box-shadow .25s;\n            transition: -webkit-box-shadow .25s;\n            transition: box-shadow .25s;\n            transition: box-shadow .25s, -webkit-box-shadow .25s;\n            border-radius: 2px;\n            box-shadow: 0 2px 2px 0 rgb(0 0 0 / 14%), 0 3px 1px -2px rgb(0 0 0 / 12%), 0 1px 5px 0 rgb(0 0 0 / 20%);\n            padding: 20px;\n            color: white;\n            margin: 0px 1px 1px 1px;\n        }\n\n        .card-with-tab {\n            position: relative;\n            margin: 0.5rem 0.1rem 1rem 0.2rem;\n            background-color: #fff;\n            -webkit-transition: -webkit-box-shadow .25s;\n            transition: -webkit-box-shadow .25s;\n            transition: box-shadow .25s;\n            transition: box-shadow .25s, -webkit-box-shadow .25s;\n            border-radius: 2px;\n            box-shadow: 0 2px 2px 0 rgb(0 0 0 / 14%), 0 3px 1px -2px rgb(0 0 0 / 12%), 0 1px 5px 0 rgb(0 0 0 / 20%);\n            padding: 24px;\n            color: white;\n        }\n\n        .card-with-tab button {\n            width: auto;\n            padding: 12px 40px;\n        }\n\n        .list {\n            padding: 0px 10px;\n            box-shadow: 0 2px 2px 0 rgb(0 0 0 / 14%), 0 3px 1px -2px rgb(0 0 0 / 12%), 0 1px 5px 0 rgb(0 0 0 / 20%);\n            margin: 0px 1px 60px 1px;\n        }\n\n        .list-item {\n            padding: 10px 0px;\n            border-width: 0;\n            border-style: solid;\n            border-color: rgba(0, 0, 0, 0.08);\n            border-bottom-width: thin;\n        }\n\n        .divider {\n            margin: 10px 0px;\n            border-width: 0;\n            border-style: solid;\n            border-color: rgba(0, 0, 0, 0.08);\n            border-bottom-width: thin;\n        }\n\n        .hr {\n            margin: 0;\n            -webkit-flex-shrink: 0;\n            -ms-flex-negative: 0;\n            flex-shrink: 0;\n            border-width: 0;\n            border-style: solid;\n            border-color: rgba(0, 0, 0, 0.08);\n            border-bottom-width: thin;\n        }\n\n        .notification {\n            transition: box-shadow 300ms cubic-bezier(0.4, 0, 0.2, 1) 0ms;\n            border-radius: 4px;\n            box-shadow: 0 2px 2px 0 rgb(0 0 0 / 14%), 0 3px 1px -2px rgb(0 0 0 / 12%), 0 1px 5px 0 rgb(0 0 0 / 20%);\n            font-family: Roboto, Helvetica, Arial, sans-serif;\n            font-weight: 500;\n            font-size: 12px;\n            line-height: 1.43;\n            letter-spacing: 0.01071em;\n            background-color: rgb(2, 136, 209);\n            display: flex;\n            padding: 6px 16px;\n            color: rgb(255, 255, 255);\n            margin-top: 10px;\n        }\n\n        .success {\n            background-color: #EDF7ED;\n            color: #1E4620;\n        }\n\n        .error {\n            background-color: #FDEDED;\n            color: #5F2120;\n        }\n\n        .info {\n            background-color: #E5F6FD;\n            color: #528298;\n        }\n\n        .warn {\n            background-color: #FFF4E5;\n            color: #663C00;\n        }\n\n        .margin-top-20 {\n            margin-top: 20px;\n        }\n\n        .hide {\n            display: none;\n        }\n\n        .pbtn {\n            display: inline-flex;\n            -webkit-box-align: center;\n            align-items: center;\n            -webkit-box-pack: center;\n            justify-content: center;\n            position: relative;\n            box-sizing: border-box;\n            -webkit-tap-highlight-color: transparent;\n            outline: 0px;\n            border: 0px;\n            margin: 0px;\n            cursor: pointer;\n            user-select: none;\n            vertical-align: middle;\n            appearance: none;\n            text-decoration: none;\n            font-family: Roboto, Helvetica, Arial, sans-serif;\n            font-weight: 550;\n            font-size: 12px;\n            line-height: 1.75;\n            letter-spacing: 0.02857em;\n            text-transform: uppercase;\n            min-width: 64px;\n            padding: 6px 16px;\n            border-radius: 4px;\n            transition: background-color 250ms cubic-bezier(0.4, 0, 0.2, 1) 0ms, box-shadow 250ms cubic-bezier(0.4, 0, 0.2, 1) 0ms, border-color 250ms cubic-bezier(0.4, 0, 0.2, 1) 0ms, color 250ms cubic-bezier(0.4, 0, 0.2, 1) 0ms;\n            color: rgb(255, 255, 255);\n            background-color: #D71E28;\n            box-shadow: rgb(0 0 0 / 20%) 0px 3px 1px -2px, rgb(0 0 0 / 14%) 0px 2px 2px 0px, rgb(0 0 0 / 12%) 0px 1px 5px 0px;\n        }\n\n        .output_subarea {\n            padding: 0px !important;\n        }\n\n        .ptable, .pth, .ptd {\n            border: none;\n        }\n\n        .pth, .ptd {\n            max-width: 150px;\n            white-space: nowrap;\n            overflow: hidden;\n            -o-text-overflow: ellipsis;\n            -ms-text-overflow: ellipsis;\n            text-overflow: ellipsis;\n        }\n\n        .ptable {\n            display: table;\n            border-collapse: collapse;\n            border-spacing: 0;\n        }\n\n        .ptable.striped .ptr {\n            border-bottom: none;\n        }\n\n        .ptable.striped > .ptbody > .ptr:nth-child(odd) {\n            background-color: rgba(242, 242, 242, 0.5);\n        }\n\n        .ptable.striped > .ptbody > .ptr > .ptd {\n            border-radius: 0;\n        }\n\n        .ptable.highlight > .ptbody > .ptr {\n            -webkit-transition: background-color .25s ease;\n            transition: background-color .25s ease;\n        }\n\n        .ptable.highlight > .ptbody > .ptr:hover {\n            background-color: rgba(242, 242, 242, 0.5);\n        }\n\n        .ptable.centered .pthead .ptr .pth, .ptable.centered .ptbody .ptr .ptd {\n            text-align: center;\n        }\n\n        .ptr {\n            border-bottom: 1px solid rgba(0, 0, 0, 0.12);\n        }\n\n        .ptr.hightlight {\n            background-color: yellow !important;\n        }\n\n        .ptd, .pth {\n            padding: 0.2rem 0.6rem;\n            display: table-cell;\n            text-align: right;\n            vertical-align: middle;\n            border-radius: 2px;\n            position: relative;\n        }\n\n        .ptr.grey {\n            background-color: grey !important;\n        }\n\n        .ptr.strikeout .ptd:before {\n            content: \" \";\n            position: absolute;\n            top: 50%;\n            left: 0;\n            border-bottom: 1px solid #111;\n            width: 100%;\n        }\n\n        .widget-toggle-button {\n            display: inline-flex;\n            -webkit-box-align: center;\n            align-items: center;\n            -webkit-box-pack: center;\n            justify-content: center;\n            box-sizing: border-box;\n            -webkit-tap-highlight-color: transparent;\n            background-color: transparent !important;\n            outline: 0px;\n            border: 0px;\n            border-bottom: 2px solid #E4E4E4 !important;\n            box-shadow: none !important;\n            margin: 0px !important;\n            border-radius: 0px;\n            cursor: pointer;\n            user-select: none;\n            vertical-align: middle;\n            appearance: none;\n            text-decoration: none;\n            font-family: Roboto, Helvetica, Arial, sans-serif;\n            font-weight: 500;\n            font-size: 14px;\n            line-height: 1.25;\n            letter-spacing: 0.02857em;\n            max-width: 360px;\n            min-width: 90px;\n            position: relative;\n            min-height: 48px;\n            flex-shrink: 0;\n            padding: 12px 16px;\n            overflow: hidden;\n            white-space: normal;\n            text-align: center;\n            flex-direction: column;\n            color: rgba(0, 0, 0, 0.6);\n        }\n\n        .mod-active {\n            color: rgb(25, 118, 210) !important;\n            border-bottom: 2px solid rgb(25, 118, 210) !important;\n        }\n\n        .narrow-tab button {\n            max-width: 15%;\n        }\n\n        .overflow-fix .jupyter-widgets {\n            overflow: auto;\n        }\n\n        .inner-padding {\n            padding-top: 20px;\n        }\n\n        .fix-img img {\n            width: 100%;\n        }\n\n        .flex-reverse-for-update-button {\n            flex-direction: row-reverse;\n            margin-right: 50px;\n        }\n\n        .data-summary-tab {\n            max-height: 400px;\n        }\n\n        .input-width-with-parent .widget-dropdown {\n            width: 100%;\n        }\n\n        .input-width-with-parent .widget-text {\n            width: 100%;\n        }\n\n        .no-margin {\n            margin: 0px;\n        }\n\n        .widget-hprogress label {\n            text-align: left;\n        }\n\n        .widget-dropdown label {\n            margin-right: 10px;\n        }\n\n        .form .widget-dropdown {\n            width: auto;\n        }\n\n        .form .widget-text {\n            width: auto;\n        }\n\n        .form p {\n            margin: 0px;\n        }\n\n        .widget-dropdown {\n            white-space: nowrap;\n            overflow: hidden;\n            -o-text-overflow: ellipsis;\n            -ms-text-overflow: ellipsis;\n            text-overflow: ellipsis;\n        }\n\n        .progress-train label {\n            margin-right: 10px;\n        }\n\n        select {\n            height: 97% !important;\n        }\n\n        .no-overflow {\n            overflow: none;\n        }\n\n        .split-btn button {\n            margin-bottom: 2px;\n        }\n\n        .register-btn {\n            width: 50%\n        }\n\n        .register-btn-colab {\n            width: 40%\n        }\n\n        .fix-config-from-overflow .jp-OutputArea-child {\n            display: inherit;\n        }\n        \n        .checkbox-center input[type=\"checkbox\"] {\n            vertical-align: middle;\n        }\n\n        input[type=\"checkbox\"] {\n            vertical-align: middle;\n        }\n\n        </style>\n        "
      }
     },
     "fb05dc71a78d474c82d0c29be4243a5e": {
      "model_module": "@jupyter-widgets/controls",
      "model_module_version": "1.5.0",
      "model_name": "DescriptionStyleModel",
      "state": {
       "description_width": "initial"
      }
     },
     "fb7014876091441caf186ba0675ddc38": {
      "model_module": "@jupyter-widgets/controls",
      "model_module_version": "1.5.0",
      "model_name": "BoxModel",
      "state": {
       "layout": "IPY_MODEL_0d45072705774a53a1e7220c5aacf5d6"
      }
     },
     "fc5530a1f80241fa807919dcf2b91729": {
      "model_module": "@jupyter-widgets/base",
      "model_module_version": "1.2.0",
      "model_name": "LayoutModel",
      "state": {}
     },
     "fc78394aa32c423ebfbe050dc18b2bf5": {
      "model_module": "@jupyter-widgets/base",
      "model_module_version": "1.2.0",
      "model_name": "LayoutModel",
      "state": {
       "width": "65%"
      }
     },
     "fcb303a58cc84855bc382748b009679a": {
      "model_module": "@jupyter-widgets/base",
      "model_module_version": "1.2.0",
      "model_name": "LayoutModel",
      "state": {
       "width": "65%"
      }
     },
     "fcdb4313d36a4ae4abda61038ce37d5b": {
      "model_module": "@jupyter-widgets/controls",
      "model_module_version": "1.5.0",
      "model_name": "ButtonStyleModel",
      "state": {}
     },
     "fd8d17e11b7d4acb91833dd1b19df353": {
      "model_module": "@jupyter-widgets/base",
      "model_module_version": "1.2.0",
      "model_name": "LayoutModel",
      "state": {
       "width": "65%"
      }
     },
     "fdc8137b0649411887e878ba7573dffa": {
      "model_module": "@jupyter-widgets/controls",
      "model_module_version": "1.5.0",
      "model_name": "TextModel",
      "state": {
       "layout": "IPY_MODEL_bee0fb7266bd4418982b0165f8d3415b",
       "placeholder": "[40,40]...",
       "style": "IPY_MODEL_26db138e45d74e3f8b32b4fd6f6312ef",
       "value": "[20,20]"
      }
     },
     "fe2a132255294e518a7ac6dc63ffbb8f": {
      "model_module": "@jupyter-widgets/base",
      "model_module_version": "1.2.0",
      "model_name": "LayoutModel",
      "state": {}
     },
     "fe2e80dc8274419ba311bec6adcb02b8": {
      "model_module": "@jupyter-widgets/controls",
      "model_module_version": "1.5.0",
      "model_name": "ButtonStyleModel",
      "state": {}
     },
     "fe62beb53060472791f0da4be7b125a1": {
      "model_module": "@jupyter-widgets/controls",
      "model_module_version": "1.5.0",
      "model_name": "HTMLModel",
      "state": {
       "layout": "IPY_MODEL_d30129614162438596c856496aefe3ce",
       "style": "IPY_MODEL_42ed1b517313441c9b2ffcf4f12f7483",
       "value": "Feature_increasing:"
      }
     },
     "fe676cf415144a5085b2413966d8b397": {
      "model_module": "@jupyter-widgets/controls",
      "model_module_version": "1.5.0",
      "model_name": "VBoxModel",
      "state": {
       "children": [
        "IPY_MODEL_3881a34e9d804d8e8596f4047b642b5d"
       ],
       "layout": "IPY_MODEL_30b64971be504d16961fcfb2401a2784"
      }
     },
     "fe6b83ebb87e4bd1abdd81ff7119fdda": {
      "model_module": "@jupyter-widgets/base",
      "model_module_version": "1.2.0",
      "model_name": "LayoutModel",
      "state": {
       "align_items": "center",
       "justify_content": "space-between",
       "width": "100%"
      }
     },
     "feb07aa7e1eb45a19d0d5527cb80675d": {
      "model_module": "@jupyter-widgets/base",
      "model_module_version": "1.2.0",
      "model_name": "LayoutModel",
      "state": {
       "height": "25px",
       "width": "35px"
      }
     },
     "fec00f5890f541c9bad34ab44ad8fde7": {
      "model_module": "@jupyter-widgets/controls",
      "model_module_version": "1.5.0",
      "model_name": "BoxModel",
      "state": {
       "children": [
        "IPY_MODEL_892e202d05de42269050e57cf7188835",
        "IPY_MODEL_278210b254044119a03db304a977c88f"
       ],
       "layout": "IPY_MODEL_ca8c022c463345a282d66ab2ba942085"
      }
     },
     "fecab481e6154f00bc350f965130b4ac": {
      "model_module": "@jupyter-widgets/base",
      "model_module_version": "1.2.0",
      "model_name": "LayoutModel",
      "state": {}
     },
     "fef5eec25da8493796364b25cc2cad7e": {
      "model_module": "@jupyter-widgets/controls",
      "model_module_version": "1.5.0",
      "model_name": "HTMLModel",
      "state": {
       "layout": "IPY_MODEL_15b61ff78cce4c509d7bb8c144c7591d",
       "style": "IPY_MODEL_44bc955a5bc64d4d83e8a72ac77839b8",
       "value": "<h4 style='margin: 10px 0px;'>Customize Model</h4>"
      }
     },
     "ff151a928efa49a5b55478671b874775": {
      "model_module": "@jupyter-widgets/controls",
      "model_module_version": "1.5.0",
      "model_name": "VBoxModel",
      "state": {
       "_dom_classes": [
        "input-width-with-parent"
       ],
       "children": [
        "IPY_MODEL_d77dc8288677424ba0f6fd837120529a",
        "IPY_MODEL_43800e723b8b492c91acc5809702430e",
        "IPY_MODEL_321949033cf9470c8ac81e669338e34d",
        "IPY_MODEL_c4dfc064c74f4358845ec74fe426069c"
       ],
       "layout": "IPY_MODEL_19ff6630d71e473b951e96857b412588"
      }
     },
     "ff8d605677a04c399c829f60a9d6e4b3": {
      "model_module": "@jupyter-widgets/output",
      "model_module_version": "1.0.0",
      "model_name": "OutputModel",
      "state": {
       "layout": "IPY_MODEL_58ade90c6820486cb18adf45188fbf9d",
       "outputs": [
        {
         "data": {
          "application/vnd.jupyter.widget-view+json": {
           "model_id": "26daea57dc07407584ea32a97a626118",
           "version_major": 2,
           "version_minor": 0
          },
          "text/plain": "HTML(value=\"\\n        <table class='ptable striped'>\\n            <thead class='pthead'>\\n                <tr …"
         },
         "metadata": {},
         "output_type": "display_data"
        }
       ]
      }
     },
     "ffcfa898661e4085a22ca524731c21cd": {
      "model_module": "@jupyter-widgets/base",
      "model_module_version": "1.2.0",
      "model_name": "LayoutModel",
      "state": {
       "width": "auto"
      }
     }
    },
    "version_major": 2,
    "version_minor": 0
   }
  }
 },
 "nbformat": 4,
 "nbformat_minor": 1
}
