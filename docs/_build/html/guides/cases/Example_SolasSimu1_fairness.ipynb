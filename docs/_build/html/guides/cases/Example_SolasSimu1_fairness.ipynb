{
 "cells": [
  {
   "cell_type": "markdown",
   "metadata": {
    "id": "xdsf78IH3_c7"
   },
   "source": [
    "# Fairness Simulation Study\n",
    "\n",
    "This example notebook demonstrates how to use PiML in its low-code mode for testing fairness of machine learning models using the SolasSimu1 data. This is a simulated dataset, modified from the `Friedman #1` regression problem. The covariates used for modeling are `Segment`, `x1`, `x2`, ..., `x5`, the response `Label` is binary and it is a classification problem. The rest variables are demographic variables used for testing fairness. The data is contributed by [Solas-AI](https://github.com/SolasAI/solas-ai-disparity).\n",
    "\n",
    "Click the ipynb links to run examples in [Google Colab](https://colab.research.google.com/github/SelfExplainML/PiML-Toolbox/blob/main/examples/Example_SolasSimu1_fairness.ipynb)."
   ]
  },
  {
   "cell_type": "markdown",
   "metadata": {
    "id": "4kcbghi53_dB"
   },
   "source": [
    "## Load and Prepare Data"
   ]
  },
  {
   "cell_type": "code",
   "execution_count": null,
   "metadata": {},
   "outputs": [],
   "source": [
    "from piml import Experiment\n",
    "exp = Experiment()"
   ]
  },
  {
   "cell_type": "code",
   "execution_count": 2,
   "metadata": {
    "colab": {
     "base_uri": "https://localhost:8080/",
     "height": 459,
     "referenced_widgets": [
      "481f7ab2135d47dcaf8b535ec4eadec0",
      "3b80105558b145428b31f0b3a9577e36",
      "f27998197d9343c1ae8628a82433780f",
      "c80a473e9e2c450887022abdad9c74c8",
      "149b86d9c21645ce9a3f4bc623b86e5f",
      "0e97cec26cb841268859def553248094",
      "eda99d180ecb4e9b8fa57b5fd5ccc247",
      "78daf90cb4314cb6b1bdd149b7fae17d",
      "ab38cb51d5b148e3aa3ab03035c21bea",
      "91681711fb5a492e9cbe391c4d86817d",
      "68976574c7394749ba850d8d3a023d80",
      "b97bc409fcaf4f74a40a686fdc5bf2da",
      "404ac58e96624594969efdb3adbad914",
      "f61efd2050b8484d8d3367dac7648448",
      "5cbeca3da06a4270be92f9868c196859"
     ]
    },
    "id": "1HXFMmmB3_dF",
    "outputId": "0cf414c3-1b9a-4b0d-8d49-4cb1f659f83d"
   },
   "outputs": [
    {
     "data": {
      "application/vnd.jupyter.widget-view+json": {
       "model_id": "82581a56946a450f99308540b44ac2b0",
       "version_major": 2,
       "version_minor": 0
      },
      "text/plain": [
       "HTML(value='\\n        <style>\\n\\n        .left-label {\\n            width: 30%;\\n        }\\n\\n        .card-pa…"
      ]
     },
     "metadata": {},
     "output_type": "display_data"
    },
    {
     "data": {
      "application/javascript": [
       "\n",
       "        IPython.OutputArea.prototype._should_scroll = function(lines) {\n",
       "            return false;\n",
       "        }"
      ],
      "text/plain": [
       "<IPython.core.display.Javascript object>"
      ]
     },
     "metadata": {},
     "output_type": "display_data"
    },
    {
     "data": {
      "application/vnd.jupyter.widget-view+json": {
       "model_id": "f2f5715dc6184bf3a4bd128b72200e12",
       "version_major": 2,
       "version_minor": 0
      },
      "text/plain": [
       "VBox(children=(Dropdown(layout=Layout(width='20%'), options=('Select Data', 'CoCircles', 'Friedman', 'BikeShar…"
      ]
     },
     "metadata": {},
     "output_type": "display_data"
    }
   ],
   "source": [
    "# Choose SolasSimu1\n",
    "exp.data_loader()"
   ]
  },
  {
   "cell_type": "code",
   "execution_count": 3,
   "metadata": {
    "colab": {
     "base_uri": "https://localhost:8080/",
     "height": 527,
     "referenced_widgets": [
      "1af357c295474ad39532722da75558cf",
      "da3c52a606cb4695aa542f7b92e05ebd",
      "ed493765cd56420593d5e7e00bc53df1",
      "99acb59c0d5746b99c0fd1c9ea47f2b9",
      "e417691d7f994bc7931e2fe0c7513800",
      "faab1435c92346d2a5c916da40f31166",
      "f0fed872fb1b41a59306d63adae5cb7d",
      "36ffecd82612453e94c661e016bf3149",
      "f25b5e474c3b42f88fb02226e489512c",
      "25f6ba53f9284b84b60f1611d0faf285",
      "0064614023b14d8fa6122df7518659a8",
      "ee6ce02f74fc42beb44fc44685ecb0df",
      "52ed156db315439b84f7921eb10d0a2c",
      "349da05d36604899b3037655b758768b",
      "55ba445060374d33a67a9870af27807e",
      "8d80613ef6c149c592320ff30404d5d0",
      "19ab125d7f3649568f94ab553d35ab2e",
      "cdb2a3aa8bcb42a681c27a73f30858c7",
      "b362da69c6b64547932a6c2f2e463248",
      "3aad1a547a2e478590a4cdd73cf6ecf4",
      "35e81467c2a94bb1832550e9457a3fe2",
      "2ef2d550efa24d93a8dddc95b81e7dad",
      "516d22df518348dba7c503b459ad4763",
      "0b61a9206e7e4ce8bfcca4e5c3950316",
      "c5bc4bff903042ff88ef139763db55b1",
      "d8869154a339486fbab391b839b3976d",
      "89525fac718a4f59ba203067cab4cf3d",
      "6e2acfd9030d472e86f45afd87e3abc1",
      "0cb23f2d54f04d38824d5ea5897641be",
      "1b298e9ad5d646699e3b718a6a854be0",
      "20ede7d9b0da4ef396e5cdc14c057f1c",
      "fffecf188bae4434ab29cc4bf0b298a3",
      "5ff35989116849b780159f6da122aca0",
      "109aa64ab5ea4528b69f512edd41d215",
      "3cdb8611ffe44e4a9ebef1f6b09ea866",
      "1afe8a45726f435bb5713b82c0eaee67",
      "6fc4dbd5f200466eae01fd74cad1a6d5",
      "d8b4d343b8c744a08e794bb62dbce54e",
      "c10d7dd58f3144f5b00cc6a92f4a0bea",
      "b6032c7214724780a3326c4521056efd",
      "55e0d3c6cddf44b5b8552eff383c7deb",
      "746a9eb9f4aa4cab8ea3aea607e12cc1",
      "9a06d209185c4d40b2bb03233b8b7b3d",
      "16e08742a0b74c63bcabb6bea27b6b75",
      "b215cee45cff4ab683472e4d284a7c78",
      "bef9321683a24f70a98d181e3a7ab0b7",
      "d3533e67097348ba9e338fb9b920b0a3",
      "2512a63f6d4b4177b2b0d1430e526400",
      "520517f5803a4cd09e8f8d0b0de9e298",
      "4dbcaf547f2c400cb314f9109a463b84",
      "f9169aab1cd64e8b973ee9a646383b3b",
      "33a804b2652840baa36a601d827f7412",
      "5767e50e80e240ab9ee72ca56a8651b7",
      "8ca77db748dd4614ac5a859b29930a28",
      "32ec2fe64d59429b976ffdc3d15eb1c7",
      "25f2a6e67b0b455fabe04861a2bbc766",
      "8d082446558641fbb77fcae981ad9836",
      "167217049d91427c8f29844793bc72c9",
      "c9dc9f36dc36485681846f671d76cde3",
      "b018a9257d104a3698b515cb49f69e16",
      "dbcea89c59ba48f1af8e9a64d683bf07",
      "ee24ff11a95e4f18b69f201832c785ac",
      "03c269ca659d414e8065a9bdb6bcf77c",
      "b015358e9127415a901d4db11cb1c07f",
      "9469de467561424fa1e6018e46fc4265",
      "14bc5ca771fc45148e20f5f2d3601e17",
      "c7419cb47e654530b2b9d4b6e3cef3b8",
      "1369981fde9f4a6ea8a6fdccedd5e2e7",
      "2c24e3f711604f1b8c90c7a707912079",
      "a51b81a1a08f491b9e0ade1d0b8f5e0f",
      "5cb85589ee684030ae1ffaf47253e02a",
      "c14f716433e345478e06bdff4246aba0",
      "5755650a5ee74798818e9c51c11320b8",
      "0a0d0fcd4a8740bbb310483ea2a36ca7",
      "863b31b032df47c1a7eb07eb16cfa222",
      "a32b03bdbfc04dd0b0575c024d2f6d8b",
      "01b8d72ffad34852864140daf6889207",
      "4cec0cbd644046dab4a7068ce563751c",
      "06de7940cb1d4aac923372b770b915ef",
      "bf131e1d60bd4f3fb1bc73da47a46231",
      "3629f643a6fa4271b321b8f0a122c907",
      "3417fdc02ddc45f29e704258b885a6d3",
      "5f510294f21b49a88f7e047196301576",
      "c1e1699241ac478da820ff6625d42e1f",
      "06dc9b8d152a47bfb4459c91424e98a6",
      "1237ab8ff19d4ec8ba817da501faf1bd",
      "74387b23c9fd412491ff2b2ff3ca92bb",
      "33d52bb2e5ef44b19a5746b06d728b74",
      "36e9a24f1d924a95b663a7e3045f8489",
      "c9afb163b0cf4cb2a3e65e04a8132403",
      "a4337f40ec834b9587b93ac19147778e",
      "3daa2a23614c4c1ab7a02d83da2ae524",
      "d26f139f31b0471fa9d546f680fb82c3",
      "ec0eefb5b5074e4cb0ffe43b04f0cd67",
      "ee22345fe0224bd190fd18297725e11e",
      "346e19779ca4456f82c1bfd674154122",
      "3bbb868079804593ae58cecf3ce8d896",
      "7a99dda4d7004e7bb68bf2a6dfec6d61",
      "721b634aa39b48d780c1e789eadfeb41",
      "d0ee942197d9497a8c5bb11e8b0941c1",
      "96b25141f1a7474db15ce3f16b47e419",
      "f2c176d2278547278aa1148c4857a1be",
      "b9d27cd09ce4487092dc33cd534c04f0",
      "35e8a94cbe004c998a5d8c5d628d6c58",
      "40533ddf43d64aa9a46709c2b2d5f7de",
      "14047ed3d2b6408bbe03571387e76b46",
      "0d6d2cf9eb084637b33745dbbcd2422c",
      "ec6d712a200349f1ada406776b16ba72",
      "c6ac74eb1355400db4e774ed04481a67",
      "5d19b31552924e85bf030d0459cfc697"
     ]
    },
    "id": "RTcvcydS3_dH",
    "outputId": "d8c2f955-cfc4-463d-8628-9d208d366769",
    "scrolled": false
   },
   "outputs": [
    {
     "data": {
      "application/vnd.jupyter.widget-view+json": {
       "model_id": "403495912f8f4507b86c57f4254c32ea",
       "version_major": 2,
       "version_minor": 0
      },
      "text/plain": [
       "HTML(value='\\n        <style>\\n\\n        .left-label {\\n            width: 30%;\\n        }\\n\\n        .card-pa…"
      ]
     },
     "metadata": {},
     "output_type": "display_data"
    },
    {
     "data": {
      "application/javascript": [
       "\n",
       "        IPython.OutputArea.prototype._should_scroll = function(lines) {\n",
       "            return false;\n",
       "        }"
      ],
      "text/plain": [
       "<IPython.core.display.Javascript object>"
      ]
     },
     "metadata": {},
     "output_type": "display_data"
    },
    {
     "data": {
      "application/vnd.jupyter.widget-view+json": {
       "model_id": "1785f197bdca46b8824e2b322d488541",
       "version_major": 2,
       "version_minor": 0
      },
      "text/plain": [
       "HTML(value='<link rel=\"stylesheet\" href=\"//stackpath.bootstrapcdn.com/font-awesome/4.7.0/css/font-awesome.min.…"
      ]
     },
     "metadata": {},
     "output_type": "display_data"
    },
    {
     "data": {
      "application/vnd.jupyter.widget-view+json": {
       "model_id": "5bacf375c43b4d84ae3776ba3b1d1885",
       "version_major": 2,
       "version_minor": 0
      },
      "text/plain": [
       "VBox(children=(HTML(value='Data Shape:(63240, 11)'), Tab(children=(Output(), Output()), _dom_classes=('data-su…"
      ]
     },
     "metadata": {},
     "output_type": "display_data"
    }
   ],
   "source": [
    "# Exclude these features one-by-one: \"Minority\", \"Majority\", \"Age >= 62\", \"Age < 62\" (demographic variables); \n",
    "# Excluded features will show in grey color in the table.\n",
    "exp.data_summary()"
   ]
  },
  {
   "cell_type": "code",
   "execution_count": 4,
   "metadata": {
    "colab": {
     "base_uri": "https://localhost:8080/",
     "height": 407,
     "referenced_widgets": [
      "645a2cefc9174919b9a2fc4fd5c6d14e",
      "4aaead87f788479cb7d73ce6e3ccf4c3",
      "e0078adf896548e7886e33bf7bbfc84a",
      "b8d5fa9957854e3f9c52610eb47672f0",
      "3708f2625d5b4c5dbb7d67f244dba784",
      "8a5eb94c976c40ee9226fb96c3b667ef",
      "9934fc2969e44f09ab9207c53e736980",
      "ec5cd890510b4d1f964844ff934a8ffc",
      "a74e9e915446457ea0949cede50800bc",
      "adad62f993ad4c1abd296b07b95ad1df",
      "56d922e3b34b4f5cabc39e4c68e875b7",
      "faa52d4e87ad4aa397a5b3d735959e0a",
      "476d1fd377554195b978264eabc76843",
      "9db40c547d1845dd95843e75d927c3e0",
      "9669143a552c47feba53c891076f7826",
      "4c7c991f9e4747aa83de993132cedf4f",
      "bd9943d4f6114d109a225ab8ef1abe75",
      "b36f96f2be3843499683b96c607e998c",
      "b22d332ccf264815878af0405f003bb7",
      "a0aa28bdd57e441c8592d634c639e824",
      "808427bd235c41599231e954d8ce2779",
      "d41a03db3c0a412c8d7d5998eb1f37cf",
      "fb914c2043fd46ae84ec48813ea1d008",
      "29586a3757274e08b85f9009b5442796",
      "f92b8e9835f54562868cc6d0d3c727b9",
      "36b11b4e488f4d7db787d503bf8fc1bd",
      "4f9caf3bf2b741a5b49d47caf91cd899",
      "35f7b4bacfd1472ea93fd4ed1389befa",
      "8a0807dcec484e12a22f50dc0110f9e3",
      "0a3456bec7a64d45a596e21f51b1529c",
      "4ac486d36c1c4914bd6eaa5d6da1a0b2",
      "34623135d6934221b8df62a0104cc70f",
      "6298d1aab83a470fb93647064cfe3c0e",
      "db9b3df922644773951f1775c25085da",
      "d1b2fe243ef7447db6c6e4b70b2bdb3c",
      "7e973dcfff114d1d897d69a216e7f0d7",
      "022164b081ea4a2fb97c15d38e02a8c5",
      "bc59067bd26c4aa7ab8635f5fe1d1b3f",
      "4481973d532740449657e01cb4bb4a6a",
      "441a4e5507434bd992674b0aaea59669",
      "355e4be4512947e89c6b5667ac2fc255",
      "e811cf5c16e34dedadcaf8bb4bd08164",
      "d0a7c0b20c8f4e94b7c9c4bbaf1ee0e0",
      "b837d59986df45ba99a52b3c659e4485",
      "2a8450e15ceb4227a05dc49f46c94871",
      "418d84b2b300445d81f542d313d3bc53",
      "9d6aa0cbe937446e8f380481feed8cc8",
      "6a3e28780e2148b1a332ec8f777336c4",
      "89a0e3674e0949d5a0159b2c41b7939d",
      "b01ca55c02c5434586c03c5c82f05d79",
      "2d9dda588ebd4e148e0c8207dc466f42",
      "fe33ba2870314ea3ab02b5d12fb04e48",
      "08bdddb5e2874a4e9c0d435baf264dbc",
      "412c157c03af480f8162cb0f4027395b",
      "5c8dc385271b41be9424e7b0cc341cd6",
      "fc0b5f7bebee41f7b68f032292c31ace",
      "4b507f39c7f846749c85f644fb2c4e89",
      "df20a033305848898fcfbfb3c42869cb",
      "2ab6e0bc0e514eada1bd16065f272878",
      "83fa50cacd2e41908516c587b892d354",
      "e255e4f450a44d98b9b3d9f70fa7de76",
      "3bb9a398a8f445889388cb4e1c8cca26",
      "7a34e8a78f7c40f08fe56998c1a9a7e7",
      "2cdc522568ec4a399314bea91c2b2ea6",
      "d4be84b38e9749e196b09d99371bf3bd",
      "7cb44e25ad9f4ef9a6d1d6b9c940f0d7",
      "c20fd216e9c14607a9581767a56d3ab0",
      "1f2b776c8e8a4d009641e3ecfe6c68b1",
      "c84ba09c8d8746889b9be027a1816c92",
      "ca69830e54c94bcb92eff2d330225322",
      "dddc177d7fc44ebeac2fd16351367c37",
      "33f91a39257348b3b5ce6f23e018dbbb",
      "f1fbd5ea613f45fa83a955abd10f0090",
      "cc382a729b9a4e99a7dfc041b7618598",
      "3b98c1b640ba4cb5aeab9ad1f2f97b93",
      "b1212f98a9374f14a89ed2e11becb231",
      "43317e48930f4bb695f9e196fff231b0",
      "1d9c1f3460714d16bc43efdb50c68214",
      "2e8a31512061424fb5a98b90d848db2b"
     ]
    },
    "id": "iQBVjZlmDxWk",
    "outputId": "233ee023-d9e8-489e-b33b-6e3be6739be5"
   },
   "outputs": [
    {
     "data": {
      "application/vnd.jupyter.widget-view+json": {
       "model_id": "aea7406b0b284584bf6168d3c2e0087b",
       "version_major": 2,
       "version_minor": 0
      },
      "text/plain": [
       "HTML(value='\\n        <style>\\n\\n        .left-label {\\n            width: 30%;\\n        }\\n\\n        .card-pa…"
      ]
     },
     "metadata": {},
     "output_type": "display_data"
    },
    {
     "data": {
      "application/javascript": [
       "\n",
       "        IPython.OutputArea.prototype._should_scroll = function(lines) {\n",
       "            return false;\n",
       "        }"
      ],
      "text/plain": [
       "<IPython.core.display.Javascript object>"
      ]
     },
     "metadata": {},
     "output_type": "display_data"
    },
    {
     "data": {
      "application/vnd.jupyter.widget-view+json": {
       "model_id": "a0ae658ddfa949b5aaac24333eeb6422",
       "version_major": 2,
       "version_minor": 0
      },
      "text/plain": [
       "VBox(children=(HBox(children=(VBox(children=(HTML(value='<p>Target Variable:</p>'), HTML(value='<p>Test Ratio:…"
      ]
     },
     "metadata": {},
     "output_type": "display_data"
    }
   ],
   "source": [
    "# Prepare dataset with default settings\n",
    "exp.data_prepare()"
   ]
  },
  {
   "cell_type": "code",
   "execution_count": 5,
   "metadata": {
    "colab": {
     "base_uri": "https://localhost:8080/",
     "height": 1171,
     "referenced_widgets": [
      "6f14cbfacb3446588516dd5d65a9864e",
      "fe5233fb983c4586be3e343886c82a5f",
      "0e34595052514543ac65cdf6510ab848",
      "c3871a42639a4262bc076f1957816c66",
      "41c7cfad584249c2aae1565eadc28b4d",
      "7808cbee3c96492a815b29a8aafaea54",
      "a33109c5960444e69f01dbbb1e38276f",
      "bc85b0ddf8844bc8996a1ce1842c597f",
      "cd55d82294074b4ca4779c9a2c6d2d72",
      "e5d75379edbe4b9e9de4a2b71c8f9ae0",
      "cbd7a630edfa4bfa9e6796e44571c256",
      "7974d4f72cb541aeb0873cc6bd5cc3a2",
      "947f0702fd0941b099b993005f76e780",
      "e620287f594f4f6990f2a178e4e92e9d",
      "ed14cac29d30415ead720f6491a9e8a9",
      "d69936ef9bbd4befb18d2ec26a08d150",
      "856cee53049a4b8ca81c53d5a5d44ff2",
      "f3499476c42a4ef793ad93c35f05103f",
      "d00aeadca7264f0da0c674eb5d5cf4e3",
      "bb5487675975486a8873581566de2414",
      "f50e4db0ddad446e8b7db7a4516bc89c",
      "4b09d02b267c40ed90d529ebf291899e",
      "c83bde83f4754b4f9fd550e73d4e4eba",
      "f5c295aca5924bf0a09d43de65fd32ac",
      "050e4af0032748c6b12926bef42ca84f",
      "fb421f4e83be48408109a5ca513cc5a6",
      "d0a3643c8e8e4b73a40338504958bc34",
      "6bd4d5b7568941ec9f34611584e9e798",
      "9275a381e55644a4883b79cdd6eac0d5",
      "2c78044012c14214b764f574efabec92",
      "083648b6fe1b4d12bb3885b1352f1d84",
      "f079f73243db4ebb90cbce6768f5bdde",
      "8251af5d6a014a6da547d00efeab2765",
      "0b4bd476d24043b78fe2217b01fa6dde",
      "b9743b12344f417f87ad811e1fa3f555",
      "84650c4375ff4fe0bc7205d4fac32c48",
      "05a74fd9c6e74e588fd1ccc1a393a416",
      "8e5e729349a948c2bf317b6cbbfcb364",
      "40b637e56318411e9045b3156b47228b",
      "6a4e030de89340db90bb4842134235c5",
      "e3fefe7f8975407d96c333635be9049f",
      "be62f4c511a140749844939f2aa571aa",
      "5b048fa594364674ae60fb340b377311",
      "47c7e055c0ca4a428f7eadbba0a16bcf",
      "228e8c074c6544a68ca2ed60e926d46a",
      "a9e725d586ee43ea943bb92107e6a706",
      "59dbbb761f604cc4ae7bec723d7f9d0e",
      "f158029ad9a7413b8efa93eb725e45b5",
      "6703904fa0a140bb88f9ee70f7e3ac0f",
      "b17b6866be7e4d84aed69df0befc00c6",
      "cb041f7de6c94c5c95240d28b01f0d39",
      "f5f27e54073e4a3d8d858578bf0c0c7b",
      "3b7be15f5c8542be8e38763940646a15",
      "4b4163cb4e834fdaaace00dd1442c444",
      "4b6e655557714d77bff06ff13fe588b3",
      "86ad2f669b7b4d19bad37a3d496eb768",
      "c148d4a0146c4c638a4b163f5e52a920",
      "5a1994ba3e0f488eadac5afb3e231567",
      "36dd47b6b1b1473d86ec29fdca507453",
      "b4a26a9f123d49b38dd22d9f253e9922",
      "3052720225f144f2869cfe0be6eca521",
      "f0efbdaf68ad4d718ed2559316848227",
      "0c30c360bd884c98859198e66413f514",
      "b6d0ffd83ca7439687839f42b1acb03b",
      "d25a30f7fd8f4fc98c9a9e0c20e7e14f",
      "b2574a87d77e4d92839ac04f5e1028e8",
      "c2f0b0c4c057455e810bae5697ef48a0",
      "d7c2ea7489e44da5a59c3618c6f96552",
      "f103b8a15656477790a51a0ca2633f81",
      "b6bfc483dc9b40bab138e2bc7db3dffa",
      "e4baed00591c4a87ab56bb4cf5dd74ff",
      "8c2e4040400c4cd0bf7579bbadc7e625",
      "327e97562d60430ca0cd9622283ab735",
      "e1995150c0644182ab8802e5b8adbc2d",
      "10a8d3faf45e4482b7aa90499fb8a7b7",
      "fa627354ff09404290c180994b59c26f",
      "d80657ca17ef4868acb01cff6b376fd2",
      "e75ef511c601417f950e0203e3761101",
      "9897b8257b704369b3a7dddef862c15c",
      "e79fedbfef6c4cb8894d88be7f738bdd",
      "189413e9709e43299d43d7218f91e0e5",
      "bee07d4b7b78401aac8ed22caf5c53b1",
      "d192fc15bb774c459787d2427206027b",
      "5992beed8e494c7bb855b2c4551bca6a",
      "616d0fffbd8b4f4b94d4c36581d30bd0",
      "da6061176ce941849ee6368c567089f9",
      "49900640d9e347809e2ff819dacca11b",
      "ce5ef76633554b78b62bbf3e42fcdfd0",
      "28387efc06494c2b8e20dbbcb0fb296e",
      "7c150e9ac08b4b1ea67cfbf13b6ad1d1",
      "1f2f20faaffa496389cd688ca398956e",
      "290839ade65d4e5c9a45489585a5608e",
      "5e908c40ed5d408fadf4c98d1dff3680",
      "4f0976d367d840a996e6179362562a0a",
      "b0b886102dd54461ac1e56da1aa88742",
      "b863671312094ea2bf2a5868673184a6",
      "62c8406394af4267b7e18fdd7664c159",
      "32053804ecaa4a0db4a5100abb1f5766",
      "e9136bb43fdc4ef88a301cb715d72785",
      "d9d253f203f2431680fd76ccc6b2b320",
      "b2c903eecb5f4d2ca701dff2c56ff539",
      "161318488c0d4f6087e565a6b03eff9d",
      "3043da9bd4344c40a563005f44c77199",
      "33602052e18149bab65a740b78709504",
      "8718f2a7af1c43e59d5508a10089980b",
      "2c6a63367d8b4ace9d990e93df0785cd",
      "5acb801180224f14aa8d1ce85de3760c",
      "6551ccc4649e4e689673b2c230742518",
      "f30a9f0cb5114340b8eabfdde7cf6891",
      "fa0ca21277d7460d86d3af895b3fa006",
      "f9046c72020e4555b7af991a79c2fa82",
      "fd9f3329f5a24bfeae19df9be8f80e88",
      "a1e32e3334e740978da7a53805662f04",
      "4216a9342dd8432db29f0eff2194f95b",
      "5b6b6ce7d3374314a0c14c689e6dc389",
      "bbd08b1915a449b4b9a7f254046c4169",
      "3c44609df7cd410fac8cea5e80e137ee",
      "01479f53948c4153b114d53cdda5c390",
      "399bbdc5b9fe42e59199cd29e51dcb71",
      "7cc06353d576468b86887f7c082af14a",
      "517e5f0889e243b5bd904c5c1237b8b5",
      "b8d7efa824964263b54b0446381d5906",
      "6fb30104fe2944ba929eb90af8ee908b",
      "1e857a02a2f04e6db71fbc24cc3bbb55",
      "984e6cb31bce4cc7862c5f192b00ac1b",
      "ce6f4d1709284935a5d9b76f33577eba",
      "15f07ffcb683462d83f8dfd094b73b32",
      "78800f521b844fdf9272263275cf96b3",
      "a7c7798fe6444df785a799ee4fdbb90e",
      "8b92db0dd6d849f983acc349a28eb572",
      "bfd7139724394215a233a49d975f7906",
      "196c06b3b51d422a8e2ef97edfb20344",
      "66d3e806eda44deab5081c87b6b884e6",
      "759bd0fe917c4a1aa487119d78581df9",
      "e63b862605a241a6b516bd5ab21419f2",
      "630346678b6b4b0bb1a4b66652de89db",
      "99264ccade334ada99dff4fda2e58aa6",
      "6ab4cc1ae1ac4852ad5b1bafb4a99cf1",
      "069da09fb499412a9b161664a03400d1",
      "a683ec6ade7f4c14b85d7d0dcacfe162",
      "595f2d7af3d44bfba01abe2e50366e32",
      "2624b3ac6756430ca01188a69760dfe0",
      "4499689a929747f1ba593b44e4d155ba",
      "8041245f0d504d5b8d562d0b0b1b37a5",
      "eef0825778ce481dad58bd4f9263253a",
      "4f983df302764e57b6ddf57b1b157b8c",
      "e93255d80bfd46ba9beee7add26fcd43",
      "8963139a466a46d495b148b071b93c7d",
      "f42c3b3c5765453e886ce0c057fde952",
      "ae4164e0296743dd9d61580cdda7c8cb",
      "9f4903c5c4984192bae72e0b8edfa28b",
      "4530a90810a3428983cea8adae09afd2",
      "6d7a7015afe549f2b805fc85406dde56",
      "95d77333e0c941008cf6571e279103d9",
      "c4c0275a8fb84762be6da946658cb9ef",
      "7357fc7d710d4591ba07744bd5d05db4",
      "c329e6c2ff324c7197e4c0e5b3c6f5b6",
      "b4c88c05412246f99aee147ff04ec4a1",
      "e13a9190d5094db8ac07cdd13d6258cb",
      "6c0cc0876fbb4c69b78599a5815ab04a",
      "7159efe84dd145a6814eb8f89ed81806",
      "7f3e6d381fe04df593d0c69e1dae9888",
      "1b030da579ab4c1ca1a812784cb04727",
      "ba52d67cd55349b4adb69d7c52b6a165",
      "648a5df76b1242328c4486b6772e2ee1",
      "aa9f39b1f3bf4595b6e9727015c90f93"
     ]
    },
    "id": "WOe59Icm3_dK",
    "outputId": "13017d6e-333e-44e2-962c-073c78fbb29c",
    "scrolled": false
   },
   "outputs": [
    {
     "data": {
      "application/vnd.jupyter.widget-view+json": {
       "model_id": "5f10ac8ac44a4e1da12af87b16e1dd14",
       "version_major": 2,
       "version_minor": 0
      },
      "text/plain": [
       "HTML(value='\\n        <style>\\n\\n        .left-label {\\n            width: 30%;\\n        }\\n\\n        .card-pa…"
      ]
     },
     "metadata": {},
     "output_type": "display_data"
    },
    {
     "data": {
      "application/javascript": [
       "\n",
       "        IPython.OutputArea.prototype._should_scroll = function(lines) {\n",
       "            return false;\n",
       "        }"
      ],
      "text/plain": [
       "<IPython.core.display.Javascript object>"
      ]
     },
     "metadata": {},
     "output_type": "display_data"
    },
    {
     "data": {
      "text/html": [
       "<link rel=\"stylesheet\" href=\"https://stackpath.bootstrapcdn.com/font-awesome/4.7.0/css/font-awesome.min.css\"> "
      ],
      "text/plain": [
       "<IPython.core.display.HTML object>"
      ]
     },
     "metadata": {},
     "output_type": "display_data"
    },
    {
     "data": {
      "application/vnd.jupyter.widget-view+json": {
       "model_id": "6d1dfd1a2eac4bf99526d6752e579134",
       "version_major": 2,
       "version_minor": 0
      },
      "text/plain": [
       "VBox(children=(Box(children=(Box(children=(HTML(value=\"<h4 style='margin: 10px 0px;'>Choose Model</h4>\"), Box(…"
      ]
     },
     "metadata": {},
     "output_type": "display_data"
    }
   ],
   "source": [
    "# Choose XGB2 with default settings, click run; \n",
    "# When training is finished, register the models one by one.\n",
    "exp.model_train()"
   ]
  },
  {
   "cell_type": "markdown",
   "metadata": {
    "id": "Lu3mpYH33_dK"
   },
   "source": [
    "## Fairness Testing"
   ]
  },
  {
   "cell_type": "markdown",
   "metadata": {
    "id": "rI7GgL74uOVR"
   },
   "source": [
    "- First select a registered model, say XGB2,\n",
    "\n",
    "- Then, in Group Setting Panel:\n",
    "  - Set Add Category=\"By weights\", Enter \"Race\" in Category Name; Select \"Majority\" in reference; Select \"Minority\" in protected; Click on Add Button.\n",
    "  - Set Add Category=\"By weights\", Enter \"Age\" in Category Name; Select \"Age<62\" in reference; Select \"Age>=62\" in protected; Click on Add Button.\n",
    "\n",
    "- Finally, switch to the rest Panels to view the fairness metrics of this model."
   ]
  },
  {
   "cell_type": "code",
   "execution_count": 6,
   "metadata": {
    "colab": {
     "base_uri": "https://localhost:8080/",
     "height": 399,
     "referenced_widgets": [
      "d42731e20c354ff99072c97248970605",
      "2543e89db0774e77b0587f9c62fe4ab6",
      "ddd79ba672ae4fbeb0d8b7634c402024",
      "0d283ee2de3b49bd95a2aa88e2cf0220",
      "92090e36cb41455fa24d5c8128bede7d",
      "f847528053474e58844378d8fadc386f",
      "024b553637f14422900e9eb8308806ea",
      "916867649ef149229620d69181b62031",
      "89af5060401044e88347240cb507c089",
      "0c7fa4916e564f35a14b59e0c72180a8",
      "0812bd18770d401db507eaf8646e2edf",
      "e110b8b7207243db8f51758023b2d780",
      "d26f5b09d0fa44268075c08f23a9d7c1",
      "8902acdb1d5b4cc1818e21fb40b667c6",
      "81e7c5739999439ba63ca44fd0380b3e",
      "028cbb3f1ea14c8d8079a56d31223bc4",
      "c20ee54397624c9fbc922dfaf939a591",
      "13ec9100243f4c28b7468d7d5588036e",
      "308a8a233a1844aaa5072cb240ee6fc4",
      "a3fda4623e4a41d88f65ce884a584e3a",
      "8d0cda089ada4864a5af4b75f1a22772",
      "0ec7fa1529264403ba7315986991aa2b",
      "68caad649d1d4e8fa91829a8f7144ee6",
      "673f330451514142ba7d808d1aa6024d",
      "b0a1d22961cf4e7baac5e6953c1bf9db",
      "2e529146ea7c4e05913b67e7fa013df2",
      "71a5980cc38842cdac52b43b9d6939c2",
      "e4e35da2ce214a9a8ef7db9bfc89cf21",
      "dae47a8260d94e37a5df47188e79da90",
      "03cd63184b6a4241a565cd10985efcd1",
      "54c5cfca163e44b186a875023c3279ca",
      "e3f3b26212f5485dbb0cde6127fb03dc",
      "3aa6b56a6a064bc4a16247135fab9612",
      "f493139504e844d49ec1783e4fd1a7d9",
      "aced226b794741538d45fa1ffdcf80c2",
      "84c1df06cd994491acb5077c85464ffb",
      "4eddb3358e0e40a8984a4e0bac606d3a",
      "4e97dadba850464c9e96b825fc4feb1e",
      "962adf5cdc354f4b9115778603516be3",
      "aa6ae49f14894887b8fece67fa2c6d74",
      "0e941f88e2c24051939a2aa242e0c2be",
      "22ae72236c784cfc8cc3a0a57b328a40",
      "81aa7e4fdab84fafbc3999a4385e8e5d",
      "122a718f2f5b4ea093f46fd3ee660db7",
      "c5d17502118f4a888e99c919108fc30b",
      "3d93b2fb6e0144ecb76b1257f91d1594",
      "fdc535ca2ca44466a6d7d0f24b988150",
      "3a6620753d06404eaf045c776f742f00",
      "8809021b1b5c431084d2bf3f3911b54f",
      "719805d279524296b5f2c16f8f0fa20b",
      "0cc78d02cf774393b5ea9bf56c87020a",
      "f0d3943874a740a88679ca202ca5a9fc",
      "3f9dac84066d426b8cf5a97fe7bc5c1a",
      "915e4d58e72648369cf6865563a9cfc8",
      "1b7b03e0330e40e8a3529daf75f92666",
      "faa438d3fb6b48ce94778c47041dc5e1",
      "87eb0e8eb8b5458e92a4222a563833d9",
      "12efdeb6308f4894bbabd1d57713a1b8",
      "43ff2ef3bc98475da45591cdc04e0d2a",
      "4f3fd658bc894c5bb6e021f4aed877d2",
      "12fb1b6b4463434688de98d2ce1d3d27",
      "3977bc9e41aa4cd69d1a1e38dcdb2b4e",
      "e8fcef710084415d8e90553e779be7e9",
      "ea1974381b79480981af62e0e91e033a",
      "b0649591479440328ce7e0e9a8a3e9cf",
      "3d16f9f5c0144f3f9ea8ae6b04197d66",
      "c3ae15d326e244f08dbaf936245168f6",
      "fcac90d4f63a48cf9220d0f72e785aaf",
      "37a85d63db4b48189734d45337ce7e70",
      "1662aa15c778440e904a6ea15b46021b",
      "0d70ebeb90bb48eda09dd5c3a9ed421f",
      "28e71755bd9e4f6da2c8a1db8cf78193",
      "50238cce0e3a4926a037be7d5b02e3f8",
      "d5c20fe819914fd4876a0804bdc8cb93",
      "8f953195431e400ab7ce81724f36407c",
      "074c2beb21304027990b42f43deffb3d",
      "04510c8e00db454d803b43278ae5767a",
      "4b0d669271a54e5aa69d53b43a1d6f65",
      "75954f1a33bc4a9dae32b37b0cf24081",
      "f697780562f24197b5f219cd2a852058",
      "448c91d51c4141c7be4d58a7963fd16a",
      "a341eb5e584a43ddb8ca1e7ca6f13f75",
      "40851da42a5e4b1994a621f9295e92af",
      "bf62f39ffea4432f83cb2db0a0ca14d5",
      "82f13a1b9b654eff8b601502beac9c22",
      "f127c73c87d445ae84c537e86949bb07",
      "6df431b605e240f28ea38d0fae7f6fd0",
      "0b6f66a2d7484165aef6de9f669702fc",
      "5400b94a8f0e445cacaa488fdda4c7e7",
      "c8f76bfb28ca47759422430f649d2a4d",
      "384402a88cda4ee6bea6c90088ef0f3c",
      "bf5824433d76411a8a6dcab7912187bd",
      "d87d122f513343ada10132ed4156a7d1",
      "c864294bbcf041dd88a592a0f6ad310c",
      "27525001f6de49d2b956c3878e70be85",
      "f2a32e6c24454c7e80f689cf50a55bf3",
      "835e63d2ebf7465a8f2e997107f76a71",
      "c9fe84db9545495388568d53e8273ef3",
      "07c2dadbce6b4b2f8bc3ae3d4e26cedb",
      "e7e0d91798374eda9b792b03136bde90",
      "672df084aa7d4af1ac0b8a159e07c909",
      "f8cea3e7aa434091b475aaaa5fcb66eb",
      "6589f93c14f846cfb0943072fd882ac3",
      "3209e6a0bed140aea8c7088a89f4ebe8",
      "7a22fbbc9eb64fb38801eca09b18359c",
      "faad80ebb9c4443fa91b007b9cc6cd89",
      "1d62a7a725e64ad9b3ed271183faa777",
      "748f7426a4764cebbeeae29b45f37d33",
      "cfecdb14794f41388f0a205f88248dd0",
      "36628221331748a5a19f856c1a1f63cd",
      "e56b60dcf03744c3aa827954c8de8853",
      "4d662348e78b48fa8942cdc52cc510e0",
      "87d7210cf3af4890a702c0da406230b7",
      "eec4c70e65c14714b431c9b376b9d28a",
      "f9c77a9a3a5f4025acd2de9ed9bdc439",
      "0e2d53aeac8d4a89ae689259d0c362e0",
      "60d0e484040f4a49a3c7dd32c9954cb8",
      "e82e3a35ed3a4dbdaf9740182b7e6218",
      "526eb54975b04ab5be933081de77b18a",
      "456605712c3245dc843806ba1e15385b",
      "fd17f3d679334a27a23de59a2d63a2e0",
      "35378390d5c84245a12d94cbf5d0724f",
      "300bf7451e424427b6e29709998740c4",
      "8d163254e36241f79181eef797317867",
      "36c708c4541e4f4cb542b01d50a0ab9b",
      "0cd558588c5443208e3107caa23daac5",
      "b5c013262e7640d2b9454e39a13db770",
      "298ead99495c4319b788b3b5d07e94e7",
      "d66264a78c7b4db0bb83a8564e967278",
      "26751ba881ef4c37a97fdbce0343bc82",
      "425be0d69df74a50923ccbb6237c04ae",
      "935a59d00e204218831b23d96cd46d40",
      "ae059cc474e54678aa1e887fb3c9dcea",
      "8fbe2effa20f46aead92216b599c060b",
      "0d7a5fa28de0404cbf53f12798168e35",
      "5dd7f60f5be34b3b80eaa89bed6b13a0",
      "9954fc48e7cb4537bb9abd26f8971e62",
      "818793c6a55148cfb6934fac4442d0b8",
      "5a2f64bc3cf54a1e9a7a73eeb56e0ddb",
      "a49ec04bc4f94d049fd9cfeb42eeefaf",
      "ef25a29aad714e33b729c435ac054b70",
      "bda8ac57e7e040cda73f90de96720fdb",
      "fd354e2cccdc49bdb8bf994da5285336",
      "d0f6738a0dfc485a97417604a1999b07",
      "d6a45448c83c41f59311b33596339d89",
      "e3b4e48a06d44eb18c08ed05530a55b0",
      "abc6e5d72eeb41fa98b5993667d860ba",
      "c88c85c94cab42fb8941802ad5c3d40c",
      "2d7c4c4d717042a895437b6bed30dfd3",
      "485b289f0ee3412697d3fb9d69555129",
      "b9dd3c267af6460dab0f7943d4424a65",
      "496faa90f6444d4bb5d8425cd11d9a45",
      "c4f429a1a4774467961644ba2a9a810f",
      "b423321d48ee4a2dabbbf4e105bcf610",
      "03b049822a82488292775b73091cf79d",
      "d4541cd139164a2d96242e4c5f3a4d0a",
      "7959f972c5214d02b6f368487d3667bc",
      "f4ef2af7ea0f4cf3adec4af1e7d27176",
      "6a836c10a396427a88dcbab314a4c7ea",
      "873d1e4975db4de1800966cb80b0f33a",
      "b82747bc589146629d501c02e2591a24",
      "33a338f571ec4569a9f972b24e6a2cc7",
      "89e096bbea8a4342af7e37ef7bb58953",
      "57dc294dd6e14a9ab27f0d792ab92f0e",
      "304a349455b2475898357342d8f1e4a3",
      "c962d97f85604fa988bb658ff0308848",
      "1eb92c0872c34fdc835f264784ca8c24",
      "2085f1aa717d49ed949e2af47a93cb6a",
      "6861df0922f540aeb557b146bf0a0fa5",
      "107face5e75e4bf287a3826b3e5be54a",
      "3bfc848f91d446ac9410c826f08fdc12",
      "6d3c29ff744c4c4ea6ba7285b5041341",
      "6d8e5d11edae4271bb2d6945fbb97e75",
      "c0ac5294539943a6bcb0e46f53e817d9",
      "6af9ca86fbf5440c98897aac07116173",
      "c0704abc80764ddd85a067c76f495e7f",
      "0bf4a54499804345a6d9dd518b6299c6",
      "e72f44cbba9943cf82f4fef07e225098",
      "6f14fcd85ce345d8b0133f8d7ab1b14e",
      "d9ae033c571a45f3aa7f3f875c6b28b7",
      "c1c51ae036ee4859b0c664f655a630de",
      "06105f2823304d2ab5c9737796a05ed8",
      "15562b26579a4e5c9642cdfb5f6f5d12",
      "dd8ef16b2d3c4f7dad1a7b9a1807e050",
      "1cec3a4fef4e46a489d5668f311567d9",
      "3827b76af1934c86ac658d4e96c2fdba",
      "7e55cf48481845bca76812a1ab8be0f5",
      "3986801ba2174ae2ba159c6dfc34015b",
      "6c3e47edb6994bedb22281fb62e072aa",
      "1472bb51a8894486af9aaefdbd33ea59",
      "f79ddf3f83ce412ea227584eb7323ae5",
      "a4f38852a6ef4d9895d4b5ca78070061",
      "f52960c5ac4c4ea8b8fdb543bedfa311",
      "9939e664dc0244eeb257d83ff5c6342a",
      "93d58e429831418ca2a8f6ca9d902336",
      "bf5ba83fbd314166bd76c42bde06199b",
      "872462a8d63b444a945cefff91b7e6a5",
      "89a96b96f88e4ab5bc7c0de6b651b070",
      "1fd238f909954d65802124775d36040d",
      "1e9aff1357764174b82c991e9228a245",
      "05142a521631476ca2200b8838df47d6",
      "4fe37b4dab504b0a88570e2df804973f",
      "44ded4f70d7b45a8929d01e5b6d9d857",
      "c4a68d76307b4ccf8b7a7c3ce6f5a763",
      "6896375b22ee4d6aa43e68c7e1c59dc0",
      "36f8112e7fe644bfa904cc81e796e36d",
      "9aec2b25a00e42e3ac5033633ce2f5d5",
      "6747fd31f9a84fd18bfe35c7b2c0de80",
      "9dee538a32204a1c86fc79ae6218b471",
      "009b5f385f2e470fbd01d4551fe91119",
      "138746c1be844cd2843031f33e4ddce9",
      "551269a1ee2941e89b1e2c2a08297651",
      "0af095efee65407f8fc298eb20ec2e78",
      "1f6779328a21450ea203f787cbc9d28c",
      "771f8ef9154746c98e88920bc7f3afc1",
      "ee8d2494dd014475901db89c4b23b739",
      "58597001ffa24b039c6905f289694431",
      "2d8eca64c1ee48df9d895a1201de32cb",
      "ab89bf9317c84e2f9232e8dc5d8ce606",
      "e1cabc9109a74ddb8ec69afd8b6c8aeb",
      "f41b9e07459a43a29a81bf13aea266e6",
      "20cf1a25079c44af96ec213d7633d080",
      "c3ecf4772fa442cdbe520fbf0b27d60a",
      "70b7d57e1c2540dda3f0fe81b893fb03",
      "71269cb8296d4f89a6b0aae9cab938b5",
      "8e34e606fce84d988c2cc5fb98868085",
      "b18d40c6ff64431db8290a914ade3c4b",
      "9c64baadaf314f3ca69a0602abdfad83",
      "cdd35d98de7343a9a5f4fc600be4439b",
      "69412353ba50417c8f00fba43a946c65",
      "366bf880ee0942afa94b79e8e6a6cffc",
      "31d9689daa914bc6946f0e6ae4b81caa",
      "c1cb02015ecc459ea27a77810d7497cd",
      "6166d61830334e0e818d6931d1dc4ec8",
      "64d564a1e758449f9359b026b1fb2f98",
      "cfe1ca966bec4108bcf3aec8fa02b780",
      "cfe9c10f966a4673a5b343b9107fe6f1",
      "3f46ba99f1bf4faeb1df54620f105416",
      "c5a89d1e8ff447c0b7506910da237dc9",
      "aa5ba45f7be94922874fd4d4326dbdf6",
      "93fd65a441434553948cebc95ad9612c",
      "c50c9442a02946c9b62d439bb8475af8",
      "8b59b7fac04342f8baf57e00280e1866",
      "f19b4c2754724e33ad15a0f24a44a422",
      "fb058aca7d1e49b586d1f9273eb5b535",
      "020efe63fa5a4e439e85b6805051c48d",
      "32984ef37ab24caab319a237f890c248",
      "b76e2c48d0584219bb258fe529e24423",
      "04d152f7e3fc45f89dfc8579f6fe1c1c",
      "52d074d05bf64a73b79fe44f265d9fed",
      "e09e4a7ab26849339e17270c13d9aa8e",
      "9384702478c54e68970dbe55f6d00a9f",
      "081213e2ae4544bda9af2b6fc40e4c12",
      "4282bae9429046fca75ee6b6a67790f5",
      "1da59215599d41c0bceda8cbb6994c00",
      "f5048a6c02eb47f4b20dfd989807625e",
      "df79f441b35841d998e5a2fbd87c3969",
      "cf2fbb5454904e5ca7f0d25b2f43175c",
      "236e8a93a849408a8e8022667c6fb4a2",
      "02c3e9a7cd1b43e4869840547c341c97",
      "cdf78554272a4f15bf5f9f6574506d4e",
      "38d6cebef7f14d00a7305d6055222140",
      "1e9788739dc549049230327d2ca107a7",
      "e679725c927e47e2a18972f0015b9823",
      "d47d3d58f26545828a82198fe9236ed8",
      "dba6065983a54ead815e460a947c4f85",
      "0cd3c1e0033440aa8f7d54b8ba32f0a7",
      "e0884ea6f8cb4a07870c42bd9ef2fe27",
      "4b43cb32cc8d4586a42905935fc001ef",
      "95c9ee333af3442292d8a9683aae5971",
      "25aacbbde9e04c8ebfa04dbbf1ef30f6",
      "abcd408257904ddb8b028aea95b62040",
      "56ee646f344a4001afb9aec6a8b73102",
      "f366626f0e81466f92be2a9515c267e2",
      "507676af673b4bc788a0da9ad02e5496",
      "1ee042519d5646c7a0d08c6b468dfef3",
      "5b30f72d9eab498b9e6fed60b274e0cc",
      "a9a96e030d55417689e3f03f453ade75",
      "756509c35e884176a1293170d6f38490",
      "1b901e94bb684c909db0ad662236ac3a",
      "b88e7de88278463daef822e645a8e93c",
      "a6251daaabcf4e058f43c4f193faa241",
      "56a47d635ac24a9094d918729ca547d9",
      "8d0596b666b74a3b9e8c6e083e961dae",
      "9ba2febcedc14327aed8f2a7895bacd9",
      "6f800341f74e40b59deaf3f204439293",
      "3b9c6523a5d14b0285189579b1685e2f",
      "2d2de25076b5417681967df11bfdc685",
      "0c1217d8b8f04ed8a4fd82221436e47c",
      "0a35ee24301b4689a9a9ab1d7c89c393",
      "8528e618c9ad4b5f9824f929848a1c23",
      "eac3466c295a4f74b28dd827a917de05",
      "04d5ce4b35eb47d89098fa27a6368265",
      "e0b72e155d114388b1df61e9c34f4457",
      "0beaf8628a4248af81cddea9c8299e70",
      "fc87bcf9ec794ab4924a1382c88d5eeb",
      "9f9c2d99c0fb4e1faa8f9d6ca98df1ab",
      "6c985893bf6f45cb9fe60abc7c038e53",
      "6e0b1f4a576a43118a5e6dc2cd4062d4",
      "10f73fe66acb46859bfa975e864f8f65",
      "9e54c5c48490486ab3470319ea0135af",
      "13454d62e9fd43f6ba42c54f8f1ab4e2",
      "1bf2c0993d5e40de96ecb71fda072886",
      "feaf37d814b84fd49bea0325a8418b7f",
      "cfe4a6a0a2ce467390ce87b30531fe29",
      "c7734e723cf9449e817279a96b7ac552",
      "461412a5b96a455cb97f05237c775d3b",
      "3d724ef5911d43d9b37b9d42363157f0",
      "721985e5cda64005a1b5f91bdaf0b7af",
      "0d76523b3f13416aa1f47a3ec88e50e0",
      "ab13ea6846934a6baac743277c14ba77",
      "6aee1e47e1f949099ac3a366bae85edf",
      "297a14c8979e40869ee84a32430ed80d",
      "ae35be7f6da54d11b3c5fe4f591a5878",
      "f999d77dd31747b2a16099851f57cd70",
      "0cc667fc4bfc4edf963c08ce7cec6a1f",
      "8d18f7e637e44dc5b1536606ad019fa6",
      "e67fc1b4d05c4316a1d6d7f4e86c749b",
      "7abd08feb7934c76a18d805de3928726",
      "8d22596d4e4e425ab0d811cb512cb745",
      "cdc3adda18484a44ad55690939b04d93",
      "188963b6f59b467ab015fa1756cdf298",
      "0542322057e34f7f8c284718336e6b0a"
     ]
    },
    "id": "e--UE4y7Zlm3",
    "outputId": "189532d9-8e0c-4c80-fa04-2de2b9a2e1e2"
   },
   "outputs": [
    {
     "data": {
      "application/vnd.jupyter.widget-view+json": {
       "model_id": "5c739faf656d4ae88f071518293cd115",
       "version_major": 2,
       "version_minor": 0
      },
      "text/plain": [
       "HTML(value='\\n        <style>\\n\\n        .left-label {\\n            width: 30%;\\n        }\\n\\n        .card-pa…"
      ]
     },
     "metadata": {},
     "output_type": "display_data"
    },
    {
     "data": {
      "application/javascript": [
       "\n",
       "        IPython.OutputArea.prototype._should_scroll = function(lines) {\n",
       "            return false;\n",
       "        }"
      ],
      "text/plain": [
       "<IPython.core.display.Javascript object>"
      ]
     },
     "metadata": {},
     "output_type": "display_data"
    },
    {
     "data": {
      "application/javascript": [
       "\n",
       "        IPython.OutputArea.prototype._should_scroll = function(lines) {\n",
       "            return false;\n",
       "        }"
      ],
      "text/plain": [
       "<IPython.core.display.Javascript object>"
      ]
     },
     "metadata": {},
     "output_type": "display_data"
    },
    {
     "data": {
      "application/vnd.jupyter.widget-view+json": {
       "model_id": "995b928e165c40bca1eb867d67a010c1",
       "version_major": 2,
       "version_minor": 0
      },
      "text/plain": [
       "VBox(children=(HBox(children=(Dropdown(layout=Layout(width='40%'), options=('Select Model', 'XGB2'), style=Des…"
      ]
     },
     "metadata": {},
     "output_type": "display_data"
    }
   ],
   "source": [
    "exp.model_fairness()"
   ]
  },
  {
   "cell_type": "code",
   "execution_count": null,
   "metadata": {
    "id": "uN1s6srtZyB5"
   },
   "outputs": [],
   "source": []
  }
 ],
 "metadata": {
  "colab": {
   "provenance": []
  },
  "kernelspec": {
   "display_name": "Python 3 (ipykernel)",
   "language": "python",
   "name": "python3"
  },
  "language_info": {
   "codemirror_mode": {
    "name": "ipython",
    "version": 3
   },
   "file_extension": ".py",
   "mimetype": "text/x-python",
   "name": "python",
   "nbconvert_exporter": "python",
   "pygments_lexer": "ipython3",
   "version": "3.8.8"
  },
  "toc": {
   "base_numbering": 1,
   "nav_menu": {},
   "number_sections": true,
   "sideBar": true,
   "skip_h1_title": false,
   "title_cell": "Table of Contents",
   "title_sidebar": "Contents",
   "toc_cell": false,
   "toc_position": {},
   "toc_section_display": true,
   "toc_window_display": false
  },
  "widgets": {
   "application/vnd.jupyter.widget-state+json": {
    "state": {
     "000d80c929d841cc89caa775ab3165aa": {
      "model_module": "@jupyter-widgets/base",
      "model_module_version": "1.2.0",
      "model_name": "LayoutModel",
      "state": {}
     },
     "001bad69d28545aa850145ac7817a5f8": {
      "model_module": "@jupyter-widgets/controls",
      "model_module_version": "1.5.0",
      "model_name": "DescriptionStyleModel",
      "state": {
       "description_width": "initial"
      }
     },
     "00265977f9824edcb3b88eb9226a4932": {
      "model_module": "@jupyter-widgets/base",
      "model_module_version": "1.2.0",
      "model_name": "LayoutModel",
      "state": {}
     },
     "00502772983d475e997edd2437039afc": {
      "model_module": "@jupyter-widgets/controls",
      "model_module_version": "1.5.0",
      "model_name": "DescriptionStyleModel",
      "state": {
       "description_width": ""
      }
     },
     "0052ca845c29495a930446a0a557905e": {
      "model_module": "@jupyter-widgets/base",
      "model_module_version": "1.2.0",
      "model_name": "LayoutModel",
      "state": {
       "width": "auto"
      }
     },
     "0070e501622342bbb2be65f62e9f77e4": {
      "model_module": "@jupyter-widgets/controls",
      "model_module_version": "1.5.0",
      "model_name": "HTMLModel",
      "state": {
       "layout": "IPY_MODEL_fbbd58306b4748dd92db0d5d00032761",
       "style": "IPY_MODEL_d2da9c89e9db437f9c45d3fd2034aed0",
       "value": "<div style='margin-top: 10px'></div>"
      }
     },
     "0078f1e290c54b39bfd609ef239ec66a": {
      "model_module": "@jupyter-widgets/controls",
      "model_module_version": "1.5.0",
      "model_name": "HTMLModel",
      "state": {
       "layout": "IPY_MODEL_68f52563532546c1a0464e27533c3a2d",
       "style": "IPY_MODEL_7909949310454dcab1e9a5c8c7896a6b",
       "value": "Min_samples_leaf:"
      }
     },
     "00911f404269421fbff9c91869d03d21": {
      "model_module": "@jupyter-widgets/base",
      "model_module_version": "1.2.0",
      "model_name": "LayoutModel",
      "state": {
       "width": "auto"
      }
     },
     "00a24813e6f94ee980f387ab47d38c14": {
      "model_module": "@jupyter-widgets/base",
      "model_module_version": "1.2.0",
      "model_name": "LayoutModel",
      "state": {}
     },
     "00a8f9a820744b138a4a5398dcb2fd8b": {
      "model_module": "@jupyter-widgets/controls",
      "model_module_version": "1.5.0",
      "model_name": "HTMLModel",
      "state": {
       "layout": "IPY_MODEL_ede9c9b7b8f74196819e538c813fd391",
       "style": "IPY_MODEL_25decd365cc848ee945ecda228703ae6",
       "value": "Feature_decreasing:"
      }
     },
     "00b8951c698d474cacb8c39b4029ba60": {
      "model_module": "@jupyter-widgets/base",
      "model_module_version": "1.2.0",
      "model_name": "LayoutModel",
      "state": {
       "width": "65%"
      }
     },
     "00d565627864488f9a3aefb1f2959480": {
      "model_module": "@jupyter-widgets/base",
      "model_module_version": "1.2.0",
      "model_name": "LayoutModel",
      "state": {}
     },
     "00f441e3e1354f36b3847037d4e308e8": {
      "model_module": "@jupyter-widgets/base",
      "model_module_version": "1.2.0",
      "model_name": "LayoutModel",
      "state": {
       "width": "auto"
      }
     },
     "01052ed6d970459cb5885040b13f7708": {
      "model_module": "@jupyter-widgets/controls",
      "model_module_version": "1.5.0",
      "model_name": "DescriptionStyleModel",
      "state": {
       "description_width": "initial"
      }
     },
     "015c89cfa0ea40e0b8f6627d73b00e5f": {
      "model_module": "@jupyter-widgets/base",
      "model_module_version": "1.2.0",
      "model_name": "LayoutModel",
      "state": {}
     },
     "01c475a04ccc49b6bf03ae947883522b": {
      "model_module": "@jupyter-widgets/controls",
      "model_module_version": "1.5.0",
      "model_name": "HTMLModel",
      "state": {
       "layout": "IPY_MODEL_f08595239e00413da08df85c44abed5d",
       "style": "IPY_MODEL_3275719d04c64cae926a5607a344eba7",
       "value": "<h4 style='margin: 10px 0px;'>Customize Model</h4>"
      }
     },
     "01c82c8a2825438f960f14e322f86d9e": {
      "model_module": "@jupyter-widgets/controls",
      "model_module_version": "1.5.0",
      "model_name": "DropdownModel",
      "state": {
       "_options_labels": [
        "ACC",
        "AUC",
        "F1"
       ],
       "description": "Rank Metric:",
       "index": 0,
       "layout": "IPY_MODEL_ba44beeb40d947c6bd5d61adbbc55e53",
       "style": "IPY_MODEL_9356dc4bcf704014b0bb4442ab3eda63"
      }
     },
     "01dbbdb5661842d9ab2ad0a003b70dfd": {
      "model_module": "@jupyter-widgets/controls",
      "model_module_version": "1.5.0",
      "model_name": "ButtonStyleModel",
      "state": {}
     },
     "01fae096bac448db8226162ecf0b6b65": {
      "model_module": "@jupyter-widgets/controls",
      "model_module_version": "1.5.0",
      "model_name": "DescriptionStyleModel",
      "state": {
       "description_width": ""
      }
     },
     "0224d505ad224aba87f3321f7778a31e": {
      "model_module": "@jupyter-widgets/base",
      "model_module_version": "1.2.0",
      "model_name": "LayoutModel",
      "state": {
       "align_items": "center",
       "display": "flex",
       "flex_flow": "row",
       "width": "100%"
      }
     },
     "023477dd97024780b4bab64cdc30b1a4": {
      "model_module": "@jupyter-widgets/base",
      "model_module_version": "1.2.0",
      "model_name": "LayoutModel",
      "state": {
       "width": "155px"
      }
     },
     "0285a2082fbd4a1995423feda3ca63f4": {
      "model_module": "@jupyter-widgets/base",
      "model_module_version": "1.2.0",
      "model_name": "LayoutModel",
      "state": {}
     },
     "02bb39f6802847f29dbc9f0d777d98b2": {
      "model_module": "@jupyter-widgets/controls",
      "model_module_version": "1.5.0",
      "model_name": "DescriptionStyleModel",
      "state": {
       "description_width": ""
      }
     },
     "02c2f1611f8b41718ffa0142edec087d": {
      "model_module": "@jupyter-widgets/base",
      "model_module_version": "1.2.0",
      "model_name": "LayoutModel",
      "state": {}
     },
     "02cdfe809b37474098fa018235f50b79": {
      "model_module": "@jupyter-widgets/output",
      "model_module_version": "1.0.0",
      "model_name": "OutputModel",
      "state": {
       "layout": "IPY_MODEL_ddaade8a25bf4f2a806782a88a8b5545"
      }
     },
     "02e423704ab8478e8bedfae383e67602": {
      "model_module": "@jupyter-widgets/base",
      "model_module_version": "1.2.0",
      "model_name": "LayoutModel",
      "state": {
       "align_items": "center",
       "justify_content": "space-between",
       "width": "100%"
      }
     },
     "0304c3f473694bb0827f2ad0f0c9827c": {
      "model_module": "@jupyter-widgets/controls",
      "model_module_version": "1.5.0",
      "model_name": "DescriptionStyleModel",
      "state": {
       "description_width": ""
      }
     },
     "030de7d5d81c453da5aa40f1d5a858aa": {
      "model_module": "@jupyter-widgets/controls",
      "model_module_version": "1.5.0",
      "model_name": "HTMLModel",
      "state": {
       "layout": "IPY_MODEL_079d4f63b9b44ad7a0acc862291c9d4a",
       "style": "IPY_MODEL_9ebb1346b8644712ab80c8ee08d7d48a",
       "value": "\n        <table class='ptable striped'>\n            <thead class='pthead'>\n                <tr class='ptr'>\n                    <th class='pth'></th><th class='pth'>name</th><th class='pth'>n_missing</th><th class='pth'>mean</th><th class='pth'>std</th><th class='pth'>min</th><th class='pth'>q1</th><th class='pth'>median</th><th class='pth'>q3</th><th class='pth'>max</th>\n                </tr>\n            </thead>\n\n            <tbody class='ptbody'>\n                <tr class='ptr'><td class='ptd'>0</td><td class='ptd'>x1</td><td class='ptd'>0.0</td><td class='ptd'>-0.010468</td><td class='ptd'>1.00554</td><td class='ptd'>-4.111457</td><td class='ptd'>-0.687572</td><td class='ptd'>-0.016001</td><td class='ptd'>0.661917</td><td class='ptd'>3.723496</td></tr><tr class='ptr'><td class='ptd'>1</td><td class='ptd'>x2</td><td class='ptd'>0.0</td><td class='ptd'>0.003769</td><td class='ptd'>0.998657</td><td class='ptd'>-4.441389</td><td class='ptd'>-0.661684</td><td class='ptd'>0.009965</td><td class='ptd'>0.678074</td><td class='ptd'>4.547531</td></tr><tr class='ptr'><td class='ptd'>2</td><td class='ptd'>x3</td><td class='ptd'>0.0</td><td class='ptd'>-0.027052</td><td class='ptd'>0.996581</td><td class='ptd'>-4.040587</td><td class='ptd'>-0.699355</td><td class='ptd'>-0.026371</td><td class='ptd'>0.64237</td><td class='ptd'>4.308687</td></tr><tr class='ptr'><td class='ptd'>3</td><td class='ptd'>x4</td><td class='ptd'>0.0</td><td class='ptd'>0.00803</td><td class='ptd'>0.99497</td><td class='ptd'>-4.491451</td><td class='ptd'>-0.659107</td><td class='ptd'>0.004833</td><td class='ptd'>0.680002</td><td class='ptd'>3.864044</td></tr><tr class='ptr'><td class='ptd'>4</td><td class='ptd'>x5</td><td class='ptd'>0.0</td><td class='ptd'>-0.001039</td><td class='ptd'>0.9876</td><td class='ptd'>-3.990077</td><td class='ptd'>-0.663987</td><td class='ptd'>0.000662</td><td class='ptd'>0.659662</td><td class='ptd'>4.093057</td></tr><tr class='ptr grey'><td class='ptd'>5</td><td class='ptd'>Minority</td><td class='ptd'>0.0</td><td class='ptd'>0.271599</td><td class='ptd'>0.268342</td><td class='ptd'>3e-06</td><td class='ptd'>0.056888</td><td class='ptd'>0.170139</td><td class='ptd'>0.419018</td><td class='ptd'>0.99998</td></tr><tr class='ptr'><td class='ptd'>6</td><td class='ptd'>Majority</td><td class='ptd'>0.0</td><td class='ptd'>0.728401</td><td class='ptd'>0.268342</td><td class='ptd'>2e-05</td><td class='ptd'>0.580982</td><td class='ptd'>0.829861</td><td class='ptd'>0.943112</td><td class='ptd'>0.999997</td></tr>\n            </tbody>\n        </table>\n        "
      }
     },
     "032fde27f46944878aed33a0de10434b": {
      "model_module": "@jupyter-widgets/base",
      "model_module_version": "1.2.0",
      "model_name": "LayoutModel",
      "state": {}
     },
     "037c290b5b604dbda9582b68e3e133b9": {
      "model_module": "@jupyter-widgets/controls",
      "model_module_version": "1.5.0",
      "model_name": "DescriptionStyleModel",
      "state": {
       "description_width": "initial"
      }
     },
     "038fb1bf149e4523a9b0d0824731abea": {
      "model_module": "@jupyter-widgets/controls",
      "model_module_version": "1.5.0",
      "model_name": "DescriptionStyleModel",
      "state": {
       "description_width": ""
      }
     },
     "03fddd6bd17646f495411f9a3b47c07f": {
      "model_module": "@jupyter-widgets/base",
      "model_module_version": "1.2.0",
      "model_name": "LayoutModel",
      "state": {
       "width": "14%"
      }
     },
     "041577110dea4d1eac119cf4d83bc84b": {
      "model_module": "@jupyter-widgets/controls",
      "model_module_version": "1.5.0",
      "model_name": "DescriptionStyleModel",
      "state": {
       "description_width": ""
      }
     },
     "04241df3ada9429787818c0f99fc9e38": {
      "model_module": "@jupyter-widgets/base",
      "model_module_version": "1.2.0",
      "model_name": "LayoutModel",
      "state": {}
     },
     "0439f134eba147b2bae7624b02ab52a8": {
      "model_module": "@jupyter-widgets/controls",
      "model_module_version": "1.5.0",
      "model_name": "DropdownModel",
      "state": {
       "_options_labels": [
        "Segment",
        "x1",
        "x2",
        "x3",
        "x4",
        "x5",
        "Label",
        "Minority",
        "Majority",
        "Age >= 62",
        "Age < 62"
       ],
       "index": 0,
       "layout": "IPY_MODEL_23831650e34747c489df37c65473b34d",
       "style": "IPY_MODEL_c4a6a23a91354847a69919707e200b42"
      }
     },
     "0455bf60264d4ffdba8fe4892b98162a": {
      "model_module": "@jupyter-widgets/base",
      "model_module_version": "1.2.0",
      "model_name": "LayoutModel",
      "state": {
       "display": "flex",
       "flex_flow": "column",
       "width": "auto"
      }
     },
     "046946ff704243f98ebeae90aae81938": {
      "model_module": "@jupyter-widgets/controls",
      "model_module_version": "1.5.0",
      "model_name": "HTMLModel",
      "state": {
       "layout": "IPY_MODEL_2b9a1697eb194b1eb14538b12f6ffd35",
       "style": "IPY_MODEL_097eab3b7286457f8c7766636b3bb4fa",
       "value": "Reference Weight:"
      }
     },
     "04727545367e4de4b3e45b86145f0ed7": {
      "model_module": "@jupyter-widgets/base",
      "model_module_version": "1.2.0",
      "model_name": "LayoutModel",
      "state": {
       "width": "auto"
      }
     },
     "04a02551f649460f81ae879ad256441d": {
      "model_module": "@jupyter-widgets/base",
      "model_module_version": "1.2.0",
      "model_name": "LayoutModel",
      "state": {
       "width": "15%"
      }
     },
     "04ccbd4cc96547b39d6c94897993185e": {
      "model_module": "@jupyter-widgets/base",
      "model_module_version": "1.2.0",
      "model_name": "LayoutModel",
      "state": {}
     },
     "05291a5dc9e844e7b35e8d3dc0e09b31": {
      "model_module": "@jupyter-widgets/base",
      "model_module_version": "1.2.0",
      "model_name": "LayoutModel",
      "state": {}
     },
     "0560240142ac4dbe8107eae1d2123cf1": {
      "model_module": "@jupyter-widgets/base",
      "model_module_version": "1.2.0",
      "model_name": "LayoutModel",
      "state": {
       "width": "65%"
      }
     },
     "0569e9e40dd84cf2a0725e37080f56c3": {
      "model_module": "@jupyter-widgets/base",
      "model_module_version": "1.2.0",
      "model_name": "LayoutModel",
      "state": {}
     },
     "0589d8b285b3489885af2e648338e093": {
      "model_module": "@jupyter-widgets/controls",
      "model_module_version": "1.5.0",
      "model_name": "DropdownModel",
      "state": {
       "_options_labels": [
        "Select Data",
        "CoCircles",
        "Friedman",
        "BikeSharing",
        "TaiwanCredit",
        "CaliforniaHousing_raw",
        "CaliforniaHousing_trim1",
        "CaliforniaHousing_trim2",
        "SolasSimu1",
        "SolasHMDA",
        "Upload new data"
       ],
       "index": 8,
       "layout": "IPY_MODEL_5805dc3932b344d6a237aa0d228bda17",
       "style": "IPY_MODEL_74aa2786b2b94657a074725887fcba73"
      }
     },
     "05abbe5ec2ef4c21850f16d264861600": {
      "model_module": "@jupyter-widgets/controls",
      "model_module_version": "1.5.0",
      "model_name": "DescriptionStyleModel",
      "state": {
       "description_width": ""
      }
     },
     "05df4b465b5849e7bb675763ca9d8f12": {
      "model_module": "@jupyter-widgets/controls",
      "model_module_version": "1.5.0",
      "model_name": "CheckboxModel",
      "state": {
       "description": "GAM",
       "disabled": false,
       "indent": false,
       "layout": "IPY_MODEL_206f223c224e436da2b90621e8a67223",
       "style": "IPY_MODEL_038fb1bf149e4523a9b0d0824731abea",
       "value": false
      }
     },
     "05e10c85db0d4523806ee2b3dce17a2f": {
      "model_module": "@jupyter-widgets/base",
      "model_module_version": "1.2.0",
      "model_name": "LayoutModel",
      "state": {
       "align_items": "center",
       "display": "flex",
       "flex_flow": "row",
       "width": "100%"
      }
     },
     "05e62a372740463d9304ef156fee22fa": {
      "model_module": "@jupyter-widgets/controls",
      "model_module_version": "1.5.0",
      "model_name": "HTMLModel",
      "state": {
       "layout": "IPY_MODEL_2ec5263e89844ec5b864601cb80b8976",
       "style": "IPY_MODEL_c350fe6964504053b7e702c007faa01f",
       "value": "<div style='margin-top: 5px'></div>"
      }
     },
     "06327f2e50f34c56ae6d86643277049f": {
      "model_module": "@jupyter-widgets/controls",
      "model_module_version": "1.5.0",
      "model_name": "DescriptionStyleModel",
      "state": {
       "description_width": "initial"
      }
     },
     "068dc6cc1f3d48da8624629ff72ac23e": {
      "model_module": "@jupyter-widgets/base",
      "model_module_version": "1.2.0",
      "model_name": "LayoutModel",
      "state": {}
     },
     "06b217dbf21d4ceabbff014566833d37": {
      "model_module": "@jupyter-widgets/base",
      "model_module_version": "1.2.0",
      "model_name": "LayoutModel",
      "state": {}
     },
     "06c0b1bb9cb54f81a3e8cbf5fa257273": {
      "model_module": "@jupyter-widgets/controls",
      "model_module_version": "1.5.0",
      "model_name": "DescriptionStyleModel",
      "state": {
       "description_width": "initial"
      }
     },
     "06c2eadbcab34041aba334409bf1aec4": {
      "model_module": "@jupyter-widgets/controls",
      "model_module_version": "1.5.0",
      "model_name": "BoxModel",
      "state": {
       "layout": "IPY_MODEL_c9a7575244a2412ea2a5b0daab12baf4"
      }
     },
     "06d49bfc4c4342649626493bdfeb0043": {
      "model_module": "@jupyter-widgets/controls",
      "model_module_version": "1.5.0",
      "model_name": "BoxModel",
      "state": {
       "layout": "IPY_MODEL_b3d3c51fa36d4b3bae4add15804d0e15"
      }
     },
     "06d6dc355a464479a05b19a774c6a51b": {
      "model_module": "@jupyter-widgets/base",
      "model_module_version": "1.2.0",
      "model_name": "LayoutModel",
      "state": {
       "width": "99%"
      }
     },
     "06daf12cf5b549248962976444a86188": {
      "model_module": "@jupyter-widgets/controls",
      "model_module_version": "1.5.0",
      "model_name": "ButtonModel",
      "state": {
       "_dom_classes": [
        "pbtn"
       ],
       "button_style": "danger",
       "description": "UPDATE",
       "layout": "IPY_MODEL_f5ff0f8b485f4f4aa791783ab671f5bf",
       "style": "IPY_MODEL_f19655bb9d9d4d6bbb007e8135dc5b4e"
      }
     },
     "06db83c491ae4798897452fd42158308": {
      "model_module": "@jupyter-widgets/controls",
      "model_module_version": "1.5.0",
      "model_name": "DescriptionStyleModel",
      "state": {
       "description_width": ""
      }
     },
     "0702e80d291d441cbf90ddba8e149bf2": {
      "model_module": "@jupyter-widgets/controls",
      "model_module_version": "1.5.0",
      "model_name": "TextModel",
      "state": {
       "layout": "IPY_MODEL_b1e9fb1d695c48bd90d3256fc9a93d5d",
       "placeholder": "Category Name",
       "style": "IPY_MODEL_c17363f906fc4710a060f9207079897e",
       "value": "Age"
      }
     },
     "0749b3c077a04fc3a6e4d0ad6cedfd90": {
      "model_module": "@jupyter-widgets/controls",
      "model_module_version": "1.5.0",
      "model_name": "HTMLModel",
      "state": {
       "layout": "IPY_MODEL_bf807c3e75fc446b845cea606cb8ded4",
       "style": "IPY_MODEL_adc1f8d0ce8a4c768a3a727029f6bb7c",
       "value": "<h4 style='margin: 10px 0px;'>Customize Model</h4>"
      }
     },
     "0752b0ecdc104a5e9694606abe1345c4": {
      "model_module": "@jupyter-widgets/base",
      "model_module_version": "1.2.0",
      "model_name": "LayoutModel",
      "state": {}
     },
     "079d4f63b9b44ad7a0acc862291c9d4a": {
      "model_module": "@jupyter-widgets/base",
      "model_module_version": "1.2.0",
      "model_name": "LayoutModel",
      "state": {}
     },
     "07afaa6e7ee64a249a1b0a4174b0f7d1": {
      "model_module": "@jupyter-widgets/controls",
      "model_module_version": "1.5.0",
      "model_name": "DescriptionStyleModel",
      "state": {
       "description_width": ""
      }
     },
     "07c980d3036a46ec8527ff865f644e31": {
      "model_module": "@jupyter-widgets/controls",
      "model_module_version": "1.5.0",
      "model_name": "HTMLModel",
      "state": {
       "layout": "IPY_MODEL_c0951929382d436f9e2c5e330ade84cc",
       "style": "IPY_MODEL_b8eb75f7b6ca412d816a56ea463bf0dd",
       "value": "Feature_increasing:"
      }
     },
     "07c9f2aeaddb469483e300bd119e36bb": {
      "model_module": "@jupyter-widgets/controls",
      "model_module_version": "1.5.0",
      "model_name": "TextModel",
      "state": {
       "layout": "IPY_MODEL_34d0d8b269af44b383f3c5b4b097b78e",
       "placeholder": "1,2... or \"f1\",\"f2\"...",
       "style": "IPY_MODEL_182133b7888e424d826661ae34f23cad"
      }
     },
     "07fc446b5fb84103826fd90e7c3e0c4b": {
      "model_module": "@jupyter-widgets/controls",
      "model_module_version": "1.5.0",
      "model_name": "DescriptionStyleModel",
      "state": {
       "description_width": ""
      }
     },
     "080448b2a8ec4ca3b0a6799b0a29d8a0": {
      "model_module": "@jupyter-widgets/controls",
      "model_module_version": "1.5.0",
      "model_name": "HTMLModel",
      "state": {
       "layout": "IPY_MODEL_5a178cba4efb4964bd27739265e5830a",
       "style": "IPY_MODEL_e1a828e998ea45139a505d5c95623508",
       "value": "Max_iterations:"
      }
     },
     "081eb7f8eaa447628e80faa44ac603f7": {
      "model_module": "@jupyter-widgets/base",
      "model_module_version": "1.2.0",
      "model_name": "LayoutModel",
      "state": {}
     },
     "0891d89959c94388b3b4b462a63208a2": {
      "model_module": "@jupyter-widgets/controls",
      "model_module_version": "1.5.0",
      "model_name": "DescriptionStyleModel",
      "state": {
       "description_width": ""
      }
     },
     "08bb24488e9b4f049146b69e5f8b225d": {
      "model_module": "@jupyter-widgets/base",
      "model_module_version": "1.2.0",
      "model_name": "LayoutModel",
      "state": {}
     },
     "08f6d310d0ec42c6811155e5df9bce63": {
      "model_module": "@jupyter-widgets/controls",
      "model_module_version": "1.5.0",
      "model_name": "BoundedFloatTextModel",
      "state": {
       "layout": "IPY_MODEL_fdb35bc0d01f4ed180d166f8ba97f04e",
       "max": 1,
       "step": null,
       "style": "IPY_MODEL_f93df42c2b0b45a0861e5b138aef0c55",
       "value": 0.3
      }
     },
     "0915439854b749a18759817a9f2f4f81": {
      "model_module": "@jupyter-widgets/controls",
      "model_module_version": "1.5.0",
      "model_name": "BoxModel",
      "state": {
       "children": [
        "IPY_MODEL_54c7ed68e8314eafbcd42405d9058f17",
        "IPY_MODEL_ca2d371d258349418c47a8176eaf4603"
       ],
       "layout": "IPY_MODEL_84ca2ba189ef4299904eb715c131ede7"
      }
     },
     "0922dd302a574c3ba4f3940c9ea828a2": {
      "model_module": "@jupyter-widgets/controls",
      "model_module_version": "1.5.0",
      "model_name": "ButtonModel",
      "state": {
       "_dom_classes": [
        "pbtn"
       ],
       "button_style": "danger",
       "icon": "cog",
       "layout": "IPY_MODEL_25427745e0bc4ccca768ad20841fbae8",
       "style": "IPY_MODEL_8b26b546a31a47e38bc80d05ad717678"
      }
     },
     "093e59be2ded45759263e25f5d5b4463": {
      "model_module": "@jupyter-widgets/base",
      "model_module_version": "1.2.0",
      "model_name": "LayoutModel",
      "state": {
       "width": "99%"
      }
     },
     "095de74938444043a22340c1088a636b": {
      "model_module": "@jupyter-widgets/base",
      "model_module_version": "1.2.0",
      "model_name": "LayoutModel",
      "state": {}
     },
     "097eab3b7286457f8c7766636b3bb4fa": {
      "model_module": "@jupyter-widgets/controls",
      "model_module_version": "1.5.0",
      "model_name": "DescriptionStyleModel",
      "state": {
       "description_width": ""
      }
     },
     "098d2037946a46a99a09a27ebb9e15d4": {
      "model_module": "@jupyter-widgets/controls",
      "model_module_version": "1.5.0",
      "model_name": "DescriptionStyleModel",
      "state": {
       "description_width": "initial"
      }
     },
     "09991c3ba27c4634b5545d89addb1bb0": {
      "model_module": "@jupyter-widgets/output",
      "model_module_version": "1.0.0",
      "model_name": "OutputModel",
      "state": {
       "layout": "IPY_MODEL_0285a2082fbd4a1995423feda3ca63f4",
       "outputs": [
        {
         "data": {
          "application/vnd.jupyter.widget-view+json": {
           "model_id": "532d7f8b5b554586881d29552c51b558",
           "version_major": 2,
           "version_minor": 0
          },
          "text/plain": "VBox(children=(HTML(value=\"<div class='divider'></div>\"), HTML(value=\"<h4 style='margin-top: 5px;margin-bottom…"
         },
         "metadata": {},
         "output_type": "display_data"
        },
        {
         "data": {
          "application/vnd.jupyter.widget-view+json": {
           "model_id": "deb11cf266a5491db66f76e9c4c1e720",
           "version_major": 2,
           "version_minor": 0
          },
          "text/plain": "HTML(value=\"\\n        <table class='ptable striped'>\\n            <thead class='pthead'>\\n                <tr …"
         },
         "metadata": {},
         "output_type": "display_data"
        }
       ]
      }
     },
     "09fb0b615d094865bae92ffa43e3688b": {
      "model_module": "@jupyter-widgets/controls",
      "model_module_version": "1.5.0",
      "model_name": "HTMLModel",
      "state": {
       "layout": "IPY_MODEL_f2c3bdd978034303b3966f9df702a162",
       "style": "IPY_MODEL_8040ad1aa00f4fe09483effa987f844e",
       "value": "<p class=\"notification info\">Excluded attribute \"Age < 62\"</p>"
      }
     },
     "09fd506d2b8f40199547c2e80fc2622f": {
      "model_module": "@jupyter-widgets/base",
      "model_module_version": "1.2.0",
      "model_name": "LayoutModel",
      "state": {
       "width": "auto"
      }
     },
     "09fdb7b07d534d6c82fdbd25caf6849f": {
      "model_module": "@jupyter-widgets/controls",
      "model_module_version": "1.5.0",
      "model_name": "DescriptionStyleModel",
      "state": {
       "description_width": ""
      }
     },
     "0a134f282b2c4c0bbdb4a05a96393a69": {
      "model_module": "@jupyter-widgets/controls",
      "model_module_version": "1.5.0",
      "model_name": "DescriptionStyleModel",
      "state": {
       "description_width": ""
      }
     },
     "0a1752ac7ddf4cdca5f9f49df5f41621": {
      "model_module": "@jupyter-widgets/base",
      "model_module_version": "1.2.0",
      "model_name": "LayoutModel",
      "state": {
       "justify_content": "space-around"
      }
     },
     "0a194e8b2efe4b4798585b3b42279612": {
      "model_module": "@jupyter-widgets/controls",
      "model_module_version": "1.5.0",
      "model_name": "HTMLModel",
      "state": {
       "layout": "IPY_MODEL_38ff37aa259b4ba8aa22ba6d57ad198c",
       "style": "IPY_MODEL_546bcd428113498e8e339f7fcd648990",
       "value": "<div style='margin-top: 10px'></div>"
      }
     },
     "0a4e33d83e1a4a1fb76ab180b2728f70": {
      "model_module": "@jupyter-widgets/controls",
      "model_module_version": "1.5.0",
      "model_name": "DropdownModel",
      "state": {
       "_options_labels": [
        "Select Model",
        "XGB2"
       ],
       "description": "Model Name:",
       "index": 1,
       "layout": "IPY_MODEL_230908b203ba488b9292d7e06492f4ed",
       "style": "IPY_MODEL_0c40475d9f52408183f8d99f7da24828"
      }
     },
     "0a645432bb1646a2a662ffe6c8ec3659": {
      "model_module": "@jupyter-widgets/controls",
      "model_module_version": "1.5.0",
      "model_name": "DescriptionStyleModel",
      "state": {
       "description_width": "initial"
      }
     },
     "0a7df788001345dd813a13626ea54329": {
      "model_module": "@jupyter-widgets/controls",
      "model_module_version": "1.5.0",
      "model_name": "DescriptionStyleModel",
      "state": {
       "description_width": "initial"
      }
     },
     "0a7e1d06f5374382aeb2d76df045e498": {
      "model_module": "@jupyter-widgets/controls",
      "model_module_version": "1.5.0",
      "model_name": "DropdownModel",
      "state": {
       "_options_labels": [
        "Segment 1",
        "Segment 10",
        "Segment 11",
        "Segment 12",
        "Segment 13",
        "Segment 14",
        "Segment 15",
        "Segment 2",
        "Segment 3",
        "Segment 4",
        "Segment 5",
        "Segment 6",
        "Segment 7",
        "Segment 8",
        "Segment 9"
       ],
       "index": 0,
       "layout": "IPY_MODEL_5487b7fa3bdc4798a7e5f1b0a0c1bd47",
       "style": "IPY_MODEL_06327f2e50f34c56ae6d86643277049f"
      }
     },
     "0a8d51eb8faf410d92244ea119ce97b6": {
      "model_module": "@jupyter-widgets/base",
      "model_module_version": "1.2.0",
      "model_name": "LayoutModel",
      "state": {}
     },
     "0a95126f6a0e418ebbcf8ae3ec6c34e2": {
      "model_module": "@jupyter-widgets/controls",
      "model_module_version": "1.5.0",
      "model_name": "DropdownModel",
      "state": {
       "_options_labels": [
        "Segment",
        "x1",
        "x2",
        "x3",
        "x4",
        "x5",
        "Label",
        "Minority",
        "Majority",
        "Age >= 62",
        "Age < 62"
       ],
       "index": 10,
       "layout": "IPY_MODEL_c3735bd602d34e5799d8ee9585bef5cf",
       "style": "IPY_MODEL_2ef7d548e5d640d5918e83489792dd65"
      }
     },
     "0a979ddcbaeb497eb9b652b985fa46d0": {
      "model_module": "@jupyter-widgets/controls",
      "model_module_version": "1.5.0",
      "model_name": "TextModel",
      "state": {
       "layout": "IPY_MODEL_22939f0c0e3646d49ae2719cc280c57b",
       "placeholder": "Input name",
       "style": "IPY_MODEL_7d971f47b88540c59e061ee3d4fa8fbf",
       "value": "FIGS"
      }
     },
     "0ad1c2cdc3f84e269b858647d7e9286f": {
      "model_module": "@jupyter-widgets/controls",
      "model_module_version": "1.5.0",
      "model_name": "VBoxModel",
      "state": {
       "children": [
        "IPY_MODEL_5d9355af1512449e9d85cce6bb3e0083",
        "IPY_MODEL_0f6e4a4c3ab7419eb1b12e53916bacb6",
        "IPY_MODEL_c269ca6af82643d7bf7ba6b25dcdefba",
        "IPY_MODEL_586e5146e08b483a89f51a97a492c968",
        "IPY_MODEL_eda60380c4aa46869a56596ce00538f5",
        "IPY_MODEL_48c449483c9449ec8255b4c535b91137",
        "IPY_MODEL_d191a70367e84a26bf7f62df133b2a53",
        "IPY_MODEL_3bc10842b3e441c39a144ff5900d1145"
       ],
       "layout": "IPY_MODEL_a9a892abae3d4f71a43ce04733ef69e3"
      }
     },
     "0ad5ddb8e72a4edcb2361e8bd86826f2": {
      "model_module": "@jupyter-widgets/controls",
      "model_module_version": "1.5.0",
      "model_name": "ButtonStyleModel",
      "state": {}
     },
     "0aea7d7ab6b4436097810b16e90b2fe9": {
      "model_module": "@jupyter-widgets/base",
      "model_module_version": "1.2.0",
      "model_name": "LayoutModel",
      "state": {}
     },
     "0b219746f7f34b8c962554bd34ca2b3a": {
      "model_module": "@jupyter-widgets/base",
      "model_module_version": "1.2.0",
      "model_name": "LayoutModel",
      "state": {}
     },
     "0b296bafefff4cbda7b5c71a0f2fc1f4": {
      "model_module": "@jupyter-widgets/base",
      "model_module_version": "1.2.0",
      "model_name": "LayoutModel",
      "state": {}
     },
     "0b8b33ccd660445e8be463a78de0f44a": {
      "model_module": "@jupyter-widgets/controls",
      "model_module_version": "1.5.0",
      "model_name": "HTMLModel",
      "state": {
       "layout": "IPY_MODEL_3f12de982ae74960a52543e9e2f6a817",
       "style": "IPY_MODEL_91a767ea2e8f4540bc60a7c22f194e2a",
       "value": "<p>Sample Weight:</p>"
      }
     },
     "0bb3e23ea9fb4c67b0903e78be9288e7": {
      "model_module": "@jupyter-widgets/base",
      "model_module_version": "1.2.0",
      "model_name": "LayoutModel",
      "state": {}
     },
     "0beaaac62029421fa59dc5539d0d5293": {
      "model_module": "@jupyter-widgets/base",
      "model_module_version": "1.2.0",
      "model_name": "LayoutModel",
      "state": {
       "width": "100%"
      }
     },
     "0bf6e5d455f544f699efc37f438881f0": {
      "model_module": "@jupyter-widgets/base",
      "model_module_version": "1.2.0",
      "model_name": "LayoutModel",
      "state": {
       "width": "auto"
      }
     },
     "0bfebc5044ee47cab965e267645eeaae": {
      "model_module": "@jupyter-widgets/base",
      "model_module_version": "1.2.0",
      "model_name": "LayoutModel",
      "state": {}
     },
     "0c14c012309548ab97c1df8b5c4a1e7a": {
      "model_module": "@jupyter-widgets/base",
      "model_module_version": "1.2.0",
      "model_name": "LayoutModel",
      "state": {
       "width": "99%"
      }
     },
     "0c40475d9f52408183f8d99f7da24828": {
      "model_module": "@jupyter-widgets/controls",
      "model_module_version": "1.5.0",
      "model_name": "DescriptionStyleModel",
      "state": {
       "description_width": "initial"
      }
     },
     "0c47241b7a7b452d9225ecb685ddaf4b": {
      "model_module": "@jupyter-widgets/base",
      "model_module_version": "1.2.0",
      "model_name": "LayoutModel",
      "state": {}
     },
     "0c4bc8074344476bb018227e903a39ba": {
      "model_module": "@jupyter-widgets/controls",
      "model_module_version": "1.5.0",
      "model_name": "DescriptionStyleModel",
      "state": {
       "description_width": "initial"
      }
     },
     "0cb178e02b524bfdb05231ebc5aeba6d": {
      "model_module": "@jupyter-widgets/base",
      "model_module_version": "1.2.0",
      "model_name": "LayoutModel",
      "state": {}
     },
     "0cbb69f9f51b43c79465fed53366b155": {
      "model_module": "@jupyter-widgets/base",
      "model_module_version": "1.2.0",
      "model_name": "LayoutModel",
      "state": {
       "width": "40%"
      }
     },
     "0cc8519ce56e492f9c0474111924f6fa": {
      "model_module": "@jupyter-widgets/base",
      "model_module_version": "1.2.0",
      "model_name": "LayoutModel",
      "state": {}
     },
     "0ce53b5fbbc847388b1a4e19e9c12ac4": {
      "model_module": "@jupyter-widgets/controls",
      "model_module_version": "1.5.0",
      "model_name": "HTMLModel",
      "state": {
       "layout": "IPY_MODEL_71d4091d8c284285a8e5ecf4c7adf66a",
       "style": "IPY_MODEL_6aaadeaeb3a141bf948c181f2e1bdca9",
       "value": "<h4 style='margin-top: 5px;margin-bottom: 0px;'>Registered Model</h4>"
      }
     },
     "0ce74351310048478c6bf47e95069ffe": {
      "model_module": "@jupyter-widgets/controls",
      "model_module_version": "1.5.0",
      "model_name": "DescriptionStyleModel",
      "state": {
       "description_width": ""
      }
     },
     "0d109977b949412b9b888152a44533b6": {
      "model_module": "@jupyter-widgets/controls",
      "model_module_version": "1.5.0",
      "model_name": "DescriptionStyleModel",
      "state": {
       "description_width": "initial"
      }
     },
     "0d1d7e71b25d47479ab4d91bf3122d71": {
      "model_module": "@jupyter-widgets/controls",
      "model_module_version": "1.5.0",
      "model_name": "DropdownModel",
      "state": {
       "_options_labels": [
        "Type",
        "categorical",
        "numerical"
       ],
       "index": 0,
       "layout": "IPY_MODEL_b7a159c4e8a54bd99fbb6207655fdfd7",
       "style": "IPY_MODEL_343da7fbfae141e69af850a72e4c3d86"
      }
     },
     "0d348ab7cffd46e9b1997f4eccffd22d": {
      "model_module": "@jupyter-widgets/controls",
      "model_module_version": "1.5.0",
      "model_name": "HTMLModel",
      "state": {
       "layout": "IPY_MODEL_781356985482483ba0211f6881f64e2a",
       "style": "IPY_MODEL_594ee31c2e5f498b9586dc0a73f354d8",
       "value": " Early_stop_tol:"
      }
     },
     "0d56e7a93b5c4d57b9a0aea188888037": {
      "model_module": "@jupyter-widgets/controls",
      "model_module_version": "1.5.0",
      "model_name": "HBoxModel",
      "state": {
       "children": [
        "IPY_MODEL_c2d924edd71747c88000dfd9f8da3d28",
        "IPY_MODEL_3f9b07b85c8547f087a72cfd1786d649"
       ],
       "layout": "IPY_MODEL_2b643fc8cc884407b029eb8b6df4a233"
      }
     },
     "0dbe97ceb15246dcb521400d2071aef8": {
      "model_module": "@jupyter-widgets/controls",
      "model_module_version": "1.5.0",
      "model_name": "DescriptionStyleModel",
      "state": {
       "description_width": "initial"
      }
     },
     "0dca8a76068e4850937e7226e49bd7f5": {
      "model_module": "@jupyter-widgets/controls",
      "model_module_version": "1.5.0",
      "model_name": "DescriptionStyleModel",
      "state": {
       "description_width": ""
      }
     },
     "0de76b0c5f3440419eb6fbf86d51a9a9": {
      "model_module": "@jupyter-widgets/base",
      "model_module_version": "1.2.0",
      "model_name": "LayoutModel",
      "state": {
       "width": "155px"
      }
     },
     "0deb9209352d4958b318a0a2b844d91a": {
      "model_module": "@jupyter-widgets/base",
      "model_module_version": "1.2.0",
      "model_name": "LayoutModel",
      "state": {
       "width": "100%"
      }
     },
     "0e10ea06c0e346e19a9539389e7d175f": {
      "model_module": "@jupyter-widgets/base",
      "model_module_version": "1.2.0",
      "model_name": "LayoutModel",
      "state": {}
     },
     "0e17c2457d094a949d1684c1683dafca": {
      "model_module": "@jupyter-widgets/controls",
      "model_module_version": "1.5.0",
      "model_name": "BoxModel",
      "state": {
       "_dom_classes": [
        "inner-card"
       ],
       "children": [
        "IPY_MODEL_265b49d1375d4185a7588382a4197dc6"
       ],
       "layout": "IPY_MODEL_cc0e96ab1a2f49e0b0cc25231dd30f8b"
      }
     },
     "0e4918e9630949c8bb678155bfee8851": {
      "model_module": "@jupyter-widgets/controls",
      "model_module_version": "1.5.0",
      "model_name": "DescriptionStyleModel",
      "state": {
       "description_width": ""
      }
     },
     "0e50b3a94e17458fb649f32ca5c6f78a": {
      "model_module": "@jupyter-widgets/base",
      "model_module_version": "1.2.0",
      "model_name": "LayoutModel",
      "state": {
       "width": "100%"
      }
     },
     "0e560ec87cad40e88b1658c0b544a12a": {
      "model_module": "@jupyter-widgets/controls",
      "model_module_version": "1.5.0",
      "model_name": "HTMLModel",
      "state": {
       "layout": "IPY_MODEL_0a8d51eb8faf410d92244ea119ce97b6",
       "style": "IPY_MODEL_22052baefbaf43328a62587a4891fc71",
       "value": "<link rel=\"stylesheet\" href=\"//stackpath.bootstrapcdn.com/font-awesome/4.7.0/css/font-awesome.min.css\"/>"
      }
     },
     "0e762edc237843a8a219de5f4e9cb6ff": {
      "model_module": "@jupyter-widgets/controls",
      "model_module_version": "1.5.0",
      "model_name": "DescriptionStyleModel",
      "state": {
       "description_width": ""
      }
     },
     "0e873181c4bf4b3ea79f4ccb49cb2695": {
      "model_module": "@jupyter-widgets/base",
      "model_module_version": "1.2.0",
      "model_name": "LayoutModel",
      "state": {
       "width": "auto"
      }
     },
     "0eb227c333374e288b043c0bbd20b4f7": {
      "model_module": "@jupyter-widgets/controls",
      "model_module_version": "1.5.0",
      "model_name": "HTMLModel",
      "state": {
       "layout": "IPY_MODEL_e79adccfbb024dba9dbc5d7a14829956",
       "style": "IPY_MODEL_e8dbceb8a1b245afa2c467d96034fcab"
      }
     },
     "0efc0d315eb24ca69fa25bab7956f44d": {
      "model_module": "@jupyter-widgets/controls",
      "model_module_version": "1.5.0",
      "model_name": "DropdownModel",
      "state": {
       "_options_labels": [
        "gini",
        "entropy",
        "log_loss"
       ],
       "index": 0,
       "layout": "IPY_MODEL_348333221fa747b1aa8a901c57d0a84c",
       "style": "IPY_MODEL_df4c9bfbfcba452e907bcc6d5dfe09d5"
      }
     },
     "0f03d8a4e89b41a3b9d045a450c26ee0": {
      "model_module": "@jupyter-widgets/base",
      "model_module_version": "1.2.0",
      "model_name": "LayoutModel",
      "state": {}
     },
     "0f35e7d4646c4ae88a69d9244b8fe732": {
      "model_module": "@jupyter-widgets/controls",
      "model_module_version": "1.5.0",
      "model_name": "BoundedIntTextModel",
      "state": {
       "layout": "IPY_MODEL_dee8b6bdd0514605a1ba5d2e5b1c9c96",
       "max": 10000,
       "style": "IPY_MODEL_06c0b1bb9cb54f81a3e8cbf5fa257273",
       "value": 256
      }
     },
     "0f3d1033358f4023ac4076ce7674e28f": {
      "model_module": "@jupyter-widgets/base",
      "model_module_version": "1.2.0",
      "model_name": "LayoutModel",
      "state": {}
     },
     "0f541e9f13d646a4b6034cf120add244": {
      "model_module": "@jupyter-widgets/base",
      "model_module_version": "1.2.0",
      "model_name": "LayoutModel",
      "state": {}
     },
     "0f5ed8cb71b7446fb5d6c82bf23f81eb": {
      "model_module": "@jupyter-widgets/base",
      "model_module_version": "1.2.0",
      "model_name": "LayoutModel",
      "state": {}
     },
     "0f6e4a4c3ab7419eb1b12e53916bacb6": {
      "model_module": "@jupyter-widgets/controls",
      "model_module_version": "1.5.0",
      "model_name": "BoundedIntTextModel",
      "state": {
       "layout": "IPY_MODEL_9d9176d2a56c4303a32b81cc1ad3e204",
       "max": 100000,
       "min": 1,
       "style": "IPY_MODEL_72a6956d18ff4d8ea3738db2e20460d1",
       "value": 1000
      }
     },
     "0f9aed9e9f504d28a62a4c9027475855": {
      "model_module": "@jupyter-widgets/base",
      "model_module_version": "1.2.0",
      "model_name": "LayoutModel",
      "state": {}
     },
     "0fd47e94e3c149c99dac79ec7eb2c637": {
      "model_module": "@jupyter-widgets/base",
      "model_module_version": "1.2.0",
      "model_name": "LayoutModel",
      "state": {
       "width": "155px"
      }
     },
     "0fe026ff9b5043ddb8ecc8e3b62a532a": {
      "model_module": "@jupyter-widgets/controls",
      "model_module_version": "1.5.0",
      "model_name": "HTMLModel",
      "state": {
       "layout": "IPY_MODEL_76fd25a19941493e8fa9c8cc0869461f",
       "style": "IPY_MODEL_dbd65f330f774780bba317435760a435",
       "value": "<div style='margin-top: 20px'></div>"
      }
     },
     "0fe5a2955926461ba9e0c30c721dfd9c": {
      "model_module": "@jupyter-widgets/controls",
      "model_module_version": "1.5.0",
      "model_name": "HTMLModel",
      "state": {
       "layout": "IPY_MODEL_48313a9f43d4457e954b50abbf946d43",
       "style": "IPY_MODEL_e8fb7aa8d02d44468759ce24188e2a02",
       "value": "Prune_parameter:"
      }
     },
     "100dc8d4886c4eaab186890b0e2bf511": {
      "model_module": "@jupyter-widgets/output",
      "model_module_version": "1.0.0",
      "model_name": "OutputModel",
      "state": {
       "layout": "IPY_MODEL_9a2c40155e9e43409f4f92edc3864471",
       "outputs": [
        {
         "data": {
          "application/vnd.jupyter.widget-view+json": {
           "model_id": "44be19de00f0419caebcfd474f348780",
           "version_major": 2,
           "version_minor": 0
          },
          "text/plain": "HBox(children=(VBox(children=(Text(value='', layout=Layout(width='auto'), placeholder='Category Name', style=D…"
         },
         "metadata": {},
         "output_type": "display_data"
        }
       ]
      }
     },
     "105a5945d1da4aa5a9de460224fb5853": {
      "model_module": "@jupyter-widgets/controls",
      "model_module_version": "1.5.0",
      "model_name": "VBoxModel",
      "state": {
       "children": [
        "IPY_MODEL_ed6c07f79b8f43ef8625843eafa67072",
        "IPY_MODEL_d7e9d4bce308491d847f096cea0f9c08",
        "IPY_MODEL_302d66617e10419b9531323cd89b9169",
        "IPY_MODEL_1e0b3b1e346f439ab60511365133ad57"
       ],
       "layout": "IPY_MODEL_20d4a2dd8ad8407797bdbd9985868351"
      }
     },
     "106f78fb25da4795b3ac96b156bf608f": {
      "model_module": "@jupyter-widgets/controls",
      "model_module_version": "1.5.0",
      "model_name": "DescriptionStyleModel",
      "state": {
       "description_width": ""
      }
     },
     "10b76fc3c53d4ea18ad57141ef459edd": {
      "model_module": "@jupyter-widgets/controls",
      "model_module_version": "1.5.0",
      "model_name": "HTMLModel",
      "state": {
       "layout": "IPY_MODEL_e3f2c62b714b4bb6ab6376a0dd4bc3c2",
       "style": "IPY_MODEL_50fdf6f1b75f409683993463a0451678",
       "value": "<p>Target Variable:</p>"
      }
     },
     "10bd1b8035294742a034da4b64c0da4c": {
      "model_module": "@jupyter-widgets/base",
      "model_module_version": "1.2.0",
      "model_name": "LayoutModel",
      "state": {
       "width": "20%"
      }
     },
     "10f38baeed244933bcb3dbb4df4167bc": {
      "model_module": "@jupyter-widgets/base",
      "model_module_version": "1.2.0",
      "model_name": "LayoutModel",
      "state": {
       "width": "100%"
      }
     },
     "11193752e5e941df959b2ceb57d5e4bf": {
      "model_module": "@jupyter-widgets/controls",
      "model_module_version": "1.5.0",
      "model_name": "DescriptionStyleModel",
      "state": {
       "description_width": "initial"
      }
     },
     "112a029668fe424bb9cb6849e89ffd43": {
      "model_module": "@jupyter-widgets/base",
      "model_module_version": "1.2.0",
      "model_name": "LayoutModel",
      "state": {}
     },
     "1133255ed8dc49ef9596ea9381836e84": {
      "model_module": "@jupyter-widgets/base",
      "model_module_version": "1.2.0",
      "model_name": "LayoutModel",
      "state": {
       "display": "flex",
       "flex_flow": "column",
       "width": "auto"
      }
     },
     "1137b06a086143f5896e90a9bc7f9c6f": {
      "model_module": "@jupyter-widgets/controls",
      "model_module_version": "1.5.0",
      "model_name": "BoundedIntTextModel",
      "state": {
       "layout": "IPY_MODEL_3121a89f248445709c3bbb2f8378cfb2",
       "max": 1000,
       "min": 1,
       "style": "IPY_MODEL_8361d5a7af574d82bd3536665dd309bb",
       "value": 20
      }
     },
     "1184018b716a42978592171fdee11a65": {
      "model_module": "@jupyter-widgets/base",
      "model_module_version": "1.2.0",
      "model_name": "LayoutModel",
      "state": {
       "height": "5px"
      }
     },
     "119fad427692461c94b67e699ddc9fe6": {
      "model_module": "@jupyter-widgets/base",
      "model_module_version": "1.2.0",
      "model_name": "LayoutModel",
      "state": {}
     },
     "11ca4e4c9aca42ec8843c7d48fd3e367": {
      "model_module": "@jupyter-widgets/base",
      "model_module_version": "1.2.0",
      "model_name": "LayoutModel",
      "state": {}
     },
     "11d34d340824414695266ada3813e90d": {
      "model_module": "@jupyter-widgets/controls",
      "model_module_version": "1.5.0",
      "model_name": "DescriptionStyleModel",
      "state": {
       "description_width": "initial"
      }
     },
     "11dcfd35b7ae4bf9a20a566c21b4a605": {
      "model_module": "@jupyter-widgets/controls",
      "model_module_version": "1.5.0",
      "model_name": "HBoxModel",
      "state": {
       "children": [
        "IPY_MODEL_61f433bee68244eba88e1855afd2f7b1",
        "IPY_MODEL_2f268f7b361541949cc55d1c7c12eeb3",
        "IPY_MODEL_85a48d1a01ec4eefae51b6c84dc00c95"
       ],
       "layout": "IPY_MODEL_c2a96191202f4c25a670acfb45c7e9c4"
      }
     },
     "11e62cbf794d4914a25c29804ea692d7": {
      "model_module": "@jupyter-widgets/controls",
      "model_module_version": "1.5.0",
      "model_name": "HBoxModel",
      "state": {
       "children": [
        "IPY_MODEL_9faf9d7355b04129a663e49ffc2268a6",
        "IPY_MODEL_71b7f66d4dc042d08e416973b5856b05"
       ],
       "layout": "IPY_MODEL_ab5192d294e7478ba9a3637f2be3006d"
      }
     },
     "11fbd4be59cd49559f76db827018e8a8": {
      "model_module": "@jupyter-widgets/controls",
      "model_module_version": "1.5.0",
      "model_name": "HTMLModel",
      "state": {
       "layout": "IPY_MODEL_63c7842855c14e97bf16b26aece97fdc",
       "style": "IPY_MODEL_994fcf6768484f9d9875f9dbac3193f5",
       "value": "n_interactions:"
      }
     },
     "120c8cb73ff043e2bcba967ed94d2c29": {
      "model_module": "@jupyter-widgets/base",
      "model_module_version": "1.2.0",
      "model_name": "LayoutModel",
      "state": {}
     },
     "121695a24d374d1a8f225092a59b46ad": {
      "model_module": "@jupyter-widgets/controls",
      "model_module_version": "1.5.0",
      "model_name": "DescriptionStyleModel",
      "state": {
       "description_width": ""
      }
     },
     "1282527ef1204a199799256e02e35204": {
      "model_module": "@jupyter-widgets/controls",
      "model_module_version": "1.5.0",
      "model_name": "DescriptionStyleModel",
      "state": {
       "description_width": ""
      }
     },
     "12b2163b0ee6433d9c036788f9ebd997": {
      "model_module": "@jupyter-widgets/base",
      "model_module_version": "1.2.0",
      "model_name": "LayoutModel",
      "state": {}
     },
     "12b57895f7d44d30871356190bed42a2": {
      "model_module": "@jupyter-widgets/base",
      "model_module_version": "1.2.0",
      "model_name": "LayoutModel",
      "state": {
       "width": "auto"
      }
     },
     "12d53c630cad499383b13a63fc9e7f61": {
      "model_module": "@jupyter-widgets/controls",
      "model_module_version": "1.5.0",
      "model_name": "VBoxModel",
      "state": {
       "children": [
        "IPY_MODEL_0a95126f6a0e418ebbcf8ae3ec6c34e2"
       ],
       "layout": "IPY_MODEL_bf9a3e618802446d84456d135364d406"
      }
     },
     "12dd4628e18341929e44368434d9c4b7": {
      "model_module": "@jupyter-widgets/controls",
      "model_module_version": "1.5.0",
      "model_name": "ButtonStyleModel",
      "state": {}
     },
     "12dfd09339424ba4bfdd5c693cc9da0e": {
      "model_module": "@jupyter-widgets/base",
      "model_module_version": "1.2.0",
      "model_name": "LayoutModel",
      "state": {}
     },
     "131b252711df488fa648365fbcf31f4d": {
      "model_module": "@jupyter-widgets/base",
      "model_module_version": "1.2.0",
      "model_name": "LayoutModel",
      "state": {
       "width": "auto"
      }
     },
     "13452f0944aa42628857ad282e7a5ab9": {
      "model_module": "@jupyter-widgets/base",
      "model_module_version": "1.2.0",
      "model_name": "LayoutModel",
      "state": {}
     },
     "1353e5506915449a8fec29c6fd27221c": {
      "model_module": "@jupyter-widgets/controls",
      "model_module_version": "1.5.0",
      "model_name": "BoxModel",
      "state": {
       "_dom_classes": [
        "fix-config-from-overflow"
       ],
       "children": [
        "IPY_MODEL_b38bf9a9659e4417a49343144b6b19c4"
       ],
       "layout": "IPY_MODEL_27239804231c4d7ea30d350b8c80fcaf"
      }
     },
     "139ef49fa26b4ea38700ca3fabcd5d1d": {
      "model_module": "@jupyter-widgets/base",
      "model_module_version": "1.2.0",
      "model_name": "LayoutModel",
      "state": {}
     },
     "13d091c04ccd4c9dad048a21fe684c1b": {
      "model_module": "@jupyter-widgets/controls",
      "model_module_version": "1.5.0",
      "model_name": "HTMLModel",
      "state": {
       "layout": "IPY_MODEL_0f9aed9e9f504d28a62a4c9027475855",
       "style": "IPY_MODEL_599d52b9677742a28bbdfafb8f8c4b85",
       "value": "<h4 style='margin-top: 0px;margin-bottom: 0px;'>Leaderboard</h4>"
      }
     },
     "13d32a58649049328948ee1d7ad7817e": {
      "model_module": "@jupyter-widgets/controls",
      "model_module_version": "1.5.0",
      "model_name": "DescriptionStyleModel",
      "state": {
       "description_width": ""
      }
     },
     "13f01b1d1fb14ff7a3362a67818ac5ff": {
      "model_module": "@jupyter-widgets/output",
      "model_module_version": "1.0.0",
      "model_name": "OutputModel",
      "state": {
       "layout": "IPY_MODEL_c87ab7554652437fba38a69f700561ad"
      }
     },
     "144f7dc8434d4f018da463fa133bc392": {
      "model_module": "@jupyter-widgets/controls",
      "model_module_version": "1.5.0",
      "model_name": "HTMLModel",
      "state": {
       "layout": "IPY_MODEL_8392c245a090468ebfc1e3d981ff16d2",
       "style": "IPY_MODEL_106f78fb25da4795b3ac96b156bf608f",
       "value": " Early_stop_tol:"
      }
     },
     "1470a99e85514c3b937fcc3113e29875": {
      "model_module": "@jupyter-widgets/base",
      "model_module_version": "1.2.0",
      "model_name": "LayoutModel",
      "state": {}
     },
     "14ae65600dee44e58abdf9a4acc2d1a8": {
      "model_module": "@jupyter-widgets/controls",
      "model_module_version": "1.5.0",
      "model_name": "HBoxModel",
      "state": {
       "children": [
        "IPY_MODEL_ca0a3467069a48cd8d4d771515b8899a",
        "IPY_MODEL_5d86a32ac42c49bcadf504988c608514"
       ],
       "layout": "IPY_MODEL_b808ae0617ed40648a3069259601b832"
      }
     },
     "14bb3a9ce6b8434ea73df7b5b8ca7237": {
      "model_module": "@jupyter-widgets/base",
      "model_module_version": "1.2.0",
      "model_name": "LayoutModel",
      "state": {}
     },
     "1548638c94254f34a4f483fd8ea23a2a": {
      "model_module": "@jupyter-widgets/base",
      "model_module_version": "1.2.0",
      "model_name": "LayoutModel",
      "state": {
       "width": "25px"
      }
     },
     "15514d5598354952bdc8aee5d068edcd": {
      "model_module": "@jupyter-widgets/controls",
      "model_module_version": "1.5.0",
      "model_name": "SliderStyleModel",
      "state": {
       "description_width": ""
      }
     },
     "159efd05a8ff4f0b9c661fff67df38a9": {
      "model_module": "@jupyter-widgets/controls",
      "model_module_version": "1.5.0",
      "model_name": "HTMLModel",
      "state": {
       "layout": "IPY_MODEL_1ecdfc0440b643698f4b1caa3db79b32",
       "style": "IPY_MODEL_f733e85820b7474fbaa69b0ab51a2078",
       "value": "Subnet2_size:"
      }
     },
     "15ad05d17d20432b84a771b68495a368": {
      "model_module": "@jupyter-widgets/base",
      "model_module_version": "1.2.0",
      "model_name": "LayoutModel",
      "state": {
       "width": "auto"
      }
     },
     "15bcd752897144e4bdf19434178d7a74": {
      "model_module": "@jupyter-widgets/controls",
      "model_module_version": "1.5.0",
      "model_name": "BoxModel",
      "state": {
       "children": [
        "IPY_MODEL_f155feb326c442ee81eda121d5bf85b7"
       ],
       "layout": "IPY_MODEL_b87579aeac374ccfb013828d9ffc1c4f"
      }
     },
     "15d0ef6bda7b48a380e1144e3300226c": {
      "model_module": "@jupyter-widgets/base",
      "model_module_version": "1.2.0",
      "model_name": "LayoutModel",
      "state": {
       "width": "auto"
      }
     },
     "15e3f6f6302d4e008a6ab3c58e091fd9": {
      "model_module": "@jupyter-widgets/controls",
      "model_module_version": "1.5.0",
      "model_name": "BoundedFloatTextModel",
      "state": {
       "layout": "IPY_MODEL_facfb73d06a6406db265f8e4dfff79f4",
       "step": null,
       "style": "IPY_MODEL_23c9a02ad7e549f29925a2532080ae4d"
      }
     },
     "15e942ac09964ba6b9df84c9c3fd98f2": {
      "model_module": "@jupyter-widgets/controls",
      "model_module_version": "1.5.0",
      "model_name": "TextModel",
      "state": {
       "layout": "IPY_MODEL_5f1d77e8119d4c7c8db65c063d916110",
       "placeholder": "[40,40]...",
       "style": "IPY_MODEL_c3755e317896415bb54d8198d7820a24",
       "value": "[20,]"
      }
     },
     "15f81083b0b442f7bc03f72ed2506148": {
      "model_module": "@jupyter-widgets/base",
      "model_module_version": "1.2.0",
      "model_name": "LayoutModel",
      "state": {
       "width": "100%"
      }
     },
     "16260f0bab114d878696b137feff5ac6": {
      "model_module": "@jupyter-widgets/controls",
      "model_module_version": "1.5.0",
      "model_name": "DescriptionStyleModel",
      "state": {
       "description_width": ""
      }
     },
     "165bce8a8fd04827aa2ee4b88cbf7f2b": {
      "model_module": "@jupyter-widgets/output",
      "model_module_version": "1.0.0",
      "model_name": "OutputModel",
      "state": {
       "layout": "IPY_MODEL_81d9939f0aca429d939ed7ffc561277e",
       "outputs": [
        {
         "data": {
          "application/vnd.jupyter.widget-view+json": {
           "model_id": "695f8b92756b427e9b0b5dc6d6b40043",
           "version_major": 2,
           "version_minor": 0
          },
          "text/plain": "HTML(value=\"\\n        <table class='ptable striped'>\\n            <thead class='pthead'>\\n                <tr …"
         },
         "metadata": {},
         "output_type": "display_data"
        }
       ]
      }
     },
     "169c144f02be48f3b493d7a55f06ff66": {
      "model_module": "@jupyter-widgets/controls",
      "model_module_version": "1.5.0",
      "model_name": "DescriptionStyleModel",
      "state": {
       "description_width": "initial"
      }
     },
     "16bf49a6944a40d78ce0b905c9e271fc": {
      "model_module": "@jupyter-widgets/controls",
      "model_module_version": "1.5.0",
      "model_name": "HTMLModel",
      "state": {
       "layout": "IPY_MODEL_e1ecbbe9dbbb45c5b74eb69c1b866d79",
       "style": "IPY_MODEL_ef7455afb0224513a3675a297c3362be",
       "value": "<div style='margin-right: 10px'></div>"
      }
     },
     "16c66375283f452ab5d1f6a8e48d317d": {
      "model_module": "@jupyter-widgets/controls",
      "model_module_version": "1.5.0",
      "model_name": "BoundedFloatTextModel",
      "state": {
       "layout": "IPY_MODEL_598a0441ec924b32a0e77b4f44eebb84",
       "step": null,
       "style": "IPY_MODEL_64b08601b6a148e7a971878185b5a7c1"
      }
     },
     "16d3fc7fcd87403b988390e8c2ed64fc": {
      "model_module": "@jupyter-widgets/controls",
      "model_module_version": "1.5.0",
      "model_name": "HTMLModel",
      "state": {
       "layout": "IPY_MODEL_e4104ca803194203b4499c1221734dad",
       "style": "IPY_MODEL_ed32b6778c7b455d80970a218b82eb53",
       "value": "Learning_rates:"
      }
     },
     "16d759c4266e4c78bf805d0abe8a8009": {
      "model_module": "@jupyter-widgets/controls",
      "model_module_version": "1.5.0",
      "model_name": "TextModel",
      "state": {
       "layout": "IPY_MODEL_43276158eabc4167afd7d568f8da222a",
       "placeholder": "1,2... or \"f1\",\"f2\"...",
       "style": "IPY_MODEL_4bc26b47de3b4e9587930e5c8dd2dc9c"
      }
     },
     "174a1904b7d648b09d5875d8e566630f": {
      "model_module": "@jupyter-widgets/base",
      "model_module_version": "1.2.0",
      "model_name": "LayoutModel",
      "state": {
       "width": "99%"
      }
     },
     "17559b7ac98f4e1e8cf85f4dbeea4757": {
      "model_module": "@jupyter-widgets/controls",
      "model_module_version": "1.5.0",
      "model_name": "HTMLModel",
      "state": {
       "layout": "IPY_MODEL_7111828526e1403e8a65075666fd8eae",
       "style": "IPY_MODEL_63b688a7a4964258b3e09596760deeed",
       "value": "Inner_bags:"
      }
     },
     "17667c9f5ce84330a23cdded430fdebf": {
      "model_module": "@jupyter-widgets/controls",
      "model_module_version": "1.5.0",
      "model_name": "ButtonStyleModel",
      "state": {}
     },
     "17818a17a78d44e0a7574c7851b3eca2": {
      "model_module": "@jupyter-widgets/controls",
      "model_module_version": "1.5.0",
      "model_name": "BoundedFloatTextModel",
      "state": {
       "layout": "IPY_MODEL_a8f56d6004e4454080639f84a5b21ccf",
       "max": 1,
       "step": 0.01,
       "style": "IPY_MODEL_c7ea0c11ac404ef49a9a75ffb913d9e6",
       "value": 0.2
      }
     },
     "1785f197bdca46b8824e2b322d488541": {
      "model_module": "@jupyter-widgets/controls",
      "model_module_version": "1.5.0",
      "model_name": "HTMLModel",
      "state": {
       "layout": "IPY_MODEL_8f9d99fc6a3f4aaa93ee81dd8974bcc1",
       "style": "IPY_MODEL_23b8070b63e24cbe93095a2f8f479ac4",
       "value": "<link rel=\"stylesheet\" href=\"//stackpath.bootstrapcdn.com/font-awesome/4.7.0/css/font-awesome.min.css\"/>"
      }
     },
     "17bb0cb859414b1a8392745cd9f07c50": {
      "model_module": "@jupyter-widgets/base",
      "model_module_version": "1.2.0",
      "model_name": "LayoutModel",
      "state": {}
     },
     "17cf9c0e0f5e4c849fffc5dfffac9a4e": {
      "model_module": "@jupyter-widgets/controls",
      "model_module_version": "1.5.0",
      "model_name": "DescriptionStyleModel",
      "state": {
       "description_width": ""
      }
     },
     "17cfdb644f3947a19128f76125f7c65c": {
      "model_module": "@jupyter-widgets/base",
      "model_module_version": "1.2.0",
      "model_name": "LayoutModel",
      "state": {}
     },
     "17ebd87880d94e9c8a370fab1427d890": {
      "model_module": "@jupyter-widgets/controls",
      "model_module_version": "1.5.0",
      "model_name": "DescriptionStyleModel",
      "state": {
       "description_width": ""
      }
     },
     "17f3e9ebe19b42e58481c3030addb804": {
      "model_module": "@jupyter-widgets/controls",
      "model_module_version": "1.5.0",
      "model_name": "DescriptionStyleModel",
      "state": {
       "description_width": ""
      }
     },
     "182133b7888e424d826661ae34f23cad": {
      "model_module": "@jupyter-widgets/controls",
      "model_module_version": "1.5.0",
      "model_name": "DescriptionStyleModel",
      "state": {
       "description_width": "initial"
      }
     },
     "182f6f5680cf442ba7a994fed2cd4c32": {
      "model_module": "@jupyter-widgets/base",
      "model_module_version": "1.2.0",
      "model_name": "LayoutModel",
      "state": {}
     },
     "183ca8d6c5a04708b20c1a172fdb0d30": {
      "model_module": "@jupyter-widgets/base",
      "model_module_version": "1.2.0",
      "model_name": "LayoutModel",
      "state": {}
     },
     "185043375a89433baa9d6b032c0a206c": {
      "model_module": "@jupyter-widgets/base",
      "model_module_version": "1.2.0",
      "model_name": "LayoutModel",
      "state": {}
     },
     "187d9e6da47f41edac12d5002d57fa61": {
      "model_module": "@jupyter-widgets/controls",
      "model_module_version": "1.5.0",
      "model_name": "DescriptionStyleModel",
      "state": {
       "description_width": "initial"
      }
     },
     "18b0198690b347ec8440aabd9055ec01": {
      "model_module": "@jupyter-widgets/base",
      "model_module_version": "1.2.0",
      "model_name": "LayoutModel",
      "state": {
       "height": "80%",
       "width": "60%"
      }
     },
     "18b338b572d44c5895a7cb7f6f8e2cdf": {
      "model_module": "@jupyter-widgets/output",
      "model_module_version": "1.0.0",
      "model_name": "OutputModel",
      "state": {
       "layout": "IPY_MODEL_4d65687b586043d0be095cba91d91e33",
       "outputs": [
        {
         "data": {
          "application/vnd.jupyter.widget-view+json": {
           "model_id": "d84c895434bb4cddb519742019e00d8a",
           "version_major": 2,
           "version_minor": 0
          },
          "text/plain": "VBox(children=(ToggleButtons(options=('Group Setting', 'Metrics', 'Segmented Metrics', 'Thresholding', 'Featur…"
         },
         "metadata": {},
         "output_type": "display_data"
        }
       ]
      }
     },
     "18dea18b3db54d889332c88726fbb7aa": {
      "model_module": "@jupyter-widgets/base",
      "model_module_version": "1.2.0",
      "model_name": "LayoutModel",
      "state": {}
     },
     "18faf7226b85427280987eedd6a7ec5c": {
      "model_module": "@jupyter-widgets/controls",
      "model_module_version": "1.5.0",
      "model_name": "DescriptionStyleModel",
      "state": {
       "description_width": ""
      }
     },
     "1904f3fb23a34c1a9f211de7f516adef": {
      "model_module": "@jupyter-widgets/base",
      "model_module_version": "1.2.0",
      "model_name": "LayoutModel",
      "state": {
       "height": "25px",
       "width": "35px"
      }
     },
     "193baa3b82864d13962e181fd012a4a8": {
      "model_module": "@jupyter-widgets/controls",
      "model_module_version": "1.5.0",
      "model_name": "BoxModel",
      "state": {
       "children": [
        "IPY_MODEL_fe5754023ffd4ac9bbde7106d8a78291"
       ],
       "layout": "IPY_MODEL_63e8155c63ba4c0bb4a1cfdabd05d753"
      }
     },
     "199538ef9a224d888a0d0890c8f827a6": {
      "model_module": "@jupyter-widgets/base",
      "model_module_version": "1.2.0",
      "model_name": "LayoutModel",
      "state": {
       "align_items": "center",
       "display": "flex",
       "flex_flow": "row",
       "width": "100%"
      }
     },
     "19c0b0ad632f41b39cbdd68e13755c0d": {
      "model_module": "@jupyter-widgets/controls",
      "model_module_version": "1.5.0",
      "model_name": "DescriptionStyleModel",
      "state": {
       "description_width": ""
      }
     },
     "19e867ecdc734d738f8db0357e28282e": {
      "model_module": "@jupyter-widgets/controls",
      "model_module_version": "1.5.0",
      "model_name": "DescriptionStyleModel",
      "state": {
       "description_width": ""
      }
     },
     "19f56a91520642d0a5a62ce6dbe15703": {
      "model_module": "@jupyter-widgets/controls",
      "model_module_version": "1.5.0",
      "model_name": "DescriptionStyleModel",
      "state": {
       "description_width": ""
      }
     },
     "1a4bada85bf0462795a6631243ec3131": {
      "model_module": "@jupyter-widgets/controls",
      "model_module_version": "1.5.0",
      "model_name": "ButtonStyleModel",
      "state": {}
     },
     "1a65f2fada89420ca03bc51d74875f03": {
      "model_module": "@jupyter-widgets/controls",
      "model_module_version": "1.5.0",
      "model_name": "DescriptionStyleModel",
      "state": {
       "description_width": "initial"
      }
     },
     "1ac0539b1dad4407b4421b490a715ac5": {
      "model_module": "@jupyter-widgets/base",
      "model_module_version": "1.2.0",
      "model_name": "LayoutModel",
      "state": {
       "width": "155px"
      }
     },
     "1ade729b762f4d058712effd88039b79": {
      "model_module": "@jupyter-widgets/controls",
      "model_module_version": "1.5.0",
      "model_name": "DescriptionStyleModel",
      "state": {
       "description_width": "initial"
      }
     },
     "1ae9a5b6ec0141d9a258c7bb76099c63": {
      "model_module": "@jupyter-widgets/controls",
      "model_module_version": "1.5.0",
      "model_name": "HTMLModel",
      "state": {
       "layout": "IPY_MODEL_bd03a3a0e8d442b0a6aafd695d4c5ad1",
       "style": "IPY_MODEL_4c2075444dc34103a1eca371aceebebe",
       "value": "Criterion:"
      }
     },
     "1b14cfaa5ae246de9fa8517d51d41d69": {
      "model_module": "@jupyter-widgets/base",
      "model_module_version": "1.2.0",
      "model_name": "LayoutModel",
      "state": {}
     },
     "1b469270b9544a919c96de38c9a2147a": {
      "model_module": "@jupyter-widgets/controls",
      "model_module_version": "1.5.0",
      "model_name": "HTMLModel",
      "state": {
       "layout": "IPY_MODEL_7fdf0bcf84b74b19ada7f689e4253f56",
       "style": "IPY_MODEL_57d92fd316c04c778080e26ecf0d7bf6",
       "value": "<h4 style='margin: 10px 0px;'>Customize Model</h4>"
      }
     },
     "1b64f758e7884652980b0856a4456e7e": {
      "model_module": "@jupyter-widgets/controls",
      "model_module_version": "1.5.0",
      "model_name": "BoundedIntTextModel",
      "state": {
       "layout": "IPY_MODEL_8ca63ca2dabc42418002bf931f2656e2",
       "style": "IPY_MODEL_d32102da0b78473e86f63ae5785ce9af"
      }
     },
     "1b670b534bc6433a81e9af803cc87399": {
      "model_module": "@jupyter-widgets/controls",
      "model_module_version": "1.5.0",
      "model_name": "VBoxModel",
      "state": {
       "children": [
        "IPY_MODEL_b70bee5c86e44cf9b5afb00998574c12",
        "IPY_MODEL_648992f95666458bbdd1ded6c4c33cb5"
       ],
       "layout": "IPY_MODEL_e2e4822abc624dd9aa80cdab28c4112d"
      }
     },
     "1b7a59505d0f4d96b7b4754192d76893": {
      "model_module": "@jupyter-widgets/controls",
      "model_module_version": "1.5.0",
      "model_name": "HTMLModel",
      "state": {
       "layout": "IPY_MODEL_b213183d022f477d98bad26517809f73",
       "style": "IPY_MODEL_6b3b9595df3f46c0ae00894250b93124",
       "value": "Reference:"
      }
     },
     "1b81d5440d104e0ca0540ea5b049efcc": {
      "model_module": "@jupyter-widgets/controls",
      "model_module_version": "1.5.0",
      "model_name": "BoxModel",
      "state": {
       "children": [
        "IPY_MODEL_ea6ce87fcc28494bbd6e87aff630c794"
       ],
       "layout": "IPY_MODEL_241934bf4caa4980b3fc40388f7daff6"
      }
     },
     "1b93213dcd0a4d4eb0d6a5933f2edcc2": {
      "model_module": "@jupyter-widgets/controls",
      "model_module_version": "1.5.0",
      "model_name": "DescriptionStyleModel",
      "state": {
       "description_width": "initial"
      }
     },
     "1b9db46f908f4f0b82ac73baadec5a99": {
      "model_module": "@jupyter-widgets/controls",
      "model_module_version": "1.5.0",
      "model_name": "BoxModel",
      "state": {
       "children": [
        "IPY_MODEL_8b6a0b6532bd49009a2b59e31e44fad6",
        "IPY_MODEL_dedce80365c44900a38e3dd7882635ea"
       ],
       "layout": "IPY_MODEL_492c673f9138420187f219a153d1e62d"
      }
     },
     "1ba082933048402fb6179eaa587e8456": {
      "model_module": "@jupyter-widgets/controls",
      "model_module_version": "1.5.0",
      "model_name": "VBoxModel",
      "state": {
       "children": [
        "IPY_MODEL_38ded588e52d4bb9bc9b4d7abb4cd116",
        "IPY_MODEL_577ddfc45a6b4a99994a6a771aad8b62",
        "IPY_MODEL_15e3f6f6302d4e008a6ab3c58e091fd9",
        "IPY_MODEL_a5d0bfe37db949dcafda3c0f55933d33",
        "IPY_MODEL_5860f53f79024d75831bddc106c9695c"
       ],
       "layout": "IPY_MODEL_2e30a0d9ebb64018968ef27a23a55283"
      }
     },
     "1bc9dbb0ad87454e82798bd6609f5126": {
      "model_module": "@jupyter-widgets/controls",
      "model_module_version": "1.5.0",
      "model_name": "HTMLModel",
      "state": {
       "layout": "IPY_MODEL_41284055761b40df9d57b73c3983928c",
       "style": "IPY_MODEL_b7a13944bb8c42eb93469d894ccd5ea8",
       "value": "Delete Group:"
      }
     },
     "1bebfd3169f4454cac7e9d3b597f2584": {
      "model_module": "@jupyter-widgets/base",
      "model_module_version": "1.2.0",
      "model_name": "LayoutModel",
      "state": {}
     },
     "1bf0fc0be14f4904b4cac265331bebaa": {
      "model_module": "@jupyter-widgets/base",
      "model_module_version": "1.2.0",
      "model_name": "LayoutModel",
      "state": {}
     },
     "1c59fa7f279b4adb90caf13aae31d9ac": {
      "model_module": "@jupyter-widgets/base",
      "model_module_version": "1.2.0",
      "model_name": "LayoutModel",
      "state": {}
     },
     "1c6dacdc981e498ab68818560579c010": {
      "model_module": "@jupyter-widgets/controls",
      "model_module_version": "1.5.0",
      "model_name": "DescriptionStyleModel",
      "state": {
       "description_width": ""
      }
     },
     "1ca996561e6c44519f697840dab7eee8": {
      "model_module": "@jupyter-widgets/controls",
      "model_module_version": "1.5.0",
      "model_name": "DescriptionStyleModel",
      "state": {
       "description_width": "initial"
      }
     },
     "1d01824fe17f41c5a0934ed300bd6aee": {
      "model_module": "@jupyter-widgets/controls",
      "model_module_version": "1.5.0",
      "model_name": "ButtonStyleModel",
      "state": {}
     },
     "1d0f715a38124c8b9be3c87004301b51": {
      "model_module": "@jupyter-widgets/controls",
      "model_module_version": "1.5.0",
      "model_name": "IntProgressModel",
      "state": {
       "_dom_classes": [
        "progress-train"
       ],
       "description": "Training XGB2:",
       "layout": "IPY_MODEL_79b5506d2f234047a22b514cb8183544",
       "max": 1,
       "style": "IPY_MODEL_1ee4909213fa48cf82c8dea098cae38d",
       "value": 1
      }
     },
     "1d28aca5e7444e22ac67c7255104297a": {
      "model_module": "@jupyter-widgets/controls",
      "model_module_version": "1.5.0",
      "model_name": "HTMLModel",
      "state": {
       "layout": "IPY_MODEL_cc3edfed0d0b421d9ddf27a7948a0fd0",
       "style": "IPY_MODEL_92430e462a2642eea8fc16107fd3f5e6",
       "value": "<div class='divider'></div>"
      }
     },
     "1d3b61f4c1fb41ae95f4720dc4ec1843": {
      "model_module": "@jupyter-widgets/controls",
      "model_module_version": "1.5.0",
      "model_name": "FloatRangeSliderModel",
      "state": {
       "_model_name": "FloatRangeSliderModel",
       "_view_name": "FloatRangeSliderView",
       "layout": "IPY_MODEL_e740a185fcf34affa07eaa190d6ce4b9",
       "readout": false,
       "step": 0.1,
       "style": "IPY_MODEL_b300078416b242c9a8e74ee75472c8f1",
       "value": [
        25,
        75
       ]
      }
     },
     "1d3d52d2bbe34bec93f124b031245c7a": {
      "model_module": "@jupyter-widgets/controls",
      "model_module_version": "1.5.0",
      "model_name": "HBoxModel",
      "state": {
       "_dom_classes": [
        "list-item"
       ],
       "children": [
        "IPY_MODEL_8dfdd005856c42c3ba0597ea87ce183f",
        "IPY_MODEL_0922dd302a574c3ba4f3940c9ea828a2"
       ],
       "layout": "IPY_MODEL_f54c9e3900be4511b5b301d0bd892ead"
      }
     },
     "1d42353a44454b41b7c27e9623d0fe78": {
      "model_module": "@jupyter-widgets/controls",
      "model_module_version": "1.5.0",
      "model_name": "ButtonStyleModel",
      "state": {}
     },
     "1d684eed8fac4b9abe95e5b011515eb9": {
      "model_module": "@jupyter-widgets/base",
      "model_module_version": "1.2.0",
      "model_name": "LayoutModel",
      "state": {
       "width": "auto"
      }
     },
     "1e0b3b1e346f439ab60511365133ad57": {
      "model_module": "@jupyter-widgets/controls",
      "model_module_version": "1.5.0",
      "model_name": "BoundedFloatTextModel",
      "state": {
       "layout": "IPY_MODEL_ea313413bcff4162ad7ce97c0f6ffd61",
       "max": 10,
       "step": null,
       "style": "IPY_MODEL_3d179c6afb14432fb868ff470a6fe9b4"
      }
     },
     "1e48c9f8b9b84fe4bd4c77aa42566ea8": {
      "model_module": "@jupyter-widgets/base",
      "model_module_version": "1.2.0",
      "model_name": "LayoutModel",
      "state": {
       "height": "auto"
      }
     },
     "1e67a7a10baf4295964b66c02c4ee268": {
      "model_module": "@jupyter-widgets/controls",
      "model_module_version": "1.5.0",
      "model_name": "HBoxModel",
      "state": {
       "children": [
        "IPY_MODEL_8dbb0521ccea4a49b3a2f33cf323afa8",
        "IPY_MODEL_aabbd27dc7eb4d5ba5951e1b2601c6d5",
        "IPY_MODEL_b728a56ef18e4e7c8281fabf66bcc2c0"
       ],
       "layout": "IPY_MODEL_2fad6a5f3810488fb497f1ef9994398e"
      }
     },
     "1e81e5a5825c4930939de8a4f5d199b7": {
      "model_module": "@jupyter-widgets/controls",
      "model_module_version": "1.5.0",
      "model_name": "BoundedIntTextModel",
      "state": {
       "layout": "IPY_MODEL_726bac0d15fd4133adb8b4a96d90a0c1",
       "max": 100000,
       "min": 1,
       "style": "IPY_MODEL_38bc96914ae14895a703c2414f23f4c5",
       "value": 1000
      }
     },
     "1e880502f6204920a83be6567dcddac1": {
      "model_module": "@jupyter-widgets/controls",
      "model_module_version": "1.5.0",
      "model_name": "HBoxModel",
      "state": {
       "_dom_classes": [
        "list-item"
       ],
       "children": [
        "IPY_MODEL_e6bc9440ef544293bd7ebda0817ffe91",
        "IPY_MODEL_41c3752c978a423286bc38919dcd310b"
       ],
       "layout": "IPY_MODEL_4b0c1c87998046c9b6a5843bd3692f0d"
      }
     },
     "1ec511c533c44c188527aa2d970741f2": {
      "model_module": "@jupyter-widgets/controls",
      "model_module_version": "1.5.0",
      "model_name": "HTMLModel",
      "state": {
       "layout": "IPY_MODEL_aaa9aa2e70c24edeaccc5ecce7f40136",
       "style": "IPY_MODEL_a495622e5a5c4b2bb603f12dad00fbaa",
       "value": "<h4 style='margin: 10px 0px;'>Customize Model</h4>"
      }
     },
     "1ecd0195d5de480ea982ded111ac4715": {
      "model_module": "@jupyter-widgets/controls",
      "model_module_version": "1.5.0",
      "model_name": "DescriptionStyleModel",
      "state": {
       "description_width": ""
      }
     },
     "1ecdfc0440b643698f4b1caa3db79b32": {
      "model_module": "@jupyter-widgets/base",
      "model_module_version": "1.2.0",
      "model_name": "LayoutModel",
      "state": {}
     },
     "1ed7202a73a94b95aa2a8900feaadbc9": {
      "model_module": "@jupyter-widgets/controls",
      "model_module_version": "1.5.0",
      "model_name": "HBoxModel",
      "state": {
       "children": [
        "IPY_MODEL_8328017b3ca347e694a3c115e69df52f",
        "IPY_MODEL_6283ed0a304e43148219c577de847ed0",
        "IPY_MODEL_a55af774110f481fa8596c5e17996d4a",
        "IPY_MODEL_40185d0a13cf4ed2b5ea7adb8026a85b"
       ],
       "layout": "IPY_MODEL_0a1752ac7ddf4cdca5f9f49df5f41621"
      }
     },
     "1ee4909213fa48cf82c8dea098cae38d": {
      "model_module": "@jupyter-widgets/controls",
      "model_module_version": "1.5.0",
      "model_name": "ProgressStyleModel",
      "state": {
       "description_width": "initial"
      }
     },
     "1ee882f38dc944e5b6d57a1f0f407368": {
      "model_module": "@jupyter-widgets/base",
      "model_module_version": "1.2.0",
      "model_name": "LayoutModel",
      "state": {
       "width": "99%"
      }
     },
     "1f144703f69143a482e157c14800e67e": {
      "model_module": "@jupyter-widgets/base",
      "model_module_version": "1.2.0",
      "model_name": "LayoutModel",
      "state": {}
     },
     "1f1e55233cca4e539aa5a37d04809f5e": {
      "model_module": "@jupyter-widgets/controls",
      "model_module_version": "1.5.0",
      "model_name": "BoundedFloatTextModel",
      "state": {
       "layout": "IPY_MODEL_d28e6d0898bd45f6a9538c59077846e0",
       "max": 10,
       "step": null,
       "style": "IPY_MODEL_b03e9c932b8c456fb9e4a0d46f243ae9",
       "value": 0.6
      }
     },
     "1f24a63ad653451b8e7a1ad1c258dc76": {
      "model_module": "@jupyter-widgets/controls",
      "model_module_version": "1.5.0",
      "model_name": "DescriptionStyleModel",
      "state": {
       "description_width": "initial"
      }
     },
     "1f3f346f6fb6489bb87f0a3f55338345": {
      "model_module": "@jupyter-widgets/controls",
      "model_module_version": "1.5.0",
      "model_name": "HBoxModel",
      "state": {
       "children": [
        "IPY_MODEL_92831bf72dd64e97b52610c138683c7f",
        "IPY_MODEL_16d759c4266e4c78bf805d0abe8a8009"
       ],
       "layout": "IPY_MODEL_bef9afacad2c42dd82ba17eb2e15a94d"
      }
     },
     "1f455724fc0443829735239a02e63e01": {
      "model_module": "@jupyter-widgets/base",
      "model_module_version": "1.2.0",
      "model_name": "LayoutModel",
      "state": {}
     },
     "1f5572223f80434b9107f988ba2ea0cd": {
      "model_module": "@jupyter-widgets/controls",
      "model_module_version": "1.5.0",
      "model_name": "TextModel",
      "state": {
       "layout": "IPY_MODEL_aff55810f87840c199ed6a20bc884e39",
       "placeholder": "1e-3, 1e-3, 1e-4",
       "style": "IPY_MODEL_d07786d21a0f41baae7f76c35876cb08",
       "value": "1e-3, 1e-3, 1e-4"
      }
     },
     "1f6b57ad8f1e424898d97a652aa21012": {
      "model_module": "@jupyter-widgets/controls",
      "model_module_version": "1.5.0",
      "model_name": "DescriptionStyleModel",
      "state": {
       "description_width": ""
      }
     },
     "1f754e5ed30045a386c93d4ce0fbba34": {
      "model_module": "@jupyter-widgets/base",
      "model_module_version": "1.2.0",
      "model_name": "LayoutModel",
      "state": {
       "width": "auto"
      }
     },
     "1f87eac682004413ba53d3dcea3dcc1a": {
      "model_module": "@jupyter-widgets/controls",
      "model_module_version": "1.5.0",
      "model_name": "DescriptionStyleModel",
      "state": {
       "description_width": ""
      }
     },
     "1fad520285c34f318d81d64bb47f3c37": {
      "model_module": "@jupyter-widgets/controls",
      "model_module_version": "1.5.0",
      "model_name": "DescriptionStyleModel",
      "state": {
       "description_width": ""
      }
     },
     "200dd214a469414897d06b9ea26b64b9": {
      "model_module": "@jupyter-widgets/base",
      "model_module_version": "1.2.0",
      "model_name": "LayoutModel",
      "state": {}
     },
     "204326dbfa1845f99e15aa98c40581f0": {
      "model_module": "@jupyter-widgets/base",
      "model_module_version": "1.2.0",
      "model_name": "LayoutModel",
      "state": {}
     },
     "206f223c224e436da2b90621e8a67223": {
      "model_module": "@jupyter-widgets/base",
      "model_module_version": "1.2.0",
      "model_name": "LayoutModel",
      "state": {
       "width": "100%"
      }
     },
     "20902c4fa6504dc8a7b857c3345b470e": {
      "model_module": "@jupyter-widgets/base",
      "model_module_version": "1.2.0",
      "model_name": "LayoutModel",
      "state": {
       "display": "flex",
       "flex_flow": "column",
       "width": "auto"
      }
     },
     "20aafbfd2a83481aa0e1bf51856dd834": {
      "model_module": "@jupyter-widgets/controls",
      "model_module_version": "1.5.0",
      "model_name": "HTMLModel",
      "state": {
       "layout": "IPY_MODEL_8a1dba28582c45169321fa1f8b9d96f9",
       "style": "IPY_MODEL_da9dc16e95e341428a30bb335b598ea1",
       "value": "<h4 style='margin-top: 0px;'>Register Trained Model</h4>"
      }
     },
     "20d4a2dd8ad8407797bdbd9985868351": {
      "model_module": "@jupyter-widgets/base",
      "model_module_version": "1.2.0",
      "model_name": "LayoutModel",
      "state": {
       "width": "65%"
      }
     },
     "2150993968004bfbb81acfaca21ec0bc": {
      "model_module": "@jupyter-widgets/controls",
      "model_module_version": "1.5.0",
      "model_name": "HTMLModel",
      "state": {
       "layout": "IPY_MODEL_c8d89d47a9fb4020b264e8c6ec3e55c1",
       "style": "IPY_MODEL_0e4918e9630949c8bb678155bfee8851",
       "value": "\n        <style>\n\n        .left-label {\n            width: 30%;\n        }\n\n        .card-panel {\n            -webkit-transition: -webkit-box-shadow .25s;\n            transition: -webkit-box-shadow .25s;\n            transition: box-shadow .25s;\n            transition: box-shadow .25s, -webkit-box-shadow .25s;\n            padding: 24px;\n            margin: 0.5rem 0 1rem 0;\n            border-radius: 2px;\n            background-color: #fff;\n        }\n\n        .card {\n            position: relative;\n            margin: 0.5rem 0.1rem 1rem 0.2rem;\n            background-color: #fff;\n            -webkit-transition: -webkit-box-shadow .25s;\n            transition: -webkit-box-shadow .25s;\n            transition: box-shadow .25s;\n            transition: box-shadow .25s, -webkit-box-shadow .25s;\n            border-radius: 2px;\n            box-shadow: 0 2px 2px 0 rgb(0 0 0 / 14%), 0 3px 1px -2px rgb(0 0 0 / 12%), 0 1px 5px 0 rgb(0 0 0 / 20%);\n            padding: 24px;\n            color: white;\n        }\n\n        .card .card-title {\n            font-size: 24px;\n            font-weight: 300;\n        }\n\n        @media only screen and (min-width: 800px) {\n            /* For notebook: */\n            .card {width: 99% !important;}\n        }\n\n        @media only screen and (min-width: 1400px) {\n            /* For colab: */\n            .card {width: 99% !important;}\n        }\n\n        .blue-grey.darken-1 {\n            background-color: #546e7a !important;\n        }\n\n        .small-card {\n            position: relative;\n            margin: 0.5rem 0 1rem 0;\n            background-color: #fff;\n            -webkit-transition: -webkit-box-shadow .25s;\n            transition: -webkit-box-shadow .25s;\n            transition: box-shadow .25s;\n            transition: box-shadow .25s, -webkit-box-shadow .25s;\n            border-radius: 2px;\n            box-shadow: 0 2px 2px 0 rgb(0 0 0 / 14%), 0 3px 1px -2px rgb(0 0 0 / 12%), 0 1px 5px 0 rgb(0 0 0 / 20%);\n            padding: 0px 5px 0px 5px;\n            color: white;\n        }\n\n        .inner-card {\n            position: relative;\n            background-color: #fff;\n            -webkit-transition: -webkit-box-shadow .25s;\n            transition: -webkit-box-shadow .25s;\n            transition: box-shadow .25s;\n            transition: box-shadow .25s, -webkit-box-shadow .25s;\n            border-radius: 2px;\n            box-shadow: 0 2px 2px 0 rgb(0 0 0 / 14%), 0 3px 1px -2px rgb(0 0 0 / 12%), 0 1px 5px 0 rgb(0 0 0 / 20%);\n            padding: 20px;\n            color: white;\n            margin: 0px 1px 1px 1px;\n        }\n\n        .card-with-tab {\n            position: relative;\n            margin: 0.5rem 0.1rem 1rem 0.2rem;\n            background-color: #fff;\n            -webkit-transition: -webkit-box-shadow .25s;\n            transition: -webkit-box-shadow .25s;\n            transition: box-shadow .25s;\n            transition: box-shadow .25s, -webkit-box-shadow .25s;\n            border-radius: 2px;\n            box-shadow: 0 2px 2px 0 rgb(0 0 0 / 14%), 0 3px 1px -2px rgb(0 0 0 / 12%), 0 1px 5px 0 rgb(0 0 0 / 20%);\n            padding: 24px;\n            color: white;\n        }\n\n        .card-with-tab button {\n            width: auto;\n            padding: 12px 40px;\n        }\n\n        .list {\n            padding: 0px 10px;\n            box-shadow: 0 2px 2px 0 rgb(0 0 0 / 14%), 0 3px 1px -2px rgb(0 0 0 / 12%), 0 1px 5px 0 rgb(0 0 0 / 20%);\n            margin: 0px 1px 60px 1px;\n        }\n\n        .list-item {\n            padding: 10px 0px;\n            border-width: 0;\n            border-style: solid;\n            border-color: rgba(0, 0, 0, 0.08);\n            border-bottom-width: thin;\n        }\n\n        .divider {\n            margin: 10px 0px;\n            border-width: 0;\n            border-style: solid;\n            border-color: rgba(0, 0, 0, 0.08);\n            border-bottom-width: thin;\n        }\n\n        .hr {\n            margin: 0;\n            -webkit-flex-shrink: 0;\n            -ms-flex-negative: 0;\n            flex-shrink: 0;\n            border-width: 0;\n            border-style: solid;\n            border-color: rgba(0, 0, 0, 0.08);\n            border-bottom-width: thin;\n        }\n\n        .notification {\n            transition: box-shadow 300ms cubic-bezier(0.4, 0, 0.2, 1) 0ms;\n            border-radius: 4px;\n            box-shadow: 0 2px 2px 0 rgb(0 0 0 / 14%), 0 3px 1px -2px rgb(0 0 0 / 12%), 0 1px 5px 0 rgb(0 0 0 / 20%);\n            font-family: Roboto, Helvetica, Arial, sans-serif;\n            font-weight: 500;\n            font-size: 12px;\n            line-height: 1.43;\n            letter-spacing: 0.01071em;\n            background-color: rgb(2, 136, 209);\n            display: flex;\n            padding: 6px 16px;\n            color: rgb(255, 255, 255);\n            margin-top: 10px;\n        }\n\n        .success {\n            background-color: #EDF7ED;\n            color: #1E4620;\n        }\n\n        .error {\n            background-color: #FDEDED;\n            color: #5F2120;\n        }\n\n        .info {\n            background-color: #E5F6FD;\n            color: #528298;\n        }\n\n        .warn {\n            background-color: #FFF4E5;\n            color: #663C00;\n        }\n\n        .margin-top-20 {\n            margin-top: 20px;\n        }\n\n        .hide {\n            display: none;\n        }\n\n        .pbtn {\n            display: inline-flex;\n            -webkit-box-align: center;\n            align-items: center;\n            -webkit-box-pack: center;\n            justify-content: center;\n            position: relative;\n            box-sizing: border-box;\n            -webkit-tap-highlight-color: transparent;\n            outline: 0px;\n            border: 0px;\n            margin: 0px;\n            cursor: pointer;\n            user-select: none;\n            vertical-align: middle;\n            appearance: none;\n            text-decoration: none;\n            font-family: Roboto, Helvetica, Arial, sans-serif;\n            font-weight: 550;\n            font-size: 12px;\n            line-height: 1.75;\n            letter-spacing: 0.02857em;\n            text-transform: uppercase;\n            min-width: 64px;\n            padding: 6px 16px;\n            border-radius: 4px;\n            transition: background-color 250ms cubic-bezier(0.4, 0, 0.2, 1) 0ms, box-shadow 250ms cubic-bezier(0.4, 0, 0.2, 1) 0ms, border-color 250ms cubic-bezier(0.4, 0, 0.2, 1) 0ms, color 250ms cubic-bezier(0.4, 0, 0.2, 1) 0ms;\n            color: rgb(255, 255, 255);\n            background-color: #D71E28;\n            box-shadow: rgb(0 0 0 / 20%) 0px 3px 1px -2px, rgb(0 0 0 / 14%) 0px 2px 2px 0px, rgb(0 0 0 / 12%) 0px 1px 5px 0px;\n        }\n\n        .output_subarea {\n            padding: 0px !important;\n        }\n\n        .ptable, .pth, .ptd {\n            border: none;\n        }\n\n        .pth, .ptd {\n            max-width: 150px;\n            white-space: nowrap;\n            overflow: hidden;\n            -o-text-overflow: ellipsis;\n            -ms-text-overflow: ellipsis;\n            text-overflow: ellipsis;\n        }\n\n        .ptable {\n            display: table;\n            border-collapse: collapse;\n            border-spacing: 0;\n        }\n\n        .ptable.striped .ptr {\n            border-bottom: none;\n        }\n\n        .ptable.striped > .ptbody > .ptr:nth-child(odd) {\n            background-color: rgba(242, 242, 242, 0.5);\n        }\n\n        .ptable.striped > .ptbody > .ptr > .ptd {\n            border-radius: 0;\n        }\n\n        .ptable.highlight > .ptbody > .ptr {\n            -webkit-transition: background-color .25s ease;\n            transition: background-color .25s ease;\n        }\n\n        .ptable.highlight > .ptbody > .ptr:hover {\n            background-color: rgba(242, 242, 242, 0.5);\n        }\n\n        .ptable.centered .pthead .ptr .pth, .ptable.centered .ptbody .ptr .ptd {\n            text-align: center;\n        }\n\n        .ptr {\n            border-bottom: 1px solid rgba(0, 0, 0, 0.12);\n        }\n\n        .ptr.hightlight {\n            background-color: yellow !important;\n        }\n\n        .ptd, .pth {\n            padding: 0.2rem 0.6rem;\n            display: table-cell;\n            text-align: right;\n            vertical-align: middle;\n            border-radius: 2px;\n            position: relative;\n        }\n\n        .ptr.grey {\n            background-color: grey !important;\n        }\n\n        .ptr.strikeout .ptd:before {\n            content: \" \";\n            position: absolute;\n            top: 50%;\n            left: 0;\n            border-bottom: 1px solid #111;\n            width: 100%;\n        }\n\n        .widget-toggle-button {\n            display: inline-flex;\n            -webkit-box-align: center;\n            align-items: center;\n            -webkit-box-pack: center;\n            justify-content: center;\n            box-sizing: border-box;\n            -webkit-tap-highlight-color: transparent;\n            background-color: transparent !important;\n            outline: 0px;\n            border: 0px;\n            border-bottom: 2px solid #E4E4E4 !important;\n            box-shadow: none !important;\n            margin: 0px !important;\n            border-radius: 0px;\n            cursor: pointer;\n            user-select: none;\n            vertical-align: middle;\n            appearance: none;\n            text-decoration: none;\n            font-family: Roboto, Helvetica, Arial, sans-serif;\n            font-weight: 500;\n            font-size: 14px;\n            line-height: 1.25;\n            letter-spacing: 0.02857em;\n            max-width: 360px;\n            min-width: 90px;\n            position: relative;\n            min-height: 48px;\n            flex-shrink: 0;\n            padding: 12px 16px;\n            overflow: hidden;\n            white-space: normal;\n            text-align: center;\n            flex-direction: column;\n            color: rgba(0, 0, 0, 0.6);\n        }\n\n        .mod-active {\n            color: rgb(25, 118, 210) !important;\n            border-bottom: 2px solid rgb(25, 118, 210) !important;\n        }\n\n        .narrow-tab button {\n            max-width: 15%;\n        }\n\n        .overflow-fix .jupyter-widgets {\n            overflow: auto;\n        }\n\n        .inner-padding {\n            padding-top: 20px;\n        }\n\n        .fix-img img {\n            width: 100%;\n        }\n\n        .flex-reverse-for-update-button {\n            flex-direction: row-reverse;\n            margin-right: 50px;\n        }\n\n        .data-summary-tab {\n            max-height: 400px;\n        }\n\n        .input-width-with-parent .widget-dropdown {\n            width: 100%;\n        }\n\n        .input-width-with-parent .widget-text {\n            width: 100%;\n        }\n\n        .no-margin {\n            margin: 0px;\n        }\n\n        .widget-hprogress label {\n            text-align: left;\n        }\n\n        .widget-dropdown label {\n            margin-right: 10px;\n        }\n\n        .form .widget-dropdown {\n            width: auto;\n        }\n\n        .form .widget-text {\n            width: auto;\n        }\n\n        .form p {\n            margin: 0px;\n        }\n\n        .widget-dropdown {\n            white-space: nowrap;\n            overflow: hidden;\n            -o-text-overflow: ellipsis;\n            -ms-text-overflow: ellipsis;\n            text-overflow: ellipsis;\n        }\n\n        .progress-train label {\n            margin-right: 10px;\n        }\n\n        select {\n            height: 97% !important;\n        }\n\n        .no-overflow {\n            overflow: none;\n        }\n\n        .split-btn button {\n            margin-bottom: 2px;\n        }\n\n        .register-btn {\n            width: 50%\n        }\n\n        .register-btn-colab {\n            width: 40%\n        }\n\n        .fix-config-from-overflow .jp-OutputArea-child {\n            display: inherit;\n        }\n        \n        .checkbox-center input[type=\"checkbox\"] {\n            vertical-align: middle;\n        }\n\n        input[type=\"checkbox\"] {\n            vertical-align: middle;\n        }\n\n        </style>\n        "
      }
     },
     "21787b1fc92440169e440b9f3953bc5d": {
      "model_module": "@jupyter-widgets/base",
      "model_module_version": "1.2.0",
      "model_name": "LayoutModel",
      "state": {}
     },
     "21a60243b9d8469492188c9cdfb7c8a8": {
      "model_module": "@jupyter-widgets/base",
      "model_module_version": "1.2.0",
      "model_name": "LayoutModel",
      "state": {}
     },
     "21b379b64428455b922d3e6f4637a936": {
      "model_module": "@jupyter-widgets/base",
      "model_module_version": "1.2.0",
      "model_name": "LayoutModel",
      "state": {
       "justify_content": "flex-end",
       "width": "auto"
      }
     },
     "21eb8555108d4d16a3581768c8fcc53c": {
      "model_module": "@jupyter-widgets/output",
      "model_module_version": "1.0.0",
      "model_name": "OutputModel",
      "state": {
       "layout": "IPY_MODEL_87c6a003dced41f8b548aa4fe5c79e67",
       "outputs": [
        {
         "data": {
          "application/vnd.jupyter.widget-view+json": {
           "model_id": "c3278378bd9844a0beffa9cd8225827b",
           "version_major": 2,
           "version_minor": 0
          },
          "text/plain": "HTML(value=\"\\n        <table class='ptable striped'>\\n            <thead class='pthead'>\\n                <tr …"
         },
         "metadata": {},
         "output_type": "display_data"
        }
       ]
      }
     },
     "22052baefbaf43328a62587a4891fc71": {
      "model_module": "@jupyter-widgets/controls",
      "model_module_version": "1.5.0",
      "model_name": "DescriptionStyleModel",
      "state": {
       "description_width": ""
      }
     },
     "222b6f80a87847dabb4769d3df0eb810": {
      "model_module": "@jupyter-widgets/controls",
      "model_module_version": "1.5.0",
      "model_name": "DropdownModel",
      "state": {
       "_options_labels": [
        "Segment",
        "x1",
        "x2",
        "x3",
        "x4",
        "x5",
        "Label",
        "Minority",
        "Majority",
        "Age >= 62",
        "Age < 62"
       ],
       "index": 0,
       "layout": "IPY_MODEL_705a4c7a6dbc457da2ea0a1b4fb04f41",
       "style": "IPY_MODEL_1a65f2fada89420ca03bc51d74875f03"
      }
     },
     "222db5b482bc4228b330d74ee3a38ff1": {
      "model_module": "@jupyter-widgets/base",
      "model_module_version": "1.2.0",
      "model_name": "LayoutModel",
      "state": {
       "width": "100%"
      }
     },
     "223ae065474344c09d7e06259a2cca66": {
      "model_module": "@jupyter-widgets/base",
      "model_module_version": "1.2.0",
      "model_name": "LayoutModel",
      "state": {
       "height": "30%",
       "width": "auto"
      }
     },
     "2251aaa251d8476a9032f70642661b8e": {
      "model_module": "@jupyter-widgets/controls",
      "model_module_version": "1.5.0",
      "model_name": "BoxModel",
      "state": {
       "children": [
        "IPY_MODEL_758eaceff4d6467284a57aee60a0dc1e"
       ],
       "layout": "IPY_MODEL_7b11f548b85f46619d35b129341dba77"
      }
     },
     "22939f0c0e3646d49ae2719cc280c57b": {
      "model_module": "@jupyter-widgets/base",
      "model_module_version": "1.2.0",
      "model_name": "LayoutModel",
      "state": {
       "width": "65%"
      }
     },
     "22ca6288c9194d5a94e35426cc1930fc": {
      "model_module": "@jupyter-widgets/output",
      "model_module_version": "1.0.0",
      "model_name": "OutputModel",
      "state": {
       "layout": "IPY_MODEL_c5746f8dade14475ae112dd659c33fb3",
       "outputs": [
        {
         "data": {
          "application/vnd.jupyter.widget-view+json": {
           "model_id": "655156fffaa74a2dafd80067e7de1d64",
           "version_major": 2,
           "version_minor": 0
          },
          "text/plain": "VBox(children=(HTML(value=\"<div class='divider'></div>\"), HTML(value=\"<h4 style='margin-top: 5px;margin-bottom…"
         },
         "metadata": {},
         "output_type": "display_data"
        },
        {
         "data": {
          "application/vnd.jupyter.widget-view+json": {
           "model_id": "7bf3b659f373445782e1034c92a7fbcb",
           "version_major": 2,
           "version_minor": 0
          },
          "text/plain": "HTML(value=\"\\n        <table class='ptable striped'>\\n            <thead class='pthead'>\\n                <tr …"
         },
         "metadata": {},
         "output_type": "display_data"
        }
       ]
      }
     },
     "230829298947453994decf51acef1370": {
      "model_module": "@jupyter-widgets/output",
      "model_module_version": "1.0.0",
      "model_name": "OutputModel",
      "state": {
       "layout": "IPY_MODEL_ccfdaa8073614ffa9363579c2429ca0f",
       "outputs": [
        {
         "data": {
          "application/vnd.jupyter.widget-view+json": {
           "model_id": "989616b9921a44eebde12263b49c91cf",
           "version_major": 2,
           "version_minor": 0
          },
          "text/plain": "HBox(children=(Dropdown(description='Rank Metric:', layout=Layout(width='55%'), options=('ACC', 'AUC', 'F1'), …"
         },
         "metadata": {},
         "output_type": "display_data"
        }
       ]
      }
     },
     "230908b203ba488b9292d7e06492f4ed": {
      "model_module": "@jupyter-widgets/base",
      "model_module_version": "1.2.0",
      "model_name": "LayoutModel",
      "state": {
       "width": "55%"
      }
     },
     "2330ddff5cdd474d9c5e05cb31ac7438": {
      "model_module": "@jupyter-widgets/controls",
      "model_module_version": "1.5.0",
      "model_name": "DescriptionStyleModel",
      "state": {
       "description_width": ""
      }
     },
     "234ff23d7fd14a7994dc5401f1a31bfb": {
      "model_module": "@jupyter-widgets/controls",
      "model_module_version": "1.5.0",
      "model_name": "HBoxModel",
      "state": {
       "children": [
        "IPY_MODEL_3e9058ec532c451aaedb828674217f23"
       ],
       "layout": "IPY_MODEL_1184018b716a42978592171fdee11a65"
      }
     },
     "23598cad8a014c7baa2d858a280dd442": {
      "model_module": "@jupyter-widgets/controls",
      "model_module_version": "1.5.0",
      "model_name": "DescriptionStyleModel",
      "state": {
       "description_width": ""
      }
     },
     "23831650e34747c489df37c65473b34d": {
      "model_module": "@jupyter-widgets/base",
      "model_module_version": "1.2.0",
      "model_name": "LayoutModel",
      "state": {
       "width": "auto"
      }
     },
     "2397f301217d42fd8c06c9b1b37693b6": {
      "model_module": "@jupyter-widgets/controls",
      "model_module_version": "1.5.0",
      "model_name": "DescriptionStyleModel",
      "state": {
       "description_width": ""
      }
     },
     "23b8070b63e24cbe93095a2f8f479ac4": {
      "model_module": "@jupyter-widgets/controls",
      "model_module_version": "1.5.0",
      "model_name": "DescriptionStyleModel",
      "state": {
       "description_width": ""
      }
     },
     "23c9a02ad7e549f29925a2532080ae4d": {
      "model_module": "@jupyter-widgets/controls",
      "model_module_version": "1.5.0",
      "model_name": "DescriptionStyleModel",
      "state": {
       "description_width": "initial"
      }
     },
     "23cc55c5a5d14f139c8ebbb4d2462dd2": {
      "model_module": "@jupyter-widgets/controls",
      "model_module_version": "1.5.0",
      "model_name": "DescriptionStyleModel",
      "state": {
       "description_width": ""
      }
     },
     "23d84dbbd71742d597d3a13f1ef32e4a": {
      "model_module": "@jupyter-widgets/base",
      "model_module_version": "1.2.0",
      "model_name": "LayoutModel",
      "state": {}
     },
     "23de51bd26894526820d7ba2f510221d": {
      "model_module": "@jupyter-widgets/output",
      "model_module_version": "1.0.0",
      "model_name": "OutputModel",
      "state": {
       "layout": "IPY_MODEL_356d791ca61c4ad698577b557126e472",
       "outputs": [
        {
         "data": {
          "application/vnd.jupyter.widget-view+json": {
           "model_id": "e9f6e5fbf9b547e5b1bae0c7330327e5",
           "version_major": 2,
           "version_minor": 0
          },
          "text/plain": "Box(children=(VBox(children=(HBox(children=(VBox(children=(HTML(value='Add Category:'), HTML(value='Delete Gro…"
         },
         "metadata": {},
         "output_type": "display_data"
        }
       ]
      }
     },
     "23edba6393c3482cbf4be91b8b8c9d12": {
      "model_module": "@jupyter-widgets/controls",
      "model_module_version": "1.5.0",
      "model_name": "DescriptionStyleModel",
      "state": {
       "description_width": ""
      }
     },
     "23fc7a0aa5884f8fae206c7f5d079e2c": {
      "model_module": "@jupyter-widgets/controls",
      "model_module_version": "1.5.0",
      "model_name": "HBoxModel",
      "state": {
       "children": [
        "IPY_MODEL_01c82c8a2825438f960f14e322f86d9e",
        "IPY_MODEL_cec8b84f2bed497da7943e4fc2e18c26"
       ],
       "layout": "IPY_MODEL_e9537328001047378c80c317edec5201"
      }
     },
     "24111736e826459bb64f029455e35e3f": {
      "model_module": "@jupyter-widgets/controls",
      "model_module_version": "1.5.0",
      "model_name": "DescriptionStyleModel",
      "state": {
       "description_width": "initial"
      }
     },
     "241934bf4caa4980b3fc40388f7daff6": {
      "model_module": "@jupyter-widgets/base",
      "model_module_version": "1.2.0",
      "model_name": "LayoutModel",
      "state": {
       "width": "155px"
      }
     },
     "24393198ad2f40b4b928c4c7893e5a63": {
      "model_module": "@jupyter-widgets/base",
      "model_module_version": "1.2.0",
      "model_name": "LayoutModel",
      "state": {}
     },
     "24789a2688bb464a87cc4bb1151d0ff3": {
      "model_module": "@jupyter-widgets/base",
      "model_module_version": "1.2.0",
      "model_name": "LayoutModel",
      "state": {
       "width": "65%"
      }
     },
     "24a40a629dcf478ea332cc76955f1a7f": {
      "model_module": "@jupyter-widgets/controls",
      "model_module_version": "1.5.0",
      "model_name": "HTMLModel",
      "state": {
       "layout": "IPY_MODEL_5d006dbb2bdc4df298898759deab4943",
       "style": "IPY_MODEL_d1174dd0e7d94c7b9b8b2b662d167917",
       "value": "<div style='margin-right: 10px'></div>"
      }
     },
     "24c7efdb824f468a99224099d2eafc87": {
      "model_module": "@jupyter-widgets/base",
      "model_module_version": "1.2.0",
      "model_name": "LayoutModel",
      "state": {
       "height": "25px",
       "width": "35px"
      }
     },
     "24eb6ac974a546c0bdc594d758725138": {
      "model_module": "@jupyter-widgets/controls",
      "model_module_version": "1.5.0",
      "model_name": "ToggleButtonsStyleModel",
      "state": {
       "button_width": "",
       "description_width": ""
      }
     },
     "25427745e0bc4ccca768ad20841fbae8": {
      "model_module": "@jupyter-widgets/base",
      "model_module_version": "1.2.0",
      "model_name": "LayoutModel",
      "state": {
       "height": "25px",
       "width": "35px"
      }
     },
     "2597f27138974843a1f5a8234678b53d": {
      "model_module": "@jupyter-widgets/base",
      "model_module_version": "1.2.0",
      "model_name": "LayoutModel",
      "state": {
       "width": "20%"
      }
     },
     "25d5798c00814d4a8796e17e43143d8c": {
      "model_module": "@jupyter-widgets/controls",
      "model_module_version": "1.5.0",
      "model_name": "DescriptionStyleModel",
      "state": {
       "description_width": ""
      }
     },
     "25decd365cc848ee945ecda228703ae6": {
      "model_module": "@jupyter-widgets/controls",
      "model_module_version": "1.5.0",
      "model_name": "DescriptionStyleModel",
      "state": {
       "description_width": ""
      }
     },
     "2617a2c328c94e5e9707fef7473b3f87": {
      "model_module": "@jupyter-widgets/controls",
      "model_module_version": "1.5.0",
      "model_name": "DescriptionStyleModel",
      "state": {
       "description_width": ""
      }
     },
     "265b49d1375d4185a7588382a4197dc6": {
      "model_module": "@jupyter-widgets/controls",
      "model_module_version": "1.5.0",
      "model_name": "VBoxModel",
      "state": {
       "children": [
        "IPY_MODEL_d67e6015b80a47dd99fef2478d2db34b",
        "IPY_MODEL_407269651b044db392ed5894efa662f3"
       ],
       "layout": "IPY_MODEL_d668e76fb345436dad8ba120f0124cd7"
      }
     },
     "266a370b71e244f6a94901038f2eee44": {
      "model_module": "@jupyter-widgets/base",
      "model_module_version": "1.2.0",
      "model_name": "LayoutModel",
      "state": {}
     },
     "2685d0381f6945659064a65130a1f352": {
      "model_module": "@jupyter-widgets/base",
      "model_module_version": "1.2.0",
      "model_name": "LayoutModel",
      "state": {
       "width": "auto"
      }
     },
     "26b3563c21804122ba3551d8fa5fe506": {
      "model_module": "@jupyter-widgets/base",
      "model_module_version": "1.2.0",
      "model_name": "LayoutModel",
      "state": {
       "width": "120px"
      }
     },
     "27239804231c4d7ea30d350b8c80fcaf": {
      "model_module": "@jupyter-widgets/base",
      "model_module_version": "1.2.0",
      "model_name": "LayoutModel",
      "state": {
       "display": "flex",
       "flex_flow": "column",
       "width": "48%"
      }
     },
     "273cbbbe9ed64096b4ad55b626bfc6cc": {
      "model_module": "@jupyter-widgets/controls",
      "model_module_version": "1.5.0",
      "model_name": "DescriptionStyleModel",
      "state": {
       "description_width": ""
      }
     },
     "273db16302474db6bbf234516b82a5ef": {
      "model_module": "@jupyter-widgets/controls",
      "model_module_version": "1.5.0",
      "model_name": "DescriptionStyleModel",
      "state": {
       "description_width": "initial"
      }
     },
     "275c78868a084e0498fd47ff59b741c8": {
      "model_module": "@jupyter-widgets/base",
      "model_module_version": "1.2.0",
      "model_name": "LayoutModel",
      "state": {
       "justify_content": "space-around"
      }
     },
     "27641cf38add43518e9c26e01029adf0": {
      "model_module": "@jupyter-widgets/controls",
      "model_module_version": "1.5.0",
      "model_name": "HTMLModel",
      "state": {
       "layout": "IPY_MODEL_17cfdb644f3947a19128f76125f7c65c",
       "style": "IPY_MODEL_83babe86dfe24dd3916fc0337936088e",
       "value": "Model name:"
      }
     },
     "2766e6833144475b8eda26446d590328": {
      "model_module": "@jupyter-widgets/controls",
      "model_module_version": "1.5.0",
      "model_name": "HTMLModel",
      "state": {
       "layout": "IPY_MODEL_c6da5330ab144857a111f29334f21b18",
       "style": "IPY_MODEL_f22e96264d2b40ba870cd7b80b75bee3",
       "value": "<div class='divider'></div>"
      }
     },
     "2779474a28d94dd493c6e78419a37bb2": {
      "model_module": "@jupyter-widgets/controls",
      "model_module_version": "1.5.0",
      "model_name": "DescriptionStyleModel",
      "state": {
       "description_width": ""
      }
     },
     "278c0465ddba478b947cf9eeebb14af7": {
      "model_module": "@jupyter-widgets/base",
      "model_module_version": "1.2.0",
      "model_name": "LayoutModel",
      "state": {}
     },
     "27996a3184774281bb6054239d63ba82": {
      "model_module": "@jupyter-widgets/controls",
      "model_module_version": "1.5.0",
      "model_name": "HTMLModel",
      "state": {
       "layout": "IPY_MODEL_9217d6b9116443dab7f8b9afdc9d1e79",
       "style": "IPY_MODEL_93413e60b92c4455af71dc2b57820dc4",
       "value": "<h4 style='margin: 10px 0px;'>Customize Model</h4>"
      }
     },
     "27bb919b1fd249e6afa7cb95086ac971": {
      "model_module": "@jupyter-widgets/controls",
      "model_module_version": "1.5.0",
      "model_name": "DescriptionStyleModel",
      "state": {
       "description_width": ""
      }
     },
     "27c8a7cc89ea40f2924570bfd3d034c8": {
      "model_module": "@jupyter-widgets/controls",
      "model_module_version": "1.5.0",
      "model_name": "HBoxModel",
      "state": {
       "children": [
        "IPY_MODEL_5695f1e0638d45a7bb5e3dc8aaad4704",
        "IPY_MODEL_b0d72eca88704130badcf9183a10c72d",
        "IPY_MODEL_611ca6e3d1d440bdb556d372f5cd6cc9",
        "IPY_MODEL_bc542e27ebc64d05a056812a9d000fe6",
        "IPY_MODEL_458c3269ba1540b88820ee7abb01402f"
       ],
       "layout": "IPY_MODEL_d8c928f589d44a0395251749d2f25709"
      }
     },
     "27e74cccc1e044b3a3b5762fc3956e03": {
      "model_module": "@jupyter-widgets/base",
      "model_module_version": "1.2.0",
      "model_name": "LayoutModel",
      "state": {}
     },
     "283bb364c54a44c6a605c26179b0977e": {
      "model_module": "@jupyter-widgets/base",
      "model_module_version": "1.2.0",
      "model_name": "LayoutModel",
      "state": {}
     },
     "2865f3c739a645fa8c77ae2439931059": {
      "model_module": "@jupyter-widgets/controls",
      "model_module_version": "1.5.0",
      "model_name": "VBoxModel",
      "state": {
       "children": [
        "IPY_MODEL_70850a8e50ef4e26911f5fc8853478f6",
        "IPY_MODEL_6b849d1594954eeeb9c603ed71c74cf1",
        "IPY_MODEL_84113ddb74dc48cd85fadd19e307911b"
       ],
       "layout": "IPY_MODEL_2e634a10d5a14feca1ca34c2c3f59015"
      }
     },
     "2873bc00488e473fa22b541ee917783b": {
      "model_module": "@jupyter-widgets/output",
      "model_module_version": "1.0.0",
      "model_name": "OutputModel",
      "state": {
       "_dom_classes": [
        "register-btn"
       ],
       "layout": "IPY_MODEL_7b29bd733c7948b3bba5760e90cc887f",
       "outputs": [
        {
         "data": {
          "application/vnd.jupyter.widget-view+json": {
           "model_id": "a23175f64b5041d4bb1971ae111b9a0a",
           "version_major": 2,
           "version_minor": 0
          },
          "text/plain": "HBox(children=(Dropdown(description='Model Name:', layout=Layout(width='55%'), options=('Select Model', 'XGB2'…"
         },
         "metadata": {},
         "output_type": "display_data"
        }
       ]
      }
     },
     "28b50928c906460e9a843efe04259bab": {
      "model_module": "@jupyter-widgets/controls",
      "model_module_version": "1.5.0",
      "model_name": "HBoxModel",
      "state": {
       "_dom_classes": [
        "list-item"
       ],
       "children": [
        "IPY_MODEL_585c48f1cea0407a9252595a1a3033c8",
        "IPY_MODEL_50d107705a6d45e5b5e5a6ed708432b7"
       ],
       "layout": "IPY_MODEL_f56de60f51ca40e2b078f9a8c4e1fe6b"
      }
     },
     "28b7bc2cf40f46b0979bd6cfd1a2d4a9": {
      "model_module": "@jupyter-widgets/controls",
      "model_module_version": "1.5.0",
      "model_name": "BoundedIntTextModel",
      "state": {
       "layout": "IPY_MODEL_ad270df0f4e94d42b690a519ed61abaa",
       "style": "IPY_MODEL_57f7980235c54afeb0b23b432c85a063",
       "value": 10
      }
     },
     "28d50cb46de54f979b7ebddc7ed5fecf": {
      "model_module": "@jupyter-widgets/base",
      "model_module_version": "1.2.0",
      "model_name": "LayoutModel",
      "state": {}
     },
     "28f45f4ac3e64bc7ac62a877b12809c6": {
      "model_module": "@jupyter-widgets/base",
      "model_module_version": "1.2.0",
      "model_name": "LayoutModel",
      "state": {}
     },
     "29132d551f6b4304a2e196a4d3f82e15": {
      "model_module": "@jupyter-widgets/controls",
      "model_module_version": "1.5.0",
      "model_name": "VBoxModel",
      "state": {
       "children": [
        "IPY_MODEL_636e47baa8394c4bb3bbdaa9b9c5077f",
        "IPY_MODEL_40dd6eed681643e09f66d36f386f7735"
       ],
       "layout": "IPY_MODEL_edb69902d3af4277acd254148303a9fe"
      }
     },
     "291cfce679a842a2a85cb4843efa6c33": {
      "model_module": "@jupyter-widgets/base",
      "model_module_version": "1.2.0",
      "model_name": "LayoutModel",
      "state": {
       "width": "auto"
      }
     },
     "2931d1c8f1684b8c831d9f1126aed0d7": {
      "model_module": "@jupyter-widgets/controls",
      "model_module_version": "1.5.0",
      "model_name": "ButtonModel",
      "state": {
       "_dom_classes": [
        "pbtn"
       ],
       "button_style": "danger",
       "description": "Register",
       "layout": "IPY_MODEL_0cbb69f9f51b43c79465fed53366b155",
       "style": "IPY_MODEL_aa19d61b39194744ae4412c4ae514480"
      }
     },
     "2951b94e40c543138a6a9fe3f343dd3f": {
      "model_module": "@jupyter-widgets/controls",
      "model_module_version": "1.5.0",
      "model_name": "HTMLModel",
      "state": {
       "layout": "IPY_MODEL_095de74938444043a22340c1088a636b",
       "style": "IPY_MODEL_2330ddff5cdd474d9c5e05cb31ac7438",
       "value": "Spline_order:"
      }
     },
     "295226085504460d8af4cac2ce6136f6": {
      "model_module": "@jupyter-widgets/base",
      "model_module_version": "1.2.0",
      "model_name": "LayoutModel",
      "state": {}
     },
     "295666248551404987c94d6a5a986783": {
      "model_module": "@jupyter-widgets/controls",
      "model_module_version": "1.5.0",
      "model_name": "DescriptionStyleModel",
      "state": {
       "description_width": ""
      }
     },
     "29dce48a77124485b7595ee9971a0568": {
      "model_module": "@jupyter-widgets/controls",
      "model_module_version": "1.5.0",
      "model_name": "VBoxModel",
      "state": {
       "children": [
        "IPY_MODEL_b73f09163aee43b2a6fe570c49837ad4",
        "IPY_MODEL_f2f0f983469f4661a0c4f556e7bc0e1a",
        "IPY_MODEL_c4254e53ee4c431aa403e102eed32218",
        "IPY_MODEL_339f5980a54e4e1296460fb3240fa303",
        "IPY_MODEL_bbda8c6c5a874f78ab68e206d410d2e5",
        "IPY_MODEL_1f5572223f80434b9107f988ba2ea0cd",
        "IPY_MODEL_fe2c9c0bf0484925ac5caf7e20d58d79"
       ],
       "layout": "IPY_MODEL_ad136e2d2615474794802dee37a52041"
      }
     },
     "29ef6665e57542e18e48ebf518cc1041": {
      "model_module": "@jupyter-widgets/controls",
      "model_module_version": "1.5.0",
      "model_name": "HBoxModel",
      "state": {
       "_dom_classes": [
        "list-item"
       ],
       "children": [
        "IPY_MODEL_c02614524f2a41e7a173159e94ec2573",
        "IPY_MODEL_c0777143dd8c4854acbba32f89ea02b8"
       ],
       "layout": "IPY_MODEL_63a07b68144840a1bf030430792c5818"
      }
     },
     "29f03331c700437fa55c8cce14c82163": {
      "model_module": "@jupyter-widgets/controls",
      "model_module_version": "1.5.0",
      "model_name": "BoundedIntTextModel",
      "state": {
       "layout": "IPY_MODEL_bb5413edcf9644eaa4b9239bd220134d",
       "style": "IPY_MODEL_891f13ba22674dd0ad673b6f2fc1fbca",
       "value": 10
      }
     },
     "2a19d7092a7947159b0165493f54a566": {
      "model_module": "@jupyter-widgets/base",
      "model_module_version": "1.2.0",
      "model_name": "LayoutModel",
      "state": {}
     },
     "2a1e79c211304bdea900ca6a3d254a3c": {
      "model_module": "@jupyter-widgets/controls",
      "model_module_version": "1.5.0",
      "model_name": "VBoxModel",
      "state": {
       "children": [
        "IPY_MODEL_0b8b33ccd660445e8be463a78de0f44a"
       ],
       "layout": "IPY_MODEL_c925e07675b243159f0e51d0223267ac"
      }
     },
     "2a386851387a42b0ae791b49a9a50d3a": {
      "model_module": "@jupyter-widgets/base",
      "model_module_version": "1.2.0",
      "model_name": "LayoutModel",
      "state": {}
     },
     "2a5f73b612fe4184a94aae84890d113b": {
      "model_module": "@jupyter-widgets/controls",
      "model_module_version": "1.5.0",
      "model_name": "DescriptionStyleModel",
      "state": {
       "description_width": ""
      }
     },
     "2a80bb7cbdd44eaea942bd608ec45f77": {
      "model_module": "@jupyter-widgets/base",
      "model_module_version": "1.2.0",
      "model_name": "LayoutModel",
      "state": {
       "width": "auto"
      }
     },
     "2a864020c5624dceb20a3c726011d77f": {
      "model_module": "@jupyter-widgets/controls",
      "model_module_version": "1.5.0",
      "model_name": "HTMLModel",
      "state": {
       "layout": "IPY_MODEL_49c2067dc77c4acd91dc386ddbf366bc",
       "style": "IPY_MODEL_90606af02f4d4365a9a4e2f42057d921",
       "value": "<h4 style='margin: 10px 0px;'>Customize Model</h4>"
      }
     },
     "2ab4c31b0b1a4593909a19419805af64": {
      "model_module": "@jupyter-widgets/controls",
      "model_module_version": "1.5.0",
      "model_name": "HTMLModel",
      "state": {
       "layout": "IPY_MODEL_d271a56d12cf45bbb4a826cdab349199",
       "style": "IPY_MODEL_5623aa5ae65149e0b9bfc08c71714380",
       "value": "<div class='divider'></div>"
      }
     },
     "2af0262b09df4ec7bd0053c629f6cf93": {
      "model_module": "@jupyter-widgets/base",
      "model_module_version": "1.2.0",
      "model_name": "LayoutModel",
      "state": {
       "width": "99%"
      }
     },
     "2af13b1e12a1406e82c55341ea38882d": {
      "model_module": "@jupyter-widgets/base",
      "model_module_version": "1.2.0",
      "model_name": "LayoutModel",
      "state": {}
     },
     "2b106a8b4be74f1aa8bddbca961fa36c": {
      "model_module": "@jupyter-widgets/base",
      "model_module_version": "1.2.0",
      "model_name": "LayoutModel",
      "state": {
       "display": "flex",
       "flex_flow": "column",
       "width": "auto"
      }
     },
     "2b643fc8cc884407b029eb8b6df4a233": {
      "model_module": "@jupyter-widgets/base",
      "model_module_version": "1.2.0",
      "model_name": "LayoutModel",
      "state": {
       "width": "99%"
      }
     },
     "2b91d990654d4e48a214e23c3ce7c6cc": {
      "model_module": "@jupyter-widgets/controls",
      "model_module_version": "1.5.0",
      "model_name": "HTMLModel",
      "state": {
       "layout": "IPY_MODEL_0569e9e40dd84cf2a0725e37080f56c3",
       "style": "IPY_MODEL_05abbe5ec2ef4c21850f16d264861600",
       "value": "Max_depth:"
      }
     },
     "2b9a1697eb194b1eb14538b12f6ffd35": {
      "model_module": "@jupyter-widgets/base",
      "model_module_version": "1.2.0",
      "model_name": "LayoutModel",
      "state": {}
     },
     "2bc327668415488d8f8db04ed78ec7c7": {
      "model_module": "@jupyter-widgets/base",
      "model_module_version": "1.2.0",
      "model_name": "LayoutModel",
      "state": {
       "width": "155px"
      }
     },
     "2c10895435e341ecb5ed374742cf1593": {
      "model_module": "@jupyter-widgets/base",
      "model_module_version": "1.2.0",
      "model_name": "LayoutModel",
      "state": {
       "display": "flex",
       "flex_flow": "row",
       "justify_content": "space-between",
       "width": "99%"
      }
     },
     "2c13243386c648c0809b5851e046d243": {
      "model_module": "@jupyter-widgets/controls",
      "model_module_version": "1.5.0",
      "model_name": "BoundedFloatTextModel",
      "state": {
       "layout": "IPY_MODEL_7ac002f6020f4947b3052a22e0013f0f",
       "step": null,
       "style": "IPY_MODEL_0c4bc8074344476bb018227e903a39ba",
       "value": 1
      }
     },
     "2c77c326db3d4863851c812900546a26": {
      "model_module": "@jupyter-widgets/controls",
      "model_module_version": "1.5.0",
      "model_name": "BoxModel",
      "state": {
       "layout": "IPY_MODEL_780755df948842b99465bd633dea5949"
      }
     },
     "2c808e2a57a84336aeb1cf6b0327906f": {
      "model_module": "@jupyter-widgets/base",
      "model_module_version": "1.2.0",
      "model_name": "LayoutModel",
      "state": {
       "display": "flex",
       "flex_flow": "column",
       "width": "auto"
      }
     },
     "2c8a505747d5433385f586d0cedd6488": {
      "model_module": "@jupyter-widgets/controls",
      "model_module_version": "1.5.0",
      "model_name": "HTMLModel",
      "state": {
       "layout": "IPY_MODEL_f99f8a3c5613415cb42d594ff453b54f",
       "style": "IPY_MODEL_0304c3f473694bb0827f2ad0f0c9827c",
       "value": "\n        <table class='ptable striped'>\n            <thead class='pthead'>\n                <tr class='ptr'>\n                    <th class='pth'></th><th class='pth'>name</th><th class='pth'>n_missing</th><th class='pth'>n_unique</th><th class='pth'>top1</th><th class='pth'>top2</th><th class='pth'>top3</th><th class='pth'>n_others</th>\n                </tr>\n            </thead>\n\n            <tbody class='ptbody'>\n                <tr class='ptr'><td class='ptd'>0</td><td class='ptd'>Segment</td><td class='ptd'>0</td><td class='ptd'>15</td><td class='ptd'>Segment 13 : 15000</td><td class='ptd'>Segment 6 : 10000</td><td class='ptd'>Segment 12 : 10000</td><td class='ptd'>28240</td></tr><tr class='ptr'><td class='ptd'>1</td><td class='ptd'>Label</td><td class='ptd'>0</td><td class='ptd'>2</td><td class='ptd'>0.0 : 48714</td><td class='ptd'>1.0 : 14526</td><td class='ptd'>0</td><td class='ptd'>0</td></tr><tr class='ptr grey'><td class='ptd'>2</td><td class='ptd'>Age >= 62</td><td class='ptd'>0</td><td class='ptd'>2</td><td class='ptd'>0.0 : 31823</td><td class='ptd'>1.0 : 31417</td><td class='ptd'>0</td><td class='ptd'>0</td></tr><tr class='ptr'><td class='ptd'>3</td><td class='ptd'>Age < 62</td><td class='ptd'>0</td><td class='ptd'>2</td><td class='ptd'>1.0 : 31823</td><td class='ptd'>0.0 : 31417</td><td class='ptd'>0</td><td class='ptd'>0</td></tr>\n            </tbody>\n        </table>\n        "
      }
     },
     "2ca9d62ece384ff0a7bafb0bb18ee9d7": {
      "model_module": "@jupyter-widgets/controls",
      "model_module_version": "1.5.0",
      "model_name": "DescriptionStyleModel",
      "state": {
       "description_width": ""
      }
     },
     "2ce7adf3a41c473986a7b7dae2b44ab9": {
      "model_module": "@jupyter-widgets/controls",
      "model_module_version": "1.5.0",
      "model_name": "HTMLModel",
      "state": {
       "layout": "IPY_MODEL_5e78c73c7d9344018313da6d0d586700",
       "style": "IPY_MODEL_2ca9d62ece384ff0a7bafb0bb18ee9d7",
       "value": "\n        <table class='ptable striped'>\n            <thead class='pthead'>\n                <tr class='ptr'>\n                    <th class='pth'></th><th class='pth'>name</th><th class='pth'>n_missing</th><th class='pth'>n_unique</th><th class='pth'>top1</th><th class='pth'>top2</th><th class='pth'>top3</th><th class='pth'>n_others</th>\n                </tr>\n            </thead>\n\n            <tbody class='ptbody'>\n                <tr class='ptr'><td class='ptd'>0</td><td class='ptd'>Segment</td><td class='ptd'>0</td><td class='ptd'>15</td><td class='ptd'>Segment 13 : 15000</td><td class='ptd'>Segment 6 : 10000</td><td class='ptd'>Segment 12 : 10000</td><td class='ptd'>28240</td></tr><tr class='ptr'><td class='ptd'>1</td><td class='ptd'>Label</td><td class='ptd'>0</td><td class='ptd'>2</td><td class='ptd'>0.0 : 48714</td><td class='ptd'>1.0 : 14526</td><td class='ptd'>0</td><td class='ptd'>0</td></tr><tr class='ptr'><td class='ptd'>2</td><td class='ptd'>Age >= 62</td><td class='ptd'>0</td><td class='ptd'>2</td><td class='ptd'>0.0 : 31823</td><td class='ptd'>1.0 : 31417</td><td class='ptd'>0</td><td class='ptd'>0</td></tr><tr class='ptr'><td class='ptd'>3</td><td class='ptd'>Age < 62</td><td class='ptd'>0</td><td class='ptd'>2</td><td class='ptd'>1.0 : 31823</td><td class='ptd'>0.0 : 31417</td><td class='ptd'>0</td><td class='ptd'>0</td></tr>\n            </tbody>\n        </table>\n        "
      }
     },
     "2d019655bba64a22a139f948d266a0cb": {
      "model_module": "@jupyter-widgets/controls",
      "model_module_version": "1.5.0",
      "model_name": "TextModel",
      "state": {
       "layout": "IPY_MODEL_50bca1dc3e54442ab93e338278ff85ff",
       "placeholder": "Input name",
       "style": "IPY_MODEL_a12ec2d7f23e4287b3f79711f81fbe40",
       "value": "EBM"
      }
     },
     "2d04e5e5242b4590aa4208a4953bca0f": {
      "model_module": "@jupyter-widgets/base",
      "model_module_version": "1.2.0",
      "model_name": "LayoutModel",
      "state": {
       "width": "auto"
      }
     },
     "2d22ad90039446e58674d4045ab84637": {
      "model_module": "@jupyter-widgets/controls",
      "model_module_version": "1.5.0",
      "model_name": "HTMLModel",
      "state": {
       "layout": "IPY_MODEL_0c47241b7a7b452d9225ecb685ddaf4b",
       "style": "IPY_MODEL_88c725cc89f44213a4ffafcddfcad562",
       "value": "<p class=\"notification info\">Excluded attribute \"Majority\"</p>"
      }
     },
     "2d63752bd6b54ded9a87d05c55373986": {
      "model_module": "@jupyter-widgets/controls",
      "model_module_version": "1.5.0",
      "model_name": "SliderStyleModel",
      "state": {
       "description_width": ""
      }
     },
     "2db1c1c5dd8845f1b0e1f688c844ae14": {
      "model_module": "@jupyter-widgets/base",
      "model_module_version": "1.2.0",
      "model_name": "LayoutModel",
      "state": {
       "display": "flex",
       "flex_flow": "column",
       "width": "100%"
      }
     },
     "2df3ab0bc740475490da19a303d38e2e": {
      "model_module": "@jupyter-widgets/controls",
      "model_module_version": "1.5.0",
      "model_name": "DescriptionStyleModel",
      "state": {
       "description_width": ""
      }
     },
     "2dfc820b90ed4682b69ac055776bfd1e": {
      "model_module": "@jupyter-widgets/controls",
      "model_module_version": "1.5.0",
      "model_name": "HTMLModel",
      "state": {
       "layout": "IPY_MODEL_d3f4d6cd3dc8442e9900b16f94be1489",
       "style": "IPY_MODEL_30645d34876545eaabd8454634b2059c",
       "value": "<div class='divider'></div>"
      }
     },
     "2dfde259870e4814902cee4bce186626": {
      "model_module": "@jupyter-widgets/base",
      "model_module_version": "1.2.0",
      "model_name": "LayoutModel",
      "state": {}
     },
     "2e30a0d9ebb64018968ef27a23a55283": {
      "model_module": "@jupyter-widgets/base",
      "model_module_version": "1.2.0",
      "model_name": "LayoutModel",
      "state": {
       "width": "65%"
      }
     },
     "2e3a7bba3adf42a8a251ee57aa52d3ac": {
      "model_module": "@jupyter-widgets/controls",
      "model_module_version": "1.5.0",
      "model_name": "CheckboxModel",
      "state": {
       "description": "EBM",
       "disabled": false,
       "indent": false,
       "layout": "IPY_MODEL_0e50b3a94e17458fb649f32ca5c6f78a",
       "style": "IPY_MODEL_3e4abc9186114d14a5a10a03f1dbb005",
       "value": false
      }
     },
     "2e634a10d5a14feca1ca34c2c3f59015": {
      "model_module": "@jupyter-widgets/base",
      "model_module_version": "1.2.0",
      "model_name": "LayoutModel",
      "state": {
       "width": "15%"
      }
     },
     "2e7b022edc114d0e8df0dd69cf6bc5fa": {
      "model_module": "@jupyter-widgets/controls",
      "model_module_version": "1.5.0",
      "model_name": "HTMLModel",
      "state": {
       "layout": "IPY_MODEL_577430efffcc42ec82de7da29350ea7a",
       "style": "IPY_MODEL_a96fd33bbd584a93bfc776dfce7279d6",
       "value": "<h4 style='margin-top: 0px;margin-bottom: 0px;'>Leaderboard</h4>"
      }
     },
     "2e89488433ea4624968baaf5b740be1f": {
      "model_module": "@jupyter-widgets/controls",
      "model_module_version": "1.5.0",
      "model_name": "HTMLModel",
      "state": {
       "layout": "IPY_MODEL_9b154a10d8e94a54a73096db20754be3",
       "style": "IPY_MODEL_70a8a4689a7f442cb6f01c931d63c204",
       "value": "<h4 style='margin: 10px 0px;'>Monotonic Setting</h4>"
      }
     },
     "2ec5263e89844ec5b864601cb80b8976": {
      "model_module": "@jupyter-widgets/base",
      "model_module_version": "1.2.0",
      "model_name": "LayoutModel",
      "state": {}
     },
     "2ef7d548e5d640d5918e83489792dd65": {
      "model_module": "@jupyter-widgets/controls",
      "model_module_version": "1.5.0",
      "model_name": "DescriptionStyleModel",
      "state": {
       "description_width": "initial"
      }
     },
     "2f0dfd353a794074946ea1b34b14e918": {
      "model_module": "@jupyter-widgets/controls",
      "model_module_version": "1.5.0",
      "model_name": "BoundedIntTextModel",
      "state": {
       "layout": "IPY_MODEL_cb940853d893409fbe161124150aee5f",
       "min": 1,
       "style": "IPY_MODEL_bb9a01c013a5482393bb97308d5e5ac6",
       "value": 5
      }
     },
     "2f1c519b0ff248c293f07fe53b16f79d": {
      "model_module": "@jupyter-widgets/controls",
      "model_module_version": "1.5.0",
      "model_name": "VBoxModel",
      "state": {
       "children": [
        "IPY_MODEL_be0f6d48033b4c97b325aaa35b89f7b5"
       ],
       "layout": "IPY_MODEL_93af8939d3ca4326bb434289651e4f7a"
      }
     },
     "2f268f7b361541949cc55d1c7c12eeb3": {
      "model_module": "@jupyter-widgets/controls",
      "model_module_version": "1.5.0",
      "model_name": "HTMLModel",
      "state": {
       "layout": "IPY_MODEL_8c08d7806f714e09a69e7091da2feaf7",
       "style": "IPY_MODEL_b0f50b7aea8249d7aae8bed83aefaae5",
       "value": "<div class='divider'></div>"
      }
     },
     "2f2ebbca03724d16b057d0f3cee5a9d7": {
      "model_module": "@jupyter-widgets/controls",
      "model_module_version": "1.5.0",
      "model_name": "HTMLModel",
      "state": {
       "layout": "IPY_MODEL_3234d71f03f04652915b23f04bad99dc",
       "style": "IPY_MODEL_5fd6014077484079820643829d43d9ae",
       "value": "Feature_decreasing:"
      }
     },
     "2f350c4e90404f35b53a5945a0df42c9": {
      "model_module": "@jupyter-widgets/controls",
      "model_module_version": "1.5.0",
      "model_name": "ButtonModel",
      "state": {
       "_dom_classes": [
        "pbtn"
       ],
       "button_style": "danger",
       "description": "OK",
       "layout": "IPY_MODEL_283bb364c54a44c6a605c26179b0977e",
       "style": "IPY_MODEL_bf6dacfe9de047ee84e8f1101c439d9d"
      }
     },
     "2f7593aa88c04eddb33484f1c9e9f49d": {
      "model_module": "@jupyter-widgets/base",
      "model_module_version": "1.2.0",
      "model_name": "LayoutModel",
      "state": {}
     },
     "2f973d9bda954521abb29682fd97f443": {
      "model_module": "@jupyter-widgets/controls",
      "model_module_version": "1.5.0",
      "model_name": "DescriptionStyleModel",
      "state": {
       "description_width": ""
      }
     },
     "2fad6a5f3810488fb497f1ef9994398e": {
      "model_module": "@jupyter-widgets/base",
      "model_module_version": "1.2.0",
      "model_name": "LayoutModel",
      "state": {
       "width": "20%"
      }
     },
     "2fadf398e7284b648835e5a9e1556dbf": {
      "model_module": "@jupyter-widgets/controls",
      "model_module_version": "1.5.0",
      "model_name": "DescriptionStyleModel",
      "state": {
       "description_width": "initial"
      }
     },
     "2fe4765407fe451e9cda58e9be70deb4": {
      "model_module": "@jupyter-widgets/controls",
      "model_module_version": "1.5.0",
      "model_name": "BoundedIntTextModel",
      "state": {
       "layout": "IPY_MODEL_6c6200482d5b4226ac3e7a9cb9e7ad20",
       "max": 1000,
       "style": "IPY_MODEL_9170c25bf3864a699fa5215773210ee9",
       "value": 50
      }
     },
     "2ff9a7414996406bb46db861af3b6707": {
      "model_module": "@jupyter-widgets/base",
      "model_module_version": "1.2.0",
      "model_name": "LayoutModel",
      "state": {
       "width": "155px"
      }
     },
     "2ffe821e64b040499db2b0d4595a4026": {
      "model_module": "@jupyter-widgets/base",
      "model_module_version": "1.2.0",
      "model_name": "LayoutModel",
      "state": {
       "width": "155px"
      }
     },
     "301fe5931f91486aab4baf80acb759e8": {
      "model_module": "@jupyter-widgets/controls",
      "model_module_version": "1.5.0",
      "model_name": "DescriptionStyleModel",
      "state": {
       "description_width": ""
      }
     },
     "302195fdb9f24b899d433346982437b6": {
      "model_module": "@jupyter-widgets/base",
      "model_module_version": "1.2.0",
      "model_name": "LayoutModel",
      "state": {}
     },
     "3029b328430c4484bcfdb8d958db5414": {
      "model_module": "@jupyter-widgets/base",
      "model_module_version": "1.2.0",
      "model_name": "LayoutModel",
      "state": {}
     },
     "302d66617e10419b9531323cd89b9169": {
      "model_module": "@jupyter-widgets/controls",
      "model_module_version": "1.5.0",
      "model_name": "BoundedIntTextModel",
      "state": {
       "layout": "IPY_MODEL_32906ca3425b49c4bfdde04cbbfe7cb0",
       "min": 1,
       "style": "IPY_MODEL_d5b7b35c5ceb456094580de6be2a75e0",
       "value": 5
      }
     },
     "30311a084f9344109e89163af6061bd2": {
      "model_module": "@jupyter-widgets/controls",
      "model_module_version": "1.5.0",
      "model_name": "BoundedFloatTextModel",
      "state": {
       "layout": "IPY_MODEL_1d684eed8fac4b9abe95e5b011515eb9",
       "step": null,
       "style": "IPY_MODEL_0a645432bb1646a2a662ffe6c8ec3659"
      }
     },
     "30645d34876545eaabd8454634b2059c": {
      "model_module": "@jupyter-widgets/controls",
      "model_module_version": "1.5.0",
      "model_name": "DescriptionStyleModel",
      "state": {
       "description_width": ""
      }
     },
     "30a7931eef38457f88f735f5c528947c": {
      "model_module": "@jupyter-widgets/base",
      "model_module_version": "1.2.0",
      "model_name": "LayoutModel",
      "state": {}
     },
     "30e61bd62b5f4fb995183efba87fea65": {
      "model_module": "@jupyter-widgets/controls",
      "model_module_version": "1.5.0",
      "model_name": "HTMLModel",
      "state": {
       "layout": "IPY_MODEL_548d2aa13d124aa1bd2e1563ac3a27ad",
       "style": "IPY_MODEL_6932f20c9c394781abd48c70b71fd95f",
       "value": "<div class='divider'></div>"
      }
     },
     "30f6de4528754b798c09b01f23546f29": {
      "model_module": "@jupyter-widgets/controls",
      "model_module_version": "1.5.0",
      "model_name": "DescriptionStyleModel",
      "state": {
       "description_width": ""
      }
     },
     "3121a89f248445709c3bbb2f8378cfb2": {
      "model_module": "@jupyter-widgets/base",
      "model_module_version": "1.2.0",
      "model_name": "LayoutModel",
      "state": {
       "width": "auto"
      }
     },
     "314781ea753640319d6f79950befbeef": {
      "model_module": "@jupyter-widgets/base",
      "model_module_version": "1.2.0",
      "model_name": "LayoutModel",
      "state": {
       "width": "auto"
      }
     },
     "314f7aa474cc432691fc81c99c55d4d4": {
      "model_module": "@jupyter-widgets/controls",
      "model_module_version": "1.5.0",
      "model_name": "DescriptionStyleModel",
      "state": {
       "description_width": "initial"
      }
     },
     "316b76757ded42a7b51b5ffa4a7756f8": {
      "model_module": "@jupyter-widgets/controls",
      "model_module_version": "1.5.0",
      "model_name": "DescriptionStyleModel",
      "state": {
       "description_width": ""
      }
     },
     "31b573faa5bd4250b3704f018aeebb32": {
      "model_module": "@jupyter-widgets/controls",
      "model_module_version": "1.5.0",
      "model_name": "BoxModel",
      "state": {
       "children": [
        "IPY_MODEL_4375c01ab1e2471c8266046ba738322e",
        "IPY_MODEL_9598942c2be24b27a8ec897b2a597f31"
       ],
       "layout": "IPY_MODEL_d9ce994c266a480a8170b179a073fa2d"
      }
     },
     "31f2ecd1974d44bab83f73b0a30f0507": {
      "model_module": "@jupyter-widgets/controls",
      "model_module_version": "1.5.0",
      "model_name": "DropdownModel",
      "state": {
       "_options_labels": [
        "Select",
        "Segment",
        "x1",
        "x2",
        "x3",
        "x4",
        "x5",
        "Label",
        "Minority",
        "Majority",
        "Age >= 62",
        "Age < 62"
       ],
       "index": 0,
       "layout": "IPY_MODEL_9f6372e74e654c0cadea0b7fe4cd4f4e",
       "style": "IPY_MODEL_482af95c25934373b0d5ebda4ebac33b"
      }
     },
     "321b9b51044c4b74a3666bbb456c0545": {
      "model_module": "@jupyter-widgets/base",
      "model_module_version": "1.2.0",
      "model_name": "LayoutModel",
      "state": {
       "height": "10px"
      }
     },
     "32251a8c32bd4ec0be67b9217f0421e0": {
      "model_module": "@jupyter-widgets/controls",
      "model_module_version": "1.5.0",
      "model_name": "HBoxModel",
      "state": {
       "children": [
        "IPY_MODEL_b48519a5276d4779a41dd4a0a5e519ec",
        "IPY_MODEL_a4365ba781794594949bbaa42a810376"
       ],
       "layout": "IPY_MODEL_94bc5acac7824b558ed181484cca3b02"
      }
     },
     "3234d71f03f04652915b23f04bad99dc": {
      "model_module": "@jupyter-widgets/base",
      "model_module_version": "1.2.0",
      "model_name": "LayoutModel",
      "state": {}
     },
     "3247bdddb7f7458ba0382084fb4751ba": {
      "model_module": "@jupyter-widgets/controls",
      "model_module_version": "1.5.0",
      "model_name": "DescriptionStyleModel",
      "state": {
       "description_width": ""
      }
     },
     "326aeff0895e481392eb5e2bfb8d6953": {
      "model_module": "@jupyter-widgets/base",
      "model_module_version": "1.2.0",
      "model_name": "LayoutModel",
      "state": {}
     },
     "3275719d04c64cae926a5607a344eba7": {
      "model_module": "@jupyter-widgets/controls",
      "model_module_version": "1.5.0",
      "model_name": "DescriptionStyleModel",
      "state": {
       "description_width": ""
      }
     },
     "32906ca3425b49c4bfdde04cbbfe7cb0": {
      "model_module": "@jupyter-widgets/base",
      "model_module_version": "1.2.0",
      "model_name": "LayoutModel",
      "state": {
       "width": "auto"
      }
     },
     "3290deede38c4d11aa009259cd4348e3": {
      "model_module": "@jupyter-widgets/controls",
      "model_module_version": "1.5.0",
      "model_name": "DescriptionStyleModel",
      "state": {
       "description_width": "initial"
      }
     },
     "32e4509e022744dba18059bc7063dd01": {
      "model_module": "@jupyter-widgets/base",
      "model_module_version": "1.2.0",
      "model_name": "LayoutModel",
      "state": {
       "display": "flex",
       "flex_flow": "column",
       "width": "48%"
      }
     },
     "3308c9621926496f98655dee66617fcf": {
      "model_module": "@jupyter-widgets/controls",
      "model_module_version": "1.5.0",
      "model_name": "HTMLModel",
      "state": {
       "layout": "IPY_MODEL_1f144703f69143a482e157c14800e67e",
       "style": "IPY_MODEL_aafbd51cb97f4001b45498399cfaf216",
       "value": "n_knots:"
      }
     },
     "3327b66962414f02b28aa7b817811a5e": {
      "model_module": "@jupyter-widgets/controls",
      "model_module_version": "1.5.0",
      "model_name": "DescriptionStyleModel",
      "state": {
       "description_width": ""
      }
     },
     "33469cc93dad46dcbf4aa3b24d2ce7bd": {
      "model_module": "@jupyter-widgets/controls",
      "model_module_version": "1.5.0",
      "model_name": "DescriptionStyleModel",
      "state": {
       "description_width": ""
      }
     },
     "3362a70219ff4315a9bb1c9181b62891": {
      "model_module": "@jupyter-widgets/controls",
      "model_module_version": "1.5.0",
      "model_name": "TextModel",
      "state": {
       "layout": "IPY_MODEL_00b8951c698d474cacb8c39b4029ba60",
       "placeholder": "Input name",
       "style": "IPY_MODEL_098d2037946a46a99a09a27ebb9e15d4",
       "value": "EBM"
      }
     },
     "3368504d0bc34585914158b026a9cf80": {
      "model_module": "@jupyter-widgets/base",
      "model_module_version": "1.2.0",
      "model_name": "LayoutModel",
      "state": {
       "width": "99%"
      }
     },
     "336abfc6ab96489b9959f8bc832b0a97": {
      "model_module": "@jupyter-widgets/controls",
      "model_module_version": "1.5.0",
      "model_name": "HTMLModel",
      "state": {
       "layout": "IPY_MODEL_e63b785a70714bf69157335925352985",
       "style": "IPY_MODEL_e14d6da3d839407985dfaf480c55036c",
       "value": "Feature_decreasing:"
      }
     },
     "3383382a273243daa1de922783222f93": {
      "model_module": "@jupyter-widgets/controls",
      "model_module_version": "1.5.0",
      "model_name": "BoundedFloatTextModel",
      "state": {
       "layout": "IPY_MODEL_ecfb0ab2c0214e1a91030fb36aafb722",
       "max": 10,
       "step": null,
       "style": "IPY_MODEL_037c290b5b604dbda9582b68e3e133b9",
       "value": 0.6
      }
     },
     "3388477bb4b54ffdab6662fb98a662a7": {
      "model_module": "@jupyter-widgets/controls",
      "model_module_version": "1.5.0",
      "model_name": "DescriptionStyleModel",
      "state": {
       "description_width": ""
      }
     },
     "339f5980a54e4e1296460fb3240fa303": {
      "model_module": "@jupyter-widgets/controls",
      "model_module_version": "1.5.0",
      "model_name": "TextModel",
      "state": {
       "layout": "IPY_MODEL_7430f901cb3041d0ac298675420b08a4",
       "placeholder": "[40,40]...",
       "style": "IPY_MODEL_e9da8f0ef0f449288d642fdac5b17a87",
       "value": "[20,20]"
      }
     },
     "33b751b6960b4897bf882e523ff9207a": {
      "model_module": "@jupyter-widgets/controls",
      "model_module_version": "1.5.0",
      "model_name": "HTMLModel",
      "state": {
       "layout": "IPY_MODEL_302195fdb9f24b899d433346982437b6",
       "style": "IPY_MODEL_1f87eac682004413ba53d3dcea3dcc1a",
       "value": "\n        <table class='ptable striped'>\n            <thead class='pthead'>\n                <tr class='ptr'>\n                    <th class='pth'></th><th class='pth'>name</th><th class='pth'>n_missing</th><th class='pth'>mean</th><th class='pth'>std</th><th class='pth'>min</th><th class='pth'>q1</th><th class='pth'>median</th><th class='pth'>q3</th><th class='pth'>max</th>\n                </tr>\n            </thead>\n\n            <tbody class='ptbody'>\n                <tr class='ptr'><td class='ptd'>0</td><td class='ptd'>x1</td><td class='ptd'>0.0</td><td class='ptd'>-0.010468</td><td class='ptd'>1.00554</td><td class='ptd'>-4.111457</td><td class='ptd'>-0.687572</td><td class='ptd'>-0.016001</td><td class='ptd'>0.661917</td><td class='ptd'>3.723496</td></tr><tr class='ptr'><td class='ptd'>1</td><td class='ptd'>x2</td><td class='ptd'>0.0</td><td class='ptd'>0.003769</td><td class='ptd'>0.998657</td><td class='ptd'>-4.441389</td><td class='ptd'>-0.661684</td><td class='ptd'>0.009965</td><td class='ptd'>0.678074</td><td class='ptd'>4.547531</td></tr><tr class='ptr'><td class='ptd'>2</td><td class='ptd'>x3</td><td class='ptd'>0.0</td><td class='ptd'>-0.027052</td><td class='ptd'>0.996581</td><td class='ptd'>-4.040587</td><td class='ptd'>-0.699355</td><td class='ptd'>-0.026371</td><td class='ptd'>0.64237</td><td class='ptd'>4.308687</td></tr><tr class='ptr'><td class='ptd'>3</td><td class='ptd'>x4</td><td class='ptd'>0.0</td><td class='ptd'>0.00803</td><td class='ptd'>0.99497</td><td class='ptd'>-4.491451</td><td class='ptd'>-0.659107</td><td class='ptd'>0.004833</td><td class='ptd'>0.680002</td><td class='ptd'>3.864044</td></tr><tr class='ptr'><td class='ptd'>4</td><td class='ptd'>x5</td><td class='ptd'>0.0</td><td class='ptd'>-0.001039</td><td class='ptd'>0.9876</td><td class='ptd'>-3.990077</td><td class='ptd'>-0.663987</td><td class='ptd'>0.000662</td><td class='ptd'>0.659662</td><td class='ptd'>4.093057</td></tr><tr class='ptr grey'><td class='ptd'>5</td><td class='ptd'>Minority</td><td class='ptd'>0.0</td><td class='ptd'>0.271599</td><td class='ptd'>0.268342</td><td class='ptd'>3e-06</td><td class='ptd'>0.056888</td><td class='ptd'>0.170139</td><td class='ptd'>0.419018</td><td class='ptd'>0.99998</td></tr><tr class='ptr grey'><td class='ptd'>6</td><td class='ptd'>Majority</td><td class='ptd'>0.0</td><td class='ptd'>0.728401</td><td class='ptd'>0.268342</td><td class='ptd'>2e-05</td><td class='ptd'>0.580982</td><td class='ptd'>0.829861</td><td class='ptd'>0.943112</td><td class='ptd'>0.999997</td></tr>\n            </tbody>\n        </table>\n        "
      }
     },
     "33bbd79cf1b344e58ce841f8613ff4db": {
      "model_module": "@jupyter-widgets/controls",
      "model_module_version": "1.5.0",
      "model_name": "ButtonStyleModel",
      "state": {}
     },
     "33c9a71f8ecf4487987bdfc5ff83db7e": {
      "model_module": "@jupyter-widgets/controls",
      "model_module_version": "1.5.0",
      "model_name": "BoxModel",
      "state": {
       "children": [
        "IPY_MODEL_4fb15b952b984fd899209b6e675664c1",
        "IPY_MODEL_dbab9089e9fe44a88d59f93853578042"
       ],
       "layout": "IPY_MODEL_a6aae0eadea2422b8a43e48ef7dcb65b"
      }
     },
     "3418be6896c04514880bf743a7709136": {
      "model_module": "@jupyter-widgets/controls",
      "model_module_version": "1.5.0",
      "model_name": "ButtonStyleModel",
      "state": {}
     },
     "342c63767d544f9eb117520d0e3bab29": {
      "model_module": "@jupyter-widgets/controls",
      "model_module_version": "1.5.0",
      "model_name": "HBoxModel",
      "state": {
       "children": [
        "IPY_MODEL_1b81d5440d104e0ca0540ea5b049efcc",
        "IPY_MODEL_a04eb856972048f1a91dd6fa6449f1ba"
       ],
       "layout": "IPY_MODEL_99acdc550ede4287a12169c26d984641"
      }
     },
     "343da7fbfae141e69af850a72e4c3d86": {
      "model_module": "@jupyter-widgets/controls",
      "model_module_version": "1.5.0",
      "model_name": "DescriptionStyleModel",
      "state": {
       "description_width": "initial"
      }
     },
     "3470838ce70f48c9b7c129d8227f4f81": {
      "model_module": "@jupyter-widgets/base",
      "model_module_version": "1.2.0",
      "model_name": "LayoutModel",
      "state": {}
     },
     "348333221fa747b1aa8a901c57d0a84c": {
      "model_module": "@jupyter-widgets/base",
      "model_module_version": "1.2.0",
      "model_name": "LayoutModel",
      "state": {
       "width": "auto"
      }
     },
     "34d0d8b269af44b383f3c5b4b097b78e": {
      "model_module": "@jupyter-widgets/base",
      "model_module_version": "1.2.0",
      "model_name": "LayoutModel",
      "state": {
       "width": "auto"
      }
     },
     "34df73cf45644fa0b8a47a2f18152407": {
      "model_module": "@jupyter-widgets/controls",
      "model_module_version": "1.5.0",
      "model_name": "DescriptionStyleModel",
      "state": {
       "description_width": ""
      }
     },
     "34e3a6c31eb24cd7924291e9664c66f8": {
      "model_module": "@jupyter-widgets/controls",
      "model_module_version": "1.5.0",
      "model_name": "DescriptionStyleModel",
      "state": {
       "description_width": ""
      }
     },
     "34f362e18beb4919a49efe1d332669a4": {
      "model_module": "@jupyter-widgets/controls",
      "model_module_version": "1.5.0",
      "model_name": "DescriptionStyleModel",
      "state": {
       "description_width": ""
      }
     },
     "351147870e5e43d782ca98fa3d197d44": {
      "model_module": "@jupyter-widgets/controls",
      "model_module_version": "1.5.0",
      "model_name": "HTMLModel",
      "state": {
       "layout": "IPY_MODEL_3fdc651645064477b4e0652ed3836f23",
       "style": "IPY_MODEL_5d2e8cb32bdf4df980cec9d7d1894aad",
       "value": "Max_rounds:"
      }
     },
     "35173b694b25400fb9d9fdcf961eef99": {
      "model_module": "@jupyter-widgets/controls",
      "model_module_version": "1.5.0",
      "model_name": "DescriptionStyleModel",
      "state": {
       "description_width": ""
      }
     },
     "352968aead37406a862a5f69f64610fe": {
      "model_module": "@jupyter-widgets/base",
      "model_module_version": "1.2.0",
      "model_name": "LayoutModel",
      "state": {
       "width": "auto"
      }
     },
     "3539293100eb4304918c310c8c88df19": {
      "model_module": "@jupyter-widgets/controls",
      "model_module_version": "1.5.0",
      "model_name": "BoxModel",
      "state": {
       "_dom_classes": [
        "inner-card"
       ],
       "children": [
        "IPY_MODEL_687219efa7744a1da75d6018ce53b185",
        "IPY_MODEL_ce549e63c053400daeb05acbcd5302b8",
        "IPY_MODEL_ab49fe918df24225b88fab9c360bbee4"
       ],
       "layout": "IPY_MODEL_b6e7f1b2c0e642a2b88a426a166aaa63"
      }
     },
     "3540fd636780434f905156342dd563bc": {
      "model_module": "@jupyter-widgets/controls",
      "model_module_version": "1.5.0",
      "model_name": "DescriptionStyleModel",
      "state": {
       "description_width": ""
      }
     },
     "354af78fd13546f59f41a14a78187c23": {
      "model_module": "@jupyter-widgets/base",
      "model_module_version": "1.2.0",
      "model_name": "LayoutModel",
      "state": {
       "height": "25px",
       "width": "35px"
      }
     },
     "354e2b93dd764abfb6ef370233eccf04": {
      "model_module": "@jupyter-widgets/controls",
      "model_module_version": "1.5.0",
      "model_name": "HBoxModel",
      "state": {
       "children": [
        "IPY_MODEL_ee8ad12932344d838fa34bba256dcdcb",
        "IPY_MODEL_becc79295b4448748bc02537d6ea5043"
       ],
       "layout": "IPY_MODEL_02e423704ab8478e8bedfae383e67602"
      }
     },
     "356d791ca61c4ad698577b557126e472": {
      "model_module": "@jupyter-widgets/base",
      "model_module_version": "1.2.0",
      "model_name": "LayoutModel",
      "state": {}
     },
     "357b19d7b8b640a393da35e804084fa9": {
      "model_module": "@jupyter-widgets/base",
      "model_module_version": "1.2.0",
      "model_name": "LayoutModel",
      "state": {}
     },
     "359bc69b436944d9ab79fd897b6b80d0": {
      "model_module": "@jupyter-widgets/controls",
      "model_module_version": "1.5.0",
      "model_name": "DescriptionStyleModel",
      "state": {
       "description_width": ""
      }
     },
     "359f73abad824c56aaf80f54ef67ff7f": {
      "model_module": "@jupyter-widgets/base",
      "model_module_version": "1.2.0",
      "model_name": "LayoutModel",
      "state": {}
     },
     "3607499193704248946aac6350fe1056": {
      "model_module": "@jupyter-widgets/output",
      "model_module_version": "1.0.0",
      "model_name": "OutputModel",
      "state": {
       "layout": "IPY_MODEL_467b6320b1f24afd90fab6eeb3c5e5c1"
      }
     },
     "36150de4ba4f44e3ace6f2d33f16a595": {
      "model_module": "@jupyter-widgets/controls",
      "model_module_version": "1.5.0",
      "model_name": "HTMLModel",
      "state": {
       "layout": "IPY_MODEL_b40021b1b9fb405f89dbd3781bfc321e",
       "style": "IPY_MODEL_909ae54f37344c48b2a26033a3c709ae",
       "value": "Protected Weight:"
      }
     },
     "363a60703a3b477bb152cbee99b1e81f": {
      "model_module": "@jupyter-widgets/controls",
      "model_module_version": "1.5.0",
      "model_name": "HTMLModel",
      "state": {
       "layout": "IPY_MODEL_28d50cb46de54f979b7ebddc7ed5fecf",
       "style": "IPY_MODEL_93ff3c0e09df4b1789d45029dd72c2b0",
       "value": "<h4 style='margin-top: 0px;'>Register Trained Model</h4>"
      }
     },
     "363f14aac7764b0aa7268a9168b54fd5": {
      "model_module": "@jupyter-widgets/controls",
      "model_module_version": "1.5.0",
      "model_name": "BoxModel",
      "state": {
       "children": [
        "IPY_MODEL_b2d41bb104da4b4cb87c0e633317f20d",
        "IPY_MODEL_a94fa68f467546cba08d46ecc8fda131",
        "IPY_MODEL_2e89488433ea4624968baaf5b740be1f",
        "IPY_MODEL_0e17c2457d094a949d1684c1683dafca"
       ],
       "layout": "IPY_MODEL_aff92c209b1f4102af9f99e66216a191"
      }
     },
     "365e857dbff54d5ead8f2ff7d303f48a": {
      "model_module": "@jupyter-widgets/controls",
      "model_module_version": "1.5.0",
      "model_name": "DescriptionStyleModel",
      "state": {
       "description_width": ""
      }
     },
     "366bd610289e4450ac621a8f34ed27b4": {
      "model_module": "@jupyter-widgets/base",
      "model_module_version": "1.2.0",
      "model_name": "LayoutModel",
      "state": {
       "width": "auto"
      }
     },
     "3683a81986e14df3a0bacb31fbe0d1fb": {
      "model_module": "@jupyter-widgets/controls",
      "model_module_version": "1.5.0",
      "model_name": "DropdownModel",
      "state": {
       "_options_labels": [
        "0",
        "1"
       ],
       "index": 0,
       "layout": "IPY_MODEL_0e873181c4bf4b3ea79f4ccb49cb2695",
       "style": "IPY_MODEL_8e2766fd768045559d372ab91852e681"
      }
     },
     "369ad7f4b04b4140a44f44257025a24c": {
      "model_module": "@jupyter-widgets/controls",
      "model_module_version": "1.5.0",
      "model_name": "HTMLModel",
      "state": {
       "layout": "IPY_MODEL_f89090626ee34f62b153d8e7f4f3ba43",
       "style": "IPY_MODEL_5687d0dd8c514044bf568a9afc0ed04c",
       "value": "<div style='margin-right: 10px'></div>"
      }
     },
     "376ae7b899864a39a7dd8baf725f945b": {
      "model_module": "@jupyter-widgets/base",
      "model_module_version": "1.2.0",
      "model_name": "LayoutModel",
      "state": {
       "display": "flex",
       "flex_flow": "column",
       "width": "auto"
      }
     },
     "38033e9fd4354bc8b84a099cdf5d1882": {
      "model_module": "@jupyter-widgets/controls",
      "model_module_version": "1.5.0",
      "model_name": "BoundedIntTextModel",
      "state": {
       "layout": "IPY_MODEL_e6415eb3b04640eaad245f65a62c7d9d",
       "max": 10000,
       "min": 1,
       "style": "IPY_MODEL_f699a8fdd88646aa8cd64441244d3156",
       "value": 100
      }
     },
     "380f1e7ed7324d519cd278ff0ccdc4a8": {
      "model_module": "@jupyter-widgets/controls",
      "model_module_version": "1.5.0",
      "model_name": "BoxModel",
      "state": {
       "children": [
        "IPY_MODEL_27641cf38add43518e9c26e01029adf0"
       ],
       "layout": "IPY_MODEL_628cdc4766f74654acc0ce7d58e2a85e"
      }
     },
     "383c27fe45ff44ff8ce79afa975c7e16": {
      "model_module": "@jupyter-widgets/controls",
      "model_module_version": "1.5.0",
      "model_name": "VBoxModel",
      "state": {
       "children": [
        "IPY_MODEL_ddf13a72cb8e4126b839ee634f83bdf8"
       ],
       "layout": "IPY_MODEL_58212055010244c78c586ab2ea74edd7"
      }
     },
     "385060fc042c4182a979dbe17ffc0904": {
      "model_module": "@jupyter-widgets/controls",
      "model_module_version": "1.5.0",
      "model_name": "DescriptionStyleModel",
      "state": {
       "description_width": ""
      }
     },
     "385b32ad4f57407ba6b2cc1246c9803a": {
      "model_module": "@jupyter-widgets/controls",
      "model_module_version": "1.5.0",
      "model_name": "HTMLModel",
      "state": {
       "layout": "IPY_MODEL_a252e57af4604c138610626282e11457",
       "style": "IPY_MODEL_5142ff28f59c4ab1b4522734f68372cd",
       "value": "<h4 style='margin: 10px 0px;'>Customize Model</h4>"
      }
     },
     "385c49028d4c4b2cae10566e98924f86": {
      "model_module": "@jupyter-widgets/controls",
      "model_module_version": "1.5.0",
      "model_name": "BoxModel",
      "state": {
       "_dom_classes": [
        "inner-card"
       ],
       "children": [
        "IPY_MODEL_78dfe0211fa2491f9e99c09f019f4eea",
        "IPY_MODEL_c68b4eabd0c9417f899fdced30be6884",
        "IPY_MODEL_ab6e3b1faa86488e965fd10a89e6c749"
       ],
       "layout": "IPY_MODEL_c2201c291f6b44769063a816c3180b5c"
      }
     },
     "38664d6c196d40cd8ff70210b4b5749e": {
      "model_module": "@jupyter-widgets/base",
      "model_module_version": "1.2.0",
      "model_name": "LayoutModel",
      "state": {
       "width": "auto"
      }
     },
     "38984f24e9354ced9c79469a60871062": {
      "model_module": "@jupyter-widgets/output",
      "model_module_version": "1.0.0",
      "model_name": "OutputModel",
      "state": {
       "layout": "IPY_MODEL_98ea7a72bc3b4ef0abf2b4e9eecc6930"
      }
     },
     "389ce01ff3374d52832aa9c3162f0b08": {
      "model_module": "@jupyter-widgets/controls",
      "model_module_version": "1.5.0",
      "model_name": "HTMLModel",
      "state": {
       "layout": "IPY_MODEL_fd82ec86bd2b4c5c9f4ed82a032b0c3a",
       "style": "IPY_MODEL_f18e8d1ff4ae4b06a0391a042323898d",
       "value": "\n        <style>\n\n        .left-label {\n            width: 30%;\n        }\n\n        .card-panel {\n            -webkit-transition: -webkit-box-shadow .25s;\n            transition: -webkit-box-shadow .25s;\n            transition: box-shadow .25s;\n            transition: box-shadow .25s, -webkit-box-shadow .25s;\n            padding: 24px;\n            margin: 0.5rem 0 1rem 0;\n            border-radius: 2px;\n            background-color: #fff;\n        }\n\n        .card {\n            position: relative;\n            margin: 0.5rem 0.1rem 1rem 0.2rem;\n            background-color: #fff;\n            -webkit-transition: -webkit-box-shadow .25s;\n            transition: -webkit-box-shadow .25s;\n            transition: box-shadow .25s;\n            transition: box-shadow .25s, -webkit-box-shadow .25s;\n            border-radius: 2px;\n            box-shadow: 0 2px 2px 0 rgb(0 0 0 / 14%), 0 3px 1px -2px rgb(0 0 0 / 12%), 0 1px 5px 0 rgb(0 0 0 / 20%);\n            padding: 24px;\n            color: white;\n        }\n\n        .card .card-title {\n            font-size: 24px;\n            font-weight: 300;\n        }\n\n        @media only screen and (min-width: 800px) {\n            /* For notebook: */\n            .card {width: 99% !important;}\n        }\n\n        @media only screen and (min-width: 1400px) {\n            /* For colab: */\n            .card {width: 99% !important;}\n        }\n\n        .blue-grey.darken-1 {\n            background-color: #546e7a !important;\n        }\n\n        .small-card {\n            position: relative;\n            margin: 0.5rem 0 1rem 0;\n            background-color: #fff;\n            -webkit-transition: -webkit-box-shadow .25s;\n            transition: -webkit-box-shadow .25s;\n            transition: box-shadow .25s;\n            transition: box-shadow .25s, -webkit-box-shadow .25s;\n            border-radius: 2px;\n            box-shadow: 0 2px 2px 0 rgb(0 0 0 / 14%), 0 3px 1px -2px rgb(0 0 0 / 12%), 0 1px 5px 0 rgb(0 0 0 / 20%);\n            padding: 0px 5px 0px 5px;\n            color: white;\n        }\n\n        .inner-card {\n            position: relative;\n            background-color: #fff;\n            -webkit-transition: -webkit-box-shadow .25s;\n            transition: -webkit-box-shadow .25s;\n            transition: box-shadow .25s;\n            transition: box-shadow .25s, -webkit-box-shadow .25s;\n            border-radius: 2px;\n            box-shadow: 0 2px 2px 0 rgb(0 0 0 / 14%), 0 3px 1px -2px rgb(0 0 0 / 12%), 0 1px 5px 0 rgb(0 0 0 / 20%);\n            padding: 20px;\n            color: white;\n            margin: 0px 1px 1px 1px;\n        }\n\n        .card-with-tab {\n            position: relative;\n            margin: 0.5rem 0.1rem 1rem 0.2rem;\n            background-color: #fff;\n            -webkit-transition: -webkit-box-shadow .25s;\n            transition: -webkit-box-shadow .25s;\n            transition: box-shadow .25s;\n            transition: box-shadow .25s, -webkit-box-shadow .25s;\n            border-radius: 2px;\n            box-shadow: 0 2px 2px 0 rgb(0 0 0 / 14%), 0 3px 1px -2px rgb(0 0 0 / 12%), 0 1px 5px 0 rgb(0 0 0 / 20%);\n            padding: 24px;\n            color: white;\n        }\n\n        .card-with-tab button {\n            width: auto;\n            padding: 12px 40px;\n        }\n\n        .list {\n            padding: 0px 10px;\n            box-shadow: 0 2px 2px 0 rgb(0 0 0 / 14%), 0 3px 1px -2px rgb(0 0 0 / 12%), 0 1px 5px 0 rgb(0 0 0 / 20%);\n            margin: 0px 1px 60px 1px;\n        }\n\n        .list-item {\n            padding: 10px 0px;\n            border-width: 0;\n            border-style: solid;\n            border-color: rgba(0, 0, 0, 0.08);\n            border-bottom-width: thin;\n        }\n\n        .divider {\n            margin: 10px 0px;\n            border-width: 0;\n            border-style: solid;\n            border-color: rgba(0, 0, 0, 0.08);\n            border-bottom-width: thin;\n        }\n\n        .hr {\n            margin: 0;\n            -webkit-flex-shrink: 0;\n            -ms-flex-negative: 0;\n            flex-shrink: 0;\n            border-width: 0;\n            border-style: solid;\n            border-color: rgba(0, 0, 0, 0.08);\n            border-bottom-width: thin;\n        }\n\n        .notification {\n            transition: box-shadow 300ms cubic-bezier(0.4, 0, 0.2, 1) 0ms;\n            border-radius: 4px;\n            box-shadow: 0 2px 2px 0 rgb(0 0 0 / 14%), 0 3px 1px -2px rgb(0 0 0 / 12%), 0 1px 5px 0 rgb(0 0 0 / 20%);\n            font-family: Roboto, Helvetica, Arial, sans-serif;\n            font-weight: 500;\n            font-size: 12px;\n            line-height: 1.43;\n            letter-spacing: 0.01071em;\n            background-color: rgb(2, 136, 209);\n            display: flex;\n            padding: 6px 16px;\n            color: rgb(255, 255, 255);\n            margin-top: 10px;\n        }\n\n        .success {\n            background-color: #EDF7ED;\n            color: #1E4620;\n        }\n\n        .error {\n            background-color: #FDEDED;\n            color: #5F2120;\n        }\n\n        .info {\n            background-color: #E5F6FD;\n            color: #528298;\n        }\n\n        .warn {\n            background-color: #FFF4E5;\n            color: #663C00;\n        }\n\n        .margin-top-20 {\n            margin-top: 20px;\n        }\n\n        .hide {\n            display: none;\n        }\n\n        .pbtn {\n            display: inline-flex;\n            -webkit-box-align: center;\n            align-items: center;\n            -webkit-box-pack: center;\n            justify-content: center;\n            position: relative;\n            box-sizing: border-box;\n            -webkit-tap-highlight-color: transparent;\n            outline: 0px;\n            border: 0px;\n            margin: 0px;\n            cursor: pointer;\n            user-select: none;\n            vertical-align: middle;\n            appearance: none;\n            text-decoration: none;\n            font-family: Roboto, Helvetica, Arial, sans-serif;\n            font-weight: 550;\n            font-size: 12px;\n            line-height: 1.75;\n            letter-spacing: 0.02857em;\n            text-transform: uppercase;\n            min-width: 64px;\n            padding: 6px 16px;\n            border-radius: 4px;\n            transition: background-color 250ms cubic-bezier(0.4, 0, 0.2, 1) 0ms, box-shadow 250ms cubic-bezier(0.4, 0, 0.2, 1) 0ms, border-color 250ms cubic-bezier(0.4, 0, 0.2, 1) 0ms, color 250ms cubic-bezier(0.4, 0, 0.2, 1) 0ms;\n            color: rgb(255, 255, 255);\n            background-color: #D71E28;\n            box-shadow: rgb(0 0 0 / 20%) 0px 3px 1px -2px, rgb(0 0 0 / 14%) 0px 2px 2px 0px, rgb(0 0 0 / 12%) 0px 1px 5px 0px;\n        }\n\n        .output_subarea {\n            padding: 0px !important;\n        }\n\n        .ptable, .pth, .ptd {\n            border: none;\n        }\n\n        .pth, .ptd {\n            max-width: 150px;\n            white-space: nowrap;\n            overflow: hidden;\n            -o-text-overflow: ellipsis;\n            -ms-text-overflow: ellipsis;\n            text-overflow: ellipsis;\n        }\n\n        .ptable {\n            display: table;\n            border-collapse: collapse;\n            border-spacing: 0;\n        }\n\n        .ptable.striped .ptr {\n            border-bottom: none;\n        }\n\n        .ptable.striped > .ptbody > .ptr:nth-child(odd) {\n            background-color: rgba(242, 242, 242, 0.5);\n        }\n\n        .ptable.striped > .ptbody > .ptr > .ptd {\n            border-radius: 0;\n        }\n\n        .ptable.highlight > .ptbody > .ptr {\n            -webkit-transition: background-color .25s ease;\n            transition: background-color .25s ease;\n        }\n\n        .ptable.highlight > .ptbody > .ptr:hover {\n            background-color: rgba(242, 242, 242, 0.5);\n        }\n\n        .ptable.centered .pthead .ptr .pth, .ptable.centered .ptbody .ptr .ptd {\n            text-align: center;\n        }\n\n        .ptr {\n            border-bottom: 1px solid rgba(0, 0, 0, 0.12);\n        }\n\n        .ptr.hightlight {\n            background-color: yellow !important;\n        }\n\n        .ptd, .pth {\n            padding: 0.2rem 0.6rem;\n            display: table-cell;\n            text-align: right;\n            vertical-align: middle;\n            border-radius: 2px;\n            position: relative;\n        }\n\n        .ptr.grey {\n            background-color: grey !important;\n        }\n\n        .ptr.strikeout .ptd:before {\n            content: \" \";\n            position: absolute;\n            top: 50%;\n            left: 0;\n            border-bottom: 1px solid #111;\n            width: 100%;\n        }\n\n        .widget-toggle-button {\n            display: inline-flex;\n            -webkit-box-align: center;\n            align-items: center;\n            -webkit-box-pack: center;\n            justify-content: center;\n            box-sizing: border-box;\n            -webkit-tap-highlight-color: transparent;\n            background-color: transparent !important;\n            outline: 0px;\n            border: 0px;\n            border-bottom: 2px solid #E4E4E4 !important;\n            box-shadow: none !important;\n            margin: 0px !important;\n            border-radius: 0px;\n            cursor: pointer;\n            user-select: none;\n            vertical-align: middle;\n            appearance: none;\n            text-decoration: none;\n            font-family: Roboto, Helvetica, Arial, sans-serif;\n            font-weight: 500;\n            font-size: 14px;\n            line-height: 1.25;\n            letter-spacing: 0.02857em;\n            max-width: 360px;\n            min-width: 90px;\n            position: relative;\n            min-height: 48px;\n            flex-shrink: 0;\n            padding: 12px 16px;\n            overflow: hidden;\n            white-space: normal;\n            text-align: center;\n            flex-direction: column;\n            color: rgba(0, 0, 0, 0.6);\n        }\n\n        .mod-active {\n            color: rgb(25, 118, 210) !important;\n            border-bottom: 2px solid rgb(25, 118, 210) !important;\n        }\n\n        .narrow-tab button {\n            max-width: 15%;\n        }\n\n        .overflow-fix .jupyter-widgets {\n            overflow: auto;\n        }\n\n        .inner-padding {\n            padding-top: 20px;\n        }\n\n        .fix-img img {\n            width: 100%;\n        }\n\n        .flex-reverse-for-update-button {\n            flex-direction: row-reverse;\n            margin-right: 50px;\n        }\n\n        .data-summary-tab {\n            max-height: 400px;\n        }\n\n        .input-width-with-parent .widget-dropdown {\n            width: 100%;\n        }\n\n        .input-width-with-parent .widget-text {\n            width: 100%;\n        }\n\n        .no-margin {\n            margin: 0px;\n        }\n\n        .widget-hprogress label {\n            text-align: left;\n        }\n\n        .widget-dropdown label {\n            margin-right: 10px;\n        }\n\n        .form .widget-dropdown {\n            width: auto;\n        }\n\n        .form .widget-text {\n            width: auto;\n        }\n\n        .form p {\n            margin: 0px;\n        }\n\n        .widget-dropdown {\n            white-space: nowrap;\n            overflow: hidden;\n            -o-text-overflow: ellipsis;\n            -ms-text-overflow: ellipsis;\n            text-overflow: ellipsis;\n        }\n\n        .progress-train label {\n            margin-right: 10px;\n        }\n\n        select {\n            height: 97% !important;\n        }\n\n        .no-overflow {\n            overflow: none;\n        }\n\n        .split-btn button {\n            margin-bottom: 2px;\n        }\n\n        .register-btn {\n            width: 50%\n        }\n\n        .register-btn-colab {\n            width: 40%\n        }\n\n        .fix-config-from-overflow .jp-OutputArea-child {\n            display: inherit;\n        }\n        \n        .checkbox-center input[type=\"checkbox\"] {\n            vertical-align: middle;\n        }\n\n        input[type=\"checkbox\"] {\n            vertical-align: middle;\n        }\n\n        </style>\n        "
      }
     },
     "38b9af713d974415bd1bb239f22c0196": {
      "model_module": "@jupyter-widgets/controls",
      "model_module_version": "1.5.0",
      "model_name": "HTMLModel",
      "state": {
       "layout": "IPY_MODEL_0b296bafefff4cbda7b5c71a0f2fc1f4",
       "style": "IPY_MODEL_cb9c13e74829456baa691382b73ebfe2"
      }
     },
     "38bbb0d4761d4b39898f314606aa28bf": {
      "model_module": "@jupyter-widgets/controls",
      "model_module_version": "1.5.0",
      "model_name": "VBoxModel",
      "state": {
       "children": [
        "IPY_MODEL_bcc5cf6e960b4e79953e6ddb5febcfaa",
        "IPY_MODEL_3308c9621926496f98655dee66617fcf",
        "IPY_MODEL_69b38cfbd70d44fc9fd460e33fb2bcf5",
        "IPY_MODEL_955b1cf2298b4cd0900a29bd3e30a7c1"
       ],
       "layout": "IPY_MODEL_b6082b51883a4a3eb126c5177d3084af"
      }
     },
     "38bc96914ae14895a703c2414f23f4c5": {
      "model_module": "@jupyter-widgets/controls",
      "model_module_version": "1.5.0",
      "model_name": "DescriptionStyleModel",
      "state": {
       "description_width": "initial"
      }
     },
     "38d0feff39ad4f938df5604a99d3c0ce": {
      "model_module": "@jupyter-widgets/controls",
      "model_module_version": "1.5.0",
      "model_name": "HBoxModel",
      "state": {
       "children": [
        "IPY_MODEL_b051e73f435f4f9f97243606f3d81778",
        "IPY_MODEL_baa03aa543a5457b9f77f23b96ff32ad"
       ],
       "layout": "IPY_MODEL_55b849cd75fd491eb5cdc381d3ff297f"
      }
     },
     "38ded588e52d4bb9bc9b4d7abb4cd116": {
      "model_module": "@jupyter-widgets/controls",
      "model_module_version": "1.5.0",
      "model_name": "BoundedIntTextModel",
      "state": {
       "layout": "IPY_MODEL_9ee68a54d29f42a08f72e0c1f9cd2af4",
       "max": 10000,
       "min": 1,
       "style": "IPY_MODEL_c1d06896b4494ef79f6ac279ff546f09",
       "value": 100
      }
     },
     "38ff37aa259b4ba8aa22ba6d57ad198c": {
      "model_module": "@jupyter-widgets/base",
      "model_module_version": "1.2.0",
      "model_name": "LayoutModel",
      "state": {}
     },
     "39215a379b83484f9367286277f29280": {
      "model_module": "@jupyter-widgets/controls",
      "model_module_version": "1.5.0",
      "model_name": "HTMLModel",
      "state": {
       "layout": "IPY_MODEL_0cc8519ce56e492f9c0474111924f6fa",
       "style": "IPY_MODEL_3fe6012de8d640b48f3e03f16b2723c5",
       "value": "Feature_increasing:"
      }
     },
     "3930a567b0744a71aea97c74fd9236b9": {
      "model_module": "@jupyter-widgets/output",
      "model_module_version": "1.0.0",
      "model_name": "OutputModel",
      "state": {
       "layout": "IPY_MODEL_bfbe80550e7246818d585343faf1af2f"
      }
     },
     "393d7655922b4a99aa12f5ddc55a254a": {
      "model_module": "@jupyter-widgets/base",
      "model_module_version": "1.2.0",
      "model_name": "LayoutModel",
      "state": {}
     },
     "39cef4af7d5445d6b674890f9f1f95f6": {
      "model_module": "@jupyter-widgets/base",
      "model_module_version": "1.2.0",
      "model_name": "LayoutModel",
      "state": {
       "width": "99%"
      }
     },
     "3a09ed1ce43c49f2b1da41ba4e0c99d6": {
      "model_module": "@jupyter-widgets/controls",
      "model_module_version": "1.5.0",
      "model_name": "DescriptionStyleModel",
      "state": {
       "description_width": ""
      }
     },
     "3a0c06367b034de2a03b53e4c0c8df2d": {
      "model_module": "@jupyter-widgets/controls",
      "model_module_version": "1.5.0",
      "model_name": "HTMLModel",
      "state": {
       "layout": "IPY_MODEL_e870f3f07f0545cdb3843bcb82670966",
       "style": "IPY_MODEL_58c71078b5e24f5682a50fac53a46109",
       "value": "Feature_increasing:"
      }
     },
     "3a2e857d593d4bf9b9e47277c208fdd3": {
      "model_module": "@jupyter-widgets/controls",
      "model_module_version": "1.5.0",
      "model_name": "DescriptionStyleModel",
      "state": {
       "description_width": ""
      }
     },
     "3a67d97faa8d466c80fa2fd47f442b07": {
      "model_module": "@jupyter-widgets/controls",
      "model_module_version": "1.5.0",
      "model_name": "DescriptionStyleModel",
      "state": {
       "description_width": "initial"
      }
     },
     "3a6c1ac65d8b4c13a89f13ac9290b6a7": {
      "model_module": "@jupyter-widgets/controls",
      "model_module_version": "1.5.0",
      "model_name": "HTMLModel",
      "state": {
       "layout": "IPY_MODEL_57913db6d54b40198ead3f8946f56751",
       "style": "IPY_MODEL_76d693553fa04ecf8c6bd944b4473850",
       "value": "reg_alpha:"
      }
     },
     "3ad5250c2a054166b62d18ced582c127": {
      "model_module": "@jupyter-widgets/base",
      "model_module_version": "1.2.0",
      "model_name": "LayoutModel",
      "state": {
       "width": "auto"
      }
     },
     "3adde06ac65249f7b3b2f29b9dbc99ed": {
      "model_module": "@jupyter-widgets/base",
      "model_module_version": "1.2.0",
      "model_name": "LayoutModel",
      "state": {
       "width": "65%"
      }
     },
     "3b772e3857cc4366889eaa55ae0a9164": {
      "model_module": "@jupyter-widgets/controls",
      "model_module_version": "1.5.0",
      "model_name": "TextModel",
      "state": {
       "layout": "IPY_MODEL_4f8dc1b960224e0a8cedb4ca52fc9369",
       "placeholder": "Input name",
       "style": "IPY_MODEL_8bd9742be5ed408790716dc4a5572d85",
       "value": "XGB2"
      }
     },
     "3b804bd886804b058b5e9c63e40e2b4a": {
      "model_module": "@jupyter-widgets/controls",
      "model_module_version": "1.5.0",
      "model_name": "DescriptionStyleModel",
      "state": {
       "description_width": ""
      }
     },
     "3badf67d15d74f46bb692a489d8fcfec": {
      "model_module": "@jupyter-widgets/base",
      "model_module_version": "1.2.0",
      "model_name": "LayoutModel",
      "state": {
       "width": "65%"
      }
     },
     "3bc10842b3e441c39a144ff5900d1145": {
      "model_module": "@jupyter-widgets/controls",
      "model_module_version": "1.5.0",
      "model_name": "BoundedIntTextModel",
      "state": {
       "layout": "IPY_MODEL_fcc673417a3948a7bf482a93cda672b6",
       "max": 10000,
       "style": "IPY_MODEL_001bad69d28545aa850145ac7817a5f8"
      }
     },
     "3bf3174e9a554a0eb4da00abd5037481": {
      "model_module": "@jupyter-widgets/base",
      "model_module_version": "1.2.0",
      "model_name": "LayoutModel",
      "state": {
       "width": "99%"
      }
     },
     "3c07d6f0959b4f5a8c83c0ae306272e8": {
      "model_module": "@jupyter-widgets/controls",
      "model_module_version": "1.5.0",
      "model_name": "DescriptionStyleModel",
      "state": {
       "description_width": ""
      }
     },
     "3c44a8735f72492ba4aee5902a0bea43": {
      "model_module": "@jupyter-widgets/controls",
      "model_module_version": "1.5.0",
      "model_name": "HTMLModel",
      "state": {
       "layout": "IPY_MODEL_266a370b71e244f6a94901038f2eee44",
       "style": "IPY_MODEL_bcd9f9adc53f40498d3a4fbe7926f841",
       "value": "\n        <table class='ptable striped'>\n            <thead class='pthead'>\n                <tr class='ptr'>\n                    <th class='pth'></th><th class='pth'>name</th><th class='pth'>n_missing</th><th class='pth'>n_unique</th><th class='pth'>top1</th><th class='pth'>top2</th><th class='pth'>top3</th><th class='pth'>n_others</th>\n                </tr>\n            </thead>\n\n            <tbody class='ptbody'>\n                <tr class='ptr'><td class='ptd'>0</td><td class='ptd'>Segment</td><td class='ptd'>0</td><td class='ptd'>15</td><td class='ptd'>Segment 13 : 15000</td><td class='ptd'>Segment 6 : 10000</td><td class='ptd'>Segment 12 : 10000</td><td class='ptd'>28240</td></tr><tr class='ptr'><td class='ptd'>1</td><td class='ptd'>Label</td><td class='ptd'>0</td><td class='ptd'>2</td><td class='ptd'>0.0 : 48714</td><td class='ptd'>1.0 : 14526</td><td class='ptd'>0</td><td class='ptd'>0</td></tr><tr class='ptr'><td class='ptd'>2</td><td class='ptd'>Age >= 62</td><td class='ptd'>0</td><td class='ptd'>2</td><td class='ptd'>0.0 : 31823</td><td class='ptd'>1.0 : 31417</td><td class='ptd'>0</td><td class='ptd'>0</td></tr><tr class='ptr'><td class='ptd'>3</td><td class='ptd'>Age < 62</td><td class='ptd'>0</td><td class='ptd'>2</td><td class='ptd'>1.0 : 31823</td><td class='ptd'>0.0 : 31417</td><td class='ptd'>0</td><td class='ptd'>0</td></tr>\n            </tbody>\n        </table>\n        "
      }
     },
     "3c85d66339f74f789a77dfc1bbf12792": {
      "model_module": "@jupyter-widgets/controls",
      "model_module_version": "1.5.0",
      "model_name": "HBoxModel",
      "state": {
       "children": [
        "IPY_MODEL_a9dd602a7a604f4d9008ad7f93257d4f",
        "IPY_MODEL_d41a46864b9e45459be53e80537e5ebe"
       ],
       "layout": "IPY_MODEL_8ef922e30b4549b4b398b9a203e91493"
      }
     },
     "3c8eea9b8d284956804faad3bcf768e8": {
      "model_module": "@jupyter-widgets/controls",
      "model_module_version": "1.5.0",
      "model_name": "BoxModel",
      "state": {
       "children": [
        "IPY_MODEL_1b469270b9544a919c96de38c9a2147a",
        "IPY_MODEL_91e4b499f88c4c57baf1a3942012c753"
       ],
       "layout": "IPY_MODEL_5cbef02ede334ca0bb7abe60c9b7fb99"
      }
     },
     "3ca1962aa8ad4090befe4ab65e8725b4": {
      "model_module": "@jupyter-widgets/controls",
      "model_module_version": "1.5.0",
      "model_name": "VBoxModel",
      "state": {
       "children": [
        "IPY_MODEL_6030671e16114656b2c3f0f248f5fa5c",
        "IPY_MODEL_b06bb29e475a4d5cbe89a22165d60805"
       ],
       "layout": "IPY_MODEL_9ee4540e87524a448baa8d0444f823fb"
      }
     },
     "3cc6d02f49a8440a911f00ef578ada26": {
      "model_module": "@jupyter-widgets/base",
      "model_module_version": "1.2.0",
      "model_name": "LayoutModel",
      "state": {}
     },
     "3cee3058c1f44a5b864eb4b57b2aee1b": {
      "model_module": "@jupyter-widgets/controls",
      "model_module_version": "1.5.0",
      "model_name": "HTMLModel",
      "state": {
       "layout": "IPY_MODEL_fb7a2e76b01240268246066f7eeda318",
       "style": "IPY_MODEL_0dca8a76068e4850937e7226e49bd7f5",
       "value": "Feature_decreasing:"
      }
     },
     "3d059be988d64f758ec1716de3b5db02": {
      "model_module": "@jupyter-widgets/base",
      "model_module_version": "1.2.0",
      "model_name": "LayoutModel",
      "state": {}
     },
     "3d179c6afb14432fb868ff470a6fe9b4": {
      "model_module": "@jupyter-widgets/controls",
      "model_module_version": "1.5.0",
      "model_name": "DescriptionStyleModel",
      "state": {
       "description_width": "initial"
      }
     },
     "3d5d4d8f4d864da6bc990123aa5f9a7d": {
      "model_module": "@jupyter-widgets/controls",
      "model_module_version": "1.5.0",
      "model_name": "BoxModel",
      "state": {
       "children": [
        "IPY_MODEL_2a864020c5624dceb20a3c726011d77f",
        "IPY_MODEL_ea0ea7ee1a5e4524803f593d22246647"
       ],
       "layout": "IPY_MODEL_9368a28e0ea34f5f8ff98fd4f1458e00"
      }
     },
     "3d998e4f38b24195a76c2e9164871e82": {
      "model_module": "@jupyter-widgets/base",
      "model_module_version": "1.2.0",
      "model_name": "LayoutModel",
      "state": {
       "width": "100%"
      }
     },
     "3dafa2671fa2439ab14974323255a12e": {
      "model_module": "@jupyter-widgets/base",
      "model_module_version": "1.2.0",
      "model_name": "LayoutModel",
      "state": {}
     },
     "3db7193f428543d68806dfa437d72be1": {
      "model_module": "@jupyter-widgets/controls",
      "model_module_version": "1.5.0",
      "model_name": "DescriptionStyleModel",
      "state": {
       "description_width": "initial"
      }
     },
     "3dbec867e862452da86cfc3b754a4b19": {
      "model_module": "@jupyter-widgets/controls",
      "model_module_version": "1.5.0",
      "model_name": "DropdownModel",
      "state": {
       "_options_labels": [
        "None",
        "Segment",
        "x1",
        "x2",
        "x3",
        "x4",
        "x5",
        "Label"
       ],
       "index": 0,
       "layout": "IPY_MODEL_891a90a44103460b9e3e995742898db0",
       "style": "IPY_MODEL_56f2e2309392489580f533e800e6ea46"
      }
     },
     "3dc01ce9a2a94f80b671ae11b78f229d": {
      "model_module": "@jupyter-widgets/base",
      "model_module_version": "1.2.0",
      "model_name": "LayoutModel",
      "state": {}
     },
     "3dc66ae2e26d4f3aa633076cf6b18067": {
      "model_module": "@jupyter-widgets/controls",
      "model_module_version": "1.5.0",
      "model_name": "HBoxModel",
      "state": {
       "children": [
        "IPY_MODEL_5fefacdd7e3a4f4dbfb1fe26a032752b",
        "IPY_MODEL_ec97bc5ad2b24faa892e01a2e3c88867"
       ],
       "layout": "IPY_MODEL_0c14c012309548ab97c1df8b5c4a1e7a"
      }
     },
     "3df5e8ca11df47ad93a88e3c9c0aeb40": {
      "model_module": "@jupyter-widgets/controls",
      "model_module_version": "1.5.0",
      "model_name": "DescriptionStyleModel",
      "state": {
       "description_width": "initial"
      }
     },
     "3e22221eb2cb4bdab2891ab6f64a56bb": {
      "model_module": "@jupyter-widgets/controls",
      "model_module_version": "1.5.0",
      "model_name": "HTMLModel",
      "state": {
       "layout": "IPY_MODEL_0bfebc5044ee47cab965e267645eeaae",
       "style": "IPY_MODEL_295666248551404987c94d6a5a986783",
       "value": "<p>Random Seed:</p>"
      }
     },
     "3e3eb2c07ce9460daf73c0ef6467a5cb": {
      "model_module": "@jupyter-widgets/controls",
      "model_module_version": "1.5.0",
      "model_name": "VBoxModel",
      "state": {
       "children": [
        "IPY_MODEL_100dc8d4886c4eaab186890b0e2bf511"
       ],
       "layout": "IPY_MODEL_d028182912894c0c909605b300f94b43"
      }
     },
     "3e4abc9186114d14a5a10a03f1dbb005": {
      "model_module": "@jupyter-widgets/controls",
      "model_module_version": "1.5.0",
      "model_name": "DescriptionStyleModel",
      "state": {
       "description_width": ""
      }
     },
     "3e583ec2a6174570b1bbc6f0383727ef": {
      "model_module": "@jupyter-widgets/controls",
      "model_module_version": "1.5.0",
      "model_name": "DescriptionStyleModel",
      "state": {
       "description_width": "initial"
      }
     },
     "3e9058ec532c451aaedb828674217f23": {
      "model_module": "@jupyter-widgets/controls",
      "model_module_version": "1.5.0",
      "model_name": "HTMLModel",
      "state": {
       "layout": "IPY_MODEL_bfb338ea0b8b4fd1a417ba336a80309b",
       "style": "IPY_MODEL_67a969fb11854d0e88a63fa34d779945"
      }
     },
     "3ea8852cc6e44a7c83313ff10bd98dd1": {
      "model_module": "@jupyter-widgets/controls",
      "model_module_version": "1.5.0",
      "model_name": "CheckboxModel",
      "state": {
       "description": "GLM",
       "disabled": false,
       "indent": false,
       "layout": "IPY_MODEL_222db5b482bc4228b330d74ee3a38ff1",
       "style": "IPY_MODEL_316b76757ded42a7b51b5ffa4a7756f8",
       "value": false
      }
     },
     "3ec8e70df4eb468d9ce948704fcb877f": {
      "model_module": "@jupyter-widgets/base",
      "model_module_version": "1.2.0",
      "model_name": "LayoutModel",
      "state": {
       "width": "155px"
      }
     },
     "3ee63753598e485dbd37e240f9bccb50": {
      "model_module": "@jupyter-widgets/controls",
      "model_module_version": "1.5.0",
      "model_name": "DropdownModel",
      "state": {
       "_options_labels": [
        "Select",
        "Segment",
        "x1",
        "x2",
        "x3",
        "x4",
        "x5",
        "Label",
        "Minority",
        "Majority",
        "Age >= 62",
        "Age < 62"
       ],
       "index": 0,
       "layout": "IPY_MODEL_65c46721823e44dda27ba15044fda30c",
       "style": "IPY_MODEL_b8477e36412e40f996eeee9901abc99a"
      }
     },
     "3eee9d09b55949ad8752d5768f25e905": {
      "model_module": "@jupyter-widgets/base",
      "model_module_version": "1.2.0",
      "model_name": "LayoutModel",
      "state": {
       "width": "15%"
      }
     },
     "3ef346ae5d5e40b3a048c83977800cb5": {
      "model_module": "@jupyter-widgets/base",
      "model_module_version": "1.2.0",
      "model_name": "LayoutModel",
      "state": {}
     },
     "3f12de982ae74960a52543e9e2f6a817": {
      "model_module": "@jupyter-widgets/base",
      "model_module_version": "1.2.0",
      "model_name": "LayoutModel",
      "state": {}
     },
     "3f2c5b08245c4b189e63b7cd248ec132": {
      "model_module": "@jupyter-widgets/controls",
      "model_module_version": "1.5.0",
      "model_name": "HTMLModel",
      "state": {
       "layout": "IPY_MODEL_0f03d8a4e89b41a3b9d045a450c26ee0",
       "style": "IPY_MODEL_bc628de6f1d5406eb39857723d11ff3c",
       "value": "Reference Weight:"
      }
     },
     "3f6cdfa96a9249a89f884035f662c4c8": {
      "model_module": "@jupyter-widgets/controls",
      "model_module_version": "1.5.0",
      "model_name": "HTMLModel",
      "state": {
       "layout": "IPY_MODEL_1f455724fc0443829735239a02e63e01",
       "style": "IPY_MODEL_73526fbeb33e47dea3d8fc4e9c55daef",
       "value": "Batch_size:"
      }
     },
     "3f76ec526b344492913effddcf04349b": {
      "model_module": "@jupyter-widgets/controls",
      "model_module_version": "1.5.0",
      "model_name": "DescriptionStyleModel",
      "state": {
       "description_width": "initial"
      }
     },
     "3f9b07b85c8547f087a72cfd1786d649": {
      "model_module": "@jupyter-widgets/controls",
      "model_module_version": "1.5.0",
      "model_name": "VBoxModel",
      "state": {
       "children": [
        "IPY_MODEL_940264a44c4b4ae481a4400bb3de4287",
        "IPY_MODEL_38033e9fd4354bc8b84a099cdf5d1882"
       ],
       "layout": "IPY_MODEL_cfd7205ccb524665b3726d8d5cf9c29c"
      }
     },
     "3fb333c9062643b08c85f7563f8871ed": {
      "model_module": "@jupyter-widgets/base",
      "model_module_version": "1.2.0",
      "model_name": "LayoutModel",
      "state": {
       "height": "25px",
       "width": "35px"
      }
     },
     "3fcd2c4606b54072a9e9bcdd339c1545": {
      "model_module": "@jupyter-widgets/base",
      "model_module_version": "1.2.0",
      "model_name": "LayoutModel",
      "state": {}
     },
     "3fdc651645064477b4e0652ed3836f23": {
      "model_module": "@jupyter-widgets/base",
      "model_module_version": "1.2.0",
      "model_name": "LayoutModel",
      "state": {}
     },
     "3fe3d11f82264d2193e1484e74a74d76": {
      "model_module": "@jupyter-widgets/base",
      "model_module_version": "1.2.0",
      "model_name": "LayoutModel",
      "state": {
       "width": "40%"
      }
     },
     "3fe6012de8d640b48f3e03f16b2723c5": {
      "model_module": "@jupyter-widgets/controls",
      "model_module_version": "1.5.0",
      "model_name": "DescriptionStyleModel",
      "state": {
       "description_width": ""
      }
     },
     "40185d0a13cf4ed2b5ea7adb8026a85b": {
      "model_module": "@jupyter-widgets/controls",
      "model_module_version": "1.5.0",
      "model_name": "BoxModel",
      "state": {
       "layout": "IPY_MODEL_aefc37f33aaf4e529be83079d3217cc2"
      }
     },
     "403495912f8f4507b86c57f4254c32ea": {
      "model_module": "@jupyter-widgets/controls",
      "model_module_version": "1.5.0",
      "model_name": "HTMLModel",
      "state": {
       "layout": "IPY_MODEL_4d2a66b11d4241c6807b9dd631c671ff",
       "style": "IPY_MODEL_410b0c9ee6d3438988defad6ac8a0e2c",
       "value": "\n        <style>\n\n        .left-label {\n            width: 30%;\n        }\n\n        .card-panel {\n            -webkit-transition: -webkit-box-shadow .25s;\n            transition: -webkit-box-shadow .25s;\n            transition: box-shadow .25s;\n            transition: box-shadow .25s, -webkit-box-shadow .25s;\n            padding: 24px;\n            margin: 0.5rem 0 1rem 0;\n            border-radius: 2px;\n            background-color: #fff;\n        }\n\n        .card {\n            position: relative;\n            margin: 0.5rem 0.1rem 1rem 0.2rem;\n            background-color: #fff;\n            -webkit-transition: -webkit-box-shadow .25s;\n            transition: -webkit-box-shadow .25s;\n            transition: box-shadow .25s;\n            transition: box-shadow .25s, -webkit-box-shadow .25s;\n            border-radius: 2px;\n            box-shadow: 0 2px 2px 0 rgb(0 0 0 / 14%), 0 3px 1px -2px rgb(0 0 0 / 12%), 0 1px 5px 0 rgb(0 0 0 / 20%);\n            padding: 24px;\n            color: white;\n        }\n\n        .card .card-title {\n            font-size: 24px;\n            font-weight: 300;\n        }\n\n        @media only screen and (min-width: 800px) {\n            /* For notebook: */\n            .card {width: 99% !important;}\n        }\n\n        @media only screen and (min-width: 1400px) {\n            /* For colab: */\n            .card {width: 99% !important;}\n        }\n\n        .blue-grey.darken-1 {\n            background-color: #546e7a !important;\n        }\n\n        .small-card {\n            position: relative;\n            margin: 0.5rem 0 1rem 0;\n            background-color: #fff;\n            -webkit-transition: -webkit-box-shadow .25s;\n            transition: -webkit-box-shadow .25s;\n            transition: box-shadow .25s;\n            transition: box-shadow .25s, -webkit-box-shadow .25s;\n            border-radius: 2px;\n            box-shadow: 0 2px 2px 0 rgb(0 0 0 / 14%), 0 3px 1px -2px rgb(0 0 0 / 12%), 0 1px 5px 0 rgb(0 0 0 / 20%);\n            padding: 0px 5px 0px 5px;\n            color: white;\n        }\n\n        .inner-card {\n            position: relative;\n            background-color: #fff;\n            -webkit-transition: -webkit-box-shadow .25s;\n            transition: -webkit-box-shadow .25s;\n            transition: box-shadow .25s;\n            transition: box-shadow .25s, -webkit-box-shadow .25s;\n            border-radius: 2px;\n            box-shadow: 0 2px 2px 0 rgb(0 0 0 / 14%), 0 3px 1px -2px rgb(0 0 0 / 12%), 0 1px 5px 0 rgb(0 0 0 / 20%);\n            padding: 20px;\n            color: white;\n            margin: 0px 1px 1px 1px;\n        }\n\n        .card-with-tab {\n            position: relative;\n            margin: 0.5rem 0.1rem 1rem 0.2rem;\n            background-color: #fff;\n            -webkit-transition: -webkit-box-shadow .25s;\n            transition: -webkit-box-shadow .25s;\n            transition: box-shadow .25s;\n            transition: box-shadow .25s, -webkit-box-shadow .25s;\n            border-radius: 2px;\n            box-shadow: 0 2px 2px 0 rgb(0 0 0 / 14%), 0 3px 1px -2px rgb(0 0 0 / 12%), 0 1px 5px 0 rgb(0 0 0 / 20%);\n            padding: 24px;\n            color: white;\n        }\n\n        .card-with-tab button {\n            width: auto;\n            padding: 12px 40px;\n        }\n\n        .list {\n            padding: 0px 10px;\n            box-shadow: 0 2px 2px 0 rgb(0 0 0 / 14%), 0 3px 1px -2px rgb(0 0 0 / 12%), 0 1px 5px 0 rgb(0 0 0 / 20%);\n            margin: 0px 1px 60px 1px;\n        }\n\n        .list-item {\n            padding: 10px 0px;\n            border-width: 0;\n            border-style: solid;\n            border-color: rgba(0, 0, 0, 0.08);\n            border-bottom-width: thin;\n        }\n\n        .divider {\n            margin: 10px 0px;\n            border-width: 0;\n            border-style: solid;\n            border-color: rgba(0, 0, 0, 0.08);\n            border-bottom-width: thin;\n        }\n\n        .hr {\n            margin: 0;\n            -webkit-flex-shrink: 0;\n            -ms-flex-negative: 0;\n            flex-shrink: 0;\n            border-width: 0;\n            border-style: solid;\n            border-color: rgba(0, 0, 0, 0.08);\n            border-bottom-width: thin;\n        }\n\n        .notification {\n            transition: box-shadow 300ms cubic-bezier(0.4, 0, 0.2, 1) 0ms;\n            border-radius: 4px;\n            box-shadow: 0 2px 2px 0 rgb(0 0 0 / 14%), 0 3px 1px -2px rgb(0 0 0 / 12%), 0 1px 5px 0 rgb(0 0 0 / 20%);\n            font-family: Roboto, Helvetica, Arial, sans-serif;\n            font-weight: 500;\n            font-size: 12px;\n            line-height: 1.43;\n            letter-spacing: 0.01071em;\n            background-color: rgb(2, 136, 209);\n            display: flex;\n            padding: 6px 16px;\n            color: rgb(255, 255, 255);\n            margin-top: 10px;\n        }\n\n        .success {\n            background-color: #EDF7ED;\n            color: #1E4620;\n        }\n\n        .error {\n            background-color: #FDEDED;\n            color: #5F2120;\n        }\n\n        .info {\n            background-color: #E5F6FD;\n            color: #528298;\n        }\n\n        .warn {\n            background-color: #FFF4E5;\n            color: #663C00;\n        }\n\n        .margin-top-20 {\n            margin-top: 20px;\n        }\n\n        .hide {\n            display: none;\n        }\n\n        .pbtn {\n            display: inline-flex;\n            -webkit-box-align: center;\n            align-items: center;\n            -webkit-box-pack: center;\n            justify-content: center;\n            position: relative;\n            box-sizing: border-box;\n            -webkit-tap-highlight-color: transparent;\n            outline: 0px;\n            border: 0px;\n            margin: 0px;\n            cursor: pointer;\n            user-select: none;\n            vertical-align: middle;\n            appearance: none;\n            text-decoration: none;\n            font-family: Roboto, Helvetica, Arial, sans-serif;\n            font-weight: 550;\n            font-size: 12px;\n            line-height: 1.75;\n            letter-spacing: 0.02857em;\n            text-transform: uppercase;\n            min-width: 64px;\n            padding: 6px 16px;\n            border-radius: 4px;\n            transition: background-color 250ms cubic-bezier(0.4, 0, 0.2, 1) 0ms, box-shadow 250ms cubic-bezier(0.4, 0, 0.2, 1) 0ms, border-color 250ms cubic-bezier(0.4, 0, 0.2, 1) 0ms, color 250ms cubic-bezier(0.4, 0, 0.2, 1) 0ms;\n            color: rgb(255, 255, 255);\n            background-color: #D71E28;\n            box-shadow: rgb(0 0 0 / 20%) 0px 3px 1px -2px, rgb(0 0 0 / 14%) 0px 2px 2px 0px, rgb(0 0 0 / 12%) 0px 1px 5px 0px;\n        }\n\n        .output_subarea {\n            padding: 0px !important;\n        }\n\n        .ptable, .pth, .ptd {\n            border: none;\n        }\n\n        .pth, .ptd {\n            max-width: 150px;\n            white-space: nowrap;\n            overflow: hidden;\n            -o-text-overflow: ellipsis;\n            -ms-text-overflow: ellipsis;\n            text-overflow: ellipsis;\n        }\n\n        .ptable {\n            display: table;\n            border-collapse: collapse;\n            border-spacing: 0;\n        }\n\n        .ptable.striped .ptr {\n            border-bottom: none;\n        }\n\n        .ptable.striped > .ptbody > .ptr:nth-child(odd) {\n            background-color: rgba(242, 242, 242, 0.5);\n        }\n\n        .ptable.striped > .ptbody > .ptr > .ptd {\n            border-radius: 0;\n        }\n\n        .ptable.highlight > .ptbody > .ptr {\n            -webkit-transition: background-color .25s ease;\n            transition: background-color .25s ease;\n        }\n\n        .ptable.highlight > .ptbody > .ptr:hover {\n            background-color: rgba(242, 242, 242, 0.5);\n        }\n\n        .ptable.centered .pthead .ptr .pth, .ptable.centered .ptbody .ptr .ptd {\n            text-align: center;\n        }\n\n        .ptr {\n            border-bottom: 1px solid rgba(0, 0, 0, 0.12);\n        }\n\n        .ptr.hightlight {\n            background-color: yellow !important;\n        }\n\n        .ptd, .pth {\n            padding: 0.2rem 0.6rem;\n            display: table-cell;\n            text-align: right;\n            vertical-align: middle;\n            border-radius: 2px;\n            position: relative;\n        }\n\n        .ptr.grey {\n            background-color: grey !important;\n        }\n\n        .ptr.strikeout .ptd:before {\n            content: \" \";\n            position: absolute;\n            top: 50%;\n            left: 0;\n            border-bottom: 1px solid #111;\n            width: 100%;\n        }\n\n        .widget-toggle-button {\n            display: inline-flex;\n            -webkit-box-align: center;\n            align-items: center;\n            -webkit-box-pack: center;\n            justify-content: center;\n            box-sizing: border-box;\n            -webkit-tap-highlight-color: transparent;\n            background-color: transparent !important;\n            outline: 0px;\n            border: 0px;\n            border-bottom: 2px solid #E4E4E4 !important;\n            box-shadow: none !important;\n            margin: 0px !important;\n            border-radius: 0px;\n            cursor: pointer;\n            user-select: none;\n            vertical-align: middle;\n            appearance: none;\n            text-decoration: none;\n            font-family: Roboto, Helvetica, Arial, sans-serif;\n            font-weight: 500;\n            font-size: 14px;\n            line-height: 1.25;\n            letter-spacing: 0.02857em;\n            max-width: 360px;\n            min-width: 90px;\n            position: relative;\n            min-height: 48px;\n            flex-shrink: 0;\n            padding: 12px 16px;\n            overflow: hidden;\n            white-space: normal;\n            text-align: center;\n            flex-direction: column;\n            color: rgba(0, 0, 0, 0.6);\n        }\n\n        .mod-active {\n            color: rgb(25, 118, 210) !important;\n            border-bottom: 2px solid rgb(25, 118, 210) !important;\n        }\n\n        .narrow-tab button {\n            max-width: 15%;\n        }\n\n        .overflow-fix .jupyter-widgets {\n            overflow: auto;\n        }\n\n        .inner-padding {\n            padding-top: 20px;\n        }\n\n        .fix-img img {\n            width: 100%;\n        }\n\n        .flex-reverse-for-update-button {\n            flex-direction: row-reverse;\n            margin-right: 50px;\n        }\n\n        .data-summary-tab {\n            max-height: 400px;\n        }\n\n        .input-width-with-parent .widget-dropdown {\n            width: 100%;\n        }\n\n        .input-width-with-parent .widget-text {\n            width: 100%;\n        }\n\n        .no-margin {\n            margin: 0px;\n        }\n\n        .widget-hprogress label {\n            text-align: left;\n        }\n\n        .widget-dropdown label {\n            margin-right: 10px;\n        }\n\n        .form .widget-dropdown {\n            width: auto;\n        }\n\n        .form .widget-text {\n            width: auto;\n        }\n\n        .form p {\n            margin: 0px;\n        }\n\n        .widget-dropdown {\n            white-space: nowrap;\n            overflow: hidden;\n            -o-text-overflow: ellipsis;\n            -ms-text-overflow: ellipsis;\n            text-overflow: ellipsis;\n        }\n\n        .progress-train label {\n            margin-right: 10px;\n        }\n\n        select {\n            height: 97% !important;\n        }\n\n        .no-overflow {\n            overflow: none;\n        }\n\n        .split-btn button {\n            margin-bottom: 2px;\n        }\n\n        .register-btn {\n            width: 50%\n        }\n\n        .register-btn-colab {\n            width: 40%\n        }\n\n        .fix-config-from-overflow .jp-OutputArea-child {\n            display: inherit;\n        }\n        \n        .checkbox-center input[type=\"checkbox\"] {\n            vertical-align: middle;\n        }\n\n        input[type=\"checkbox\"] {\n            vertical-align: middle;\n        }\n\n        </style>\n        "
      }
     },
     "407269651b044db392ed5894efa662f3": {
      "model_module": "@jupyter-widgets/controls",
      "model_module_version": "1.5.0",
      "model_name": "HBoxModel",
      "state": {
       "children": [
        "IPY_MODEL_436cf52ab3c848e781f822247a7cadee",
        "IPY_MODEL_07c9f2aeaddb469483e300bd119e36bb"
       ],
       "layout": "IPY_MODEL_174a1904b7d648b09d5875d8e566630f"
      }
     },
     "409c4e177cad4feeb74f267adef32a78": {
      "model_module": "@jupyter-widgets/base",
      "model_module_version": "1.2.0",
      "model_name": "LayoutModel",
      "state": {}
     },
     "40a50ed07e67408c81d64e2734cc703a": {
      "model_module": "@jupyter-widgets/controls",
      "model_module_version": "1.5.0",
      "model_name": "DescriptionStyleModel",
      "state": {
       "description_width": ""
      }
     },
     "40c068edec93433c83331a3dc6abbdac": {
      "model_module": "@jupyter-widgets/base",
      "model_module_version": "1.2.0",
      "model_name": "LayoutModel",
      "state": {}
     },
     "40dd6eed681643e09f66d36f386f7735": {
      "model_module": "@jupyter-widgets/output",
      "model_module_version": "1.0.0",
      "model_name": "OutputModel",
      "state": {
       "layout": "IPY_MODEL_81c67aac85c146f78604ff7b078872bd",
       "outputs": [
        {
         "data": {
          "text/html": "<div>\n<style scoped>\n    .dataframe tbody tr th:only-of-type {\n        vertical-align: middle;\n    }\n\n    .dataframe tbody tr th {\n        vertical-align: top;\n    }\n\n    .dataframe thead th {\n        text-align: right;\n    }\n</style>\n<table border=\"1\" class=\"dataframe\">\n  <thead>\n    <tr style=\"text-align: right;\">\n      <th></th>\n      <th>Group Category</th>\n      <th>Reference Group</th>\n      <th>Protected Group</th>\n    </tr>\n  </thead>\n  <tbody>\n    <tr>\n      <th>0</th>\n      <td>Race</td>\n      <td>Majority</td>\n      <td>Minority</td>\n    </tr>\n    <tr>\n      <th>1</th>\n      <td>Age</td>\n      <td>Age &lt; 62</td>\n      <td>Age &gt;= 62</td>\n    </tr>\n  </tbody>\n</table>\n</div>",
          "text/plain": "  Group Category Reference Group Protected Group\n0           Race        Majority        Minority\n1            Age        Age < 62       Age >= 62"
         },
         "metadata": {},
         "output_type": "display_data"
        }
       ]
      }
     },
     "40ffef3f36fd4f74a61f730907f732ef": {
      "model_module": "@jupyter-widgets/base",
      "model_module_version": "1.2.0",
      "model_name": "LayoutModel",
      "state": {}
     },
     "41072f5631434b709cf8dbfa31d9a949": {
      "model_module": "@jupyter-widgets/base",
      "model_module_version": "1.2.0",
      "model_name": "LayoutModel",
      "state": {
       "height": "30%",
       "width": "auto"
      }
     },
     "410b0c9ee6d3438988defad6ac8a0e2c": {
      "model_module": "@jupyter-widgets/controls",
      "model_module_version": "1.5.0",
      "model_name": "DescriptionStyleModel",
      "state": {
       "description_width": ""
      }
     },
     "4115fec4226c44929cbcd7b56e827f2e": {
      "model_module": "@jupyter-widgets/controls",
      "model_module_version": "1.5.0",
      "model_name": "HTMLModel",
      "state": {
       "layout": "IPY_MODEL_28f45f4ac3e64bc7ac62a877b12809c6",
       "style": "IPY_MODEL_76314137efd74802b64ee5b92e6853cc",
       "value": "<div style='margin-right: 10px'></div>"
      }
     },
     "4120dab924634440b27b8184e953a00b": {
      "model_module": "@jupyter-widgets/base",
      "model_module_version": "1.2.0",
      "model_name": "LayoutModel",
      "state": {}
     },
     "41284055761b40df9d57b73c3983928c": {
      "model_module": "@jupyter-widgets/base",
      "model_module_version": "1.2.0",
      "model_name": "LayoutModel",
      "state": {}
     },
     "41af32b674c44a7fbb1e0bb63971c0f0": {
      "model_module": "@jupyter-widgets/controls",
      "model_module_version": "1.5.0",
      "model_name": "HTMLModel",
      "state": {
       "layout": "IPY_MODEL_0752b0ecdc104a5e9694606abe1345c4",
       "style": "IPY_MODEL_87c4881442a34be29d1befeffc9284aa",
       "value": "Outer_bags:"
      }
     },
     "41c3752c978a423286bc38919dcd310b": {
      "model_module": "@jupyter-widgets/controls",
      "model_module_version": "1.5.0",
      "model_name": "ButtonModel",
      "state": {
       "_dom_classes": [
        "pbtn"
       ],
       "button_style": "danger",
       "icon": "cog",
       "layout": "IPY_MODEL_ff9f26bbef494b46a1a5815eb5a6116c",
       "style": "IPY_MODEL_527f8db1856340709f45f2aa0826df07"
      }
     },
     "41c3f4e0bb8a4f538d5a3e39bbbe4886": {
      "model_module": "@jupyter-widgets/controls",
      "model_module_version": "1.5.0",
      "model_name": "DescriptionStyleModel",
      "state": {
       "description_width": "initial"
      }
     },
     "41f968919fe648cbbd7b6494ac725768": {
      "model_module": "@jupyter-widgets/controls",
      "model_module_version": "1.5.0",
      "model_name": "DescriptionStyleModel",
      "state": {
       "description_width": ""
      }
     },
     "41f98345639d4b28b546615eeaf532dd": {
      "model_module": "@jupyter-widgets/controls",
      "model_module_version": "1.5.0",
      "model_name": "HTMLModel",
      "state": {
       "layout": "IPY_MODEL_a4d3f4834d0c48eca5db780dd6753ec8",
       "style": "IPY_MODEL_45ffc79f37ed430daed81b55d3675236",
       "value": "<div class='divider'></div>"
      }
     },
     "420ae310ec194d518b203f28275980d8": {
      "model_module": "@jupyter-widgets/controls",
      "model_module_version": "1.5.0",
      "model_name": "DescriptionStyleModel",
      "state": {
       "description_width": ""
      }
     },
     "423664d973c847eaa460d7ace53331b8": {
      "model_module": "@jupyter-widgets/controls",
      "model_module_version": "1.5.0",
      "model_name": "BoxModel",
      "state": {
       "children": [
        "IPY_MODEL_43c43848804d40758a95d64e3408332f"
       ],
       "layout": "IPY_MODEL_e7b44c35d7854a6ebedb630331770666"
      }
     },
     "4284b9ff49704517bb3e2d7526ecc44d": {
      "model_module": "@jupyter-widgets/base",
      "model_module_version": "1.2.0",
      "model_name": "LayoutModel",
      "state": {
       "width": "auto"
      }
     },
     "42966b21de344b7c8326d0926cd7cbd4": {
      "model_module": "@jupyter-widgets/controls",
      "model_module_version": "1.5.0",
      "model_name": "DescriptionStyleModel",
      "state": {
       "description_width": ""
      }
     },
     "42c44943f3ab4496a334d5ec5bfa6b88": {
      "model_module": "@jupyter-widgets/output",
      "model_module_version": "1.0.0",
      "model_name": "OutputModel",
      "state": {
       "layout": "IPY_MODEL_463fb26250b543f1b918aab9233e2fd8",
       "outputs": [
        {
         "data": {
          "application/vnd.jupyter.widget-view+json": {
           "model_id": "778d7bde4eef4176abf663a06e56ff35",
           "version_major": 2,
           "version_minor": 0
          },
          "text/plain": "Box(children=(VBox(children=(HBox(children=(VBox(children=(HTML(value='Add Category:'), HTML(value='Delete Gro…"
         },
         "metadata": {},
         "output_type": "display_data"
        }
       ]
      }
     },
     "431018f9b19d4abcb71689819877f5e7": {
      "model_module": "@jupyter-widgets/controls",
      "model_module_version": "1.5.0",
      "model_name": "VBoxModel",
      "state": {
       "children": [
        "IPY_MODEL_fa67cf110c3548f398d87aeb43d733f3",
        "IPY_MODEL_754ba490d65d454cabfc2451442dc549"
       ],
       "layout": "IPY_MODEL_791dd5021f7c4b9ca9b59b1f3cf78359"
      }
     },
     "43276158eabc4167afd7d568f8da222a": {
      "model_module": "@jupyter-widgets/base",
      "model_module_version": "1.2.0",
      "model_name": "LayoutModel",
      "state": {
       "width": "auto"
      }
     },
     "434f97e80c3c4e25b32894c29a877e63": {
      "model_module": "@jupyter-widgets/base",
      "model_module_version": "1.2.0",
      "model_name": "LayoutModel",
      "state": {}
     },
     "435a17fca84f4f768014c4bc1125acd5": {
      "model_module": "@jupyter-widgets/controls",
      "model_module_version": "1.5.0",
      "model_name": "HTMLModel",
      "state": {
       "layout": "IPY_MODEL_a4a1583668d44ae398bdabd22ecfae7c",
       "style": "IPY_MODEL_6e9c999a7e2a473988661e2bb017285c",
       "value": "L1_regularzation:"
      }
     },
     "436cf52ab3c848e781f822247a7cadee": {
      "model_module": "@jupyter-widgets/controls",
      "model_module_version": "1.5.0",
      "model_name": "HTMLModel",
      "state": {
       "layout": "IPY_MODEL_c09c0f6a5f67450c84989160e5fb8bca",
       "style": "IPY_MODEL_d88df5fee07f49df913a912d6b96c6d0",
       "value": "Feature_decreasing:"
      }
     },
     "4375c01ab1e2471c8266046ba738322e": {
      "model_module": "@jupyter-widgets/controls",
      "model_module_version": "1.5.0",
      "model_name": "HTMLModel",
      "state": {
       "layout": "IPY_MODEL_46f51031872d4234a85897823b8ff087",
       "style": "IPY_MODEL_dba47c346fc048c3a95b1912c049a23c",
       "value": "<h4 style='margin: 10px 0px;'>Customize Model</h4>"
      }
     },
     "439089fa802046a1b80322b0029f1202": {
      "model_module": "@jupyter-widgets/base",
      "model_module_version": "1.2.0",
      "model_name": "LayoutModel",
      "state": {
       "width": "20%"
      }
     },
     "43a8a306db594e2d88d9c5d50268a767": {
      "model_module": "@jupyter-widgets/base",
      "model_module_version": "1.2.0",
      "model_name": "LayoutModel",
      "state": {}
     },
     "43c43848804d40758a95d64e3408332f": {
      "model_module": "@jupyter-widgets/controls",
      "model_module_version": "1.5.0",
      "model_name": "HTMLModel",
      "state": {
       "layout": "IPY_MODEL_06b217dbf21d4ceabbff014566833d37",
       "style": "IPY_MODEL_669fb09086b444819a40c54e077b364b",
       "value": "Model name:"
      }
     },
     "441196421dee48ae948d53f5e7cb4835": {
      "model_module": "@jupyter-widgets/base",
      "model_module_version": "1.2.0",
      "model_name": "LayoutModel",
      "state": {}
     },
     "4413257746aa4d8785a3440a9688a13a": {
      "model_module": "@jupyter-widgets/controls",
      "model_module_version": "1.5.0",
      "model_name": "HTMLModel",
      "state": {
       "layout": "IPY_MODEL_955cd3c9b8c34a6fae50f027922de154",
       "style": "IPY_MODEL_2397f301217d42fd8c06c9b1b37693b6",
       "value": "<div style='margin-top: 15px'></div>"
      }
     },
     "443496c0c9db4881a5ebfe6300cc0c90": {
      "model_module": "@jupyter-widgets/base",
      "model_module_version": "1.2.0",
      "model_name": "LayoutModel",
      "state": {}
     },
     "444f5e5cb8bd42fba2b8d343950e2d95": {
      "model_module": "@jupyter-widgets/controls",
      "model_module_version": "1.5.0",
      "model_name": "TextModel",
      "state": {
       "layout": "IPY_MODEL_b3d63c4bfd0a435fbd37902156c20590",
       "placeholder": "Input name",
       "style": "IPY_MODEL_d5532920b8fe4602b66c89145f8bff0b",
       "value": "GAM"
      }
     },
     "446273bc1ea146bab31c849c7518cb29": {
      "model_module": "@jupyter-widgets/base",
      "model_module_version": "1.2.0",
      "model_name": "LayoutModel",
      "state": {
       "display": "flex",
       "flex_flow": "row",
       "justify_content": "space-between",
       "width": "99%"
      }
     },
     "4488a6e8fe2547afb9fd28be02a801b7": {
      "model_module": "@jupyter-widgets/base",
      "model_module_version": "1.2.0",
      "model_name": "LayoutModel",
      "state": {
       "width": "70px"
      }
     },
     "44be19de00f0419caebcfd474f348780": {
      "model_module": "@jupyter-widgets/controls",
      "model_module_version": "1.5.0",
      "model_name": "HBoxModel",
      "state": {
       "children": [
        "IPY_MODEL_ace3dc9032fd47f4abfde1d10697392d",
        "IPY_MODEL_d25afa8d40ca4586be52964f5c997785",
        "IPY_MODEL_518d68acfdec47e0a8054c1d4f9e5442",
        "IPY_MODEL_6c9108a635804d448894b63ed61af8d2",
        "IPY_MODEL_54f5f27d392b4210a8a02024e7ff8924",
        "IPY_MODEL_2f1c519b0ff248c293f07fe53b16f79d",
        "IPY_MODEL_9fbca46118ed4a73b8a0d19f5a02704a"
       ],
       "layout": "IPY_MODEL_8e1623be8b774e15929a068e5a4ca766"
      }
     },
     "44d710a39ccc4510ace88ff3a9c65166": {
      "model_module": "@jupyter-widgets/controls",
      "model_module_version": "1.5.0",
      "model_name": "HTMLModel",
      "state": {
       "layout": "IPY_MODEL_55a8bf298d9e4c27a37e319faa1b0413",
       "style": "IPY_MODEL_6f6508ceaff343f1ac07047db38ced70",
       "value": "<div style='margin-top: 10px'></div>"
      }
     },
     "44f243a9dcaa4dee868957e61a12a93c": {
      "model_module": "@jupyter-widgets/controls",
      "model_module_version": "1.5.0",
      "model_name": "ToggleButtonsModel",
      "state": {
       "_options_labels": [
        "Group Setting",
        "Metrics",
        "Segmented Metrics",
        "Thresholding",
        "Feature Removal"
       ],
       "button_style": "",
       "icons": [],
       "index": 0,
       "layout": "IPY_MODEL_3d059be988d64f758ec1716de3b5db02",
       "style": "IPY_MODEL_ab7ac5f5bcf547d4ae2a2f7741d635ba",
       "tooltips": []
      }
     },
     "4503a6e52b2d4e0fb68fc6e379d8b5cc": {
      "model_module": "@jupyter-widgets/base",
      "model_module_version": "1.2.0",
      "model_name": "LayoutModel",
      "state": {
       "width": "auto"
      }
     },
     "458c3269ba1540b88820ee7abb01402f": {
      "model_module": "@jupyter-widgets/controls",
      "model_module_version": "1.5.0",
      "model_name": "BoxModel",
      "state": {
       "layout": "IPY_MODEL_ba81f393c73e409b9b175e381862ff28"
      }
     },
     "4597b4c679524803876e108ad68bdc57": {
      "model_module": "@jupyter-widgets/controls",
      "model_module_version": "1.5.0",
      "model_name": "DescriptionStyleModel",
      "state": {
       "description_width": "initial"
      }
     },
     "45dc32a575fd4c8788cf0ca7cd736bb7": {
      "model_module": "@jupyter-widgets/controls",
      "model_module_version": "1.5.0",
      "model_name": "DescriptionStyleModel",
      "state": {
       "description_width": "initial"
      }
     },
     "45ffc79f37ed430daed81b55d3675236": {
      "model_module": "@jupyter-widgets/controls",
      "model_module_version": "1.5.0",
      "model_name": "DescriptionStyleModel",
      "state": {
       "description_width": ""
      }
     },
     "463fb26250b543f1b918aab9233e2fd8": {
      "model_module": "@jupyter-widgets/base",
      "model_module_version": "1.2.0",
      "model_name": "LayoutModel",
      "state": {}
     },
     "4652767ec41242768e440977edf84642": {
      "model_module": "@jupyter-widgets/controls",
      "model_module_version": "1.5.0",
      "model_name": "DescriptionStyleModel",
      "state": {
       "description_width": ""
      }
     },
     "467b6320b1f24afd90fab6eeb3c5e5c1": {
      "model_module": "@jupyter-widgets/base",
      "model_module_version": "1.2.0",
      "model_name": "LayoutModel",
      "state": {}
     },
     "467e6f3f54454279bd68f100633b3ca0": {
      "model_module": "@jupyter-widgets/controls",
      "model_module_version": "1.5.0",
      "model_name": "HTMLModel",
      "state": {
       "layout": "IPY_MODEL_7d4245cfb0d34033b74c8a3cab757d27",
       "style": "IPY_MODEL_c967c98b5ff5428aae26ac446f70e755",
       "value": "<div style='margin-top: 5px'></div>"
      }
     },
     "468480fbdffa40658b7ed28e59feb3fa": {
      "model_module": "@jupyter-widgets/controls",
      "model_module_version": "1.5.0",
      "model_name": "ButtonStyleModel",
      "state": {}
     },
     "469cbfd021324b0e9583f89fd09ab30e": {
      "model_module": "@jupyter-widgets/controls",
      "model_module_version": "1.5.0",
      "model_name": "DropdownModel",
      "state": {
       "_options_labels": [
        "Segment 1",
        "Segment 10",
        "Segment 11",
        "Segment 12",
        "Segment 13",
        "Segment 14",
        "Segment 15",
        "Segment 2",
        "Segment 3",
        "Segment 4",
        "Segment 5",
        "Segment 6",
        "Segment 7",
        "Segment 8",
        "Segment 9"
       ],
       "index": 0,
       "layout": "IPY_MODEL_b1e6885ceee14e53b2c40d3ca46c9a28",
       "style": "IPY_MODEL_f0670431971f431083e85e1ed14029f7"
      }
     },
     "46d2e7ebcde5487cb6a2c304ce09dcac": {
      "model_module": "@jupyter-widgets/base",
      "model_module_version": "1.2.0",
      "model_name": "LayoutModel",
      "state": {}
     },
     "46d982592da945b7adf4d396b62d5ea6": {
      "model_module": "@jupyter-widgets/base",
      "model_module_version": "1.2.0",
      "model_name": "LayoutModel",
      "state": {}
     },
     "46e340560a354037aba37e35b79af4f5": {
      "model_module": "@jupyter-widgets/controls",
      "model_module_version": "1.5.0",
      "model_name": "DescriptionStyleModel",
      "state": {
       "description_width": ""
      }
     },
     "46f51031872d4234a85897823b8ff087": {
      "model_module": "@jupyter-widgets/base",
      "model_module_version": "1.2.0",
      "model_name": "LayoutModel",
      "state": {}
     },
     "470e65f86e944f9a9f1bb3209ad299b3": {
      "model_module": "@jupyter-widgets/controls",
      "model_module_version": "1.5.0",
      "model_name": "HTMLModel",
      "state": {
       "layout": "IPY_MODEL_f6e2f3faa85b4fc288c1b2d21fcdef82",
       "style": "IPY_MODEL_7b88d3c4193543788a50b8f5e779cf7d"
      }
     },
     "474008b87b8e4fbd91e02f336e025e70": {
      "model_module": "@jupyter-widgets/controls",
      "model_module_version": "1.5.0",
      "model_name": "DescriptionStyleModel",
      "state": {
       "description_width": "initial"
      }
     },
     "477f5b0b50ac4e17b882f769a68b897d": {
      "model_module": "@jupyter-widgets/base",
      "model_module_version": "1.2.0",
      "model_name": "LayoutModel",
      "state": {}
     },
     "47f1b235178c4e16870f88991b4f45c4": {
      "model_module": "@jupyter-widgets/base",
      "model_module_version": "1.2.0",
      "model_name": "LayoutModel",
      "state": {}
     },
     "4816f465f5ad4b8aa12afd41dac9b6a1": {
      "model_module": "@jupyter-widgets/controls",
      "model_module_version": "1.5.0",
      "model_name": "HTMLModel",
      "state": {
       "layout": "IPY_MODEL_cc96b05b7d7c4895945db4db70bfcce3",
       "style": "IPY_MODEL_59aa68371c834685acde2b980676ddf3",
       "value": "<div class='divider'></div>"
      }
     },
     "482af95c25934373b0d5ebda4ebac33b": {
      "model_module": "@jupyter-widgets/controls",
      "model_module_version": "1.5.0",
      "model_name": "DescriptionStyleModel",
      "state": {
       "description_width": "initial"
      }
     },
     "48313a9f43d4457e954b50abbf946d43": {
      "model_module": "@jupyter-widgets/base",
      "model_module_version": "1.2.0",
      "model_name": "LayoutModel",
      "state": {}
     },
     "483828f54631467c81cd89e35c708145": {
      "model_module": "@jupyter-widgets/base",
      "model_module_version": "1.2.0",
      "model_name": "LayoutModel",
      "state": {
       "width": "155px"
      }
     },
     "4867f1f8133f4f02ba40a0ca807275f9": {
      "model_module": "@jupyter-widgets/controls",
      "model_module_version": "1.5.0",
      "model_name": "BoxModel",
      "state": {
       "_dom_classes": [
        "inner-card"
       ],
       "children": [
        "IPY_MODEL_6bfc4ac031074585811fbc41ec81c182",
        "IPY_MODEL_e8a46556c57346cfbd326cddb47269f3",
        "IPY_MODEL_a8c817e6f70a46ee831cc2445c19156d"
       ],
       "layout": "IPY_MODEL_20902c4fa6504dc8a7b857c3345b470e"
      }
     },
     "486a3dc6815a4bcba041f938bd090cb8": {
      "model_module": "@jupyter-widgets/controls",
      "model_module_version": "1.5.0",
      "model_name": "DescriptionStyleModel",
      "state": {
       "description_width": "initial"
      }
     },
     "48c449483c9449ec8255b4c535b91137": {
      "model_module": "@jupyter-widgets/controls",
      "model_module_version": "1.5.0",
      "model_name": "BoundedFloatTextModel",
      "state": {
       "layout": "IPY_MODEL_366bd610289e4450ac621a8f34ed27b4",
       "max": 1,
       "step": null,
       "style": "IPY_MODEL_64dae107bbbd438785cbd28e98c96068"
      }
     },
     "48c732b3854644308335fb7c369717b0": {
      "model_module": "@jupyter-widgets/controls",
      "model_module_version": "1.5.0",
      "model_name": "DescriptionStyleModel",
      "state": {
       "description_width": "initial"
      }
     },
     "48eee8806f134f69bc39a6266a795d9b": {
      "model_module": "@jupyter-widgets/controls",
      "model_module_version": "1.5.0",
      "model_name": "BoxModel",
      "state": {
       "children": [
        "IPY_MODEL_d821a79482554f5697b92f7c553b0b8f"
       ],
       "layout": "IPY_MODEL_2ff9a7414996406bb46db861af3b6707"
      }
     },
     "492c673f9138420187f219a153d1e62d": {
      "model_module": "@jupyter-widgets/base",
      "model_module_version": "1.2.0",
      "model_name": "LayoutModel",
      "state": {
       "display": "flex",
       "flex_flow": "column",
       "width": "100%"
      }
     },
     "493bbc9690b840b18ba07839f1ddc830": {
      "model_module": "@jupyter-widgets/controls",
      "model_module_version": "1.5.0",
      "model_name": "DescriptionStyleModel",
      "state": {
       "description_width": ""
      }
     },
     "496808367d2f48a891c85ef7413eaafa": {
      "model_module": "@jupyter-widgets/controls",
      "model_module_version": "1.5.0",
      "model_name": "DescriptionStyleModel",
      "state": {
       "description_width": ""
      }
     },
     "496cd465dab54cf699eb81e104c39bc5": {
      "model_module": "@jupyter-widgets/controls",
      "model_module_version": "1.5.0",
      "model_name": "DescriptionStyleModel",
      "state": {
       "description_width": ""
      }
     },
     "497b8d122ef64a0e88d1dc0a51a4ea24": {
      "model_module": "@jupyter-widgets/controls",
      "model_module_version": "1.5.0",
      "model_name": "HTMLModel",
      "state": {
       "layout": "IPY_MODEL_663f1359e459426bacf39b40a1214a52",
       "style": "IPY_MODEL_a1ada6612e0044d69abfeb7371e99d83",
       "value": "<div class='divider'></div>"
      }
     },
     "49ab3c81458a4d07a7173d6c7c93763c": {
      "model_module": "@jupyter-widgets/base",
      "model_module_version": "1.2.0",
      "model_name": "LayoutModel",
      "state": {
       "display": "flex",
       "flex_flow": "column",
       "width": "auto"
      }
     },
     "49c2067dc77c4acd91dc386ddbf366bc": {
      "model_module": "@jupyter-widgets/base",
      "model_module_version": "1.2.0",
      "model_name": "LayoutModel",
      "state": {}
     },
     "49d5ee9ef0174ed2a08d26bf9392984b": {
      "model_module": "@jupyter-widgets/controls",
      "model_module_version": "1.5.0",
      "model_name": "BoundedFloatTextModel",
      "state": {
       "layout": "IPY_MODEL_a0a9e36d31be431b8cc257a3e3c766ae",
       "max": 1,
       "step": null,
       "style": "IPY_MODEL_56853a3bc0bf480bb90f27be6b64aa88",
       "value": 1e-05
      }
     },
     "4a0a4f6196dc4019b11ea92b925c6c5d": {
      "model_module": "@jupyter-widgets/base",
      "model_module_version": "1.2.0",
      "model_name": "LayoutModel",
      "state": {}
     },
     "4a370ababb0342b4aab9f7041c34032d": {
      "model_module": "@jupyter-widgets/controls",
      "model_module_version": "1.5.0",
      "model_name": "DescriptionStyleModel",
      "state": {
       "description_width": ""
      }
     },
     "4a666ed4f28d4cac9ffb0017b5f8c065": {
      "model_module": "@jupyter-widgets/base",
      "model_module_version": "1.2.0",
      "model_name": "LayoutModel",
      "state": {}
     },
     "4a72d24f5b1b470390fbc256ca3ab97f": {
      "model_module": "@jupyter-widgets/controls",
      "model_module_version": "1.5.0",
      "model_name": "DescriptionStyleModel",
      "state": {
       "description_width": ""
      }
     },
     "4afa8c33452f49418c167d3c690cce72": {
      "model_module": "@jupyter-widgets/base",
      "model_module_version": "1.2.0",
      "model_name": "LayoutModel",
      "state": {
       "width": "100px"
      }
     },
     "4b0c1c87998046c9b6a5843bd3692f0d": {
      "model_module": "@jupyter-widgets/base",
      "model_module_version": "1.2.0",
      "model_name": "LayoutModel",
      "state": {
       "align_items": "center",
       "display": "flex",
       "flex_flow": "row",
       "width": "100%"
      }
     },
     "4bb69c57cabf4dd092626e59a3dbbcc6": {
      "model_module": "@jupyter-widgets/controls",
      "model_module_version": "1.5.0",
      "model_name": "DescriptionStyleModel",
      "state": {
       "description_width": ""
      }
     },
     "4bc26b47de3b4e9587930e5c8dd2dc9c": {
      "model_module": "@jupyter-widgets/controls",
      "model_module_version": "1.5.0",
      "model_name": "DescriptionStyleModel",
      "state": {
       "description_width": "initial"
      }
     },
     "4be469695f714861b9dae71641d3f059": {
      "model_module": "@jupyter-widgets/controls",
      "model_module_version": "1.5.0",
      "model_name": "DescriptionStyleModel",
      "state": {
       "description_width": ""
      }
     },
     "4c2075444dc34103a1eca371aceebebe": {
      "model_module": "@jupyter-widgets/controls",
      "model_module_version": "1.5.0",
      "model_name": "DescriptionStyleModel",
      "state": {
       "description_width": ""
      }
     },
     "4cae03e96d234df7847c55fb502c7908": {
      "model_module": "@jupyter-widgets/controls",
      "model_module_version": "1.5.0",
      "model_name": "VBoxModel",
      "state": {
       "children": [
        "IPY_MODEL_10b76fc3c53d4ea18ad57141ef459edd",
        "IPY_MODEL_ecef98d1c3904ca58fe46b0e9e84dd8a"
       ],
       "layout": "IPY_MODEL_4afa8c33452f49418c167d3c690cce72"
      }
     },
     "4ce6e688023c40119ec42275add19db0": {
      "model_module": "@jupyter-widgets/controls",
      "model_module_version": "1.5.0",
      "model_name": "DescriptionStyleModel",
      "state": {
       "description_width": ""
      }
     },
     "4d13392f695b4b979b232521cdd103d3": {
      "model_module": "@jupyter-widgets/controls",
      "model_module_version": "1.5.0",
      "model_name": "VBoxModel",
      "state": {
       "children": [
        "IPY_MODEL_81f797bd49df4a3291f16bf7ed59315d",
        "IPY_MODEL_603fe8597730488dafbcfda787cb611c",
        "IPY_MODEL_cf36cc31f0ee40b2a229aba3efb38473",
        "IPY_MODEL_159efd05a8ff4f0b9c661fff67df38a9",
        "IPY_MODEL_e190c3d1ee3545a6bad0eb94d6ef5596",
        "IPY_MODEL_16d3fc7fcd87403b988390e8c2ed64fc",
        "IPY_MODEL_62c9e4a4fead4a42aa87e9cb194c02a5"
       ],
       "layout": "IPY_MODEL_5bd14b2c873d403092495fe278e4edbc"
      }
     },
     "4d1a22bf96c249248b91eb25d87c61b2": {
      "model_module": "@jupyter-widgets/base",
      "model_module_version": "1.2.0",
      "model_name": "LayoutModel",
      "state": {
       "width": "auto"
      }
     },
     "4d2a66b11d4241c6807b9dd631c671ff": {
      "model_module": "@jupyter-widgets/base",
      "model_module_version": "1.2.0",
      "model_name": "LayoutModel",
      "state": {}
     },
     "4d62d5c73c5b411aa438f75615b62887": {
      "model_module": "@jupyter-widgets/controls",
      "model_module_version": "1.5.0",
      "model_name": "DescriptionStyleModel",
      "state": {
       "description_width": ""
      }
     },
     "4d65687b586043d0be095cba91d91e33": {
      "model_module": "@jupyter-widgets/base",
      "model_module_version": "1.2.0",
      "model_name": "LayoutModel",
      "state": {}
     },
     "4d7acc1f65ed47e7b0fad0dd956691d7": {
      "model_module": "@jupyter-widgets/controls",
      "model_module_version": "1.5.0",
      "model_name": "HTMLModel",
      "state": {
       "layout": "IPY_MODEL_00265977f9824edcb3b88eb9226a4932",
       "style": "IPY_MODEL_e04ad7704b7b4feb8517c7d20ebc5d19",
       "value": "<h4 style='margin: 10px 0px;'>Choose Model</h4>"
      }
     },
     "4db426e5ff2d40e8b8712a6e7dd5b8e6": {
      "model_module": "@jupyter-widgets/controls",
      "model_module_version": "1.5.0",
      "model_name": "CheckboxModel",
      "state": {
       "description": "Tree",
       "disabled": false,
       "indent": false,
       "layout": "IPY_MODEL_f19e32710fbd410b8455b49e50e0835a",
       "style": "IPY_MODEL_52ff53025a6548488fa13980a684923c",
       "value": false
      }
     },
     "4dc499cbc8654fc1b526cf987124f58a": {
      "model_module": "@jupyter-widgets/base",
      "model_module_version": "1.2.0",
      "model_name": "LayoutModel",
      "state": {
       "width": "auto"
      }
     },
     "4dc8be9b7bcc4a3fa70ff0b01ee45252": {
      "model_module": "@jupyter-widgets/base",
      "model_module_version": "1.2.0",
      "model_name": "LayoutModel",
      "state": {
       "width": "15%"
      }
     },
     "4dcaa3a1ab3d43ce90b5b66a97281c15": {
      "model_module": "@jupyter-widgets/output",
      "model_module_version": "1.0.0",
      "model_name": "OutputModel",
      "state": {
       "layout": "IPY_MODEL_278c0465ddba478b947cf9eeebb14af7",
       "outputs": [
        {
         "data": {
          "application/vnd.jupyter.widget-view+json": {
           "model_id": "c588003bf7774d89a3ee1633698033a9",
           "version_major": 2,
           "version_minor": 0
          },
          "text/plain": "HTML(value='<p class=\"notification info\">Excluded attribute \"Age >= 62\"</p>')"
         },
         "metadata": {},
         "output_type": "display_data"
        }
       ]
      }
     },
     "4dd07a2b2b214e438ff991539ddfbac9": {
      "model_module": "@jupyter-widgets/controls",
      "model_module_version": "1.5.0",
      "model_name": "HTMLModel",
      "state": {
       "layout": "IPY_MODEL_d2aeed0c0cf84cb097719b5c2b786571",
       "style": "IPY_MODEL_4be469695f714861b9dae71641d3f059",
       "value": "<div style='margin-right: 10px'></div>"
      }
     },
     "4dffe456f6de458fa0d1871a8811916c": {
      "model_module": "@jupyter-widgets/controls",
      "model_module_version": "1.5.0",
      "model_name": "DropdownModel",
      "state": {
       "_options_labels": [
        "None",
        "Segment",
        "x1",
        "x2",
        "x3",
        "x4",
        "x5",
        "Label"
       ],
       "index": 0,
       "layout": "IPY_MODEL_f7da58b9100f43ed9de9937cbd0f21ba",
       "style": "IPY_MODEL_94555b15c7c34029988a86a876750028"
      }
     },
     "4e07d9ccd6db4ba3875457cc9ec1f022": {
      "model_module": "@jupyter-widgets/controls",
      "model_module_version": "1.5.0",
      "model_name": "DescriptionStyleModel",
      "state": {
       "description_width": ""
      }
     },
     "4eada8737b564b8d8802b6a8cc591827": {
      "model_module": "@jupyter-widgets/controls",
      "model_module_version": "1.5.0",
      "model_name": "ButtonStyleModel",
      "state": {}
     },
     "4ef63e806c564d15bce5d6e4f6eebde2": {
      "model_module": "@jupyter-widgets/base",
      "model_module_version": "1.2.0",
      "model_name": "LayoutModel",
      "state": {}
     },
     "4f0af6f52fa74bc694f13da073c6356e": {
      "model_module": "@jupyter-widgets/controls",
      "model_module_version": "1.5.0",
      "model_name": "DescriptionStyleModel",
      "state": {
       "description_width": ""
      }
     },
     "4f69c95447f94cd7b274ad1cb7204925": {
      "model_module": "@jupyter-widgets/base",
      "model_module_version": "1.2.0",
      "model_name": "LayoutModel",
      "state": {
       "width": "100px"
      }
     },
     "4f8dc1b960224e0a8cedb4ca52fc9369": {
      "model_module": "@jupyter-widgets/base",
      "model_module_version": "1.2.0",
      "model_name": "LayoutModel",
      "state": {
       "width": "65%"
      }
     },
     "4f91945e34de48fbae6045b4bfdcdbb6": {
      "model_module": "@jupyter-widgets/controls",
      "model_module_version": "1.5.0",
      "model_name": "DescriptionStyleModel",
      "state": {
       "description_width": ""
      }
     },
     "4fb15b952b984fd899209b6e675664c1": {
      "model_module": "@jupyter-widgets/controls",
      "model_module_version": "1.5.0",
      "model_name": "HTMLModel",
      "state": {
       "layout": "IPY_MODEL_359f73abad824c56aaf80f54ef67ff7f",
       "style": "IPY_MODEL_6088a9e242e24104aef5798bdbff3b92",
       "value": "<h4 style='margin: 10px 0px;'>Customize Model</h4>"
      }
     },
     "4fb56c8938654709a6cd06f75b3828a9": {
      "model_module": "@jupyter-widgets/controls",
      "model_module_version": "1.5.0",
      "model_name": "HTMLModel",
      "state": {
       "layout": "IPY_MODEL_a7260bbacdaf465ba606e428f7d0cf93",
       "style": "IPY_MODEL_9c920b5ab0824fcda9d5cdb159f1a196",
       "value": "L1_regularization:"
      }
     },
     "4fc0487a1a894309bebf07109a1fd8fe": {
      "model_module": "@jupyter-widgets/controls",
      "model_module_version": "1.5.0",
      "model_name": "HTMLModel",
      "state": {
       "layout": "IPY_MODEL_3fcd2c4606b54072a9e9bcdd339c1545",
       "style": "IPY_MODEL_60aa8d8ee9244f7881395a025c93ca98",
       "value": "<div style='margin-right: 10px'></div>"
      }
     },
     "4fc63efc2db84187b32d6735b2ec2c42": {
      "model_module": "@jupyter-widgets/base",
      "model_module_version": "1.2.0",
      "model_name": "LayoutModel",
      "state": {
       "width": "20%"
      }
     },
     "4fcfcd70a4834b4684bbe42b8ef80208": {
      "model_module": "@jupyter-widgets/controls",
      "model_module_version": "1.5.0",
      "model_name": "ButtonStyleModel",
      "state": {}
     },
     "4fd55104ffe44694bf4950085d95b8a2": {
      "model_module": "@jupyter-widgets/controls",
      "model_module_version": "1.5.0",
      "model_name": "VBoxModel",
      "state": {
       "children": [
        "IPY_MODEL_29f03331c700437fa55c8cce14c82163",
        "IPY_MODEL_59915c5b82174c8990e9184656b64d1f",
        "IPY_MODEL_15e942ac09964ba6b9df84c9c3fd98f2",
        "IPY_MODEL_eb2784c507324f22a2ef21963ffe1cb9",
        "IPY_MODEL_ef2e7862035e49e5a152d945aa032147",
        "IPY_MODEL_e997444463a9460c9c57c9f2494a1440",
        "IPY_MODEL_a3655e932dbf4a268339703ad5851db7"
       ],
       "layout": "IPY_MODEL_6569c31e87d6402ab63d52ea9386b1c6"
      }
     },
     "5067fadde0904ce6a2735aeb6de96132": {
      "model_module": "@jupyter-widgets/controls",
      "model_module_version": "1.5.0",
      "model_name": "ButtonModel",
      "state": {
       "_dom_classes": [
        "pbtn"
       ],
       "button_style": "danger",
       "icon": "cog",
       "layout": "IPY_MODEL_88eabb754734478eb1db38d202ad4848",
       "style": "IPY_MODEL_83b0c5b40d204d21868b24ff19dc847f"
      }
     },
     "509791c35f6c4cbb9d2074a913a2890e": {
      "model_module": "@jupyter-widgets/base",
      "model_module_version": "1.2.0",
      "model_name": "LayoutModel",
      "state": {
       "display": "flex",
       "flex_flow": "column",
       "width": "100%"
      }
     },
     "50bca1dc3e54442ab93e338278ff85ff": {
      "model_module": "@jupyter-widgets/base",
      "model_module_version": "1.2.0",
      "model_name": "LayoutModel",
      "state": {
       "width": "65%"
      }
     },
     "50d107705a6d45e5b5e5a6ed708432b7": {
      "model_module": "@jupyter-widgets/controls",
      "model_module_version": "1.5.0",
      "model_name": "ButtonModel",
      "state": {
       "_dom_classes": [
        "pbtn"
       ],
       "button_style": "danger",
       "icon": "cog",
       "layout": "IPY_MODEL_9cdf61bcdd3d48bdaa4914adbd58dcdf",
       "style": "IPY_MODEL_4eada8737b564b8d8802b6a8cc591827"
      }
     },
     "50ec3a3f37b9499c859850f83bda917a": {
      "model_module": "@jupyter-widgets/base",
      "model_module_version": "1.2.0",
      "model_name": "LayoutModel",
      "state": {}
     },
     "50fdf6f1b75f409683993463a0451678": {
      "model_module": "@jupyter-widgets/controls",
      "model_module_version": "1.5.0",
      "model_name": "DescriptionStyleModel",
      "state": {
       "description_width": ""
      }
     },
     "510a9dc3272e41a4920b0304b6ec2de4": {
      "model_module": "@jupyter-widgets/controls",
      "model_module_version": "1.5.0",
      "model_name": "HTMLModel",
      "state": {
       "layout": "IPY_MODEL_668fe21e971c4161906e5c9f9b4a8e97",
       "style": "IPY_MODEL_93c1cc90233a4bf78b2d5694d15ae747",
       "value": "Random_state:"
      }
     },
     "510cf0ffdaaf40d19a20ac57e59d12db": {
      "model_module": "@jupyter-widgets/base",
      "model_module_version": "1.2.0",
      "model_name": "LayoutModel",
      "state": {}
     },
     "5142ff28f59c4ab1b4522734f68372cd": {
      "model_module": "@jupyter-widgets/controls",
      "model_module_version": "1.5.0",
      "model_name": "DescriptionStyleModel",
      "state": {
       "description_width": ""
      }
     },
     "51440fbac4494856ac613a3fb50fa908": {
      "model_module": "@jupyter-widgets/controls",
      "model_module_version": "1.5.0",
      "model_name": "VBoxModel",
      "state": {
       "children": [
        "IPY_MODEL_54d5a87434f340e09b6771b13f5a4bb3"
       ],
       "layout": "IPY_MODEL_c2397b92884541ceaffc1c2440e130ac"
      }
     },
     "5146a47fa0a94386b7cd2f4677106060": {
      "model_module": "@jupyter-widgets/controls",
      "model_module_version": "1.5.0",
      "model_name": "HBoxModel",
      "state": {
       "children": [
        "IPY_MODEL_38b9af713d974415bd1bb239f22c0196"
       ],
       "layout": "IPY_MODEL_95351ef923cd4ccf96bb345ceef7293f"
      }
     },
     "514ed7f0e6404ddfa21a71c895b22ba1": {
      "model_module": "@jupyter-widgets/base",
      "model_module_version": "1.2.0",
      "model_name": "LayoutModel",
      "state": {
       "align_items": "center",
       "display": "flex",
       "flex_flow": "row",
       "width": "100%"
      }
     },
     "51861a031e1d41cf9ea7b7c4d618374e": {
      "model_module": "@jupyter-widgets/controls",
      "model_module_version": "1.5.0",
      "model_name": "DescriptionStyleModel",
      "state": {
       "description_width": ""
      }
     },
     "518d68acfdec47e0a8054c1d4f9e5442": {
      "model_module": "@jupyter-widgets/controls",
      "model_module_version": "1.5.0",
      "model_name": "VBoxModel",
      "state": {
       "children": [
        "IPY_MODEL_1b7a59505d0f4d96b7b4754192d76893"
       ],
       "layout": "IPY_MODEL_4488a6e8fe2547afb9fd28be02a801b7"
      }
     },
     "518f0ba224f045c0b758729496251844": {
      "model_module": "@jupyter-widgets/controls",
      "model_module_version": "1.5.0",
      "model_name": "HTMLModel",
      "state": {
       "layout": "IPY_MODEL_f4082427765b4474ba49aa1b329282a3",
       "style": "IPY_MODEL_a733c5755235411686e80dc64add46b1",
       "value": "Max_depth:"
      }
     },
     "51cd0b88fc3f4c8588cf1d719e30f33f": {
      "model_module": "@jupyter-widgets/base",
      "model_module_version": "1.2.0",
      "model_name": "LayoutModel",
      "state": {}
     },
     "51d200049e6841178457280f49c7a71f": {
      "model_module": "@jupyter-widgets/base",
      "model_module_version": "1.2.0",
      "model_name": "LayoutModel",
      "state": {}
     },
     "51dcf99144f042c49a009c75afb32056": {
      "model_module": "@jupyter-widgets/controls",
      "model_module_version": "1.5.0",
      "model_name": "DescriptionStyleModel",
      "state": {
       "description_width": ""
      }
     },
     "524e7d316e244d058b91fcc52b52b3b8": {
      "model_module": "@jupyter-widgets/controls",
      "model_module_version": "1.5.0",
      "model_name": "HTMLModel",
      "state": {
       "layout": "IPY_MODEL_90254911b9974c05a6795774b7ef6a6a",
       "style": "IPY_MODEL_d7b978ab04154940a5b050c7747acd9e",
       "value": "Learning_rate:"
      }
     },
     "527f8db1856340709f45f2aa0826df07": {
      "model_module": "@jupyter-widgets/controls",
      "model_module_version": "1.5.0",
      "model_name": "ButtonStyleModel",
      "state": {}
     },
     "52f3ca83aeb34f9b9b539bac9b6a5efc": {
      "model_module": "@jupyter-widgets/base",
      "model_module_version": "1.2.0",
      "model_name": "LayoutModel",
      "state": {
       "width": "auto"
      }
     },
     "52ff53025a6548488fa13980a684923c": {
      "model_module": "@jupyter-widgets/controls",
      "model_module_version": "1.5.0",
      "model_name": "DescriptionStyleModel",
      "state": {
       "description_width": ""
      }
     },
     "5317ba552fda4c06b9cf36814e017e7a": {
      "model_module": "@jupyter-widgets/controls",
      "model_module_version": "1.5.0",
      "model_name": "HTMLModel",
      "state": {
       "layout": "IPY_MODEL_015c89cfa0ea40e0b8f6627d73b00e5f",
       "style": "IPY_MODEL_e710db9a95954d96b79d3395dc778172",
       "value": "<div style='margin-right: 10px'></div>"
      }
     },
     "532d7f8b5b554586881d29552c51b558": {
      "model_module": "@jupyter-widgets/controls",
      "model_module_version": "1.5.0",
      "model_name": "VBoxModel",
      "state": {
       "children": [
        "IPY_MODEL_e0f8b1968e684ee390d3dce63b4339d3",
        "IPY_MODEL_c62026ad851e4cc49dd656af7a66a3d9"
       ],
       "layout": "IPY_MODEL_59095348859449c3b681da6ad62b93e6"
      }
     },
     "5346b7cd54524adcb33c268bdacf414b": {
      "model_module": "@jupyter-widgets/base",
      "model_module_version": "1.2.0",
      "model_name": "LayoutModel",
      "state": {
       "width": "20%"
      }
     },
     "5359f388d2cc47e0a6df52949bdf646a": {
      "model_module": "@jupyter-widgets/controls",
      "model_module_version": "1.5.0",
      "model_name": "HTMLModel",
      "state": {
       "layout": "IPY_MODEL_13452f0944aa42628857ad282e7a5ab9",
       "style": "IPY_MODEL_96777a2b0a1c408d8f59cfbb14738b99",
       "value": "\n        <table class='ptable striped'>\n            <thead class='pthead'>\n                <tr class='ptr'>\n                    <th class='pth'></th><th class='pth'>name</th><th class='pth'>n_missing</th><th class='pth'>mean</th><th class='pth'>std</th><th class='pth'>min</th><th class='pth'>q1</th><th class='pth'>median</th><th class='pth'>q3</th><th class='pth'>max</th>\n                </tr>\n            </thead>\n\n            <tbody class='ptbody'>\n                <tr class='ptr'><td class='ptd'>0</td><td class='ptd'>x1</td><td class='ptd'>0.0</td><td class='ptd'>-0.010468</td><td class='ptd'>1.00554</td><td class='ptd'>-4.111457</td><td class='ptd'>-0.687572</td><td class='ptd'>-0.016001</td><td class='ptd'>0.661917</td><td class='ptd'>3.723496</td></tr><tr class='ptr'><td class='ptd'>1</td><td class='ptd'>x2</td><td class='ptd'>0.0</td><td class='ptd'>0.003769</td><td class='ptd'>0.998657</td><td class='ptd'>-4.441389</td><td class='ptd'>-0.661684</td><td class='ptd'>0.009965</td><td class='ptd'>0.678074</td><td class='ptd'>4.547531</td></tr><tr class='ptr'><td class='ptd'>2</td><td class='ptd'>x3</td><td class='ptd'>0.0</td><td class='ptd'>-0.027052</td><td class='ptd'>0.996581</td><td class='ptd'>-4.040587</td><td class='ptd'>-0.699355</td><td class='ptd'>-0.026371</td><td class='ptd'>0.64237</td><td class='ptd'>4.308687</td></tr><tr class='ptr'><td class='ptd'>3</td><td class='ptd'>x4</td><td class='ptd'>0.0</td><td class='ptd'>0.00803</td><td class='ptd'>0.99497</td><td class='ptd'>-4.491451</td><td class='ptd'>-0.659107</td><td class='ptd'>0.004833</td><td class='ptd'>0.680002</td><td class='ptd'>3.864044</td></tr><tr class='ptr'><td class='ptd'>4</td><td class='ptd'>x5</td><td class='ptd'>0.0</td><td class='ptd'>-0.001039</td><td class='ptd'>0.9876</td><td class='ptd'>-3.990077</td><td class='ptd'>-0.663987</td><td class='ptd'>0.000662</td><td class='ptd'>0.659662</td><td class='ptd'>4.093057</td></tr><tr class='ptr grey'><td class='ptd'>5</td><td class='ptd'>Minority</td><td class='ptd'>0.0</td><td class='ptd'>0.271599</td><td class='ptd'>0.268342</td><td class='ptd'>3e-06</td><td class='ptd'>0.056888</td><td class='ptd'>0.170139</td><td class='ptd'>0.419018</td><td class='ptd'>0.99998</td></tr><tr class='ptr grey'><td class='ptd'>6</td><td class='ptd'>Majority</td><td class='ptd'>0.0</td><td class='ptd'>0.728401</td><td class='ptd'>0.268342</td><td class='ptd'>2e-05</td><td class='ptd'>0.580982</td><td class='ptd'>0.829861</td><td class='ptd'>0.943112</td><td class='ptd'>0.999997</td></tr>\n            </tbody>\n        </table>\n        "
      }
     },
     "5386373ab5d94782a62053f4d31bdec4": {
      "model_module": "@jupyter-widgets/base",
      "model_module_version": "1.2.0",
      "model_name": "LayoutModel",
      "state": {}
     },
     "53a3353eae1a4990880d412eca69a751": {
      "model_module": "@jupyter-widgets/base",
      "model_module_version": "1.2.0",
      "model_name": "LayoutModel",
      "state": {
       "display": "flex",
       "flex_flow": "column",
       "width": "auto"
      }
     },
     "53d2b091e4f24e4a8789015d578927a9": {
      "model_module": "@jupyter-widgets/base",
      "model_module_version": "1.2.0",
      "model_name": "LayoutModel",
      "state": {
       "width": "auto"
      }
     },
     "5438ca66e17543019bd9319b03496ae5": {
      "model_module": "@jupyter-widgets/controls",
      "model_module_version": "1.5.0",
      "model_name": "HTMLModel",
      "state": {
       "layout": "IPY_MODEL_183ca8d6c5a04708b20c1a172fdb0d30",
       "style": "IPY_MODEL_99bbb9e2b8fe42b797a922f04230de80",
       "value": "n_knots:"
      }
     },
     "544a5235391a45bba36ce293bc7a5e5d": {
      "model_module": "@jupyter-widgets/controls",
      "model_module_version": "1.5.0",
      "model_name": "BoundedIntTextModel",
      "state": {
       "layout": "IPY_MODEL_69193aae638443ad8ceb98e02e7d1aef",
       "style": "IPY_MODEL_2fadf398e7284b648835e5a9e1556dbf",
       "value": 3
      }
     },
     "546bcd428113498e8e339f7fcd648990": {
      "model_module": "@jupyter-widgets/controls",
      "model_module_version": "1.5.0",
      "model_name": "DescriptionStyleModel",
      "state": {
       "description_width": ""
      }
     },
     "5487b7fa3bdc4798a7e5f1b0a0c1bd47": {
      "model_module": "@jupyter-widgets/base",
      "model_module_version": "1.2.0",
      "model_name": "LayoutModel",
      "state": {
       "width": "auto"
      }
     },
     "548a76e9159d438b982993c428f231e3": {
      "model_module": "@jupyter-widgets/controls",
      "model_module_version": "1.5.0",
      "model_name": "DescriptionStyleModel",
      "state": {
       "description_width": ""
      }
     },
     "548d2aa13d124aa1bd2e1563ac3a27ad": {
      "model_module": "@jupyter-widgets/base",
      "model_module_version": "1.2.0",
      "model_name": "LayoutModel",
      "state": {}
     },
     "54920ac9d66f422bb0a8da9e09e9c93c": {
      "model_module": "@jupyter-widgets/controls",
      "model_module_version": "1.5.0",
      "model_name": "CheckboxModel",
      "state": {
       "description": "GAM",
       "disabled": false,
       "indent": false,
       "layout": "IPY_MODEL_3d998e4f38b24195a76c2e9164871e82",
       "style": "IPY_MODEL_c73e4b1203c74521abeff43d9e8e52d6",
       "value": false
      }
     },
     "549a7685c69d4dcc8ffe4b225aa4e32c": {
      "model_module": "@jupyter-widgets/controls",
      "model_module_version": "1.5.0",
      "model_name": "VBoxModel",
      "state": {
       "children": [
        "IPY_MODEL_a312b4e61b7c4af5a5b81707493df72f",
        "IPY_MODEL_524e7d316e244d058b91fcc52b52b3b8",
        "IPY_MODEL_86ceadebf5c2480b965a5a803c308ca8",
        "IPY_MODEL_3a6c1ac65d8b4c13a89f13ac9290b6a7",
        "IPY_MODEL_df9bdb50b9d9463ca0b8fd15533dc0bf"
       ],
       "layout": "IPY_MODEL_023477dd97024780b4bab64cdc30b1a4"
      }
     },
     "54c7ed68e8314eafbcd42405d9058f17": {
      "model_module": "@jupyter-widgets/controls",
      "model_module_version": "1.5.0",
      "model_name": "HTMLModel",
      "state": {
       "layout": "IPY_MODEL_a7969d8f550945d1ac4b98b885371fe6",
       "style": "IPY_MODEL_d9af1ab32da44971bfdd5dc72fa5e1b5",
       "value": "<h4 style='margin: 10px 0px;'>Customize Model</h4>"
      }
     },
     "54d5a87434f340e09b6771b13f5a4bb3": {
      "model_module": "@jupyter-widgets/controls",
      "model_module_version": "1.5.0",
      "model_name": "HTMLModel",
      "state": {
       "layout": "IPY_MODEL_46d2e7ebcde5487cb6a2c304ce09dcac",
       "style": "IPY_MODEL_359bc69b436944d9ab79fd897b6b80d0",
       "value": "<p>Sample Weight:</p>"
      }
     },
     "54f5f27d392b4210a8a02024e7ff8924": {
      "model_module": "@jupyter-widgets/controls",
      "model_module_version": "1.5.0",
      "model_name": "HTMLModel",
      "state": {
       "layout": "IPY_MODEL_9e14783569d44a0287fff5ee5105f8c1",
       "style": "IPY_MODEL_69e1e8d509274850823f31faa18985fa",
       "value": "<div style='margin-right: 10px'></div>"
      }
     },
     "55399fd195234888881202f2855ad6db": {
      "model_module": "@jupyter-widgets/controls",
      "model_module_version": "1.5.0",
      "model_name": "ButtonModel",
      "state": {
       "_dom_classes": [
        "pbtn"
       ],
       "button_style": "danger",
       "icon": "cog",
       "layout": "IPY_MODEL_bf21897712ee4b70aab628b2c1c98c5d",
       "style": "IPY_MODEL_0ad5ddb8e72a4edcb2361e8bd86826f2"
      }
     },
     "558eb00f76664453bec70ff016fb14f8": {
      "model_module": "@jupyter-widgets/controls",
      "model_module_version": "1.5.0",
      "model_name": "HBoxModel",
      "state": {
       "children": [
        "IPY_MODEL_cbff5a2fb70a4d46b3e8e964c3cc9c14",
        "IPY_MODEL_f07b8eb9e6b442a0b0cf747c11aff91f",
        "IPY_MODEL_acbb48fd414d40c38a0f2dd9e5cb3476"
       ],
       "layout": "IPY_MODEL_093e59be2ded45759263e25f5d5b4463"
      }
     },
     "55a8bf298d9e4c27a37e319faa1b0413": {
      "model_module": "@jupyter-widgets/base",
      "model_module_version": "1.2.0",
      "model_name": "LayoutModel",
      "state": {}
     },
     "55b849cd75fd491eb5cdc381d3ff297f": {
      "model_module": "@jupyter-widgets/base",
      "model_module_version": "1.2.0",
      "model_name": "LayoutModel",
      "state": {
       "align_items": "center",
       "justify_content": "space-between",
       "width": "100%"
      }
     },
     "55c1fb7701a04e1180a964b5df6e0d80": {
      "model_module": "@jupyter-widgets/controls",
      "model_module_version": "1.5.0",
      "model_name": "BoundedIntTextModel",
      "state": {
       "layout": "IPY_MODEL_52f3ca83aeb34f9b9b539bac9b6a5efc",
       "max": 10000,
       "min": 1,
       "style": "IPY_MODEL_841e25564bda4145815008558d7d588d",
       "value": 100
      }
     },
     "5612397914754243b0a75e438bb880e3": {
      "model_module": "@jupyter-widgets/controls",
      "model_module_version": "1.5.0",
      "model_name": "DescriptionStyleModel",
      "state": {
       "description_width": "initial"
      }
     },
     "5623aa5ae65149e0b9bfc08c71714380": {
      "model_module": "@jupyter-widgets/controls",
      "model_module_version": "1.5.0",
      "model_name": "DescriptionStyleModel",
      "state": {
       "description_width": ""
      }
     },
     "566fbdeba19e41a6812bf0acb74f2cf8": {
      "model_module": "@jupyter-widgets/controls",
      "model_module_version": "1.5.0",
      "model_name": "HTMLModel",
      "state": {
       "layout": "IPY_MODEL_9ef33e4a69e0485e9e44d947c61c1ad6",
       "style": "IPY_MODEL_23edba6393c3482cbf4be91b8b8c9d12",
       "value": "\n        <table class='ptable striped'>\n            <thead class='pthead'>\n                <tr class='ptr'>\n                    <th class='pth'></th><th class='pth'>name</th><th class='pth'>n_missing</th><th class='pth'>n_unique</th><th class='pth'>top1</th><th class='pth'>top2</th><th class='pth'>top3</th><th class='pth'>n_others</th>\n                </tr>\n            </thead>\n\n            <tbody class='ptbody'>\n                <tr class='ptr'><td class='ptd'>0</td><td class='ptd'>Segment</td><td class='ptd'>0</td><td class='ptd'>15</td><td class='ptd'>Segment 13 : 15000</td><td class='ptd'>Segment 6 : 10000</td><td class='ptd'>Segment 12 : 10000</td><td class='ptd'>28240</td></tr><tr class='ptr'><td class='ptd'>1</td><td class='ptd'>Label</td><td class='ptd'>0</td><td class='ptd'>2</td><td class='ptd'>0.0 : 48714</td><td class='ptd'>1.0 : 14526</td><td class='ptd'>0</td><td class='ptd'>0</td></tr><tr class='ptr'><td class='ptd'>2</td><td class='ptd'>Age >= 62</td><td class='ptd'>0</td><td class='ptd'>2</td><td class='ptd'>0.0 : 31823</td><td class='ptd'>1.0 : 31417</td><td class='ptd'>0</td><td class='ptd'>0</td></tr><tr class='ptr grey'><td class='ptd'>3</td><td class='ptd'>Age < 62</td><td class='ptd'>0</td><td class='ptd'>2</td><td class='ptd'>1.0 : 31823</td><td class='ptd'>0.0 : 31417</td><td class='ptd'>0</td><td class='ptd'>0</td></tr>\n            </tbody>\n        </table>\n        "
      }
     },
     "56853a3bc0bf480bb90f27be6b64aa88": {
      "model_module": "@jupyter-widgets/controls",
      "model_module_version": "1.5.0",
      "model_name": "DescriptionStyleModel",
      "state": {
       "description_width": "initial"
      }
     },
     "5687d0dd8c514044bf568a9afc0ed04c": {
      "model_module": "@jupyter-widgets/controls",
      "model_module_version": "1.5.0",
      "model_name": "DescriptionStyleModel",
      "state": {
       "description_width": ""
      }
     },
     "5695f1e0638d45a7bb5e3dc8aaad4704": {
      "model_module": "@jupyter-widgets/controls",
      "model_module_version": "1.5.0",
      "model_name": "HTMLModel",
      "state": {
       "layout": "IPY_MODEL_7ed4142fa360433e8d152a6a9eb79fb4",
       "style": "IPY_MODEL_9995abc425404efb8bc2e65b861b371d",
       "value": "Exclude Attribute:"
      }
     },
     "56f2e2309392489580f533e800e6ea46": {
      "model_module": "@jupyter-widgets/controls",
      "model_module_version": "1.5.0",
      "model_name": "DescriptionStyleModel",
      "state": {
       "description_width": "initial"
      }
     },
     "5727126e5083460a9414afbfe19e98d5": {
      "model_module": "@jupyter-widgets/base",
      "model_module_version": "1.2.0",
      "model_name": "LayoutModel",
      "state": {}
     },
     "577430efffcc42ec82de7da29350ea7a": {
      "model_module": "@jupyter-widgets/base",
      "model_module_version": "1.2.0",
      "model_name": "LayoutModel",
      "state": {}
     },
     "577ddfc45a6b4a99994a6a771aad8b62": {
      "model_module": "@jupyter-widgets/controls",
      "model_module_version": "1.5.0",
      "model_name": "BoundedFloatTextModel",
      "state": {
       "layout": "IPY_MODEL_a3d97cad205d4839b9a282643e4287b0",
       "max": 1,
       "step": null,
       "style": "IPY_MODEL_857335fceb1e451f9cb0d3e8298cb06d",
       "value": 0.3
      }
     },
     "57913db6d54b40198ead3f8946f56751": {
      "model_module": "@jupyter-widgets/base",
      "model_module_version": "1.2.0",
      "model_name": "LayoutModel",
      "state": {}
     },
     "57d92fd316c04c778080e26ecf0d7bf6": {
      "model_module": "@jupyter-widgets/controls",
      "model_module_version": "1.5.0",
      "model_name": "DescriptionStyleModel",
      "state": {
       "description_width": ""
      }
     },
     "57f7980235c54afeb0b23b432c85a063": {
      "model_module": "@jupyter-widgets/controls",
      "model_module_version": "1.5.0",
      "model_name": "DescriptionStyleModel",
      "state": {
       "description_width": "initial"
      }
     },
     "5805dc3932b344d6a237aa0d228bda17": {
      "model_module": "@jupyter-widgets/base",
      "model_module_version": "1.2.0",
      "model_name": "LayoutModel",
      "state": {
       "width": "20%"
      }
     },
     "5817dfd07b8048a49f00098de84196b7": {
      "model_module": "@jupyter-widgets/controls",
      "model_module_version": "1.5.0",
      "model_name": "IntProgressModel",
      "state": {
       "_dom_classes": [
        "progress-train"
       ],
       "description": "Training XGB2:",
       "layout": "IPY_MODEL_182f6f5680cf442ba7a994fed2cd4c32",
       "max": 1,
       "style": "IPY_MODEL_d236bb48ae9c452ab5ad9f121834d32a",
       "value": 1
      }
     },
     "58212055010244c78c586ab2ea74edd7": {
      "model_module": "@jupyter-widgets/base",
      "model_module_version": "1.2.0",
      "model_name": "LayoutModel",
      "state": {
       "width": "70px"
      }
     },
     "5826a641d96944ceb4eedcd60191af58": {
      "model_module": "@jupyter-widgets/controls",
      "model_module_version": "1.5.0",
      "model_name": "HTMLModel",
      "state": {
       "layout": "IPY_MODEL_f3ac5dc78b844f5ab6e7998c376dbaaf",
       "style": "IPY_MODEL_68162aca7c9e4d999bcd87eca04e927d",
       "value": "Max_rounds:"
      }
     },
     "5840ca727b4c4a98832ccd71638055ee": {
      "model_module": "@jupyter-widgets/controls",
      "model_module_version": "1.5.0",
      "model_name": "DescriptionStyleModel",
      "state": {
       "description_width": "initial"
      }
     },
     "585b9e4343b04df7b5d31191655b6abd": {
      "model_module": "@jupyter-widgets/base",
      "model_module_version": "1.2.0",
      "model_name": "LayoutModel",
      "state": {
       "width": "auto"
      }
     },
     "585c48f1cea0407a9252595a1a3033c8": {
      "model_module": "@jupyter-widgets/controls",
      "model_module_version": "1.5.0",
      "model_name": "CheckboxModel",
      "state": {
       "description": "GLM",
       "disabled": false,
       "indent": false,
       "layout": "IPY_MODEL_a69e7635238145328dfac561e02c0c4f",
       "style": "IPY_MODEL_ccc356d4754c44a1864790f0f711cc52",
       "value": false
      }
     },
     "5860f53f79024d75831bddc106c9695c": {
      "model_module": "@jupyter-widgets/controls",
      "model_module_version": "1.5.0",
      "model_name": "BoundedFloatTextModel",
      "state": {
       "layout": "IPY_MODEL_bcb2ac64c9b94c5ab99d506e609e6f2c",
       "step": null,
       "style": "IPY_MODEL_f5e00eb748014548807b548ae014b150",
       "value": 1
      }
     },
     "586e5146e08b483a89f51a97a492c968": {
      "model_module": "@jupyter-widgets/controls",
      "model_module_version": "1.5.0",
      "model_name": "BoundedIntTextModel",
      "state": {
       "layout": "IPY_MODEL_00911f404269421fbff9c91869d03d21",
       "max": 100000,
       "min": 1,
       "style": "IPY_MODEL_7d30f972aa17474baf90e6084b2d7faa",
       "value": 500
      }
     },
     "586ee07cf10c42d39a37e268cde887a4": {
      "model_module": "@jupyter-widgets/controls",
      "model_module_version": "1.5.0",
      "model_name": "HBoxModel",
      "state": {
       "children": [
        "IPY_MODEL_f5cd3e5e99e345a7b67627bafb45e985",
        "IPY_MODEL_4fd55104ffe44694bf4950085d95b8a2"
       ],
       "layout": "IPY_MODEL_bee3ed20278346738426f383ffaa9aca"
      }
     },
     "587704c66e9641c3be661ec524591a18": {
      "model_module": "@jupyter-widgets/controls",
      "model_module_version": "1.5.0",
      "model_name": "HBoxModel",
      "state": {
       "_dom_classes": [
        "list-item"
       ],
       "children": [
        "IPY_MODEL_aadab6c87521499588c06551daf2a85d",
        "IPY_MODEL_9b9be37ce2ee4119840a205a742aaaf3"
       ],
       "layout": "IPY_MODEL_b776809e27154191abd4b203a88453b4"
      }
     },
     "5887013d52764edc831b05c7161591cd": {
      "model_module": "@jupyter-widgets/base",
      "model_module_version": "1.2.0",
      "model_name": "LayoutModel",
      "state": {
       "width": "25px"
      }
     },
     "5895627fa07544ecbc72a28cb415a400": {
      "model_module": "@jupyter-widgets/controls",
      "model_module_version": "1.5.0",
      "model_name": "DescriptionStyleModel",
      "state": {
       "description_width": ""
      }
     },
     "58b83de736074aa7ad3954a48262201e": {
      "model_module": "@jupyter-widgets/base",
      "model_module_version": "1.2.0",
      "model_name": "LayoutModel",
      "state": {
       "width": "auto"
      }
     },
     "58b880d5b51e4ed088d5f2cf0700e67d": {
      "model_module": "@jupyter-widgets/output",
      "model_module_version": "1.0.0",
      "model_name": "OutputModel",
      "state": {
       "layout": "IPY_MODEL_e6f6889063c84f46bc2691f8eb5cc3b6",
       "outputs": [
        {
         "data": {
          "application/vnd.jupyter.widget-view+json": {
           "model_id": "7448bd0d43b346fd98cb545577e6cb45",
           "version_major": 2,
           "version_minor": 0
          },
          "text/plain": "VBox(children=(HTML(value=\"<div class='divider'></div>\"), HTML(value=\"<h4 style='margin-top: 0px;margin-bottom…"
         },
         "metadata": {},
         "output_type": "display_data"
        },
        {
         "data": {
          "application/vnd.jupyter.widget-view+json": {
           "model_id": "a5b81c08ceca4b818aa84c7e5bab52f7",
           "version_major": 2,
           "version_minor": 0
          },
          "text/plain": "HTML(value=\"\\n        <table class='ptable striped'>\\n            <thead class='pthead'>\\n                <tr …"
         },
         "metadata": {},
         "output_type": "display_data"
        }
       ]
      }
     },
     "58c71078b5e24f5682a50fac53a46109": {
      "model_module": "@jupyter-widgets/controls",
      "model_module_version": "1.5.0",
      "model_name": "DescriptionStyleModel",
      "state": {
       "description_width": ""
      }
     },
     "58ed5b56bd9b48a1ba32dadd3307ac2d": {
      "model_module": "@jupyter-widgets/base",
      "model_module_version": "1.2.0",
      "model_name": "LayoutModel",
      "state": {
       "display": "flex",
       "flex_flow": "column",
       "width": "auto"
      }
     },
     "59095348859449c3b681da6ad62b93e6": {
      "model_module": "@jupyter-widgets/base",
      "model_module_version": "1.2.0",
      "model_name": "LayoutModel",
      "state": {}
     },
     "59259be948e84ccb8562dd27e5277461": {
      "model_module": "@jupyter-widgets/controls",
      "model_module_version": "1.5.0",
      "model_name": "HBoxModel",
      "state": {
       "_dom_classes": [
        "list-item"
       ],
       "children": [
        "IPY_MODEL_2e3a7bba3adf42a8a251ee57aa52d3ac",
        "IPY_MODEL_c45ffe08678e4b90b7754abf55d0dbf6"
       ],
       "layout": "IPY_MODEL_f6b7eb59535e4cfdb55046b6c5b2879f"
      }
     },
     "59483c52d31849a3a70398d1a28995ec": {
      "model_module": "@jupyter-widgets/controls",
      "model_module_version": "1.5.0",
      "model_name": "CheckboxModel",
      "state": {
       "description": "EBM",
       "disabled": false,
       "indent": false,
       "layout": "IPY_MODEL_71c5b9efc88a4ab882753a3b07b759ec",
       "style": "IPY_MODEL_041577110dea4d1eac119cf4d83bc84b",
       "value": false
      }
     },
     "594ee31c2e5f498b9586dc0a73f354d8": {
      "model_module": "@jupyter-widgets/controls",
      "model_module_version": "1.5.0",
      "model_name": "DescriptionStyleModel",
      "state": {
       "description_width": ""
      }
     },
     "598a0441ec924b32a0e77b4f44eebb84": {
      "model_module": "@jupyter-widgets/base",
      "model_module_version": "1.2.0",
      "model_name": "LayoutModel",
      "state": {
       "width": "auto"
      }
     },
     "59915c5b82174c8990e9184656b64d1f": {
      "model_module": "@jupyter-widgets/controls",
      "model_module_version": "1.5.0",
      "model_name": "BoundedIntTextModel",
      "state": {
       "layout": "IPY_MODEL_e0f6c0ae6ea6400bbbdafd6db3d2e875",
       "max": 10000,
       "min": 1,
       "style": "IPY_MODEL_9d517602de3e4da0b09e2cda5b6b7a55",
       "value": 1000
      }
     },
     "599d52b9677742a28bbdfafb8f8c4b85": {
      "model_module": "@jupyter-widgets/controls",
      "model_module_version": "1.5.0",
      "model_name": "DescriptionStyleModel",
      "state": {
       "description_width": ""
      }
     },
     "59aa68371c834685acde2b980676ddf3": {
      "model_module": "@jupyter-widgets/controls",
      "model_module_version": "1.5.0",
      "model_name": "DescriptionStyleModel",
      "state": {
       "description_width": ""
      }
     },
     "5a178cba4efb4964bd27739265e5830a": {
      "model_module": "@jupyter-widgets/base",
      "model_module_version": "1.2.0",
      "model_name": "LayoutModel",
      "state": {}
     },
     "5a2dc8bef07d46a8b26242531015a70a": {
      "model_module": "@jupyter-widgets/controls",
      "model_module_version": "1.5.0",
      "model_name": "VBoxModel",
      "state": {
       "_dom_classes": [
        "input-width-with-parent"
       ],
       "children": [
        "IPY_MODEL_a958e0e331fd490988274fb85dbc2a9b",
        "IPY_MODEL_caaf73aed5e9461ba2e82770cb531c28",
        "IPY_MODEL_ed6b099ccee7476996310674112ae9f4",
        "IPY_MODEL_ec8632ea1aae4968ac944e7910737a83"
       ],
       "layout": "IPY_MODEL_fc6404eac4544900ae170fadff6c9026"
      }
     },
     "5a35d079acc2455b97003d3b65869f9c": {
      "model_module": "@jupyter-widgets/controls",
      "model_module_version": "1.5.0",
      "model_name": "HTMLModel",
      "state": {
       "layout": "IPY_MODEL_cca5184f7daf443f8075c2e0b8de2aa5",
       "style": "IPY_MODEL_25d5798c00814d4a8796e17e43143d8c",
       "value": "<div class='divider'></div>"
      }
     },
     "5a36444050d7433b9a14ddc9958d6ee2": {
      "model_module": "@jupyter-widgets/controls",
      "model_module_version": "1.5.0",
      "model_name": "BoxModel",
      "state": {
       "children": [
        "IPY_MODEL_74303223f9c644448864131956752ef1",
        "IPY_MODEL_910a36dbfa2e40548212254f8c630890"
       ],
       "layout": "IPY_MODEL_2c10895435e341ecb5ed374742cf1593"
      }
     },
     "5a6fa4918e8446dc8735bc5ef6a3182d": {
      "model_module": "@jupyter-widgets/base",
      "model_module_version": "1.2.0",
      "model_name": "LayoutModel",
      "state": {
       "width": "99%"
      }
     },
     "5a708bd92b3e4ab594686dec7d98f57a": {
      "model_module": "@jupyter-widgets/controls",
      "model_module_version": "1.5.0",
      "model_name": "ButtonStyleModel",
      "state": {}
     },
     "5ab598f152034c099877965baa2d2669": {
      "model_module": "@jupyter-widgets/base",
      "model_module_version": "1.2.0",
      "model_name": "LayoutModel",
      "state": {
       "width": "auto"
      }
     },
     "5ab656eb758249b4acba1835f7589b23": {
      "model_module": "@jupyter-widgets/controls",
      "model_module_version": "1.5.0",
      "model_name": "VBoxModel",
      "state": {
       "children": [
        "IPY_MODEL_4dffe456f6de458fa0d1871a8811916c",
        "IPY_MODEL_666bf1262eac4f0f96ba76b06005aef5",
        "IPY_MODEL_bef2977838944a9c9940ca42f3e23e1b"
       ],
       "layout": "IPY_MODEL_dbd37c6b33be478ea7dd5df60f4655e1"
      }
     },
     "5b32459bd82f47ff93e631225f18b46d": {
      "model_module": "@jupyter-widgets/controls",
      "model_module_version": "1.5.0",
      "model_name": "HTMLModel",
      "state": {
       "layout": "IPY_MODEL_8181d3d5e68540418a708f714f5e2825",
       "style": "IPY_MODEL_4bb69c57cabf4dd092626e59a3dbbcc6",
       "value": "<h4 style='margin: 10px 0px;'>Choose Model</h4>"
      }
     },
     "5bacf375c43b4d84ae3776ba3b1d1885": {
      "model_module": "@jupyter-widgets/controls",
      "model_module_version": "1.5.0",
      "model_name": "VBoxModel",
      "state": {
       "children": [
        "IPY_MODEL_8ca7f3de1acd4930af7568c669b70218",
        "IPY_MODEL_e946ce953a7e431db0fddd46da5081d5",
        "IPY_MODEL_da4a9098d4cf4b94af5d7229ce593a27",
        "IPY_MODEL_b515ec3eda0d4fc795b67c8f246080f1",
        "IPY_MODEL_05e62a372740463d9304ef156fee22fa",
        "IPY_MODEL_27c8a7cc89ea40f2924570bfd3d034c8",
        "IPY_MODEL_95dac771157b452ba41a2aee6c19f4f8"
       ],
       "layout": "IPY_MODEL_5cc0a305a927485589efdaf6b26880a1"
      }
     },
     "5bc3181cb88c494cb6027f7e131494ef": {
      "model_module": "@jupyter-widgets/controls",
      "model_module_version": "1.5.0",
      "model_name": "ButtonModel",
      "state": {
       "_dom_classes": [
        "pbtn"
       ],
       "button_style": "danger",
       "icon": "cog",
       "layout": "IPY_MODEL_1904f3fb23a34c1a9f211de7f516adef",
       "style": "IPY_MODEL_9275188938dd4a229d7a191f80c050f8"
      }
     },
     "5bd14b2c873d403092495fe278e4edbc": {
      "model_module": "@jupyter-widgets/base",
      "model_module_version": "1.2.0",
      "model_name": "LayoutModel",
      "state": {
       "width": "155px"
      }
     },
     "5c0dcd56a76943d29c71df96a5283441": {
      "model_module": "@jupyter-widgets/base",
      "model_module_version": "1.2.0",
      "model_name": "LayoutModel",
      "state": {}
     },
     "5c34d38a188c474a81c7e8531768e640": {
      "model_module": "@jupyter-widgets/base",
      "model_module_version": "1.2.0",
      "model_name": "LayoutModel",
      "state": {}
     },
     "5c5c5b5f6ee04900826f37150d6a32f9": {
      "model_module": "@jupyter-widgets/base",
      "model_module_version": "1.2.0",
      "model_name": "LayoutModel",
      "state": {}
     },
     "5c5f87856e9b48c1a0cd0064a6aa9fe7": {
      "model_module": "@jupyter-widgets/base",
      "model_module_version": "1.2.0",
      "model_name": "LayoutModel",
      "state": {
       "width": "auto"
      }
     },
     "5c739faf656d4ae88f071518293cd115": {
      "model_module": "@jupyter-widgets/controls",
      "model_module_version": "1.5.0",
      "model_name": "HTMLModel",
      "state": {
       "layout": "IPY_MODEL_ed3c18e55e2642a2a6fd7e012549cd47",
       "style": "IPY_MODEL_b8056ce4bde7424e9fe05d94c5f496fd",
       "value": "\n        <style>\n\n        .left-label {\n            width: 30%;\n        }\n\n        .card-panel {\n            -webkit-transition: -webkit-box-shadow .25s;\n            transition: -webkit-box-shadow .25s;\n            transition: box-shadow .25s;\n            transition: box-shadow .25s, -webkit-box-shadow .25s;\n            padding: 24px;\n            margin: 0.5rem 0 1rem 0;\n            border-radius: 2px;\n            background-color: #fff;\n        }\n\n        .card {\n            position: relative;\n            margin: 0.5rem 0.1rem 1rem 0.2rem;\n            background-color: #fff;\n            -webkit-transition: -webkit-box-shadow .25s;\n            transition: -webkit-box-shadow .25s;\n            transition: box-shadow .25s;\n            transition: box-shadow .25s, -webkit-box-shadow .25s;\n            border-radius: 2px;\n            box-shadow: 0 2px 2px 0 rgb(0 0 0 / 14%), 0 3px 1px -2px rgb(0 0 0 / 12%), 0 1px 5px 0 rgb(0 0 0 / 20%);\n            padding: 24px;\n            color: white;\n        }\n\n        .card .card-title {\n            font-size: 24px;\n            font-weight: 300;\n        }\n\n        @media only screen and (min-width: 800px) {\n            /* For notebook: */\n            .card {width: 99% !important;}\n        }\n\n        @media only screen and (min-width: 1400px) {\n            /* For colab: */\n            .card {width: 99% !important;}\n        }\n\n        .blue-grey.darken-1 {\n            background-color: #546e7a !important;\n        }\n\n        .small-card {\n            position: relative;\n            margin: 0.5rem 0 1rem 0;\n            background-color: #fff;\n            -webkit-transition: -webkit-box-shadow .25s;\n            transition: -webkit-box-shadow .25s;\n            transition: box-shadow .25s;\n            transition: box-shadow .25s, -webkit-box-shadow .25s;\n            border-radius: 2px;\n            box-shadow: 0 2px 2px 0 rgb(0 0 0 / 14%), 0 3px 1px -2px rgb(0 0 0 / 12%), 0 1px 5px 0 rgb(0 0 0 / 20%);\n            padding: 0px 5px 0px 5px;\n            color: white;\n        }\n\n        .inner-card {\n            position: relative;\n            background-color: #fff;\n            -webkit-transition: -webkit-box-shadow .25s;\n            transition: -webkit-box-shadow .25s;\n            transition: box-shadow .25s;\n            transition: box-shadow .25s, -webkit-box-shadow .25s;\n            border-radius: 2px;\n            box-shadow: 0 2px 2px 0 rgb(0 0 0 / 14%), 0 3px 1px -2px rgb(0 0 0 / 12%), 0 1px 5px 0 rgb(0 0 0 / 20%);\n            padding: 20px;\n            color: white;\n            margin: 0px 1px 1px 1px;\n        }\n\n        .card-with-tab {\n            position: relative;\n            margin: 0.5rem 0.1rem 1rem 0.2rem;\n            background-color: #fff;\n            -webkit-transition: -webkit-box-shadow .25s;\n            transition: -webkit-box-shadow .25s;\n            transition: box-shadow .25s;\n            transition: box-shadow .25s, -webkit-box-shadow .25s;\n            border-radius: 2px;\n            box-shadow: 0 2px 2px 0 rgb(0 0 0 / 14%), 0 3px 1px -2px rgb(0 0 0 / 12%), 0 1px 5px 0 rgb(0 0 0 / 20%);\n            padding: 24px;\n            color: white;\n        }\n\n        .card-with-tab button {\n            width: auto;\n            padding: 12px 40px;\n        }\n\n        .list {\n            padding: 0px 10px;\n            box-shadow: 0 2px 2px 0 rgb(0 0 0 / 14%), 0 3px 1px -2px rgb(0 0 0 / 12%), 0 1px 5px 0 rgb(0 0 0 / 20%);\n            margin: 0px 1px 60px 1px;\n        }\n\n        .list-item {\n            padding: 10px 0px;\n            border-width: 0;\n            border-style: solid;\n            border-color: rgba(0, 0, 0, 0.08);\n            border-bottom-width: thin;\n        }\n\n        .divider {\n            margin: 10px 0px;\n            border-width: 0;\n            border-style: solid;\n            border-color: rgba(0, 0, 0, 0.08);\n            border-bottom-width: thin;\n        }\n\n        .hr {\n            margin: 0;\n            -webkit-flex-shrink: 0;\n            -ms-flex-negative: 0;\n            flex-shrink: 0;\n            border-width: 0;\n            border-style: solid;\n            border-color: rgba(0, 0, 0, 0.08);\n            border-bottom-width: thin;\n        }\n\n        .notification {\n            transition: box-shadow 300ms cubic-bezier(0.4, 0, 0.2, 1) 0ms;\n            border-radius: 4px;\n            box-shadow: 0 2px 2px 0 rgb(0 0 0 / 14%), 0 3px 1px -2px rgb(0 0 0 / 12%), 0 1px 5px 0 rgb(0 0 0 / 20%);\n            font-family: Roboto, Helvetica, Arial, sans-serif;\n            font-weight: 500;\n            font-size: 12px;\n            line-height: 1.43;\n            letter-spacing: 0.01071em;\n            background-color: rgb(2, 136, 209);\n            display: flex;\n            padding: 6px 16px;\n            color: rgb(255, 255, 255);\n            margin-top: 10px;\n        }\n\n        .success {\n            background-color: #EDF7ED;\n            color: #1E4620;\n        }\n\n        .error {\n            background-color: #FDEDED;\n            color: #5F2120;\n        }\n\n        .info {\n            background-color: #E5F6FD;\n            color: #528298;\n        }\n\n        .warn {\n            background-color: #FFF4E5;\n            color: #663C00;\n        }\n\n        .margin-top-20 {\n            margin-top: 20px;\n        }\n\n        .hide {\n            display: none;\n        }\n\n        .pbtn {\n            display: inline-flex;\n            -webkit-box-align: center;\n            align-items: center;\n            -webkit-box-pack: center;\n            justify-content: center;\n            position: relative;\n            box-sizing: border-box;\n            -webkit-tap-highlight-color: transparent;\n            outline: 0px;\n            border: 0px;\n            margin: 0px;\n            cursor: pointer;\n            user-select: none;\n            vertical-align: middle;\n            appearance: none;\n            text-decoration: none;\n            font-family: Roboto, Helvetica, Arial, sans-serif;\n            font-weight: 550;\n            font-size: 12px;\n            line-height: 1.75;\n            letter-spacing: 0.02857em;\n            text-transform: uppercase;\n            min-width: 64px;\n            padding: 6px 16px;\n            border-radius: 4px;\n            transition: background-color 250ms cubic-bezier(0.4, 0, 0.2, 1) 0ms, box-shadow 250ms cubic-bezier(0.4, 0, 0.2, 1) 0ms, border-color 250ms cubic-bezier(0.4, 0, 0.2, 1) 0ms, color 250ms cubic-bezier(0.4, 0, 0.2, 1) 0ms;\n            color: rgb(255, 255, 255);\n            background-color: #D71E28;\n            box-shadow: rgb(0 0 0 / 20%) 0px 3px 1px -2px, rgb(0 0 0 / 14%) 0px 2px 2px 0px, rgb(0 0 0 / 12%) 0px 1px 5px 0px;\n        }\n\n        .output_subarea {\n            padding: 0px !important;\n        }\n\n        .ptable, .pth, .ptd {\n            border: none;\n        }\n\n        .pth, .ptd {\n            max-width: 150px;\n            white-space: nowrap;\n            overflow: hidden;\n            -o-text-overflow: ellipsis;\n            -ms-text-overflow: ellipsis;\n            text-overflow: ellipsis;\n        }\n\n        .ptable {\n            display: table;\n            border-collapse: collapse;\n            border-spacing: 0;\n        }\n\n        .ptable.striped .ptr {\n            border-bottom: none;\n        }\n\n        .ptable.striped > .ptbody > .ptr:nth-child(odd) {\n            background-color: rgba(242, 242, 242, 0.5);\n        }\n\n        .ptable.striped > .ptbody > .ptr > .ptd {\n            border-radius: 0;\n        }\n\n        .ptable.highlight > .ptbody > .ptr {\n            -webkit-transition: background-color .25s ease;\n            transition: background-color .25s ease;\n        }\n\n        .ptable.highlight > .ptbody > .ptr:hover {\n            background-color: rgba(242, 242, 242, 0.5);\n        }\n\n        .ptable.centered .pthead .ptr .pth, .ptable.centered .ptbody .ptr .ptd {\n            text-align: center;\n        }\n\n        .ptr {\n            border-bottom: 1px solid rgba(0, 0, 0, 0.12);\n        }\n\n        .ptr.hightlight {\n            background-color: yellow !important;\n        }\n\n        .ptd, .pth {\n            padding: 0.2rem 0.6rem;\n            display: table-cell;\n            text-align: right;\n            vertical-align: middle;\n            border-radius: 2px;\n            position: relative;\n        }\n\n        .ptr.grey {\n            background-color: grey !important;\n        }\n\n        .ptr.strikeout .ptd:before {\n            content: \" \";\n            position: absolute;\n            top: 50%;\n            left: 0;\n            border-bottom: 1px solid #111;\n            width: 100%;\n        }\n\n        .widget-toggle-button {\n            display: inline-flex;\n            -webkit-box-align: center;\n            align-items: center;\n            -webkit-box-pack: center;\n            justify-content: center;\n            box-sizing: border-box;\n            -webkit-tap-highlight-color: transparent;\n            background-color: transparent !important;\n            outline: 0px;\n            border: 0px;\n            border-bottom: 2px solid #E4E4E4 !important;\n            box-shadow: none !important;\n            margin: 0px !important;\n            border-radius: 0px;\n            cursor: pointer;\n            user-select: none;\n            vertical-align: middle;\n            appearance: none;\n            text-decoration: none;\n            font-family: Roboto, Helvetica, Arial, sans-serif;\n            font-weight: 500;\n            font-size: 14px;\n            line-height: 1.25;\n            letter-spacing: 0.02857em;\n            max-width: 360px;\n            min-width: 90px;\n            position: relative;\n            min-height: 48px;\n            flex-shrink: 0;\n            padding: 12px 16px;\n            overflow: hidden;\n            white-space: normal;\n            text-align: center;\n            flex-direction: column;\n            color: rgba(0, 0, 0, 0.6);\n        }\n\n        .mod-active {\n            color: rgb(25, 118, 210) !important;\n            border-bottom: 2px solid rgb(25, 118, 210) !important;\n        }\n\n        .narrow-tab button {\n            max-width: 15%;\n        }\n\n        .overflow-fix .jupyter-widgets {\n            overflow: auto;\n        }\n\n        .inner-padding {\n            padding-top: 20px;\n        }\n\n        .fix-img img {\n            width: 100%;\n        }\n\n        .flex-reverse-for-update-button {\n            flex-direction: row-reverse;\n            margin-right: 50px;\n        }\n\n        .data-summary-tab {\n            max-height: 400px;\n        }\n\n        .input-width-with-parent .widget-dropdown {\n            width: 100%;\n        }\n\n        .input-width-with-parent .widget-text {\n            width: 100%;\n        }\n\n        .no-margin {\n            margin: 0px;\n        }\n\n        .widget-hprogress label {\n            text-align: left;\n        }\n\n        .widget-dropdown label {\n            margin-right: 10px;\n        }\n\n        .form .widget-dropdown {\n            width: auto;\n        }\n\n        .form .widget-text {\n            width: auto;\n        }\n\n        .form p {\n            margin: 0px;\n        }\n\n        .widget-dropdown {\n            white-space: nowrap;\n            overflow: hidden;\n            -o-text-overflow: ellipsis;\n            -ms-text-overflow: ellipsis;\n            text-overflow: ellipsis;\n        }\n\n        .progress-train label {\n            margin-right: 10px;\n        }\n\n        select {\n            height: 97% !important;\n        }\n\n        .no-overflow {\n            overflow: none;\n        }\n\n        .split-btn button {\n            margin-bottom: 2px;\n        }\n\n        .register-btn {\n            width: 50%\n        }\n\n        .register-btn-colab {\n            width: 40%\n        }\n\n        .fix-config-from-overflow .jp-OutputArea-child {\n            display: inherit;\n        }\n        \n        .checkbox-center input[type=\"checkbox\"] {\n            vertical-align: middle;\n        }\n\n        input[type=\"checkbox\"] {\n            vertical-align: middle;\n        }\n\n        </style>\n        "
      }
     },
     "5c830d47aa9d45fca868cf162e5bf3ae": {
      "model_module": "@jupyter-widgets/controls",
      "model_module_version": "1.5.0",
      "model_name": "ButtonModel",
      "state": {
       "_dom_classes": [
        "pbtn"
       ],
       "button_style": "danger",
       "icon": "cog",
       "layout": "IPY_MODEL_354af78fd13546f59f41a14a78187c23",
       "style": "IPY_MODEL_1a4bada85bf0462795a6631243ec3131"
      }
     },
     "5cbef02ede334ca0bb7abe60c9b7fb99": {
      "model_module": "@jupyter-widgets/base",
      "model_module_version": "1.2.0",
      "model_name": "LayoutModel",
      "state": {
       "display": "flex",
       "flex_flow": "column",
       "width": "100%"
      }
     },
     "5cc0a305a927485589efdaf6b26880a1": {
      "model_module": "@jupyter-widgets/base",
      "model_module_version": "1.2.0",
      "model_name": "LayoutModel",
      "state": {}
     },
     "5ccb8bdecf7f407890bdc946f1e1bfe9": {
      "model_module": "@jupyter-widgets/controls",
      "model_module_version": "1.5.0",
      "model_name": "ButtonStyleModel",
      "state": {}
     },
     "5ce8d6a4b7804fe293cf16d3c8a73b6d": {
      "model_module": "@jupyter-widgets/controls",
      "model_module_version": "1.5.0",
      "model_name": "TabModel",
      "state": {
       "_dom_classes": [
        "data-summary-tab"
       ],
       "_titles": {
        "0": "Numerical Attributes",
        "1": "Categorical Attributes"
       },
       "children": [
        "IPY_MODEL_165bce8a8fd04827aa2ee4b88cbf7f2b",
        "IPY_MODEL_a3af69f12ca14cf294e90354eeba9772"
       ],
       "layout": "IPY_MODEL_64e982a29f0a479399fe617cd56b4719"
      }
     },
     "5cfb8d25ff8b4263a4eca3a4fc95c67a": {
      "model_module": "@jupyter-widgets/base",
      "model_module_version": "1.2.0",
      "model_name": "LayoutModel",
      "state": {
       "width": "auto"
      }
     },
     "5d006dbb2bdc4df298898759deab4943": {
      "model_module": "@jupyter-widgets/base",
      "model_module_version": "1.2.0",
      "model_name": "LayoutModel",
      "state": {}
     },
     "5d2e8cb32bdf4df980cec9d7d1894aad": {
      "model_module": "@jupyter-widgets/controls",
      "model_module_version": "1.5.0",
      "model_name": "DescriptionStyleModel",
      "state": {
       "description_width": ""
      }
     },
     "5d636dc284f5432a840575a167efbf55": {
      "model_module": "@jupyter-widgets/base",
      "model_module_version": "1.2.0",
      "model_name": "LayoutModel",
      "state": {
       "height": "30%",
       "width": "auto"
      }
     },
     "5d7e58f851994c8983823c65cd901f97": {
      "model_module": "@jupyter-widgets/base",
      "model_module_version": "1.2.0",
      "model_name": "LayoutModel",
      "state": {
       "align_items": "center",
       "display": "flex",
       "flex_flow": "row",
       "width": "100%"
      }
     },
     "5d86a32ac42c49bcadf504988c608514": {
      "model_module": "@jupyter-widgets/controls",
      "model_module_version": "1.5.0",
      "model_name": "VBoxModel",
      "state": {
       "children": [
        "IPY_MODEL_544a5235391a45bba36ce293bc7a5e5d",
        "IPY_MODEL_cb38597651874826aea16470d5b535d8",
        "IPY_MODEL_3383382a273243daa1de922783222f93",
        "IPY_MODEL_ff2eb15da33145bc96cae795917cc2b9"
       ],
       "layout": "IPY_MODEL_dab0033f60544fb6b3488d3af0e9ea54"
      }
     },
     "5d9355af1512449e9d85cce6bb3e0083": {
      "model_module": "@jupyter-widgets/controls",
      "model_module_version": "1.5.0",
      "model_name": "TextModel",
      "state": {
       "layout": "IPY_MODEL_8dcac786e3ab45bfbdea01007a0be8fb",
       "placeholder": "",
       "style": "IPY_MODEL_ba646cdbbd7e4d8ebaaa4dfbda63a23a",
       "value": "[40,40]"
      }
     },
     "5dbe9cdf2bdb4e248da0cf3eb7934071": {
      "model_module": "@jupyter-widgets/controls",
      "model_module_version": "1.5.0",
      "model_name": "HTMLModel",
      "state": {
       "layout": "IPY_MODEL_a682bb02c6aa452c99b41fbb9058d040",
       "style": "IPY_MODEL_dfdcd9e9442d4bcea41bba91e26cf301",
       "value": "Feature_decreasing:"
      }
     },
     "5dcfa0f744ba42429b2ad51b30f299e9": {
      "model_module": "@jupyter-widgets/controls",
      "model_module_version": "1.5.0",
      "model_name": "DropdownModel",
      "state": {
       "_options_labels": [
        "Classification",
        "Regression"
       ],
       "index": 0,
       "layout": "IPY_MODEL_409c4e177cad4feeb74f267adef32a78",
       "style": "IPY_MODEL_d1087b1b9c924e56ab47e98b7f0d33f1"
      }
     },
     "5e08427035e9499590b6537031727265": {
      "model_module": "@jupyter-widgets/controls",
      "model_module_version": "1.5.0",
      "model_name": "ButtonModel",
      "state": {
       "_dom_classes": [
        "pbtn"
       ],
       "button_style": "danger",
       "icon": "cog",
       "layout": "IPY_MODEL_9cab25749b824682a1c0bf75f9ff1156",
       "style": "IPY_MODEL_951f3802660e4808b5749eb23945f7db"
      }
     },
     "5e0a8e0d47d644578bb129523e494219": {
      "model_module": "@jupyter-widgets/controls",
      "model_module_version": "1.5.0",
      "model_name": "DescriptionStyleModel",
      "state": {
       "description_width": ""
      }
     },
     "5e2f322572f74bce91e5326000c2d5a7": {
      "model_module": "@jupyter-widgets/controls",
      "model_module_version": "1.5.0",
      "model_name": "HTMLModel",
      "state": {
       "layout": "IPY_MODEL_443496c0c9db4881a5ebfe6300cc0c90",
       "style": "IPY_MODEL_2df3ab0bc740475490da19a303d38e2e",
       "value": "\n        <table class='ptable striped'>\n            <thead class='pthead'>\n                <tr class='ptr'>\n                    <th class='pth'></th><th class='pth'>name</th><th class='pth'>n_missing</th><th class='pth'>mean</th><th class='pth'>std</th><th class='pth'>min</th><th class='pth'>q1</th><th class='pth'>median</th><th class='pth'>q3</th><th class='pth'>max</th>\n                </tr>\n            </thead>\n\n            <tbody class='ptbody'>\n                <tr class='ptr'><td class='ptd'>0</td><td class='ptd'>x1</td><td class='ptd'>0.0</td><td class='ptd'>-0.0105</td><td class='ptd'>1.0055</td><td class='ptd'>-4.1115</td><td class='ptd'>-0.6876</td><td class='ptd'>-0.016</td><td class='ptd'>0.6619</td><td class='ptd'>3.7235</td></tr><tr class='ptr'><td class='ptd'>1</td><td class='ptd'>x2</td><td class='ptd'>0.0</td><td class='ptd'>0.0038</td><td class='ptd'>0.9987</td><td class='ptd'>-4.4414</td><td class='ptd'>-0.6617</td><td class='ptd'>0.01</td><td class='ptd'>0.6781</td><td class='ptd'>4.5475</td></tr><tr class='ptr'><td class='ptd'>2</td><td class='ptd'>x3</td><td class='ptd'>0.0</td><td class='ptd'>-0.0271</td><td class='ptd'>0.9966</td><td class='ptd'>-4.0406</td><td class='ptd'>-0.6994</td><td class='ptd'>-0.0264</td><td class='ptd'>0.6424</td><td class='ptd'>4.3087</td></tr><tr class='ptr'><td class='ptd'>3</td><td class='ptd'>x4</td><td class='ptd'>0.0</td><td class='ptd'>0.008</td><td class='ptd'>0.995</td><td class='ptd'>-4.4915</td><td class='ptd'>-0.6591</td><td class='ptd'>0.0048</td><td class='ptd'>0.68</td><td class='ptd'>3.864</td></tr><tr class='ptr'><td class='ptd'>4</td><td class='ptd'>x5</td><td class='ptd'>0.0</td><td class='ptd'>-0.001</td><td class='ptd'>0.9876</td><td class='ptd'>-3.9901</td><td class='ptd'>-0.664</td><td class='ptd'>0.0007</td><td class='ptd'>0.6597</td><td class='ptd'>4.0931</td></tr><tr class='ptr'><td class='ptd'>5</td><td class='ptd'>Minority</td><td class='ptd'>0.0</td><td class='ptd'>0.2716</td><td class='ptd'>0.2683</td><td class='ptd'>0.0</td><td class='ptd'>0.0569</td><td class='ptd'>0.1701</td><td class='ptd'>0.419</td><td class='ptd'>1.0</td></tr><tr class='ptr'><td class='ptd'>6</td><td class='ptd'>Majority</td><td class='ptd'>0.0</td><td class='ptd'>0.7284</td><td class='ptd'>0.2683</td><td class='ptd'>0.0</td><td class='ptd'>0.581</td><td class='ptd'>0.8299</td><td class='ptd'>0.9431</td><td class='ptd'>1.0</td></tr>\n            </tbody>\n        </table>\n        "
      }
     },
     "5e78c73c7d9344018313da6d0d586700": {
      "model_module": "@jupyter-widgets/base",
      "model_module_version": "1.2.0",
      "model_name": "LayoutModel",
      "state": {}
     },
     "5e99fb15a22e480d9d7fbea5c0c5f6f3": {
      "model_module": "@jupyter-widgets/base",
      "model_module_version": "1.2.0",
      "model_name": "LayoutModel",
      "state": {
       "width": "99%"
      }
     },
     "5ee1fddc5bb34a8fa291873595c94ea6": {
      "model_module": "@jupyter-widgets/controls",
      "model_module_version": "1.5.0",
      "model_name": "HTMLModel",
      "state": {
       "layout": "IPY_MODEL_d127afd3e15e46f3b4a96cd610a78882",
       "style": "IPY_MODEL_385060fc042c4182a979dbe17ffc0904",
       "value": "Add Category:"
      }
     },
     "5f10ac8ac44a4e1da12af87b16e1dd14": {
      "model_module": "@jupyter-widgets/controls",
      "model_module_version": "1.5.0",
      "model_name": "HTMLModel",
      "state": {
       "layout": "IPY_MODEL_434f97e80c3c4e25b32894c29a877e63",
       "style": "IPY_MODEL_70f940113c2b43a8aa2e918b2d86042b",
       "value": "\n        <style>\n\n        .left-label {\n            width: 30%;\n        }\n\n        .card-panel {\n            -webkit-transition: -webkit-box-shadow .25s;\n            transition: -webkit-box-shadow .25s;\n            transition: box-shadow .25s;\n            transition: box-shadow .25s, -webkit-box-shadow .25s;\n            padding: 24px;\n            margin: 0.5rem 0 1rem 0;\n            border-radius: 2px;\n            background-color: #fff;\n        }\n\n        .card {\n            position: relative;\n            margin: 0.5rem 0.1rem 1rem 0.2rem;\n            background-color: #fff;\n            -webkit-transition: -webkit-box-shadow .25s;\n            transition: -webkit-box-shadow .25s;\n            transition: box-shadow .25s;\n            transition: box-shadow .25s, -webkit-box-shadow .25s;\n            border-radius: 2px;\n            box-shadow: 0 2px 2px 0 rgb(0 0 0 / 14%), 0 3px 1px -2px rgb(0 0 0 / 12%), 0 1px 5px 0 rgb(0 0 0 / 20%);\n            padding: 24px;\n            color: white;\n        }\n\n        .card .card-title {\n            font-size: 24px;\n            font-weight: 300;\n        }\n\n        @media only screen and (min-width: 800px) {\n            /* For notebook: */\n            .card {width: 99% !important;}\n        }\n\n        @media only screen and (min-width: 1400px) {\n            /* For colab: */\n            .card {width: 99% !important;}\n        }\n\n        .blue-grey.darken-1 {\n            background-color: #546e7a !important;\n        }\n\n        .small-card {\n            position: relative;\n            margin: 0.5rem 0 1rem 0;\n            background-color: #fff;\n            -webkit-transition: -webkit-box-shadow .25s;\n            transition: -webkit-box-shadow .25s;\n            transition: box-shadow .25s;\n            transition: box-shadow .25s, -webkit-box-shadow .25s;\n            border-radius: 2px;\n            box-shadow: 0 2px 2px 0 rgb(0 0 0 / 14%), 0 3px 1px -2px rgb(0 0 0 / 12%), 0 1px 5px 0 rgb(0 0 0 / 20%);\n            padding: 0px 5px 0px 5px;\n            color: white;\n        }\n\n        .inner-card {\n            position: relative;\n            background-color: #fff;\n            -webkit-transition: -webkit-box-shadow .25s;\n            transition: -webkit-box-shadow .25s;\n            transition: box-shadow .25s;\n            transition: box-shadow .25s, -webkit-box-shadow .25s;\n            border-radius: 2px;\n            box-shadow: 0 2px 2px 0 rgb(0 0 0 / 14%), 0 3px 1px -2px rgb(0 0 0 / 12%), 0 1px 5px 0 rgb(0 0 0 / 20%);\n            padding: 20px;\n            color: white;\n            margin: 0px 1px 1px 1px;\n        }\n\n        .card-with-tab {\n            position: relative;\n            margin: 0.5rem 0.1rem 1rem 0.2rem;\n            background-color: #fff;\n            -webkit-transition: -webkit-box-shadow .25s;\n            transition: -webkit-box-shadow .25s;\n            transition: box-shadow .25s;\n            transition: box-shadow .25s, -webkit-box-shadow .25s;\n            border-radius: 2px;\n            box-shadow: 0 2px 2px 0 rgb(0 0 0 / 14%), 0 3px 1px -2px rgb(0 0 0 / 12%), 0 1px 5px 0 rgb(0 0 0 / 20%);\n            padding: 24px;\n            color: white;\n        }\n\n        .card-with-tab button {\n            width: auto;\n            padding: 12px 40px;\n        }\n\n        .list {\n            padding: 0px 10px;\n            box-shadow: 0 2px 2px 0 rgb(0 0 0 / 14%), 0 3px 1px -2px rgb(0 0 0 / 12%), 0 1px 5px 0 rgb(0 0 0 / 20%);\n            margin: 0px 1px 60px 1px;\n        }\n\n        .list-item {\n            padding: 10px 0px;\n            border-width: 0;\n            border-style: solid;\n            border-color: rgba(0, 0, 0, 0.08);\n            border-bottom-width: thin;\n        }\n\n        .divider {\n            margin: 10px 0px;\n            border-width: 0;\n            border-style: solid;\n            border-color: rgba(0, 0, 0, 0.08);\n            border-bottom-width: thin;\n        }\n\n        .hr {\n            margin: 0;\n            -webkit-flex-shrink: 0;\n            -ms-flex-negative: 0;\n            flex-shrink: 0;\n            border-width: 0;\n            border-style: solid;\n            border-color: rgba(0, 0, 0, 0.08);\n            border-bottom-width: thin;\n        }\n\n        .notification {\n            transition: box-shadow 300ms cubic-bezier(0.4, 0, 0.2, 1) 0ms;\n            border-radius: 4px;\n            box-shadow: 0 2px 2px 0 rgb(0 0 0 / 14%), 0 3px 1px -2px rgb(0 0 0 / 12%), 0 1px 5px 0 rgb(0 0 0 / 20%);\n            font-family: Roboto, Helvetica, Arial, sans-serif;\n            font-weight: 500;\n            font-size: 12px;\n            line-height: 1.43;\n            letter-spacing: 0.01071em;\n            background-color: rgb(2, 136, 209);\n            display: flex;\n            padding: 6px 16px;\n            color: rgb(255, 255, 255);\n            margin-top: 10px;\n        }\n\n        .success {\n            background-color: #EDF7ED;\n            color: #1E4620;\n        }\n\n        .error {\n            background-color: #FDEDED;\n            color: #5F2120;\n        }\n\n        .info {\n            background-color: #E5F6FD;\n            color: #528298;\n        }\n\n        .warn {\n            background-color: #FFF4E5;\n            color: #663C00;\n        }\n\n        .margin-top-20 {\n            margin-top: 20px;\n        }\n\n        .hide {\n            display: none;\n        }\n\n        .pbtn {\n            display: inline-flex;\n            -webkit-box-align: center;\n            align-items: center;\n            -webkit-box-pack: center;\n            justify-content: center;\n            position: relative;\n            box-sizing: border-box;\n            -webkit-tap-highlight-color: transparent;\n            outline: 0px;\n            border: 0px;\n            margin: 0px;\n            cursor: pointer;\n            user-select: none;\n            vertical-align: middle;\n            appearance: none;\n            text-decoration: none;\n            font-family: Roboto, Helvetica, Arial, sans-serif;\n            font-weight: 550;\n            font-size: 12px;\n            line-height: 1.75;\n            letter-spacing: 0.02857em;\n            text-transform: uppercase;\n            min-width: 64px;\n            padding: 6px 16px;\n            border-radius: 4px;\n            transition: background-color 250ms cubic-bezier(0.4, 0, 0.2, 1) 0ms, box-shadow 250ms cubic-bezier(0.4, 0, 0.2, 1) 0ms, border-color 250ms cubic-bezier(0.4, 0, 0.2, 1) 0ms, color 250ms cubic-bezier(0.4, 0, 0.2, 1) 0ms;\n            color: rgb(255, 255, 255);\n            background-color: #D71E28;\n            box-shadow: rgb(0 0 0 / 20%) 0px 3px 1px -2px, rgb(0 0 0 / 14%) 0px 2px 2px 0px, rgb(0 0 0 / 12%) 0px 1px 5px 0px;\n        }\n\n        .output_subarea {\n            padding: 0px !important;\n        }\n\n        .ptable, .pth, .ptd {\n            border: none;\n        }\n\n        .pth, .ptd {\n            max-width: 150px;\n            white-space: nowrap;\n            overflow: hidden;\n            -o-text-overflow: ellipsis;\n            -ms-text-overflow: ellipsis;\n            text-overflow: ellipsis;\n        }\n\n        .ptable {\n            display: table;\n            border-collapse: collapse;\n            border-spacing: 0;\n        }\n\n        .ptable.striped .ptr {\n            border-bottom: none;\n        }\n\n        .ptable.striped > .ptbody > .ptr:nth-child(odd) {\n            background-color: rgba(242, 242, 242, 0.5);\n        }\n\n        .ptable.striped > .ptbody > .ptr > .ptd {\n            border-radius: 0;\n        }\n\n        .ptable.highlight > .ptbody > .ptr {\n            -webkit-transition: background-color .25s ease;\n            transition: background-color .25s ease;\n        }\n\n        .ptable.highlight > .ptbody > .ptr:hover {\n            background-color: rgba(242, 242, 242, 0.5);\n        }\n\n        .ptable.centered .pthead .ptr .pth, .ptable.centered .ptbody .ptr .ptd {\n            text-align: center;\n        }\n\n        .ptr {\n            border-bottom: 1px solid rgba(0, 0, 0, 0.12);\n        }\n\n        .ptr.hightlight {\n            background-color: yellow !important;\n        }\n\n        .ptd, .pth {\n            padding: 0.2rem 0.6rem;\n            display: table-cell;\n            text-align: right;\n            vertical-align: middle;\n            border-radius: 2px;\n            position: relative;\n        }\n\n        .ptr.grey {\n            background-color: grey !important;\n        }\n\n        .ptr.strikeout .ptd:before {\n            content: \" \";\n            position: absolute;\n            top: 50%;\n            left: 0;\n            border-bottom: 1px solid #111;\n            width: 100%;\n        }\n\n        .widget-toggle-button {\n            display: inline-flex;\n            -webkit-box-align: center;\n            align-items: center;\n            -webkit-box-pack: center;\n            justify-content: center;\n            box-sizing: border-box;\n            -webkit-tap-highlight-color: transparent;\n            background-color: transparent !important;\n            outline: 0px;\n            border: 0px;\n            border-bottom: 2px solid #E4E4E4 !important;\n            box-shadow: none !important;\n            margin: 0px !important;\n            border-radius: 0px;\n            cursor: pointer;\n            user-select: none;\n            vertical-align: middle;\n            appearance: none;\n            text-decoration: none;\n            font-family: Roboto, Helvetica, Arial, sans-serif;\n            font-weight: 500;\n            font-size: 14px;\n            line-height: 1.25;\n            letter-spacing: 0.02857em;\n            max-width: 360px;\n            min-width: 90px;\n            position: relative;\n            min-height: 48px;\n            flex-shrink: 0;\n            padding: 12px 16px;\n            overflow: hidden;\n            white-space: normal;\n            text-align: center;\n            flex-direction: column;\n            color: rgba(0, 0, 0, 0.6);\n        }\n\n        .mod-active {\n            color: rgb(25, 118, 210) !important;\n            border-bottom: 2px solid rgb(25, 118, 210) !important;\n        }\n\n        .narrow-tab button {\n            max-width: 15%;\n        }\n\n        .overflow-fix .jupyter-widgets {\n            overflow: auto;\n        }\n\n        .inner-padding {\n            padding-top: 20px;\n        }\n\n        .fix-img img {\n            width: 100%;\n        }\n\n        .flex-reverse-for-update-button {\n            flex-direction: row-reverse;\n            margin-right: 50px;\n        }\n\n        .data-summary-tab {\n            max-height: 400px;\n        }\n\n        .input-width-with-parent .widget-dropdown {\n            width: 100%;\n        }\n\n        .input-width-with-parent .widget-text {\n            width: 100%;\n        }\n\n        .no-margin {\n            margin: 0px;\n        }\n\n        .widget-hprogress label {\n            text-align: left;\n        }\n\n        .widget-dropdown label {\n            margin-right: 10px;\n        }\n\n        .form .widget-dropdown {\n            width: auto;\n        }\n\n        .form .widget-text {\n            width: auto;\n        }\n\n        .form p {\n            margin: 0px;\n        }\n\n        .widget-dropdown {\n            white-space: nowrap;\n            overflow: hidden;\n            -o-text-overflow: ellipsis;\n            -ms-text-overflow: ellipsis;\n            text-overflow: ellipsis;\n        }\n\n        .progress-train label {\n            margin-right: 10px;\n        }\n\n        select {\n            height: 97% !important;\n        }\n\n        .no-overflow {\n            overflow: none;\n        }\n\n        .split-btn button {\n            margin-bottom: 2px;\n        }\n\n        .register-btn {\n            width: 50%\n        }\n\n        .register-btn-colab {\n            width: 40%\n        }\n\n        .fix-config-from-overflow .jp-OutputArea-child {\n            display: inherit;\n        }\n        \n        .checkbox-center input[type=\"checkbox\"] {\n            vertical-align: middle;\n        }\n\n        input[type=\"checkbox\"] {\n            vertical-align: middle;\n        }\n\n        </style>\n        "
      }
     },
     "5f1d77e8119d4c7c8db65c063d916110": {
      "model_module": "@jupyter-widgets/base",
      "model_module_version": "1.2.0",
      "model_name": "LayoutModel",
      "state": {
       "width": "auto"
      }
     },
     "5f5d4070b6794396b57fd8a6644b5665": {
      "model_module": "@jupyter-widgets/controls",
      "model_module_version": "1.5.0",
      "model_name": "DescriptionStyleModel",
      "state": {
       "description_width": ""
      }
     },
     "5f5fa092a62d4bc993148926c2217424": {
      "model_module": "@jupyter-widgets/controls",
      "model_module_version": "1.5.0",
      "model_name": "DropdownModel",
      "state": {
       "_options_labels": [
        "Select Model"
       ],
       "description": "Model Name:",
       "index": 0,
       "layout": "IPY_MODEL_8b35d191b7314c8fb3b084cb2d86c6cb",
       "style": "IPY_MODEL_e706981837124f41b5abb97b97dc7a68"
      }
     },
     "5f68e1e8fe594ff58aabc06757cf099f": {
      "model_module": "@jupyter-widgets/controls",
      "model_module_version": "1.5.0",
      "model_name": "TextModel",
      "state": {
       "layout": "IPY_MODEL_09fd506d2b8f40199547c2e80fc2622f",
       "placeholder": "1,2... or \"f1\",\"f2\"...",
       "style": "IPY_MODEL_f761d178021e46c5982d2a173a3b49cc"
      }
     },
     "5fd6014077484079820643829d43d9ae": {
      "model_module": "@jupyter-widgets/controls",
      "model_module_version": "1.5.0",
      "model_name": "DescriptionStyleModel",
      "state": {
       "description_width": ""
      }
     },
     "5fefacdd7e3a4f4dbfb1fe26a032752b": {
      "model_module": "@jupyter-widgets/controls",
      "model_module_version": "1.5.0",
      "model_name": "BoxModel",
      "state": {
       "children": [
        "IPY_MODEL_e66499f5b1a84849b5df2d1261b332fa"
       ],
       "layout": "IPY_MODEL_1ac0539b1dad4407b4421b490a715ac5"
      }
     },
     "602ba7d1d11a462bb84270709986d1bd": {
      "model_module": "@jupyter-widgets/base",
      "model_module_version": "1.2.0",
      "model_name": "LayoutModel",
      "state": {
       "display": "flex",
       "flex_flow": "column",
       "width": "auto"
      }
     },
     "6030671e16114656b2c3f0f248f5fa5c": {
      "model_module": "@jupyter-widgets/controls",
      "model_module_version": "1.5.0",
      "model_name": "HBoxModel",
      "state": {
       "children": [
        "IPY_MODEL_8e860a4e3f1540719d379e06b6623e34",
        "IPY_MODEL_849219198c9a45288389946c47a79a0c",
        "IPY_MODEL_24a40a629dcf478ea332cc76955f1a7f",
        "IPY_MODEL_3e3eb2c07ce9460daf73c0ef6467a5cb",
        "IPY_MODEL_fac83db79f8d4221a1521ea67ff4c057",
        "IPY_MODEL_ee59399b326643c1a2ba110c5a5f00ad"
       ],
       "layout": "IPY_MODEL_bd0752e6841249c8a717dec0191796b4"
      }
     },
     "603fe8597730488dafbcfda787cb611c": {
      "model_module": "@jupyter-widgets/controls",
      "model_module_version": "1.5.0",
      "model_name": "HTMLModel",
      "state": {
       "layout": "IPY_MODEL_f30f3937493a454cb10f4eb4869c4da5",
       "style": "IPY_MODEL_9aa47209336840099426b1fe488b2bea",
       "value": "Batch_size:"
      }
     },
     "606ab6e96d8a4ae99a842b88275a774a": {
      "model_module": "@jupyter-widgets/controls",
      "model_module_version": "1.5.0",
      "model_name": "DescriptionStyleModel",
      "state": {
       "description_width": ""
      }
     },
     "6088a9e242e24104aef5798bdbff3b92": {
      "model_module": "@jupyter-widgets/controls",
      "model_module_version": "1.5.0",
      "model_name": "DescriptionStyleModel",
      "state": {
       "description_width": ""
      }
     },
     "60aa8d8ee9244f7881395a025c93ca98": {
      "model_module": "@jupyter-widgets/controls",
      "model_module_version": "1.5.0",
      "model_name": "DescriptionStyleModel",
      "state": {
       "description_width": ""
      }
     },
     "60b10bfa1f6948c4ac00f6f2e3ba5c1a": {
      "model_module": "@jupyter-widgets/controls",
      "model_module_version": "1.5.0",
      "model_name": "ButtonStyleModel",
      "state": {}
     },
     "611ca6e3d1d440bdb556d372f5cd6cc9": {
      "model_module": "@jupyter-widgets/controls",
      "model_module_version": "1.5.0",
      "model_name": "HBoxModel",
      "state": {
       "children": [
        "IPY_MODEL_ea96ab43073f49a585205b0e7350fa2d",
        "IPY_MODEL_aabbd27dc7eb4d5ba5951e1b2601c6d5",
        "IPY_MODEL_acc37bd1ffb74616880844776af84366"
       ],
       "layout": "IPY_MODEL_439089fa802046a1b80322b0029f1202"
      }
     },
     "613371c620414817a6e977cd3969ea46": {
      "model_module": "@jupyter-widgets/base",
      "model_module_version": "1.2.0",
      "model_name": "LayoutModel",
      "state": {
       "width": "auto"
      }
     },
     "6178314afde0415c9308ce520f185b3c": {
      "model_module": "@jupyter-widgets/base",
      "model_module_version": "1.2.0",
      "model_name": "LayoutModel",
      "state": {
       "height": "25px",
       "width": "35px"
      }
     },
     "61b51cd2062d49debd3ab53647bf47ab": {
      "model_module": "@jupyter-widgets/base",
      "model_module_version": "1.2.0",
      "model_name": "LayoutModel",
      "state": {
       "display": "flex",
       "flex_flow": "column",
       "width": "100%"
      }
     },
     "61dd606ce5494527a11550e9ce4d9c2b": {
      "model_module": "@jupyter-widgets/controls",
      "model_module_version": "1.5.0",
      "model_name": "VBoxModel",
      "state": {
       "children": [
        "IPY_MODEL_a8febb92606b4475b2e2f4629a3f9b54",
        "IPY_MODEL_5ce8d6a4b7804fe293cf16d3c8a73b6d",
        "IPY_MODEL_83ebfda56d634e96834fe5cf4936170b",
        "IPY_MODEL_b6a1e28d64f4498d96bf2c9378df247d",
        "IPY_MODEL_467e6f3f54454279bd68f100633b3ca0",
        "IPY_MODEL_81574509c74b41f2ae761937eb03cd37",
        "IPY_MODEL_4dcaa3a1ab3d43ce90b5b66a97281c15"
       ],
       "layout": "IPY_MODEL_aab99a6e48584d578991d737f3ce9e73"
      }
     },
     "61e05b6db3e348b4a2e30ae4733070d7": {
      "model_module": "@jupyter-widgets/controls",
      "model_module_version": "1.5.0",
      "model_name": "DescriptionStyleModel",
      "state": {
       "description_width": ""
      }
     },
     "61f433bee68244eba88e1855afd2f7b1": {
      "model_module": "@jupyter-widgets/controls",
      "model_module_version": "1.5.0",
      "model_name": "HTMLModel",
      "state": {
       "layout": "IPY_MODEL_d3e18fd888fd440c9251b37fc3b1f1fa",
       "style": "IPY_MODEL_3b804bd886804b058b5e9c63e40e2b4a",
       "value": "Feature_increasing:"
      }
     },
     "6257efa4209a491a9ea252c45b90ac1e": {
      "model_module": "@jupyter-widgets/controls",
      "model_module_version": "1.5.0",
      "model_name": "DescriptionStyleModel",
      "state": {
       "description_width": ""
      }
     },
     "626b0e67d499401093fd50195d35d561": {
      "model_module": "@jupyter-widgets/controls",
      "model_module_version": "1.5.0",
      "model_name": "HBoxModel",
      "state": {
       "_dom_classes": [
        "split-btn"
       ],
       "children": [
        "IPY_MODEL_369ad7f4b04b4140a44f44257025a24c",
        "IPY_MODEL_06daf12cf5b549248962976444a86188"
       ],
       "layout": "IPY_MODEL_b7bf2d51185d4a54a1aba06d4da6f30d"
      }
     },
     "6283ed0a304e43148219c577de847ed0": {
      "model_module": "@jupyter-widgets/controls",
      "model_module_version": "1.5.0",
      "model_name": "BoundedIntTextModel",
      "state": {
       "layout": "IPY_MODEL_98e4ebb84d7a4137b426a3f03b8f2894",
       "style": "IPY_MODEL_11193752e5e941df959b2ceb57d5e4bf"
      }
     },
     "628cdc4766f74654acc0ce7d58e2a85e": {
      "model_module": "@jupyter-widgets/base",
      "model_module_version": "1.2.0",
      "model_name": "LayoutModel",
      "state": {
       "width": "155px"
      }
     },
     "629266e826c44df58f955e56c3ce4717": {
      "model_module": "@jupyter-widgets/output",
      "model_module_version": "1.0.0",
      "model_name": "OutputModel",
      "state": {
       "layout": "IPY_MODEL_d920f65d05614a2485aea4db9881915e"
      }
     },
     "6294c273758e4880bcf179237b1667a2": {
      "model_module": "@jupyter-widgets/base",
      "model_module_version": "1.2.0",
      "model_name": "LayoutModel",
      "state": {}
     },
     "6297a2cfaf2c46089df39b74bb80211b": {
      "model_module": "@jupyter-widgets/base",
      "model_module_version": "1.2.0",
      "model_name": "LayoutModel",
      "state": {
       "width": "99%"
      }
     },
     "62c9e4a4fead4a42aa87e9cb194c02a5": {
      "model_module": "@jupyter-widgets/controls",
      "model_module_version": "1.5.0",
      "model_name": "HTMLModel",
      "state": {
       "layout": "IPY_MODEL_771fdad27eab4f33b105e376454cfb85",
       "style": "IPY_MODEL_1fad520285c34f318d81d64bb47f3c37",
       "value": "Random_state:"
      }
     },
     "62d5cf84ae344e4fabca6a1e2ebe54ad": {
      "model_module": "@jupyter-widgets/base",
      "model_module_version": "1.2.0",
      "model_name": "LayoutModel",
      "state": {
       "width": "110px"
      }
     },
     "63278d1e190e4b88b06e822de9e64423": {
      "model_module": "@jupyter-widgets/controls",
      "model_module_version": "1.5.0",
      "model_name": "VBoxModel",
      "state": {
       "children": [
        "IPY_MODEL_7a2fbb2195f346a4a74a2a1f19bb20b5",
        "IPY_MODEL_16c66375283f452ab5d1f6a8e48d317d"
       ],
       "layout": "IPY_MODEL_3adde06ac65249f7b3b2f29b9dbc99ed"
      }
     },
     "636e47baa8394c4bb3bbdaa9b9c5077f": {
      "model_module": "@jupyter-widgets/controls",
      "model_module_version": "1.5.0",
      "model_name": "HBoxModel",
      "state": {
       "children": [
        "IPY_MODEL_cc176f3a406e4eeca688a23624a931b4",
        "IPY_MODEL_d1d14b95fe1947fcaf41a65a25fa36a1",
        "IPY_MODEL_fd6363c440df48cfb317bcd03db3a908",
        "IPY_MODEL_da9319bfa8b6420e9e93d0431cb14fa2",
        "IPY_MODEL_cd310cc9eea8400aaa53cc6bbea5c9c3",
        "IPY_MODEL_2865f3c739a645fa8c77ae2439931059"
       ],
       "layout": "IPY_MODEL_ab57d1b17f984a3395bf7badc4e16682"
      }
     },
     "639e4679d60543eb81fabf7dc3465ddb": {
      "model_module": "@jupyter-widgets/controls",
      "model_module_version": "1.5.0",
      "model_name": "HTMLModel",
      "state": {
       "layout": "IPY_MODEL_7144421d6dca4c20b36b2b9c5959407f",
       "style": "IPY_MODEL_645796c8988d4f1898c58c00c66c7bbe",
       "value": "<div class='divider'></div>"
      }
     },
     "63a07b68144840a1bf030430792c5818": {
      "model_module": "@jupyter-widgets/base",
      "model_module_version": "1.2.0",
      "model_name": "LayoutModel",
      "state": {
       "align_items": "center",
       "display": "flex",
       "flex_flow": "row",
       "width": "100%"
      }
     },
     "63b688a7a4964258b3e09596760deeed": {
      "model_module": "@jupyter-widgets/controls",
      "model_module_version": "1.5.0",
      "model_name": "DescriptionStyleModel",
      "state": {
       "description_width": ""
      }
     },
     "63c7842855c14e97bf16b26aece97fdc": {
      "model_module": "@jupyter-widgets/base",
      "model_module_version": "1.2.0",
      "model_name": "LayoutModel",
      "state": {}
     },
     "63e8155c63ba4c0bb4a1cfdabd05d753": {
      "model_module": "@jupyter-widgets/base",
      "model_module_version": "1.2.0",
      "model_name": "LayoutModel",
      "state": {
       "width": "155px"
      }
     },
     "640b0a50022a41d5ab0a38f39f9b3d6e": {
      "model_module": "@jupyter-widgets/controls",
      "model_module_version": "1.5.0",
      "model_name": "DescriptionStyleModel",
      "state": {
       "description_width": ""
      }
     },
     "642a52e1f85f46d6985e56ce5b4245b4": {
      "model_module": "@jupyter-widgets/base",
      "model_module_version": "1.2.0",
      "model_name": "LayoutModel",
      "state": {}
     },
     "643a8a28e7d6424a8779728acf458fa5": {
      "model_module": "@jupyter-widgets/controls",
      "model_module_version": "1.5.0",
      "model_name": "TextModel",
      "state": {
       "layout": "IPY_MODEL_872697f1c7a6438e9d6c7463df734be8",
       "placeholder": "Input name",
       "style": "IPY_MODEL_79acc27b38a34443ba6eeb61cebfc5e0",
       "value": "GAM"
      }
     },
     "643e161ddd354b10b448aa73c7599e1a": {
      "model_module": "@jupyter-widgets/controls",
      "model_module_version": "1.5.0",
      "model_name": "BoundedIntTextModel",
      "state": {
       "layout": "IPY_MODEL_ec91032e969d4581902986f1db5f8b88",
       "style": "IPY_MODEL_0d109977b949412b9b888152a44533b6",
       "value": 8
      }
     },
     "645796c8988d4f1898c58c00c66c7bbe": {
      "model_module": "@jupyter-widgets/controls",
      "model_module_version": "1.5.0",
      "model_name": "DescriptionStyleModel",
      "state": {
       "description_width": ""
      }
     },
     "645883f1a6684a84bf93862fd24c9229": {
      "model_module": "@jupyter-widgets/controls",
      "model_module_version": "1.5.0",
      "model_name": "HBoxModel",
      "state": {
       "children": [
        "IPY_MODEL_8c3f7cae783a46da88c8f1807d1bb697",
        "IPY_MODEL_8df5dc1d5bb84edd86f63df6b9710629"
       ],
       "layout": "IPY_MODEL_5e99fb15a22e480d9d7fbea5c0c5f6f3"
      }
     },
     "648992f95666458bbdd1ded6c4c33cb5": {
      "model_module": "@jupyter-widgets/controls",
      "model_module_version": "1.5.0",
      "model_name": "HTMLModel",
      "state": {
       "layout": "IPY_MODEL_d02d5460d4744712879d9d875c240a9f",
       "style": "IPY_MODEL_919d54538a0143cabac62c3fab9bdf6a",
       "value": "L2_regularzation:"
      }
     },
     "64a0fba041fe4744a0eba6c9d4c3aa8b": {
      "model_module": "@jupyter-widgets/base",
      "model_module_version": "1.2.0",
      "model_name": "LayoutModel",
      "state": {}
     },
     "64b08601b6a148e7a971878185b5a7c1": {
      "model_module": "@jupyter-widgets/controls",
      "model_module_version": "1.5.0",
      "model_name": "DescriptionStyleModel",
      "state": {
       "description_width": "initial"
      }
     },
     "64b7f4166eb14536b6146da1fdb74946": {
      "model_module": "@jupyter-widgets/controls",
      "model_module_version": "1.5.0",
      "model_name": "DescriptionStyleModel",
      "state": {
       "description_width": ""
      }
     },
     "64c308fa44924ae1a1845bf3c958ea5f": {
      "model_module": "@jupyter-widgets/base",
      "model_module_version": "1.2.0",
      "model_name": "LayoutModel",
      "state": {}
     },
     "64dae107bbbd438785cbd28e98c96068": {
      "model_module": "@jupyter-widgets/controls",
      "model_module_version": "1.5.0",
      "model_name": "DescriptionStyleModel",
      "state": {
       "description_width": "initial"
      }
     },
     "64e982a29f0a479399fe617cd56b4719": {
      "model_module": "@jupyter-widgets/base",
      "model_module_version": "1.2.0",
      "model_name": "LayoutModel",
      "state": {}
     },
     "65235e62361b4291a632bf349ce4f901": {
      "model_module": "@jupyter-widgets/controls",
      "model_module_version": "1.5.0",
      "model_name": "DescriptionStyleModel",
      "state": {
       "description_width": ""
      }
     },
     "65331ead810445578cbf900bebc3c60d": {
      "model_module": "@jupyter-widgets/controls",
      "model_module_version": "1.5.0",
      "model_name": "VBoxModel",
      "state": {
       "_dom_classes": [
        "card"
       ],
       "children": [
        "IPY_MODEL_5a36444050d7433b9a14ddc9958d6ee2",
        "IPY_MODEL_0fe026ff9b5043ddb8ecc8e3b62a532a",
        "IPY_MODEL_58b880d5b51e4ed088d5f2cf0700e67d",
        "IPY_MODEL_3930a567b0744a71aea97c74fd9236b9",
        "IPY_MODEL_7ce2f1f1fab44f7e8a118f3e99dc98af",
        "IPY_MODEL_4413257746aa4d8785a3440a9688a13a",
        "IPY_MODEL_4816f465f5ad4b8aa12afd41dac9b6a1",
        "IPY_MODEL_20aafbfd2a83481aa0e1bf51856dd834",
        "IPY_MODEL_ac4e5c372e5142ac884223fbaff1ee26",
        "IPY_MODEL_0070e501622342bbb2be65f62e9f77e4",
        "IPY_MODEL_85861d154232438b84c2ffa5ca509f62",
        "IPY_MODEL_09991c3ba27c4634b5545d89addb1bb0"
       ],
       "layout": "IPY_MODEL_bbf6804fd66941b1b3eeeba97d8cf5b7"
      }
     },
     "655156fffaa74a2dafd80067e7de1d64": {
      "model_module": "@jupyter-widgets/controls",
      "model_module_version": "1.5.0",
      "model_name": "VBoxModel",
      "state": {
       "children": [
        "IPY_MODEL_ab12782f2d9e44119365136641c0526f",
        "IPY_MODEL_0ce53b5fbbc847388b1a4e19e9c12ac4"
       ],
       "layout": "IPY_MODEL_af2e6ba07b9841eab311e403de9dc4cb"
      }
     },
     "6561ad26bfee4adf84633dadcf7266f9": {
      "model_module": "@jupyter-widgets/controls",
      "model_module_version": "1.5.0",
      "model_name": "BoundedIntTextModel",
      "state": {
       "layout": "IPY_MODEL_de88889f1f2345cb94187cdbe33c42af",
       "max": 1000,
       "style": "IPY_MODEL_7915c545cdc44a28af321f46d5a0c8f1",
       "value": 32
      }
     },
     "6564dc8709f14ad995f1ce6054aa5b99": {
      "model_module": "@jupyter-widgets/controls",
      "model_module_version": "1.5.0",
      "model_name": "DescriptionStyleModel",
      "state": {
       "description_width": "initial"
      }
     },
     "6569c31e87d6402ab63d52ea9386b1c6": {
      "model_module": "@jupyter-widgets/base",
      "model_module_version": "1.2.0",
      "model_name": "LayoutModel",
      "state": {
       "width": "65%"
      }
     },
     "656ed276bf654dca9b339a944cc1683a": {
      "model_module": "@jupyter-widgets/controls",
      "model_module_version": "1.5.0",
      "model_name": "DescriptionStyleModel",
      "state": {
       "description_width": ""
      }
     },
     "65b67daa58ea41029de578ba735d391d": {
      "model_module": "@jupyter-widgets/base",
      "model_module_version": "1.2.0",
      "model_name": "LayoutModel",
      "state": {}
     },
     "65c46721823e44dda27ba15044fda30c": {
      "model_module": "@jupyter-widgets/base",
      "model_module_version": "1.2.0",
      "model_name": "LayoutModel",
      "state": {
       "width": "20%"
      }
     },
     "65d7f019ea74442a9b566fd0f9883ae3": {
      "model_module": "@jupyter-widgets/controls",
      "model_module_version": "1.5.0",
      "model_name": "DescriptionStyleModel",
      "state": {
       "description_width": "initial"
      }
     },
     "65f8d27f9cf343ca8b89ce62d9af545b": {
      "model_module": "@jupyter-widgets/controls",
      "model_module_version": "1.5.0",
      "model_name": "HTMLModel",
      "state": {
       "layout": "IPY_MODEL_93d4a5be37324bfcb2020ca4627d1998",
       "style": "IPY_MODEL_f379a6216bfb44219b3393e7c2080d5b",
       "value": "Max_epochs:"
      }
     },
     "660586986fae46e5ba5621eba4900939": {
      "model_module": "@jupyter-widgets/base",
      "model_module_version": "1.2.0",
      "model_name": "LayoutModel",
      "state": {}
     },
     "661ad70eabcc470dbb69c8f90a6b37bd": {
      "model_module": "@jupyter-widgets/base",
      "model_module_version": "1.2.0",
      "model_name": "LayoutModel",
      "state": {}
     },
     "663f1359e459426bacf39b40a1214a52": {
      "model_module": "@jupyter-widgets/base",
      "model_module_version": "1.2.0",
      "model_name": "LayoutModel",
      "state": {}
     },
     "663fad6cdcc84665b6895cee1d4febe8": {
      "model_module": "@jupyter-widgets/controls",
      "model_module_version": "1.5.0",
      "model_name": "DescriptionStyleModel",
      "state": {
       "description_width": ""
      }
     },
     "664857e8e55c4dddb1a7158fa22d60bf": {
      "model_module": "@jupyter-widgets/controls",
      "model_module_version": "1.5.0",
      "model_name": "HTMLModel",
      "state": {
       "layout": "IPY_MODEL_e62ffc9a481844ee900df6b10e999494",
       "style": "IPY_MODEL_17cf9c0e0f5e4c849fffc5dfffac9a4e",
       "value": "<p class=\"notification info\">Excluded attribute \"Minority\"</p>"
      }
     },
     "666a318aded54c56b989017d1eefbfdd": {
      "model_module": "@jupyter-widgets/base",
      "model_module_version": "1.2.0",
      "model_name": "LayoutModel",
      "state": {
       "width": "99%"
      }
     },
     "666bf1262eac4f0f96ba76b06005aef5": {
      "model_module": "@jupyter-widgets/controls",
      "model_module_version": "1.5.0",
      "model_name": "HTMLModel",
      "state": {
       "layout": "IPY_MODEL_8220d433d24b4679ba144cccba260f8c",
       "style": "IPY_MODEL_6c1ea83f67fc4b3caaf59526cd920ce9",
       "value": "<div style='margin-right: 2px'></div>"
      }
     },
     "668d5b95af2a4706b64e1cc58704d515": {
      "model_module": "@jupyter-widgets/base",
      "model_module_version": "1.2.0",
      "model_name": "LayoutModel",
      "state": {}
     },
     "668fe21e971c4161906e5c9f9b4a8e97": {
      "model_module": "@jupyter-widgets/base",
      "model_module_version": "1.2.0",
      "model_name": "LayoutModel",
      "state": {}
     },
     "669fb09086b444819a40c54e077b364b": {
      "model_module": "@jupyter-widgets/controls",
      "model_module_version": "1.5.0",
      "model_name": "DescriptionStyleModel",
      "state": {
       "description_width": ""
      }
     },
     "66bf1e54a9734cb9b217feb6b98c2116": {
      "model_module": "@jupyter-widgets/base",
      "model_module_version": "1.2.0",
      "model_name": "LayoutModel",
      "state": {
       "width": "2px"
      }
     },
     "66eca80fe7a04c838c91a42bc6d67c22": {
      "model_module": "@jupyter-widgets/base",
      "model_module_version": "1.2.0",
      "model_name": "LayoutModel",
      "state": {
       "width": "40%"
      }
     },
     "66f197c93356454998dd2d825d58903b": {
      "model_module": "@jupyter-widgets/controls",
      "model_module_version": "1.5.0",
      "model_name": "DescriptionStyleModel",
      "state": {
       "description_width": ""
      }
     },
     "66fb8f30da02443291c2bb91fe317fc3": {
      "model_module": "@jupyter-widgets/controls",
      "model_module_version": "1.5.0",
      "model_name": "ButtonModel",
      "state": {
       "_dom_classes": [
        "pbtn"
       ],
       "button_style": "danger",
       "icon": "cog",
       "layout": "IPY_MODEL_6178314afde0415c9308ce520f185b3c",
       "style": "IPY_MODEL_df21af2906f44114ada6cd68312f5867"
      }
     },
     "67430ae395de40f28aeca6235ab79e1d": {
      "model_module": "@jupyter-widgets/controls",
      "model_module_version": "1.5.0",
      "model_name": "BoundedIntTextModel",
      "state": {
       "layout": "IPY_MODEL_99dd4a7279004d6b940653af88c13634",
       "style": "IPY_MODEL_3db7193f428543d68806dfa437d72be1"
      }
     },
     "67668fe2677f4a85817430d8e8a74a5b": {
      "model_module": "@jupyter-widgets/controls",
      "model_module_version": "1.5.0",
      "model_name": "HTMLModel",
      "state": {
       "layout": "IPY_MODEL_204326dbfa1845f99e15aa98c40581f0",
       "style": "IPY_MODEL_121695a24d374d1a8f225092a59b46ad",
       "value": "\n        <table class='ptable striped'>\n            <thead class='pthead'>\n                <tr class='ptr'>\n                    <th class='pth'></th><th class='pth'>name</th><th class='pth'>n_missing</th><th class='pth'>n_unique</th><th class='pth'>top1</th><th class='pth'>top2</th><th class='pth'>top3</th><th class='pth'>n_others</th>\n                </tr>\n            </thead>\n\n            <tbody class='ptbody'>\n                <tr class='ptr'><td class='ptd'>0</td><td class='ptd'>Segment</td><td class='ptd'>0</td><td class='ptd'>15</td><td class='ptd'>Segment 13 : 15000</td><td class='ptd'>Segment 6 : 10000</td><td class='ptd'>Segment 12 : 10000</td><td class='ptd'>28240</td></tr><tr class='ptr'><td class='ptd'>1</td><td class='ptd'>Label</td><td class='ptd'>0</td><td class='ptd'>2</td><td class='ptd'>0.0 : 48714</td><td class='ptd'>1.0 : 14526</td><td class='ptd'>0</td><td class='ptd'>0</td></tr><tr class='ptr'><td class='ptd'>2</td><td class='ptd'>Age >= 62</td><td class='ptd'>0</td><td class='ptd'>2</td><td class='ptd'>0.0 : 31823</td><td class='ptd'>1.0 : 31417</td><td class='ptd'>0</td><td class='ptd'>0</td></tr><tr class='ptr'><td class='ptd'>3</td><td class='ptd'>Age < 62</td><td class='ptd'>0</td><td class='ptd'>2</td><td class='ptd'>1.0 : 31823</td><td class='ptd'>0.0 : 31417</td><td class='ptd'>0</td><td class='ptd'>0</td></tr>\n            </tbody>\n        </table>\n        "
      }
     },
     "67844e14c8af417a8e6aae50166aa3c3": {
      "model_module": "@jupyter-widgets/controls",
      "model_module_version": "1.5.0",
      "model_name": "DescriptionStyleModel",
      "state": {
       "description_width": ""
      }
     },
     "67a969fb11854d0e88a63fa34d779945": {
      "model_module": "@jupyter-widgets/controls",
      "model_module_version": "1.5.0",
      "model_name": "DescriptionStyleModel",
      "state": {
       "description_width": ""
      }
     },
     "67d7c52fe6e7425f97a057a366ccf49c": {
      "model_module": "@jupyter-widgets/controls",
      "model_module_version": "1.5.0",
      "model_name": "DescriptionStyleModel",
      "state": {
       "description_width": ""
      }
     },
     "67de14d7f51742878dfa199d26371147": {
      "model_module": "@jupyter-widgets/base",
      "model_module_version": "1.2.0",
      "model_name": "LayoutModel",
      "state": {
       "width": "100%"
      }
     },
     "67e2a72182824288affd0f10d892d28f": {
      "model_module": "@jupyter-widgets/controls",
      "model_module_version": "1.5.0",
      "model_name": "BoxModel",
      "state": {
       "children": [
        "IPY_MODEL_c1161482e5f84f1d89712b674470c8a2"
       ],
       "layout": "IPY_MODEL_f6bc513240714f428455b8e2fe13b645"
      }
     },
     "680e1e264614412ea83fe7cdb4aee184": {
      "model_module": "@jupyter-widgets/controls",
      "model_module_version": "1.5.0",
      "model_name": "TextModel",
      "state": {
       "layout": "IPY_MODEL_0052ca845c29495a930446a0a557905e",
       "placeholder": "",
       "style": "IPY_MODEL_7e9faa69c0a74f129b1a01c493884a87",
       "value": "[40,40]"
      }
     },
     "68160e24f7be4a79bff4faca4f72c134": {
      "model_module": "@jupyter-widgets/output",
      "model_module_version": "1.0.0",
      "model_name": "OutputModel",
      "state": {
       "layout": "IPY_MODEL_8cff33ae624d4b5e8c78cfd1452e9845"
      }
     },
     "68162aca7c9e4d999bcd87eca04e927d": {
      "model_module": "@jupyter-widgets/controls",
      "model_module_version": "1.5.0",
      "model_name": "DescriptionStyleModel",
      "state": {
       "description_width": ""
      }
     },
     "686253883e1c47929579a86ef4f80b5c": {
      "model_module": "@jupyter-widgets/base",
      "model_module_version": "1.2.0",
      "model_name": "LayoutModel",
      "state": {
       "width": "20%"
      }
     },
     "6868e754275642d9814d355192f19a00": {
      "model_module": "@jupyter-widgets/base",
      "model_module_version": "1.2.0",
      "model_name": "LayoutModel",
      "state": {}
     },
     "686eaafe9d7243b48e78b9c16ada973b": {
      "model_module": "@jupyter-widgets/controls",
      "model_module_version": "1.5.0",
      "model_name": "BoundedFloatTextModel",
      "state": {
       "layout": "IPY_MODEL_dcd54fff3c5b488b8df8cf6cc340d519",
       "step": null,
       "style": "IPY_MODEL_5840ca727b4c4a98832ccd71638055ee"
      }
     },
     "687219efa7744a1da75d6018ce53b185": {
      "model_module": "@jupyter-widgets/controls",
      "model_module_version": "1.5.0",
      "model_name": "HBoxModel",
      "state": {
       "children": [
        "IPY_MODEL_67e2a72182824288affd0f10d892d28f",
        "IPY_MODEL_838342c3fcb24fe3b5218e3af1b02df0"
       ],
       "layout": "IPY_MODEL_c39d24fab8fd48799c26aa1a82df8ef8"
      }
     },
     "68a05684258a4bedbfe6c178c65e9e3f": {
      "model_module": "@jupyter-widgets/base",
      "model_module_version": "1.2.0",
      "model_name": "LayoutModel",
      "state": {}
     },
     "68bb7ff6aebf4f73b3d6f66b7650b66b": {
      "model_module": "@jupyter-widgets/controls",
      "model_module_version": "1.5.0",
      "model_name": "BoxModel",
      "state": {
       "children": [
        "IPY_MODEL_4d7acc1f65ed47e7b0fad0dd956691d7",
        "IPY_MODEL_c9ab7273796a4b06b3901a06c15d0cec",
        "IPY_MODEL_230829298947453994decf51acef1370"
       ],
       "layout": "IPY_MODEL_f055edfa58034dfda8607932cd893ee1"
      }
     },
     "68bbb4d9cb634182871cfcc716a9b71d": {
      "model_module": "@jupyter-widgets/controls",
      "model_module_version": "1.5.0",
      "model_name": "DescriptionStyleModel",
      "state": {
       "description_width": "initial"
      }
     },
     "68f52563532546c1a0464e27533c3a2d": {
      "model_module": "@jupyter-widgets/base",
      "model_module_version": "1.2.0",
      "model_name": "LayoutModel",
      "state": {}
     },
     "6907cb36553b40c7ba6c043953170083": {
      "model_module": "@jupyter-widgets/base",
      "model_module_version": "1.2.0",
      "model_name": "LayoutModel",
      "state": {}
     },
     "69193aae638443ad8ceb98e02e7d1aef": {
      "model_module": "@jupyter-widgets/base",
      "model_module_version": "1.2.0",
      "model_name": "LayoutModel",
      "state": {
       "width": "auto"
      }
     },
     "6932f20c9c394781abd48c70b71fd95f": {
      "model_module": "@jupyter-widgets/controls",
      "model_module_version": "1.5.0",
      "model_name": "DescriptionStyleModel",
      "state": {
       "description_width": ""
      }
     },
     "694773703ef34ee88d93e3ae49d394f4": {
      "model_module": "@jupyter-widgets/controls",
      "model_module_version": "1.5.0",
      "model_name": "FloatRangeSliderModel",
      "state": {
       "_model_name": "FloatRangeSliderModel",
       "_view_name": "FloatRangeSliderView",
       "layout": "IPY_MODEL_58b83de736074aa7ad3954a48262201e",
       "readout": false,
       "step": 0.1,
       "style": "IPY_MODEL_e3513ae6c5204a9db43dee2eeb41e297",
       "value": [
        25,
        75
       ]
      }
     },
     "695f8b92756b427e9b0b5dc6d6b40043": {
      "model_module": "@jupyter-widgets/controls",
      "model_module_version": "1.5.0",
      "model_name": "HTMLModel",
      "state": {
       "layout": "IPY_MODEL_0cb178e02b524bfdb05231ebc5aeba6d",
       "style": "IPY_MODEL_23cc55c5a5d14f139c8ebbb4d2462dd2",
       "value": "\n        <table class='ptable striped'>\n            <thead class='pthead'>\n                <tr class='ptr'>\n                    <th class='pth'></th><th class='pth'>name</th><th class='pth'>n_missing</th><th class='pth'>mean</th><th class='pth'>std</th><th class='pth'>min</th><th class='pth'>q1</th><th class='pth'>median</th><th class='pth'>q3</th><th class='pth'>max</th>\n                </tr>\n            </thead>\n\n            <tbody class='ptbody'>\n                <tr class='ptr'><td class='ptd'>0</td><td class='ptd'>x1</td><td class='ptd'>0.0</td><td class='ptd'>-0.010468</td><td class='ptd'>1.00554</td><td class='ptd'>-4.111457</td><td class='ptd'>-0.687572</td><td class='ptd'>-0.016001</td><td class='ptd'>0.661917</td><td class='ptd'>3.723496</td></tr><tr class='ptr'><td class='ptd'>1</td><td class='ptd'>x2</td><td class='ptd'>0.0</td><td class='ptd'>0.003769</td><td class='ptd'>0.998657</td><td class='ptd'>-4.441389</td><td class='ptd'>-0.661684</td><td class='ptd'>0.009965</td><td class='ptd'>0.678074</td><td class='ptd'>4.547531</td></tr><tr class='ptr'><td class='ptd'>2</td><td class='ptd'>x3</td><td class='ptd'>0.0</td><td class='ptd'>-0.027052</td><td class='ptd'>0.996581</td><td class='ptd'>-4.040587</td><td class='ptd'>-0.699355</td><td class='ptd'>-0.026371</td><td class='ptd'>0.64237</td><td class='ptd'>4.308687</td></tr><tr class='ptr'><td class='ptd'>3</td><td class='ptd'>x4</td><td class='ptd'>0.0</td><td class='ptd'>0.00803</td><td class='ptd'>0.99497</td><td class='ptd'>-4.491451</td><td class='ptd'>-0.659107</td><td class='ptd'>0.004833</td><td class='ptd'>0.680002</td><td class='ptd'>3.864044</td></tr><tr class='ptr'><td class='ptd'>4</td><td class='ptd'>x5</td><td class='ptd'>0.0</td><td class='ptd'>-0.001039</td><td class='ptd'>0.9876</td><td class='ptd'>-3.990077</td><td class='ptd'>-0.663987</td><td class='ptd'>0.000662</td><td class='ptd'>0.659662</td><td class='ptd'>4.093057</td></tr><tr class='ptr grey'><td class='ptd'>5</td><td class='ptd'>Minority</td><td class='ptd'>0.0</td><td class='ptd'>0.271599</td><td class='ptd'>0.268342</td><td class='ptd'>3e-06</td><td class='ptd'>0.056888</td><td class='ptd'>0.170139</td><td class='ptd'>0.419018</td><td class='ptd'>0.99998</td></tr><tr class='ptr grey'><td class='ptd'>6</td><td class='ptd'>Majority</td><td class='ptd'>0.0</td><td class='ptd'>0.728401</td><td class='ptd'>0.268342</td><td class='ptd'>2e-05</td><td class='ptd'>0.580982</td><td class='ptd'>0.829861</td><td class='ptd'>0.943112</td><td class='ptd'>0.999997</td></tr>\n            </tbody>\n        </table>\n        "
      }
     },
     "697f6b7958774c64adb9cc3856e6e299": {
      "model_module": "@jupyter-widgets/controls",
      "model_module_version": "1.5.0",
      "model_name": "HTMLModel",
      "state": {
       "layout": "IPY_MODEL_1470a99e85514c3b937fcc3113e29875",
       "style": "IPY_MODEL_4a72d24f5b1b470390fbc256ca3ab97f",
       "value": "Learning_rate:"
      }
     },
     "69b38cfbd70d44fc9fd460e33fb2bcf5": {
      "model_module": "@jupyter-widgets/controls",
      "model_module_version": "1.5.0",
      "model_name": "HTMLModel",
      "state": {
       "layout": "IPY_MODEL_d6d6a952cf07498da1529ebe17344c35",
       "style": "IPY_MODEL_8d0bd4fc53d84845bfbb7a67558e33bf",
       "value": "Smoothness:"
      }
     },
     "69de08b886b9478ca4ac47ce3653a801": {
      "model_module": "@jupyter-widgets/controls",
      "model_module_version": "1.5.0",
      "model_name": "HTMLModel",
      "state": {
       "layout": "IPY_MODEL_8689fb24973a4091ac7000bfd4bddb9d",
       "style": "IPY_MODEL_51dcf99144f042c49a009c75afb32056",
       "value": "Max_bins:"
      }
     },
     "69e1e8d509274850823f31faa18985fa": {
      "model_module": "@jupyter-widgets/controls",
      "model_module_version": "1.5.0",
      "model_name": "DescriptionStyleModel",
      "state": {
       "description_width": ""
      }
     },
     "69e42e42868740179053dc345c60350d": {
      "model_module": "@jupyter-widgets/controls",
      "model_module_version": "1.5.0",
      "model_name": "HTMLModel",
      "state": {
       "layout": "IPY_MODEL_c409e9c86b064781bdab7f542bf36459",
       "style": "IPY_MODEL_3540fd636780434f905156342dd563bc",
       "value": "Model name:"
      }
     },
     "6aa513493cd7460d85dc73156c16a5d8": {
      "model_module": "@jupyter-widgets/base",
      "model_module_version": "1.2.0",
      "model_name": "LayoutModel",
      "state": {
       "width": "20%"
      }
     },
     "6aaadeaeb3a141bf948c181f2e1bdca9": {
      "model_module": "@jupyter-widgets/controls",
      "model_module_version": "1.5.0",
      "model_name": "DescriptionStyleModel",
      "state": {
       "description_width": ""
      }
     },
     "6af89fe42b1c4273bad4e4abcafa3808": {
      "model_module": "@jupyter-widgets/base",
      "model_module_version": "1.2.0",
      "model_name": "LayoutModel",
      "state": {
       "width": "20%"
      }
     },
     "6b3b9595df3f46c0ae00894250b93124": {
      "model_module": "@jupyter-widgets/controls",
      "model_module_version": "1.5.0",
      "model_name": "DescriptionStyleModel",
      "state": {
       "description_width": ""
      }
     },
     "6b849d1594954eeeb9c603ed71c74cf1": {
      "model_module": "@jupyter-widgets/controls",
      "model_module_version": "1.5.0",
      "model_name": "HBoxModel",
      "state": {
       "children": [
        "IPY_MODEL_0eb227c333374e288b043c0bbd20b4f7"
       ],
       "layout": "IPY_MODEL_adf74cb5a3ad41eabbc47bbdd9ff3a60"
      }
     },
     "6b953a21784f4731a4cb327a39726199": {
      "model_module": "@jupyter-widgets/controls",
      "model_module_version": "1.5.0",
      "model_name": "DescriptionStyleModel",
      "state": {
       "description_width": ""
      }
     },
     "6ba5daa8652b4968997be9902efeb91d": {
      "model_module": "@jupyter-widgets/controls",
      "model_module_version": "1.5.0",
      "model_name": "HTMLModel",
      "state": {
       "layout": "IPY_MODEL_6294c273758e4880bcf179237b1667a2",
       "style": "IPY_MODEL_82eb1054563642b492b8e9804091f40e",
       "value": "reg_lambda:"
      }
     },
     "6bb08e3f4498430ebd1d5228f0ad3bae": {
      "model_module": "@jupyter-widgets/controls",
      "model_module_version": "1.5.0",
      "model_name": "DescriptionStyleModel",
      "state": {
       "description_width": ""
      }
     },
     "6bd6a8af4f9a418b89480d0e579d213d": {
      "model_module": "@jupyter-widgets/controls",
      "model_module_version": "1.5.0",
      "model_name": "BoxModel",
      "state": {
       "_dom_classes": [
        "list"
       ],
       "children": [
        "IPY_MODEL_28b50928c906460e9a843efe04259bab",
        "IPY_MODEL_b102501a430748e68448062dbc4926d4",
        "IPY_MODEL_ae207c14caf54199bdd96cb2d43cbec6",
        "IPY_MODEL_f0a18f3f263449bfa3cf59e319f28f60",
        "IPY_MODEL_59259be948e84ccb8562dd27e5277461",
        "IPY_MODEL_1d3d52d2bbe34bec93f124b031245c7a",
        "IPY_MODEL_1e880502f6204920a83be6567dcddac1",
        "IPY_MODEL_a0bcad2427d24b5588e3f7870a4b5f65"
       ],
       "layout": "IPY_MODEL_e3d112812d004d2883fb65cd7d9abd35"
      }
     },
     "6bfc4ac031074585811fbc41ec81c182": {
      "model_module": "@jupyter-widgets/controls",
      "model_module_version": "1.5.0",
      "model_name": "HBoxModel",
      "state": {
       "children": [
        "IPY_MODEL_380f1e7ed7324d519cd278ff0ccdc4a8",
        "IPY_MODEL_8101a2a902fe47929a9edc5a6939fe81"
       ],
       "layout": "IPY_MODEL_3368504d0bc34585914158b026a9cf80"
      }
     },
     "6c1ea83f67fc4b3caaf59526cd920ce9": {
      "model_module": "@jupyter-widgets/controls",
      "model_module_version": "1.5.0",
      "model_name": "DescriptionStyleModel",
      "state": {
       "description_width": ""
      }
     },
     "6c257e9db9484916bfe0ab3646ff0a9f": {
      "model_module": "@jupyter-widgets/controls",
      "model_module_version": "1.5.0",
      "model_name": "BoundedIntTextModel",
      "state": {
       "layout": "IPY_MODEL_314781ea753640319d6f79950befbeef",
       "min": 1,
       "style": "IPY_MODEL_486a3dc6815a4bcba041f938bd090cb8",
       "value": 5
      }
     },
     "6c3950407afc40508e0ab1ca56306cbd": {
      "model_module": "@jupyter-widgets/base",
      "model_module_version": "1.2.0",
      "model_name": "LayoutModel",
      "state": {
       "height": "30%",
       "width": "auto"
      }
     },
     "6c6200482d5b4226ac3e7a9cb9e7ad20": {
      "model_module": "@jupyter-widgets/base",
      "model_module_version": "1.2.0",
      "model_name": "LayoutModel",
      "state": {
       "width": "auto"
      }
     },
     "6c67a03e858d4e8e9c9e899cb2b30dea": {
      "model_module": "@jupyter-widgets/base",
      "model_module_version": "1.2.0",
      "model_name": "LayoutModel",
      "state": {
       "width": "auto"
      }
     },
     "6c73135d29c6447aa21cdcd90d1ac42d": {
      "model_module": "@jupyter-widgets/controls",
      "model_module_version": "1.5.0",
      "model_name": "DescriptionStyleModel",
      "state": {
       "description_width": ""
      }
     },
     "6c741f7be6a54419ad2ff6d551af395e": {
      "model_module": "@jupyter-widgets/base",
      "model_module_version": "1.2.0",
      "model_name": "LayoutModel",
      "state": {
       "width": "40%"
      }
     },
     "6c76f31594ba4e6b94f7d678e858dd2a": {
      "model_module": "@jupyter-widgets/base",
      "model_module_version": "1.2.0",
      "model_name": "LayoutModel",
      "state": {
       "width": "auto"
      }
     },
     "6c80682b5a284ec99eba02b177acd925": {
      "model_module": "@jupyter-widgets/controls",
      "model_module_version": "1.5.0",
      "model_name": "HTMLModel",
      "state": {
       "layout": "IPY_MODEL_ef8946fa0d344ba1bb476603233a0acc",
       "style": "IPY_MODEL_34e3a6c31eb24cd7924291e9664c66f8",
       "value": "gamma:"
      }
     },
     "6c9108a635804d448894b63ed61af8d2": {
      "model_module": "@jupyter-widgets/controls",
      "model_module_version": "1.5.0",
      "model_name": "VBoxModel",
      "state": {
       "children": [
        "IPY_MODEL_0439f134eba147b2bae7624b02ab52a8"
       ],
       "layout": "IPY_MODEL_4fc63efc2db84187b32d6735b2ec2c42"
      }
     },
     "6ca328a2ac1f43e289c1027468487bdc": {
      "model_module": "@jupyter-widgets/controls",
      "model_module_version": "1.5.0",
      "model_name": "HTMLModel",
      "state": {
       "layout": "IPY_MODEL_af5356c3f0984ec3a326bbd28ca61a7a",
       "style": "IPY_MODEL_f497a726f1d941b4bd30ad150015bc41",
       "value": "Layer_sizes:"
      }
     },
     "6ccc3abc748f4212abbaadccd3585471": {
      "model_module": "@jupyter-widgets/controls",
      "model_module_version": "1.5.0",
      "model_name": "DescriptionStyleModel",
      "state": {
       "description_width": "initial"
      }
     },
     "6ceefda3d26349b495813f5410448136": {
      "model_module": "@jupyter-widgets/controls",
      "model_module_version": "1.5.0",
      "model_name": "DescriptionStyleModel",
      "state": {
       "description_width": ""
      }
     },
     "6d1dfd1a2eac4bf99526d6752e579134": {
      "model_module": "@jupyter-widgets/controls",
      "model_module_version": "1.5.0",
      "model_name": "VBoxModel",
      "state": {
       "_dom_classes": [
        "card"
       ],
       "children": [
        "IPY_MODEL_93b344d5b269461d8eb46a3d2f8fa31a",
        "IPY_MODEL_74ed1be17a7546cba5d4614cd5676a3b",
        "IPY_MODEL_f67c23c22e2448adb396bb9fd03d129c",
        "IPY_MODEL_3607499193704248946aac6350fe1056",
        "IPY_MODEL_f85e7b6858094a519b8950d126432ff8",
        "IPY_MODEL_93119c021ce14a3d9b5a1cb725754085",
        "IPY_MODEL_da7653f0ff60408facea36b650a6e251",
        "IPY_MODEL_363a60703a3b477bb152cbee99b1e81f",
        "IPY_MODEL_2873bc00488e473fa22b541ee917783b",
        "IPY_MODEL_9e720de39ca64cda9f14bd9d5da46a97",
        "IPY_MODEL_d5c732cf7fa7481893b1d2a925385491",
        "IPY_MODEL_22ca6288c9194d5a94e35426cc1930fc"
       ],
       "layout": "IPY_MODEL_43a8a306db594e2d88d9c5d50268a767"
      }
     },
     "6d43e66a8def42f2a004ed8b906d6dbb": {
      "model_module": "@jupyter-widgets/controls",
      "model_module_version": "1.5.0",
      "model_name": "VBoxModel",
      "state": {
       "children": [
        "IPY_MODEL_3dbec867e862452da86cfc3b754a4b19",
        "IPY_MODEL_88805e48805c4b1da6bac243c4a19c54",
        "IPY_MODEL_626b0e67d499401093fd50195d35d561"
       ],
       "layout": "IPY_MODEL_3eee9d09b55949ad8752d5768f25e905"
      }
     },
     "6d93e078784140b68de459ee593da07e": {
      "model_module": "@jupyter-widgets/controls",
      "model_module_version": "1.5.0",
      "model_name": "CheckboxModel",
      "state": {
       "description": "ReLU-DNN",
       "disabled": false,
       "indent": false,
       "layout": "IPY_MODEL_67de14d7f51742878dfa199d26371147",
       "style": "IPY_MODEL_f3714970e260437d925a114699c50a42",
       "value": false
      }
     },
     "6da47ea2749f49db9f3108415ef5da23": {
      "model_module": "@jupyter-widgets/controls",
      "model_module_version": "1.5.0",
      "model_name": "DescriptionStyleModel",
      "state": {
       "description_width": ""
      }
     },
     "6dc803c6622a49d9a24588e8ccdefd6f": {
      "model_module": "@jupyter-widgets/base",
      "model_module_version": "1.2.0",
      "model_name": "LayoutModel",
      "state": {}
     },
     "6dd7338acf764873b5ea3afbe4c842ba": {
      "model_module": "@jupyter-widgets/controls",
      "model_module_version": "1.5.0",
      "model_name": "ButtonStyleModel",
      "state": {}
     },
     "6e9c999a7e2a473988661e2bb017285c": {
      "model_module": "@jupyter-widgets/controls",
      "model_module_version": "1.5.0",
      "model_name": "DescriptionStyleModel",
      "state": {
       "description_width": ""
      }
     },
     "6ea16cb81c3d46fc8738ce27e6698afe": {
      "model_module": "@jupyter-widgets/controls",
      "model_module_version": "1.5.0",
      "model_name": "HTMLModel",
      "state": {
       "layout": "IPY_MODEL_8e2d584b2d43463889b2e2aa40725bac",
       "style": "IPY_MODEL_946ab92b7e09432e95c3452ce1757d16",
       "value": "<p>Test Ratio:</p>"
      }
     },
     "6ee00140dce042b18d824ac617a68a6c": {
      "model_module": "@jupyter-widgets/controls",
      "model_module_version": "1.5.0",
      "model_name": "HBoxModel",
      "state": {
       "children": [
        "IPY_MODEL_942187dd0f454c21b69a011ef7e92cba",
        "IPY_MODEL_0a194e8b2efe4b4798585b3b42279612",
        "IPY_MODEL_7ff941407e3b47f9b51d1cf0c9d672f4"
       ],
       "layout": "IPY_MODEL_f500f3e9bf2b4ae6925f83611b0835d6"
      }
     },
     "6eef8e2042a94a3c8b8a0ab27c44c718": {
      "model_module": "@jupyter-widgets/base",
      "model_module_version": "1.2.0",
      "model_name": "LayoutModel",
      "state": {
       "width": "20%"
      }
     },
     "6ef20364541c4641a82395cd8e2f8e99": {
      "model_module": "@jupyter-widgets/controls",
      "model_module_version": "1.5.0",
      "model_name": "DescriptionStyleModel",
      "state": {
       "description_width": ""
      }
     },
     "6f01044dd4a34992bc28aa0428bd3cfb": {
      "model_module": "@jupyter-widgets/base",
      "model_module_version": "1.2.0",
      "model_name": "LayoutModel",
      "state": {}
     },
     "6f35729cfa8e45218239c61709381ae2": {
      "model_module": "@jupyter-widgets/base",
      "model_module_version": "1.2.0",
      "model_name": "LayoutModel",
      "state": {}
     },
     "6f3e1480fbd54897a1fca4f7cde936a7": {
      "model_module": "@jupyter-widgets/base",
      "model_module_version": "1.2.0",
      "model_name": "LayoutModel",
      "state": {
       "width": "20%"
      }
     },
     "6f6508ceaff343f1ac07047db38ced70": {
      "model_module": "@jupyter-widgets/controls",
      "model_module_version": "1.5.0",
      "model_name": "DescriptionStyleModel",
      "state": {
       "description_width": ""
      }
     },
     "6f6584665efb403e95565132550109a6": {
      "model_module": "@jupyter-widgets/controls",
      "model_module_version": "1.5.0",
      "model_name": "DescriptionStyleModel",
      "state": {
       "description_width": ""
      }
     },
     "6f65dbd81e0e4c92b64dbf44f8c8287a": {
      "model_module": "@jupyter-widgets/base",
      "model_module_version": "1.2.0",
      "model_name": "LayoutModel",
      "state": {}
     },
     "6fb184c39b86488c8f6570a63eac07b7": {
      "model_module": "@jupyter-widgets/controls",
      "model_module_version": "1.5.0",
      "model_name": "DescriptionStyleModel",
      "state": {
       "description_width": "initial"
      }
     },
     "701f3b18bbbf4967906a58ce18a46f2c": {
      "model_module": "@jupyter-widgets/controls",
      "model_module_version": "1.5.0",
      "model_name": "HBoxModel",
      "state": {
       "_dom_classes": [
        "list-item"
       ],
       "children": [
        "IPY_MODEL_05df4b465b5849e7bb675763ca9d8f12",
        "IPY_MODEL_5c830d47aa9d45fca868cf162e5bf3ae"
       ],
       "layout": "IPY_MODEL_d5cf5567b2044652b39932ae14ec7ff5"
      }
     },
     "7041178f92d74ac68fb4c3306bd2ec13": {
      "model_module": "@jupyter-widgets/controls",
      "model_module_version": "1.5.0",
      "model_name": "DescriptionStyleModel",
      "state": {
       "description_width": ""
      }
     },
     "705a4c7a6dbc457da2ea0a1b4fb04f41": {
      "model_module": "@jupyter-widgets/base",
      "model_module_version": "1.2.0",
      "model_name": "LayoutModel",
      "state": {
       "width": "auto"
      }
     },
     "70850a8e50ef4e26911f5fc8853478f6": {
      "model_module": "@jupyter-widgets/controls",
      "model_module_version": "1.5.0",
      "model_name": "ButtonModel",
      "state": {
       "_dom_classes": [
        "pbtn"
       ],
       "button_style": "danger",
       "description": "ADD",
       "layout": "IPY_MODEL_5d636dc284f5432a840575a167efbf55",
       "style": "IPY_MODEL_d2126388f2684e94ae14efb32ab332f3"
      }
     },
     "709a4da8778b4939a981eb2e1013797c": {
      "model_module": "@jupyter-widgets/base",
      "model_module_version": "1.2.0",
      "model_name": "LayoutModel",
      "state": {}
     },
     "70a8a4689a7f442cb6f01c931d63c204": {
      "model_module": "@jupyter-widgets/controls",
      "model_module_version": "1.5.0",
      "model_name": "DescriptionStyleModel",
      "state": {
       "description_width": ""
      }
     },
     "70eb0699cb7a48688602173f2e42a009": {
      "model_module": "@jupyter-widgets/controls",
      "model_module_version": "1.5.0",
      "model_name": "HTMLModel",
      "state": {
       "layout": "IPY_MODEL_17bb0cb859414b1a8392745cd9f07c50",
       "style": "IPY_MODEL_7eeb09b11ef24ffea74bf7b10d5d11c3",
       "value": "Model name:"
      }
     },
     "70ec14905a054d90903f36e84e85483d": {
      "model_module": "@jupyter-widgets/controls",
      "model_module_version": "1.5.0",
      "model_name": "DescriptionStyleModel",
      "state": {
       "description_width": ""
      }
     },
     "70f19014251e43e9a866fe4232b1159a": {
      "model_module": "@jupyter-widgets/controls",
      "model_module_version": "1.5.0",
      "model_name": "HBoxModel",
      "state": {
       "children": [
        "IPY_MODEL_48eee8806f134f69bc39a6266a795d9b",
        "IPY_MODEL_ec05c7bdb44f480db1e108be5876720a"
       ],
       "layout": "IPY_MODEL_f94681d37b734e339cca0758b86f8801"
      }
     },
     "70f940113c2b43a8aa2e918b2d86042b": {
      "model_module": "@jupyter-widgets/controls",
      "model_module_version": "1.5.0",
      "model_name": "DescriptionStyleModel",
      "state": {
       "description_width": ""
      }
     },
     "7111828526e1403e8a65075666fd8eae": {
      "model_module": "@jupyter-widgets/base",
      "model_module_version": "1.2.0",
      "model_name": "LayoutModel",
      "state": {}
     },
     "7144421d6dca4c20b36b2b9c5959407f": {
      "model_module": "@jupyter-widgets/base",
      "model_module_version": "1.2.0",
      "model_name": "LayoutModel",
      "state": {}
     },
     "714c8550f6924dd4ba8e60815db80c38": {
      "model_module": "@jupyter-widgets/controls",
      "model_module_version": "1.5.0",
      "model_name": "HTMLModel",
      "state": {
       "layout": "IPY_MODEL_40ffef3f36fd4f74a61f730907f732ef",
       "style": "IPY_MODEL_87ca185ae3c04da089d7bf6bfc232635",
       "value": "Subnet1_size:"
      }
     },
     "71525d0546f34f2f95ecd537a19429c7": {
      "model_module": "@jupyter-widgets/base",
      "model_module_version": "1.2.0",
      "model_name": "LayoutModel",
      "state": {}
     },
     "7183bddad2f14c96b69975ebc92c6a53": {
      "model_module": "@jupyter-widgets/controls",
      "model_module_version": "1.5.0",
      "model_name": "BoundedFloatTextModel",
      "state": {
       "layout": "IPY_MODEL_c8b2d4695483482380fedc8e3f653142",
       "max": 1,
       "step": null,
       "style": "IPY_MODEL_b3f8443910de4da085e5699df7d79470"
      }
     },
     "71b10bce1c804e96a7024457202884c4": {
      "model_module": "@jupyter-widgets/base",
      "model_module_version": "1.2.0",
      "model_name": "LayoutModel",
      "state": {}
     },
     "71b76db4bb284594ad01182404e7402a": {
      "model_module": "@jupyter-widgets/controls",
      "model_module_version": "1.5.0",
      "model_name": "DescriptionStyleModel",
      "state": {
       "description_width": ""
      }
     },
     "71b7f66d4dc042d08e416973b5856b05": {
      "model_module": "@jupyter-widgets/controls",
      "model_module_version": "1.5.0",
      "model_name": "TextModel",
      "state": {
       "layout": "IPY_MODEL_1f754e5ed30045a386c93d4ce0fbba34",
       "placeholder": "1,2... or \"f1\",\"f2\"...",
       "style": "IPY_MODEL_de78e1a6960f4674b81cd2c80d12352e"
      }
     },
     "71c5b9efc88a4ab882753a3b07b759ec": {
      "model_module": "@jupyter-widgets/base",
      "model_module_version": "1.2.0",
      "model_name": "LayoutModel",
      "state": {
       "width": "100%"
      }
     },
     "71d4091d8c284285a8e5ecf4c7adf66a": {
      "model_module": "@jupyter-widgets/base",
      "model_module_version": "1.2.0",
      "model_name": "LayoutModel",
      "state": {}
     },
     "72425365686b4e1d87a03c5c9dc55b29": {
      "model_module": "@jupyter-widgets/base",
      "model_module_version": "1.2.0",
      "model_name": "LayoutModel",
      "state": {
       "width": "auto"
      }
     },
     "72523520ae4b4922b619ec429e0c0bf7": {
      "model_module": "@jupyter-widgets/controls",
      "model_module_version": "1.5.0",
      "model_name": "HBoxModel",
      "state": {
       "children": [
        "IPY_MODEL_9bf66f9b093b41e8bb2f292f7960dbda",
        "IPY_MODEL_c39299ef28b84c44bb28157884292f07",
        "IPY_MODEL_383c27fe45ff44ff8ce79afa975c7e16",
        "IPY_MODEL_12d53c630cad499383b13a63fc9e7f61",
        "IPY_MODEL_bba739f103b343c2b98869e0ee6e5dad",
        "IPY_MODEL_ee9b47cb8a334acc9c57a71f6433f34f",
        "IPY_MODEL_9b64ddfe5c4f4f4390da42a14a2320bf"
       ],
       "layout": "IPY_MODEL_1e48c9f8b9b84fe4bd4c77aa42566ea8"
      }
     },
     "7257a522339141259ddb6ceec243bf51": {
      "model_module": "@jupyter-widgets/controls",
      "model_module_version": "1.5.0",
      "model_name": "TextModel",
      "state": {
       "layout": "IPY_MODEL_2a80bb7cbdd44eaea942bd608ec45f77",
       "placeholder": "Category Name",
       "style": "IPY_MODEL_3e583ec2a6174570b1bbc6f0383727ef"
      }
     },
     "726bac0d15fd4133adb8b4a96d90a0c1": {
      "model_module": "@jupyter-widgets/base",
      "model_module_version": "1.2.0",
      "model_name": "LayoutModel",
      "state": {
       "width": "auto"
      }
     },
     "72a6956d18ff4d8ea3738db2e20460d1": {
      "model_module": "@jupyter-widgets/controls",
      "model_module_version": "1.5.0",
      "model_name": "DescriptionStyleModel",
      "state": {
       "description_width": "initial"
      }
     },
     "72e68ff1a1804e6d800f07c2fd13c6ed": {
      "model_module": "@jupyter-widgets/controls",
      "model_module_version": "1.5.0",
      "model_name": "DescriptionStyleModel",
      "state": {
       "description_width": ""
      }
     },
     "73178d40e5a64dafa0424c4df55178d6": {
      "model_module": "@jupyter-widgets/controls",
      "model_module_version": "1.5.0",
      "model_name": "DescriptionStyleModel",
      "state": {
       "description_width": ""
      }
     },
     "73526fbeb33e47dea3d8fc4e9c55daef": {
      "model_module": "@jupyter-widgets/controls",
      "model_module_version": "1.5.0",
      "model_name": "DescriptionStyleModel",
      "state": {
       "description_width": ""
      }
     },
     "738e47e7f29a4e5e9939a674c8c1991f": {
      "model_module": "@jupyter-widgets/controls",
      "model_module_version": "1.5.0",
      "model_name": "DescriptionStyleModel",
      "state": {
       "description_width": ""
      }
     },
     "73db2e44dc1e49db8d9811df7f201c14": {
      "model_module": "@jupyter-widgets/controls",
      "model_module_version": "1.5.0",
      "model_name": "BoxModel",
      "state": {
       "_dom_classes": [
        "inner-card"
       ],
       "children": [
        "IPY_MODEL_fbe7196bc2b14f1eb3c4e07ac3b346c4",
        "IPY_MODEL_639e4679d60543eb81fabf7dc3465ddb",
        "IPY_MODEL_32251a8c32bd4ec0be67b9217f0421e0"
       ],
       "layout": "IPY_MODEL_0455bf60264d4ffdba8fe4892b98162a"
      }
     },
     "74303223f9c644448864131956752ef1": {
      "model_module": "@jupyter-widgets/controls",
      "model_module_version": "1.5.0",
      "model_name": "BoxModel",
      "state": {
       "children": [
        "IPY_MODEL_5b32459bd82f47ff93e631225f18b46d",
        "IPY_MODEL_6bd6a8af4f9a418b89480d0e579d213d",
        "IPY_MODEL_ee718607753047a682a03a9c0c80e488"
       ],
       "layout": "IPY_MODEL_a6bfe4eb71f64ac3a0268e99144a5a98"
      }
     },
     "7430f901cb3041d0ac298675420b08a4": {
      "model_module": "@jupyter-widgets/base",
      "model_module_version": "1.2.0",
      "model_name": "LayoutModel",
      "state": {
       "width": "auto"
      }
     },
     "7448bd0d43b346fd98cb545577e6cb45": {
      "model_module": "@jupyter-widgets/controls",
      "model_module_version": "1.5.0",
      "model_name": "VBoxModel",
      "state": {
       "children": [
        "IPY_MODEL_5a35d079acc2455b97003d3b65869f9c",
        "IPY_MODEL_2e7b022edc114d0e8df0dd69cf6bc5fa"
       ],
       "layout": "IPY_MODEL_5c0dcd56a76943d29c71df96a5283441"
      }
     },
     "7455692ef13c4fcbb62bb45c7a5ac96a": {
      "model_module": "@jupyter-widgets/controls",
      "model_module_version": "1.5.0",
      "model_name": "VBoxModel",
      "state": {
       "children": [
        "IPY_MODEL_a2dbffd04b8f460f857bb75d472ccc51",
        "IPY_MODEL_1f3f346f6fb6489bb87f0a3f55338345"
       ],
       "layout": "IPY_MODEL_e6bbde1abe144512945298be0284c241"
      }
     },
     "74aa2786b2b94657a074725887fcba73": {
      "model_module": "@jupyter-widgets/controls",
      "model_module_version": "1.5.0",
      "model_name": "DescriptionStyleModel",
      "state": {
       "description_width": "initial"
      }
     },
     "74ed1be17a7546cba5d4614cd5676a3b": {
      "model_module": "@jupyter-widgets/controls",
      "model_module_version": "1.5.0",
      "model_name": "HTMLModel",
      "state": {
       "layout": "IPY_MODEL_c576641dcdcb48958a727643126e57f2",
       "style": "IPY_MODEL_3a09ed1ce43c49f2b1da41ba4e0c99d6",
       "value": "<div style='margin-top: 20px'></div>"
      }
     },
     "754ba490d65d454cabfc2451442dc549": {
      "model_module": "@jupyter-widgets/output",
      "model_module_version": "1.0.0",
      "model_name": "OutputModel",
      "state": {
       "layout": "IPY_MODEL_510cf0ffdaaf40d19a20ac57e59d12db",
       "outputs": [
        {
         "data": {
          "application/vnd.jupyter.widget-view+json": {
           "model_id": "02cdfe809b37474098fa018235f50b79",
           "version_major": 2,
           "version_minor": 0
          },
          "text/plain": "Output()"
         },
         "metadata": {},
         "output_type": "display_data"
        },
        {
         "data": {
          "text/html": "<div>\n<style scoped>\n    .dataframe tbody tr th:only-of-type {\n        vertical-align: middle;\n    }\n\n    .dataframe tbody tr th {\n        vertical-align: top;\n    }\n\n    .dataframe thead th {\n        text-align: right;\n    }\n</style>\n<table border=\"1\" class=\"dataframe\">\n  <thead>\n    <tr style=\"text-align: right;\">\n      <th></th>\n      <th>Segment</th>\n      <th>x1</th>\n      <th>x2</th>\n      <th>x3</th>\n      <th>x4</th>\n      <th>x5</th>\n      <th>Label</th>\n      <th>Minority</th>\n      <th>Majority</th>\n      <th>Age &gt;= 62</th>\n      <th>Age &lt; 62</th>\n    </tr>\n  </thead>\n  <tbody>\n    <tr>\n      <th>0</th>\n      <td>Segment 1</td>\n      <td>-0.305859</td>\n      <td>-0.495321</td>\n      <td>1.195022</td>\n      <td>-0.476998</td>\n      <td>-0.711585</td>\n      <td>0.0</td>\n      <td>0.436392</td>\n      <td>0.563608</td>\n      <td>1.0</td>\n      <td>0.0</td>\n    </tr>\n    <tr>\n      <th>1</th>\n      <td>Segment 1</td>\n      <td>-0.58308</td>\n      <td>-0.280939</td>\n      <td>-0.927892</td>\n      <td>-0.534633</td>\n      <td>0.180388</td>\n      <td>0.0</td>\n      <td>0.025982</td>\n      <td>0.974018</td>\n      <td>1.0</td>\n      <td>0.0</td>\n    </tr>\n    <tr>\n      <th>2</th>\n      <td>Segment 1</td>\n      <td>-0.262612</td>\n      <td>0.075414</td>\n      <td>-0.499308</td>\n      <td>0.670432</td>\n      <td>-2.171268</td>\n      <td>0.0</td>\n      <td>0.159924</td>\n      <td>0.840076</td>\n      <td>0.0</td>\n      <td>1.0</td>\n    </tr>\n    <tr>\n      <th>3</th>\n      <td>Segment 1</td>\n      <td>0.734702</td>\n      <td>1.134868</td>\n      <td>0.884572</td>\n      <td>-1.552788</td>\n      <td>-0.408138</td>\n      <td>0.0</td>\n      <td>0.014626</td>\n      <td>0.985374</td>\n      <td>1.0</td>\n      <td>0.0</td>\n    </tr>\n    <tr>\n      <th>4</th>\n      <td>Segment 1</td>\n      <td>1.451385</td>\n      <td>2.096783</td>\n      <td>-0.008543</td>\n      <td>-0.839939</td>\n      <td>-0.345815</td>\n      <td>0.0</td>\n      <td>0.390532</td>\n      <td>0.609468</td>\n      <td>0.0</td>\n      <td>1.0</td>\n    </tr>\n    <tr>\n      <th>...</th>\n      <td>...</td>\n      <td>...</td>\n      <td>...</td>\n      <td>...</td>\n      <td>...</td>\n      <td>...</td>\n      <td>...</td>\n      <td>...</td>\n      <td>...</td>\n      <td>...</td>\n      <td>...</td>\n    </tr>\n    <tr>\n      <th>63235</th>\n      <td>Segment 15</td>\n      <td>0.040894</td>\n      <td>0.773211</td>\n      <td>1.102968</td>\n      <td>-2.033171</td>\n      <td>1.280088</td>\n      <td>0.0</td>\n      <td>0.169603</td>\n      <td>0.830397</td>\n      <td>0.0</td>\n      <td>1.0</td>\n    </tr>\n    <tr>\n      <th>63236</th>\n      <td>Segment 15</td>\n      <td>0.44314</td>\n      <td>0.669094</td>\n      <td>1.709214</td>\n      <td>-2.116166</td>\n      <td>1.639332</td>\n      <td>1.0</td>\n      <td>0.142243</td>\n      <td>0.857757</td>\n      <td>0.0</td>\n      <td>1.0</td>\n    </tr>\n    <tr>\n      <th>63237</th>\n      <td>Segment 15</td>\n      <td>-0.525556</td>\n      <td>-0.184375</td>\n      <td>-0.225891</td>\n      <td>-0.175094</td>\n      <td>0.424798</td>\n      <td>0.0</td>\n      <td>0.205865</td>\n      <td>0.794135</td>\n      <td>1.0</td>\n      <td>0.0</td>\n    </tr>\n    <tr>\n      <th>63238</th>\n      <td>Segment 15</td>\n      <td>-1.865697</td>\n      <td>-1.326895</td>\n      <td>-0.981676</td>\n      <td>0.710437</td>\n      <td>0.525616</td>\n      <td>0.0</td>\n      <td>0.089909</td>\n      <td>0.910091</td>\n      <td>0.0</td>\n      <td>1.0</td>\n    </tr>\n    <tr>\n      <th>63239</th>\n      <td>Segment 15</td>\n      <td>-2.025629</td>\n      <td>-2.549611</td>\n      <td>-1.352743</td>\n      <td>0.574488</td>\n      <td>0.916961</td>\n      <td>1.0</td>\n      <td>0.579904</td>\n      <td>0.420096</td>\n      <td>1.0</td>\n      <td>0.0</td>\n    </tr>\n  </tbody>\n</table>\n<p>63240 rows × 11 columns</p>\n</div>",
          "text/plain": "          Segment        x1        x2        x3        x4        x5 Label  \\\n0       Segment 1 -0.305859 -0.495321  1.195022 -0.476998 -0.711585   0.0   \n1       Segment 1  -0.58308 -0.280939 -0.927892 -0.534633  0.180388   0.0   \n2       Segment 1 -0.262612  0.075414 -0.499308  0.670432 -2.171268   0.0   \n3       Segment 1  0.734702  1.134868  0.884572 -1.552788 -0.408138   0.0   \n4       Segment 1  1.451385  2.096783 -0.008543 -0.839939 -0.345815   0.0   \n...           ...       ...       ...       ...       ...       ...   ...   \n63235  Segment 15  0.040894  0.773211  1.102968 -2.033171  1.280088   0.0   \n63236  Segment 15   0.44314  0.669094  1.709214 -2.116166  1.639332   1.0   \n63237  Segment 15 -0.525556 -0.184375 -0.225891 -0.175094  0.424798   0.0   \n63238  Segment 15 -1.865697 -1.326895 -0.981676  0.710437  0.525616   0.0   \n63239  Segment 15 -2.025629 -2.549611 -1.352743  0.574488  0.916961   1.0   \n\n       Minority  Majority Age >= 62 Age < 62  \n0      0.436392  0.563608       1.0      0.0  \n1      0.025982  0.974018       1.0      0.0  \n2      0.159924  0.840076       0.0      1.0  \n3      0.014626  0.985374       1.0      0.0  \n4      0.390532  0.609468       0.0      1.0  \n...         ...       ...       ...      ...  \n63235  0.169603  0.830397       0.0      1.0  \n63236  0.142243  0.857757       0.0      1.0  \n63237  0.205865  0.794135       1.0      0.0  \n63238  0.089909  0.910091       0.0      1.0  \n63239  0.579904  0.420096       1.0      0.0  \n\n[63240 rows x 11 columns]"
         },
         "metadata": {},
         "output_type": "display_data"
        }
       ]
      }
     },
     "758eaceff4d6467284a57aee60a0dc1e": {
      "model_module": "@jupyter-widgets/controls",
      "model_module_version": "1.5.0",
      "model_name": "HTMLModel",
      "state": {
       "layout": "IPY_MODEL_668d5b95af2a4706b64e1cc58704d515",
       "style": "IPY_MODEL_71b76db4bb284594ad01182404e7402a",
       "value": "Model name:"
      }
     },
     "75ab153e47914f85a5193dac0592cc07": {
      "model_module": "@jupyter-widgets/controls",
      "model_module_version": "1.5.0",
      "model_name": "DescriptionStyleModel",
      "state": {
       "description_width": "initial"
      }
     },
     "7628c0eea0c641fbaebf77b6dd309da5": {
      "model_module": "@jupyter-widgets/controls",
      "model_module_version": "1.5.0",
      "model_name": "DescriptionStyleModel",
      "state": {
       "description_width": "initial"
      }
     },
     "76314137efd74802b64ee5b92e6853cc": {
      "model_module": "@jupyter-widgets/controls",
      "model_module_version": "1.5.0",
      "model_name": "DescriptionStyleModel",
      "state": {
       "description_width": ""
      }
     },
     "764560c3a7204f33ab409381009e0b1b": {
      "model_module": "@jupyter-widgets/base",
      "model_module_version": "1.2.0",
      "model_name": "LayoutModel",
      "state": {
       "width": "100%"
      }
     },
     "76831ffd7f4e45fb96b74f3763a7dd5e": {
      "model_module": "@jupyter-widgets/controls",
      "model_module_version": "1.5.0",
      "model_name": "DescriptionStyleModel",
      "state": {
       "description_width": "initial"
      }
     },
     "76d05a81bb614142b880ebf07b5b2419": {
      "model_module": "@jupyter-widgets/controls",
      "model_module_version": "1.5.0",
      "model_name": "DescriptionStyleModel",
      "state": {
       "description_width": ""
      }
     },
     "76d693553fa04ecf8c6bd944b4473850": {
      "model_module": "@jupyter-widgets/controls",
      "model_module_version": "1.5.0",
      "model_name": "DescriptionStyleModel",
      "state": {
       "description_width": ""
      }
     },
     "76fd25a19941493e8fa9c8cc0869461f": {
      "model_module": "@jupyter-widgets/base",
      "model_module_version": "1.2.0",
      "model_name": "LayoutModel",
      "state": {}
     },
     "771fdad27eab4f33b105e376454cfb85": {
      "model_module": "@jupyter-widgets/base",
      "model_module_version": "1.2.0",
      "model_name": "LayoutModel",
      "state": {}
     },
     "778d7bde4eef4176abf663a06e56ff35": {
      "model_module": "@jupyter-widgets/controls",
      "model_module_version": "1.5.0",
      "model_name": "BoxModel",
      "state": {
       "_dom_classes": [
        "inner-padding"
       ],
       "children": [
        "IPY_MODEL_29132d551f6b4304a2e196a4d3f82e15"
       ],
       "layout": "IPY_MODEL_02c2f1611f8b41718ffa0142edec087d"
      }
     },
     "77f736869a8b4f0585d953c4a916f375": {
      "model_module": "@jupyter-widgets/controls",
      "model_module_version": "1.5.0",
      "model_name": "DropdownModel",
      "state": {
       "_options_labels": [
        "Type",
        "categorical",
        "numerical"
       ],
       "index": 0,
       "layout": "IPY_MODEL_6eef8e2042a94a3c8b8a0ab27c44c718",
       "style": "IPY_MODEL_3f76ec526b344492913effddcf04349b"
      }
     },
     "780755df948842b99465bd633dea5949": {
      "model_module": "@jupyter-widgets/base",
      "model_module_version": "1.2.0",
      "model_name": "LayoutModel",
      "state": {
       "width": "14%"
      }
     },
     "781356985482483ba0211f6881f64e2a": {
      "model_module": "@jupyter-widgets/base",
      "model_module_version": "1.2.0",
      "model_name": "LayoutModel",
      "state": {}
     },
     "7853b0bd51fa4cf1828bc369fe6f8ad8": {
      "model_module": "@jupyter-widgets/controls",
      "model_module_version": "1.5.0",
      "model_name": "DescriptionStyleModel",
      "state": {
       "description_width": ""
      }
     },
     "78633b747ebe406cb56680813cfe1918": {
      "model_module": "@jupyter-widgets/controls",
      "model_module_version": "1.5.0",
      "model_name": "DescriptionStyleModel",
      "state": {
       "description_width": ""
      }
     },
     "7884795f61c24fbbbe9d5f61674817a6": {
      "model_module": "@jupyter-widgets/base",
      "model_module_version": "1.2.0",
      "model_name": "LayoutModel",
      "state": {
       "width": "100%"
      }
     },
     "78950da4c7f34b0396b0b06ec85ac0ad": {
      "model_module": "@jupyter-widgets/controls",
      "model_module_version": "1.5.0",
      "model_name": "DescriptionStyleModel",
      "state": {
       "description_width": "initial"
      }
     },
     "78c97fd758de4e95a5f4d112e641cb74": {
      "model_module": "@jupyter-widgets/base",
      "model_module_version": "1.2.0",
      "model_name": "LayoutModel",
      "state": {}
     },
     "78dfe0211fa2491f9e99c09f019f4eea": {
      "model_module": "@jupyter-widgets/controls",
      "model_module_version": "1.5.0",
      "model_name": "HBoxModel",
      "state": {
       "children": [
        "IPY_MODEL_9433b712c26b4699880f2ca35da46fbb",
        "IPY_MODEL_3b772e3857cc4366889eaa55ae0a9164"
       ],
       "layout": "IPY_MODEL_f570ea6d7f8b420c8a33a1ad4d46d89b"
      }
     },
     "7909949310454dcab1e9a5c8c7896a6b": {
      "model_module": "@jupyter-widgets/controls",
      "model_module_version": "1.5.0",
      "model_name": "DescriptionStyleModel",
      "state": {
       "description_width": ""
      }
     },
     "7915c545cdc44a28af321f46d5a0c8f1": {
      "model_module": "@jupyter-widgets/controls",
      "model_module_version": "1.5.0",
      "model_name": "DescriptionStyleModel",
      "state": {
       "description_width": "initial"
      }
     },
     "791dd5021f7c4b9ca9b59b1f3cf78359": {
      "model_module": "@jupyter-widgets/base",
      "model_module_version": "1.2.0",
      "model_name": "LayoutModel",
      "state": {}
     },
     "795f617487754221a7fa1e2e8fb42b44": {
      "model_module": "@jupyter-widgets/controls",
      "model_module_version": "1.5.0",
      "model_name": "HTMLModel",
      "state": {
       "layout": "IPY_MODEL_0f5ed8cb71b7446fb5d6c82bf23f81eb",
       "style": "IPY_MODEL_a4f27705f13b480084bf3c9c610a4df4",
       "value": "Criterion:"
      }
     },
     "797eda11506e42b88a1a53b4d15dbf8a": {
      "model_module": "@jupyter-widgets/controls",
      "model_module_version": "1.5.0",
      "model_name": "HTMLModel",
      "state": {
       "layout": "IPY_MODEL_200dd214a469414897d06b9ea26b64b9",
       "style": "IPY_MODEL_30f6de4528754b798c09b01f23546f29",
       "value": "Feature_increasing:"
      }
     },
     "79acc27b38a34443ba6eeb61cebfc5e0": {
      "model_module": "@jupyter-widgets/controls",
      "model_module_version": "1.5.0",
      "model_name": "DescriptionStyleModel",
      "state": {
       "description_width": "initial"
      }
     },
     "79b5506d2f234047a22b514cb8183544": {
      "model_module": "@jupyter-widgets/base",
      "model_module_version": "1.2.0",
      "model_name": "LayoutModel",
      "state": {}
     },
     "79b9e89a17d04a3c82ddc94e8282d921": {
      "model_module": "@jupyter-widgets/controls",
      "model_module_version": "1.5.0",
      "model_name": "BoxModel",
      "state": {
       "children": [
        "IPY_MODEL_bd650177f9ef413791236f01a1d37c28"
       ],
       "layout": "IPY_MODEL_f4ef0db2b427492bbae61f6394066711"
      }
     },
     "79eb791eb62b44acbe69b3a66e90a86f": {
      "model_module": "@jupyter-widgets/controls",
      "model_module_version": "1.5.0",
      "model_name": "BoxModel",
      "state": {
       "children": [
        "IPY_MODEL_adf6b6b8be8c42a791bbc86420bfc8ed"
       ],
       "layout": "IPY_MODEL_0fd47e94e3c149c99dac79ec7eb2c637"
      }
     },
     "7a23240278f6436bb49a995ec989cdd6": {
      "model_module": "@jupyter-widgets/base",
      "model_module_version": "1.2.0",
      "model_name": "LayoutModel",
      "state": {
       "display": "flex",
       "flex_flow": "column",
       "width": "auto"
      }
     },
     "7a29adbbfec243369874abfa7e388aa8": {
      "model_module": "@jupyter-widgets/base",
      "model_module_version": "1.2.0",
      "model_name": "LayoutModel",
      "state": {
       "width": "2px"
      }
     },
     "7a2fbb2195f346a4a74a2a1f19bb20b5": {
      "model_module": "@jupyter-widgets/controls",
      "model_module_version": "1.5.0",
      "model_name": "BoundedFloatTextModel",
      "state": {
       "layout": "IPY_MODEL_c8eaaf2095af427c9c4b3ae6a920572a",
       "step": null,
       "style": "IPY_MODEL_7628c0eea0c641fbaebf77b6dd309da5"
      }
     },
     "7a7a623daa5e4471a14b6f5c524db18b": {
      "model_module": "@jupyter-widgets/controls",
      "model_module_version": "1.5.0",
      "model_name": "HTMLModel",
      "state": {
       "layout": "IPY_MODEL_a1c65a0de37b429e858c2b584b36946a",
       "style": "IPY_MODEL_273cbbbe9ed64096b4ad55b626bfc6cc",
       "value": "<div class='divider'></div>"
      }
     },
     "7ac002f6020f4947b3052a22e0013f0f": {
      "model_module": "@jupyter-widgets/base",
      "model_module_version": "1.2.0",
      "model_name": "LayoutModel",
      "state": {
       "width": "auto"
      }
     },
     "7ad68705abaf482b84a85165bd7a2ea9": {
      "model_module": "@jupyter-widgets/controls",
      "model_module_version": "1.5.0",
      "model_name": "ToggleButtonsModel",
      "state": {
       "_options_labels": [
        "Group Setting",
        "Metrics",
        "Segmented Metrics",
        "Thresholding",
        "Feature Removal"
       ],
       "button_style": "",
       "icons": [],
       "index": 0,
       "layout": "IPY_MODEL_d468a9f15d3d4a84a8e0113192fd60b7",
       "style": "IPY_MODEL_24eb6ac974a546c0bdc594d758725138",
       "tooltips": []
      }
     },
     "7b0ff56e8fa849479a0cf7046742d24d": {
      "model_module": "@jupyter-widgets/controls",
      "model_module_version": "1.5.0",
      "model_name": "DescriptionStyleModel",
      "state": {
       "description_width": ""
      }
     },
     "7b11f548b85f46619d35b129341dba77": {
      "model_module": "@jupyter-widgets/base",
      "model_module_version": "1.2.0",
      "model_name": "LayoutModel",
      "state": {
       "width": "155px"
      }
     },
     "7b29bd733c7948b3bba5760e90cc887f": {
      "model_module": "@jupyter-widgets/base",
      "model_module_version": "1.2.0",
      "model_name": "LayoutModel",
      "state": {}
     },
     "7b76a405c9314b178eff28db936b3f49": {
      "model_module": "@jupyter-widgets/base",
      "model_module_version": "1.2.0",
      "model_name": "LayoutModel",
      "state": {
       "width": "65%"
      }
     },
     "7b88d3c4193543788a50b8f5e779cf7d": {
      "model_module": "@jupyter-widgets/controls",
      "model_module_version": "1.5.0",
      "model_name": "DescriptionStyleModel",
      "state": {
       "description_width": ""
      }
     },
     "7be9fbbe5648430180dd02369b616484": {
      "model_module": "@jupyter-widgets/controls",
      "model_module_version": "1.5.0",
      "model_name": "HTMLModel",
      "state": {
       "layout": "IPY_MODEL_efd1d2335cee4e2f9b5e34a0a36ab4aa",
       "style": "IPY_MODEL_f18bcf7d6a9b41a1b81c67ba702804e7",
       "value": "n_estimators:"
      }
     },
     "7bf3b659f373445782e1034c92a7fbcb": {
      "model_module": "@jupyter-widgets/controls",
      "model_module_version": "1.5.0",
      "model_name": "HTMLModel",
      "state": {
       "layout": "IPY_MODEL_7eb49da691f34d599b9b6c86ddfe3a32",
       "style": "IPY_MODEL_e8e1e25840f84f809668b16bb26a5471",
       "value": "\n        <table class='ptable striped'>\n            <thead class='pthead'>\n                <tr class='ptr'>\n                    <th class='pth'></th><th class='pth'>Model</th><th class='pth'>test_ACC</th><th class='pth'>test_AUC</th><th class='pth'>test_F1</th><th class='pth'>train_ACC</th><th class='pth'>train_AUC</th><th class='pth'>train_F1</th><th class='pth'>Time</th>\n                </tr>\n            </thead>\n\n            <tbody class='ptbody'>\n                <tr class='ptr'><td class='ptd'>0</td><td class='ptd'>XGB2</td><td class='ptd'>0.8495</td><td class='ptd'>0.8480</td><td class='ptd'>0.5979</td><td class='ptd'>0.8551</td><td class='ptd'>0.8549</td><td class='ptd'>0.6134</td><td class='ptd'>0.9</td></tr>\n            </tbody>\n        </table>\n        "
      }
     },
     "7c0707c6bfae4117aca942325df73180": {
      "model_module": "@jupyter-widgets/base",
      "model_module_version": "1.2.0",
      "model_name": "LayoutModel",
      "state": {
       "width": "auto"
      }
     },
     "7c57286203aa4ff695949149c83e0dfd": {
      "model_module": "@jupyter-widgets/controls",
      "model_module_version": "1.5.0",
      "model_name": "HTMLModel",
      "state": {
       "layout": "IPY_MODEL_10bd1b8035294742a034da4b64c0da4c",
       "style": "IPY_MODEL_640b0a50022a41d5ab0a38f39f9b3d6e",
       "value": "Exclude Attribute:"
      }
     },
     "7c9420067bf44ef7ae1de1c8d4e4717b": {
      "model_module": "@jupyter-widgets/base",
      "model_module_version": "1.2.0",
      "model_name": "LayoutModel",
      "state": {
       "width": "155px"
      }
     },
     "7ce2f1f1fab44f7e8a118f3e99dc98af": {
      "model_module": "@jupyter-widgets/output",
      "model_module_version": "1.0.0",
      "model_name": "OutputModel",
      "state": {
       "layout": "IPY_MODEL_112a029668fe424bb9cb6849e89ffd43",
       "outputs": [
        {
         "data": {
          "application/vnd.jupyter.widget-view+json": {
           "model_id": "ae5e840e5642430fb5a79db16cbde5f9",
           "version_major": 2,
           "version_minor": 0
          },
          "text/plain": "HTML(value=\"<p class='notification info'>Model Training Done</p>\")"
         },
         "metadata": {},
         "output_type": "display_data"
        }
       ]
      }
     },
     "7d05bfd9a8f842668106fbac2096c91f": {
      "model_module": "@jupyter-widgets/controls",
      "model_module_version": "1.5.0",
      "model_name": "BoundedIntTextModel",
      "state": {
       "layout": "IPY_MODEL_9cb33c71a802440092e0b3766d06410d",
       "max": 10000,
       "min": 1,
       "style": "IPY_MODEL_1f24a63ad653451b8e7a1ad1c258dc76",
       "value": 100
      }
     },
     "7d30f972aa17474baf90e6084b2d7faa": {
      "model_module": "@jupyter-widgets/controls",
      "model_module_version": "1.5.0",
      "model_name": "DescriptionStyleModel",
      "state": {
       "description_width": "initial"
      }
     },
     "7d4245cfb0d34033b74c8a3cab757d27": {
      "model_module": "@jupyter-widgets/base",
      "model_module_version": "1.2.0",
      "model_name": "LayoutModel",
      "state": {}
     },
     "7d918aa79fa4438c9adb9fe6281ff87c": {
      "model_module": "@jupyter-widgets/base",
      "model_module_version": "1.2.0",
      "model_name": "LayoutModel",
      "state": {
       "width": "55%"
      }
     },
     "7d971f47b88540c59e061ee3d4fa8fbf": {
      "model_module": "@jupyter-widgets/controls",
      "model_module_version": "1.5.0",
      "model_name": "DescriptionStyleModel",
      "state": {
       "description_width": "initial"
      }
     },
     "7d9fce55b5f6432eb17ff6712ed91829": {
      "model_module": "@jupyter-widgets/controls",
      "model_module_version": "1.5.0",
      "model_name": "DescriptionStyleModel",
      "state": {
       "description_width": ""
      }
     },
     "7e1738c2ddee45098482fa4a70afe75d": {
      "model_module": "@jupyter-widgets/base",
      "model_module_version": "1.2.0",
      "model_name": "LayoutModel",
      "state": {}
     },
     "7e4ef6bde6a045a9aef0a0b2a72368fd": {
      "model_module": "@jupyter-widgets/controls",
      "model_module_version": "1.5.0",
      "model_name": "HTMLModel",
      "state": {
       "layout": "IPY_MODEL_ae7706fabf7343f888fc15758ff89950",
       "style": "IPY_MODEL_46e340560a354037aba37e35b79af4f5",
       "value": "<h4 style='margin: 10px 0px;'>Customize Model</h4>"
      }
     },
     "7e9faa69c0a74f129b1a01c493884a87": {
      "model_module": "@jupyter-widgets/controls",
      "model_module_version": "1.5.0",
      "model_name": "DescriptionStyleModel",
      "state": {
       "description_width": "initial"
      }
     },
     "7eb49da691f34d599b9b6c86ddfe3a32": {
      "model_module": "@jupyter-widgets/base",
      "model_module_version": "1.2.0",
      "model_name": "LayoutModel",
      "state": {}
     },
     "7ed4142fa360433e8d152a6a9eb79fb4": {
      "model_module": "@jupyter-widgets/base",
      "model_module_version": "1.2.0",
      "model_name": "LayoutModel",
      "state": {
       "width": "20%"
      }
     },
     "7eeb09b11ef24ffea74bf7b10d5d11c3": {
      "model_module": "@jupyter-widgets/controls",
      "model_module_version": "1.5.0",
      "model_name": "DescriptionStyleModel",
      "state": {
       "description_width": ""
      }
     },
     "7f511ad761614281953a81587be2250c": {
      "model_module": "@jupyter-widgets/controls",
      "model_module_version": "1.5.0",
      "model_name": "ButtonModel",
      "state": {
       "_dom_classes": [
        "pbtn"
       ],
       "button_style": "danger",
       "description": "ADD",
       "layout": "IPY_MODEL_6c3950407afc40508e0ab1ca56306cbd",
       "style": "IPY_MODEL_8bf2337b4a7d4211b8d48b8b30f3c60a"
      }
     },
     "7f670cd961ac4ee5a44e3ce4e3f4baea": {
      "model_module": "@jupyter-widgets/base",
      "model_module_version": "1.2.0",
      "model_name": "LayoutModel",
      "state": {
       "width": "auto"
      }
     },
     "7fdf0bcf84b74b19ada7f689e4253f56": {
      "model_module": "@jupyter-widgets/base",
      "model_module_version": "1.2.0",
      "model_name": "LayoutModel",
      "state": {}
     },
     "7fe2c24129af4266a89789b009c83cb6": {
      "model_module": "@jupyter-widgets/base",
      "model_module_version": "1.2.0",
      "model_name": "LayoutModel",
      "state": {}
     },
     "7ff0b349bf7a44aabdde55120336e871": {
      "model_module": "@jupyter-widgets/controls",
      "model_module_version": "1.5.0",
      "model_name": "HTMLModel",
      "state": {
       "layout": "IPY_MODEL_916d85f1e69f4c07b6f56acb9ef6e9de",
       "style": "IPY_MODEL_06db83c491ae4798897452fd42158308",
       "value": "<h4 style='margin: 10px 0px;'>Customize Model</h4>"
      }
     },
     "7ff941407e3b47f9b51d1cf0c9d672f4": {
      "model_module": "@jupyter-widgets/controls",
      "model_module_version": "1.5.0",
      "model_name": "CheckboxModel",
      "state": {
       "description": "Original Scale",
       "disabled": true,
       "indent": false,
       "layout": "IPY_MODEL_032fde27f46944878aed33a0de10434b",
       "style": "IPY_MODEL_7d9fce55b5f6432eb17ff6712ed91829",
       "value": true
      }
     },
     "803077f2a6f34fae88e766cce0a0b7b7": {
      "model_module": "@jupyter-widgets/base",
      "model_module_version": "1.2.0",
      "model_name": "LayoutModel",
      "state": {}
     },
     "8040ad1aa00f4fe09483effa987f844e": {
      "model_module": "@jupyter-widgets/controls",
      "model_module_version": "1.5.0",
      "model_name": "DescriptionStyleModel",
      "state": {
       "description_width": ""
      }
     },
     "80484217e3b24a038f6309835e7c540c": {
      "model_module": "@jupyter-widgets/base",
      "model_module_version": "1.2.0",
      "model_name": "LayoutModel",
      "state": {}
     },
     "808c4d1cb6f745f3bd2ccbb0c5f75256": {
      "model_module": "@jupyter-widgets/controls",
      "model_module_version": "1.5.0",
      "model_name": "HTMLModel",
      "state": {
       "layout": "IPY_MODEL_18dea18b3db54d889332c88726fbb7aa",
       "style": "IPY_MODEL_17ebd87880d94e9c8a370fab1427d890",
       "value": "<div class='divider'></div>"
      }
     },
     "80d0ee692ae6419c867a3885d4fee30f": {
      "model_module": "@jupyter-widgets/controls",
      "model_module_version": "1.5.0",
      "model_name": "DescriptionStyleModel",
      "state": {
       "description_width": ""
      }
     },
     "80d1c6275cce42df8165bc866a76c9ce": {
      "model_module": "@jupyter-widgets/controls",
      "model_module_version": "1.5.0",
      "model_name": "DescriptionStyleModel",
      "state": {
       "description_width": ""
      }
     },
     "80de5dcd08aa45f1b835afad8c2b113a": {
      "model_module": "@jupyter-widgets/controls",
      "model_module_version": "1.5.0",
      "model_name": "HTMLModel",
      "state": {
       "layout": "IPY_MODEL_12dfd09339424ba4bfdd5c693cc9da0e",
       "style": "IPY_MODEL_35173b694b25400fb9d9fdcf961eef99",
       "value": "Dropout_rate:"
      }
     },
     "8101a2a902fe47929a9edc5a6939fe81": {
      "model_module": "@jupyter-widgets/controls",
      "model_module_version": "1.5.0",
      "model_name": "TextModel",
      "state": {
       "layout": "IPY_MODEL_3badf67d15d74f46bb692a489d8fcfec",
       "placeholder": "Input name",
       "style": "IPY_MODEL_1b93213dcd0a4d4eb0d6a5933f2edcc2",
       "value": "GLM"
      }
     },
     "81072f5ac7fd4eef94e5b6aa76dec431": {
      "model_module": "@jupyter-widgets/controls",
      "model_module_version": "1.5.0",
      "model_name": "DescriptionStyleModel",
      "state": {
       "description_width": "initial"
      }
     },
     "81574509c74b41f2ae761937eb03cd37": {
      "model_module": "@jupyter-widgets/controls",
      "model_module_version": "1.5.0",
      "model_name": "HBoxModel",
      "state": {
       "children": [
        "IPY_MODEL_7c57286203aa4ff695949149c83e0dfd",
        "IPY_MODEL_d11fc3caa436436f96b5efcebbf0f365",
        "IPY_MODEL_b0abc84e6dc44333a791d3c76959ea09",
        "IPY_MODEL_d452542cce124c8a826c7e755221e2cb",
        "IPY_MODEL_06d49bfc4c4342649626493bdfeb0043"
       ],
       "layout": "IPY_MODEL_d1cb355c878d4275a55761562e82e46f"
      }
     },
     "815f73f65e9f40f7ba77f2bcae47d4e1": {
      "model_module": "@jupyter-widgets/base",
      "model_module_version": "1.2.0",
      "model_name": "LayoutModel",
      "state": {
       "width": "auto"
      }
     },
     "8181d3d5e68540418a708f714f5e2825": {
      "model_module": "@jupyter-widgets/base",
      "model_module_version": "1.2.0",
      "model_name": "LayoutModel",
      "state": {}
     },
     "81a8040dd54e4827afe6b059f5c888d6": {
      "model_module": "@jupyter-widgets/controls",
      "model_module_version": "1.5.0",
      "model_name": "HBoxModel",
      "state": {
       "_dom_classes": [
        "list-item"
       ],
       "children": [
        "IPY_MODEL_59483c52d31849a3a70398d1a28995ec",
        "IPY_MODEL_cd1f2bf9c3084cfe97fbbd3f29008350"
       ],
       "layout": "IPY_MODEL_5d7e58f851994c8983823c65cd901f97"
      }
     },
     "81c67aac85c146f78604ff7b078872bd": {
      "model_module": "@jupyter-widgets/base",
      "model_module_version": "1.2.0",
      "model_name": "LayoutModel",
      "state": {}
     },
     "81d9939f0aca429d939ed7ffc561277e": {
      "model_module": "@jupyter-widgets/base",
      "model_module_version": "1.2.0",
      "model_name": "LayoutModel",
      "state": {}
     },
     "81f797bd49df4a3291f16bf7ed59315d": {
      "model_module": "@jupyter-widgets/controls",
      "model_module_version": "1.5.0",
      "model_name": "HTMLModel",
      "state": {
       "layout": "IPY_MODEL_f2143ab9657c491d9176304bd6d9eecb",
       "style": "IPY_MODEL_65235e62361b4291a632bf349ce4f901",
       "value": "n_interactions:"
      }
     },
     "8220d433d24b4679ba144cccba260f8c": {
      "model_module": "@jupyter-widgets/base",
      "model_module_version": "1.2.0",
      "model_name": "LayoutModel",
      "state": {}
     },
     "82581a56946a450f99308540b44ac2b0": {
      "model_module": "@jupyter-widgets/controls",
      "model_module_version": "1.5.0",
      "model_name": "HTMLModel",
      "state": {
       "layout": "IPY_MODEL_b16e2fdb31d941779566ac89903b58dd",
       "style": "IPY_MODEL_3247bdddb7f7458ba0382084fb4751ba",
       "value": "\n        <style>\n\n        .left-label {\n            width: 30%;\n        }\n\n        .card-panel {\n            -webkit-transition: -webkit-box-shadow .25s;\n            transition: -webkit-box-shadow .25s;\n            transition: box-shadow .25s;\n            transition: box-shadow .25s, -webkit-box-shadow .25s;\n            padding: 24px;\n            margin: 0.5rem 0 1rem 0;\n            border-radius: 2px;\n            background-color: #fff;\n        }\n\n        .card {\n            position: relative;\n            margin: 0.5rem 0.1rem 1rem 0.2rem;\n            background-color: #fff;\n            -webkit-transition: -webkit-box-shadow .25s;\n            transition: -webkit-box-shadow .25s;\n            transition: box-shadow .25s;\n            transition: box-shadow .25s, -webkit-box-shadow .25s;\n            border-radius: 2px;\n            box-shadow: 0 2px 2px 0 rgb(0 0 0 / 14%), 0 3px 1px -2px rgb(0 0 0 / 12%), 0 1px 5px 0 rgb(0 0 0 / 20%);\n            padding: 24px;\n            color: white;\n        }\n\n        .card .card-title {\n            font-size: 24px;\n            font-weight: 300;\n        }\n\n        @media only screen and (min-width: 800px) {\n            /* For notebook: */\n            .card {width: 99% !important;}\n        }\n\n        @media only screen and (min-width: 1400px) {\n            /* For colab: */\n            .card {width: 99% !important;}\n        }\n\n        .blue-grey.darken-1 {\n            background-color: #546e7a !important;\n        }\n\n        .small-card {\n            position: relative;\n            margin: 0.5rem 0 1rem 0;\n            background-color: #fff;\n            -webkit-transition: -webkit-box-shadow .25s;\n            transition: -webkit-box-shadow .25s;\n            transition: box-shadow .25s;\n            transition: box-shadow .25s, -webkit-box-shadow .25s;\n            border-radius: 2px;\n            box-shadow: 0 2px 2px 0 rgb(0 0 0 / 14%), 0 3px 1px -2px rgb(0 0 0 / 12%), 0 1px 5px 0 rgb(0 0 0 / 20%);\n            padding: 0px 5px 0px 5px;\n            color: white;\n        }\n\n        .inner-card {\n            position: relative;\n            background-color: #fff;\n            -webkit-transition: -webkit-box-shadow .25s;\n            transition: -webkit-box-shadow .25s;\n            transition: box-shadow .25s;\n            transition: box-shadow .25s, -webkit-box-shadow .25s;\n            border-radius: 2px;\n            box-shadow: 0 2px 2px 0 rgb(0 0 0 / 14%), 0 3px 1px -2px rgb(0 0 0 / 12%), 0 1px 5px 0 rgb(0 0 0 / 20%);\n            padding: 20px;\n            color: white;\n            margin: 0px 1px 1px 1px;\n        }\n\n        .card-with-tab {\n            position: relative;\n            margin: 0.5rem 0.1rem 1rem 0.2rem;\n            background-color: #fff;\n            -webkit-transition: -webkit-box-shadow .25s;\n            transition: -webkit-box-shadow .25s;\n            transition: box-shadow .25s;\n            transition: box-shadow .25s, -webkit-box-shadow .25s;\n            border-radius: 2px;\n            box-shadow: 0 2px 2px 0 rgb(0 0 0 / 14%), 0 3px 1px -2px rgb(0 0 0 / 12%), 0 1px 5px 0 rgb(0 0 0 / 20%);\n            padding: 24px;\n            color: white;\n        }\n\n        .card-with-tab button {\n            width: auto;\n            padding: 12px 40px;\n        }\n\n        .list {\n            padding: 0px 10px;\n            box-shadow: 0 2px 2px 0 rgb(0 0 0 / 14%), 0 3px 1px -2px rgb(0 0 0 / 12%), 0 1px 5px 0 rgb(0 0 0 / 20%);\n            margin: 0px 1px 60px 1px;\n        }\n\n        .list-item {\n            padding: 10px 0px;\n            border-width: 0;\n            border-style: solid;\n            border-color: rgba(0, 0, 0, 0.08);\n            border-bottom-width: thin;\n        }\n\n        .divider {\n            margin: 10px 0px;\n            border-width: 0;\n            border-style: solid;\n            border-color: rgba(0, 0, 0, 0.08);\n            border-bottom-width: thin;\n        }\n\n        .hr {\n            margin: 0;\n            -webkit-flex-shrink: 0;\n            -ms-flex-negative: 0;\n            flex-shrink: 0;\n            border-width: 0;\n            border-style: solid;\n            border-color: rgba(0, 0, 0, 0.08);\n            border-bottom-width: thin;\n        }\n\n        .notification {\n            transition: box-shadow 300ms cubic-bezier(0.4, 0, 0.2, 1) 0ms;\n            border-radius: 4px;\n            box-shadow: 0 2px 2px 0 rgb(0 0 0 / 14%), 0 3px 1px -2px rgb(0 0 0 / 12%), 0 1px 5px 0 rgb(0 0 0 / 20%);\n            font-family: Roboto, Helvetica, Arial, sans-serif;\n            font-weight: 500;\n            font-size: 12px;\n            line-height: 1.43;\n            letter-spacing: 0.01071em;\n            background-color: rgb(2, 136, 209);\n            display: flex;\n            padding: 6px 16px;\n            color: rgb(255, 255, 255);\n            margin-top: 10px;\n        }\n\n        .success {\n            background-color: #EDF7ED;\n            color: #1E4620;\n        }\n\n        .error {\n            background-color: #FDEDED;\n            color: #5F2120;\n        }\n\n        .info {\n            background-color: #E5F6FD;\n            color: #528298;\n        }\n\n        .warn {\n            background-color: #FFF4E5;\n            color: #663C00;\n        }\n\n        .margin-top-20 {\n            margin-top: 20px;\n        }\n\n        .hide {\n            display: none;\n        }\n\n        .pbtn {\n            display: inline-flex;\n            -webkit-box-align: center;\n            align-items: center;\n            -webkit-box-pack: center;\n            justify-content: center;\n            position: relative;\n            box-sizing: border-box;\n            -webkit-tap-highlight-color: transparent;\n            outline: 0px;\n            border: 0px;\n            margin: 0px;\n            cursor: pointer;\n            user-select: none;\n            vertical-align: middle;\n            appearance: none;\n            text-decoration: none;\n            font-family: Roboto, Helvetica, Arial, sans-serif;\n            font-weight: 550;\n            font-size: 12px;\n            line-height: 1.75;\n            letter-spacing: 0.02857em;\n            text-transform: uppercase;\n            min-width: 64px;\n            padding: 6px 16px;\n            border-radius: 4px;\n            transition: background-color 250ms cubic-bezier(0.4, 0, 0.2, 1) 0ms, box-shadow 250ms cubic-bezier(0.4, 0, 0.2, 1) 0ms, border-color 250ms cubic-bezier(0.4, 0, 0.2, 1) 0ms, color 250ms cubic-bezier(0.4, 0, 0.2, 1) 0ms;\n            color: rgb(255, 255, 255);\n            background-color: #D71E28;\n            box-shadow: rgb(0 0 0 / 20%) 0px 3px 1px -2px, rgb(0 0 0 / 14%) 0px 2px 2px 0px, rgb(0 0 0 / 12%) 0px 1px 5px 0px;\n        }\n\n        .output_subarea {\n            padding: 0px !important;\n        }\n\n        .ptable, .pth, .ptd {\n            border: none;\n        }\n\n        .pth, .ptd {\n            max-width: 150px;\n            white-space: nowrap;\n            overflow: hidden;\n            -o-text-overflow: ellipsis;\n            -ms-text-overflow: ellipsis;\n            text-overflow: ellipsis;\n        }\n\n        .ptable {\n            display: table;\n            border-collapse: collapse;\n            border-spacing: 0;\n        }\n\n        .ptable.striped .ptr {\n            border-bottom: none;\n        }\n\n        .ptable.striped > .ptbody > .ptr:nth-child(odd) {\n            background-color: rgba(242, 242, 242, 0.5);\n        }\n\n        .ptable.striped > .ptbody > .ptr > .ptd {\n            border-radius: 0;\n        }\n\n        .ptable.highlight > .ptbody > .ptr {\n            -webkit-transition: background-color .25s ease;\n            transition: background-color .25s ease;\n        }\n\n        .ptable.highlight > .ptbody > .ptr:hover {\n            background-color: rgba(242, 242, 242, 0.5);\n        }\n\n        .ptable.centered .pthead .ptr .pth, .ptable.centered .ptbody .ptr .ptd {\n            text-align: center;\n        }\n\n        .ptr {\n            border-bottom: 1px solid rgba(0, 0, 0, 0.12);\n        }\n\n        .ptr.hightlight {\n            background-color: yellow !important;\n        }\n\n        .ptd, .pth {\n            padding: 0.2rem 0.6rem;\n            display: table-cell;\n            text-align: right;\n            vertical-align: middle;\n            border-radius: 2px;\n            position: relative;\n        }\n\n        .ptr.grey {\n            background-color: grey !important;\n        }\n\n        .ptr.strikeout .ptd:before {\n            content: \" \";\n            position: absolute;\n            top: 50%;\n            left: 0;\n            border-bottom: 1px solid #111;\n            width: 100%;\n        }\n\n        .widget-toggle-button {\n            display: inline-flex;\n            -webkit-box-align: center;\n            align-items: center;\n            -webkit-box-pack: center;\n            justify-content: center;\n            box-sizing: border-box;\n            -webkit-tap-highlight-color: transparent;\n            background-color: transparent !important;\n            outline: 0px;\n            border: 0px;\n            border-bottom: 2px solid #E4E4E4 !important;\n            box-shadow: none !important;\n            margin: 0px !important;\n            border-radius: 0px;\n            cursor: pointer;\n            user-select: none;\n            vertical-align: middle;\n            appearance: none;\n            text-decoration: none;\n            font-family: Roboto, Helvetica, Arial, sans-serif;\n            font-weight: 500;\n            font-size: 14px;\n            line-height: 1.25;\n            letter-spacing: 0.02857em;\n            max-width: 360px;\n            min-width: 90px;\n            position: relative;\n            min-height: 48px;\n            flex-shrink: 0;\n            padding: 12px 16px;\n            overflow: hidden;\n            white-space: normal;\n            text-align: center;\n            flex-direction: column;\n            color: rgba(0, 0, 0, 0.6);\n        }\n\n        .mod-active {\n            color: rgb(25, 118, 210) !important;\n            border-bottom: 2px solid rgb(25, 118, 210) !important;\n        }\n\n        .narrow-tab button {\n            max-width: 15%;\n        }\n\n        .overflow-fix .jupyter-widgets {\n            overflow: auto;\n        }\n\n        .inner-padding {\n            padding-top: 20px;\n        }\n\n        .fix-img img {\n            width: 100%;\n        }\n\n        .flex-reverse-for-update-button {\n            flex-direction: row-reverse;\n            margin-right: 50px;\n        }\n\n        .data-summary-tab {\n            max-height: 400px;\n        }\n\n        .input-width-with-parent .widget-dropdown {\n            width: 100%;\n        }\n\n        .input-width-with-parent .widget-text {\n            width: 100%;\n        }\n\n        .no-margin {\n            margin: 0px;\n        }\n\n        .widget-hprogress label {\n            text-align: left;\n        }\n\n        .widget-dropdown label {\n            margin-right: 10px;\n        }\n\n        .form .widget-dropdown {\n            width: auto;\n        }\n\n        .form .widget-text {\n            width: auto;\n        }\n\n        .form p {\n            margin: 0px;\n        }\n\n        .widget-dropdown {\n            white-space: nowrap;\n            overflow: hidden;\n            -o-text-overflow: ellipsis;\n            -ms-text-overflow: ellipsis;\n            text-overflow: ellipsis;\n        }\n\n        .progress-train label {\n            margin-right: 10px;\n        }\n\n        select {\n            height: 97% !important;\n        }\n\n        .no-overflow {\n            overflow: none;\n        }\n\n        .split-btn button {\n            margin-bottom: 2px;\n        }\n\n        .register-btn {\n            width: 50%\n        }\n\n        .register-btn-colab {\n            width: 40%\n        }\n\n        .fix-config-from-overflow .jp-OutputArea-child {\n            display: inherit;\n        }\n        \n        .checkbox-center input[type=\"checkbox\"] {\n            vertical-align: middle;\n        }\n\n        input[type=\"checkbox\"] {\n            vertical-align: middle;\n        }\n\n        </style>\n        "
      }
     },
     "825ec199ae754ea08750e0e0f27fc922": {
      "model_module": "@jupyter-widgets/base",
      "model_module_version": "1.2.0",
      "model_name": "LayoutModel",
      "state": {
       "width": "auto"
      }
     },
     "82e41173308b4672b793babaa525698c": {
      "model_module": "@jupyter-widgets/controls",
      "model_module_version": "1.5.0",
      "model_name": "DescriptionStyleModel",
      "state": {
       "description_width": ""
      }
     },
     "82eb1054563642b492b8e9804091f40e": {
      "model_module": "@jupyter-widgets/controls",
      "model_module_version": "1.5.0",
      "model_name": "DescriptionStyleModel",
      "state": {
       "description_width": ""
      }
     },
     "831876c72d674a2d91a5d169a6e49192": {
      "model_module": "@jupyter-widgets/base",
      "model_module_version": "1.2.0",
      "model_name": "LayoutModel",
      "state": {
       "width": "auto"
      }
     },
     "8328017b3ca347e694a3c115e69df52f": {
      "model_module": "@jupyter-widgets/controls",
      "model_module_version": "1.5.0",
      "model_name": "BoundedFloatTextModel",
      "state": {
       "layout": "IPY_MODEL_e1457b0a47f64f8392c2211a189c7b85",
       "max": 1,
       "step": 0.01,
       "style": "IPY_MODEL_9d1de86c2a584519bc705c918977bf72",
       "value": 0.2
      }
     },
     "8339abc6bc3547258b08317335ffe5e1": {
      "model_module": "@jupyter-widgets/controls",
      "model_module_version": "1.5.0",
      "model_name": "HTMLModel",
      "state": {
       "layout": "IPY_MODEL_d5bcc09237f64082895f2064e2d29722",
       "style": "IPY_MODEL_eb51a61e5f204ef0ad5591ee228e42a0",
       "value": "<h4 style='margin: 10px 0px;'>Monotonic Setting</h4>"
      }
     },
     "83501d54cb9744acb41123cce5ec39f6": {
      "model_module": "@jupyter-widgets/controls",
      "model_module_version": "1.5.0",
      "model_name": "HTMLModel",
      "state": {
       "layout": "IPY_MODEL_068dc6cc1f3d48da8624629ff72ac23e",
       "style": "IPY_MODEL_fa7464822299458cb593fb7e152a2309",
       "value": "Loading..."
      }
     },
     "83547385c9ec4432b3897258f7f13138": {
      "model_module": "@jupyter-widgets/controls",
      "model_module_version": "1.5.0",
      "model_name": "BoundedIntTextModel",
      "state": {
       "layout": "IPY_MODEL_959906c9fec6409d950d909b426512dc",
       "max": 100000,
       "min": 1,
       "style": "IPY_MODEL_6ccc3abc748f4212abbaadccd3585471",
       "value": 500
      }
     },
     "8361d5a7af574d82bd3536665dd309bb": {
      "model_module": "@jupyter-widgets/controls",
      "model_module_version": "1.5.0",
      "model_name": "DescriptionStyleModel",
      "state": {
       "description_width": "initial"
      }
     },
     "838342c3fcb24fe3b5218e3af1b02df0": {
      "model_module": "@jupyter-widgets/controls",
      "model_module_version": "1.5.0",
      "model_name": "TextModel",
      "state": {
       "layout": "IPY_MODEL_24789a2688bb464a87cc4bb1151d0ff3",
       "placeholder": "Input name",
       "style": "IPY_MODEL_3df5e8ca11df47ad93a88e3c9c0aeb40",
       "value": "GAMI-Net"
      }
     },
     "83863791cdd041fdaac9a972b9f604a4": {
      "model_module": "@jupyter-widgets/controls",
      "model_module_version": "1.5.0",
      "model_name": "DescriptionStyleModel",
      "state": {
       "description_width": ""
      }
     },
     "8392c245a090468ebfc1e3d981ff16d2": {
      "model_module": "@jupyter-widgets/base",
      "model_module_version": "1.2.0",
      "model_name": "LayoutModel",
      "state": {}
     },
     "83b0c5b40d204d21868b24ff19dc847f": {
      "model_module": "@jupyter-widgets/controls",
      "model_module_version": "1.5.0",
      "model_name": "ButtonStyleModel",
      "state": {}
     },
     "83babe86dfe24dd3916fc0337936088e": {
      "model_module": "@jupyter-widgets/controls",
      "model_module_version": "1.5.0",
      "model_name": "DescriptionStyleModel",
      "state": {
       "description_width": ""
      }
     },
     "83ebfda56d634e96834fe5cf4936170b": {
      "model_module": "@jupyter-widgets/controls",
      "model_module_version": "1.5.0",
      "model_name": "HTMLModel",
      "state": {
       "layout": "IPY_MODEL_f576caa0671745158cc8a1130b56d0c3",
       "style": "IPY_MODEL_13d32a58649049328948ee1d7ad7817e",
       "value": "<div style='margin-top: 5px'></div>"
      }
     },
     "84113ddb74dc48cd85fadd19e307911b": {
      "model_module": "@jupyter-widgets/controls",
      "model_module_version": "1.5.0",
      "model_name": "ButtonModel",
      "state": {
       "_dom_classes": [
        "pbtn"
       ],
       "button_style": "danger",
       "description": "DEL",
       "layout": "IPY_MODEL_223ae065474344c09d7e06259a2cca66",
       "style": "IPY_MODEL_5a708bd92b3e4ab594686dec7d98f57a"
      }
     },
     "841e25564bda4145815008558d7d588d": {
      "model_module": "@jupyter-widgets/controls",
      "model_module_version": "1.5.0",
      "model_name": "DescriptionStyleModel",
      "state": {
       "description_width": "initial"
      }
     },
     "8442bb85ebb74dfda56ca6f637cbb509": {
      "model_module": "@jupyter-widgets/base",
      "model_module_version": "1.2.0",
      "model_name": "LayoutModel",
      "state": {
       "align_items": "center",
       "display": "flex",
       "flex_flow": "row",
       "justify_content": "space-between",
       "width": "100%"
      }
     },
     "8446449e210043868069925e7174f475": {
      "model_module": "@jupyter-widgets/controls",
      "model_module_version": "1.5.0",
      "model_name": "ButtonStyleModel",
      "state": {}
     },
     "849219198c9a45288389946c47a79a0c": {
      "model_module": "@jupyter-widgets/controls",
      "model_module_version": "1.5.0",
      "model_name": "VBoxModel",
      "state": {
       "children": [
        "IPY_MODEL_ecd91008f4ef4be386c9bbad51f1b912",
        "IPY_MODEL_899b0171954b46cfa5db6fe940f138cf"
       ],
       "layout": "IPY_MODEL_a90336f89daa45688f254ac58c231ae3"
      }
     },
     "8496f4eb0c1b42eb94c5919b92045b55": {
      "model_module": "@jupyter-widgets/controls",
      "model_module_version": "1.5.0",
      "model_name": "DescriptionStyleModel",
      "state": {
       "description_width": ""
      }
     },
     "84b6bc1c0b9b4adba61991e9e08a6510": {
      "model_module": "@jupyter-widgets/controls",
      "model_module_version": "1.5.0",
      "model_name": "VBoxModel",
      "state": {
       "children": [
        "IPY_MODEL_ad4157dddfdf4395984b4baa4dbb9303",
        "IPY_MODEL_41af32b674c44a7fbb1e0bb63971c0f0",
        "IPY_MODEL_17559b7ac98f4e1e8cf85f4dbeea4757",
        "IPY_MODEL_db98263b0ccc4b17b6a7814c6e119773",
        "IPY_MODEL_cfe7d90d61ee44498ffab4c5e357f15e",
        "IPY_MODEL_5826a641d96944ceb4eedcd60191af58",
        "IPY_MODEL_8ba16809db874366a1b92c2dd4328a07",
        "IPY_MODEL_0d348ab7cffd46e9b1997f4eccffd22d",
        "IPY_MODEL_ff02ccc100e1487daac7c0ad59ad3526"
       ],
       "layout": "IPY_MODEL_cd8fbbed2d984ce4b2c60c63049ae55d"
      }
     },
     "84ba9bae52c34ee491ea4c05ef3d744e": {
      "model_module": "@jupyter-widgets/controls",
      "model_module_version": "1.5.0",
      "model_name": "HTMLModel",
      "state": {
       "layout": "IPY_MODEL_4a0a4f6196dc4019b11ea92b925c6c5d",
       "style": "IPY_MODEL_c6850dc40c7742908703c36736e60462",
       "value": "\n        <table class='ptable striped'>\n            <thead class='pthead'>\n                <tr class='ptr'>\n                    <th class='pth'></th><th class='pth'>name</th><th class='pth'>n_missing</th><th class='pth'>n_unique</th><th class='pth'>top1</th><th class='pth'>top2</th><th class='pth'>top3</th><th class='pth'>n_others</th>\n                </tr>\n            </thead>\n\n            <tbody class='ptbody'>\n                <tr class='ptr'><td class='ptd'>0</td><td class='ptd'>Segment</td><td class='ptd'>0</td><td class='ptd'>15</td><td class='ptd'>Segment 13 : 15000</td><td class='ptd'>Segment 6 : 10000</td><td class='ptd'>Segment 12 : 10000</td><td class='ptd'>28240</td></tr><tr class='ptr'><td class='ptd'>1</td><td class='ptd'>Label</td><td class='ptd'>0</td><td class='ptd'>2</td><td class='ptd'>0.0 : 48714</td><td class='ptd'>1.0 : 14526</td><td class='ptd'>0</td><td class='ptd'>0</td></tr><tr class='ptr grey'><td class='ptd'>2</td><td class='ptd'>Age >= 62</td><td class='ptd'>0</td><td class='ptd'>2</td><td class='ptd'>0.0 : 31823</td><td class='ptd'>1.0 : 31417</td><td class='ptd'>0</td><td class='ptd'>0</td></tr><tr class='ptr grey'><td class='ptd'>3</td><td class='ptd'>Age < 62</td><td class='ptd'>0</td><td class='ptd'>2</td><td class='ptd'>1.0 : 31823</td><td class='ptd'>0.0 : 31417</td><td class='ptd'>0</td><td class='ptd'>0</td></tr>\n            </tbody>\n        </table>\n        "
      }
     },
     "84ca2ba189ef4299904eb715c131ede7": {
      "model_module": "@jupyter-widgets/base",
      "model_module_version": "1.2.0",
      "model_name": "LayoutModel",
      "state": {
       "display": "flex",
       "flex_flow": "column",
       "width": "100%"
      }
     },
     "8524884bec484fc282753ca18cd43712": {
      "model_module": "@jupyter-widgets/controls",
      "model_module_version": "1.5.0",
      "model_name": "DescriptionStyleModel",
      "state": {
       "description_width": ""
      }
     },
     "8563f3f42ceb4d4fb8cb4bafd4f5fc43": {
      "model_module": "@jupyter-widgets/base",
      "model_module_version": "1.2.0",
      "model_name": "LayoutModel",
      "state": {
       "width": "65%"
      }
     },
     "857335fceb1e451f9cb0d3e8298cb06d": {
      "model_module": "@jupyter-widgets/controls",
      "model_module_version": "1.5.0",
      "model_name": "DescriptionStyleModel",
      "state": {
       "description_width": "initial"
      }
     },
     "85861d154232438b84c2ffa5ca509f62": {
      "model_module": "@jupyter-widgets/output",
      "model_module_version": "1.0.0",
      "model_name": "OutputModel",
      "state": {
       "layout": "IPY_MODEL_d21576fea9a549b48048e15a8f278cf6",
       "outputs": [
        {
         "data": {
          "application/vnd.jupyter.widget-view+json": {
           "model_id": "bf8f02a9a8634b709439cdd59222465c",
           "version_major": 2,
           "version_minor": 0
          },
          "text/plain": "HTML(value=\"<p class='notification info'>Register XGB2 Done</p>\")"
         },
         "metadata": {},
         "output_type": "display_data"
        }
       ]
      }
     },
     "8586febbff7842c3b2e1190f38fd021d": {
      "model_module": "@jupyter-widgets/controls",
      "model_module_version": "1.5.0",
      "model_name": "DescriptionStyleModel",
      "state": {
       "description_width": ""
      }
     },
     "85a3376b648d4a4baf3af0860944e091": {
      "model_module": "@jupyter-widgets/controls",
      "model_module_version": "1.5.0",
      "model_name": "HBoxModel",
      "state": {
       "children": [
        "IPY_MODEL_15bcd752897144e4bdf19434178d7a74",
        "IPY_MODEL_3362a70219ff4315a9bb1c9181b62891"
       ],
       "layout": "IPY_MODEL_c54e793f7d3441a282107ebaafe1ade6"
      }
     },
     "85a48d1a01ec4eefae51b6c84dc00c95": {
      "model_module": "@jupyter-widgets/controls",
      "model_module_version": "1.5.0",
      "model_name": "TextModel",
      "state": {
       "layout": "IPY_MODEL_d572f9d08d4b496b8d2318863e5c8333",
       "placeholder": "1,2... or \"f1\",\"f2\"...",
       "style": "IPY_MODEL_cba9957864e543d4b175143a526c0627"
      }
     },
     "85ccb56b49524e2d9f455c5a3e9042ce": {
      "model_module": "@jupyter-widgets/controls",
      "model_module_version": "1.5.0",
      "model_name": "DescriptionStyleModel",
      "state": {
       "description_width": ""
      }
     },
     "8689fb24973a4091ac7000bfd4bddb9d": {
      "model_module": "@jupyter-widgets/base",
      "model_module_version": "1.2.0",
      "model_name": "LayoutModel",
      "state": {}
     },
     "868e9ba0abb44b9897e2697b331025eb": {
      "model_module": "@jupyter-widgets/controls",
      "model_module_version": "1.5.0",
      "model_name": "BoundedIntTextModel",
      "state": {
       "layout": "IPY_MODEL_6c67a03e858d4e8e9c9e899cb2b30dea",
       "max": 10000,
       "style": "IPY_MODEL_169c144f02be48f3b493d7a55f06ff66"
      }
     },
     "86c22c6200b347bea1810fb25e62399e": {
      "model_module": "@jupyter-widgets/base",
      "model_module_version": "1.2.0",
      "model_name": "LayoutModel",
      "state": {}
     },
     "86ceadebf5c2480b965a5a803c308ca8": {
      "model_module": "@jupyter-widgets/controls",
      "model_module_version": "1.5.0",
      "model_name": "HTMLModel",
      "state": {
       "layout": "IPY_MODEL_e8743c39f1e94f71856ef001a2b69675",
       "style": "IPY_MODEL_4f91945e34de48fbae6045b4bfdcdbb6",
       "value": "gamma:"
      }
     },
     "86ea99be51f64dfc8c0a97bcaab67c64": {
      "model_module": "@jupyter-widgets/base",
      "model_module_version": "1.2.0",
      "model_name": "LayoutModel",
      "state": {
       "width": "15%"
      }
     },
     "8716d74d79b0485a82da12ac6bb99b47": {
      "model_module": "@jupyter-widgets/base",
      "model_module_version": "1.2.0",
      "model_name": "LayoutModel",
      "state": {}
     },
     "8723a58450624ed0a344ca854fbb8e7b": {
      "model_module": "@jupyter-widgets/controls",
      "model_module_version": "1.5.0",
      "model_name": "VBoxModel",
      "state": {
       "_dom_classes": [
        "card-with-tab"
       ],
       "children": [
        "IPY_MODEL_9202763431b047cc819ab04045cf05a4",
        "IPY_MODEL_ca143db458024d4487b85545b7df0a44",
        "IPY_MODEL_d525d292db88420887633fb32dac3b02"
       ],
       "layout": "IPY_MODEL_eff65f24c8b04a0a9da08bb2094b6098"
      }
     },
     "872697f1c7a6438e9d6c7463df734be8": {
      "model_module": "@jupyter-widgets/base",
      "model_module_version": "1.2.0",
      "model_name": "LayoutModel",
      "state": {
       "width": "65%"
      }
     },
     "87509d8c921f486dbaa858f96a60fcc0": {
      "model_module": "@jupyter-widgets/controls",
      "model_module_version": "1.5.0",
      "model_name": "BoundedIntTextModel",
      "state": {
       "layout": "IPY_MODEL_f09209b86af044ecb14c5122e084e0b1",
       "max": 100000,
       "style": "IPY_MODEL_e5c6f76735d943b4ab6e71c4f81343bf",
       "value": 5000
      }
     },
     "876e652f7861461ab8fc6b3496972701": {
      "model_module": "@jupyter-widgets/controls",
      "model_module_version": "1.5.0",
      "model_name": "DescriptionStyleModel",
      "state": {
       "description_width": ""
      }
     },
     "87b0a481fb23475ea3888a4e2f47421e": {
      "model_module": "@jupyter-widgets/base",
      "model_module_version": "1.2.0",
      "model_name": "LayoutModel",
      "state": {
       "width": "100px"
      }
     },
     "87b196d336eb4ee79b319aa1baf52ee7": {
      "model_module": "@jupyter-widgets/base",
      "model_module_version": "1.2.0",
      "model_name": "LayoutModel",
      "state": {
       "width": "99%"
      }
     },
     "87c136e8b44840e6bf028ac048b33f20": {
      "model_module": "@jupyter-widgets/controls",
      "model_module_version": "1.5.0",
      "model_name": "HTMLModel",
      "state": {
       "layout": "IPY_MODEL_51d200049e6841178457280f49c7a71f",
       "style": "IPY_MODEL_420ae310ec194d518b203f28275980d8",
       "value": "Early_stop_epochs:"
      }
     },
     "87c4881442a34be29d1befeffc9284aa": {
      "model_module": "@jupyter-widgets/controls",
      "model_module_version": "1.5.0",
      "model_name": "DescriptionStyleModel",
      "state": {
       "description_width": ""
      }
     },
     "87c6a003dced41f8b548aa4fe5c79e67": {
      "model_module": "@jupyter-widgets/base",
      "model_module_version": "1.2.0",
      "model_name": "LayoutModel",
      "state": {}
     },
     "87ca185ae3c04da089d7bf6bfc232635": {
      "model_module": "@jupyter-widgets/controls",
      "model_module_version": "1.5.0",
      "model_name": "DescriptionStyleModel",
      "state": {
       "description_width": ""
      }
     },
     "87f99b10945c455b9aa674847347fc57": {
      "model_module": "@jupyter-widgets/controls",
      "model_module_version": "1.5.0",
      "model_name": "HBoxModel",
      "state": {
       "children": [
        "IPY_MODEL_923c8046f9e743dba4c9fd19137e0501",
        "IPY_MODEL_0ad1c2cdc3f84e269b858647d7e9286f"
       ],
       "layout": "IPY_MODEL_2af0262b09df4ec7bd0053c629f6cf93"
      }
     },
     "88515c13215e4e89b4a70f7cc87bd5c8": {
      "model_module": "@jupyter-widgets/base",
      "model_module_version": "1.2.0",
      "model_name": "LayoutModel",
      "state": {}
     },
     "88805e48805c4b1da6bac243c4a19c54": {
      "model_module": "@jupyter-widgets/controls",
      "model_module_version": "1.5.0",
      "model_name": "HTMLModel",
      "state": {
       "layout": "IPY_MODEL_08bb24488e9b4f049146b69e5f8b225d",
       "style": "IPY_MODEL_61e05b6db3e348b4a2e30ae4733070d7",
       "value": "<div style='margin-right: 2px'></div>"
      }
     },
     "888cd1b975e64bba8e14e821698cff3a": {
      "model_module": "@jupyter-widgets/controls",
      "model_module_version": "1.5.0",
      "model_name": "HTMLModel",
      "state": {
       "layout": "IPY_MODEL_de43619e463a49f185b8df53c5ec6d2b",
       "style": "IPY_MODEL_fdae37c91a1542669e220914a540871e",
       "value": "\n        <style>\n\n        .left-label {\n            width: 30%;\n        }\n\n        .card-panel {\n            -webkit-transition: -webkit-box-shadow .25s;\n            transition: -webkit-box-shadow .25s;\n            transition: box-shadow .25s;\n            transition: box-shadow .25s, -webkit-box-shadow .25s;\n            padding: 24px;\n            margin: 0.5rem 0 1rem 0;\n            border-radius: 2px;\n            background-color: #fff;\n        }\n\n        .card {\n            position: relative;\n            margin: 0.5rem 0.1rem 1rem 0.2rem;\n            background-color: #fff;\n            -webkit-transition: -webkit-box-shadow .25s;\n            transition: -webkit-box-shadow .25s;\n            transition: box-shadow .25s;\n            transition: box-shadow .25s, -webkit-box-shadow .25s;\n            border-radius: 2px;\n            box-shadow: 0 2px 2px 0 rgb(0 0 0 / 14%), 0 3px 1px -2px rgb(0 0 0 / 12%), 0 1px 5px 0 rgb(0 0 0 / 20%);\n            padding: 24px;\n            color: white;\n        }\n\n        .card .card-title {\n            font-size: 24px;\n            font-weight: 300;\n        }\n\n        @media only screen and (min-width: 800px) {\n            /* For notebook: */\n            .card {width: 99% !important;}\n        }\n\n        @media only screen and (min-width: 1400px) {\n            /* For colab: */\n            .card {width: 99% !important;}\n        }\n\n        .blue-grey.darken-1 {\n            background-color: #546e7a !important;\n        }\n\n        .small-card {\n            position: relative;\n            margin: 0.5rem 0 1rem 0;\n            background-color: #fff;\n            -webkit-transition: -webkit-box-shadow .25s;\n            transition: -webkit-box-shadow .25s;\n            transition: box-shadow .25s;\n            transition: box-shadow .25s, -webkit-box-shadow .25s;\n            border-radius: 2px;\n            box-shadow: 0 2px 2px 0 rgb(0 0 0 / 14%), 0 3px 1px -2px rgb(0 0 0 / 12%), 0 1px 5px 0 rgb(0 0 0 / 20%);\n            padding: 0px 5px 0px 5px;\n            color: white;\n        }\n\n        .inner-card {\n            position: relative;\n            background-color: #fff;\n            -webkit-transition: -webkit-box-shadow .25s;\n            transition: -webkit-box-shadow .25s;\n            transition: box-shadow .25s;\n            transition: box-shadow .25s, -webkit-box-shadow .25s;\n            border-radius: 2px;\n            box-shadow: 0 2px 2px 0 rgb(0 0 0 / 14%), 0 3px 1px -2px rgb(0 0 0 / 12%), 0 1px 5px 0 rgb(0 0 0 / 20%);\n            padding: 20px;\n            color: white;\n            margin: 0px 1px 1px 1px;\n        }\n\n        .card-with-tab {\n            position: relative;\n            margin: 0.5rem 0.1rem 1rem 0.2rem;\n            background-color: #fff;\n            -webkit-transition: -webkit-box-shadow .25s;\n            transition: -webkit-box-shadow .25s;\n            transition: box-shadow .25s;\n            transition: box-shadow .25s, -webkit-box-shadow .25s;\n            border-radius: 2px;\n            box-shadow: 0 2px 2px 0 rgb(0 0 0 / 14%), 0 3px 1px -2px rgb(0 0 0 / 12%), 0 1px 5px 0 rgb(0 0 0 / 20%);\n            padding: 24px;\n            color: white;\n        }\n\n        .card-with-tab button {\n            width: auto;\n            padding: 12px 40px;\n        }\n\n        .list {\n            padding: 0px 10px;\n            box-shadow: 0 2px 2px 0 rgb(0 0 0 / 14%), 0 3px 1px -2px rgb(0 0 0 / 12%), 0 1px 5px 0 rgb(0 0 0 / 20%);\n            margin: 0px 1px 60px 1px;\n        }\n\n        .list-item {\n            padding: 10px 0px;\n            border-width: 0;\n            border-style: solid;\n            border-color: rgba(0, 0, 0, 0.08);\n            border-bottom-width: thin;\n        }\n\n        .divider {\n            margin: 10px 0px;\n            border-width: 0;\n            border-style: solid;\n            border-color: rgba(0, 0, 0, 0.08);\n            border-bottom-width: thin;\n        }\n\n        .hr {\n            margin: 0;\n            -webkit-flex-shrink: 0;\n            -ms-flex-negative: 0;\n            flex-shrink: 0;\n            border-width: 0;\n            border-style: solid;\n            border-color: rgba(0, 0, 0, 0.08);\n            border-bottom-width: thin;\n        }\n\n        .notification {\n            transition: box-shadow 300ms cubic-bezier(0.4, 0, 0.2, 1) 0ms;\n            border-radius: 4px;\n            box-shadow: 0 2px 2px 0 rgb(0 0 0 / 14%), 0 3px 1px -2px rgb(0 0 0 / 12%), 0 1px 5px 0 rgb(0 0 0 / 20%);\n            font-family: Roboto, Helvetica, Arial, sans-serif;\n            font-weight: 500;\n            font-size: 12px;\n            line-height: 1.43;\n            letter-spacing: 0.01071em;\n            background-color: rgb(2, 136, 209);\n            display: flex;\n            padding: 6px 16px;\n            color: rgb(255, 255, 255);\n            margin-top: 10px;\n        }\n\n        .success {\n            background-color: #EDF7ED;\n            color: #1E4620;\n        }\n\n        .error {\n            background-color: #FDEDED;\n            color: #5F2120;\n        }\n\n        .info {\n            background-color: #E5F6FD;\n            color: #528298;\n        }\n\n        .warn {\n            background-color: #FFF4E5;\n            color: #663C00;\n        }\n\n        .margin-top-20 {\n            margin-top: 20px;\n        }\n\n        .hide {\n            display: none;\n        }\n\n        .pbtn {\n            display: inline-flex;\n            -webkit-box-align: center;\n            align-items: center;\n            -webkit-box-pack: center;\n            justify-content: center;\n            position: relative;\n            box-sizing: border-box;\n            -webkit-tap-highlight-color: transparent;\n            outline: 0px;\n            border: 0px;\n            margin: 0px;\n            cursor: pointer;\n            user-select: none;\n            vertical-align: middle;\n            appearance: none;\n            text-decoration: none;\n            font-family: Roboto, Helvetica, Arial, sans-serif;\n            font-weight: 550;\n            font-size: 12px;\n            line-height: 1.75;\n            letter-spacing: 0.02857em;\n            text-transform: uppercase;\n            min-width: 64px;\n            padding: 6px 16px;\n            border-radius: 4px;\n            transition: background-color 250ms cubic-bezier(0.4, 0, 0.2, 1) 0ms, box-shadow 250ms cubic-bezier(0.4, 0, 0.2, 1) 0ms, border-color 250ms cubic-bezier(0.4, 0, 0.2, 1) 0ms, color 250ms cubic-bezier(0.4, 0, 0.2, 1) 0ms;\n            color: rgb(255, 255, 255);\n            background-color: #D71E28;\n            box-shadow: rgb(0 0 0 / 20%) 0px 3px 1px -2px, rgb(0 0 0 / 14%) 0px 2px 2px 0px, rgb(0 0 0 / 12%) 0px 1px 5px 0px;\n        }\n\n        .output_subarea {\n            padding: 0px !important;\n        }\n\n        .ptable, .pth, .ptd {\n            border: none;\n        }\n\n        .pth, .ptd {\n            max-width: 150px;\n            white-space: nowrap;\n            overflow: hidden;\n            -o-text-overflow: ellipsis;\n            -ms-text-overflow: ellipsis;\n            text-overflow: ellipsis;\n        }\n\n        .ptable {\n            display: table;\n            border-collapse: collapse;\n            border-spacing: 0;\n        }\n\n        .ptable.striped .ptr {\n            border-bottom: none;\n        }\n\n        .ptable.striped > .ptbody > .ptr:nth-child(odd) {\n            background-color: rgba(242, 242, 242, 0.5);\n        }\n\n        .ptable.striped > .ptbody > .ptr > .ptd {\n            border-radius: 0;\n        }\n\n        .ptable.highlight > .ptbody > .ptr {\n            -webkit-transition: background-color .25s ease;\n            transition: background-color .25s ease;\n        }\n\n        .ptable.highlight > .ptbody > .ptr:hover {\n            background-color: rgba(242, 242, 242, 0.5);\n        }\n\n        .ptable.centered .pthead .ptr .pth, .ptable.centered .ptbody .ptr .ptd {\n            text-align: center;\n        }\n\n        .ptr {\n            border-bottom: 1px solid rgba(0, 0, 0, 0.12);\n        }\n\n        .ptr.hightlight {\n            background-color: yellow !important;\n        }\n\n        .ptd, .pth {\n            padding: 0.2rem 0.6rem;\n            display: table-cell;\n            text-align: right;\n            vertical-align: middle;\n            border-radius: 2px;\n            position: relative;\n        }\n\n        .ptr.grey {\n            background-color: grey !important;\n        }\n\n        .ptr.strikeout .ptd:before {\n            content: \" \";\n            position: absolute;\n            top: 50%;\n            left: 0;\n            border-bottom: 1px solid #111;\n            width: 100%;\n        }\n\n        .widget-toggle-button {\n            display: inline-flex;\n            -webkit-box-align: center;\n            align-items: center;\n            -webkit-box-pack: center;\n            justify-content: center;\n            box-sizing: border-box;\n            -webkit-tap-highlight-color: transparent;\n            background-color: transparent !important;\n            outline: 0px;\n            border: 0px;\n            border-bottom: 2px solid #E4E4E4 !important;\n            box-shadow: none !important;\n            margin: 0px !important;\n            border-radius: 0px;\n            cursor: pointer;\n            user-select: none;\n            vertical-align: middle;\n            appearance: none;\n            text-decoration: none;\n            font-family: Roboto, Helvetica, Arial, sans-serif;\n            font-weight: 500;\n            font-size: 14px;\n            line-height: 1.25;\n            letter-spacing: 0.02857em;\n            max-width: 360px;\n            min-width: 90px;\n            position: relative;\n            min-height: 48px;\n            flex-shrink: 0;\n            padding: 12px 16px;\n            overflow: hidden;\n            white-space: normal;\n            text-align: center;\n            flex-direction: column;\n            color: rgba(0, 0, 0, 0.6);\n        }\n\n        .mod-active {\n            color: rgb(25, 118, 210) !important;\n            border-bottom: 2px solid rgb(25, 118, 210) !important;\n        }\n\n        .narrow-tab button {\n            max-width: 15%;\n        }\n\n        .overflow-fix .jupyter-widgets {\n            overflow: auto;\n        }\n\n        .inner-padding {\n            padding-top: 20px;\n        }\n\n        .fix-img img {\n            width: 100%;\n        }\n\n        .flex-reverse-for-update-button {\n            flex-direction: row-reverse;\n            margin-right: 50px;\n        }\n\n        .data-summary-tab {\n            max-height: 400px;\n        }\n\n        .input-width-with-parent .widget-dropdown {\n            width: 100%;\n        }\n\n        .input-width-with-parent .widget-text {\n            width: 100%;\n        }\n\n        .no-margin {\n            margin: 0px;\n        }\n\n        .widget-hprogress label {\n            text-align: left;\n        }\n\n        .widget-dropdown label {\n            margin-right: 10px;\n        }\n\n        .form .widget-dropdown {\n            width: auto;\n        }\n\n        .form .widget-text {\n            width: auto;\n        }\n\n        .form p {\n            margin: 0px;\n        }\n\n        .widget-dropdown {\n            white-space: nowrap;\n            overflow: hidden;\n            -o-text-overflow: ellipsis;\n            -ms-text-overflow: ellipsis;\n            text-overflow: ellipsis;\n        }\n\n        .progress-train label {\n            margin-right: 10px;\n        }\n\n        select {\n            height: 97% !important;\n        }\n\n        .no-overflow {\n            overflow: none;\n        }\n\n        .split-btn button {\n            margin-bottom: 2px;\n        }\n\n        .register-btn {\n            width: 50%\n        }\n\n        .register-btn-colab {\n            width: 40%\n        }\n\n        .fix-config-from-overflow .jp-OutputArea-child {\n            display: inherit;\n        }\n        \n        .checkbox-center input[type=\"checkbox\"] {\n            vertical-align: middle;\n        }\n\n        input[type=\"checkbox\"] {\n            vertical-align: middle;\n        }\n\n        </style>\n        "
      }
     },
     "88c725cc89f44213a4ffafcddfcad562": {
      "model_module": "@jupyter-widgets/controls",
      "model_module_version": "1.5.0",
      "model_name": "DescriptionStyleModel",
      "state": {
       "description_width": ""
      }
     },
     "88d1d8e0be314e0ea2cf136025bda277": {
      "model_module": "@jupyter-widgets/controls",
      "model_module_version": "1.5.0",
      "model_name": "DescriptionStyleModel",
      "state": {
       "description_width": ""
      }
     },
     "88dc666088ad4387825a919bd3fb91db": {
      "model_module": "@jupyter-widgets/base",
      "model_module_version": "1.2.0",
      "model_name": "LayoutModel",
      "state": {
       "height": "25px",
       "width": "35px"
      }
     },
     "88eabb754734478eb1db38d202ad4848": {
      "model_module": "@jupyter-widgets/base",
      "model_module_version": "1.2.0",
      "model_name": "LayoutModel",
      "state": {
       "height": "25px",
       "width": "35px"
      }
     },
     "88fb27fef2334dd2897ebbab609bca43": {
      "model_module": "@jupyter-widgets/controls",
      "model_module_version": "1.5.0",
      "model_name": "VBoxModel",
      "state": {
       "children": [
        "IPY_MODEL_0efc0d315eb24ca69fa25bab7956f44d",
        "IPY_MODEL_c7def7ec578d4ab5a9f9ce8cc0ed3fb1",
        "IPY_MODEL_6c257e9db9484916bfe0ab3646ff0a9f",
        "IPY_MODEL_e82427201b574251a00421b84c16b5bd"
       ],
       "layout": "IPY_MODEL_8fb963b659ee4a6f838a75764c598e83"
      }
     },
     "8909861f38824b6195ba3eaf267e23d9": {
      "model_module": "@jupyter-widgets/controls",
      "model_module_version": "1.5.0",
      "model_name": "FloatRangeSliderModel",
      "state": {
       "_model_name": "FloatRangeSliderModel",
       "_view_name": "FloatRangeSliderView",
       "layout": "IPY_MODEL_7c0707c6bfae4117aca942325df73180",
       "readout": false,
       "step": 0.1,
       "style": "IPY_MODEL_15514d5598354952bdc8aee5d068edcd",
       "value": [
        25,
        75
       ]
      }
     },
     "891a90a44103460b9e3e995742898db0": {
      "model_module": "@jupyter-widgets/base",
      "model_module_version": "1.2.0",
      "model_name": "LayoutModel",
      "state": {}
     },
     "891f13ba22674dd0ad673b6f2fc1fbca": {
      "model_module": "@jupyter-widgets/controls",
      "model_module_version": "1.5.0",
      "model_name": "DescriptionStyleModel",
      "state": {
       "description_width": "initial"
      }
     },
     "8958e53bfcb84b7290651733737886be": {
      "model_module": "@jupyter-widgets/base",
      "model_module_version": "1.2.0",
      "model_name": "LayoutModel",
      "state": {}
     },
     "8990d8f765e14990a4d27f0d8e249cf1": {
      "model_module": "@jupyter-widgets/controls",
      "model_module_version": "1.5.0",
      "model_name": "DescriptionStyleModel",
      "state": {
       "description_width": ""
      }
     },
     "899b0171954b46cfa5db6fe940f138cf": {
      "model_module": "@jupyter-widgets/controls",
      "model_module_version": "1.5.0",
      "model_name": "DropdownModel",
      "state": {
       "index": null,
       "layout": "IPY_MODEL_15ad05d17d20432b84a771b68495a368",
       "style": "IPY_MODEL_e6ddb0180bf049f08b195de004154b6e"
      }
     },
     "89a152c832b442c192c8210163f583ff": {
      "model_module": "@jupyter-widgets/base",
      "model_module_version": "1.2.0",
      "model_name": "LayoutModel",
      "state": {}
     },
     "89ad5f3d9c9748ad96a7967cf1d1df9d": {
      "model_module": "@jupyter-widgets/base",
      "model_module_version": "1.2.0",
      "model_name": "LayoutModel",
      "state": {
       "width": "65%"
      }
     },
     "89c9834780a741d89a4c6a499dcd2995": {
      "model_module": "@jupyter-widgets/controls",
      "model_module_version": "1.5.0",
      "model_name": "DescriptionStyleModel",
      "state": {
       "description_width": ""
      }
     },
     "89d44e08ce2c4f959bb779ed6bb32456": {
      "model_module": "@jupyter-widgets/controls",
      "model_module_version": "1.5.0",
      "model_name": "DescriptionStyleModel",
      "state": {
       "description_width": ""
      }
     },
     "8a00614a4a334942ad5c5562b897cfdd": {
      "model_module": "@jupyter-widgets/base",
      "model_module_version": "1.2.0",
      "model_name": "LayoutModel",
      "state": {}
     },
     "8a1dba28582c45169321fa1f8b9d96f9": {
      "model_module": "@jupyter-widgets/base",
      "model_module_version": "1.2.0",
      "model_name": "LayoutModel",
      "state": {}
     },
     "8a2a99e5a4bf48fab2f9bfc1a693ec77": {
      "model_module": "@jupyter-widgets/controls",
      "model_module_version": "1.5.0",
      "model_name": "HTMLModel",
      "state": {
       "layout": "IPY_MODEL_ab855090a7564a97afe1226d64276fd9",
       "style": "IPY_MODEL_663fad6cdcc84665b6895cee1d4febe8",
       "value": "Max_depth:"
      }
     },
     "8a8597730a0149629c407cc98ce6c15b": {
      "model_module": "@jupyter-widgets/controls",
      "model_module_version": "1.5.0",
      "model_name": "TextModel",
      "state": {
       "layout": "IPY_MODEL_613371c620414817a6e977cd3969ea46",
       "placeholder": "1,2... or \"f1\",\"f2\"...",
       "style": "IPY_MODEL_be62b3903f554d21867f6db6ae85ea83"
      }
     },
     "8b26b546a31a47e38bc80d05ad717678": {
      "model_module": "@jupyter-widgets/controls",
      "model_module_version": "1.5.0",
      "model_name": "ButtonStyleModel",
      "state": {}
     },
     "8b2c1c2b19df41eb91d9715f5c3391d6": {
      "model_module": "@jupyter-widgets/base",
      "model_module_version": "1.2.0",
      "model_name": "LayoutModel",
      "state": {
       "width": "99%"
      }
     },
     "8b35d191b7314c8fb3b084cb2d86c6cb": {
      "model_module": "@jupyter-widgets/base",
      "model_module_version": "1.2.0",
      "model_name": "LayoutModel",
      "state": {
       "width": "55%"
      }
     },
     "8b4af76314b340908a02159bf16a23e3": {
      "model_module": "@jupyter-widgets/base",
      "model_module_version": "1.2.0",
      "model_name": "LayoutModel",
      "state": {}
     },
     "8b56fa03843f4fe89469ab641d6e5406": {
      "model_module": "@jupyter-widgets/controls",
      "model_module_version": "1.5.0",
      "model_name": "DescriptionStyleModel",
      "state": {
       "description_width": "initial"
      }
     },
     "8b6a0b6532bd49009a2b59e31e44fad6": {
      "model_module": "@jupyter-widgets/controls",
      "model_module_version": "1.5.0",
      "model_name": "HTMLModel",
      "state": {
       "layout": "IPY_MODEL_4ef63e806c564d15bce5d6e4f6eebde2",
       "style": "IPY_MODEL_b6e0791f67fe45d49ceae42f3be63ae6",
       "value": "<h4 style='margin: 10px 0px;'>Customize Model</h4>"
      }
     },
     "8ba16809db874366a1b92c2dd4328a07": {
      "model_module": "@jupyter-widgets/controls",
      "model_module_version": "1.5.0",
      "model_name": "HTMLModel",
      "state": {
       "layout": "IPY_MODEL_0f3d1033358f4023ac4076ce7674e28f",
       "style": "IPY_MODEL_80d0ee692ae6419c867a3885d4fee30f",
       "value": "Early_stop_rounds:"
      }
     },
     "8bb4c4ccbe644a0492815126b0a00260": {
      "model_module": "@jupyter-widgets/controls",
      "model_module_version": "1.5.0",
      "model_name": "BoundedIntTextModel",
      "state": {
       "layout": "IPY_MODEL_831876c72d674a2d91a5d169a6e49192",
       "style": "IPY_MODEL_48c732b3854644308335fb7c369717b0",
       "value": 10
      }
     },
     "8bd9742be5ed408790716dc4a5572d85": {
      "model_module": "@jupyter-widgets/controls",
      "model_module_version": "1.5.0",
      "model_name": "DescriptionStyleModel",
      "state": {
       "description_width": "initial"
      }
     },
     "8be3e67c4b744260b444e93c53df6c9a": {
      "model_module": "@jupyter-widgets/base",
      "model_module_version": "1.2.0",
      "model_name": "LayoutModel",
      "state": {
       "height": "25px",
       "width": "35px"
      }
     },
     "8bea50e129ad4aeaa2bbed5245402e1b": {
      "model_module": "@jupyter-widgets/controls",
      "model_module_version": "1.5.0",
      "model_name": "DescriptionStyleModel",
      "state": {
       "description_width": ""
      }
     },
     "8bf2337b4a7d4211b8d48b8b30f3c60a": {
      "model_module": "@jupyter-widgets/controls",
      "model_module_version": "1.5.0",
      "model_name": "ButtonStyleModel",
      "state": {}
     },
     "8bf8edd4e9134b60bdbb933070845c73": {
      "model_module": "@jupyter-widgets/base",
      "model_module_version": "1.2.0",
      "model_name": "LayoutModel",
      "state": {
       "width": "65%"
      }
     },
     "8c0756a197164bbaa558ba39e3368394": {
      "model_module": "@jupyter-widgets/controls",
      "model_module_version": "1.5.0",
      "model_name": "HTMLModel",
      "state": {
       "layout": "IPY_MODEL_8958e53bfcb84b7290651733737886be",
       "style": "IPY_MODEL_be48f1ee591c401cb3d63a9431c67303",
       "value": "<p>Random Seed:</p>"
      }
     },
     "8c08d7806f714e09a69e7091da2feaf7": {
      "model_module": "@jupyter-widgets/base",
      "model_module_version": "1.2.0",
      "model_name": "LayoutModel",
      "state": {}
     },
     "8c21653716cd43869671bc8029d7f08e": {
      "model_module": "@jupyter-widgets/controls",
      "model_module_version": "1.5.0",
      "model_name": "HTMLModel",
      "state": {
       "layout": "IPY_MODEL_cc2cbf970b244a43a5843c35e3e3d850",
       "style": "IPY_MODEL_17f3e9ebe19b42e58481c3030addb804",
       "value": "Update Attribute:"
      }
     },
     "8c3f7cae783a46da88c8f1807d1bb697": {
      "model_module": "@jupyter-widgets/controls",
      "model_module_version": "1.5.0",
      "model_name": "VBoxModel",
      "state": {
       "children": [
        "IPY_MODEL_7be9fbbe5648430180dd02369b616484",
        "IPY_MODEL_697f6b7958774c64adb9cc3856e6e299",
        "IPY_MODEL_6c80682b5a284ec99eba02b177acd925",
        "IPY_MODEL_8f35054a16f345adac0c865888589a43",
        "IPY_MODEL_6ba5daa8652b4968997be9902efeb91d"
       ],
       "layout": "IPY_MODEL_9e2f892540c247378e88fea05cc87cc6"
      }
     },
     "8c60dc488dad45ee85623fcec0ee0094": {
      "model_module": "@jupyter-widgets/controls",
      "model_module_version": "1.5.0",
      "model_name": "DescriptionStyleModel",
      "state": {
       "description_width": "initial"
      }
     },
     "8c79e73be0f5423382e16e6d989dd443": {
      "model_module": "@jupyter-widgets/controls",
      "model_module_version": "1.5.0",
      "model_name": "DescriptionStyleModel",
      "state": {
       "description_width": ""
      }
     },
     "8ca63ca2dabc42418002bf931f2656e2": {
      "model_module": "@jupyter-widgets/base",
      "model_module_version": "1.2.0",
      "model_name": "LayoutModel",
      "state": {
       "width": "auto"
      }
     },
     "8ca7f3de1acd4930af7568c669b70218": {
      "model_module": "@jupyter-widgets/controls",
      "model_module_version": "1.5.0",
      "model_name": "HTMLModel",
      "state": {
       "layout": "IPY_MODEL_97f6a70cc63544cd837a3bf595d9c506",
       "style": "IPY_MODEL_afb130732d074aab8812a8734a652e61",
       "value": "Data Shape:(63240, 11)"
      }
     },
     "8cc8627a494a447a856d235eafa52889": {
      "model_module": "@jupyter-widgets/controls",
      "model_module_version": "1.5.0",
      "model_name": "DescriptionStyleModel",
      "state": {
       "description_width": ""
      }
     },
     "8cef69c82ca5464584f0576aff8c346b": {
      "model_module": "@jupyter-widgets/controls",
      "model_module_version": "1.5.0",
      "model_name": "DescriptionStyleModel",
      "state": {
       "description_width": "initial"
      }
     },
     "8cf0220b8d594c14b95c41f72e9ba8e0": {
      "model_module": "@jupyter-widgets/base",
      "model_module_version": "1.2.0",
      "model_name": "LayoutModel",
      "state": {}
     },
     "8cf134c23eeb4eb687af6479d07b876c": {
      "model_module": "@jupyter-widgets/base",
      "model_module_version": "1.2.0",
      "model_name": "LayoutModel",
      "state": {
       "width": "auto"
      }
     },
     "8cfc312aabb14c4da51d6732b27574cc": {
      "model_module": "@jupyter-widgets/controls",
      "model_module_version": "1.5.0",
      "model_name": "DescriptionStyleModel",
      "state": {
       "description_width": ""
      }
     },
     "8cff33ae624d4b5e8c78cfd1452e9845": {
      "model_module": "@jupyter-widgets/base",
      "model_module_version": "1.2.0",
      "model_name": "LayoutModel",
      "state": {}
     },
     "8d070986b4244517b9f44ea405fdb2c7": {
      "model_module": "@jupyter-widgets/controls",
      "model_module_version": "1.5.0",
      "model_name": "HTMLModel",
      "state": {
       "layout": "IPY_MODEL_f4effa7ea3e3474fb1f6914082876524",
       "style": "IPY_MODEL_496cd465dab54cf699eb81e104c39bc5",
       "value": "\n        <table class='ptable striped'>\n            <thead class='pthead'>\n            </thead>\n\n            <tbody class='ptbody'>\n                <tr class='ptr'><td class='ptd'>Excluded columns</td><td class='ptd'>['Minority', 'Majority', 'Age >= 62', 'Age < 62']</td></tr><tr class='ptr'><td class='ptd'>Target variable</td><td class='ptd'>Label</td></tr><tr class='ptr'><td class='ptd'>Sample weight</td><td class='ptd'>None</td></tr><tr class='ptr'><td class='ptd'>Task type</td><td class='ptd'>Classification</td></tr><tr class='ptr'><td class='ptd'>Split method</td><td class='ptd'>Random</td></tr><tr class='ptr'><td class='ptd'>Test ratio</td><td class='ptd'>0.2</td></tr><tr class='ptr'><td class='ptd'>Random state</td><td class='ptd'>0</td></tr>\n            </tbody>\n        </table>\n        "
      }
     },
     "8d0bd4fc53d84845bfbb7a67558e33bf": {
      "model_module": "@jupyter-widgets/controls",
      "model_module_version": "1.5.0",
      "model_name": "DescriptionStyleModel",
      "state": {
       "description_width": ""
      }
     },
     "8d5faf56771d47aa80a7a866d5cfe60e": {
      "model_module": "@jupyter-widgets/controls",
      "model_module_version": "1.5.0",
      "model_name": "ButtonModel",
      "state": {
       "_dom_classes": [
        "pbtn"
       ],
       "button_style": "danger",
       "icon": "cog",
       "layout": "IPY_MODEL_8be3e67c4b744260b444e93c53df6c9a",
       "style": "IPY_MODEL_e7ab9c7520ec4955ac2eb538bf383a52"
      }
     },
     "8d65de53924e4ad2943a8df11427f276": {
      "model_module": "@jupyter-widgets/base",
      "model_module_version": "1.2.0",
      "model_name": "LayoutModel",
      "state": {
       "display": "flex",
       "flex_flow": "column",
       "width": "100%"
      }
     },
     "8d7527b9aced4ee4aa8dfa198d57084d": {
      "model_module": "@jupyter-widgets/controls",
      "model_module_version": "1.5.0",
      "model_name": "ButtonModel",
      "state": {
       "_dom_classes": [
        "pbtn"
       ],
       "button_style": "danger",
       "description": "OK",
       "layout": "IPY_MODEL_e7c385ebca1a4777ad3e2f44c35fdfd0",
       "style": "IPY_MODEL_fed07bc79edc45bda111c250c2d8f718"
      }
     },
     "8d7a17f4e7524f1d85be6f01f4bdd19f": {
      "model_module": "@jupyter-widgets/base",
      "model_module_version": "1.2.0",
      "model_name": "LayoutModel",
      "state": {
       "justify_content": "space-between"
      }
     },
     "8dbb0521ccea4a49b3a2f33cf323afa8": {
      "model_module": "@jupyter-widgets/controls",
      "model_module_version": "1.5.0",
      "model_name": "ButtonModel",
      "state": {
       "_dom_classes": [
        "pbtn"
       ],
       "button_style": "danger",
       "description": "OK",
       "layout": "IPY_MODEL_b9fffad941fd4946b445e44843174d8d",
       "style": "IPY_MODEL_17667c9f5ce84330a23cdded430fdebf"
      }
     },
     "8dc6bc851c2848108037d973e7aad8a0": {
      "model_module": "@jupyter-widgets/controls",
      "model_module_version": "1.5.0",
      "model_name": "HTMLModel",
      "state": {
       "layout": "IPY_MODEL_23d84dbbd71742d597d3a13f1ef32e4a",
       "style": "IPY_MODEL_2617a2c328c94e5e9707fef7473b3f87",
       "value": "<p>Target Variable:</p>"
      }
     },
     "8dcac786e3ab45bfbdea01007a0be8fb": {
      "model_module": "@jupyter-widgets/base",
      "model_module_version": "1.2.0",
      "model_name": "LayoutModel",
      "state": {
       "width": "auto"
      }
     },
     "8df5dc1d5bb84edd86f63df6b9710629": {
      "model_module": "@jupyter-widgets/controls",
      "model_module_version": "1.5.0",
      "model_name": "VBoxModel",
      "state": {
       "children": [
        "IPY_MODEL_7d05bfd9a8f842668106fbac2096c91f",
        "IPY_MODEL_08f6d310d0ec42c6811155e5df9bce63",
        "IPY_MODEL_30311a084f9344109e89163af6061bd2",
        "IPY_MODEL_686eaafe9d7243b48e78b9c16ada973b",
        "IPY_MODEL_2c13243386c648c0809b5851e046d243"
       ],
       "layout": "IPY_MODEL_bb2eb1fc5ae24bd382991a6262d7d385"
      }
     },
     "8dfdd005856c42c3ba0597ea87ce183f": {
      "model_module": "@jupyter-widgets/controls",
      "model_module_version": "1.5.0",
      "model_name": "CheckboxModel",
      "state": {
       "description": "XGB2",
       "disabled": false,
       "indent": false,
       "layout": "IPY_MODEL_ff97dbef8b254e0e833c150f3cec7d44",
       "style": "IPY_MODEL_3c07d6f0959b4f5a8c83c0ae306272e8",
       "value": true
      }
     },
     "8e1623be8b774e15929a068e5a4ca766": {
      "model_module": "@jupyter-widgets/base",
      "model_module_version": "1.2.0",
      "model_name": "LayoutModel",
      "state": {
       "height": "auto"
      }
     },
     "8e2766fd768045559d372ab91852e681": {
      "model_module": "@jupyter-widgets/controls",
      "model_module_version": "1.5.0",
      "model_name": "DescriptionStyleModel",
      "state": {
       "description_width": "initial"
      }
     },
     "8e2d584b2d43463889b2e2aa40725bac": {
      "model_module": "@jupyter-widgets/base",
      "model_module_version": "1.2.0",
      "model_name": "LayoutModel",
      "state": {}
     },
     "8e65520bef4846e78bdf8478389bf044": {
      "model_module": "@jupyter-widgets/controls",
      "model_module_version": "1.5.0",
      "model_name": "DescriptionStyleModel",
      "state": {
       "description_width": ""
      }
     },
     "8e7bfd0db1cd4596b8ffbf7bd81ea9ed": {
      "model_module": "@jupyter-widgets/controls",
      "model_module_version": "1.5.0",
      "model_name": "HTMLModel",
      "state": {
       "layout": "IPY_MODEL_185043375a89433baa9d6b032c0a206c",
       "style": "IPY_MODEL_738e47e7f29a4e5e9939a674c8c1991f",
       "value": "<div style='margin-right: 10px'></div>"
      }
     },
     "8e860a4e3f1540719d379e06b6623e34": {
      "model_module": "@jupyter-widgets/controls",
      "model_module_version": "1.5.0",
      "model_name": "VBoxModel",
      "state": {
       "children": [
        "IPY_MODEL_977f99c72f8b40868a869d5485554e2d",
        "IPY_MODEL_d316b94af31143878d6549080c2ad007"
       ],
       "layout": "IPY_MODEL_c995ef1d2ef645f88ae824dbc437c626"
      }
     },
     "8e9934719abd40948fcb85e5bfffa424": {
      "model_module": "@jupyter-widgets/output",
      "model_module_version": "1.0.0",
      "model_name": "OutputModel",
      "state": {
       "layout": "IPY_MODEL_5c5c5b5f6ee04900826f37150d6a32f9"
      }
     },
     "8ec089e9e8a14cb2adbe295c89d69c49": {
      "model_module": "@jupyter-widgets/base",
      "model_module_version": "1.2.0",
      "model_name": "LayoutModel",
      "state": {
       "width": "99%"
      }
     },
     "8ec17282e3c046d68af77e658c9fcfb9": {
      "model_module": "@jupyter-widgets/controls",
      "model_module_version": "1.5.0",
      "model_name": "HBoxModel",
      "state": {
       "_dom_classes": [
        "form"
       ],
       "children": [
        "IPY_MODEL_a357abeb661442daadc28d95c6782375",
        "IPY_MODEL_9f31efe849594ff59e34df11b8bb8522",
        "IPY_MODEL_8e7bfd0db1cd4596b8ffbf7bd81ea9ed",
        "IPY_MODEL_a3d407993930422ebeb2de78bc29f6d5",
        "IPY_MODEL_ddcffec206d541739c86a9c14adfc39b",
        "IPY_MODEL_c8c288203e4c4fe99cd597b0f936e271",
        "IPY_MODEL_2a1e79c211304bdea900ca6a3d254a3c",
        "IPY_MODEL_5ab656eb758249b4acba1835f7589b23",
        "IPY_MODEL_4dd07a2b2b214e438ff991539ddfbac9"
       ],
       "layout": "IPY_MODEL_0deb9209352d4958b318a0a2b844d91a"
      }
     },
     "8ef922e30b4549b4b398b9a203e91493": {
      "model_module": "@jupyter-widgets/base",
      "model_module_version": "1.2.0",
      "model_name": "LayoutModel",
      "state": {
       "width": "99%"
      }
     },
     "8f35054a16f345adac0c865888589a43": {
      "model_module": "@jupyter-widgets/controls",
      "model_module_version": "1.5.0",
      "model_name": "HTMLModel",
      "state": {
       "layout": "IPY_MODEL_6dc803c6622a49d9a24588e8ccdefd6f",
       "style": "IPY_MODEL_af0f7d26163b42b49f0ca9e841c1f819",
       "value": "reg_alpha:"
      }
     },
     "8f4f48af245a4fceb182f71de574f38e": {
      "model_module": "@jupyter-widgets/controls",
      "model_module_version": "1.5.0",
      "model_name": "DescriptionStyleModel",
      "state": {
       "description_width": "initial"
      }
     },
     "8f6633b3faa64d0ba52c0af8c9897ab5": {
      "model_module": "@jupyter-widgets/controls",
      "model_module_version": "1.5.0",
      "model_name": "ButtonModel",
      "state": {
       "_dom_classes": [
        "pbtn"
       ],
       "button_style": "danger",
       "icon": "history",
       "layout": "IPY_MODEL_bf25b73072ff4436b837faedcf3dbcfa",
       "style": "IPY_MODEL_33bbd79cf1b344e58ce841f8613ff4db"
      }
     },
     "8f76d002250d46e683955dee0bdd8725": {
      "model_module": "@jupyter-widgets/controls",
      "model_module_version": "1.5.0",
      "model_name": "VBoxModel",
      "state": {
       "children": [
        "IPY_MODEL_b0c59a4f0f244a14ace61a256f38ddfb",
        "IPY_MODEL_ec99047ff31146e285f17748b064cd2c"
       ],
       "layout": "IPY_MODEL_f468c2bd1cbf4e03bf824218cb98ab71"
      }
     },
     "8f9017cdcf5344f8bf31d35bbb378680": {
      "model_module": "@jupyter-widgets/controls",
      "model_module_version": "1.5.0",
      "model_name": "BoxModel",
      "state": {
       "_dom_classes": [
        "inner-card"
       ],
       "children": [
        "IPY_MODEL_e7678841457e4970aaa9688ac38c2869"
       ],
       "layout": "IPY_MODEL_58ed5b56bd9b48a1ba32dadd3307ac2d"
      }
     },
     "8f9d99fc6a3f4aaa93ee81dd8974bcc1": {
      "model_module": "@jupyter-widgets/base",
      "model_module_version": "1.2.0",
      "model_name": "LayoutModel",
      "state": {}
     },
     "8fb963b659ee4a6f838a75764c598e83": {
      "model_module": "@jupyter-widgets/base",
      "model_module_version": "1.2.0",
      "model_name": "LayoutModel",
      "state": {
       "width": "65%"
      }
     },
     "8fe1bf519d514b43abefb6cf44d5b8be": {
      "model_module": "@jupyter-widgets/controls",
      "model_module_version": "1.5.0",
      "model_name": "DescriptionStyleModel",
      "state": {
       "description_width": ""
      }
     },
     "8feca62a66124fa0bc73fffbd7e190d7": {
      "model_module": "@jupyter-widgets/base",
      "model_module_version": "1.2.0",
      "model_name": "LayoutModel",
      "state": {
       "display": "flex",
       "flex_flow": "column",
       "width": "auto"
      }
     },
     "90254911b9974c05a6795774b7ef6a6a": {
      "model_module": "@jupyter-widgets/base",
      "model_module_version": "1.2.0",
      "model_name": "LayoutModel",
      "state": {}
     },
     "904ddd7c499245f2a7af2d744ec17650": {
      "model_module": "@jupyter-widgets/base",
      "model_module_version": "1.2.0",
      "model_name": "LayoutModel",
      "state": {
       "width": "auto"
      }
     },
     "904ebe7f0e2744b29c1b39a5e483e909": {
      "model_module": "@jupyter-widgets/controls",
      "model_module_version": "1.5.0",
      "model_name": "HTMLModel",
      "state": {
       "layout": "IPY_MODEL_00a24813e6f94ee980f387ab47d38c14",
       "style": "IPY_MODEL_8c79e73be0f5423382e16e6d989dd443",
       "value": "\n        <table class='ptable striped'>\n            <thead class='pthead'>\n                <tr class='ptr'>\n                    <th class='pth'></th><th class='pth'>name</th><th class='pth'>n_missing</th><th class='pth'>mean</th><th class='pth'>std</th><th class='pth'>min</th><th class='pth'>q1</th><th class='pth'>median</th><th class='pth'>q3</th><th class='pth'>max</th>\n                </tr>\n            </thead>\n\n            <tbody class='ptbody'>\n                <tr class='ptr'><td class='ptd'>0</td><td class='ptd'>x1</td><td class='ptd'>0.0</td><td class='ptd'>-0.010468</td><td class='ptd'>1.00554</td><td class='ptd'>-4.111457</td><td class='ptd'>-0.687572</td><td class='ptd'>-0.016001</td><td class='ptd'>0.661917</td><td class='ptd'>3.723496</td></tr><tr class='ptr'><td class='ptd'>1</td><td class='ptd'>x2</td><td class='ptd'>0.0</td><td class='ptd'>0.003769</td><td class='ptd'>0.998657</td><td class='ptd'>-4.441389</td><td class='ptd'>-0.661684</td><td class='ptd'>0.009965</td><td class='ptd'>0.678074</td><td class='ptd'>4.547531</td></tr><tr class='ptr'><td class='ptd'>2</td><td class='ptd'>x3</td><td class='ptd'>0.0</td><td class='ptd'>-0.027052</td><td class='ptd'>0.996581</td><td class='ptd'>-4.040587</td><td class='ptd'>-0.699355</td><td class='ptd'>-0.026371</td><td class='ptd'>0.64237</td><td class='ptd'>4.308687</td></tr><tr class='ptr'><td class='ptd'>3</td><td class='ptd'>x4</td><td class='ptd'>0.0</td><td class='ptd'>0.00803</td><td class='ptd'>0.99497</td><td class='ptd'>-4.491451</td><td class='ptd'>-0.659107</td><td class='ptd'>0.004833</td><td class='ptd'>0.680002</td><td class='ptd'>3.864044</td></tr><tr class='ptr'><td class='ptd'>4</td><td class='ptd'>x5</td><td class='ptd'>0.0</td><td class='ptd'>-0.001039</td><td class='ptd'>0.9876</td><td class='ptd'>-3.990077</td><td class='ptd'>-0.663987</td><td class='ptd'>0.000662</td><td class='ptd'>0.659662</td><td class='ptd'>4.093057</td></tr><tr class='ptr grey'><td class='ptd'>5</td><td class='ptd'>Minority</td><td class='ptd'>0.0</td><td class='ptd'>0.271599</td><td class='ptd'>0.268342</td><td class='ptd'>3e-06</td><td class='ptd'>0.056888</td><td class='ptd'>0.170139</td><td class='ptd'>0.419018</td><td class='ptd'>0.99998</td></tr><tr class='ptr grey'><td class='ptd'>6</td><td class='ptd'>Majority</td><td class='ptd'>0.0</td><td class='ptd'>0.728401</td><td class='ptd'>0.268342</td><td class='ptd'>2e-05</td><td class='ptd'>0.580982</td><td class='ptd'>0.829861</td><td class='ptd'>0.943112</td><td class='ptd'>0.999997</td></tr>\n            </tbody>\n        </table>\n        "
      }
     },
     "905a06d6c7f44110801bdfa5d3bc062a": {
      "model_module": "@jupyter-widgets/base",
      "model_module_version": "1.2.0",
      "model_name": "LayoutModel",
      "state": {}
     },
     "90606af02f4d4365a9a4e2f42057d921": {
      "model_module": "@jupyter-widgets/controls",
      "model_module_version": "1.5.0",
      "model_name": "DescriptionStyleModel",
      "state": {
       "description_width": ""
      }
     },
     "909ae54f37344c48b2a26033a3c709ae": {
      "model_module": "@jupyter-widgets/controls",
      "model_module_version": "1.5.0",
      "model_name": "DescriptionStyleModel",
      "state": {
       "description_width": ""
      }
     },
     "90be3732521a47289507d0d51b4a10c2": {
      "model_module": "@jupyter-widgets/controls",
      "model_module_version": "1.5.0",
      "model_name": "HTMLModel",
      "state": {
       "layout": "IPY_MODEL_71b10bce1c804e96a7024457202884c4",
       "style": "IPY_MODEL_2779474a28d94dd493c6e78419a37bb2",
       "value": "Loading..."
      }
     },
     "910a36dbfa2e40548212254f8c630890": {
      "model_module": "@jupyter-widgets/controls",
      "model_module_version": "1.5.0",
      "model_name": "BoxModel",
      "state": {
       "_dom_classes": [
        "fix-config-from-overflow"
       ],
       "children": [
        "IPY_MODEL_68160e24f7be4a79bff4faca4f72c134"
       ],
       "layout": "IPY_MODEL_32e4509e022744dba18059bc7063dd01"
      }
     },
     "916d85f1e69f4c07b6f56acb9ef6e9de": {
      "model_module": "@jupyter-widgets/base",
      "model_module_version": "1.2.0",
      "model_name": "LayoutModel",
      "state": {}
     },
     "9170c25bf3864a699fa5215773210ee9": {
      "model_module": "@jupyter-widgets/controls",
      "model_module_version": "1.5.0",
      "model_name": "DescriptionStyleModel",
      "state": {
       "description_width": "initial"
      }
     },
     "919d54538a0143cabac62c3fab9bdf6a": {
      "model_module": "@jupyter-widgets/controls",
      "model_module_version": "1.5.0",
      "model_name": "DescriptionStyleModel",
      "state": {
       "description_width": ""
      }
     },
     "91a767ea2e8f4540bc60a7c22f194e2a": {
      "model_module": "@jupyter-widgets/controls",
      "model_module_version": "1.5.0",
      "model_name": "DescriptionStyleModel",
      "state": {
       "description_width": ""
      }
     },
     "91b421a9920b4b6882146a4040fd6c05": {
      "model_module": "@jupyter-widgets/base",
      "model_module_version": "1.2.0",
      "model_name": "LayoutModel",
      "state": {
       "width": "65%"
      }
     },
     "91ce20b1acd44e5fb3f6601a42456192": {
      "model_module": "@jupyter-widgets/controls",
      "model_module_version": "1.5.0",
      "model_name": "DescriptionStyleModel",
      "state": {
       "description_width": ""
      }
     },
     "91e4b499f88c4c57baf1a3942012c753": {
      "model_module": "@jupyter-widgets/controls",
      "model_module_version": "1.5.0",
      "model_name": "BoxModel",
      "state": {
       "_dom_classes": [
        "inner-card"
       ],
       "children": [
        "IPY_MODEL_d2711d6557bb403da0077c44c86490bf",
        "IPY_MODEL_e7005a7624714418a1e04ab4067ba98f",
        "IPY_MODEL_0d56e7a93b5c4d57b9a0aea188888037"
       ],
       "layout": "IPY_MODEL_602ba7d1d11a462bb84270709986d1bd"
      }
     },
     "9202763431b047cc819ab04045cf05a4": {
      "model_module": "@jupyter-widgets/controls",
      "model_module_version": "1.5.0",
      "model_name": "HBoxModel",
      "state": {
       "children": [
        "IPY_MODEL_e52db44a0af8462b8f8d99274cb94bf1",
        "IPY_MODEL_44d710a39ccc4510ace88ff3a9c65166",
        "IPY_MODEL_d3ec01acbaae49c9aba5fb30ff5458ab"
       ],
       "layout": "IPY_MODEL_9ba318fe357f44308bdc212f889a2815"
      }
     },
     "9217d6b9116443dab7f8b9afdc9d1e79": {
      "model_module": "@jupyter-widgets/base",
      "model_module_version": "1.2.0",
      "model_name": "LayoutModel",
      "state": {}
     },
     "9236fcbbe2864897889c8df95ab87e15": {
      "model_module": "@jupyter-widgets/controls",
      "model_module_version": "1.5.0",
      "model_name": "HBoxModel",
      "state": {
       "layout": "IPY_MODEL_66bf1e54a9734cb9b217feb6b98c2116"
      }
     },
     "923c8046f9e743dba4c9fd19137e0501": {
      "model_module": "@jupyter-widgets/controls",
      "model_module_version": "1.5.0",
      "model_name": "VBoxModel",
      "state": {
       "children": [
        "IPY_MODEL_b057b53db75b4639b6a28f9e1abc879c",
        "IPY_MODEL_dc745e02af9b4d809c4306e540d3c0df",
        "IPY_MODEL_a09d50d7d0134fc38f579be5dfd10129",
        "IPY_MODEL_3f6cdfa96a9249a89f884035f662c4c8",
        "IPY_MODEL_4fb56c8938654709a6cd06f75b3828a9",
        "IPY_MODEL_db51a326d16c4c9997d98e16f4ac2f45",
        "IPY_MODEL_87c136e8b44840e6bf028ac048b33f20",
        "IPY_MODEL_c54066731deb4178ba3ad087ecabece7"
       ],
       "layout": "IPY_MODEL_2ffe821e64b040499db2b0d4595a4026"
      }
     },
     "92430e462a2642eea8fc16107fd3f5e6": {
      "model_module": "@jupyter-widgets/controls",
      "model_module_version": "1.5.0",
      "model_name": "DescriptionStyleModel",
      "state": {
       "description_width": ""
      }
     },
     "924e82ff2a664bb88ace5b8dc4325631": {
      "model_module": "@jupyter-widgets/base",
      "model_module_version": "1.2.0",
      "model_name": "LayoutModel",
      "state": {}
     },
     "9275188938dd4a229d7a191f80c050f8": {
      "model_module": "@jupyter-widgets/controls",
      "model_module_version": "1.5.0",
      "model_name": "ButtonStyleModel",
      "state": {}
     },
     "927b4d0479334e4f9359042e5302e584": {
      "model_module": "@jupyter-widgets/base",
      "model_module_version": "1.2.0",
      "model_name": "LayoutModel",
      "state": {}
     },
     "92831bf72dd64e97b52610c138683c7f": {
      "model_module": "@jupyter-widgets/controls",
      "model_module_version": "1.5.0",
      "model_name": "HTMLModel",
      "state": {
       "layout": "IPY_MODEL_924e82ff2a664bb88ace5b8dc4325631",
       "style": "IPY_MODEL_548a76e9159d438b982993c428f231e3",
       "value": "Feature_decreasing:"
      }
     },
     "92ae31c3927a424bbc025d084f5a3897": {
      "model_module": "@jupyter-widgets/base",
      "model_module_version": "1.2.0",
      "model_name": "LayoutModel",
      "state": {
       "width": "auto"
      }
     },
     "92e4eb4ecf5a495bbc2d1e57cc9cf63d": {
      "model_module": "@jupyter-widgets/controls",
      "model_module_version": "1.5.0",
      "model_name": "HTMLModel",
      "state": {
       "layout": "IPY_MODEL_000d80c929d841cc89caa775ab3165aa",
       "style": "IPY_MODEL_e5062d52067643fbb6e4610d01a8cfc8",
       "value": "\n        <style>\n\n        .left-label {\n            width: 30%;\n        }\n\n        .card-panel {\n            -webkit-transition: -webkit-box-shadow .25s;\n            transition: -webkit-box-shadow .25s;\n            transition: box-shadow .25s;\n            transition: box-shadow .25s, -webkit-box-shadow .25s;\n            padding: 24px;\n            margin: 0.5rem 0 1rem 0;\n            border-radius: 2px;\n            background-color: #fff;\n        }\n\n        .card {\n            position: relative;\n            margin: 0.5rem 0.1rem 1rem 0.2rem;\n            background-color: #fff;\n            -webkit-transition: -webkit-box-shadow .25s;\n            transition: -webkit-box-shadow .25s;\n            transition: box-shadow .25s;\n            transition: box-shadow .25s, -webkit-box-shadow .25s;\n            border-radius: 2px;\n            box-shadow: 0 2px 2px 0 rgb(0 0 0 / 14%), 0 3px 1px -2px rgb(0 0 0 / 12%), 0 1px 5px 0 rgb(0 0 0 / 20%);\n            padding: 24px;\n            color: white;\n        }\n\n        .card .card-title {\n            font-size: 24px;\n            font-weight: 300;\n        }\n\n        @media only screen and (min-width: 800px) {\n            /* For notebook: */\n            .card {width: 99% !important;}\n        }\n\n        @media only screen and (min-width: 1400px) {\n            /* For colab: */\n            .card {width: 99% !important;}\n        }\n\n        .blue-grey.darken-1 {\n            background-color: #546e7a !important;\n        }\n\n        .small-card {\n            position: relative;\n            margin: 0.5rem 0 1rem 0;\n            background-color: #fff;\n            -webkit-transition: -webkit-box-shadow .25s;\n            transition: -webkit-box-shadow .25s;\n            transition: box-shadow .25s;\n            transition: box-shadow .25s, -webkit-box-shadow .25s;\n            border-radius: 2px;\n            box-shadow: 0 2px 2px 0 rgb(0 0 0 / 14%), 0 3px 1px -2px rgb(0 0 0 / 12%), 0 1px 5px 0 rgb(0 0 0 / 20%);\n            padding: 0px 5px 0px 5px;\n            color: white;\n        }\n\n        .inner-card {\n            position: relative;\n            background-color: #fff;\n            -webkit-transition: -webkit-box-shadow .25s;\n            transition: -webkit-box-shadow .25s;\n            transition: box-shadow .25s;\n            transition: box-shadow .25s, -webkit-box-shadow .25s;\n            border-radius: 2px;\n            box-shadow: 0 2px 2px 0 rgb(0 0 0 / 14%), 0 3px 1px -2px rgb(0 0 0 / 12%), 0 1px 5px 0 rgb(0 0 0 / 20%);\n            padding: 20px;\n            color: white;\n            margin: 0px 1px 1px 1px;\n        }\n\n        .card-with-tab {\n            position: relative;\n            margin: 0.5rem 0.1rem 1rem 0.2rem;\n            background-color: #fff;\n            -webkit-transition: -webkit-box-shadow .25s;\n            transition: -webkit-box-shadow .25s;\n            transition: box-shadow .25s;\n            transition: box-shadow .25s, -webkit-box-shadow .25s;\n            border-radius: 2px;\n            box-shadow: 0 2px 2px 0 rgb(0 0 0 / 14%), 0 3px 1px -2px rgb(0 0 0 / 12%), 0 1px 5px 0 rgb(0 0 0 / 20%);\n            padding: 24px;\n            color: white;\n        }\n\n        .card-with-tab button {\n            width: auto;\n            padding: 12px 40px;\n        }\n\n        .list {\n            padding: 0px 10px;\n            box-shadow: 0 2px 2px 0 rgb(0 0 0 / 14%), 0 3px 1px -2px rgb(0 0 0 / 12%), 0 1px 5px 0 rgb(0 0 0 / 20%);\n            margin: 0px 1px 60px 1px;\n        }\n\n        .list-item {\n            padding: 10px 0px;\n            border-width: 0;\n            border-style: solid;\n            border-color: rgba(0, 0, 0, 0.08);\n            border-bottom-width: thin;\n        }\n\n        .divider {\n            margin: 10px 0px;\n            border-width: 0;\n            border-style: solid;\n            border-color: rgba(0, 0, 0, 0.08);\n            border-bottom-width: thin;\n        }\n\n        .hr {\n            margin: 0;\n            -webkit-flex-shrink: 0;\n            -ms-flex-negative: 0;\n            flex-shrink: 0;\n            border-width: 0;\n            border-style: solid;\n            border-color: rgba(0, 0, 0, 0.08);\n            border-bottom-width: thin;\n        }\n\n        .notification {\n            transition: box-shadow 300ms cubic-bezier(0.4, 0, 0.2, 1) 0ms;\n            border-radius: 4px;\n            box-shadow: 0 2px 2px 0 rgb(0 0 0 / 14%), 0 3px 1px -2px rgb(0 0 0 / 12%), 0 1px 5px 0 rgb(0 0 0 / 20%);\n            font-family: Roboto, Helvetica, Arial, sans-serif;\n            font-weight: 500;\n            font-size: 12px;\n            line-height: 1.43;\n            letter-spacing: 0.01071em;\n            background-color: rgb(2, 136, 209);\n            display: flex;\n            padding: 6px 16px;\n            color: rgb(255, 255, 255);\n            margin-top: 10px;\n        }\n\n        .success {\n            background-color: #EDF7ED;\n            color: #1E4620;\n        }\n\n        .error {\n            background-color: #FDEDED;\n            color: #5F2120;\n        }\n\n        .info {\n            background-color: #E5F6FD;\n            color: #528298;\n        }\n\n        .warn {\n            background-color: #FFF4E5;\n            color: #663C00;\n        }\n\n        .margin-top-20 {\n            margin-top: 20px;\n        }\n\n        .hide {\n            display: none;\n        }\n\n        .pbtn {\n            display: inline-flex;\n            -webkit-box-align: center;\n            align-items: center;\n            -webkit-box-pack: center;\n            justify-content: center;\n            position: relative;\n            box-sizing: border-box;\n            -webkit-tap-highlight-color: transparent;\n            outline: 0px;\n            border: 0px;\n            margin: 0px;\n            cursor: pointer;\n            user-select: none;\n            vertical-align: middle;\n            appearance: none;\n            text-decoration: none;\n            font-family: Roboto, Helvetica, Arial, sans-serif;\n            font-weight: 550;\n            font-size: 12px;\n            line-height: 1.75;\n            letter-spacing: 0.02857em;\n            text-transform: uppercase;\n            min-width: 64px;\n            padding: 6px 16px;\n            border-radius: 4px;\n            transition: background-color 250ms cubic-bezier(0.4, 0, 0.2, 1) 0ms, box-shadow 250ms cubic-bezier(0.4, 0, 0.2, 1) 0ms, border-color 250ms cubic-bezier(0.4, 0, 0.2, 1) 0ms, color 250ms cubic-bezier(0.4, 0, 0.2, 1) 0ms;\n            color: rgb(255, 255, 255);\n            background-color: #D71E28;\n            box-shadow: rgb(0 0 0 / 20%) 0px 3px 1px -2px, rgb(0 0 0 / 14%) 0px 2px 2px 0px, rgb(0 0 0 / 12%) 0px 1px 5px 0px;\n        }\n\n        .output_subarea {\n            padding: 0px !important;\n        }\n\n        .ptable, .pth, .ptd {\n            border: none;\n        }\n\n        .pth, .ptd {\n            max-width: 150px;\n            white-space: nowrap;\n            overflow: hidden;\n            -o-text-overflow: ellipsis;\n            -ms-text-overflow: ellipsis;\n            text-overflow: ellipsis;\n        }\n\n        .ptable {\n            display: table;\n            border-collapse: collapse;\n            border-spacing: 0;\n        }\n\n        .ptable.striped .ptr {\n            border-bottom: none;\n        }\n\n        .ptable.striped > .ptbody > .ptr:nth-child(odd) {\n            background-color: rgba(242, 242, 242, 0.5);\n        }\n\n        .ptable.striped > .ptbody > .ptr > .ptd {\n            border-radius: 0;\n        }\n\n        .ptable.highlight > .ptbody > .ptr {\n            -webkit-transition: background-color .25s ease;\n            transition: background-color .25s ease;\n        }\n\n        .ptable.highlight > .ptbody > .ptr:hover {\n            background-color: rgba(242, 242, 242, 0.5);\n        }\n\n        .ptable.centered .pthead .ptr .pth, .ptable.centered .ptbody .ptr .ptd {\n            text-align: center;\n        }\n\n        .ptr {\n            border-bottom: 1px solid rgba(0, 0, 0, 0.12);\n        }\n\n        .ptr.hightlight {\n            background-color: yellow !important;\n        }\n\n        .ptd, .pth {\n            padding: 0.2rem 0.6rem;\n            display: table-cell;\n            text-align: right;\n            vertical-align: middle;\n            border-radius: 2px;\n            position: relative;\n        }\n\n        .ptr.grey {\n            background-color: grey !important;\n        }\n\n        .ptr.strikeout .ptd:before {\n            content: \" \";\n            position: absolute;\n            top: 50%;\n            left: 0;\n            border-bottom: 1px solid #111;\n            width: 100%;\n        }\n\n        .widget-toggle-button {\n            display: inline-flex;\n            -webkit-box-align: center;\n            align-items: center;\n            -webkit-box-pack: center;\n            justify-content: center;\n            box-sizing: border-box;\n            -webkit-tap-highlight-color: transparent;\n            background-color: transparent !important;\n            outline: 0px;\n            border: 0px;\n            border-bottom: 2px solid #E4E4E4 !important;\n            box-shadow: none !important;\n            margin: 0px !important;\n            border-radius: 0px;\n            cursor: pointer;\n            user-select: none;\n            vertical-align: middle;\n            appearance: none;\n            text-decoration: none;\n            font-family: Roboto, Helvetica, Arial, sans-serif;\n            font-weight: 500;\n            font-size: 14px;\n            line-height: 1.25;\n            letter-spacing: 0.02857em;\n            max-width: 360px;\n            min-width: 90px;\n            position: relative;\n            min-height: 48px;\n            flex-shrink: 0;\n            padding: 12px 16px;\n            overflow: hidden;\n            white-space: normal;\n            text-align: center;\n            flex-direction: column;\n            color: rgba(0, 0, 0, 0.6);\n        }\n\n        .mod-active {\n            color: rgb(25, 118, 210) !important;\n            border-bottom: 2px solid rgb(25, 118, 210) !important;\n        }\n\n        .narrow-tab button {\n            max-width: 15%;\n        }\n\n        .overflow-fix .jupyter-widgets {\n            overflow: auto;\n        }\n\n        .inner-padding {\n            padding-top: 20px;\n        }\n\n        .fix-img img {\n            width: 100%;\n        }\n\n        .flex-reverse-for-update-button {\n            flex-direction: row-reverse;\n            margin-right: 50px;\n        }\n\n        .data-summary-tab {\n            max-height: 400px;\n        }\n\n        .input-width-with-parent .widget-dropdown {\n            width: 100%;\n        }\n\n        .input-width-with-parent .widget-text {\n            width: 100%;\n        }\n\n        .no-margin {\n            margin: 0px;\n        }\n\n        .widget-hprogress label {\n            text-align: left;\n        }\n\n        .widget-dropdown label {\n            margin-right: 10px;\n        }\n\n        .form .widget-dropdown {\n            width: auto;\n        }\n\n        .form .widget-text {\n            width: auto;\n        }\n\n        .form p {\n            margin: 0px;\n        }\n\n        .widget-dropdown {\n            white-space: nowrap;\n            overflow: hidden;\n            -o-text-overflow: ellipsis;\n            -ms-text-overflow: ellipsis;\n            text-overflow: ellipsis;\n        }\n\n        .progress-train label {\n            margin-right: 10px;\n        }\n\n        select {\n            height: 97% !important;\n        }\n\n        .no-overflow {\n            overflow: none;\n        }\n\n        .split-btn button {\n            margin-bottom: 2px;\n        }\n\n        .register-btn {\n            width: 50%\n        }\n\n        .register-btn-colab {\n            width: 40%\n        }\n\n        .fix-config-from-overflow .jp-OutputArea-child {\n            display: inherit;\n        }\n        \n        .checkbox-center input[type=\"checkbox\"] {\n            vertical-align: middle;\n        }\n\n        input[type=\"checkbox\"] {\n            vertical-align: middle;\n        }\n\n        </style>\n        "
      }
     },
     "93119c021ce14a3d9b5a1cb725754085": {
      "model_module": "@jupyter-widgets/controls",
      "model_module_version": "1.5.0",
      "model_name": "HTMLModel",
      "state": {
       "layout": "IPY_MODEL_1bebfd3169f4454cac7e9d3b597f2584",
       "style": "IPY_MODEL_c50258062f5d4151a0a554f316a5aa10",
       "value": "<div style='margin-top: 15px'></div>"
      }
     },
     "931ca626186045539a3244627ec76c7e": {
      "model_module": "@jupyter-widgets/controls",
      "model_module_version": "1.5.0",
      "model_name": "DescriptionStyleModel",
      "state": {
       "description_width": ""
      }
     },
     "931ea8474edc4a0caa532ea40c2f4320": {
      "model_module": "@jupyter-widgets/controls",
      "model_module_version": "1.5.0",
      "model_name": "DescriptionStyleModel",
      "state": {
       "description_width": ""
      }
     },
     "93413e60b92c4455af71dc2b57820dc4": {
      "model_module": "@jupyter-widgets/controls",
      "model_module_version": "1.5.0",
      "model_name": "DescriptionStyleModel",
      "state": {
       "description_width": ""
      }
     },
     "9356dc4bcf704014b0bb4442ab3eda63": {
      "model_module": "@jupyter-widgets/controls",
      "model_module_version": "1.5.0",
      "model_name": "DescriptionStyleModel",
      "state": {
       "description_width": "initial"
      }
     },
     "9368a28e0ea34f5f8ff98fd4f1458e00": {
      "model_module": "@jupyter-widgets/base",
      "model_module_version": "1.2.0",
      "model_name": "LayoutModel",
      "state": {
       "display": "flex",
       "flex_flow": "column",
       "width": "100%"
      }
     },
     "9394830da06e4feda2d08e85372c75db": {
      "model_module": "@jupyter-widgets/controls",
      "model_module_version": "1.5.0",
      "model_name": "HTMLModel",
      "state": {
       "layout": "IPY_MODEL_927b4d0479334e4f9359042e5302e584",
       "style": "IPY_MODEL_33469cc93dad46dcbf4aa3b24d2ce7bd",
       "value": "\n        <table class='ptable striped'>\n            <thead class='pthead'>\n                <tr class='ptr'>\n                    <th class='pth'></th><th class='pth'>name</th><th class='pth'>n_missing</th><th class='pth'>n_unique</th><th class='pth'>top1</th><th class='pth'>top2</th><th class='pth'>top3</th><th class='pth'>n_others</th>\n                </tr>\n            </thead>\n\n            <tbody class='ptbody'>\n                <tr class='ptr'><td class='ptd'>0</td><td class='ptd'>Segment</td><td class='ptd'>0</td><td class='ptd'>15</td><td class='ptd'>Segment 13 : 15000</td><td class='ptd'>Segment 6 : 10000</td><td class='ptd'>Segment 12 : 10000</td><td class='ptd'>28240</td></tr><tr class='ptr'><td class='ptd'>1</td><td class='ptd'>Label</td><td class='ptd'>0</td><td class='ptd'>2</td><td class='ptd'>0.0 : 48714</td><td class='ptd'>1.0 : 14526</td><td class='ptd'>0</td><td class='ptd'>0</td></tr><tr class='ptr'><td class='ptd'>2</td><td class='ptd'>Age >= 62</td><td class='ptd'>0</td><td class='ptd'>2</td><td class='ptd'>0.0 : 31823</td><td class='ptd'>1.0 : 31417</td><td class='ptd'>0</td><td class='ptd'>0</td></tr><tr class='ptr'><td class='ptd'>3</td><td class='ptd'>Age < 62</td><td class='ptd'>0</td><td class='ptd'>2</td><td class='ptd'>1.0 : 31823</td><td class='ptd'>0.0 : 31417</td><td class='ptd'>0</td><td class='ptd'>0</td></tr>\n            </tbody>\n        </table>\n        "
      }
     },
     "93af8939d3ca4326bb434289651e4f7a": {
      "model_module": "@jupyter-widgets/base",
      "model_module_version": "1.2.0",
      "model_name": "LayoutModel",
      "state": {
       "width": "70px"
      }
     },
     "93b344d5b269461d8eb46a3d2f8fa31a": {
      "model_module": "@jupyter-widgets/controls",
      "model_module_version": "1.5.0",
      "model_name": "BoxModel",
      "state": {
       "children": [
        "IPY_MODEL_68bb7ff6aebf4f73b3d6f66b7650b66b",
        "IPY_MODEL_1353e5506915449a8fec29c6fd27221c"
       ],
       "layout": "IPY_MODEL_446273bc1ea146bab31c849c7518cb29"
      }
     },
     "93c1cc90233a4bf78b2d5694d15ae747": {
      "model_module": "@jupyter-widgets/controls",
      "model_module_version": "1.5.0",
      "model_name": "DescriptionStyleModel",
      "state": {
       "description_width": ""
      }
     },
     "93d4a5be37324bfcb2020ca4627d1998": {
      "model_module": "@jupyter-widgets/base",
      "model_module_version": "1.2.0",
      "model_name": "LayoutModel",
      "state": {}
     },
     "93ff3c0e09df4b1789d45029dd72c2b0": {
      "model_module": "@jupyter-widgets/controls",
      "model_module_version": "1.5.0",
      "model_name": "DescriptionStyleModel",
      "state": {
       "description_width": ""
      }
     },
     "940264a44c4b4ae481a4400bb3de4287": {
      "model_module": "@jupyter-widgets/controls",
      "model_module_version": "1.5.0",
      "model_name": "BoundedIntTextModel",
      "state": {
       "layout": "IPY_MODEL_efafdd683bc245099d0cc80a91bb3bac",
       "min": 1,
       "style": "IPY_MODEL_9b99861edf12484fa185ae4f14658408",
       "value": 5
      }
     },
     "941cc61f6e6544fdba99748b7309c81a": {
      "model_module": "@jupyter-widgets/base",
      "model_module_version": "1.2.0",
      "model_name": "LayoutModel",
      "state": {}
     },
     "942187dd0f454c21b69a011ef7e92cba": {
      "model_module": "@jupyter-widgets/controls",
      "model_module_version": "1.5.0",
      "model_name": "DropdownModel",
      "state": {
       "_options_labels": [
        "Select Model",
        "XGB2"
       ],
       "index": 1,
       "layout": "IPY_MODEL_66eca80fe7a04c838c91a42bc6d67c22",
       "style": "IPY_MODEL_41c3f4e0bb8a4f538d5a3e39bbbe4886"
      }
     },
     "9433b712c26b4699880f2ca35da46fbb": {
      "model_module": "@jupyter-widgets/controls",
      "model_module_version": "1.5.0",
      "model_name": "BoxModel",
      "state": {
       "children": [
        "IPY_MODEL_eeecdb0d4da74a63ac15d5124d0c99d5"
       ],
       "layout": "IPY_MODEL_a70cb3312c14408cb4c85836ace4061e"
      }
     },
     "9452e25f8dfc4f849e182eee6a2d69a6": {
      "model_module": "@jupyter-widgets/base",
      "model_module_version": "1.2.0",
      "model_name": "LayoutModel",
      "state": {}
     },
     "94555b15c7c34029988a86a876750028": {
      "model_module": "@jupyter-widgets/controls",
      "model_module_version": "1.5.0",
      "model_name": "DescriptionStyleModel",
      "state": {
       "description_width": "initial"
      }
     },
     "946ab92b7e09432e95c3452ce1757d16": {
      "model_module": "@jupyter-widgets/controls",
      "model_module_version": "1.5.0",
      "model_name": "DescriptionStyleModel",
      "state": {
       "description_width": ""
      }
     },
     "94bc5acac7824b558ed181484cca3b02": {
      "model_module": "@jupyter-widgets/base",
      "model_module_version": "1.2.0",
      "model_name": "LayoutModel",
      "state": {
       "width": "99%"
      }
     },
     "94bfbbb8308747c5a67e95f3873ed505": {
      "model_module": "@jupyter-widgets/controls",
      "model_module_version": "1.5.0",
      "model_name": "DescriptionStyleModel",
      "state": {
       "description_width": "initial"
      }
     },
     "94c06420bb774a67b4147d095438fec7": {
      "model_module": "@jupyter-widgets/controls",
      "model_module_version": "1.5.0",
      "model_name": "DescriptionStyleModel",
      "state": {
       "description_width": ""
      }
     },
     "94eadf54074f4993bd6c1c60fb3f6e99": {
      "model_module": "@jupyter-widgets/base",
      "model_module_version": "1.2.0",
      "model_name": "LayoutModel",
      "state": {
       "width": "65%"
      }
     },
     "94ef3cca04814833ab6c4815ce99f62a": {
      "model_module": "@jupyter-widgets/controls",
      "model_module_version": "1.5.0",
      "model_name": "DescriptionStyleModel",
      "state": {
       "description_width": ""
      }
     },
     "950dcabb49aa4a0b85c7760e7ae46d56": {
      "model_module": "@jupyter-widgets/controls",
      "model_module_version": "1.5.0",
      "model_name": "BoxModel",
      "state": {
       "children": [
        "IPY_MODEL_27996a3184774281bb6054239d63ba82",
        "IPY_MODEL_4867f1f8133f4f02ba40a0ca807275f9"
       ],
       "layout": "IPY_MODEL_61b51cd2062d49debd3ab53647bf47ab"
      }
     },
     "9517d1e0058c410391f11b064ae671f5": {
      "model_module": "@jupyter-widgets/controls",
      "model_module_version": "1.5.0",
      "model_name": "DescriptionStyleModel",
      "state": {
       "description_width": "initial"
      }
     },
     "951bfb266f524fc9ab43ecb4512e6cae": {
      "model_module": "@jupyter-widgets/controls",
      "model_module_version": "1.5.0",
      "model_name": "VBoxModel",
      "state": {
       "children": [
        "IPY_MODEL_977935c766cd43e78c47658dad0911c7",
        "IPY_MODEL_1137b06a086143f5896e90a9bc7f9c6f",
        "IPY_MODEL_1f1e55233cca4e539aa5a37d04809f5e",
        "IPY_MODEL_a00d7c255f7a4624867073b834fdc07f"
       ],
       "layout": "IPY_MODEL_8bf8edd4e9134b60bdbb933070845c73"
      }
     },
     "951f3802660e4808b5749eb23945f7db": {
      "model_module": "@jupyter-widgets/controls",
      "model_module_version": "1.5.0",
      "model_name": "ButtonStyleModel",
      "state": {}
     },
     "95351ef923cd4ccf96bb345ceef7293f": {
      "model_module": "@jupyter-widgets/base",
      "model_module_version": "1.2.0",
      "model_name": "LayoutModel",
      "state": {
       "height": "10px"
      }
     },
     "955b1cf2298b4cd0900a29bd3e30a7c1": {
      "model_module": "@jupyter-widgets/controls",
      "model_module_version": "1.5.0",
      "model_name": "HTMLModel",
      "state": {
       "layout": "IPY_MODEL_ba53371a476f4cb9b6c1dc883e5da272",
       "style": "IPY_MODEL_4ce6e688023c40119ec42275add19db0",
       "value": "Max_iterations:"
      }
     },
     "955cd3c9b8c34a6fae50f027922de154": {
      "model_module": "@jupyter-widgets/base",
      "model_module_version": "1.2.0",
      "model_name": "LayoutModel",
      "state": {}
     },
     "956940dd30464894a67de90bc69da224": {
      "model_module": "@jupyter-widgets/controls",
      "model_module_version": "1.5.0",
      "model_name": "BoundedIntTextModel",
      "state": {
       "layout": "IPY_MODEL_a6074738e7bb4f56888872813af5d4df",
       "max": 10000,
       "style": "IPY_MODEL_3a67d97faa8d466c80fa2fd47f442b07"
      }
     },
     "9598942c2be24b27a8ec897b2a597f31": {
      "model_module": "@jupyter-widgets/controls",
      "model_module_version": "1.5.0",
      "model_name": "BoxModel",
      "state": {
       "_dom_classes": [
        "inner-card"
       ],
       "children": [
        "IPY_MODEL_3c85d66339f74f789a77dfc1bbf12792",
        "IPY_MODEL_808c4d1cb6f745f3bd2ccbb0c5f75256",
        "IPY_MODEL_ff1aac4f4bfb40a992780074cafa9150"
       ],
       "layout": "IPY_MODEL_cd310b3d89944147bfa9001860d352d0"
      }
     },
     "959906c9fec6409d950d909b426512dc": {
      "model_module": "@jupyter-widgets/base",
      "model_module_version": "1.2.0",
      "model_name": "LayoutModel",
      "state": {
       "width": "auto"
      }
     },
     "95ca1d2f4c4f4e2fbaabc4f644f61f6f": {
      "model_module": "@jupyter-widgets/base",
      "model_module_version": "1.2.0",
      "model_name": "LayoutModel",
      "state": {
       "width": "auto"
      }
     },
     "95d78b731c774a4abe81af0b86f47abd": {
      "model_module": "@jupyter-widgets/base",
      "model_module_version": "1.2.0",
      "model_name": "LayoutModel",
      "state": {
       "justify_content": "space-between"
      }
     },
     "95dac771157b452ba41a2aee6c19f4f8": {
      "model_module": "@jupyter-widgets/output",
      "model_module_version": "1.0.0",
      "model_name": "OutputModel",
      "state": {
       "layout": "IPY_MODEL_30a7931eef38457f88f735f5c528947c",
       "outputs": [
        {
         "data": {
          "application/vnd.jupyter.widget-view+json": {
           "model_id": "c5256c2763b54eaea4fc3f59b730213d",
           "version_major": 2,
           "version_minor": 0
          },
          "text/plain": "HTML(value='<p class=\"notification info\">Excluded attribute \"Age < 62\"</p>')"
         },
         "metadata": {},
         "output_type": "display_data"
        }
       ]
      }
     },
     "960ec66df5574690ae9395802c7b8c5b": {
      "model_module": "@jupyter-widgets/controls",
      "model_module_version": "1.5.0",
      "model_name": "HTMLModel",
      "state": {
       "layout": "IPY_MODEL_bfca4b92b1344e0ab7e438e318284115",
       "style": "IPY_MODEL_b627eeb49fa447739697855b81573828",
       "value": "<p class=\"notification info\">Excluded attribute \"Minority\"</p>"
      }
     },
     "9631be19984c4d9882eda6950e160fbd": {
      "model_module": "@jupyter-widgets/controls",
      "model_module_version": "1.5.0",
      "model_name": "DescriptionStyleModel",
      "state": {
       "description_width": ""
      }
     },
     "96777a2b0a1c408d8f59cfbb14738b99": {
      "model_module": "@jupyter-widgets/controls",
      "model_module_version": "1.5.0",
      "model_name": "DescriptionStyleModel",
      "state": {
       "description_width": ""
      }
     },
     "96cb706e243b42d6bf073d4afc2f6fd0": {
      "model_module": "@jupyter-widgets/controls",
      "model_module_version": "1.5.0",
      "model_name": "HBoxModel",
      "state": {
       "children": [
        "IPY_MODEL_3cee3058c1f44a5b864eb4b57b2aee1b",
        "IPY_MODEL_8a8597730a0149629c407cc98ce6c15b"
       ],
       "layout": "IPY_MODEL_8b2c1c2b19df41eb91d9715f5c3391d6"
      }
     },
     "96efc273115846fd889fa90bd2f5d4db": {
      "model_module": "@jupyter-widgets/base",
      "model_module_version": "1.2.0",
      "model_name": "LayoutModel",
      "state": {
       "width": "65%"
      }
     },
     "9725b8816d424101a5ea3a318620bb4d": {
      "model_module": "@jupyter-widgets/base",
      "model_module_version": "1.2.0",
      "model_name": "LayoutModel",
      "state": {
       "width": "99%"
      }
     },
     "972879fbab2546d2b3dd07a7a125367d": {
      "model_module": "@jupyter-widgets/base",
      "model_module_version": "1.2.0",
      "model_name": "LayoutModel",
      "state": {}
     },
     "977935c766cd43e78c47658dad0911c7": {
      "model_module": "@jupyter-widgets/controls",
      "model_module_version": "1.5.0",
      "model_name": "BoundedIntTextModel",
      "state": {
       "layout": "IPY_MODEL_291cfce679a842a2a85cb4843efa6c33",
       "style": "IPY_MODEL_a1652014a76b491db3fbd1bfb4d238dc",
       "value": 3
      }
     },
     "977f99c72f8b40868a869d5485554e2d": {
      "model_module": "@jupyter-widgets/controls",
      "model_module_version": "1.5.0",
      "model_name": "HTMLModel",
      "state": {
       "layout": "IPY_MODEL_9452e25f8dfc4f849e182eee6a2d69a6",
       "style": "IPY_MODEL_7041178f92d74ac68fb4c3306bd2ec13",
       "value": "Add Category:"
      }
     },
     "97ae39f637a243b49406832388eb2ef2": {
      "model_module": "@jupyter-widgets/base",
      "model_module_version": "1.2.0",
      "model_name": "LayoutModel",
      "state": {
       "width": "155px"
      }
     },
     "97b97dd39a1d4d67abd15e9e96e49d9f": {
      "model_module": "@jupyter-widgets/controls",
      "model_module_version": "1.5.0",
      "model_name": "HBoxModel",
      "state": {
       "children": [
        "IPY_MODEL_b2ba6fd74d0f4e1b86dc13c7fad8a52b",
        "IPY_MODEL_98fb78990eb2432780f31ee95ab6d73c"
       ],
       "layout": "IPY_MODEL_ed03d6ed136a407caad0fb20c52abfc2"
      }
     },
     "97e1081e16e1477986298d25938a00b0": {
      "model_module": "@jupyter-widgets/controls",
      "model_module_version": "1.5.0",
      "model_name": "HBoxModel",
      "state": {
       "children": [
        "IPY_MODEL_17818a17a78d44e0a7574c7851b3eca2",
        "IPY_MODEL_d31934b469ac42a890dffc8dafb22f65",
        "IPY_MODEL_06daf12cf5b549248962976444a86188",
        "IPY_MODEL_bb326d9ac6734f13a39bf25f2508514e"
       ],
       "layout": "IPY_MODEL_275c78868a084e0498fd47ff59b741c8"
      }
     },
     "97f6a70cc63544cd837a3bf595d9c506": {
      "model_module": "@jupyter-widgets/base",
      "model_module_version": "1.2.0",
      "model_name": "LayoutModel",
      "state": {}
     },
     "9826db0169724882a1ca52b6f94c051f": {
      "model_module": "@jupyter-widgets/controls",
      "model_module_version": "1.5.0",
      "model_name": "BoxModel",
      "state": {
       "children": [
        "IPY_MODEL_7ff0b349bf7a44aabdde55120336e871",
        "IPY_MODEL_73db2e44dc1e49db8d9811df7f201c14"
       ],
       "layout": "IPY_MODEL_8d65de53924e4ad2943a8df11427f276"
      }
     },
     "983f4d0ee6f44d9dbb3fa8070ee7eb2d": {
      "model_module": "@jupyter-widgets/controls",
      "model_module_version": "1.5.0",
      "model_name": "BoundedIntTextModel",
      "state": {
       "layout": "IPY_MODEL_00f441e3e1354f36b3847037d4e308e8",
       "style": "IPY_MODEL_5612397914754243b0a75e438bb880e3",
       "value": 8
      }
     },
     "98480c5b885944e589f5c57bf96f54aa": {
      "model_module": "@jupyter-widgets/base",
      "model_module_version": "1.2.0",
      "model_name": "LayoutModel",
      "state": {}
     },
     "985aebbf24064d36b57b8c0a1badcc9a": {
      "model_module": "@jupyter-widgets/controls",
      "model_module_version": "1.5.0",
      "model_name": "DescriptionStyleModel",
      "state": {
       "description_width": "initial"
      }
     },
     "989616b9921a44eebde12263b49c91cf": {
      "model_module": "@jupyter-widgets/controls",
      "model_module_version": "1.5.0",
      "model_name": "HBoxModel",
      "state": {
       "children": [
        "IPY_MODEL_c70a564e528e4354adcd5141a081e427",
        "IPY_MODEL_bbf47746c01f488f99f292a909dbb850"
       ],
       "layout": "IPY_MODEL_8442bb85ebb74dfda56ca6f637cbb509"
      }
     },
     "98a1a56520b049e297c88cee3abf8436": {
      "model_module": "@jupyter-widgets/controls",
      "model_module_version": "1.5.0",
      "model_name": "DescriptionStyleModel",
      "state": {
       "description_width": ""
      }
     },
     "98a320ab2c6b40aea626213e3f8714fb": {
      "model_module": "@jupyter-widgets/base",
      "model_module_version": "1.2.0",
      "model_name": "LayoutModel",
      "state": {
       "width": "155px"
      }
     },
     "98b04483179e4764991f6299492eaf3a": {
      "model_module": "@jupyter-widgets/controls",
      "model_module_version": "1.5.0",
      "model_name": "HTMLModel",
      "state": {
       "layout": "IPY_MODEL_3dafa2671fa2439ab14974323255a12e",
       "style": "IPY_MODEL_07afaa6e7ee64a249a1b0a4174b0f7d1",
       "value": "<p>Task Type:</p>"
      }
     },
     "98e4ebb84d7a4137b426a3f03b8f2894": {
      "model_module": "@jupyter-widgets/base",
      "model_module_version": "1.2.0",
      "model_name": "LayoutModel",
      "state": {
       "justify_content": "flex-end",
       "width": "auto"
      }
     },
     "98ea7a72bc3b4ef0abf2b4e9eecc6930": {
      "model_module": "@jupyter-widgets/base",
      "model_module_version": "1.2.0",
      "model_name": "LayoutModel",
      "state": {}
     },
     "98fb78990eb2432780f31ee95ab6d73c": {
      "model_module": "@jupyter-widgets/controls",
      "model_module_version": "1.5.0",
      "model_name": "TextModel",
      "state": {
       "layout": "IPY_MODEL_d6c54dc8077041f3b832ffc804e4451c",
       "placeholder": "Input name",
       "style": "IPY_MODEL_474008b87b8e4fbd91e02f336e025e70",
       "value": "ReLU-DNN"
      }
     },
     "99140cd5fc2946d1bdd44b93ddfcd1d7": {
      "model_module": "@jupyter-widgets/controls",
      "model_module_version": "1.5.0",
      "model_name": "HTMLModel",
      "state": {
       "layout": "IPY_MODEL_9d386bcd6ca74436bc5a5b5de5698195",
       "style": "IPY_MODEL_5895627fa07544ecbc72a28cb415a400",
       "value": "Learning_rates:"
      }
     },
     "991e258ee00e4866b31499fdf880aba4": {
      "model_module": "@jupyter-widgets/base",
      "model_module_version": "1.2.0",
      "model_name": "LayoutModel",
      "state": {
       "display": "flex",
       "flex_flow": "column",
       "width": "100%"
      }
     },
     "9929db513f3f4d148dfab34e627530bd": {
      "model_module": "@jupyter-widgets/base",
      "model_module_version": "1.2.0",
      "model_name": "LayoutModel",
      "state": {
       "align_items": "center",
       "display": "flex",
       "flex_flow": "row",
       "width": "100%"
      }
     },
     "994fcf6768484f9d9875f9dbac3193f5": {
      "model_module": "@jupyter-widgets/controls",
      "model_module_version": "1.5.0",
      "model_name": "DescriptionStyleModel",
      "state": {
       "description_width": ""
      }
     },
     "995b928e165c40bca1eb867d67a010c1": {
      "model_module": "@jupyter-widgets/controls",
      "model_module_version": "1.5.0",
      "model_name": "VBoxModel",
      "state": {
       "_dom_classes": [
        "card-with-tab"
       ],
       "children": [
        "IPY_MODEL_6ee00140dce042b18d824ac617a68a6c",
        "IPY_MODEL_ac37756e548a488785e7ede295f71e2c",
        "IPY_MODEL_18b338b572d44c5895a7cb7f6f8e2cdf"
       ],
       "layout": "IPY_MODEL_c08e6c478b784bf3bba76a86d903a979"
      }
     },
     "99828d70014142898b2035c7186100d9": {
      "model_module": "@jupyter-widgets/controls",
      "model_module_version": "1.5.0",
      "model_name": "VBoxModel",
      "state": {
       "children": [
        "IPY_MODEL_44f243a9dcaa4dee868957e61a12a93c",
        "IPY_MODEL_23de51bd26894526820d7ba2f510221d"
       ],
       "layout": "IPY_MODEL_50ec3a3f37b9499c859850f83bda917a"
      }
     },
     "9995abc425404efb8bc2e65b861b371d": {
      "model_module": "@jupyter-widgets/controls",
      "model_module_version": "1.5.0",
      "model_name": "DescriptionStyleModel",
      "state": {
       "description_width": ""
      }
     },
     "99acdc550ede4287a12169c26d984641": {
      "model_module": "@jupyter-widgets/base",
      "model_module_version": "1.2.0",
      "model_name": "LayoutModel",
      "state": {
       "width": "99%"
      }
     },
     "99bbb9e2b8fe42b797a922f04230de80": {
      "model_module": "@jupyter-widgets/controls",
      "model_module_version": "1.5.0",
      "model_name": "DescriptionStyleModel",
      "state": {
       "description_width": ""
      }
     },
     "99dadb8ffdb043328210feb325093bd4": {
      "model_module": "@jupyter-widgets/base",
      "model_module_version": "1.2.0",
      "model_name": "LayoutModel",
      "state": {
       "width": "auto"
      }
     },
     "99dd4a7279004d6b940653af88c13634": {
      "model_module": "@jupyter-widgets/base",
      "model_module_version": "1.2.0",
      "model_name": "LayoutModel",
      "state": {
       "width": "auto"
      }
     },
     "9a1755c15a834b7fa65f1ac90ab6ba28": {
      "model_module": "@jupyter-widgets/controls",
      "model_module_version": "1.5.0",
      "model_name": "DescriptionStyleModel",
      "state": {
       "description_width": ""
      }
     },
     "9a2c40155e9e43409f4f92edc3864471": {
      "model_module": "@jupyter-widgets/base",
      "model_module_version": "1.2.0",
      "model_name": "LayoutModel",
      "state": {}
     },
     "9a304f0586154da09820acd966ed07fe": {
      "model_module": "@jupyter-widgets/controls",
      "model_module_version": "1.5.0",
      "model_name": "HBoxModel",
      "state": {
       "children": [
        "IPY_MODEL_423664d973c847eaa460d7ace53331b8",
        "IPY_MODEL_d96ae94952f84ded81bbe4c71efe1fd5"
       ],
       "layout": "IPY_MODEL_666a318aded54c56b989017d1eefbfdd"
      }
     },
     "9a71022d29ca4e819e78f36462137333": {
      "model_module": "@jupyter-widgets/controls",
      "model_module_version": "1.5.0",
      "model_name": "HTMLModel",
      "state": {
       "layout": "IPY_MODEL_bcc54aba77b9467a822176556a7fc829",
       "style": "IPY_MODEL_8bea50e129ad4aeaa2bbed5245402e1b",
       "value": "Max_depth:"
      }
     },
     "9a8529bf194c4f9991b90493d81cd661": {
      "model_module": "@jupyter-widgets/base",
      "model_module_version": "1.2.0",
      "model_name": "LayoutModel",
      "state": {
       "width": "65%"
      }
     },
     "9aa47209336840099426b1fe488b2bea": {
      "model_module": "@jupyter-widgets/controls",
      "model_module_version": "1.5.0",
      "model_name": "DescriptionStyleModel",
      "state": {
       "description_width": ""
      }
     },
     "9ab2a77477794a728aa2da21ef530f86": {
      "model_module": "@jupyter-widgets/controls",
      "model_module_version": "1.5.0",
      "model_name": "DescriptionStyleModel",
      "state": {
       "description_width": ""
      }
     },
     "9ac4201ca73d40148118e03ea08f3eba": {
      "model_module": "@jupyter-widgets/controls",
      "model_module_version": "1.5.0",
      "model_name": "HTMLModel",
      "state": {
       "layout": "IPY_MODEL_05291a5dc9e844e7b35e8d3dc0e09b31",
       "style": "IPY_MODEL_e0bff9d00481446d856f350813e21034",
       "value": "Feature_increasing:"
      }
     },
     "9ae393d52a3346e6ae9133337f642972": {
      "model_module": "@jupyter-widgets/base",
      "model_module_version": "1.2.0",
      "model_name": "LayoutModel",
      "state": {}
     },
     "9b154a10d8e94a54a73096db20754be3": {
      "model_module": "@jupyter-widgets/base",
      "model_module_version": "1.2.0",
      "model_name": "LayoutModel",
      "state": {}
     },
     "9b2ef208c39a44099c95c12a31114f69": {
      "model_module": "@jupyter-widgets/controls",
      "model_module_version": "1.5.0",
      "model_name": "DropdownModel",
      "state": {
       "_options_labels": [
        "Classification",
        "Regression"
       ],
       "index": 0,
       "layout": "IPY_MODEL_46d982592da945b7adf4d396b62d5ea6",
       "style": "IPY_MODEL_a44ce3d669844c2b8a7c7dbf5e595cc3"
      }
     },
     "9b302421e836468fa91488223df2b7b1": {
      "model_module": "@jupyter-widgets/base",
      "model_module_version": "1.2.0",
      "model_name": "LayoutModel",
      "state": {
       "width": "auto"
      }
     },
     "9b64ddfe5c4f4f4390da42a14a2320bf": {
      "model_module": "@jupyter-widgets/controls",
      "model_module_version": "1.5.0",
      "model_name": "VBoxModel",
      "state": {
       "children": [
        "IPY_MODEL_b6f39651e9d14d2993883b72583e96df"
       ],
       "layout": "IPY_MODEL_6f3e1480fbd54897a1fca4f7cde936a7"
      }
     },
     "9b99861edf12484fa185ae4f14658408": {
      "model_module": "@jupyter-widgets/controls",
      "model_module_version": "1.5.0",
      "model_name": "DescriptionStyleModel",
      "state": {
       "description_width": "initial"
      }
     },
     "9b9be37ce2ee4119840a205a742aaaf3": {
      "model_module": "@jupyter-widgets/controls",
      "model_module_version": "1.5.0",
      "model_name": "ButtonModel",
      "state": {
       "_dom_classes": [
        "pbtn"
       ],
       "button_style": "danger",
       "icon": "cog",
       "layout": "IPY_MODEL_3fb333c9062643b08c85f7563f8871ed",
       "style": "IPY_MODEL_e8616e02f497489dba122a00653a211e"
      }
     },
     "9ba318fe357f44308bdc212f889a2815": {
      "model_module": "@jupyter-widgets/base",
      "model_module_version": "1.2.0",
      "model_name": "LayoutModel",
      "state": {
       "justify_content": "space-between",
       "width": "50%"
      }
     },
     "9bb8aae8da13482ca23615d7267d4af3": {
      "model_module": "@jupyter-widgets/base",
      "model_module_version": "1.2.0",
      "model_name": "LayoutModel",
      "state": {}
     },
     "9bf66f9b093b41e8bb2f292f7960dbda": {
      "model_module": "@jupyter-widgets/controls",
      "model_module_version": "1.5.0",
      "model_name": "VBoxModel",
      "state": {
       "children": [
        "IPY_MODEL_0702e80d291d441cbf90ddba8e149bf2"
       ],
       "layout": "IPY_MODEL_e762146946584adda4cfce5515597b5a"
      }
     },
     "9c12e16bfadf44b099ab54b06ddeb349": {
      "model_module": "@jupyter-widgets/base",
      "model_module_version": "1.2.0",
      "model_name": "LayoutModel",
      "state": {
       "width": "65%"
      }
     },
     "9c920b5ab0824fcda9d5cdb159f1a196": {
      "model_module": "@jupyter-widgets/controls",
      "model_module_version": "1.5.0",
      "model_name": "DescriptionStyleModel",
      "state": {
       "description_width": ""
      }
     },
     "9c937ed7515e41f8ad96b825af128c90": {
      "model_module": "@jupyter-widgets/base",
      "model_module_version": "1.2.0",
      "model_name": "LayoutModel",
      "state": {
       "width": "99%"
      }
     },
     "9cab25749b824682a1c0bf75f9ff1156": {
      "model_module": "@jupyter-widgets/base",
      "model_module_version": "1.2.0",
      "model_name": "LayoutModel",
      "state": {
       "height": "25px",
       "width": "35px"
      }
     },
     "9cb33c71a802440092e0b3766d06410d": {
      "model_module": "@jupyter-widgets/base",
      "model_module_version": "1.2.0",
      "model_name": "LayoutModel",
      "state": {
       "width": "auto"
      }
     },
     "9cdf61bcdd3d48bdaa4914adbd58dcdf": {
      "model_module": "@jupyter-widgets/base",
      "model_module_version": "1.2.0",
      "model_name": "LayoutModel",
      "state": {
       "height": "25px",
       "width": "35px"
      }
     },
     "9d1de86c2a584519bc705c918977bf72": {
      "model_module": "@jupyter-widgets/controls",
      "model_module_version": "1.5.0",
      "model_name": "DescriptionStyleModel",
      "state": {
       "description_width": "initial"
      }
     },
     "9d386bcd6ca74436bc5a5b5de5698195": {
      "model_module": "@jupyter-widgets/base",
      "model_module_version": "1.2.0",
      "model_name": "LayoutModel",
      "state": {}
     },
     "9d517602de3e4da0b09e2cda5b6b7a55": {
      "model_module": "@jupyter-widgets/controls",
      "model_module_version": "1.5.0",
      "model_name": "DescriptionStyleModel",
      "state": {
       "description_width": "initial"
      }
     },
     "9d6c656e5eed4bd08ccf46947af42709": {
      "model_module": "@jupyter-widgets/controls",
      "model_module_version": "1.5.0",
      "model_name": "CheckboxModel",
      "state": {
       "description": "GAMI-Net",
       "disabled": false,
       "indent": false,
       "layout": "IPY_MODEL_0beaaac62029421fa59dc5539d0d5293",
       "style": "IPY_MODEL_01fae096bac448db8226162ecf0b6b65",
       "value": false
      }
     },
     "9d9176d2a56c4303a32b81cc1ad3e204": {
      "model_module": "@jupyter-widgets/base",
      "model_module_version": "1.2.0",
      "model_name": "LayoutModel",
      "state": {
       "width": "auto"
      }
     },
     "9df01d6952df47ea97c98380d81bcada": {
      "model_module": "@jupyter-widgets/controls",
      "model_module_version": "1.5.0",
      "model_name": "DescriptionStyleModel",
      "state": {
       "description_width": ""
      }
     },
     "9e14783569d44a0287fff5ee5105f8c1": {
      "model_module": "@jupyter-widgets/base",
      "model_module_version": "1.2.0",
      "model_name": "LayoutModel",
      "state": {}
     },
     "9e2f892540c247378e88fea05cc87cc6": {
      "model_module": "@jupyter-widgets/base",
      "model_module_version": "1.2.0",
      "model_name": "LayoutModel",
      "state": {
       "width": "155px"
      }
     },
     "9e720de39ca64cda9f14bd9d5da46a97": {
      "model_module": "@jupyter-widgets/controls",
      "model_module_version": "1.5.0",
      "model_name": "HTMLModel",
      "state": {
       "layout": "IPY_MODEL_6907cb36553b40c7ba6c043953170083",
       "style": "IPY_MODEL_6257efa4209a491a9ea252c45b90ac1e",
       "value": "<div style='margin-top: 10px'></div>"
      }
     },
     "9ebb1346b8644712ab80c8ee08d7d48a": {
      "model_module": "@jupyter-widgets/controls",
      "model_module_version": "1.5.0",
      "model_name": "DescriptionStyleModel",
      "state": {
       "description_width": ""
      }
     },
     "9ee053aaedf14d43b1886a26f763d51b": {
      "model_module": "@jupyter-widgets/controls",
      "model_module_version": "1.5.0",
      "model_name": "HTMLModel",
      "state": {
       "layout": "IPY_MODEL_d45c81fac0de475c88ec217eb61904ec",
       "style": "IPY_MODEL_c8ffe4a20eda401f96bc59ffedf84f96",
       "value": "Early_stop_epochs:"
      }
     },
     "9ee4540e87524a448baa8d0444f823fb": {
      "model_module": "@jupyter-widgets/base",
      "model_module_version": "1.2.0",
      "model_name": "LayoutModel",
      "state": {
       "width": "100%"
      }
     },
     "9ee68a54d29f42a08f72e0c1f9cd2af4": {
      "model_module": "@jupyter-widgets/base",
      "model_module_version": "1.2.0",
      "model_name": "LayoutModel",
      "state": {
       "width": "auto"
      }
     },
     "9ef33e4a69e0485e9e44d947c61c1ad6": {
      "model_module": "@jupyter-widgets/base",
      "model_module_version": "1.2.0",
      "model_name": "LayoutModel",
      "state": {}
     },
     "9ef52855bd5344aba65f8137dc978bb9": {
      "model_module": "@jupyter-widgets/controls",
      "model_module_version": "1.5.0",
      "model_name": "HTMLModel",
      "state": {
       "layout": "IPY_MODEL_9ff140753d614d19a7dcb65fd80335c6",
       "style": "IPY_MODEL_ebaa441f7d48485688f36c8d56d77203",
       "value": "<div class='divider'></div>"
      }
     },
     "9efce2cf7ecb4e4c9f1b4a3c2d277975": {
      "model_module": "@jupyter-widgets/base",
      "model_module_version": "1.2.0",
      "model_name": "LayoutModel",
      "state": {
       "width": "55%"
      }
     },
     "9f31efe849594ff59e34df11b8bb8522": {
      "model_module": "@jupyter-widgets/controls",
      "model_module_version": "1.5.0",
      "model_name": "VBoxModel",
      "state": {
       "children": [
        "IPY_MODEL_bb174c7215b543fe888e3c04a3dc371e",
        "IPY_MODEL_8328017b3ca347e694a3c115e69df52f"
       ],
       "layout": "IPY_MODEL_f7d8023fd879413f8c2e939c54aa5ef1"
      }
     },
     "9f60e8d8549d436e9736069db6f80373": {
      "model_module": "@jupyter-widgets/controls",
      "model_module_version": "1.5.0",
      "model_name": "DescriptionStyleModel",
      "state": {
       "description_width": ""
      }
     },
     "9f6372e74e654c0cadea0b7fe4cd4f4e": {
      "model_module": "@jupyter-widgets/base",
      "model_module_version": "1.2.0",
      "model_name": "LayoutModel",
      "state": {
       "width": "20%"
      }
     },
     "9faf9d7355b04129a663e49ffc2268a6": {
      "model_module": "@jupyter-widgets/controls",
      "model_module_version": "1.5.0",
      "model_name": "HTMLModel",
      "state": {
       "layout": "IPY_MODEL_fe269408596c43938bc16ae3eecf8cfa",
       "style": "IPY_MODEL_34f362e18beb4919a49efe1d332669a4",
       "value": "Feature_decreasing:"
      }
     },
     "9fbca46118ed4a73b8a0d19f5a02704a": {
      "model_module": "@jupyter-widgets/controls",
      "model_module_version": "1.5.0",
      "model_name": "VBoxModel",
      "state": {
       "children": [
        "IPY_MODEL_222b6f80a87847dabb4769d3df0eb810"
       ],
       "layout": "IPY_MODEL_6aa513493cd7460d85dc73156c16a5d8"
      }
     },
     "9ff140753d614d19a7dcb65fd80335c6": {
      "model_module": "@jupyter-widgets/base",
      "model_module_version": "1.2.0",
      "model_name": "LayoutModel",
      "state": {}
     },
     "a00d7c255f7a4624867073b834fdc07f": {
      "model_module": "@jupyter-widgets/controls",
      "model_module_version": "1.5.0",
      "model_name": "BoundedIntTextModel",
      "state": {
       "layout": "IPY_MODEL_38664d6c196d40cd8ff70210b4b5749e",
       "max": 10000,
       "min": 1,
       "style": "IPY_MODEL_8cef69c82ca5464584f0576aff8c346b",
       "value": 100
      }
     },
     "a04eb856972048f1a91dd6fa6449f1ba": {
      "model_module": "@jupyter-widgets/controls",
      "model_module_version": "1.5.0",
      "model_name": "TextModel",
      "state": {
       "layout": "IPY_MODEL_9a8529bf194c4f9991b90493d81cd661",
       "placeholder": "Input name",
       "style": "IPY_MODEL_b63c73b237d54062af016e26bb99cfb2",
       "value": "XGB2"
      }
     },
     "a087d7580e6840009dfd19abf0369950": {
      "model_module": "@jupyter-widgets/controls",
      "model_module_version": "1.5.0",
      "model_name": "VBoxModel",
      "state": {
       "children": [
        "IPY_MODEL_795f617487754221a7fa1e2e8fb42b44",
        "IPY_MODEL_2b91d990654d4e48a214e23c3ce7c6cc",
        "IPY_MODEL_cdfca9ac724147d58a0ed3bec3acdde9",
        "IPY_MODEL_0fe5a2955926461ba9e0c30c721dfd9c"
       ],
       "layout": "IPY_MODEL_fd44314282d542bb90e8c28d3631b5f4"
      }
     },
     "a09d50d7d0134fc38f579be5dfd10129": {
      "model_module": "@jupyter-widgets/controls",
      "model_module_version": "1.5.0",
      "model_name": "HTMLModel",
      "state": {
       "layout": "IPY_MODEL_8cf0220b8d594c14b95c41f72e9ba8e0",
       "style": "IPY_MODEL_3388477bb4b54ffdab6662fb98a662a7",
       "value": "Learning_rate:"
      }
     },
     "a0a9e36d31be431b8cc257a3e3c766ae": {
      "model_module": "@jupyter-widgets/base",
      "model_module_version": "1.2.0",
      "model_name": "LayoutModel",
      "state": {
       "width": "auto"
      }
     },
     "a0ab89553e564a288e7fa4b90df6bc9c": {
      "model_module": "@jupyter-widgets/controls",
      "model_module_version": "1.5.0",
      "model_name": "HBoxModel",
      "state": {
       "children": [
        "IPY_MODEL_e8b6e3782d9e41438d1d6dd1e5ebf40c",
        "IPY_MODEL_f8b57902d18a499292aaef51f8860487"
       ],
       "layout": "IPY_MODEL_3bf3174e9a554a0eb4da00abd5037481"
      }
     },
     "a0ae658ddfa949b5aaac24333eeb6422": {
      "model_module": "@jupyter-widgets/controls",
      "model_module_version": "1.5.0",
      "model_name": "VBoxModel",
      "state": {
       "_dom_classes": [
        "input-width-with-parent"
       ],
       "children": [
        "IPY_MODEL_8ec17282e3c046d68af77e658c9fcfb9",
        "IPY_MODEL_9ef52855bd5344aba65f8137dc978bb9",
        "IPY_MODEL_d73ab84fb9d741ff87b1f3e8c92dbadc",
        "IPY_MODEL_a2e6024a258a48f487b5ab59279d8f9a"
       ],
       "layout": "IPY_MODEL_89a152c832b442c192c8210163f583ff"
      }
     },
     "a0bcad2427d24b5588e3f7870a4b5f65": {
      "model_module": "@jupyter-widgets/controls",
      "model_module_version": "1.5.0",
      "model_name": "HBoxModel",
      "state": {
       "_dom_classes": [
        "list-item"
       ],
       "children": [
        "IPY_MODEL_6d93e078784140b68de459ee593da07e",
        "IPY_MODEL_5e08427035e9499590b6537031727265"
       ],
       "layout": "IPY_MODEL_9929db513f3f4d148dfab34e627530bd"
      }
     },
     "a0e873d1c78d4503be2fc248be812e9b": {
      "model_module": "@jupyter-widgets/controls",
      "model_module_version": "1.5.0",
      "model_name": "VBoxModel",
      "state": {
       "children": [
        "IPY_MODEL_11dcfd35b7ae4bf9a20a566c21b4a605",
        "IPY_MODEL_96cb706e243b42d6bf073d4afc2f6fd0"
       ],
       "layout": "IPY_MODEL_a7b8d36d79ee4123b942f8bd0938a106"
      }
     },
     "a12ec2d7f23e4287b3f79711f81fbe40": {
      "model_module": "@jupyter-widgets/controls",
      "model_module_version": "1.5.0",
      "model_name": "DescriptionStyleModel",
      "state": {
       "description_width": "initial"
      }
     },
     "a1652014a76b491db3fbd1bfb4d238dc": {
      "model_module": "@jupyter-widgets/controls",
      "model_module_version": "1.5.0",
      "model_name": "DescriptionStyleModel",
      "state": {
       "description_width": "initial"
      }
     },
     "a1ada6612e0044d69abfeb7371e99d83": {
      "model_module": "@jupyter-widgets/controls",
      "model_module_version": "1.5.0",
      "model_name": "DescriptionStyleModel",
      "state": {
       "description_width": ""
      }
     },
     "a1c65a0de37b429e858c2b584b36946a": {
      "model_module": "@jupyter-widgets/base",
      "model_module_version": "1.2.0",
      "model_name": "LayoutModel",
      "state": {}
     },
     "a2192af173524863b6940307521f5af8": {
      "model_module": "@jupyter-widgets/controls",
      "model_module_version": "1.5.0",
      "model_name": "DescriptionStyleModel",
      "state": {
       "description_width": "initial"
      }
     },
     "a22a973a6aef40e4a2703f50797ee93a": {
      "model_module": "@jupyter-widgets/controls",
      "model_module_version": "1.5.0",
      "model_name": "VBoxModel",
      "state": {
       "children": [
        "IPY_MODEL_8bb4c4ccbe644a0492815126b0a00260",
        "IPY_MODEL_983f4d0ee6f44d9dbb3fa8070ee7eb2d",
        "IPY_MODEL_67430ae395de40f28aeca6235ab79e1d",
        "IPY_MODEL_fcefc8525c07439fb9fe221145959c29",
        "IPY_MODEL_6561ad26bfee4adf84633dadcf7266f9",
        "IPY_MODEL_87509d8c921f486dbaa858f96a60fcc0",
        "IPY_MODEL_2fe4765407fe451e9cda58e9be70deb4",
        "IPY_MODEL_a668eace16c84d64bd13acdf02b5a6f6",
        "IPY_MODEL_868e9ba0abb44b9897e2697b331025eb"
       ],
       "layout": "IPY_MODEL_dc1c679aece9436eb877b840635937b9"
      }
     },
     "a23175f64b5041d4bb1971ae111b9a0a": {
      "model_module": "@jupyter-widgets/controls",
      "model_module_version": "1.5.0",
      "model_name": "HBoxModel",
      "state": {
       "children": [
        "IPY_MODEL_0a4e33d83e1a4a1fb76ab180b2728f70",
        "IPY_MODEL_2931d1c8f1684b8c831d9f1126aed0d7"
       ],
       "layout": "IPY_MODEL_e8f840d272e54af19662f65a0a04cfae"
      }
     },
     "a2365503c91a4689bd4b23aeb5c183ac": {
      "model_module": "@jupyter-widgets/base",
      "model_module_version": "1.2.0",
      "model_name": "LayoutModel",
      "state": {
       "height": "25px",
       "width": "35px"
      }
     },
     "a252e57af4604c138610626282e11457": {
      "model_module": "@jupyter-widgets/base",
      "model_module_version": "1.2.0",
      "model_name": "LayoutModel",
      "state": {}
     },
     "a2646a0a98274016aeb3353211737637": {
      "model_module": "@jupyter-widgets/controls",
      "model_module_version": "1.5.0",
      "model_name": "DescriptionStyleModel",
      "state": {
       "description_width": "initial"
      }
     },
     "a2d9f63136ac4f5f810fc5e98cdb3778": {
      "model_module": "@jupyter-widgets/base",
      "model_module_version": "1.2.0",
      "model_name": "LayoutModel",
      "state": {}
     },
     "a2dbffd04b8f460f857bb75d472ccc51": {
      "model_module": "@jupyter-widgets/controls",
      "model_module_version": "1.5.0",
      "model_name": "HBoxModel",
      "state": {
       "children": [
        "IPY_MODEL_9ac4201ca73d40148118e03ea08f3eba",
        "IPY_MODEL_1d28aca5e7444e22ac67c7255104297a",
        "IPY_MODEL_d24ba9e9c7bf49aeb124d2f2909a5c00"
       ],
       "layout": "IPY_MODEL_acf1c179a4c548c6891c9fa8fca32906"
      }
     },
     "a2e6024a258a48f487b5ab59279d8f9a": {
      "model_module": "@jupyter-widgets/output",
      "model_module_version": "1.0.0",
      "model_name": "OutputModel",
      "state": {
       "layout": "IPY_MODEL_8b4af76314b340908a02159bf16a23e3",
       "outputs": [
        {
         "data": {
          "text/html": "<p class=\"notification info\">Default Data Preparation Done</p>",
          "text/plain": "<IPython.core.display.HTML object>"
         },
         "metadata": {},
         "output_type": "display_data"
        }
       ]
      }
     },
     "a312b4e61b7c4af5a5b81707493df72f": {
      "model_module": "@jupyter-widgets/controls",
      "model_module_version": "1.5.0",
      "model_name": "HTMLModel",
      "state": {
       "layout": "IPY_MODEL_78c97fd758de4e95a5f4d112e641cb74",
       "style": "IPY_MODEL_9ab2a77477794a728aa2da21ef530f86",
       "value": "n_estimators:"
      }
     },
     "a32d4a862e6445709a6dfc997f88604e": {
      "model_module": "@jupyter-widgets/base",
      "model_module_version": "1.2.0",
      "model_name": "LayoutModel",
      "state": {
       "width": "15%"
      }
     },
     "a357abeb661442daadc28d95c6782375": {
      "model_module": "@jupyter-widgets/controls",
      "model_module_version": "1.5.0",
      "model_name": "VBoxModel",
      "state": {
       "children": [
        "IPY_MODEL_8dc6bc851c2848108037d973e7aad8a0",
        "IPY_MODEL_6ea16cb81c3d46fc8738ce27e6698afe"
       ],
       "layout": "IPY_MODEL_ec60eef197234e5d972ecd6717c9e1c9"
      }
     },
     "a35bd42821494f609e80db10eb47cb69": {
      "model_module": "@jupyter-widgets/controls",
      "model_module_version": "1.5.0",
      "model_name": "VBoxModel",
      "state": {
       "children": [
        "IPY_MODEL_98b04483179e4764991f6299492eaf3a",
        "IPY_MODEL_8c0756a197164bbaa558ba39e3368394"
       ],
       "layout": "IPY_MODEL_87b0a481fb23475ea3888a4e2f47421e"
      }
     },
     "a3655e932dbf4a268339703ad5851db7": {
      "model_module": "@jupyter-widgets/controls",
      "model_module_version": "1.5.0",
      "model_name": "BoundedIntTextModel",
      "state": {
       "layout": "IPY_MODEL_0bf6e5d455f544f699efc37f438881f0",
       "max": 10000,
       "style": "IPY_MODEL_6564dc8709f14ad995f1ce6054aa5b99"
      }
     },
     "a3789aaec23142638c46f485c516d6fe": {
      "model_module": "@jupyter-widgets/controls",
      "model_module_version": "1.5.0",
      "model_name": "DescriptionStyleModel",
      "state": {
       "description_width": ""
      }
     },
     "a37a6bf6c0f743c5aaa8af1271589612": {
      "model_module": "@jupyter-widgets/controls",
      "model_module_version": "1.5.0",
      "model_name": "HBoxModel",
      "state": {
       "children": [
        "IPY_MODEL_a087d7580e6840009dfd19abf0369950",
        "IPY_MODEL_105a5945d1da4aa5a9de460224fb5853"
       ],
       "layout": "IPY_MODEL_cf74aa3e2c414c9882a4c3ad9d0fcec0"
      }
     },
     "a3af69f12ca14cf294e90354eeba9772": {
      "model_module": "@jupyter-widgets/output",
      "model_module_version": "1.0.0",
      "model_name": "OutputModel",
      "state": {
       "layout": "IPY_MODEL_14bb3a9ce6b8434ea73df7b5b8ca7237",
       "outputs": [
        {
         "data": {
          "application/vnd.jupyter.widget-view+json": {
           "model_id": "84ba9bae52c34ee491ea4c05ef3d744e",
           "version_major": 2,
           "version_minor": 0
          },
          "text/plain": "HTML(value=\"\\n        <table class='ptable striped'>\\n            <thead class='pthead'>\\n                <tr …"
         },
         "metadata": {},
         "output_type": "display_data"
        }
       ]
      }
     },
     "a3d407993930422ebeb2de78bc29f6d5": {
      "model_module": "@jupyter-widgets/controls",
      "model_module_version": "1.5.0",
      "model_name": "VBoxModel",
      "state": {
       "children": [
        "IPY_MODEL_d0607b7735bf42d7a5fef9b016e583ad",
        "IPY_MODEL_3e22221eb2cb4bdab2891ab6f64a56bb"
       ],
       "layout": "IPY_MODEL_4f69c95447f94cd7b274ad1cb7204925"
      }
     },
     "a3d97cad205d4839b9a282643e4287b0": {
      "model_module": "@jupyter-widgets/base",
      "model_module_version": "1.2.0",
      "model_name": "LayoutModel",
      "state": {
       "width": "auto"
      }
     },
     "a408c3bdb5c84bee80005b721e1139b9": {
      "model_module": "@jupyter-widgets/controls",
      "model_module_version": "1.5.0",
      "model_name": "DescriptionStyleModel",
      "state": {
       "description_width": ""
      }
     },
     "a41eba76a98d4c5193e41bcc00b2e468": {
      "model_module": "@jupyter-widgets/base",
      "model_module_version": "1.2.0",
      "model_name": "LayoutModel",
      "state": {
       "display": "flex",
       "flex_flow": "column",
       "width": "100%"
      }
     },
     "a42cbb2677e14a30ad28285c246cf3aa": {
      "model_module": "@jupyter-widgets/base",
      "model_module_version": "1.2.0",
      "model_name": "LayoutModel",
      "state": {}
     },
     "a4365ba781794594949bbaa42a810376": {
      "model_module": "@jupyter-widgets/controls",
      "model_module_version": "1.5.0",
      "model_name": "VBoxModel",
      "state": {
       "children": [
        "IPY_MODEL_2f0dfd353a794074946ea1b34b14e918",
        "IPY_MODEL_55c1fb7701a04e1180a964b5df6e0d80"
       ],
       "layout": "IPY_MODEL_9c12e16bfadf44b099ab54b06ddeb349"
      }
     },
     "a44ce3d669844c2b8a7c7dbf5e595cc3": {
      "model_module": "@jupyter-widgets/controls",
      "model_module_version": "1.5.0",
      "model_name": "DescriptionStyleModel",
      "state": {
       "description_width": "initial"
      }
     },
     "a46c36eace274173ad9cdfd07f35c766": {
      "model_module": "@jupyter-widgets/base",
      "model_module_version": "1.2.0",
      "model_name": "LayoutModel",
      "state": {}
     },
     "a473d70b78294ae2873c92b4e8db5ca3": {
      "model_module": "@jupyter-widgets/controls",
      "model_module_version": "1.5.0",
      "model_name": "DescriptionStyleModel",
      "state": {
       "description_width": ""
      }
     },
     "a495622e5a5c4b2bb603f12dad00fbaa": {
      "model_module": "@jupyter-widgets/controls",
      "model_module_version": "1.5.0",
      "model_name": "DescriptionStyleModel",
      "state": {
       "description_width": ""
      }
     },
     "a4a1583668d44ae398bdabd22ecfae7c": {
      "model_module": "@jupyter-widgets/base",
      "model_module_version": "1.2.0",
      "model_name": "LayoutModel",
      "state": {}
     },
     "a4b037f4b0964d51bc4ef51a4d1b6a2a": {
      "model_module": "@jupyter-widgets/controls",
      "model_module_version": "1.5.0",
      "model_name": "HTMLModel",
      "state": {
       "layout": "IPY_MODEL_477f5b0b50ac4e17b882f769a68b897d",
       "style": "IPY_MODEL_51861a031e1d41cf9ea7b7c4d618374e",
       "value": "<div class='divider'></div>"
      }
     },
     "a4d3f4834d0c48eca5db780dd6753ec8": {
      "model_module": "@jupyter-widgets/base",
      "model_module_version": "1.2.0",
      "model_name": "LayoutModel",
      "state": {}
     },
     "a4f27705f13b480084bf3c9c610a4df4": {
      "model_module": "@jupyter-widgets/controls",
      "model_module_version": "1.5.0",
      "model_name": "DescriptionStyleModel",
      "state": {
       "description_width": ""
      }
     },
     "a53bd82bb3ff41fd8cc59387cae12cb2": {
      "model_module": "@jupyter-widgets/controls",
      "model_module_version": "1.5.0",
      "model_name": "DescriptionStyleModel",
      "state": {
       "description_width": "initial"
      }
     },
     "a55af774110f481fa8596c5e17996d4a": {
      "model_module": "@jupyter-widgets/controls",
      "model_module_version": "1.5.0",
      "model_name": "ButtonModel",
      "state": {
       "_dom_classes": [
        "pbtn"
       ],
       "button_style": "danger",
       "description": "UPDATE",
       "layout": "IPY_MODEL_18b0198690b347ec8440aabd9055ec01",
       "style": "IPY_MODEL_c308a70570f24d84a5ed7fafcd8d61f7"
      }
     },
     "a56312a56d32491d97b7a664a81f2b86": {
      "model_module": "@jupyter-widgets/base",
      "model_module_version": "1.2.0",
      "model_name": "LayoutModel",
      "state": {}
     },
     "a5b81c08ceca4b818aa84c7e5bab52f7": {
      "model_module": "@jupyter-widgets/controls",
      "model_module_version": "1.5.0",
      "model_name": "HTMLModel",
      "state": {
       "layout": "IPY_MODEL_b4bdf0a9819540879476ac33487b383d",
       "style": "IPY_MODEL_82e41173308b4672b793babaa525698c",
       "value": "\n        <table class='ptable striped'>\n            <thead class='pthead'>\n                <tr class='ptr'>\n                    <th class='pth'></th><th class='pth'>Model</th><th class='pth'>test_ACC</th><th class='pth'>test_AUC</th><th class='pth'>test_F1</th><th class='pth'>train_ACC</th><th class='pth'>train_AUC</th><th class='pth'>train_F1</th><th class='pth'>Time</th>\n                </tr>\n            </thead>\n\n            <tbody class='ptbody'>\n                <tr class='ptr hightlight'><td class='ptd'>0</td><td class='ptd'>XGB2</td><td class='ptd'>0.8495</td><td class='ptd'>0.8480</td><td class='ptd'>0.5979</td><td class='ptd'>0.8551</td><td class='ptd'>0.8549</td><td class='ptd'>0.6134</td><td class='ptd'>0.9</td></tr>\n            </tbody>\n        </table>\n        "
      }
     },
     "a5d0bfe37db949dcafda3c0f55933d33": {
      "model_module": "@jupyter-widgets/controls",
      "model_module_version": "1.5.0",
      "model_name": "BoundedFloatTextModel",
      "state": {
       "layout": "IPY_MODEL_585b9e4343b04df7b5d31191655b6abd",
       "step": null,
       "style": "IPY_MODEL_fae4f6de056a4d2c8f6fe5c785a60427"
      }
     },
     "a6074738e7bb4f56888872813af5d4df": {
      "model_module": "@jupyter-widgets/base",
      "model_module_version": "1.2.0",
      "model_name": "LayoutModel",
      "state": {
       "width": "auto"
      }
     },
     "a61c948c257548a99bff8c0c24e540d1": {
      "model_module": "@jupyter-widgets/base",
      "model_module_version": "1.2.0",
      "model_name": "LayoutModel",
      "state": {
       "width": "auto"
      }
     },
     "a668eace16c84d64bd13acdf02b5a6f6": {
      "model_module": "@jupyter-widgets/controls",
      "model_module_version": "1.5.0",
      "model_name": "BoundedFloatTextModel",
      "state": {
       "layout": "IPY_MODEL_ce97b91bca7e4317936112d32942c137",
       "max": 1,
       "step": null,
       "style": "IPY_MODEL_e13b738179ed44aba08367cc493439c3",
       "value": 0.0001
      }
     },
     "a682bb02c6aa452c99b41fbb9058d040": {
      "model_module": "@jupyter-widgets/base",
      "model_module_version": "1.2.0",
      "model_name": "LayoutModel",
      "state": {}
     },
     "a69e7635238145328dfac561e02c0c4f": {
      "model_module": "@jupyter-widgets/base",
      "model_module_version": "1.2.0",
      "model_name": "LayoutModel",
      "state": {
       "width": "100%"
      }
     },
     "a6aae0eadea2422b8a43e48ef7dcb65b": {
      "model_module": "@jupyter-widgets/base",
      "model_module_version": "1.2.0",
      "model_name": "LayoutModel",
      "state": {
       "display": "flex",
       "flex_flow": "column",
       "width": "100%"
      }
     },
     "a6bfe4eb71f64ac3a0268e99144a5a98": {
      "model_module": "@jupyter-widgets/base",
      "model_module_version": "1.2.0",
      "model_name": "LayoutModel",
      "state": {
       "display": "flex",
       "flex_flow": "column",
       "width": "50%"
      }
     },
     "a6f20100af96454e9f02acd8c3307852": {
      "model_module": "@jupyter-widgets/controls",
      "model_module_version": "1.5.0",
      "model_name": "HBoxModel",
      "state": {
       "children": [
        "IPY_MODEL_84b6bc1c0b9b4adba61991e9e08a6510",
        "IPY_MODEL_a22a973a6aef40e4a2703f50797ee93a"
       ],
       "layout": "IPY_MODEL_39cef4af7d5445d6b674890f9f1f95f6"
      }
     },
     "a70cb3312c14408cb4c85836ace4061e": {
      "model_module": "@jupyter-widgets/base",
      "model_module_version": "1.2.0",
      "model_name": "LayoutModel",
      "state": {
       "width": "155px"
      }
     },
     "a7260bbacdaf465ba606e428f7d0cf93": {
      "model_module": "@jupyter-widgets/base",
      "model_module_version": "1.2.0",
      "model_name": "LayoutModel",
      "state": {}
     },
     "a733c5755235411686e80dc64add46b1": {
      "model_module": "@jupyter-widgets/controls",
      "model_module_version": "1.5.0",
      "model_name": "DescriptionStyleModel",
      "state": {
       "description_width": ""
      }
     },
     "a7969d8f550945d1ac4b98b885371fe6": {
      "model_module": "@jupyter-widgets/base",
      "model_module_version": "1.2.0",
      "model_name": "LayoutModel",
      "state": {}
     },
     "a7b8d36d79ee4123b942f8bd0938a106": {
      "model_module": "@jupyter-widgets/base",
      "model_module_version": "1.2.0",
      "model_name": "LayoutModel",
      "state": {}
     },
     "a7c72eebf88c4e54b06609b4dc664ae5": {
      "model_module": "@jupyter-widgets/controls",
      "model_module_version": "1.5.0",
      "model_name": "DescriptionStyleModel",
      "state": {
       "description_width": ""
      }
     },
     "a7d49cef78e04f6e8a22a0d743601e16": {
      "model_module": "@jupyter-widgets/base",
      "model_module_version": "1.2.0",
      "model_name": "LayoutModel",
      "state": {
       "width": "55%"
      }
     },
     "a7f376a90a36493abd1bee58a5e37a1c": {
      "model_module": "@jupyter-widgets/controls",
      "model_module_version": "1.5.0",
      "model_name": "DescriptionStyleModel",
      "state": {
       "description_width": "initial"
      }
     },
     "a7f74d68d10a463485afed077fb636e0": {
      "model_module": "@jupyter-widgets/controls",
      "model_module_version": "1.5.0",
      "model_name": "HTMLModel",
      "state": {
       "layout": "IPY_MODEL_12b2163b0ee6433d9c036788f9ebd997",
       "style": "IPY_MODEL_6bb08e3f4498430ebd1d5228f0ad3bae",
       "value": "\n        <table class='ptable striped'>\n            <thead class='pthead'>\n                <tr class='ptr'>\n                    <th class='pth'></th><th class='pth'>name</th><th class='pth'>n_missing</th><th class='pth'>n_unique</th><th class='pth'>top1</th><th class='pth'>top2</th><th class='pth'>top3</th><th class='pth'>n_others</th>\n                </tr>\n            </thead>\n\n            <tbody class='ptbody'>\n                <tr class='ptr'><td class='ptd'>0</td><td class='ptd'>Segment</td><td class='ptd'>0</td><td class='ptd'>15</td><td class='ptd'>Segment 13 : 15000</td><td class='ptd'>Segment 6 : 10000</td><td class='ptd'>Segment 12 : 10000</td><td class='ptd'>28240</td></tr><tr class='ptr'><td class='ptd'>1</td><td class='ptd'>Label</td><td class='ptd'>0</td><td class='ptd'>2</td><td class='ptd'>0.0 : 48714</td><td class='ptd'>1.0 : 14526</td><td class='ptd'>0</td><td class='ptd'>0</td></tr><tr class='ptr'><td class='ptd'>2</td><td class='ptd'>Age >= 62</td><td class='ptd'>0</td><td class='ptd'>2</td><td class='ptd'>0.0 : 31823</td><td class='ptd'>1.0 : 31417</td><td class='ptd'>0</td><td class='ptd'>0</td></tr><tr class='ptr'><td class='ptd'>3</td><td class='ptd'>Age < 62</td><td class='ptd'>0</td><td class='ptd'>2</td><td class='ptd'>1.0 : 31823</td><td class='ptd'>0.0 : 31417</td><td class='ptd'>0</td><td class='ptd'>0</td></tr>\n            </tbody>\n        </table>\n        "
      }
     },
     "a8b339051ac140889a48623c0c33b662": {
      "model_module": "@jupyter-widgets/base",
      "model_module_version": "1.2.0",
      "model_name": "LayoutModel",
      "state": {
       "width": "155px"
      }
     },
     "a8c817e6f70a46ee831cc2445c19156d": {
      "model_module": "@jupyter-widgets/controls",
      "model_module_version": "1.5.0",
      "model_name": "HBoxModel",
      "state": {
       "children": [
        "IPY_MODEL_1b670b534bc6433a81e9af803cc87399",
        "IPY_MODEL_8f76d002250d46e683955dee0bdd8725"
       ],
       "layout": "IPY_MODEL_6297a2cfaf2c46089df39b74bb80211b"
      }
     },
     "a8f56d6004e4454080639f84a5b21ccf": {
      "model_module": "@jupyter-widgets/base",
      "model_module_version": "1.2.0",
      "model_name": "LayoutModel",
      "state": {
       "width": "auto"
      }
     },
     "a8fcf40a6ab542a49b325f180640c93b": {
      "model_module": "@jupyter-widgets/base",
      "model_module_version": "1.2.0",
      "model_name": "LayoutModel",
      "state": {
       "display": "flex",
       "flex_flow": "column",
       "width": "100%"
      }
     },
     "a8febb92606b4475b2e2f4629a3f9b54": {
      "model_module": "@jupyter-widgets/controls",
      "model_module_version": "1.5.0",
      "model_name": "HTMLModel",
      "state": {
       "layout": "IPY_MODEL_941cc61f6e6544fdba99748b7309c81a",
       "style": "IPY_MODEL_19e867ecdc734d738f8db0357e28282e",
       "value": "Data Shape:(63240, 11)"
      }
     },
     "a90336f89daa45688f254ac58c231ae3": {
      "model_module": "@jupyter-widgets/base",
      "model_module_version": "1.2.0",
      "model_name": "LayoutModel",
      "state": {
       "width": "15%"
      }
     },
     "a90f3745f7684474a16eba71c338a638": {
      "model_module": "@jupyter-widgets/base",
      "model_module_version": "1.2.0",
      "model_name": "LayoutModel",
      "state": {
       "width": "99%"
      }
     },
     "a922214e598e4968b0d2a5a5527f8ef2": {
      "model_module": "@jupyter-widgets/base",
      "model_module_version": "1.2.0",
      "model_name": "LayoutModel",
      "state": {
       "display": "flex",
       "flex_flow": "column",
       "width": "100%"
      }
     },
     "a93c3ba80cb14aa28ee2d3900fc9ed8a": {
      "model_module": "@jupyter-widgets/controls",
      "model_module_version": "1.5.0",
      "model_name": "HTMLModel",
      "state": {
       "layout": "IPY_MODEL_d83715b73fe24b50970887e9c4ade9bb",
       "style": "IPY_MODEL_85ccb56b49524e2d9f455c5a3e9042ce",
       "value": "L1_regularization:"
      }
     },
     "a94fa68f467546cba08d46ecc8fda131": {
      "model_module": "@jupyter-widgets/controls",
      "model_module_version": "1.5.0",
      "model_name": "BoxModel",
      "state": {
       "_dom_classes": [
        "inner-card"
       ],
       "children": [
        "IPY_MODEL_3dc66ae2e26d4f3aa633076cf6b18067",
        "IPY_MODEL_497b8d122ef64a0e88d1dc0a51a4ea24",
        "IPY_MODEL_586ee07cf10c42d39a37e268cde887a4"
       ],
       "layout": "IPY_MODEL_efa3dc2909a8438bafddc015e3ed5dd1"
      }
     },
     "a958e0e331fd490988274fb85dbc2a9b": {
      "model_module": "@jupyter-widgets/controls",
      "model_module_version": "1.5.0",
      "model_name": "HBoxModel",
      "state": {
       "_dom_classes": [
        "form"
       ],
       "children": [
        "IPY_MODEL_4cae03e96d234df7847c55fb502c7908",
        "IPY_MODEL_d8663ca11e8246e5ac49483c83af1e0d",
        "IPY_MODEL_16bf49a6944a40d78ce0b905c9e271fc",
        "IPY_MODEL_a35bd42821494f609e80db10eb47cb69",
        "IPY_MODEL_c65c8e81b7554a9e8b49b154d40bb8c3",
        "IPY_MODEL_5317ba552fda4c06b9cf36814e017e7a",
        "IPY_MODEL_51440fbac4494856ac613a3fb50fa908",
        "IPY_MODEL_6d43e66a8def42f2a004ed8b906d6dbb",
        "IPY_MODEL_4fc0487a1a894309bebf07109a1fd8fe"
       ],
       "layout": "IPY_MODEL_764560c3a7204f33ab409381009e0b1b"
      }
     },
     "a96fd33bbd584a93bfc776dfce7279d6": {
      "model_module": "@jupyter-widgets/controls",
      "model_module_version": "1.5.0",
      "model_name": "DescriptionStyleModel",
      "state": {
       "description_width": ""
      }
     },
     "a9750d98b9e34addac39a2d145813d8f": {
      "model_module": "@jupyter-widgets/controls",
      "model_module_version": "1.5.0",
      "model_name": "BoxModel",
      "state": {
       "children": [
        "IPY_MODEL_c6ed3d76918b40f6814bbed63e1e18f6",
        "IPY_MODEL_d7e55447a1374827924abebad2e76cd3"
       ],
       "layout": "IPY_MODEL_509791c35f6c4cbb9d2074a913a2890e"
      }
     },
     "a97e7e98a9cc460baa97abf6f40f9192": {
      "model_module": "@jupyter-widgets/controls",
      "model_module_version": "1.5.0",
      "model_name": "VBoxModel",
      "state": {
       "children": [
        "IPY_MODEL_28b7bc2cf40f46b0979bd6cfd1a2d4a9",
        "IPY_MODEL_643e161ddd354b10b448aa73c7599e1a",
        "IPY_MODEL_1b64f758e7884652980b0856a4456e7e",
        "IPY_MODEL_0f35e7d4646c4ae88a69d9244b8fe732",
        "IPY_MODEL_ffbea6f057bc48f2bfdd77be2f4a2dbf",
        "IPY_MODEL_eb891a67f4224777aba8af015f4ee2cf",
        "IPY_MODEL_cb74b038293a47698b44bb00b8b5d943",
        "IPY_MODEL_f7d8d3330a5d446e9cc494826edf9134",
        "IPY_MODEL_bb5da54ee37b48f8ae3fe2647b7a3fd6"
       ],
       "layout": "IPY_MODEL_7b76a405c9314b178eff28db936b3f49"
      }
     },
     "a98c7f14f5ae4d709162419f7fb52113": {
      "model_module": "@jupyter-widgets/controls",
      "model_module_version": "1.5.0",
      "model_name": "DropdownModel",
      "state": {
       "_options_labels": [
        "Segment 1",
        "Segment 10",
        "Segment 11",
        "Segment 12",
        "Segment 13",
        "Segment 14",
        "Segment 15",
        "Segment 2",
        "Segment 3",
        "Segment 4",
        "Segment 5",
        "Segment 6",
        "Segment 7",
        "Segment 8",
        "Segment 9"
       ],
       "index": 0,
       "layout": "IPY_MODEL_ad78182da27c46a1937a504fff366ac4",
       "style": "IPY_MODEL_8c60dc488dad45ee85623fcec0ee0094"
      }
     },
     "a9a892abae3d4f71a43ce04733ef69e3": {
      "model_module": "@jupyter-widgets/base",
      "model_module_version": "1.2.0",
      "model_name": "LayoutModel",
      "state": {
       "width": "65%"
      }
     },
     "a9bf9ad405d5475386505e5fafe9766e": {
      "model_module": "@jupyter-widgets/base",
      "model_module_version": "1.2.0",
      "model_name": "LayoutModel",
      "state": {
       "align_items": "center",
       "display": "flex",
       "flex_flow": "column",
       "width": "99%"
      }
     },
     "a9c6f5b7a45a43a48f4074f989eea02a": {
      "model_module": "@jupyter-widgets/controls",
      "model_module_version": "1.5.0",
      "model_name": "DescriptionStyleModel",
      "state": {
       "description_width": ""
      }
     },
     "a9dd602a7a604f4d9008ad7f93257d4f": {
      "model_module": "@jupyter-widgets/controls",
      "model_module_version": "1.5.0",
      "model_name": "BoxModel",
      "state": {
       "children": [
        "IPY_MODEL_ca7efb44aa524f1586a6691bf8fd7f19"
       ],
       "layout": "IPY_MODEL_483828f54631467c81cd89e35c708145"
      }
     },
     "aa19d61b39194744ae4412c4ae514480": {
      "model_module": "@jupyter-widgets/controls",
      "model_module_version": "1.5.0",
      "model_name": "ButtonStyleModel",
      "state": {}
     },
     "aa3c29ded8c54206a565784fb982f509": {
      "model_module": "@jupyter-widgets/controls",
      "model_module_version": "1.5.0",
      "model_name": "HTMLModel",
      "state": {
       "layout": "IPY_MODEL_660586986fae46e5ba5621eba4900939",
       "style": "IPY_MODEL_18faf7226b85427280987eedd6a7ec5c",
       "value": "<p class='notification info'>Model Training Done</p>"
      }
     },
     "aa97f1a35d1b4eb6a01c92c914738639": {
      "model_module": "@jupyter-widgets/controls",
      "model_module_version": "1.5.0",
      "model_name": "CheckboxModel",
      "state": {
       "description": "ReLU-DNN",
       "disabled": false,
       "indent": false,
       "layout": "IPY_MODEL_7884795f61c24fbbbe9d5f61674817a6",
       "style": "IPY_MODEL_4e07d9ccd6db4ba3875457cc9ec1f022",
       "value": false
      }
     },
     "aaa9aa2e70c24edeaccc5ecce7f40136": {
      "model_module": "@jupyter-widgets/base",
      "model_module_version": "1.2.0",
      "model_name": "LayoutModel",
      "state": {}
     },
     "aab99a6e48584d578991d737f3ce9e73": {
      "model_module": "@jupyter-widgets/base",
      "model_module_version": "1.2.0",
      "model_name": "LayoutModel",
      "state": {}
     },
     "aabbd27dc7eb4d5ba5951e1b2601c6d5": {
      "model_module": "@jupyter-widgets/controls",
      "model_module_version": "1.5.0",
      "model_name": "HBoxModel",
      "state": {
       "layout": "IPY_MODEL_7a29adbbfec243369874abfa7e388aa8"
      }
     },
     "aadab6c87521499588c06551daf2a85d": {
      "model_module": "@jupyter-widgets/controls",
      "model_module_version": "1.5.0",
      "model_name": "CheckboxModel",
      "state": {
       "description": "Tree",
       "disabled": false,
       "indent": false,
       "layout": "IPY_MODEL_10f38baeed244933bcb3dbb4df4167bc",
       "style": "IPY_MODEL_88d1d8e0be314e0ea2cf136025bda277",
       "value": false
      }
     },
     "aaf04d45a72746918d230e2c9d187605": {
      "model_module": "@jupyter-widgets/output",
      "model_module_version": "1.0.0",
      "model_name": "OutputModel",
      "state": {
       "layout": "IPY_MODEL_5c34d38a188c474a81c7e8531768e640",
       "outputs": [
        {
         "data": {
          "application/vnd.jupyter.widget-view+json": {
           "model_id": "d7802fe40b4744dba2f4af9ee005678e",
           "version_major": 2,
           "version_minor": 0
          },
          "text/plain": "Output()"
         },
         "metadata": {},
         "output_type": "display_data"
        },
        {
         "data": {
          "text/html": "<div>\n<style scoped>\n    .dataframe tbody tr th:only-of-type {\n        vertical-align: middle;\n    }\n\n    .dataframe tbody tr th {\n        vertical-align: top;\n    }\n\n    .dataframe thead th {\n        text-align: right;\n    }\n</style>\n<table border=\"1\" class=\"dataframe\">\n  <thead>\n    <tr style=\"text-align: right;\">\n      <th></th>\n      <th>Segment</th>\n      <th>x1</th>\n      <th>x2</th>\n      <th>x3</th>\n      <th>x4</th>\n      <th>x5</th>\n      <th>Label</th>\n      <th>Minority</th>\n      <th>Majority</th>\n      <th>Age &gt;= 62</th>\n      <th>Age &lt; 62</th>\n    </tr>\n  </thead>\n  <tbody>\n    <tr>\n      <th>0</th>\n      <td>Segment 1</td>\n      <td>-0.305859</td>\n      <td>-0.495321</td>\n      <td>1.195022</td>\n      <td>-0.476998</td>\n      <td>-0.711585</td>\n      <td>0.0</td>\n      <td>0.436392</td>\n      <td>0.563608</td>\n      <td>1.0</td>\n      <td>0.0</td>\n    </tr>\n    <tr>\n      <th>1</th>\n      <td>Segment 1</td>\n      <td>-0.58308</td>\n      <td>-0.280939</td>\n      <td>-0.927892</td>\n      <td>-0.534633</td>\n      <td>0.180388</td>\n      <td>0.0</td>\n      <td>0.025982</td>\n      <td>0.974018</td>\n      <td>1.0</td>\n      <td>0.0</td>\n    </tr>\n    <tr>\n      <th>2</th>\n      <td>Segment 1</td>\n      <td>-0.262612</td>\n      <td>0.075414</td>\n      <td>-0.499308</td>\n      <td>0.670432</td>\n      <td>-2.171268</td>\n      <td>0.0</td>\n      <td>0.159924</td>\n      <td>0.840076</td>\n      <td>0.0</td>\n      <td>1.0</td>\n    </tr>\n    <tr>\n      <th>3</th>\n      <td>Segment 1</td>\n      <td>0.734702</td>\n      <td>1.134868</td>\n      <td>0.884572</td>\n      <td>-1.552788</td>\n      <td>-0.408138</td>\n      <td>0.0</td>\n      <td>0.014626</td>\n      <td>0.985374</td>\n      <td>1.0</td>\n      <td>0.0</td>\n    </tr>\n    <tr>\n      <th>4</th>\n      <td>Segment 1</td>\n      <td>1.451385</td>\n      <td>2.096783</td>\n      <td>-0.008543</td>\n      <td>-0.839939</td>\n      <td>-0.345815</td>\n      <td>0.0</td>\n      <td>0.390532</td>\n      <td>0.609468</td>\n      <td>0.0</td>\n      <td>1.0</td>\n    </tr>\n    <tr>\n      <th>...</th>\n      <td>...</td>\n      <td>...</td>\n      <td>...</td>\n      <td>...</td>\n      <td>...</td>\n      <td>...</td>\n      <td>...</td>\n      <td>...</td>\n      <td>...</td>\n      <td>...</td>\n      <td>...</td>\n    </tr>\n    <tr>\n      <th>63235</th>\n      <td>Segment 15</td>\n      <td>0.040894</td>\n      <td>0.773211</td>\n      <td>1.102968</td>\n      <td>-2.033171</td>\n      <td>1.280088</td>\n      <td>0.0</td>\n      <td>0.169603</td>\n      <td>0.830397</td>\n      <td>0.0</td>\n      <td>1.0</td>\n    </tr>\n    <tr>\n      <th>63236</th>\n      <td>Segment 15</td>\n      <td>0.44314</td>\n      <td>0.669094</td>\n      <td>1.709214</td>\n      <td>-2.116166</td>\n      <td>1.639332</td>\n      <td>1.0</td>\n      <td>0.142243</td>\n      <td>0.857757</td>\n      <td>0.0</td>\n      <td>1.0</td>\n    </tr>\n    <tr>\n      <th>63237</th>\n      <td>Segment 15</td>\n      <td>-0.525556</td>\n      <td>-0.184375</td>\n      <td>-0.225891</td>\n      <td>-0.175094</td>\n      <td>0.424798</td>\n      <td>0.0</td>\n      <td>0.205865</td>\n      <td>0.794135</td>\n      <td>1.0</td>\n      <td>0.0</td>\n    </tr>\n    <tr>\n      <th>63238</th>\n      <td>Segment 15</td>\n      <td>-1.865697</td>\n      <td>-1.326895</td>\n      <td>-0.981676</td>\n      <td>0.710437</td>\n      <td>0.525616</td>\n      <td>0.0</td>\n      <td>0.089909</td>\n      <td>0.910091</td>\n      <td>0.0</td>\n      <td>1.0</td>\n    </tr>\n    <tr>\n      <th>63239</th>\n      <td>Segment 15</td>\n      <td>-2.025629</td>\n      <td>-2.549611</td>\n      <td>-1.352743</td>\n      <td>0.574488</td>\n      <td>0.916961</td>\n      <td>1.0</td>\n      <td>0.579904</td>\n      <td>0.420096</td>\n      <td>1.0</td>\n      <td>0.0</td>\n    </tr>\n  </tbody>\n</table>\n<p>63240 rows × 11 columns</p>\n</div>",
          "text/plain": "          Segment        x1        x2        x3        x4        x5 Label  \\\n0       Segment 1 -0.305859 -0.495321  1.195022 -0.476998 -0.711585   0.0   \n1       Segment 1  -0.58308 -0.280939 -0.927892 -0.534633  0.180388   0.0   \n2       Segment 1 -0.262612  0.075414 -0.499308  0.670432 -2.171268   0.0   \n3       Segment 1  0.734702  1.134868  0.884572 -1.552788 -0.408138   0.0   \n4       Segment 1  1.451385  2.096783 -0.008543 -0.839939 -0.345815   0.0   \n...           ...       ...       ...       ...       ...       ...   ...   \n63235  Segment 15  0.040894  0.773211  1.102968 -2.033171  1.280088   0.0   \n63236  Segment 15   0.44314  0.669094  1.709214 -2.116166  1.639332   1.0   \n63237  Segment 15 -0.525556 -0.184375 -0.225891 -0.175094  0.424798   0.0   \n63238  Segment 15 -1.865697 -1.326895 -0.981676  0.710437  0.525616   0.0   \n63239  Segment 15 -2.025629 -2.549611 -1.352743  0.574488  0.916961   1.0   \n\n       Minority  Majority Age >= 62 Age < 62  \n0      0.436392  0.563608       1.0      0.0  \n1      0.025982  0.974018       1.0      0.0  \n2      0.159924  0.840076       0.0      1.0  \n3      0.014626  0.985374       1.0      0.0  \n4      0.390532  0.609468       0.0      1.0  \n...         ...       ...       ...      ...  \n63235  0.169603  0.830397       0.0      1.0  \n63236  0.142243  0.857757       0.0      1.0  \n63237  0.205865  0.794135       1.0      0.0  \n63238  0.089909  0.910091       0.0      1.0  \n63239  0.579904  0.420096       1.0      0.0  \n\n[63240 rows x 11 columns]"
         },
         "metadata": {},
         "output_type": "display_data"
        }
       ]
      }
     },
     "aafbd51cb97f4001b45498399cfaf216": {
      "model_module": "@jupyter-widgets/controls",
      "model_module_version": "1.5.0",
      "model_name": "DescriptionStyleModel",
      "state": {
       "description_width": ""
      }
     },
     "ab12782f2d9e44119365136641c0526f": {
      "model_module": "@jupyter-widgets/controls",
      "model_module_version": "1.5.0",
      "model_name": "HTMLModel",
      "state": {
       "layout": "IPY_MODEL_51cd0b88fc3f4c8588cf1d719e30f33f",
       "style": "IPY_MODEL_0ce74351310048478c6bf47e95069ffe",
       "value": "<div class='divider'></div>"
      }
     },
     "ab49fe918df24225b88fab9c360bbee4": {
      "model_module": "@jupyter-widgets/controls",
      "model_module_version": "1.5.0",
      "model_name": "HBoxModel",
      "state": {
       "children": [
        "IPY_MODEL_4d13392f695b4b979b232521cdd103d3",
        "IPY_MODEL_29dce48a77124485b7595ee9971a0568"
       ],
       "layout": "IPY_MODEL_9c937ed7515e41f8ad96b825af128c90"
      }
     },
     "ab5188a53c424c029f9649da61c21afa": {
      "model_module": "@jupyter-widgets/controls",
      "model_module_version": "1.5.0",
      "model_name": "HTMLModel",
      "state": {
       "layout": "IPY_MODEL_b50bef757fd841828d99bce6c8f8b270",
       "style": "IPY_MODEL_6da47ea2749f49db9f3108415ef5da23",
       "value": "\n        <style>\n\n        .left-label {\n            width: 30%;\n        }\n\n        .card-panel {\n            -webkit-transition: -webkit-box-shadow .25s;\n            transition: -webkit-box-shadow .25s;\n            transition: box-shadow .25s;\n            transition: box-shadow .25s, -webkit-box-shadow .25s;\n            padding: 24px;\n            margin: 0.5rem 0 1rem 0;\n            border-radius: 2px;\n            background-color: #fff;\n        }\n\n        .card {\n            position: relative;\n            margin: 0.5rem 0.1rem 1rem 0.2rem;\n            background-color: #fff;\n            -webkit-transition: -webkit-box-shadow .25s;\n            transition: -webkit-box-shadow .25s;\n            transition: box-shadow .25s;\n            transition: box-shadow .25s, -webkit-box-shadow .25s;\n            border-radius: 2px;\n            box-shadow: 0 2px 2px 0 rgb(0 0 0 / 14%), 0 3px 1px -2px rgb(0 0 0 / 12%), 0 1px 5px 0 rgb(0 0 0 / 20%);\n            padding: 24px;\n            color: white;\n        }\n\n        .card .card-title {\n            font-size: 24px;\n            font-weight: 300;\n        }\n\n        @media only screen and (min-width: 800px) {\n            /* For notebook: */\n            .card {width: 99% !important;}\n        }\n\n        @media only screen and (min-width: 1400px) {\n            /* For colab: */\n            .card {width: 99% !important;}\n        }\n\n        .blue-grey.darken-1 {\n            background-color: #546e7a !important;\n        }\n\n        .small-card {\n            position: relative;\n            margin: 0.5rem 0 1rem 0;\n            background-color: #fff;\n            -webkit-transition: -webkit-box-shadow .25s;\n            transition: -webkit-box-shadow .25s;\n            transition: box-shadow .25s;\n            transition: box-shadow .25s, -webkit-box-shadow .25s;\n            border-radius: 2px;\n            box-shadow: 0 2px 2px 0 rgb(0 0 0 / 14%), 0 3px 1px -2px rgb(0 0 0 / 12%), 0 1px 5px 0 rgb(0 0 0 / 20%);\n            padding: 0px 5px 0px 5px;\n            color: white;\n        }\n\n        .inner-card {\n            position: relative;\n            background-color: #fff;\n            -webkit-transition: -webkit-box-shadow .25s;\n            transition: -webkit-box-shadow .25s;\n            transition: box-shadow .25s;\n            transition: box-shadow .25s, -webkit-box-shadow .25s;\n            border-radius: 2px;\n            box-shadow: 0 2px 2px 0 rgb(0 0 0 / 14%), 0 3px 1px -2px rgb(0 0 0 / 12%), 0 1px 5px 0 rgb(0 0 0 / 20%);\n            padding: 20px;\n            color: white;\n            margin: 0px 1px 1px 1px;\n        }\n\n        .card-with-tab {\n            position: relative;\n            margin: 0.5rem 0.1rem 1rem 0.2rem;\n            background-color: #fff;\n            -webkit-transition: -webkit-box-shadow .25s;\n            transition: -webkit-box-shadow .25s;\n            transition: box-shadow .25s;\n            transition: box-shadow .25s, -webkit-box-shadow .25s;\n            border-radius: 2px;\n            box-shadow: 0 2px 2px 0 rgb(0 0 0 / 14%), 0 3px 1px -2px rgb(0 0 0 / 12%), 0 1px 5px 0 rgb(0 0 0 / 20%);\n            padding: 24px;\n            color: white;\n        }\n\n        .card-with-tab button {\n            width: auto;\n            padding: 12px 40px;\n        }\n\n        .list {\n            padding: 0px 10px;\n            box-shadow: 0 2px 2px 0 rgb(0 0 0 / 14%), 0 3px 1px -2px rgb(0 0 0 / 12%), 0 1px 5px 0 rgb(0 0 0 / 20%);\n            margin: 0px 1px 60px 1px;\n        }\n\n        .list-item {\n            padding: 10px 0px;\n            border-width: 0;\n            border-style: solid;\n            border-color: rgba(0, 0, 0, 0.08);\n            border-bottom-width: thin;\n        }\n\n        .divider {\n            margin: 10px 0px;\n            border-width: 0;\n            border-style: solid;\n            border-color: rgba(0, 0, 0, 0.08);\n            border-bottom-width: thin;\n        }\n\n        .hr {\n            margin: 0;\n            -webkit-flex-shrink: 0;\n            -ms-flex-negative: 0;\n            flex-shrink: 0;\n            border-width: 0;\n            border-style: solid;\n            border-color: rgba(0, 0, 0, 0.08);\n            border-bottom-width: thin;\n        }\n\n        .notification {\n            transition: box-shadow 300ms cubic-bezier(0.4, 0, 0.2, 1) 0ms;\n            border-radius: 4px;\n            box-shadow: 0 2px 2px 0 rgb(0 0 0 / 14%), 0 3px 1px -2px rgb(0 0 0 / 12%), 0 1px 5px 0 rgb(0 0 0 / 20%);\n            font-family: Roboto, Helvetica, Arial, sans-serif;\n            font-weight: 500;\n            font-size: 12px;\n            line-height: 1.43;\n            letter-spacing: 0.01071em;\n            background-color: rgb(2, 136, 209);\n            display: flex;\n            padding: 6px 16px;\n            color: rgb(255, 255, 255);\n            margin-top: 10px;\n        }\n\n        .success {\n            background-color: #EDF7ED;\n            color: #1E4620;\n        }\n\n        .error {\n            background-color: #FDEDED;\n            color: #5F2120;\n        }\n\n        .info {\n            background-color: #E5F6FD;\n            color: #528298;\n        }\n\n        .warn {\n            background-color: #FFF4E5;\n            color: #663C00;\n        }\n\n        .margin-top-20 {\n            margin-top: 20px;\n        }\n\n        .hide {\n            display: none;\n        }\n\n        .pbtn {\n            display: inline-flex;\n            -webkit-box-align: center;\n            align-items: center;\n            -webkit-box-pack: center;\n            justify-content: center;\n            position: relative;\n            box-sizing: border-box;\n            -webkit-tap-highlight-color: transparent;\n            outline: 0px;\n            border: 0px;\n            margin: 0px;\n            cursor: pointer;\n            user-select: none;\n            vertical-align: middle;\n            appearance: none;\n            text-decoration: none;\n            font-family: Roboto, Helvetica, Arial, sans-serif;\n            font-weight: 550;\n            font-size: 12px;\n            line-height: 1.75;\n            letter-spacing: 0.02857em;\n            text-transform: uppercase;\n            min-width: 64px;\n            padding: 6px 16px;\n            border-radius: 4px;\n            transition: background-color 250ms cubic-bezier(0.4, 0, 0.2, 1) 0ms, box-shadow 250ms cubic-bezier(0.4, 0, 0.2, 1) 0ms, border-color 250ms cubic-bezier(0.4, 0, 0.2, 1) 0ms, color 250ms cubic-bezier(0.4, 0, 0.2, 1) 0ms;\n            color: rgb(255, 255, 255);\n            background-color: #D71E28;\n            box-shadow: rgb(0 0 0 / 20%) 0px 3px 1px -2px, rgb(0 0 0 / 14%) 0px 2px 2px 0px, rgb(0 0 0 / 12%) 0px 1px 5px 0px;\n        }\n\n        .output_subarea {\n            padding: 0px !important;\n        }\n\n        .ptable, .pth, .ptd {\n            border: none;\n        }\n\n        .pth, .ptd {\n            max-width: 150px;\n            white-space: nowrap;\n            overflow: hidden;\n            -o-text-overflow: ellipsis;\n            -ms-text-overflow: ellipsis;\n            text-overflow: ellipsis;\n        }\n\n        .ptable {\n            display: table;\n            border-collapse: collapse;\n            border-spacing: 0;\n        }\n\n        .ptable.striped .ptr {\n            border-bottom: none;\n        }\n\n        .ptable.striped > .ptbody > .ptr:nth-child(odd) {\n            background-color: rgba(242, 242, 242, 0.5);\n        }\n\n        .ptable.striped > .ptbody > .ptr > .ptd {\n            border-radius: 0;\n        }\n\n        .ptable.highlight > .ptbody > .ptr {\n            -webkit-transition: background-color .25s ease;\n            transition: background-color .25s ease;\n        }\n\n        .ptable.highlight > .ptbody > .ptr:hover {\n            background-color: rgba(242, 242, 242, 0.5);\n        }\n\n        .ptable.centered .pthead .ptr .pth, .ptable.centered .ptbody .ptr .ptd {\n            text-align: center;\n        }\n\n        .ptr {\n            border-bottom: 1px solid rgba(0, 0, 0, 0.12);\n        }\n\n        .ptr.hightlight {\n            background-color: yellow !important;\n        }\n\n        .ptd, .pth {\n            padding: 0.2rem 0.6rem;\n            display: table-cell;\n            text-align: right;\n            vertical-align: middle;\n            border-radius: 2px;\n            position: relative;\n        }\n\n        .ptr.grey {\n            background-color: grey !important;\n        }\n\n        .ptr.strikeout .ptd:before {\n            content: \" \";\n            position: absolute;\n            top: 50%;\n            left: 0;\n            border-bottom: 1px solid #111;\n            width: 100%;\n        }\n\n        .widget-toggle-button {\n            display: inline-flex;\n            -webkit-box-align: center;\n            align-items: center;\n            -webkit-box-pack: center;\n            justify-content: center;\n            box-sizing: border-box;\n            -webkit-tap-highlight-color: transparent;\n            background-color: transparent !important;\n            outline: 0px;\n            border: 0px;\n            border-bottom: 2px solid #E4E4E4 !important;\n            box-shadow: none !important;\n            margin: 0px !important;\n            border-radius: 0px;\n            cursor: pointer;\n            user-select: none;\n            vertical-align: middle;\n            appearance: none;\n            text-decoration: none;\n            font-family: Roboto, Helvetica, Arial, sans-serif;\n            font-weight: 500;\n            font-size: 14px;\n            line-height: 1.25;\n            letter-spacing: 0.02857em;\n            max-width: 360px;\n            min-width: 90px;\n            position: relative;\n            min-height: 48px;\n            flex-shrink: 0;\n            padding: 12px 16px;\n            overflow: hidden;\n            white-space: normal;\n            text-align: center;\n            flex-direction: column;\n            color: rgba(0, 0, 0, 0.6);\n        }\n\n        .mod-active {\n            color: rgb(25, 118, 210) !important;\n            border-bottom: 2px solid rgb(25, 118, 210) !important;\n        }\n\n        .narrow-tab button {\n            max-width: 15%;\n        }\n\n        .overflow-fix .jupyter-widgets {\n            overflow: auto;\n        }\n\n        .inner-padding {\n            padding-top: 20px;\n        }\n\n        .fix-img img {\n            width: 100%;\n        }\n\n        .flex-reverse-for-update-button {\n            flex-direction: row-reverse;\n            margin-right: 50px;\n        }\n\n        .data-summary-tab {\n            max-height: 400px;\n        }\n\n        .input-width-with-parent .widget-dropdown {\n            width: 100%;\n        }\n\n        .input-width-with-parent .widget-text {\n            width: 100%;\n        }\n\n        .no-margin {\n            margin: 0px;\n        }\n\n        .widget-hprogress label {\n            text-align: left;\n        }\n\n        .widget-dropdown label {\n            margin-right: 10px;\n        }\n\n        .form .widget-dropdown {\n            width: auto;\n        }\n\n        .form .widget-text {\n            width: auto;\n        }\n\n        .form p {\n            margin: 0px;\n        }\n\n        .widget-dropdown {\n            white-space: nowrap;\n            overflow: hidden;\n            -o-text-overflow: ellipsis;\n            -ms-text-overflow: ellipsis;\n            text-overflow: ellipsis;\n        }\n\n        .progress-train label {\n            margin-right: 10px;\n        }\n\n        select {\n            height: 97% !important;\n        }\n\n        .no-overflow {\n            overflow: none;\n        }\n\n        .split-btn button {\n            margin-bottom: 2px;\n        }\n\n        .register-btn {\n            width: 50%\n        }\n\n        .register-btn-colab {\n            width: 40%\n        }\n\n        .fix-config-from-overflow .jp-OutputArea-child {\n            display: inherit;\n        }\n        \n        .checkbox-center input[type=\"checkbox\"] {\n            vertical-align: middle;\n        }\n\n        input[type=\"checkbox\"] {\n            vertical-align: middle;\n        }\n\n        </style>\n        "
      }
     },
     "ab5192d294e7478ba9a3637f2be3006d": {
      "model_module": "@jupyter-widgets/base",
      "model_module_version": "1.2.0",
      "model_name": "LayoutModel",
      "state": {
       "width": "99%"
      }
     },
     "ab57d1b17f984a3395bf7badc4e16682": {
      "model_module": "@jupyter-widgets/base",
      "model_module_version": "1.2.0",
      "model_name": "LayoutModel",
      "state": {
       "height": "auto"
      }
     },
     "ab6e3b1faa86488e965fd10a89e6c749": {
      "model_module": "@jupyter-widgets/controls",
      "model_module_version": "1.5.0",
      "model_name": "HBoxModel",
      "state": {
       "children": [
        "IPY_MODEL_549a7685c69d4dcc8ffe4b225aa4e32c",
        "IPY_MODEL_1ba082933048402fb6179eaa587e8456"
       ],
       "layout": "IPY_MODEL_d5ede0dff8c440debc72a55f84e086b7"
      }
     },
     "ab7ac5f5bcf547d4ae2a2f7741d635ba": {
      "model_module": "@jupyter-widgets/controls",
      "model_module_version": "1.5.0",
      "model_name": "ToggleButtonsStyleModel",
      "state": {
       "button_width": "",
       "description_width": ""
      }
     },
     "ab855090a7564a97afe1226d64276fd9": {
      "model_module": "@jupyter-widgets/base",
      "model_module_version": "1.2.0",
      "model_name": "LayoutModel",
      "state": {}
     },
     "ab9b2f1e68b247509da19be35cbea149": {
      "model_module": "@jupyter-widgets/controls",
      "model_module_version": "1.5.0",
      "model_name": "VBoxModel",
      "state": {
       "children": [
        "IPY_MODEL_c2d703f3a5e94660a25b6749d19cebe3",
        "IPY_MODEL_13d091c04ccd4c9dad048a21fe684c1b"
       ],
       "layout": "IPY_MODEL_0bb3e23ea9fb4c67b0903e78be9288e7"
      }
     },
     "abd5e33de504430897cd9250d3db968e": {
      "model_module": "@jupyter-widgets/base",
      "model_module_version": "1.2.0",
      "model_name": "LayoutModel",
      "state": {}
     },
     "abe684c6ee494a609667682b4a4234c5": {
      "model_module": "@jupyter-widgets/controls",
      "model_module_version": "1.5.0",
      "model_name": "HBoxModel",
      "state": {
       "_dom_classes": [
        "list-item"
       ],
       "children": [
        "IPY_MODEL_3ea8852cc6e44a7c83313ff10bd98dd1",
        "IPY_MODEL_5067fadde0904ce6a2735aeb6de96132"
       ],
       "layout": "IPY_MODEL_db2efe5625d8407f9f72d416c11a2e1a"
      }
     },
     "ac10570e34bf400ba453c65cec4de872": {
      "model_module": "@jupyter-widgets/base",
      "model_module_version": "1.2.0",
      "model_name": "LayoutModel",
      "state": {}
     },
     "ac37756e548a488785e7ede295f71e2c": {
      "model_module": "@jupyter-widgets/controls",
      "model_module_version": "1.5.0",
      "model_name": "HTMLModel",
      "state": {
       "layout": "IPY_MODEL_04241df3ada9429787818c0f99fc9e38",
       "style": "IPY_MODEL_76d05a81bb614142b880ebf07b5b2419",
       "value": "<div style='margin-top: 10px'></div>"
      }
     },
     "ac4e5c372e5142ac884223fbaff1ee26": {
      "model_module": "@jupyter-widgets/output",
      "model_module_version": "1.0.0",
      "model_name": "OutputModel",
      "state": {
       "_dom_classes": [
        "register-btn"
       ],
       "layout": "IPY_MODEL_441196421dee48ae948d53f5e7cb4835",
       "outputs": [
        {
         "data": {
          "application/vnd.jupyter.widget-view+json": {
           "model_id": "38d0feff39ad4f938df5604a99d3c0ce",
           "version_major": 2,
           "version_minor": 0
          },
          "text/plain": "HBox(children=(Dropdown(description='Model Name:', layout=Layout(width='55%'), options=('Select Model', 'XGB2'…"
         },
         "metadata": {},
         "output_type": "display_data"
        }
       ]
      }
     },
     "acbb48fd414d40c38a0f2dd9e5cb3476": {
      "model_module": "@jupyter-widgets/controls",
      "model_module_version": "1.5.0",
      "model_name": "TextModel",
      "state": {
       "layout": "IPY_MODEL_4d1a22bf96c249248b91eb25d87c61b2",
       "placeholder": "1,2... or \"f1\",\"f2\"...",
       "style": "IPY_MODEL_a7f376a90a36493abd1bee58a5e37a1c"
      }
     },
     "acc37bd1ffb74616880844776af84366": {
      "model_module": "@jupyter-widgets/controls",
      "model_module_version": "1.5.0",
      "model_name": "ButtonModel",
      "state": {
       "_dom_classes": [
        "pbtn"
       ],
       "button_style": "danger",
       "icon": "history",
       "layout": "IPY_MODEL_5887013d52764edc831b05c7161591cd",
       "style": "IPY_MODEL_60b10bfa1f6948c4ac00f6f2e3ba5c1a"
      }
     },
     "ace3dc9032fd47f4abfde1d10697392d": {
      "model_module": "@jupyter-widgets/controls",
      "model_module_version": "1.5.0",
      "model_name": "VBoxModel",
      "state": {
       "children": [
        "IPY_MODEL_7257a522339141259ddb6ceec243bf51"
       ],
       "layout": "IPY_MODEL_26b3563c21804122ba3551d8fa5fe506"
      }
     },
     "acf1c179a4c548c6891c9fa8fca32906": {
      "model_module": "@jupyter-widgets/base",
      "model_module_version": "1.2.0",
      "model_name": "LayoutModel",
      "state": {
       "width": "99%"
      }
     },
     "acf84d8e108a46c290dd68b372c997d7": {
      "model_module": "@jupyter-widgets/base",
      "model_module_version": "1.2.0",
      "model_name": "LayoutModel",
      "state": {}
     },
     "ad136e2d2615474794802dee37a52041": {
      "model_module": "@jupyter-widgets/base",
      "model_module_version": "1.2.0",
      "model_name": "LayoutModel",
      "state": {
       "width": "65%"
      }
     },
     "ad270df0f4e94d42b690a519ed61abaa": {
      "model_module": "@jupyter-widgets/base",
      "model_module_version": "1.2.0",
      "model_name": "LayoutModel",
      "state": {
       "width": "auto"
      }
     },
     "ad3ff5ac30654ff7bd5d8b94c8946552": {
      "model_module": "@jupyter-widgets/base",
      "model_module_version": "1.2.0",
      "model_name": "LayoutModel",
      "state": {}
     },
     "ad4157dddfdf4395984b4baa4dbb9303": {
      "model_module": "@jupyter-widgets/controls",
      "model_module_version": "1.5.0",
      "model_name": "HTMLModel",
      "state": {
       "layout": "IPY_MODEL_88515c13215e4e89b4a70f7cc87bd5c8",
       "style": "IPY_MODEL_9a1755c15a834b7fa65f1ac90ab6ba28",
       "value": "n_interactions:"
      }
     },
     "ad74737e16d346a0b6ede2c0b7cae210": {
      "model_module": "@jupyter-widgets/controls",
      "model_module_version": "1.5.0",
      "model_name": "HTMLModel",
      "state": {
       "layout": "IPY_MODEL_bc84e5c97ab44e8f9264b33f72617fce",
       "style": "IPY_MODEL_606ab6e96d8a4ae99a842b88275a774a",
       "value": "Early_stop_rounds:"
      }
     },
     "ad78182da27c46a1937a504fff366ac4": {
      "model_module": "@jupyter-widgets/base",
      "model_module_version": "1.2.0",
      "model_name": "LayoutModel",
      "state": {
       "width": "auto"
      }
     },
     "adc1f8d0ce8a4c768a3a727029f6bb7c": {
      "model_module": "@jupyter-widgets/controls",
      "model_module_version": "1.5.0",
      "model_name": "DescriptionStyleModel",
      "state": {
       "description_width": ""
      }
     },
     "adc71a918fdd4ab384602de0cc510ece": {
      "model_module": "@jupyter-widgets/controls",
      "model_module_version": "1.5.0",
      "model_name": "DescriptionStyleModel",
      "state": {
       "description_width": ""
      }
     },
     "adf6b6b8be8c42a791bbc86420bfc8ed": {
      "model_module": "@jupyter-widgets/controls",
      "model_module_version": "1.5.0",
      "model_name": "HTMLModel",
      "state": {
       "layout": "IPY_MODEL_3dc01ce9a2a94f80b671ae11b78f229d",
       "style": "IPY_MODEL_07fc446b5fb84103826fd90e7c3e0c4b",
       "value": "Model name:"
      }
     },
     "adf74cb5a3ad41eabbc47bbdd9ff3a60": {
      "model_module": "@jupyter-widgets/base",
      "model_module_version": "1.2.0",
      "model_name": "LayoutModel",
      "state": {
       "height": "5px"
      }
     },
     "ae1fa79510464fdfac845b229ebfabd1": {
      "model_module": "@jupyter-widgets/base",
      "model_module_version": "1.2.0",
      "model_name": "LayoutModel",
      "state": {}
     },
     "ae207c14caf54199bdd96cb2d43cbec6": {
      "model_module": "@jupyter-widgets/controls",
      "model_module_version": "1.5.0",
      "model_name": "HBoxModel",
      "state": {
       "_dom_classes": [
        "list-item"
       ],
       "children": [
        "IPY_MODEL_4db426e5ff2d40e8b8712a6e7dd5b8e6",
        "IPY_MODEL_8d5faf56771d47aa80a7a866d5cfe60e"
       ],
       "layout": "IPY_MODEL_514ed7f0e6404ddfa21a71c895b22ba1"
      }
     },
     "ae5ba07143d74bc4be986cf79d5fa9f6": {
      "model_module": "@jupyter-widgets/controls",
      "model_module_version": "1.5.0",
      "model_name": "HBoxModel",
      "state": {
       "children": [
        "IPY_MODEL_b84c598d7eb345c5b16c3ab8b1190541",
        "IPY_MODEL_63278d1e190e4b88b06e822de9e64423"
       ],
       "layout": "IPY_MODEL_f4f72ea76b3041f881cf8d3ad733648b"
      }
     },
     "ae5e840e5642430fb5a79db16cbde5f9": {
      "model_module": "@jupyter-widgets/controls",
      "model_module_version": "1.5.0",
      "model_name": "HTMLModel",
      "state": {
       "layout": "IPY_MODEL_ac10570e34bf400ba453c65cec4de872",
       "style": "IPY_MODEL_02bb39f6802847f29dbc9f0d777d98b2",
       "value": "<p class='notification info'>Model Training Done</p>"
      }
     },
     "ae6d09b17c00414fb8cfb9d2befa0481": {
      "model_module": "@jupyter-widgets/output",
      "model_module_version": "1.0.0",
      "model_name": "OutputModel",
      "state": {
       "layout": "IPY_MODEL_caa645edc4514e6a9adedb8e65a2d38b",
       "outputs": [
        {
         "data": {
          "application/vnd.jupyter.widget-view+json": {
           "model_id": "72523520ae4b4922b619ec429e0c0bf7",
           "version_major": 2,
           "version_minor": 0
          },
          "text/plain": "HBox(children=(VBox(children=(Text(value='', layout=Layout(width='auto'), placeholder='Category Name', style=D…"
         },
         "metadata": {},
         "output_type": "display_data"
        }
       ]
      }
     },
     "ae7706fabf7343f888fc15758ff89950": {
      "model_module": "@jupyter-widgets/base",
      "model_module_version": "1.2.0",
      "model_name": "LayoutModel",
      "state": {}
     },
     "aea7406b0b284584bf6168d3c2e0087b": {
      "model_module": "@jupyter-widgets/controls",
      "model_module_version": "1.5.0",
      "model_name": "HTMLModel",
      "state": {
       "layout": "IPY_MODEL_0e10ea06c0e346e19a9539389e7d175f",
       "style": "IPY_MODEL_70ec14905a054d90903f36e84e85483d",
       "value": "\n        <style>\n\n        .left-label {\n            width: 30%;\n        }\n\n        .card-panel {\n            -webkit-transition: -webkit-box-shadow .25s;\n            transition: -webkit-box-shadow .25s;\n            transition: box-shadow .25s;\n            transition: box-shadow .25s, -webkit-box-shadow .25s;\n            padding: 24px;\n            margin: 0.5rem 0 1rem 0;\n            border-radius: 2px;\n            background-color: #fff;\n        }\n\n        .card {\n            position: relative;\n            margin: 0.5rem 0.1rem 1rem 0.2rem;\n            background-color: #fff;\n            -webkit-transition: -webkit-box-shadow .25s;\n            transition: -webkit-box-shadow .25s;\n            transition: box-shadow .25s;\n            transition: box-shadow .25s, -webkit-box-shadow .25s;\n            border-radius: 2px;\n            box-shadow: 0 2px 2px 0 rgb(0 0 0 / 14%), 0 3px 1px -2px rgb(0 0 0 / 12%), 0 1px 5px 0 rgb(0 0 0 / 20%);\n            padding: 24px;\n            color: white;\n        }\n\n        .card .card-title {\n            font-size: 24px;\n            font-weight: 300;\n        }\n\n        @media only screen and (min-width: 800px) {\n            /* For notebook: */\n            .card {width: 99% !important;}\n        }\n\n        @media only screen and (min-width: 1400px) {\n            /* For colab: */\n            .card {width: 99% !important;}\n        }\n\n        .blue-grey.darken-1 {\n            background-color: #546e7a !important;\n        }\n\n        .small-card {\n            position: relative;\n            margin: 0.5rem 0 1rem 0;\n            background-color: #fff;\n            -webkit-transition: -webkit-box-shadow .25s;\n            transition: -webkit-box-shadow .25s;\n            transition: box-shadow .25s;\n            transition: box-shadow .25s, -webkit-box-shadow .25s;\n            border-radius: 2px;\n            box-shadow: 0 2px 2px 0 rgb(0 0 0 / 14%), 0 3px 1px -2px rgb(0 0 0 / 12%), 0 1px 5px 0 rgb(0 0 0 / 20%);\n            padding: 0px 5px 0px 5px;\n            color: white;\n        }\n\n        .inner-card {\n            position: relative;\n            background-color: #fff;\n            -webkit-transition: -webkit-box-shadow .25s;\n            transition: -webkit-box-shadow .25s;\n            transition: box-shadow .25s;\n            transition: box-shadow .25s, -webkit-box-shadow .25s;\n            border-radius: 2px;\n            box-shadow: 0 2px 2px 0 rgb(0 0 0 / 14%), 0 3px 1px -2px rgb(0 0 0 / 12%), 0 1px 5px 0 rgb(0 0 0 / 20%);\n            padding: 20px;\n            color: white;\n            margin: 0px 1px 1px 1px;\n        }\n\n        .card-with-tab {\n            position: relative;\n            margin: 0.5rem 0.1rem 1rem 0.2rem;\n            background-color: #fff;\n            -webkit-transition: -webkit-box-shadow .25s;\n            transition: -webkit-box-shadow .25s;\n            transition: box-shadow .25s;\n            transition: box-shadow .25s, -webkit-box-shadow .25s;\n            border-radius: 2px;\n            box-shadow: 0 2px 2px 0 rgb(0 0 0 / 14%), 0 3px 1px -2px rgb(0 0 0 / 12%), 0 1px 5px 0 rgb(0 0 0 / 20%);\n            padding: 24px;\n            color: white;\n        }\n\n        .card-with-tab button {\n            width: auto;\n            padding: 12px 40px;\n        }\n\n        .list {\n            padding: 0px 10px;\n            box-shadow: 0 2px 2px 0 rgb(0 0 0 / 14%), 0 3px 1px -2px rgb(0 0 0 / 12%), 0 1px 5px 0 rgb(0 0 0 / 20%);\n            margin: 0px 1px 60px 1px;\n        }\n\n        .list-item {\n            padding: 10px 0px;\n            border-width: 0;\n            border-style: solid;\n            border-color: rgba(0, 0, 0, 0.08);\n            border-bottom-width: thin;\n        }\n\n        .divider {\n            margin: 10px 0px;\n            border-width: 0;\n            border-style: solid;\n            border-color: rgba(0, 0, 0, 0.08);\n            border-bottom-width: thin;\n        }\n\n        .hr {\n            margin: 0;\n            -webkit-flex-shrink: 0;\n            -ms-flex-negative: 0;\n            flex-shrink: 0;\n            border-width: 0;\n            border-style: solid;\n            border-color: rgba(0, 0, 0, 0.08);\n            border-bottom-width: thin;\n        }\n\n        .notification {\n            transition: box-shadow 300ms cubic-bezier(0.4, 0, 0.2, 1) 0ms;\n            border-radius: 4px;\n            box-shadow: 0 2px 2px 0 rgb(0 0 0 / 14%), 0 3px 1px -2px rgb(0 0 0 / 12%), 0 1px 5px 0 rgb(0 0 0 / 20%);\n            font-family: Roboto, Helvetica, Arial, sans-serif;\n            font-weight: 500;\n            font-size: 12px;\n            line-height: 1.43;\n            letter-spacing: 0.01071em;\n            background-color: rgb(2, 136, 209);\n            display: flex;\n            padding: 6px 16px;\n            color: rgb(255, 255, 255);\n            margin-top: 10px;\n        }\n\n        .success {\n            background-color: #EDF7ED;\n            color: #1E4620;\n        }\n\n        .error {\n            background-color: #FDEDED;\n            color: #5F2120;\n        }\n\n        .info {\n            background-color: #E5F6FD;\n            color: #528298;\n        }\n\n        .warn {\n            background-color: #FFF4E5;\n            color: #663C00;\n        }\n\n        .margin-top-20 {\n            margin-top: 20px;\n        }\n\n        .hide {\n            display: none;\n        }\n\n        .pbtn {\n            display: inline-flex;\n            -webkit-box-align: center;\n            align-items: center;\n            -webkit-box-pack: center;\n            justify-content: center;\n            position: relative;\n            box-sizing: border-box;\n            -webkit-tap-highlight-color: transparent;\n            outline: 0px;\n            border: 0px;\n            margin: 0px;\n            cursor: pointer;\n            user-select: none;\n            vertical-align: middle;\n            appearance: none;\n            text-decoration: none;\n            font-family: Roboto, Helvetica, Arial, sans-serif;\n            font-weight: 550;\n            font-size: 12px;\n            line-height: 1.75;\n            letter-spacing: 0.02857em;\n            text-transform: uppercase;\n            min-width: 64px;\n            padding: 6px 16px;\n            border-radius: 4px;\n            transition: background-color 250ms cubic-bezier(0.4, 0, 0.2, 1) 0ms, box-shadow 250ms cubic-bezier(0.4, 0, 0.2, 1) 0ms, border-color 250ms cubic-bezier(0.4, 0, 0.2, 1) 0ms, color 250ms cubic-bezier(0.4, 0, 0.2, 1) 0ms;\n            color: rgb(255, 255, 255);\n            background-color: #D71E28;\n            box-shadow: rgb(0 0 0 / 20%) 0px 3px 1px -2px, rgb(0 0 0 / 14%) 0px 2px 2px 0px, rgb(0 0 0 / 12%) 0px 1px 5px 0px;\n        }\n\n        .output_subarea {\n            padding: 0px !important;\n        }\n\n        .ptable, .pth, .ptd {\n            border: none;\n        }\n\n        .pth, .ptd {\n            max-width: 150px;\n            white-space: nowrap;\n            overflow: hidden;\n            -o-text-overflow: ellipsis;\n            -ms-text-overflow: ellipsis;\n            text-overflow: ellipsis;\n        }\n\n        .ptable {\n            display: table;\n            border-collapse: collapse;\n            border-spacing: 0;\n        }\n\n        .ptable.striped .ptr {\n            border-bottom: none;\n        }\n\n        .ptable.striped > .ptbody > .ptr:nth-child(odd) {\n            background-color: rgba(242, 242, 242, 0.5);\n        }\n\n        .ptable.striped > .ptbody > .ptr > .ptd {\n            border-radius: 0;\n        }\n\n        .ptable.highlight > .ptbody > .ptr {\n            -webkit-transition: background-color .25s ease;\n            transition: background-color .25s ease;\n        }\n\n        .ptable.highlight > .ptbody > .ptr:hover {\n            background-color: rgba(242, 242, 242, 0.5);\n        }\n\n        .ptable.centered .pthead .ptr .pth, .ptable.centered .ptbody .ptr .ptd {\n            text-align: center;\n        }\n\n        .ptr {\n            border-bottom: 1px solid rgba(0, 0, 0, 0.12);\n        }\n\n        .ptr.hightlight {\n            background-color: yellow !important;\n        }\n\n        .ptd, .pth {\n            padding: 0.2rem 0.6rem;\n            display: table-cell;\n            text-align: right;\n            vertical-align: middle;\n            border-radius: 2px;\n            position: relative;\n        }\n\n        .ptr.grey {\n            background-color: grey !important;\n        }\n\n        .ptr.strikeout .ptd:before {\n            content: \" \";\n            position: absolute;\n            top: 50%;\n            left: 0;\n            border-bottom: 1px solid #111;\n            width: 100%;\n        }\n\n        .widget-toggle-button {\n            display: inline-flex;\n            -webkit-box-align: center;\n            align-items: center;\n            -webkit-box-pack: center;\n            justify-content: center;\n            box-sizing: border-box;\n            -webkit-tap-highlight-color: transparent;\n            background-color: transparent !important;\n            outline: 0px;\n            border: 0px;\n            border-bottom: 2px solid #E4E4E4 !important;\n            box-shadow: none !important;\n            margin: 0px !important;\n            border-radius: 0px;\n            cursor: pointer;\n            user-select: none;\n            vertical-align: middle;\n            appearance: none;\n            text-decoration: none;\n            font-family: Roboto, Helvetica, Arial, sans-serif;\n            font-weight: 500;\n            font-size: 14px;\n            line-height: 1.25;\n            letter-spacing: 0.02857em;\n            max-width: 360px;\n            min-width: 90px;\n            position: relative;\n            min-height: 48px;\n            flex-shrink: 0;\n            padding: 12px 16px;\n            overflow: hidden;\n            white-space: normal;\n            text-align: center;\n            flex-direction: column;\n            color: rgba(0, 0, 0, 0.6);\n        }\n\n        .mod-active {\n            color: rgb(25, 118, 210) !important;\n            border-bottom: 2px solid rgb(25, 118, 210) !important;\n        }\n\n        .narrow-tab button {\n            max-width: 15%;\n        }\n\n        .overflow-fix .jupyter-widgets {\n            overflow: auto;\n        }\n\n        .inner-padding {\n            padding-top: 20px;\n        }\n\n        .fix-img img {\n            width: 100%;\n        }\n\n        .flex-reverse-for-update-button {\n            flex-direction: row-reverse;\n            margin-right: 50px;\n        }\n\n        .data-summary-tab {\n            max-height: 400px;\n        }\n\n        .input-width-with-parent .widget-dropdown {\n            width: 100%;\n        }\n\n        .input-width-with-parent .widget-text {\n            width: 100%;\n        }\n\n        .no-margin {\n            margin: 0px;\n        }\n\n        .widget-hprogress label {\n            text-align: left;\n        }\n\n        .widget-dropdown label {\n            margin-right: 10px;\n        }\n\n        .form .widget-dropdown {\n            width: auto;\n        }\n\n        .form .widget-text {\n            width: auto;\n        }\n\n        .form p {\n            margin: 0px;\n        }\n\n        .widget-dropdown {\n            white-space: nowrap;\n            overflow: hidden;\n            -o-text-overflow: ellipsis;\n            -ms-text-overflow: ellipsis;\n            text-overflow: ellipsis;\n        }\n\n        .progress-train label {\n            margin-right: 10px;\n        }\n\n        select {\n            height: 97% !important;\n        }\n\n        .no-overflow {\n            overflow: none;\n        }\n\n        .split-btn button {\n            margin-bottom: 2px;\n        }\n\n        .register-btn {\n            width: 50%\n        }\n\n        .register-btn-colab {\n            width: 40%\n        }\n\n        .fix-config-from-overflow .jp-OutputArea-child {\n            display: inherit;\n        }\n        \n        .checkbox-center input[type=\"checkbox\"] {\n            vertical-align: middle;\n        }\n\n        input[type=\"checkbox\"] {\n            vertical-align: middle;\n        }\n\n        </style>\n        "
      }
     },
     "aeca7824225449f3a53812a847c3b854": {
      "model_module": "@jupyter-widgets/controls",
      "model_module_version": "1.5.0",
      "model_name": "BoundedFloatTextModel",
      "state": {
       "layout": "IPY_MODEL_12b57895f7d44d30871356190bed42a2",
       "max": 1,
       "step": null,
       "style": "IPY_MODEL_8f4f48af245a4fceb182f71de574f38e",
       "value": 0.001
      }
     },
     "aefc37f33aaf4e529be83079d3217cc2": {
      "model_module": "@jupyter-widgets/base",
      "model_module_version": "1.2.0",
      "model_name": "LayoutModel",
      "state": {
       "width": "14%"
      }
     },
     "af0f7d26163b42b49f0ca9e841c1f819": {
      "model_module": "@jupyter-widgets/controls",
      "model_module_version": "1.5.0",
      "model_name": "DescriptionStyleModel",
      "state": {
       "description_width": ""
      }
     },
     "af2c65b87660449a8ae67d41520a99e7": {
      "model_module": "@jupyter-widgets/base",
      "model_module_version": "1.2.0",
      "model_name": "LayoutModel",
      "state": {
       "width": "25px"
      }
     },
     "af2e6ba07b9841eab311e403de9dc4cb": {
      "model_module": "@jupyter-widgets/base",
      "model_module_version": "1.2.0",
      "model_name": "LayoutModel",
      "state": {}
     },
     "af357f2ec6724eae8f2fc2844db0090c": {
      "model_module": "@jupyter-widgets/base",
      "model_module_version": "1.2.0",
      "model_name": "LayoutModel",
      "state": {}
     },
     "af5356c3f0984ec3a326bbd28ca61a7a": {
      "model_module": "@jupyter-widgets/base",
      "model_module_version": "1.2.0",
      "model_name": "LayoutModel",
      "state": {}
     },
     "af53930548fb44178af7e8bd851b313a": {
      "model_module": "@jupyter-widgets/controls",
      "model_module_version": "1.5.0",
      "model_name": "HTMLModel",
      "state": {
       "layout": "IPY_MODEL_4120dab924634440b27b8184e953a00b",
       "style": "IPY_MODEL_1c6dacdc981e498ab68818560579c010",
       "value": "\n        <table class='ptable striped'>\n            <thead class='pthead'>\n                <tr class='ptr'>\n                    <th class='pth'></th><th class='pth'>name</th><th class='pth'>n_missing</th><th class='pth'>mean</th><th class='pth'>std</th><th class='pth'>min</th><th class='pth'>q1</th><th class='pth'>median</th><th class='pth'>q3</th><th class='pth'>max</th>\n                </tr>\n            </thead>\n\n            <tbody class='ptbody'>\n                <tr class='ptr'><td class='ptd'>0</td><td class='ptd'>x1</td><td class='ptd'>0.0</td><td class='ptd'>-0.010468</td><td class='ptd'>1.00554</td><td class='ptd'>-4.111457</td><td class='ptd'>-0.687572</td><td class='ptd'>-0.016001</td><td class='ptd'>0.661917</td><td class='ptd'>3.723496</td></tr><tr class='ptr'><td class='ptd'>1</td><td class='ptd'>x2</td><td class='ptd'>0.0</td><td class='ptd'>0.003769</td><td class='ptd'>0.998657</td><td class='ptd'>-4.441389</td><td class='ptd'>-0.661684</td><td class='ptd'>0.009965</td><td class='ptd'>0.678074</td><td class='ptd'>4.547531</td></tr><tr class='ptr'><td class='ptd'>2</td><td class='ptd'>x3</td><td class='ptd'>0.0</td><td class='ptd'>-0.027052</td><td class='ptd'>0.996581</td><td class='ptd'>-4.040587</td><td class='ptd'>-0.699355</td><td class='ptd'>-0.026371</td><td class='ptd'>0.64237</td><td class='ptd'>4.308687</td></tr><tr class='ptr'><td class='ptd'>3</td><td class='ptd'>x4</td><td class='ptd'>0.0</td><td class='ptd'>0.00803</td><td class='ptd'>0.99497</td><td class='ptd'>-4.491451</td><td class='ptd'>-0.659107</td><td class='ptd'>0.004833</td><td class='ptd'>0.680002</td><td class='ptd'>3.864044</td></tr><tr class='ptr'><td class='ptd'>4</td><td class='ptd'>x5</td><td class='ptd'>0.0</td><td class='ptd'>-0.001039</td><td class='ptd'>0.9876</td><td class='ptd'>-3.990077</td><td class='ptd'>-0.663987</td><td class='ptd'>0.000662</td><td class='ptd'>0.659662</td><td class='ptd'>4.093057</td></tr><tr class='ptr grey'><td class='ptd'>5</td><td class='ptd'>Minority</td><td class='ptd'>0.0</td><td class='ptd'>0.271599</td><td class='ptd'>0.268342</td><td class='ptd'>3e-06</td><td class='ptd'>0.056888</td><td class='ptd'>0.170139</td><td class='ptd'>0.419018</td><td class='ptd'>0.99998</td></tr><tr class='ptr'><td class='ptd'>6</td><td class='ptd'>Majority</td><td class='ptd'>0.0</td><td class='ptd'>0.728401</td><td class='ptd'>0.268342</td><td class='ptd'>2e-05</td><td class='ptd'>0.580982</td><td class='ptd'>0.829861</td><td class='ptd'>0.943112</td><td class='ptd'>0.999997</td></tr>\n            </tbody>\n        </table>\n        "
      }
     },
     "af56ac625ba64e7d8b06d9ed23cca44d": {
      "model_module": "@jupyter-widgets/controls",
      "model_module_version": "1.5.0",
      "model_name": "DescriptionStyleModel",
      "state": {
       "description_width": ""
      }
     },
     "af92408784be4780903b79cdf76d7a23": {
      "model_module": "@jupyter-widgets/base",
      "model_module_version": "1.2.0",
      "model_name": "LayoutModel",
      "state": {}
     },
     "afb130732d074aab8812a8734a652e61": {
      "model_module": "@jupyter-widgets/controls",
      "model_module_version": "1.5.0",
      "model_name": "DescriptionStyleModel",
      "state": {
       "description_width": ""
      }
     },
     "afe30e88c01447f6a017fb758d96dbd6": {
      "model_module": "@jupyter-widgets/controls",
      "model_module_version": "1.5.0",
      "model_name": "BoxModel",
      "state": {
       "_dom_classes": [
        "inner-card"
       ],
       "children": [
        "IPY_MODEL_a0e873d1c78d4503be2fc248be812e9b"
       ],
       "layout": "IPY_MODEL_49ab3c81458a4d07a7173d6c7c93763c"
      }
     },
     "aff55810f87840c199ed6a20bc884e39": {
      "model_module": "@jupyter-widgets/base",
      "model_module_version": "1.2.0",
      "model_name": "LayoutModel",
      "state": {
       "width": "auto"
      }
     },
     "aff92c209b1f4102af9f99e66216a191": {
      "model_module": "@jupyter-widgets/base",
      "model_module_version": "1.2.0",
      "model_name": "LayoutModel",
      "state": {
       "display": "flex",
       "flex_flow": "column",
       "width": "100%"
      }
     },
     "b00a9d4f5468494399e799d81ab0e74d": {
      "model_module": "@jupyter-widgets/base",
      "model_module_version": "1.2.0",
      "model_name": "LayoutModel",
      "state": {}
     },
     "b03e9c932b8c456fb9e4a0d46f243ae9": {
      "model_module": "@jupyter-widgets/controls",
      "model_module_version": "1.5.0",
      "model_name": "DescriptionStyleModel",
      "state": {
       "description_width": "initial"
      }
     },
     "b04c825bb45d4933afecaa2ed90fa4a7": {
      "model_module": "@jupyter-widgets/controls",
      "model_module_version": "1.5.0",
      "model_name": "HTMLModel",
      "state": {
       "layout": "IPY_MODEL_0f541e9f13d646a4b6034cf120add244",
       "style": "IPY_MODEL_4a370ababb0342b4aab9f7041c34032d",
       "value": "<div class='divider'></div>"
      }
     },
     "b051e73f435f4f9f97243606f3d81778": {
      "model_module": "@jupyter-widgets/controls",
      "model_module_version": "1.5.0",
      "model_name": "DropdownModel",
      "state": {
       "_options_labels": [
        "Select Model",
        "XGB2"
       ],
       "description": "Model Name:",
       "index": 1,
       "layout": "IPY_MODEL_7d918aa79fa4438c9adb9fe6281ff87c",
       "style": "IPY_MODEL_e55e0a22ff0e4f6e844a8f175ed4153e"
      }
     },
     "b057b53db75b4639b6a28f9e1abc879c": {
      "model_module": "@jupyter-widgets/controls",
      "model_module_version": "1.5.0",
      "model_name": "HTMLModel",
      "state": {
       "layout": "IPY_MODEL_b00a9d4f5468494399e799d81ab0e74d",
       "style": "IPY_MODEL_6ef20364541c4641a82395cd8e2f8e99",
       "value": "Layer_sizes:"
      }
     },
     "b06bb29e475a4d5cbe89a22165d60805": {
      "model_module": "@jupyter-widgets/output",
      "model_module_version": "1.0.0",
      "model_name": "OutputModel",
      "state": {
       "layout": "IPY_MODEL_e8565ec5d2a7441fb1710457abb9249a",
       "outputs": [
        {
         "data": {
          "text/html": "<div>\n<style scoped>\n    .dataframe tbody tr th:only-of-type {\n        vertical-align: middle;\n    }\n\n    .dataframe tbody tr th {\n        vertical-align: top;\n    }\n\n    .dataframe thead th {\n        text-align: right;\n    }\n</style>\n<table border=\"1\" class=\"dataframe\">\n  <thead>\n    <tr style=\"text-align: right;\">\n      <th></th>\n      <th>Group Category</th>\n      <th>Reference Group</th>\n      <th>Protected Group</th>\n    </tr>\n  </thead>\n  <tbody>\n  </tbody>\n</table>\n</div>",
          "text/plain": "Empty DataFrame\nColumns: [Group Category, Reference Group, Protected Group]\nIndex: []"
         },
         "metadata": {},
         "output_type": "display_data"
        }
       ]
      }
     },
     "b07e49e8672945d690fdfee68f5853d0": {
      "model_module": "@jupyter-widgets/base",
      "model_module_version": "1.2.0",
      "model_name": "LayoutModel",
      "state": {
       "display": "flex",
       "flex_flow": "column",
       "width": "auto"
      }
     },
     "b0abc84e6dc44333a791d3c76959ea09": {
      "model_module": "@jupyter-widgets/controls",
      "model_module_version": "1.5.0",
      "model_name": "HBoxModel",
      "state": {
       "children": [
        "IPY_MODEL_8d7527b9aced4ee4aa8dfa198d57084d",
        "IPY_MODEL_9236fcbbe2864897889c8df95ab87e15",
        "IPY_MODEL_dd14efc4dfda494b83fc01b3143404f8"
       ],
       "layout": "IPY_MODEL_686253883e1c47929579a86ef4f80b5c"
      }
     },
     "b0c59a4f0f244a14ace61a256f38ddfb": {
      "model_module": "@jupyter-widgets/controls",
      "model_module_version": "1.5.0",
      "model_name": "BoundedFloatTextModel",
      "state": {
       "layout": "IPY_MODEL_9b302421e836468fa91488223df2b7b1",
       "step": null,
       "style": "IPY_MODEL_187d9e6da47f41edac12d5002d57fa61"
      }
     },
     "b0d4c51e6f37493f9ef92251caa59014": {
      "model_module": "@jupyter-widgets/controls",
      "model_module_version": "1.5.0",
      "model_name": "ButtonStyleModel",
      "state": {}
     },
     "b0d72eca88704130badcf9183a10c72d": {
      "model_module": "@jupyter-widgets/controls",
      "model_module_version": "1.5.0",
      "model_name": "DropdownModel",
      "state": {
       "_options_labels": [
        "Select",
        "Segment",
        "x1",
        "x2",
        "x3",
        "x4",
        "x5",
        "Label",
        "Minority",
        "Majority",
        "Age >= 62",
        "Age < 62"
       ],
       "index": 11,
       "layout": "IPY_MODEL_5346b7cd54524adcb33c268bdacf414b",
       "style": "IPY_MODEL_b9caa05d19b540649d088c67201cf88a"
      }
     },
     "b0dbc9de4a4943cf8e9ccc6af565f937": {
      "model_module": "@jupyter-widgets/controls",
      "model_module_version": "1.5.0",
      "model_name": "HTMLModel",
      "state": {
       "layout": "IPY_MODEL_24393198ad2f40b4b928c4c7893e5a63",
       "style": "IPY_MODEL_8586febbff7842c3b2e1190f38fd021d",
       "value": "\n        <table class='ptable striped'>\n            <thead class='pthead'>\n                <tr class='ptr'>\n                    <th class='pth'></th><th class='pth'>name</th><th class='pth'>n_missing</th><th class='pth'>mean</th><th class='pth'>std</th><th class='pth'>min</th><th class='pth'>q1</th><th class='pth'>median</th><th class='pth'>q3</th><th class='pth'>max</th>\n                </tr>\n            </thead>\n\n            <tbody class='ptbody'>\n                <tr class='ptr'><td class='ptd'>0</td><td class='ptd'>x1</td><td class='ptd'>0.0</td><td class='ptd'>-0.0105</td><td class='ptd'>1.0055</td><td class='ptd'>-4.1115</td><td class='ptd'>-0.6876</td><td class='ptd'>-0.016</td><td class='ptd'>0.6619</td><td class='ptd'>3.7235</td></tr><tr class='ptr'><td class='ptd'>1</td><td class='ptd'>x2</td><td class='ptd'>0.0</td><td class='ptd'>0.0038</td><td class='ptd'>0.9987</td><td class='ptd'>-4.4414</td><td class='ptd'>-0.6617</td><td class='ptd'>0.01</td><td class='ptd'>0.6781</td><td class='ptd'>4.5475</td></tr><tr class='ptr'><td class='ptd'>2</td><td class='ptd'>x3</td><td class='ptd'>0.0</td><td class='ptd'>-0.0271</td><td class='ptd'>0.9966</td><td class='ptd'>-4.0406</td><td class='ptd'>-0.6994</td><td class='ptd'>-0.0264</td><td class='ptd'>0.6424</td><td class='ptd'>4.3087</td></tr><tr class='ptr'><td class='ptd'>3</td><td class='ptd'>x4</td><td class='ptd'>0.0</td><td class='ptd'>0.008</td><td class='ptd'>0.995</td><td class='ptd'>-4.4915</td><td class='ptd'>-0.6591</td><td class='ptd'>0.0048</td><td class='ptd'>0.68</td><td class='ptd'>3.864</td></tr><tr class='ptr'><td class='ptd'>4</td><td class='ptd'>x5</td><td class='ptd'>0.0</td><td class='ptd'>-0.001</td><td class='ptd'>0.9876</td><td class='ptd'>-3.9901</td><td class='ptd'>-0.664</td><td class='ptd'>0.0007</td><td class='ptd'>0.6597</td><td class='ptd'>4.0931</td></tr><tr class='ptr'><td class='ptd'>5</td><td class='ptd'>Minority</td><td class='ptd'>0.0</td><td class='ptd'>0.2716</td><td class='ptd'>0.2683</td><td class='ptd'>0.0</td><td class='ptd'>0.0569</td><td class='ptd'>0.1701</td><td class='ptd'>0.419</td><td class='ptd'>1.0</td></tr><tr class='ptr'><td class='ptd'>6</td><td class='ptd'>Majority</td><td class='ptd'>0.0</td><td class='ptd'>0.7284</td><td class='ptd'>0.2683</td><td class='ptd'>0.0</td><td class='ptd'>0.581</td><td class='ptd'>0.8299</td><td class='ptd'>0.9431</td><td class='ptd'>1.0</td></tr>\n            </tbody>\n        </table>\n        "
      }
     },
     "b0f50b7aea8249d7aae8bed83aefaae5": {
      "model_module": "@jupyter-widgets/controls",
      "model_module_version": "1.5.0",
      "model_name": "DescriptionStyleModel",
      "state": {
       "description_width": ""
      }
     },
     "b101802384574f8790f671381c3b15ab": {
      "model_module": "@jupyter-widgets/base",
      "model_module_version": "1.2.0",
      "model_name": "LayoutModel",
      "state": {
       "width": "40%"
      }
     },
     "b102501a430748e68448062dbc4926d4": {
      "model_module": "@jupyter-widgets/controls",
      "model_module_version": "1.5.0",
      "model_name": "HBoxModel",
      "state": {
       "_dom_classes": [
        "list-item"
       ],
       "children": [
        "IPY_MODEL_54920ac9d66f422bb0a8da9e09e9c93c",
        "IPY_MODEL_f66189b0da654160ba36150f468bd2d8"
       ],
       "layout": "IPY_MODEL_f8349b4dd8034a30af5fb80ac2f3b5e6"
      }
     },
     "b12e5ec7fb414044be2f3413a724872e": {
      "model_module": "@jupyter-widgets/base",
      "model_module_version": "1.2.0",
      "model_name": "LayoutModel",
      "state": {}
     },
     "b16e2fdb31d941779566ac89903b58dd": {
      "model_module": "@jupyter-widgets/base",
      "model_module_version": "1.2.0",
      "model_name": "LayoutModel",
      "state": {}
     },
     "b1e6885ceee14e53b2c40d3ca46c9a28": {
      "model_module": "@jupyter-widgets/base",
      "model_module_version": "1.2.0",
      "model_name": "LayoutModel",
      "state": {
       "width": "auto"
      }
     },
     "b1e9fb1d695c48bd90d3256fc9a93d5d": {
      "model_module": "@jupyter-widgets/base",
      "model_module_version": "1.2.0",
      "model_name": "LayoutModel",
      "state": {
       "width": "auto"
      }
     },
     "b213183d022f477d98bad26517809f73": {
      "model_module": "@jupyter-widgets/base",
      "model_module_version": "1.2.0",
      "model_name": "LayoutModel",
      "state": {}
     },
     "b2ba6fd74d0f4e1b86dc13c7fad8a52b": {
      "model_module": "@jupyter-widgets/controls",
      "model_module_version": "1.5.0",
      "model_name": "BoxModel",
      "state": {
       "children": [
        "IPY_MODEL_69e42e42868740179053dc345c60350d"
       ],
       "layout": "IPY_MODEL_7c9420067bf44ef7ae1de1c8d4e4717b"
      }
     },
     "b2d41bb104da4b4cb87c0e633317f20d": {
      "model_module": "@jupyter-widgets/controls",
      "model_module_version": "1.5.0",
      "model_name": "HTMLModel",
      "state": {
       "layout": "IPY_MODEL_da9c98194a8742519f219de7e5e155f0",
       "style": "IPY_MODEL_c4eb2c731c2940b1b2b8943d5371cdfe",
       "value": "<h4 style='margin: 10px 0px;'>Customize Model</h4>"
      }
     },
     "b300078416b242c9a8e74ee75472c8f1": {
      "model_module": "@jupyter-widgets/controls",
      "model_module_version": "1.5.0",
      "model_name": "SliderStyleModel",
      "state": {
       "description_width": ""
      }
     },
     "b30733359ad343bc8810c622f5273940": {
      "model_module": "@jupyter-widgets/base",
      "model_module_version": "1.2.0",
      "model_name": "LayoutModel",
      "state": {}
     },
     "b34a10e4d138433c879e7ef0d663c115": {
      "model_module": "@jupyter-widgets/base",
      "model_module_version": "1.2.0",
      "model_name": "LayoutModel",
      "state": {}
     },
     "b36715bc67a240a8be903f23bc3ccb34": {
      "model_module": "@jupyter-widgets/controls",
      "model_module_version": "1.5.0",
      "model_name": "DescriptionStyleModel",
      "state": {
       "description_width": ""
      }
     },
     "b38aef4ad1ff4e71a8ed3ed29ecc901d": {
      "model_module": "@jupyter-widgets/controls",
      "model_module_version": "1.5.0",
      "model_name": "HTMLModel",
      "state": {
       "layout": "IPY_MODEL_6f01044dd4a34992bc28aa0428bd3cfb",
       "style": "IPY_MODEL_83863791cdd041fdaac9a972b9f604a4",
       "value": "<p class='notification info'>Register XGB2 Done</p>"
      }
     },
     "b38bf9a9659e4417a49343144b6b19c4": {
      "model_module": "@jupyter-widgets/output",
      "model_module_version": "1.0.0",
      "model_name": "OutputModel",
      "state": {
       "layout": "IPY_MODEL_b5ea4ec95f0a45c7866e311306468336"
      }
     },
     "b38cd7ca0602466fb1338aafdb170580": {
      "model_module": "@jupyter-widgets/controls",
      "model_module_version": "1.5.0",
      "model_name": "HTMLModel",
      "state": {
       "layout": "IPY_MODEL_a42cbb2677e14a30ad28285c246cf3aa",
       "style": "IPY_MODEL_493bbc9690b840b18ba07839f1ddc830",
       "value": "<p class=\"notification info\">Excluded attribute \"Age >= 62\"</p>"
      }
     },
     "b3b8f9b87863467fa4eca0f33ee98760": {
      "model_module": "@jupyter-widgets/base",
      "model_module_version": "1.2.0",
      "model_name": "LayoutModel",
      "state": {}
     },
     "b3d3c51fa36d4b3bae4add15804d0e15": {
      "model_module": "@jupyter-widgets/base",
      "model_module_version": "1.2.0",
      "model_name": "LayoutModel",
      "state": {
       "width": "14%"
      }
     },
     "b3d63c4bfd0a435fbd37902156c20590": {
      "model_module": "@jupyter-widgets/base",
      "model_module_version": "1.2.0",
      "model_name": "LayoutModel",
      "state": {
       "width": "65%"
      }
     },
     "b3f8443910de4da085e5699df7d79470": {
      "model_module": "@jupyter-widgets/controls",
      "model_module_version": "1.5.0",
      "model_name": "DescriptionStyleModel",
      "state": {
       "description_width": "initial"
      }
     },
     "b3fc7f95b7094aa193d19eade88f186b": {
      "model_module": "@jupyter-widgets/base",
      "model_module_version": "1.2.0",
      "model_name": "LayoutModel",
      "state": {
       "width": "auto"
      }
     },
     "b40021b1b9fb405f89dbd3781bfc321e": {
      "model_module": "@jupyter-widgets/base",
      "model_module_version": "1.2.0",
      "model_name": "LayoutModel",
      "state": {}
     },
     "b45ecfce67d943a2a0e639efed2b35e9": {
      "model_module": "@jupyter-widgets/base",
      "model_module_version": "1.2.0",
      "model_name": "LayoutModel",
      "state": {}
     },
     "b46d3140f23d441eb14ecc76dfdf51fd": {
      "model_module": "@jupyter-widgets/base",
      "model_module_version": "1.2.0",
      "model_name": "LayoutModel",
      "state": {
       "align_items": "center",
       "display": "flex",
       "flex_flow": "row",
       "width": "100%"
      }
     },
     "b48519a5276d4779a41dd4a0a5e519ec": {
      "model_module": "@jupyter-widgets/controls",
      "model_module_version": "1.5.0",
      "model_name": "VBoxModel",
      "state": {
       "children": [
        "IPY_MODEL_518f0ba224f045c0b758729496251844",
        "IPY_MODEL_080448b2a8ec4ca3b0a6799b0a29d8a0"
       ],
       "layout": "IPY_MODEL_97ae39f637a243b49406832388eb2ef2"
      }
     },
     "b4a3a8a6f8ce44ce8f6c1f69490d013a": {
      "model_module": "@jupyter-widgets/controls",
      "model_module_version": "1.5.0",
      "model_name": "HTMLModel",
      "state": {
       "layout": "IPY_MODEL_be0d92e225d54499bf231af345ff8276",
       "style": "IPY_MODEL_365e857dbff54d5ead8f2ff7d303f48a",
       "value": "<h4 style='margin: 10px 0px;'>Monotonic Setting</h4>"
      }
     },
     "b4bdf0a9819540879476ac33487b383d": {
      "model_module": "@jupyter-widgets/base",
      "model_module_version": "1.2.0",
      "model_name": "LayoutModel",
      "state": {}
     },
     "b4cac921d7d84a07804244da7e68f08a": {
      "model_module": "@jupyter-widgets/base",
      "model_module_version": "1.2.0",
      "model_name": "LayoutModel",
      "state": {}
     },
     "b4ec228de453428d99c102dfe4851ba7": {
      "model_module": "@jupyter-widgets/base",
      "model_module_version": "1.2.0",
      "model_name": "LayoutModel",
      "state": {}
     },
     "b50bef757fd841828d99bce6c8f8b270": {
      "model_module": "@jupyter-widgets/base",
      "model_module_version": "1.2.0",
      "model_name": "LayoutModel",
      "state": {}
     },
     "b515ec3eda0d4fc795b67c8f246080f1": {
      "model_module": "@jupyter-widgets/controls",
      "model_module_version": "1.5.0",
      "model_name": "HBoxModel",
      "state": {
       "children": [
        "IPY_MODEL_8c21653716cd43869671bc8029d7f08e",
        "IPY_MODEL_31f2ecd1974d44bab83f73b0a30f0507",
        "IPY_MODEL_0d1d7e71b25d47479ab4d91bf3122d71",
        "IPY_MODEL_1e67a7a10baf4295964b66c02c4ee268",
        "IPY_MODEL_2c77c326db3d4863851c812900546a26"
       ],
       "layout": "IPY_MODEL_95d78b731c774a4abe81af0b86f47abd"
      }
     },
     "b53d2335686643b0918cf694cda2b2d1": {
      "model_module": "@jupyter-widgets/controls",
      "model_module_version": "1.5.0",
      "model_name": "HTMLModel",
      "state": {
       "layout": "IPY_MODEL_ba635a56ce4e49f89293be4875fc82cb",
       "style": "IPY_MODEL_3327b66962414f02b28aa7b817811a5e",
       "value": "Batch_size:"
      }
     },
     "b5ea15edb4da4158bb2e06ea72d8b1ec": {
      "model_module": "@jupyter-widgets/base",
      "model_module_version": "1.2.0",
      "model_name": "LayoutModel",
      "state": {}
     },
     "b5ea4ec95f0a45c7866e311306468336": {
      "model_module": "@jupyter-widgets/base",
      "model_module_version": "1.2.0",
      "model_name": "LayoutModel",
      "state": {}
     },
     "b6082b51883a4a3eb126c5177d3084af": {
      "model_module": "@jupyter-widgets/base",
      "model_module_version": "1.2.0",
      "model_name": "LayoutModel",
      "state": {
       "width": "155px"
      }
     },
     "b627eeb49fa447739697855b81573828": {
      "model_module": "@jupyter-widgets/controls",
      "model_module_version": "1.5.0",
      "model_name": "DescriptionStyleModel",
      "state": {
       "description_width": ""
      }
     },
     "b62d7ac7665f4a72834b592f8daa42b2": {
      "model_module": "@jupyter-widgets/controls",
      "model_module_version": "1.5.0",
      "model_name": "HTMLModel",
      "state": {
       "layout": "IPY_MODEL_7e1738c2ddee45098482fa4a70afe75d",
       "style": "IPY_MODEL_b36715bc67a240a8be903f23bc3ccb34",
       "value": "n_interactions:"
      }
     },
     "b63c73b237d54062af016e26bb99cfb2": {
      "model_module": "@jupyter-widgets/controls",
      "model_module_version": "1.5.0",
      "model_name": "DescriptionStyleModel",
      "state": {
       "description_width": "initial"
      }
     },
     "b66b8ab7e1744e298edbe854b7c8c0b7": {
      "model_module": "@jupyter-widgets/controls",
      "model_module_version": "1.5.0",
      "model_name": "HTMLModel",
      "state": {
       "layout": "IPY_MODEL_9bb8aae8da13482ca23615d7267d4af3",
       "style": "IPY_MODEL_8cc8627a494a447a856d235eafa52889",
       "value": "Batch_size:"
      }
     },
     "b66ef31fa7bc458182786199748b9655": {
      "model_module": "@jupyter-widgets/controls",
      "model_module_version": "1.5.0",
      "model_name": "DropdownModel",
      "state": {
       "_options_labels": [
        "Segment",
        "x1",
        "x2",
        "x3",
        "x4",
        "x5",
        "Label"
       ],
       "index": 6,
       "layout": "IPY_MODEL_8a00614a4a334942ad5c5562b897cfdd",
       "style": "IPY_MODEL_bab41504b7ba4868ab16f9e5cb3b52d4"
      }
     },
     "b68402c8bf364acdb3fa51eff079b297": {
      "model_module": "@jupyter-widgets/base",
      "model_module_version": "1.2.0",
      "model_name": "LayoutModel",
      "state": {
       "display": "flex",
       "flex_flow": "column",
       "width": "auto"
      }
     },
     "b6a1e28d64f4498d96bf2c9378df247d": {
      "model_module": "@jupyter-widgets/controls",
      "model_module_version": "1.5.0",
      "model_name": "HBoxModel",
      "state": {
       "children": [
        "IPY_MODEL_f208d8cfedf541b4a29a133982a693a6",
        "IPY_MODEL_3ee63753598e485dbd37e240f9bccb50",
        "IPY_MODEL_77f736869a8b4f0585d953c4a916f375",
        "IPY_MODEL_f2ce9552dfb7444abecea22e53a763dc",
        "IPY_MODEL_06c2eadbcab34041aba334409bf1aec4"
       ],
       "layout": "IPY_MODEL_8d7a17f4e7524f1d85be6f01f4bdd19f"
      }
     },
     "b6a6758bbc8545d9863a524d4c6968b6": {
      "model_module": "@jupyter-widgets/base",
      "model_module_version": "1.2.0",
      "model_name": "LayoutModel",
      "state": {}
     },
     "b6e0791f67fe45d49ceae42f3be63ae6": {
      "model_module": "@jupyter-widgets/controls",
      "model_module_version": "1.5.0",
      "model_name": "DescriptionStyleModel",
      "state": {
       "description_width": ""
      }
     },
     "b6e7f1b2c0e642a2b88a426a166aaa63": {
      "model_module": "@jupyter-widgets/base",
      "model_module_version": "1.2.0",
      "model_name": "LayoutModel",
      "state": {
       "display": "flex",
       "flex_flow": "column",
       "width": "auto"
      }
     },
     "b6f39651e9d14d2993883b72583e96df": {
      "model_module": "@jupyter-widgets/controls",
      "model_module_version": "1.5.0",
      "model_name": "DropdownModel",
      "state": {
       "_options_labels": [
        "Segment",
        "x1",
        "x2",
        "x3",
        "x4",
        "x5",
        "Label",
        "Minority",
        "Majority",
        "Age >= 62",
        "Age < 62"
       ],
       "index": 9,
       "layout": "IPY_MODEL_15d0ef6bda7b48a380e1144e3300226c",
       "style": "IPY_MODEL_4597b4c679524803876e108ad68bdc57"
      }
     },
     "b70bee5c86e44cf9b5afb00998574c12": {
      "model_module": "@jupyter-widgets/controls",
      "model_module_version": "1.5.0",
      "model_name": "HTMLModel",
      "state": {
       "layout": "IPY_MODEL_d93acf4fc62b4e74bed1ffcc29b9b711",
       "style": "IPY_MODEL_8fe1bf519d514b43abefb6cf44d5b8be",
       "value": "L1_regularzation:"
      }
     },
     "b728a56ef18e4e7c8281fabf66bcc2c0": {
      "model_module": "@jupyter-widgets/controls",
      "model_module_version": "1.5.0",
      "model_name": "ButtonModel",
      "state": {
       "_dom_classes": [
        "pbtn"
       ],
       "button_style": "danger",
       "icon": "history",
       "layout": "IPY_MODEL_1548638c94254f34a4f483fd8ea23a2a",
       "style": "IPY_MODEL_12dd4628e18341929e44368434d9c4b7"
      }
     },
     "b73f09163aee43b2a6fe570c49837ad4": {
      "model_module": "@jupyter-widgets/controls",
      "model_module_version": "1.5.0",
      "model_name": "BoundedIntTextModel",
      "state": {
       "layout": "IPY_MODEL_72425365686b4e1d87a03c5c9dc55b29",
       "style": "IPY_MODEL_273db16302474db6bbf234516b82a5ef",
       "value": 10
      }
     },
     "b776809e27154191abd4b203a88453b4": {
      "model_module": "@jupyter-widgets/base",
      "model_module_version": "1.2.0",
      "model_name": "LayoutModel",
      "state": {
       "align_items": "center",
       "display": "flex",
       "flex_flow": "row",
       "width": "100%"
      }
     },
     "b7a13944bb8c42eb93469d894ccd5ea8": {
      "model_module": "@jupyter-widgets/controls",
      "model_module_version": "1.5.0",
      "model_name": "DescriptionStyleModel",
      "state": {
       "description_width": ""
      }
     },
     "b7a159c4e8a54bd99fbb6207655fdfd7": {
      "model_module": "@jupyter-widgets/base",
      "model_module_version": "1.2.0",
      "model_name": "LayoutModel",
      "state": {
       "width": "20%"
      }
     },
     "b7bf2d51185d4a54a1aba06d4da6f30d": {
      "model_module": "@jupyter-widgets/base",
      "model_module_version": "1.2.0",
      "model_name": "LayoutModel",
      "state": {
       "justify_content": "space-between",
       "width": "100%"
      }
     },
     "b8056ce4bde7424e9fe05d94c5f496fd": {
      "model_module": "@jupyter-widgets/controls",
      "model_module_version": "1.5.0",
      "model_name": "DescriptionStyleModel",
      "state": {
       "description_width": ""
      }
     },
     "b808ae0617ed40648a3069259601b832": {
      "model_module": "@jupyter-widgets/base",
      "model_module_version": "1.2.0",
      "model_name": "LayoutModel",
      "state": {
       "width": "99%"
      }
     },
     "b8417a10667d4f7986ea89d674ade53c": {
      "model_module": "@jupyter-widgets/controls",
      "model_module_version": "1.5.0",
      "model_name": "HBoxModel",
      "state": {
       "_dom_classes": [
        "list-item"
       ],
       "children": [
        "IPY_MODEL_9d6c656e5eed4bd08ccf46947af42709",
        "IPY_MODEL_5bc3181cb88c494cb6027f7e131494ef"
       ],
       "layout": "IPY_MODEL_05e10c85db0d4523806ee2b3dce17a2f"
      }
     },
     "b8477e36412e40f996eeee9901abc99a": {
      "model_module": "@jupyter-widgets/controls",
      "model_module_version": "1.5.0",
      "model_name": "DescriptionStyleModel",
      "state": {
       "description_width": "initial"
      }
     },
     "b84c598d7eb345c5b16c3ab8b1190541": {
      "model_module": "@jupyter-widgets/controls",
      "model_module_version": "1.5.0",
      "model_name": "VBoxModel",
      "state": {
       "children": [
        "IPY_MODEL_435a17fca84f4f768014c4bc1125acd5",
        "IPY_MODEL_cb18487b068f4d2382b021c8a0a5c36d"
       ],
       "layout": "IPY_MODEL_2bc327668415488d8f8db04ed78ec7c7"
      }
     },
     "b87579aeac374ccfb013828d9ffc1c4f": {
      "model_module": "@jupyter-widgets/base",
      "model_module_version": "1.2.0",
      "model_name": "LayoutModel",
      "state": {
       "width": "155px"
      }
     },
     "b890292cd243422a8fc4a4db88f0e74e": {
      "model_module": "@jupyter-widgets/controls",
      "model_module_version": "1.5.0",
      "model_name": "BoxModel",
      "state": {
       "_dom_classes": [
        "inner-card"
       ],
       "children": [
        "IPY_MODEL_85a3376b648d4a4baf3af0860944e091",
        "IPY_MODEL_b04c825bb45d4933afecaa2ed90fa4a7",
        "IPY_MODEL_a6f20100af96454e9f02acd8c3307852"
       ],
       "layout": "IPY_MODEL_b07e49e8672945d690fdfee68f5853d0"
      }
     },
     "b896c7a7526d405c98ccc1136f12f37e": {
      "model_module": "@jupyter-widgets/base",
      "model_module_version": "1.2.0",
      "model_name": "LayoutModel",
      "state": {
       "width": "55%"
      }
     },
     "b8eb75f7b6ca412d816a56ea463bf0dd": {
      "model_module": "@jupyter-widgets/controls",
      "model_module_version": "1.5.0",
      "model_name": "DescriptionStyleModel",
      "state": {
       "description_width": ""
      }
     },
     "b915ded2a45e4b7e85fe4125f6297fae": {
      "model_module": "@jupyter-widgets/controls",
      "model_module_version": "1.5.0",
      "model_name": "HTMLModel",
      "state": {
       "layout": "IPY_MODEL_b30733359ad343bc8810c622f5273940",
       "style": "IPY_MODEL_09fdb7b07d534d6c82fdbd25caf6849f",
       "value": "\n        <table class='ptable striped'>\n            <thead class='pthead'>\n                <tr class='ptr'>\n                    <th class='pth'></th><th class='pth'>Model</th><th class='pth'>test_ACC</th><th class='pth'>test_AUC</th><th class='pth'>test_F1</th><th class='pth'>train_ACC</th><th class='pth'>train_AUC</th><th class='pth'>train_F1</th><th class='pth'>Time</th>\n                </tr>\n            </thead>\n\n            <tbody class='ptbody'>\n                <tr class='ptr hightlight'><td class='ptd'>0</td><td class='ptd'>XGB2</td><td class='ptd'>0.8495</td><td class='ptd'>0.8480</td><td class='ptd'>0.5979</td><td class='ptd'>0.8551</td><td class='ptd'>0.8549</td><td class='ptd'>0.6134</td><td class='ptd'>0.9</td></tr>\n            </tbody>\n        </table>\n        "
      }
     },
     "b91df68ae27e43988cdc2c30d5e1559d": {
      "model_module": "@jupyter-widgets/controls",
      "model_module_version": "1.5.0",
      "model_name": "FloatRangeSliderModel",
      "state": {
       "_model_name": "FloatRangeSliderModel",
       "_view_name": "FloatRangeSliderView",
       "layout": "IPY_MODEL_5c5f87856e9b48c1a0cd0064a6aa9fe7",
       "readout": false,
       "step": 0.1,
       "style": "IPY_MODEL_2d63752bd6b54ded9a87d05c55373986",
       "value": [
        25,
        75
       ]
      }
     },
     "b957b29e7efd43c5ba20cdf436e4ae18": {
      "model_module": "@jupyter-widgets/base",
      "model_module_version": "1.2.0",
      "model_name": "LayoutModel",
      "state": {}
     },
     "b9caa05d19b540649d088c67201cf88a": {
      "model_module": "@jupyter-widgets/controls",
      "model_module_version": "1.5.0",
      "model_name": "DescriptionStyleModel",
      "state": {
       "description_width": "initial"
      }
     },
     "b9fffad941fd4946b445e44843174d8d": {
      "model_module": "@jupyter-widgets/base",
      "model_module_version": "1.2.0",
      "model_name": "LayoutModel",
      "state": {}
     },
     "ba13b9ff132d4350b45a56003c7f52b2": {
      "model_module": "@jupyter-widgets/controls",
      "model_module_version": "1.5.0",
      "model_name": "DescriptionStyleModel",
      "state": {
       "description_width": ""
      }
     },
     "ba323e1373e24eabbb62ca869467fe94": {
      "model_module": "@jupyter-widgets/base",
      "model_module_version": "1.2.0",
      "model_name": "LayoutModel",
      "state": {
       "display": "flex",
       "flex_flow": "column",
       "width": "100%"
      }
     },
     "ba44beeb40d947c6bd5d61adbbc55e53": {
      "model_module": "@jupyter-widgets/base",
      "model_module_version": "1.2.0",
      "model_name": "LayoutModel",
      "state": {
       "width": "55%"
      }
     },
     "ba53371a476f4cb9b6c1dc883e5da272": {
      "model_module": "@jupyter-widgets/base",
      "model_module_version": "1.2.0",
      "model_name": "LayoutModel",
      "state": {}
     },
     "ba635a56ce4e49f89293be4875fc82cb": {
      "model_module": "@jupyter-widgets/base",
      "model_module_version": "1.2.0",
      "model_name": "LayoutModel",
      "state": {}
     },
     "ba646cdbbd7e4d8ebaaa4dfbda63a23a": {
      "model_module": "@jupyter-widgets/controls",
      "model_module_version": "1.5.0",
      "model_name": "DescriptionStyleModel",
      "state": {
       "description_width": "initial"
      }
     },
     "ba81f393c73e409b9b175e381862ff28": {
      "model_module": "@jupyter-widgets/base",
      "model_module_version": "1.2.0",
      "model_name": "LayoutModel",
      "state": {
       "width": "14%"
      }
     },
     "ba889d879d004f97993b763647c2db5e": {
      "model_module": "@jupyter-widgets/controls",
      "model_module_version": "1.5.0",
      "model_name": "DescriptionStyleModel",
      "state": {
       "description_width": "initial"
      }
     },
     "ba8bc0f8ca5a476fbd9a79f76b8d0e8e": {
      "model_module": "@jupyter-widgets/base",
      "model_module_version": "1.2.0",
      "model_name": "LayoutModel",
      "state": {
       "width": "65%"
      }
     },
     "baa03aa543a5457b9f77f23b96ff32ad": {
      "model_module": "@jupyter-widgets/controls",
      "model_module_version": "1.5.0",
      "model_name": "ButtonModel",
      "state": {
       "_dom_classes": [
        "pbtn"
       ],
       "button_style": "danger",
       "description": "Register",
       "layout": "IPY_MODEL_be77cdbefb014954afe239fe0b6a71ef",
       "style": "IPY_MODEL_5ccb8bdecf7f407890bdc946f1e1bfe9"
      }
     },
     "bab41504b7ba4868ab16f9e5cb3b52d4": {
      "model_module": "@jupyter-widgets/controls",
      "model_module_version": "1.5.0",
      "model_name": "DescriptionStyleModel",
      "state": {
       "description_width": "initial"
      }
     },
     "bb0785bd3c6243e5a1fb427f329b5e25": {
      "model_module": "@jupyter-widgets/controls",
      "model_module_version": "1.5.0",
      "model_name": "HBoxModel",
      "state": {
       "children": [
        "IPY_MODEL_470e65f86e944f9a9f1bb3209ad299b3"
       ],
       "layout": "IPY_MODEL_321b9b51044c4b74a3666bbb456c0545"
      }
     },
     "bb174c7215b543fe888e3c04a3dc371e": {
      "model_module": "@jupyter-widgets/controls",
      "model_module_version": "1.5.0",
      "model_name": "DropdownModel",
      "state": {
       "_options_labels": [
        "Segment",
        "x1",
        "x2",
        "x3",
        "x4",
        "x5",
        "Label"
       ],
       "index": 6,
       "layout": "IPY_MODEL_27e74cccc1e044b3a3b5762fc3956e03",
       "style": "IPY_MODEL_a53bd82bb3ff41fd8cc59387cae12cb2"
      }
     },
     "bb2eb1fc5ae24bd382991a6262d7d385": {
      "model_module": "@jupyter-widgets/base",
      "model_module_version": "1.2.0",
      "model_name": "LayoutModel",
      "state": {
       "width": "65%"
      }
     },
     "bb326d9ac6734f13a39bf25f2508514e": {
      "model_module": "@jupyter-widgets/controls",
      "model_module_version": "1.5.0",
      "model_name": "BoxModel",
      "state": {
       "layout": "IPY_MODEL_03fddd6bd17646f495411f9a3b47c07f"
      }
     },
     "bb5413edcf9644eaa4b9239bd220134d": {
      "model_module": "@jupyter-widgets/base",
      "model_module_version": "1.2.0",
      "model_name": "LayoutModel",
      "state": {
       "width": "auto"
      }
     },
     "bb5da54ee37b48f8ae3fe2647b7a3fd6": {
      "model_module": "@jupyter-widgets/controls",
      "model_module_version": "1.5.0",
      "model_name": "BoundedIntTextModel",
      "state": {
       "layout": "IPY_MODEL_4503a6e52b2d4e0fb68fc6e379d8b5cc",
       "max": 10000,
       "style": "IPY_MODEL_985aebbf24064d36b57b8c0a1badcc9a"
      }
     },
     "bb797509822043b0ad10d8485da5be6f": {
      "model_module": "@jupyter-widgets/controls",
      "model_module_version": "1.5.0",
      "model_name": "DropdownModel",
      "state": {
       "_options_labels": [
        "Segment 1",
        "Segment 10",
        "Segment 11",
        "Segment 12",
        "Segment 13",
        "Segment 14",
        "Segment 15",
        "Segment 2",
        "Segment 3",
        "Segment 4",
        "Segment 5",
        "Segment 6",
        "Segment 7",
        "Segment 8",
        "Segment 9"
       ],
       "index": 0,
       "layout": "IPY_MODEL_e966d0498a2d4f7296def82ee12523c8",
       "style": "IPY_MODEL_dfb886dbdfcf48bc8e6c8f3e50726565"
      }
     },
     "bb92cd32d238432c92da137c69628433": {
      "model_module": "@jupyter-widgets/controls",
      "model_module_version": "1.5.0",
      "model_name": "DescriptionStyleModel",
      "state": {
       "description_width": ""
      }
     },
     "bb9a01c013a5482393bb97308d5e5ac6": {
      "model_module": "@jupyter-widgets/controls",
      "model_module_version": "1.5.0",
      "model_name": "DescriptionStyleModel",
      "state": {
       "description_width": "initial"
      }
     },
     "bba739f103b343c2b98869e0ee6e5dad": {
      "model_module": "@jupyter-widgets/controls",
      "model_module_version": "1.5.0",
      "model_name": "HTMLModel",
      "state": {
       "layout": "IPY_MODEL_04ccbd4cc96547b39d6c94897993185e",
       "style": "IPY_MODEL_656ed276bf654dca9b339a944cc1683a",
       "value": "<div style='margin-right: 10px'></div>"
      }
     },
     "bbda8c6c5a874f78ab68e206d410d2e5": {
      "model_module": "@jupyter-widgets/controls",
      "model_module_version": "1.5.0",
      "model_name": "TextModel",
      "state": {
       "layout": "IPY_MODEL_04727545367e4de4b3e45b86145f0ed7",
       "placeholder": "1000, 1000, 1000",
       "style": "IPY_MODEL_fc2ea0de54f04a7e9c25b81808969ece",
       "value": "1000, 1000, 1000"
      }
     },
     "bbf47746c01f488f99f292a909dbb850": {
      "model_module": "@jupyter-widgets/controls",
      "model_module_version": "1.5.0",
      "model_name": "ButtonModel",
      "state": {
       "_dom_classes": [
        "pbtn"
       ],
       "button_style": "danger",
       "description": "RUN",
       "layout": "IPY_MODEL_c80d8ae509c34ce6a18ec52ae2ee4dc1",
       "style": "IPY_MODEL_1d01824fe17f41c5a0934ed300bd6aee"
      }
     },
     "bbf6804fd66941b1b3eeeba97d8cf5b7": {
      "model_module": "@jupyter-widgets/base",
      "model_module_version": "1.2.0",
      "model_name": "LayoutModel",
      "state": {}
     },
     "bc542e27ebc64d05a056812a9d000fe6": {
      "model_module": "@jupyter-widgets/controls",
      "model_module_version": "1.5.0",
      "model_name": "BoxModel",
      "state": {
       "layout": "IPY_MODEL_d7b3566cd0aa4c73820a11ef2a9df212"
      }
     },
     "bc628de6f1d5406eb39857723d11ff3c": {
      "model_module": "@jupyter-widgets/controls",
      "model_module_version": "1.5.0",
      "model_name": "DescriptionStyleModel",
      "state": {
       "description_width": ""
      }
     },
     "bc744fbceb634c64a65721dc08ca3bd1": {
      "model_module": "@jupyter-widgets/controls",
      "model_module_version": "1.5.0",
      "model_name": "BoxModel",
      "state": {
       "children": [
        "IPY_MODEL_0749b3c077a04fc3a6e4d0ad6cedfd90",
        "IPY_MODEL_d173f2f4a1b14790bf2e789421c9f67a",
        "IPY_MODEL_b4a3a8a6f8ce44ce8f6c1f69490d013a",
        "IPY_MODEL_afe30e88c01447f6a017fb758d96dbd6"
       ],
       "layout": "IPY_MODEL_a8fcf40a6ab542a49b325f180640c93b"
      }
     },
     "bc76ce52c2c642b7acd8879f22029470": {
      "model_module": "@jupyter-widgets/controls",
      "model_module_version": "1.5.0",
      "model_name": "DescriptionStyleModel",
      "state": {
       "description_width": "initial"
      }
     },
     "bc84e5c97ab44e8f9264b33f72617fce": {
      "model_module": "@jupyter-widgets/base",
      "model_module_version": "1.2.0",
      "model_name": "LayoutModel",
      "state": {}
     },
     "bcb2ac64c9b94c5ab99d506e609e6f2c": {
      "model_module": "@jupyter-widgets/base",
      "model_module_version": "1.2.0",
      "model_name": "LayoutModel",
      "state": {
       "width": "auto"
      }
     },
     "bcc54aba77b9467a822176556a7fc829": {
      "model_module": "@jupyter-widgets/base",
      "model_module_version": "1.2.0",
      "model_name": "LayoutModel",
      "state": {}
     },
     "bcc5cf6e960b4e79953e6ddb5febcfaa": {
      "model_module": "@jupyter-widgets/controls",
      "model_module_version": "1.5.0",
      "model_name": "HTMLModel",
      "state": {
       "layout": "IPY_MODEL_98480c5b885944e589f5c57bf96f54aa",
       "style": "IPY_MODEL_a408c3bdb5c84bee80005b721e1139b9",
       "value": "Spline_order:"
      }
     },
     "bcd9f9adc53f40498d3a4fbe7926f841": {
      "model_module": "@jupyter-widgets/controls",
      "model_module_version": "1.5.0",
      "model_name": "DescriptionStyleModel",
      "state": {
       "description_width": ""
      }
     },
     "bd03a3a0e8d442b0a6aafd695d4c5ad1": {
      "model_module": "@jupyter-widgets/base",
      "model_module_version": "1.2.0",
      "model_name": "LayoutModel",
      "state": {}
     },
     "bd0752e6841249c8a717dec0191796b4": {
      "model_module": "@jupyter-widgets/base",
      "model_module_version": "1.2.0",
      "model_name": "LayoutModel",
      "state": {
       "height": "auto"
      }
     },
     "bd32ada5271a4d2dad33f2277967f8e0": {
      "model_module": "@jupyter-widgets/base",
      "model_module_version": "1.2.0",
      "model_name": "LayoutModel",
      "state": {}
     },
     "bd650177f9ef413791236f01a1d37c28": {
      "model_module": "@jupyter-widgets/controls",
      "model_module_version": "1.5.0",
      "model_name": "HTMLModel",
      "state": {
       "layout": "IPY_MODEL_5727126e5083460a9414afbfe19e98d5",
       "style": "IPY_MODEL_8496f4eb0c1b42eb94c5919b92045b55",
       "value": "Model name:"
      }
     },
     "be0d92e225d54499bf231af345ff8276": {
      "model_module": "@jupyter-widgets/base",
      "model_module_version": "1.2.0",
      "model_name": "LayoutModel",
      "state": {}
     },
     "be0f6d48033b4c97b325aaa35b89f7b5": {
      "model_module": "@jupyter-widgets/controls",
      "model_module_version": "1.5.0",
      "model_name": "HTMLModel",
      "state": {
       "layout": "IPY_MODEL_1c59fa7f279b4adb90caf13aae31d9ac",
       "style": "IPY_MODEL_d86f4fb15256403fb032f23f2fb97a7c",
       "value": "Protected:"
      }
     },
     "be48f1ee591c401cb3d63a9431c67303": {
      "model_module": "@jupyter-widgets/controls",
      "model_module_version": "1.5.0",
      "model_name": "DescriptionStyleModel",
      "state": {
       "description_width": ""
      }
     },
     "be62b3903f554d21867f6db6ae85ea83": {
      "model_module": "@jupyter-widgets/controls",
      "model_module_version": "1.5.0",
      "model_name": "DescriptionStyleModel",
      "state": {
       "description_width": "initial"
      }
     },
     "be77cdbefb014954afe239fe0b6a71ef": {
      "model_module": "@jupyter-widgets/base",
      "model_module_version": "1.2.0",
      "model_name": "LayoutModel",
      "state": {
       "width": "40%"
      }
     },
     "be77e82f7df74363bf71c12679e17bb7": {
      "model_module": "@jupyter-widgets/base",
      "model_module_version": "1.2.0",
      "model_name": "LayoutModel",
      "state": {
       "width": "20%"
      }
     },
     "becc79295b4448748bc02537d6ea5043": {
      "model_module": "@jupyter-widgets/controls",
      "model_module_version": "1.5.0",
      "model_name": "ButtonModel",
      "state": {
       "_dom_classes": [
        "pbtn"
       ],
       "button_style": "danger",
       "description": "Register",
       "layout": "IPY_MODEL_b101802384574f8790f671381c3b15ab",
       "style": "IPY_MODEL_468480fbdffa40658b7ed28e59feb3fa"
      }
     },
     "bedc05da9fa54dd0859f1f6cfe3f015b": {
      "model_module": "@jupyter-widgets/base",
      "model_module_version": "1.2.0",
      "model_name": "LayoutModel",
      "state": {}
     },
     "bee3ed20278346738426f383ffaa9aca": {
      "model_module": "@jupyter-widgets/base",
      "model_module_version": "1.2.0",
      "model_name": "LayoutModel",
      "state": {
       "width": "99%"
      }
     },
     "bef2977838944a9c9940ca42f3e23e1b": {
      "model_module": "@jupyter-widgets/controls",
      "model_module_version": "1.5.0",
      "model_name": "HBoxModel",
      "state": {
       "_dom_classes": [
        "split-btn"
       ],
       "children": [
        "IPY_MODEL_4115fec4226c44929cbcd7b56e827f2e",
        "IPY_MODEL_a55af774110f481fa8596c5e17996d4a"
       ],
       "layout": "IPY_MODEL_c4724e18e39e4049b33cb054aec8fdc9"
      }
     },
     "bef9afacad2c42dd82ba17eb2e15a94d": {
      "model_module": "@jupyter-widgets/base",
      "model_module_version": "1.2.0",
      "model_name": "LayoutModel",
      "state": {
       "width": "99%"
      }
     },
     "bf21897712ee4b70aab628b2c1c98c5d": {
      "model_module": "@jupyter-widgets/base",
      "model_module_version": "1.2.0",
      "model_name": "LayoutModel",
      "state": {
       "height": "25px",
       "width": "35px"
      }
     },
     "bf25b73072ff4436b837faedcf3dbcfa": {
      "model_module": "@jupyter-widgets/base",
      "model_module_version": "1.2.0",
      "model_name": "LayoutModel",
      "state": {
       "width": "25px"
      }
     },
     "bf6dacfe9de047ee84e8f1101c439d9d": {
      "model_module": "@jupyter-widgets/controls",
      "model_module_version": "1.5.0",
      "model_name": "ButtonStyleModel",
      "state": {}
     },
     "bf807c3e75fc446b845cea606cb8ded4": {
      "model_module": "@jupyter-widgets/base",
      "model_module_version": "1.2.0",
      "model_name": "LayoutModel",
      "state": {}
     },
     "bf8f02a9a8634b709439cdd59222465c": {
      "model_module": "@jupyter-widgets/controls",
      "model_module_version": "1.5.0",
      "model_name": "HTMLModel",
      "state": {
       "layout": "IPY_MODEL_0b219746f7f34b8c962554bd34ca2b3a",
       "style": "IPY_MODEL_9f60e8d8549d436e9736069db6f80373",
       "value": "<p class='notification info'>Register XGB2 Done</p>"
      }
     },
     "bf9a3e618802446d84456d135364d406": {
      "model_module": "@jupyter-widgets/base",
      "model_module_version": "1.2.0",
      "model_name": "LayoutModel",
      "state": {
       "width": "20%"
      }
     },
     "bfb338ea0b8b4fd1a417ba336a80309b": {
      "model_module": "@jupyter-widgets/base",
      "model_module_version": "1.2.0",
      "model_name": "LayoutModel",
      "state": {}
     },
     "bfbe80550e7246818d585343faf1af2f": {
      "model_module": "@jupyter-widgets/base",
      "model_module_version": "1.2.0",
      "model_name": "LayoutModel",
      "state": {}
     },
     "bfca4b92b1344e0ab7e438e318284115": {
      "model_module": "@jupyter-widgets/base",
      "model_module_version": "1.2.0",
      "model_name": "LayoutModel",
      "state": {}
     },
     "c02614524f2a41e7a173159e94ec2573": {
      "model_module": "@jupyter-widgets/controls",
      "model_module_version": "1.5.0",
      "model_name": "CheckboxModel",
      "state": {
       "description": "XGB2",
       "disabled": false,
       "indent": false,
       "layout": "IPY_MODEL_cf51640a7c0e44a69d08e6fd486fdcff",
       "style": "IPY_MODEL_67844e14c8af417a8e6aae50166aa3c3",
       "value": true
      }
     },
     "c0284ddc6b75467dba5ecd9d05deeb6b": {
      "model_module": "@jupyter-widgets/base",
      "model_module_version": "1.2.0",
      "model_name": "LayoutModel",
      "state": {
       "width": "100%"
      }
     },
     "c0307d8eb1f04c55867eb78c27b58c7d": {
      "model_module": "@jupyter-widgets/controls",
      "model_module_version": "1.5.0",
      "model_name": "HTMLModel",
      "state": {
       "layout": "IPY_MODEL_bedc05da9fa54dd0859f1f6cfe3f015b",
       "style": "IPY_MODEL_78633b747ebe406cb56680813cfe1918",
       "value": "<p class=\"notification info\">Excluded attribute \"Majority\"</p>"
      }
     },
     "c0777143dd8c4854acbba32f89ea02b8": {
      "model_module": "@jupyter-widgets/controls",
      "model_module_version": "1.5.0",
      "model_name": "ButtonModel",
      "state": {
       "_dom_classes": [
        "pbtn"
       ],
       "button_style": "danger",
       "icon": "cog",
       "layout": "IPY_MODEL_24c7efdb824f468a99224099d2eafc87",
       "style": "IPY_MODEL_3418be6896c04514880bf743a7709136"
      }
     },
     "c08e6c478b784bf3bba76a86d903a979": {
      "model_module": "@jupyter-widgets/base",
      "model_module_version": "1.2.0",
      "model_name": "LayoutModel",
      "state": {}
     },
     "c0951929382d436f9e2c5e330ade84cc": {
      "model_module": "@jupyter-widgets/base",
      "model_module_version": "1.2.0",
      "model_name": "LayoutModel",
      "state": {}
     },
     "c09c0f6a5f67450c84989160e5fb8bca": {
      "model_module": "@jupyter-widgets/base",
      "model_module_version": "1.2.0",
      "model_name": "LayoutModel",
      "state": {}
     },
     "c1151151983244bbbbe567c97bedeec5": {
      "model_module": "@jupyter-widgets/base",
      "model_module_version": "1.2.0",
      "model_name": "LayoutModel",
      "state": {}
     },
     "c1161482e5f84f1d89712b674470c8a2": {
      "model_module": "@jupyter-widgets/controls",
      "model_module_version": "1.5.0",
      "model_name": "HTMLModel",
      "state": {
       "layout": "IPY_MODEL_6868e754275642d9814d355192f19a00",
       "style": "IPY_MODEL_19f56a91520642d0a5a62ce6dbe15703",
       "value": "Model name:"
      }
     },
     "c17363f906fc4710a060f9207079897e": {
      "model_module": "@jupyter-widgets/controls",
      "model_module_version": "1.5.0",
      "model_name": "DescriptionStyleModel",
      "state": {
       "description_width": "initial"
      }
     },
     "c1ba777f54b14bf5a47a1179d7e07e0a": {
      "model_module": "@jupyter-widgets/base",
      "model_module_version": "1.2.0",
      "model_name": "LayoutModel",
      "state": {}
     },
     "c1c3cb92d1734bc6a5fa6743aa933be8": {
      "model_module": "@jupyter-widgets/base",
      "model_module_version": "1.2.0",
      "model_name": "LayoutModel",
      "state": {}
     },
     "c1d06896b4494ef79f6ac279ff546f09": {
      "model_module": "@jupyter-widgets/controls",
      "model_module_version": "1.5.0",
      "model_name": "DescriptionStyleModel",
      "state": {
       "description_width": "initial"
      }
     },
     "c2135c87467640fa8636a8870b5a29c4": {
      "model_module": "@jupyter-widgets/controls",
      "model_module_version": "1.5.0",
      "model_name": "DescriptionStyleModel",
      "state": {
       "description_width": "initial"
      }
     },
     "c2201c291f6b44769063a816c3180b5c": {
      "model_module": "@jupyter-widgets/base",
      "model_module_version": "1.2.0",
      "model_name": "LayoutModel",
      "state": {
       "display": "flex",
       "flex_flow": "column",
       "width": "auto"
      }
     },
     "c2397b92884541ceaffc1c2440e130ac": {
      "model_module": "@jupyter-widgets/base",
      "model_module_version": "1.2.0",
      "model_name": "LayoutModel",
      "state": {
       "width": "100px"
      }
     },
     "c269ca6af82643d7bf7ba6b25dcdefba": {
      "model_module": "@jupyter-widgets/controls",
      "model_module_version": "1.5.0",
      "model_name": "BoundedFloatTextModel",
      "state": {
       "layout": "IPY_MODEL_352968aead37406a862a5f69f64610fe",
       "max": 1,
       "step": null,
       "style": "IPY_MODEL_01052ed6d970459cb5885040b13f7708",
       "value": 0.001
      }
     },
     "c27406108b62436cb497c3bfedafc51c": {
      "model_module": "@jupyter-widgets/controls",
      "model_module_version": "1.5.0",
      "model_name": "HTMLModel",
      "state": {
       "layout": "IPY_MODEL_fecad095fba748f6963b3849ca5af99e",
       "style": "IPY_MODEL_34df73cf45644fa0b8a47a2f18152407",
       "value": "\n        <table class='ptable striped'>\n            <thead class='pthead'>\n                <tr class='ptr'>\n                    <th class='pth'></th><th class='pth'>name</th><th class='pth'>n_missing</th><th class='pth'>n_unique</th><th class='pth'>top1</th><th class='pth'>top2</th><th class='pth'>top3</th><th class='pth'>n_others</th>\n                </tr>\n            </thead>\n\n            <tbody class='ptbody'>\n                <tr class='ptr'><td class='ptd'>0</td><td class='ptd'>Segment</td><td class='ptd'>0</td><td class='ptd'>15</td><td class='ptd'>Segment 13 : 15000</td><td class='ptd'>Segment 6 : 10000</td><td class='ptd'>Segment 12 : 10000</td><td class='ptd'>28240</td></tr><tr class='ptr'><td class='ptd'>1</td><td class='ptd'>Label</td><td class='ptd'>0</td><td class='ptd'>2</td><td class='ptd'>0.0 : 48714</td><td class='ptd'>1.0 : 14526</td><td class='ptd'>0</td><td class='ptd'>0</td></tr><tr class='ptr'><td class='ptd'>2</td><td class='ptd'>Age >= 62</td><td class='ptd'>0</td><td class='ptd'>2</td><td class='ptd'>0.0 : 31823</td><td class='ptd'>1.0 : 31417</td><td class='ptd'>0</td><td class='ptd'>0</td></tr><tr class='ptr'><td class='ptd'>3</td><td class='ptd'>Age < 62</td><td class='ptd'>0</td><td class='ptd'>2</td><td class='ptd'>1.0 : 31823</td><td class='ptd'>0.0 : 31417</td><td class='ptd'>0</td><td class='ptd'>0</td></tr>\n            </tbody>\n        </table>\n        "
      }
     },
     "c2742c2c4e2d4384911d606929b27a70": {
      "model_module": "@jupyter-widgets/output",
      "model_module_version": "1.0.0",
      "model_name": "OutputModel",
      "state": {
       "layout": "IPY_MODEL_f1a75820a1164573b13ae6dd52446dc5"
      }
     },
     "c2a96191202f4c25a670acfb45c7e9c4": {
      "model_module": "@jupyter-widgets/base",
      "model_module_version": "1.2.0",
      "model_name": "LayoutModel",
      "state": {
       "width": "99%"
      }
     },
     "c2d703f3a5e94660a25b6749d19cebe3": {
      "model_module": "@jupyter-widgets/controls",
      "model_module_version": "1.5.0",
      "model_name": "HTMLModel",
      "state": {
       "layout": "IPY_MODEL_e71f3f5583a14017ad07003370ffdfec",
       "style": "IPY_MODEL_89c9834780a741d89a4c6a499dcd2995",
       "value": "<div class='divider'></div>"
      }
     },
     "c2d924edd71747c88000dfd9f8da3d28": {
      "model_module": "@jupyter-widgets/controls",
      "model_module_version": "1.5.0",
      "model_name": "VBoxModel",
      "state": {
       "children": [
        "IPY_MODEL_8a2a99e5a4bf48fab2f9bfc1a693ec77",
        "IPY_MODEL_e3d39bc194d1499c9fcc3a6bb86564bb"
       ],
       "layout": "IPY_MODEL_db078d7efa6041259d0274314ddbaab1"
      }
     },
     "c308a70570f24d84a5ed7fafcd8d61f7": {
      "model_module": "@jupyter-widgets/controls",
      "model_module_version": "1.5.0",
      "model_name": "ButtonStyleModel",
      "state": {}
     },
     "c3278378bd9844a0beffa9cd8225827b": {
      "model_module": "@jupyter-widgets/controls",
      "model_module_version": "1.5.0",
      "model_name": "HTMLModel",
      "state": {
       "layout": "IPY_MODEL_b4ec228de453428d99c102dfe4851ba7",
       "style": "IPY_MODEL_e743f6795cc14ac4803841933321951e",
       "value": "\n        <table class='ptable striped'>\n            <thead class='pthead'>\n                <tr class='ptr'>\n                    <th class='pth'></th><th class='pth'>name</th><th class='pth'>n_missing</th><th class='pth'>n_unique</th><th class='pth'>top1</th><th class='pth'>top2</th><th class='pth'>top3</th><th class='pth'>n_others</th>\n                </tr>\n            </thead>\n\n            <tbody class='ptbody'>\n                <tr class='ptr'><td class='ptd'>0</td><td class='ptd'>Segment</td><td class='ptd'>0</td><td class='ptd'>15</td><td class='ptd'>Segment 13 : 15000</td><td class='ptd'>Segment 6 : 10000</td><td class='ptd'>Segment 12 : 10000</td><td class='ptd'>28240</td></tr><tr class='ptr'><td class='ptd'>1</td><td class='ptd'>Label</td><td class='ptd'>0</td><td class='ptd'>2</td><td class='ptd'>0.0 : 48714</td><td class='ptd'>1.0 : 14526</td><td class='ptd'>0</td><td class='ptd'>0</td></tr><tr class='ptr grey'><td class='ptd'>2</td><td class='ptd'>Age >= 62</td><td class='ptd'>0</td><td class='ptd'>2</td><td class='ptd'>0.0 : 31823</td><td class='ptd'>1.0 : 31417</td><td class='ptd'>0</td><td class='ptd'>0</td></tr><tr class='ptr grey'><td class='ptd'>3</td><td class='ptd'>Age < 62</td><td class='ptd'>0</td><td class='ptd'>2</td><td class='ptd'>1.0 : 31823</td><td class='ptd'>0.0 : 31417</td><td class='ptd'>0</td><td class='ptd'>0</td></tr>\n            </tbody>\n        </table>\n        "
      }
     },
     "c350fe6964504053b7e702c007faa01f": {
      "model_module": "@jupyter-widgets/controls",
      "model_module_version": "1.5.0",
      "model_name": "DescriptionStyleModel",
      "state": {
       "description_width": ""
      }
     },
     "c3597504ee1041b2a2fedcc634401f04": {
      "model_module": "@jupyter-widgets/base",
      "model_module_version": "1.2.0",
      "model_name": "LayoutModel",
      "state": {}
     },
     "c3735bd602d34e5799d8ee9585bef5cf": {
      "model_module": "@jupyter-widgets/base",
      "model_module_version": "1.2.0",
      "model_name": "LayoutModel",
      "state": {
       "width": "auto"
      }
     },
     "c3755e317896415bb54d8198d7820a24": {
      "model_module": "@jupyter-widgets/controls",
      "model_module_version": "1.5.0",
      "model_name": "DescriptionStyleModel",
      "state": {
       "description_width": "initial"
      }
     },
     "c39299ef28b84c44bb28157884292f07": {
      "model_module": "@jupyter-widgets/controls",
      "model_module_version": "1.5.0",
      "model_name": "HTMLModel",
      "state": {
       "layout": "IPY_MODEL_c629d6e0b9544214892395b16bf59abd",
       "style": "IPY_MODEL_e5a074d3fd0e42f78f1a433aeebec18b",
       "value": "<div style='margin-right: 10px'></div>"
      }
     },
     "c39d24fab8fd48799c26aa1a82df8ef8": {
      "model_module": "@jupyter-widgets/base",
      "model_module_version": "1.2.0",
      "model_name": "LayoutModel",
      "state": {
       "width": "99%"
      }
     },
     "c3b054c4042a44c09b87a1f631398219": {
      "model_module": "@jupyter-widgets/controls",
      "model_module_version": "1.5.0",
      "model_name": "DescriptionStyleModel",
      "state": {
       "description_width": "initial"
      }
     },
     "c409e9c86b064781bdab7f542bf36459": {
      "model_module": "@jupyter-widgets/base",
      "model_module_version": "1.2.0",
      "model_name": "LayoutModel",
      "state": {}
     },
     "c4254e53ee4c431aa403e102eed32218": {
      "model_module": "@jupyter-widgets/controls",
      "model_module_version": "1.5.0",
      "model_name": "TextModel",
      "state": {
       "layout": "IPY_MODEL_5ab598f152034c099877965baa2d2669",
       "placeholder": "[40,40]...",
       "style": "IPY_MODEL_3290deede38c4d11aa009259cd4348e3",
       "value": "[20,]"
      }
     },
     "c45ffe08678e4b90b7754abf55d0dbf6": {
      "model_module": "@jupyter-widgets/controls",
      "model_module_version": "1.5.0",
      "model_name": "ButtonModel",
      "state": {
       "_dom_classes": [
        "pbtn"
       ],
       "button_style": "danger",
       "icon": "cog",
       "layout": "IPY_MODEL_e2852f7d90e34a1b994c67831fb7705f",
       "style": "IPY_MODEL_db1a51e6de3342c0aaa440bda10b9604"
      }
     },
     "c4724e18e39e4049b33cb054aec8fdc9": {
      "model_module": "@jupyter-widgets/base",
      "model_module_version": "1.2.0",
      "model_name": "LayoutModel",
      "state": {
       "justify_content": "space-between",
       "width": "100%"
      }
     },
     "c47e6518528c4fc58ca398a3f0a71b4c": {
      "model_module": "@jupyter-widgets/controls",
      "model_module_version": "1.5.0",
      "model_name": "HTMLModel",
      "state": {
       "layout": "IPY_MODEL_139ef49fa26b4ea38700ca3fabcd5d1d",
       "style": "IPY_MODEL_1282527ef1204a199799256e02e35204",
       "value": "\n        <table class='ptable striped'>\n            <thead class='pthead'>\n                <tr class='ptr'>\n                    <th class='pth'></th><th class='pth'>name</th><th class='pth'>n_missing</th><th class='pth'>mean</th><th class='pth'>std</th><th class='pth'>min</th><th class='pth'>q1</th><th class='pth'>median</th><th class='pth'>q3</th><th class='pth'>max</th>\n                </tr>\n            </thead>\n\n            <tbody class='ptbody'>\n                <tr class='ptr'><td class='ptd'>0</td><td class='ptd'>x1</td><td class='ptd'>0.0</td><td class='ptd'>-0.010468</td><td class='ptd'>1.00554</td><td class='ptd'>-4.111457</td><td class='ptd'>-0.687572</td><td class='ptd'>-0.016001</td><td class='ptd'>0.661917</td><td class='ptd'>3.723496</td></tr><tr class='ptr'><td class='ptd'>1</td><td class='ptd'>x2</td><td class='ptd'>0.0</td><td class='ptd'>0.003769</td><td class='ptd'>0.998657</td><td class='ptd'>-4.441389</td><td class='ptd'>-0.661684</td><td class='ptd'>0.009965</td><td class='ptd'>0.678074</td><td class='ptd'>4.547531</td></tr><tr class='ptr'><td class='ptd'>2</td><td class='ptd'>x3</td><td class='ptd'>0.0</td><td class='ptd'>-0.027052</td><td class='ptd'>0.996581</td><td class='ptd'>-4.040587</td><td class='ptd'>-0.699355</td><td class='ptd'>-0.026371</td><td class='ptd'>0.64237</td><td class='ptd'>4.308687</td></tr><tr class='ptr'><td class='ptd'>3</td><td class='ptd'>x4</td><td class='ptd'>0.0</td><td class='ptd'>0.00803</td><td class='ptd'>0.99497</td><td class='ptd'>-4.491451</td><td class='ptd'>-0.659107</td><td class='ptd'>0.004833</td><td class='ptd'>0.680002</td><td class='ptd'>3.864044</td></tr><tr class='ptr'><td class='ptd'>4</td><td class='ptd'>x5</td><td class='ptd'>0.0</td><td class='ptd'>-0.001039</td><td class='ptd'>0.9876</td><td class='ptd'>-3.990077</td><td class='ptd'>-0.663987</td><td class='ptd'>0.000662</td><td class='ptd'>0.659662</td><td class='ptd'>4.093057</td></tr><tr class='ptr grey'><td class='ptd'>5</td><td class='ptd'>Minority</td><td class='ptd'>0.0</td><td class='ptd'>0.271599</td><td class='ptd'>0.268342</td><td class='ptd'>3e-06</td><td class='ptd'>0.056888</td><td class='ptd'>0.170139</td><td class='ptd'>0.419018</td><td class='ptd'>0.99998</td></tr><tr class='ptr grey'><td class='ptd'>6</td><td class='ptd'>Majority</td><td class='ptd'>0.0</td><td class='ptd'>0.728401</td><td class='ptd'>0.268342</td><td class='ptd'>2e-05</td><td class='ptd'>0.580982</td><td class='ptd'>0.829861</td><td class='ptd'>0.943112</td><td class='ptd'>0.999997</td></tr>\n            </tbody>\n        </table>\n        "
      }
     },
     "c4a6a23a91354847a69919707e200b42": {
      "model_module": "@jupyter-widgets/controls",
      "model_module_version": "1.5.0",
      "model_name": "DescriptionStyleModel",
      "state": {
       "description_width": "initial"
      }
     },
     "c4eb2c731c2940b1b2b8943d5371cdfe": {
      "model_module": "@jupyter-widgets/controls",
      "model_module_version": "1.5.0",
      "model_name": "DescriptionStyleModel",
      "state": {
       "description_width": ""
      }
     },
     "c4ff983260c7402e9f5727c9e1a0088b": {
      "model_module": "@jupyter-widgets/controls",
      "model_module_version": "1.5.0",
      "model_name": "ButtonModel",
      "state": {
       "_dom_classes": [
        "pbtn"
       ],
       "button_style": "danger",
       "description": "DEL",
       "layout": "IPY_MODEL_41072f5631434b709cf8dbfa31d9a949",
       "style": "IPY_MODEL_b0d4c51e6f37493f9ef92251caa59014"
      }
     },
     "c50258062f5d4151a0a554f316a5aa10": {
      "model_module": "@jupyter-widgets/controls",
      "model_module_version": "1.5.0",
      "model_name": "DescriptionStyleModel",
      "state": {
       "description_width": ""
      }
     },
     "c5256c2763b54eaea4fc3f59b730213d": {
      "model_module": "@jupyter-widgets/controls",
      "model_module_version": "1.5.0",
      "model_name": "HTMLModel",
      "state": {
       "layout": "IPY_MODEL_120c8cb73ff043e2bcba967ed94d2c29",
       "style": "IPY_MODEL_adc71a918fdd4ab384602de0cc510ece",
       "value": "<p class=\"notification info\">Excluded attribute \"Age < 62\"</p>"
      }
     },
     "c54066731deb4178ba3ad087ecabece7": {
      "model_module": "@jupyter-widgets/controls",
      "model_module_version": "1.5.0",
      "model_name": "HTMLModel",
      "state": {
       "layout": "IPY_MODEL_b3b8f9b87863467fa4eca0f33ee98760",
       "style": "IPY_MODEL_4f0af6f52fa74bc694f13da073c6356e",
       "value": "Random_state:"
      }
     },
     "c54e793f7d3441a282107ebaafe1ade6": {
      "model_module": "@jupyter-widgets/base",
      "model_module_version": "1.2.0",
      "model_name": "LayoutModel",
      "state": {
       "width": "99%"
      }
     },
     "c5746f8dade14475ae112dd659c33fb3": {
      "model_module": "@jupyter-widgets/base",
      "model_module_version": "1.2.0",
      "model_name": "LayoutModel",
      "state": {}
     },
     "c576641dcdcb48958a727643126e57f2": {
      "model_module": "@jupyter-widgets/base",
      "model_module_version": "1.2.0",
      "model_name": "LayoutModel",
      "state": {}
     },
     "c588003bf7774d89a3ee1633698033a9": {
      "model_module": "@jupyter-widgets/controls",
      "model_module_version": "1.5.0",
      "model_name": "HTMLModel",
      "state": {
       "layout": "IPY_MODEL_d12138fbdea2431996f56dce5be3f9ec",
       "style": "IPY_MODEL_fed9cd256bea42579c9a0e6d999f2b08",
       "value": "<p class=\"notification info\">Excluded attribute \"Age >= 62\"</p>"
      }
     },
     "c614c4f2e55c45d5a456c582e6db0cd7": {
      "model_module": "@jupyter-widgets/controls",
      "model_module_version": "1.5.0",
      "model_name": "DescriptionStyleModel",
      "state": {
       "description_width": ""
      }
     },
     "c62026ad851e4cc49dd656af7a66a3d9": {
      "model_module": "@jupyter-widgets/controls",
      "model_module_version": "1.5.0",
      "model_name": "HTMLModel",
      "state": {
       "layout": "IPY_MODEL_803077f2a6f34fae88e766cce0a0b7b7",
       "style": "IPY_MODEL_73178d40e5a64dafa0424c4df55178d6",
       "value": "<h4 style='margin-top: 5px;margin-bottom: 0px;'>Registered Model</h4>"
      }
     },
     "c629d6e0b9544214892395b16bf59abd": {
      "model_module": "@jupyter-widgets/base",
      "model_module_version": "1.2.0",
      "model_name": "LayoutModel",
      "state": {}
     },
     "c65c8e81b7554a9e8b49b154d40bb8c3": {
      "model_module": "@jupyter-widgets/controls",
      "model_module_version": "1.5.0",
      "model_name": "VBoxModel",
      "state": {
       "children": [
        "IPY_MODEL_9b2ef208c39a44099c95c12a31114f69",
        "IPY_MODEL_d31934b469ac42a890dffc8dafb22f65"
       ],
       "layout": "IPY_MODEL_04a02551f649460f81ae879ad256441d"
      }
     },
     "c674f2e414594f258bf4b1ae4938342d": {
      "model_module": "@jupyter-widgets/controls",
      "model_module_version": "1.5.0",
      "model_name": "DescriptionStyleModel",
      "state": {
       "description_width": "initial"
      }
     },
     "c6850dc40c7742908703c36736e60462": {
      "model_module": "@jupyter-widgets/controls",
      "model_module_version": "1.5.0",
      "model_name": "DescriptionStyleModel",
      "state": {
       "description_width": ""
      }
     },
     "c68b4eabd0c9417f899fdced30be6884": {
      "model_module": "@jupyter-widgets/controls",
      "model_module_version": "1.5.0",
      "model_name": "HTMLModel",
      "state": {
       "layout": "IPY_MODEL_86c22c6200b347bea1810fb25e62399e",
       "style": "IPY_MODEL_a9c6f5b7a45a43a48f4074f989eea02a",
       "value": "<div class='divider'></div>"
      }
     },
     "c6a4da0fb9614dcb893d191cbe5a09c5": {
      "model_module": "@jupyter-widgets/base",
      "model_module_version": "1.2.0",
      "model_name": "LayoutModel",
      "state": {}
     },
     "c6ace8b269b6439a9d217a9df2433367": {
      "model_module": "@jupyter-widgets/controls",
      "model_module_version": "1.5.0",
      "model_name": "BoxModel",
      "state": {
       "children": [
        "IPY_MODEL_ebdf40921ebc44eb949521d995223958"
       ],
       "layout": "IPY_MODEL_efea85cfbda247c8976aae9419a2eace"
      }
     },
     "c6da5330ab144857a111f29334f21b18": {
      "model_module": "@jupyter-widgets/base",
      "model_module_version": "1.2.0",
      "model_name": "LayoutModel",
      "state": {}
     },
     "c6ed3d76918b40f6814bbed63e1e18f6": {
      "model_module": "@jupyter-widgets/controls",
      "model_module_version": "1.5.0",
      "model_name": "HTMLModel",
      "state": {
       "layout": "IPY_MODEL_a2d9f63136ac4f5f810fc5e98cdb3778",
       "style": "IPY_MODEL_2a5f73b612fe4184a94aae84890d113b",
       "value": "<h4 style='margin: 10px 0px;'>Customize Model</h4>"
      }
     },
     "c70a564e528e4354adcd5141a081e427": {
      "model_module": "@jupyter-widgets/controls",
      "model_module_version": "1.5.0",
      "model_name": "DropdownModel",
      "state": {
       "_options_labels": [
        "ACC",
        "AUC",
        "F1"
       ],
       "description": "Rank Metric:",
       "index": 0,
       "layout": "IPY_MODEL_b896c7a7526d405c98ccc1136f12f37e",
       "style": "IPY_MODEL_24111736e826459bb64f029455e35e3f"
      }
     },
     "c733de35ccbb406486abdc309d4433b1": {
      "model_module": "@jupyter-widgets/base",
      "model_module_version": "1.2.0",
      "model_name": "LayoutModel",
      "state": {}
     },
     "c73e4b1203c74521abeff43d9e8e52d6": {
      "model_module": "@jupyter-widgets/controls",
      "model_module_version": "1.5.0",
      "model_name": "DescriptionStyleModel",
      "state": {
       "description_width": ""
      }
     },
     "c7490ce3afc04b3c85c48eac884d6229": {
      "model_module": "@jupyter-widgets/base",
      "model_module_version": "1.2.0",
      "model_name": "LayoutModel",
      "state": {
       "width": "20%"
      }
     },
     "c796eed5ea5847e699d4ad3b4f104c8c": {
      "model_module": "@jupyter-widgets/controls",
      "model_module_version": "1.5.0",
      "model_name": "DescriptionStyleModel",
      "state": {
       "description_width": ""
      }
     },
     "c7def7ec578d4ab5a9f9ce8cc0ed3fb1": {
      "model_module": "@jupyter-widgets/controls",
      "model_module_version": "1.5.0",
      "model_name": "BoundedIntTextModel",
      "state": {
       "layout": "IPY_MODEL_8cf134c23eeb4eb687af6479d07b876c",
       "min": 1,
       "style": "IPY_MODEL_c674f2e414594f258bf4b1ae4938342d",
       "value": 5
      }
     },
     "c7ea0c11ac404ef49a9a75ffb913d9e6": {
      "model_module": "@jupyter-widgets/controls",
      "model_module_version": "1.5.0",
      "model_name": "DescriptionStyleModel",
      "state": {
       "description_width": "initial"
      }
     },
     "c7ec56894d9a4dba899a71ab5cc886d1": {
      "model_module": "@jupyter-widgets/controls",
      "model_module_version": "1.5.0",
      "model_name": "DescriptionStyleModel",
      "state": {
       "description_width": "initial"
      }
     },
     "c7f67e7b4662481b8b7063e0d8d48681": {
      "model_module": "@jupyter-widgets/controls",
      "model_module_version": "1.5.0",
      "model_name": "HTMLModel",
      "state": {
       "layout": "IPY_MODEL_64a0fba041fe4744a0eba6c9d4c3aa8b",
       "style": "IPY_MODEL_ba13b9ff132d4350b45a56003c7f52b2",
       "value": "Random_state:"
      }
     },
     "c80d8ae509c34ce6a18ec52ae2ee4dc1": {
      "model_module": "@jupyter-widgets/base",
      "model_module_version": "1.2.0",
      "model_name": "LayoutModel",
      "state": {
       "width": "40%"
      }
     },
     "c8519d13060d4858928c82482fa03b95": {
      "model_module": "@jupyter-widgets/controls",
      "model_module_version": "1.5.0",
      "model_name": "DescriptionStyleModel",
      "state": {
       "description_width": "initial"
      }
     },
     "c87ab7554652437fba38a69f700561ad": {
      "model_module": "@jupyter-widgets/base",
      "model_module_version": "1.2.0",
      "model_name": "LayoutModel",
      "state": {}
     },
     "c8b2d4695483482380fedc8e3f653142": {
      "model_module": "@jupyter-widgets/base",
      "model_module_version": "1.2.0",
      "model_name": "LayoutModel",
      "state": {
       "width": "auto"
      }
     },
     "c8c288203e4c4fe99cd597b0f936e271": {
      "model_module": "@jupyter-widgets/controls",
      "model_module_version": "1.5.0",
      "model_name": "HTMLModel",
      "state": {
       "layout": "IPY_MODEL_1b14cfaa5ae246de9fa8517d51d41d69",
       "style": "IPY_MODEL_0a134f282b2c4c0bbdb4a05a96393a69",
       "value": "<div style='margin-right: 10px'></div>"
      }
     },
     "c8d89d47a9fb4020b264e8c6ec3e55c1": {
      "model_module": "@jupyter-widgets/base",
      "model_module_version": "1.2.0",
      "model_name": "LayoutModel",
      "state": {}
     },
     "c8eaaf2095af427c9c4b3ae6a920572a": {
      "model_module": "@jupyter-widgets/base",
      "model_module_version": "1.2.0",
      "model_name": "LayoutModel",
      "state": {
       "width": "auto"
      }
     },
     "c8ffe4a20eda401f96bc59ffedf84f96": {
      "model_module": "@jupyter-widgets/controls",
      "model_module_version": "1.5.0",
      "model_name": "DescriptionStyleModel",
      "state": {
       "description_width": ""
      }
     },
     "c925e07675b243159f0e51d0223267ac": {
      "model_module": "@jupyter-widgets/base",
      "model_module_version": "1.2.0",
      "model_name": "LayoutModel",
      "state": {
       "width": "100px"
      }
     },
     "c945c1c33c4944c8a8a2884fee4560b2": {
      "model_module": "@jupyter-widgets/controls",
      "model_module_version": "1.5.0",
      "model_name": "TextModel",
      "state": {
       "layout": "IPY_MODEL_89ad5f3d9c9748ad96a7967cf1d1df9d",
       "placeholder": "Input name",
       "style": "IPY_MODEL_1ca996561e6c44519f697840dab7eee8",
       "value": "FIGS"
      }
     },
     "c967c98b5ff5428aae26ac446f70e755": {
      "model_module": "@jupyter-widgets/controls",
      "model_module_version": "1.5.0",
      "model_name": "DescriptionStyleModel",
      "state": {
       "description_width": ""
      }
     },
     "c995ef1d2ef645f88ae824dbc437c626": {
      "model_module": "@jupyter-widgets/base",
      "model_module_version": "1.2.0",
      "model_name": "LayoutModel",
      "state": {
       "width": "110px"
      }
     },
     "c9a7575244a2412ea2a5b0daab12baf4": {
      "model_module": "@jupyter-widgets/base",
      "model_module_version": "1.2.0",
      "model_name": "LayoutModel",
      "state": {
       "width": "14%"
      }
     },
     "c9ab7273796a4b06b3901a06c15d0cec": {
      "model_module": "@jupyter-widgets/controls",
      "model_module_version": "1.5.0",
      "model_name": "BoxModel",
      "state": {
       "_dom_classes": [
        "list"
       ],
       "children": [
        "IPY_MODEL_abe684c6ee494a609667682b4a4234c5",
        "IPY_MODEL_701f3b18bbbf4967906a58ce18a46f2c",
        "IPY_MODEL_587704c66e9641c3be661ec524591a18",
        "IPY_MODEL_f015f82af17a48c6af52dab33c66356a",
        "IPY_MODEL_81a8040dd54e4827afe6b059f5c888d6",
        "IPY_MODEL_29ef6665e57542e18e48ebf518cc1041",
        "IPY_MODEL_b8417a10667d4f7986ea89d674ade53c",
        "IPY_MODEL_ef680e6e82b44822b3f9c4b5043e3309"
       ],
       "layout": "IPY_MODEL_a9bf9ad405d5475386505e5fafe9766e"
      }
     },
     "ca0a3467069a48cd8d4d771515b8899a": {
      "model_module": "@jupyter-widgets/controls",
      "model_module_version": "1.5.0",
      "model_name": "VBoxModel",
      "state": {
       "children": [
        "IPY_MODEL_2951b94e40c543138a6a9fe3f343dd3f",
        "IPY_MODEL_5438ca66e17543019bd9319b03496ae5",
        "IPY_MODEL_fa90f125eba0410684ad3d152063fe79",
        "IPY_MODEL_e70ff42945c944af8885de0b987ab8ce"
       ],
       "layout": "IPY_MODEL_98a320ab2c6b40aea626213e3f8714fb"
      }
     },
     "ca143db458024d4487b85545b7df0a44": {
      "model_module": "@jupyter-widgets/controls",
      "model_module_version": "1.5.0",
      "model_name": "HTMLModel",
      "state": {
       "layout": "IPY_MODEL_2af13b1e12a1406e82c55341ea38882d",
       "style": "IPY_MODEL_23598cad8a014c7baa2d858a280dd442",
       "value": "<div style='margin-top: 10px'></div>"
      }
     },
     "ca2d371d258349418c47a8176eaf4603": {
      "model_module": "@jupyter-widgets/controls",
      "model_module_version": "1.5.0",
      "model_name": "BoxModel",
      "state": {
       "_dom_classes": [
        "inner-card"
       ],
       "children": [
        "IPY_MODEL_97b97dd39a1d4d67abd15e9e96e49d9f",
        "IPY_MODEL_2ab4c31b0b1a4593909a19419805af64",
        "IPY_MODEL_a0ab89553e564a288e7fa4b90df6bc9c"
       ],
       "layout": "IPY_MODEL_376ae7b899864a39a7dd8baf725f945b"
      }
     },
     "ca3c5e91498f404282d78553a55a36e5": {
      "model_module": "@jupyter-widgets/controls",
      "model_module_version": "1.5.0",
      "model_name": "DescriptionStyleModel",
      "state": {
       "description_width": ""
      }
     },
     "ca7efb44aa524f1586a6691bf8fd7f19": {
      "model_module": "@jupyter-widgets/controls",
      "model_module_version": "1.5.0",
      "model_name": "HTMLModel",
      "state": {
       "layout": "IPY_MODEL_21787b1fc92440169e440b9f3953bc5d",
       "style": "IPY_MODEL_3a2e857d593d4bf9b9e47277c208fdd3",
       "value": "Model name:"
      }
     },
     "caa645edc4514e6a9adedb8e65a2d38b": {
      "model_module": "@jupyter-widgets/base",
      "model_module_version": "1.2.0",
      "model_name": "LayoutModel",
      "state": {}
     },
     "caaf73aed5e9461ba2e82770cb531c28": {
      "model_module": "@jupyter-widgets/controls",
      "model_module_version": "1.5.0",
      "model_name": "HTMLModel",
      "state": {
       "layout": "IPY_MODEL_2f7593aa88c04eddb33484f1c9e9f49d",
       "style": "IPY_MODEL_41f968919fe648cbbd7b6494ac725768",
       "value": "<div class='divider'></div>"
      }
     },
     "caeb8de3cbd741b1a01fe36a973b6a88": {
      "model_module": "@jupyter-widgets/base",
      "model_module_version": "1.2.0",
      "model_name": "LayoutModel",
      "state": {}
     },
     "caf6b93e39f841b891b01596dd3a1400": {
      "model_module": "@jupyter-widgets/base",
      "model_module_version": "1.2.0",
      "model_name": "LayoutModel",
      "state": {}
     },
     "cb02d5fec7484189819927bb42168a5c": {
      "model_module": "@jupyter-widgets/controls",
      "model_module_version": "1.5.0",
      "model_name": "DropdownModel",
      "state": {
       "_options_labels": [
        "By Weights",
        "Segment",
        "x1",
        "x2",
        "x3",
        "x4",
        "x5",
        "Label",
        "Minority",
        "Majority",
        "Age >= 62",
        "Age < 62"
       ],
       "index": 0,
       "layout": "IPY_MODEL_131b252711df488fa648365fbcf31f4d",
       "style": "IPY_MODEL_9517d1e0058c410391f11b064ae671f5"
      }
     },
     "cb18487b068f4d2382b021c8a0a5c36d": {
      "model_module": "@jupyter-widgets/controls",
      "model_module_version": "1.5.0",
      "model_name": "HTMLModel",
      "state": {
       "layout": "IPY_MODEL_caeb8de3cbd741b1a01fe36a973b6a88",
       "style": "IPY_MODEL_80d1c6275cce42df8165bc866a76c9ce",
       "value": "L2_regularzation:"
      }
     },
     "cb38597651874826aea16470d5b535d8": {
      "model_module": "@jupyter-widgets/controls",
      "model_module_version": "1.5.0",
      "model_name": "BoundedIntTextModel",
      "state": {
       "layout": "IPY_MODEL_7f670cd961ac4ee5a44e3ce4e3f4baea",
       "max": 1000,
       "min": 1,
       "style": "IPY_MODEL_d7d9d976a85f48f5a482acb05b2e50f9",
       "value": 20
      }
     },
     "cb74b038293a47698b44bb00b8b5d943": {
      "model_module": "@jupyter-widgets/controls",
      "model_module_version": "1.5.0",
      "model_name": "BoundedIntTextModel",
      "state": {
       "layout": "IPY_MODEL_6c76f31594ba4e6b94f7d678e858dd2a",
       "max": 1000,
       "style": "IPY_MODEL_d27da6e65e5d4fd09db8e50650d77f4a",
       "value": 50
      }
     },
     "cb940853d893409fbe161124150aee5f": {
      "model_module": "@jupyter-widgets/base",
      "model_module_version": "1.2.0",
      "model_name": "LayoutModel",
      "state": {
       "width": "auto"
      }
     },
     "cb9c13e74829456baa691382b73ebfe2": {
      "model_module": "@jupyter-widgets/controls",
      "model_module_version": "1.5.0",
      "model_name": "DescriptionStyleModel",
      "state": {
       "description_width": ""
      }
     },
     "cba9957864e543d4b175143a526c0627": {
      "model_module": "@jupyter-widgets/controls",
      "model_module_version": "1.5.0",
      "model_name": "DescriptionStyleModel",
      "state": {
       "description_width": "initial"
      }
     },
     "cbfcb0ca206e4b75917d22ffcc9a645f": {
      "model_module": "@jupyter-widgets/controls",
      "model_module_version": "1.5.0",
      "model_name": "DescriptionStyleModel",
      "state": {
       "description_width": ""
      }
     },
     "cbff5a2fb70a4d46b3e8e964c3cc9c14": {
      "model_module": "@jupyter-widgets/controls",
      "model_module_version": "1.5.0",
      "model_name": "HTMLModel",
      "state": {
       "layout": "IPY_MODEL_d50f930366dc4482a6564a45e27bf944",
       "style": "IPY_MODEL_8cfc312aabb14c4da51d6732b27574cc",
       "value": "Feature_increasing:"
      }
     },
     "cc0e96ab1a2f49e0b0cc25231dd30f8b": {
      "model_module": "@jupyter-widgets/base",
      "model_module_version": "1.2.0",
      "model_name": "LayoutModel",
      "state": {
       "display": "flex",
       "flex_flow": "column",
       "width": "auto"
      }
     },
     "cc176f3a406e4eeca688a23624a931b4": {
      "model_module": "@jupyter-widgets/controls",
      "model_module_version": "1.5.0",
      "model_name": "VBoxModel",
      "state": {
       "children": [
        "IPY_MODEL_5ee1fddc5bb34a8fa291873595c94ea6",
        "IPY_MODEL_1bc9dbb0ad87454e82798bd6609f5126"
       ],
       "layout": "IPY_MODEL_62d5cf84ae344e4fabca6a1e2ebe54ad"
      }
     },
     "cc2cbf970b244a43a5843c35e3e3d850": {
      "model_module": "@jupyter-widgets/base",
      "model_module_version": "1.2.0",
      "model_name": "LayoutModel",
      "state": {
       "width": "20%"
      }
     },
     "cc3edfed0d0b421d9ddf27a7948a0fd0": {
      "model_module": "@jupyter-widgets/base",
      "model_module_version": "1.2.0",
      "model_name": "LayoutModel",
      "state": {}
     },
     "cc96b05b7d7c4895945db4db70bfcce3": {
      "model_module": "@jupyter-widgets/base",
      "model_module_version": "1.2.0",
      "model_name": "LayoutModel",
      "state": {}
     },
     "cca5184f7daf443f8075c2e0b8de2aa5": {
      "model_module": "@jupyter-widgets/base",
      "model_module_version": "1.2.0",
      "model_name": "LayoutModel",
      "state": {}
     },
     "ccc356d4754c44a1864790f0f711cc52": {
      "model_module": "@jupyter-widgets/controls",
      "model_module_version": "1.5.0",
      "model_name": "DescriptionStyleModel",
      "state": {
       "description_width": ""
      }
     },
     "ccfdaa8073614ffa9363579c2429ca0f": {
      "model_module": "@jupyter-widgets/base",
      "model_module_version": "1.2.0",
      "model_name": "LayoutModel",
      "state": {}
     },
     "cd1f2bf9c3084cfe97fbbd3f29008350": {
      "model_module": "@jupyter-widgets/controls",
      "model_module_version": "1.5.0",
      "model_name": "ButtonModel",
      "state": {
       "_dom_classes": [
        "pbtn"
       ],
       "button_style": "danger",
       "icon": "cog",
       "layout": "IPY_MODEL_ced0721973f84de7a9e7485f326b24b1",
       "style": "IPY_MODEL_d6779796bd844b9eacd0c8400869c935"
      }
     },
     "cd310b3d89944147bfa9001860d352d0": {
      "model_module": "@jupyter-widgets/base",
      "model_module_version": "1.2.0",
      "model_name": "LayoutModel",
      "state": {
       "display": "flex",
       "flex_flow": "column",
       "width": "auto"
      }
     },
     "cd310cc9eea8400aaa53cc6bbea5c9c3": {
      "model_module": "@jupyter-widgets/controls",
      "model_module_version": "1.5.0",
      "model_name": "HTMLModel",
      "state": {
       "layout": "IPY_MODEL_ae1fa79510464fdfac845b229ebfabd1",
       "style": "IPY_MODEL_7853b0bd51fa4cf1828bc369fe6f8ad8",
       "value": "<div style='margin-right: 10px'></div>"
      }
     },
     "cd3e0b3478b647f7a07ee72f64fdf07f": {
      "model_module": "@jupyter-widgets/controls",
      "model_module_version": "1.5.0",
      "model_name": "HBoxModel",
      "state": {
       "children": [
        "IPY_MODEL_c6ace8b269b6439a9d217a9df2433367",
        "IPY_MODEL_643a8a28e7d6424a8779728acf458fa5"
       ],
       "layout": "IPY_MODEL_a90f3745f7684474a16eba71c338a638"
      }
     },
     "cd46fc72c9734460b4c39b61f94763f1": {
      "model_module": "@jupyter-widgets/controls",
      "model_module_version": "1.5.0",
      "model_name": "HBoxModel",
      "state": {
       "children": [
        "IPY_MODEL_193baa3b82864d13962e181fd012a4a8",
        "IPY_MODEL_2d019655bba64a22a139f948d266a0cb"
       ],
       "layout": "IPY_MODEL_06d6dc355a464479a05b19a774c6a51b"
      }
     },
     "cd8fbbed2d984ce4b2c60c63049ae55d": {
      "model_module": "@jupyter-widgets/base",
      "model_module_version": "1.2.0",
      "model_name": "LayoutModel",
      "state": {
       "width": "155px"
      }
     },
     "cdfca9ac724147d58a0ed3bec3acdde9": {
      "model_module": "@jupyter-widgets/controls",
      "model_module_version": "1.5.0",
      "model_name": "HTMLModel",
      "state": {
       "layout": "IPY_MODEL_b5ea15edb4da4158bb2e06ea72d8b1ec",
       "style": "IPY_MODEL_de3d9656df9f4763ab1131174c33b82b",
       "value": "Min_samples_leaf:"
      }
     },
     "ce2733da4bea45dc887fc5cd20993192": {
      "model_module": "@jupyter-widgets/controls",
      "model_module_version": "1.5.0",
      "model_name": "HTMLModel",
      "state": {
       "layout": "IPY_MODEL_acf84d8e108a46c290dd68b372c997d7",
       "style": "IPY_MODEL_a473d70b78294ae2873c92b4e8db5ca3",
       "value": "\n        <table class='ptable striped'>\n            <thead class='pthead'>\n                <tr class='ptr'>\n                    <th class='pth'></th><th class='pth'>name</th><th class='pth'>n_missing</th><th class='pth'>mean</th><th class='pth'>std</th><th class='pth'>min</th><th class='pth'>q1</th><th class='pth'>median</th><th class='pth'>q3</th><th class='pth'>max</th>\n                </tr>\n            </thead>\n\n            <tbody class='ptbody'>\n                <tr class='ptr'><td class='ptd'>0</td><td class='ptd'>x1</td><td class='ptd'>0.0</td><td class='ptd'>-0.010468</td><td class='ptd'>1.00554</td><td class='ptd'>-4.111457</td><td class='ptd'>-0.687572</td><td class='ptd'>-0.016001</td><td class='ptd'>0.661917</td><td class='ptd'>3.723496</td></tr><tr class='ptr'><td class='ptd'>1</td><td class='ptd'>x2</td><td class='ptd'>0.0</td><td class='ptd'>0.003769</td><td class='ptd'>0.998657</td><td class='ptd'>-4.441389</td><td class='ptd'>-0.661684</td><td class='ptd'>0.009965</td><td class='ptd'>0.678074</td><td class='ptd'>4.547531</td></tr><tr class='ptr'><td class='ptd'>2</td><td class='ptd'>x3</td><td class='ptd'>0.0</td><td class='ptd'>-0.027052</td><td class='ptd'>0.996581</td><td class='ptd'>-4.040587</td><td class='ptd'>-0.699355</td><td class='ptd'>-0.026371</td><td class='ptd'>0.64237</td><td class='ptd'>4.308687</td></tr><tr class='ptr'><td class='ptd'>3</td><td class='ptd'>x4</td><td class='ptd'>0.0</td><td class='ptd'>0.00803</td><td class='ptd'>0.99497</td><td class='ptd'>-4.491451</td><td class='ptd'>-0.659107</td><td class='ptd'>0.004833</td><td class='ptd'>0.680002</td><td class='ptd'>3.864044</td></tr><tr class='ptr'><td class='ptd'>4</td><td class='ptd'>x5</td><td class='ptd'>0.0</td><td class='ptd'>-0.001039</td><td class='ptd'>0.9876</td><td class='ptd'>-3.990077</td><td class='ptd'>-0.663987</td><td class='ptd'>0.000662</td><td class='ptd'>0.659662</td><td class='ptd'>4.093057</td></tr><tr class='ptr grey'><td class='ptd'>5</td><td class='ptd'>Minority</td><td class='ptd'>0.0</td><td class='ptd'>0.271599</td><td class='ptd'>0.268342</td><td class='ptd'>3e-06</td><td class='ptd'>0.056888</td><td class='ptd'>0.170139</td><td class='ptd'>0.419018</td><td class='ptd'>0.99998</td></tr><tr class='ptr grey'><td class='ptd'>6</td><td class='ptd'>Majority</td><td class='ptd'>0.0</td><td class='ptd'>0.728401</td><td class='ptd'>0.268342</td><td class='ptd'>2e-05</td><td class='ptd'>0.580982</td><td class='ptd'>0.829861</td><td class='ptd'>0.943112</td><td class='ptd'>0.999997</td></tr>\n            </tbody>\n        </table>\n        "
      }
     },
     "ce2abdddea9349619934ae2b7ee82ea9": {
      "model_module": "@jupyter-widgets/base",
      "model_module_version": "1.2.0",
      "model_name": "LayoutModel",
      "state": {
       "width": "15%"
      }
     },
     "ce549e63c053400daeb05acbcd5302b8": {
      "model_module": "@jupyter-widgets/controls",
      "model_module_version": "1.5.0",
      "model_name": "HTMLModel",
      "state": {
       "layout": "IPY_MODEL_709a4da8778b4939a981eb2e1013797c",
       "style": "IPY_MODEL_7b0ff56e8fa849479a0cf7046742d24d",
       "value": "<div class='divider'></div>"
      }
     },
     "ce97b91bca7e4317936112d32942c137": {
      "model_module": "@jupyter-widgets/base",
      "model_module_version": "1.2.0",
      "model_name": "LayoutModel",
      "state": {
       "width": "auto"
      }
     },
     "cec8b84f2bed497da7943e4fc2e18c26": {
      "model_module": "@jupyter-widgets/controls",
      "model_module_version": "1.5.0",
      "model_name": "ButtonModel",
      "state": {
       "_dom_classes": [
        "pbtn"
       ],
       "button_style": "danger",
       "description": "RUN",
       "layout": "IPY_MODEL_6c741f7be6a54419ad2ff6d551af395e",
       "style": "IPY_MODEL_1d42353a44454b41b7c27e9623d0fe78"
      }
     },
     "ced0721973f84de7a9e7485f326b24b1": {
      "model_module": "@jupyter-widgets/base",
      "model_module_version": "1.2.0",
      "model_name": "LayoutModel",
      "state": {
       "height": "25px",
       "width": "35px"
      }
     },
     "cf36cc31f0ee40b2a229aba3efb38473": {
      "model_module": "@jupyter-widgets/controls",
      "model_module_version": "1.5.0",
      "model_name": "HTMLModel",
      "state": {
       "layout": "IPY_MODEL_b34a10e4d138433c879e7ef0d663c115",
       "style": "IPY_MODEL_72e68ff1a1804e6d800f07c2fd13c6ed",
       "value": "Subnet1_size:"
      }
     },
     "cf51640a7c0e44a69d08e6fd486fdcff": {
      "model_module": "@jupyter-widgets/base",
      "model_module_version": "1.2.0",
      "model_name": "LayoutModel",
      "state": {
       "width": "100%"
      }
     },
     "cf74aa3e2c414c9882a4c3ad9d0fcec0": {
      "model_module": "@jupyter-widgets/base",
      "model_module_version": "1.2.0",
      "model_name": "LayoutModel",
      "state": {
       "width": "99%"
      }
     },
     "cfd7205ccb524665b3726d8d5cf9c29c": {
      "model_module": "@jupyter-widgets/base",
      "model_module_version": "1.2.0",
      "model_name": "LayoutModel",
      "state": {
       "width": "65%"
      }
     },
     "cfe7d90d61ee44498ffab4c5e357f15e": {
      "model_module": "@jupyter-widgets/controls",
      "model_module_version": "1.5.0",
      "model_name": "HTMLModel",
      "state": {
       "layout": "IPY_MODEL_dd8e4d2dc5d24b86bde0c0a806b13ac7",
       "style": "IPY_MODEL_94c06420bb774a67b4147d095438fec7",
       "value": "Max_interaction_bins:"
      }
     },
     "d01195ff2dd947f69a4f3ef21e723edd": {
      "model_module": "@jupyter-widgets/controls",
      "model_module_version": "1.5.0",
      "model_name": "DescriptionStyleModel",
      "state": {
       "description_width": "initial"
      }
     },
     "d028182912894c0c909605b300f94b43": {
      "model_module": "@jupyter-widgets/base",
      "model_module_version": "1.2.0",
      "model_name": "LayoutModel",
      "state": {
       "width": "55%"
      }
     },
     "d02d5460d4744712879d9d875c240a9f": {
      "model_module": "@jupyter-widgets/base",
      "model_module_version": "1.2.0",
      "model_name": "LayoutModel",
      "state": {}
     },
     "d0607b7735bf42d7a5fef9b016e583ad": {
      "model_module": "@jupyter-widgets/controls",
      "model_module_version": "1.5.0",
      "model_name": "HTMLModel",
      "state": {
       "layout": "IPY_MODEL_b957b29e7efd43c5ba20cdf436e4ae18",
       "style": "IPY_MODEL_fab96d3ea0b34ef8995c8b8f63f77cb1",
       "value": "<p>Task Type:</p>"
      }
     },
     "d07786d21a0f41baae7f76c35876cb08": {
      "model_module": "@jupyter-widgets/controls",
      "model_module_version": "1.5.0",
      "model_name": "DescriptionStyleModel",
      "state": {
       "description_width": "initial"
      }
     },
     "d1087b1b9c924e56ab47e98b7f0d33f1": {
      "model_module": "@jupyter-widgets/controls",
      "model_module_version": "1.5.0",
      "model_name": "DescriptionStyleModel",
      "state": {
       "description_width": "initial"
      }
     },
     "d1174dd0e7d94c7b9b8b2b662d167917": {
      "model_module": "@jupyter-widgets/controls",
      "model_module_version": "1.5.0",
      "model_name": "DescriptionStyleModel",
      "state": {
       "description_width": ""
      }
     },
     "d11fc3caa436436f96b5efcebbf0f365": {
      "model_module": "@jupyter-widgets/controls",
      "model_module_version": "1.5.0",
      "model_name": "DropdownModel",
      "state": {
       "_options_labels": [
        "Select",
        "Segment",
        "x1",
        "x2",
        "x3",
        "x4",
        "x5",
        "Label",
        "Minority",
        "Majority",
        "Age >= 62",
        "Age < 62"
       ],
       "index": 10,
       "layout": "IPY_MODEL_f9fe76a2f9b042cb98fca402256fb8b6",
       "style": "IPY_MODEL_45dc32a575fd4c8788cf0ca7cd736bb7"
      }
     },
     "d12138fbdea2431996f56dce5be3f9ec": {
      "model_module": "@jupyter-widgets/base",
      "model_module_version": "1.2.0",
      "model_name": "LayoutModel",
      "state": {}
     },
     "d127afd3e15e46f3b4a96cd610a78882": {
      "model_module": "@jupyter-widgets/base",
      "model_module_version": "1.2.0",
      "model_name": "LayoutModel",
      "state": {}
     },
     "d168db5908854130af4da4af811474e1": {
      "model_module": "@jupyter-widgets/controls",
      "model_module_version": "1.5.0",
      "model_name": "BoxModel",
      "state": {
       "_dom_classes": [
        "inner-card"
       ],
       "children": [
        "IPY_MODEL_70f19014251e43e9a866fe4232b1159a",
        "IPY_MODEL_f6869a0a8ae14f86ae8648bef3b6e686",
        "IPY_MODEL_ae5ba07143d74bc4be986cf79d5fa9f6"
       ],
       "layout": "IPY_MODEL_2c808e2a57a84336aeb1cf6b0327906f"
      }
     },
     "d173f2f4a1b14790bf2e789421c9f67a": {
      "model_module": "@jupyter-widgets/controls",
      "model_module_version": "1.5.0",
      "model_name": "BoxModel",
      "state": {
       "_dom_classes": [
        "inner-card"
       ],
       "children": [
        "IPY_MODEL_342c63767d544f9eb117520d0e3bab29",
        "IPY_MODEL_41f98345639d4b28b546615eeaf532dd",
        "IPY_MODEL_645883f1a6684a84bf93862fd24c9229"
       ],
       "layout": "IPY_MODEL_8feca62a66124fa0bc73fffbd7e190d7"
      }
     },
     "d191a70367e84a26bf7f62df133b2a53": {
      "model_module": "@jupyter-widgets/controls",
      "model_module_version": "1.5.0",
      "model_name": "BoundedIntTextModel",
      "state": {
       "layout": "IPY_MODEL_815f73f65e9f40f7ba77f2bcae47d4e1",
       "max": 10000,
       "min": 1,
       "style": "IPY_MODEL_11d34d340824414695266ada3813e90d",
       "value": 20
      }
     },
     "d1cb355c878d4275a55761562e82e46f": {
      "model_module": "@jupyter-widgets/base",
      "model_module_version": "1.2.0",
      "model_name": "LayoutModel",
      "state": {
       "justify_content": "space-between"
      }
     },
     "d1cbb27eb38d45bcac7803906d785a7a": {
      "model_module": "@jupyter-widgets/controls",
      "model_module_version": "1.5.0",
      "model_name": "CheckboxModel",
      "state": {
       "description": "FIGS",
       "disabled": false,
       "indent": false,
       "layout": "IPY_MODEL_dd85aae4a6424898a54be5ecd20595e5",
       "style": "IPY_MODEL_fa7e0f0b47d343d38e26ed4e3b167f66",
       "value": false
      }
     },
     "d1d14b95fe1947fcaf41a65a25fa36a1": {
      "model_module": "@jupyter-widgets/controls",
      "model_module_version": "1.5.0",
      "model_name": "VBoxModel",
      "state": {
       "children": [
        "IPY_MODEL_cb02d5fec7484189819927bb42168a5c",
        "IPY_MODEL_3683a81986e14df3a0bacb31fbe0d1fb"
       ],
       "layout": "IPY_MODEL_4dc8be9b7bcc4a3fa70ff0b01ee45252"
      }
     },
     "d2126388f2684e94ae14efb32ab332f3": {
      "model_module": "@jupyter-widgets/controls",
      "model_module_version": "1.5.0",
      "model_name": "ButtonStyleModel",
      "state": {}
     },
     "d21576fea9a549b48048e15a8f278cf6": {
      "model_module": "@jupyter-widgets/base",
      "model_module_version": "1.2.0",
      "model_name": "LayoutModel",
      "state": {}
     },
     "d236bb48ae9c452ab5ad9f121834d32a": {
      "model_module": "@jupyter-widgets/controls",
      "model_module_version": "1.5.0",
      "model_name": "ProgressStyleModel",
      "state": {
       "description_width": "initial"
      }
     },
     "d24ba9e9c7bf49aeb124d2f2909a5c00": {
      "model_module": "@jupyter-widgets/controls",
      "model_module_version": "1.5.0",
      "model_name": "TextModel",
      "state": {
       "layout": "IPY_MODEL_2d04e5e5242b4590aa4208a4953bca0f",
       "placeholder": "1,2... or \"f1\",\"f2\"...",
       "style": "IPY_MODEL_bc76ce52c2c642b7acd8879f22029470"
      }
     },
     "d25afa8d40ca4586be52964f5c997785": {
      "model_module": "@jupyter-widgets/controls",
      "model_module_version": "1.5.0",
      "model_name": "HTMLModel",
      "state": {
       "layout": "IPY_MODEL_64c308fa44924ae1a1845bf3c958ea5f",
       "style": "IPY_MODEL_af56ac625ba64e7d8b06d9ed23cca44d",
       "value": "<div style='margin-right: 10px'></div>"
      }
     },
     "d2711d6557bb403da0077c44c86490bf": {
      "model_module": "@jupyter-widgets/controls",
      "model_module_version": "1.5.0",
      "model_name": "HBoxModel",
      "state": {
       "children": [
        "IPY_MODEL_79b9e89a17d04a3c82ddc94e8282d921",
        "IPY_MODEL_0a979ddcbaeb497eb9b652b985fa46d0"
       ],
       "layout": "IPY_MODEL_f085379567254d1cbc5a6ad2bb3502b1"
      }
     },
     "d271a56d12cf45bbb4a826cdab349199": {
      "model_module": "@jupyter-widgets/base",
      "model_module_version": "1.2.0",
      "model_name": "LayoutModel",
      "state": {}
     },
     "d27da6e65e5d4fd09db8e50650d77f4a": {
      "model_module": "@jupyter-widgets/controls",
      "model_module_version": "1.5.0",
      "model_name": "DescriptionStyleModel",
      "state": {
       "description_width": "initial"
      }
     },
     "d28e6d0898bd45f6a9538c59077846e0": {
      "model_module": "@jupyter-widgets/base",
      "model_module_version": "1.2.0",
      "model_name": "LayoutModel",
      "state": {
       "width": "auto"
      }
     },
     "d2aeed0c0cf84cb097719b5c2b786571": {
      "model_module": "@jupyter-widgets/base",
      "model_module_version": "1.2.0",
      "model_name": "LayoutModel",
      "state": {}
     },
     "d2da9c89e9db437f9c45d3fd2034aed0": {
      "model_module": "@jupyter-widgets/controls",
      "model_module_version": "1.5.0",
      "model_name": "DescriptionStyleModel",
      "state": {
       "description_width": ""
      }
     },
     "d2f046c263bb4a07adb40d69e11f1d07": {
      "model_module": "@jupyter-widgets/controls",
      "model_module_version": "1.5.0",
      "model_name": "BoxModel",
      "state": {
       "children": [
        "IPY_MODEL_385b32ad4f57407ba6b2cc1246c9803a",
        "IPY_MODEL_b890292cd243422a8fc4a4db88f0e74e"
       ],
       "layout": "IPY_MODEL_a41eba76a98d4c5193e41bcc00b2e468"
      }
     },
     "d316b94af31143878d6549080c2ad007": {
      "model_module": "@jupyter-widgets/controls",
      "model_module_version": "1.5.0",
      "model_name": "HTMLModel",
      "state": {
       "layout": "IPY_MODEL_3ef346ae5d5e40b3a048c83977800cb5",
       "style": "IPY_MODEL_94ef3cca04814833ab6c4815ce99f62a",
       "value": "Delete Group:"
      }
     },
     "d31934b469ac42a890dffc8dafb22f65": {
      "model_module": "@jupyter-widgets/controls",
      "model_module_version": "1.5.0",
      "model_name": "BoundedIntTextModel",
      "state": {
       "layout": "IPY_MODEL_21b379b64428455b922d3e6f4637a936",
       "style": "IPY_MODEL_ee542e6283524b1ea760b1934ac1b340"
      }
     },
     "d32102da0b78473e86f63ae5785ce9af": {
      "model_module": "@jupyter-widgets/controls",
      "model_module_version": "1.5.0",
      "model_name": "DescriptionStyleModel",
      "state": {
       "description_width": "initial"
      }
     },
     "d34e0dd66c3c471c967cb6415ddbf917": {
      "model_module": "@jupyter-widgets/base",
      "model_module_version": "1.2.0",
      "model_name": "LayoutModel",
      "state": {}
     },
     "d38b7c875022463f88787dcffc58a90d": {
      "model_module": "@jupyter-widgets/controls",
      "model_module_version": "1.5.0",
      "model_name": "HBoxModel",
      "state": {
       "children": [
        "IPY_MODEL_e40d2cb51176408894722c7beba2782a",
        "IPY_MODEL_a97e7e98a9cc460baa97abf6f40f9192"
       ],
       "layout": "IPY_MODEL_87b196d336eb4ee79b319aa1baf52ee7"
      }
     },
     "d398313a081e4bb5ae445af9c79ff32b": {
      "model_module": "@jupyter-widgets/controls",
      "model_module_version": "1.5.0",
      "model_name": "HTMLModel",
      "state": {
       "layout": "IPY_MODEL_fc8d62e92b3747dc9353dc287d6f761e",
       "style": "IPY_MODEL_d608e7575aed43efa76f6c9c38eca504",
       "value": "Outer_bags:"
      }
     },
     "d3e18fd888fd440c9251b37fc3b1f1fa": {
      "model_module": "@jupyter-widgets/base",
      "model_module_version": "1.2.0",
      "model_name": "LayoutModel",
      "state": {}
     },
     "d3ec01acbaae49c9aba5fb30ff5458ab": {
      "model_module": "@jupyter-widgets/controls",
      "model_module_version": "1.5.0",
      "model_name": "CheckboxModel",
      "state": {
       "description": "Original Scale",
       "disabled": true,
       "indent": false,
       "layout": "IPY_MODEL_6f65dbd81e0e4c92b64dbf44f8c8287a",
       "style": "IPY_MODEL_8524884bec484fc282753ca18cd43712",
       "value": true
      }
     },
     "d3f4d6cd3dc8442e9900b16f94be1489": {
      "model_module": "@jupyter-widgets/base",
      "model_module_version": "1.2.0",
      "model_name": "LayoutModel",
      "state": {}
     },
     "d41a46864b9e45459be53e80537e5ebe": {
      "model_module": "@jupyter-widgets/controls",
      "model_module_version": "1.5.0",
      "model_name": "TextModel",
      "state": {
       "layout": "IPY_MODEL_ba8bc0f8ca5a476fbd9a79f76b8d0e8e",
       "placeholder": "Input name",
       "style": "IPY_MODEL_c2135c87467640fa8636a8870b5a29c4",
       "value": "Tree"
      }
     },
     "d420a026cb6644f8b7b5e8982f39cc3e": {
      "model_module": "@jupyter-widgets/base",
      "model_module_version": "1.2.0",
      "model_name": "LayoutModel",
      "state": {}
     },
     "d452542cce124c8a826c7e755221e2cb": {
      "model_module": "@jupyter-widgets/controls",
      "model_module_version": "1.5.0",
      "model_name": "BoxModel",
      "state": {
       "layout": "IPY_MODEL_6af89fe42b1c4273bad4e4abcafa3808"
      }
     },
     "d45c81fac0de475c88ec217eb61904ec": {
      "model_module": "@jupyter-widgets/base",
      "model_module_version": "1.2.0",
      "model_name": "LayoutModel",
      "state": {}
     },
     "d468a9f15d3d4a84a8e0113192fd60b7": {
      "model_module": "@jupyter-widgets/base",
      "model_module_version": "1.2.0",
      "model_name": "LayoutModel",
      "state": {}
     },
     "d49a8e0aa7d34b56a598ec600fdf7cd2": {
      "model_module": "@jupyter-widgets/base",
      "model_module_version": "1.2.0",
      "model_name": "LayoutModel",
      "state": {
       "display": "flex",
       "flex_flow": "column",
       "width": "auto"
      }
     },
     "d50f930366dc4482a6564a45e27bf944": {
      "model_module": "@jupyter-widgets/base",
      "model_module_version": "1.2.0",
      "model_name": "LayoutModel",
      "state": {}
     },
     "d525d292db88420887633fb32dac3b02": {
      "model_module": "@jupyter-widgets/output",
      "model_module_version": "1.0.0",
      "model_name": "OutputModel",
      "state": {
       "layout": "IPY_MODEL_ad3ff5ac30654ff7bd5d8b94c8946552",
       "outputs": [
        {
         "data": {
          "application/vnd.jupyter.widget-view+json": {
           "model_id": "99828d70014142898b2035c7186100d9",
           "version_major": 2,
           "version_minor": 0
          },
          "text/plain": "VBox(children=(ToggleButtons(options=('Group Setting', 'Metrics', 'Segmented Metrics', 'Thresholding', 'Featur…"
         },
         "metadata": {},
         "output_type": "display_data"
        }
       ]
      }
     },
     "d5532920b8fe4602b66c89145f8bff0b": {
      "model_module": "@jupyter-widgets/controls",
      "model_module_version": "1.5.0",
      "model_name": "DescriptionStyleModel",
      "state": {
       "description_width": "initial"
      }
     },
     "d572f9d08d4b496b8d2318863e5c8333": {
      "model_module": "@jupyter-widgets/base",
      "model_module_version": "1.2.0",
      "model_name": "LayoutModel",
      "state": {
       "width": "auto"
      }
     },
     "d5b7b35c5ceb456094580de6be2a75e0": {
      "model_module": "@jupyter-widgets/controls",
      "model_module_version": "1.5.0",
      "model_name": "DescriptionStyleModel",
      "state": {
       "description_width": "initial"
      }
     },
     "d5bcc09237f64082895f2064e2d29722": {
      "model_module": "@jupyter-widgets/base",
      "model_module_version": "1.2.0",
      "model_name": "LayoutModel",
      "state": {}
     },
     "d5c732cf7fa7481893b1d2a925385491": {
      "model_module": "@jupyter-widgets/output",
      "model_module_version": "1.0.0",
      "model_name": "OutputModel",
      "state": {
       "layout": "IPY_MODEL_d420a026cb6644f8b7b5e8982f39cc3e",
       "outputs": [
        {
         "data": {
          "application/vnd.jupyter.widget-view+json": {
           "model_id": "b38aef4ad1ff4e71a8ed3ed29ecc901d",
           "version_major": 2,
           "version_minor": 0
          },
          "text/plain": "HTML(value=\"<p class='notification info'>Register XGB2 Done</p>\")"
         },
         "metadata": {},
         "output_type": "display_data"
        }
       ]
      }
     },
     "d5cf5567b2044652b39932ae14ec7ff5": {
      "model_module": "@jupyter-widgets/base",
      "model_module_version": "1.2.0",
      "model_name": "LayoutModel",
      "state": {
       "align_items": "center",
       "display": "flex",
       "flex_flow": "row",
       "width": "100%"
      }
     },
     "d5ede0dff8c440debc72a55f84e086b7": {
      "model_module": "@jupyter-widgets/base",
      "model_module_version": "1.2.0",
      "model_name": "LayoutModel",
      "state": {
       "width": "99%"
      }
     },
     "d608e7575aed43efa76f6c9c38eca504": {
      "model_module": "@jupyter-widgets/controls",
      "model_module_version": "1.5.0",
      "model_name": "DescriptionStyleModel",
      "state": {
       "description_width": ""
      }
     },
     "d61cb4fdb45d4e10a4e32edda2939843": {
      "model_module": "@jupyter-widgets/controls",
      "model_module_version": "1.5.0",
      "model_name": "DescriptionStyleModel",
      "state": {
       "description_width": ""
      }
     },
     "d668e76fb345436dad8ba120f0124cd7": {
      "model_module": "@jupyter-widgets/base",
      "model_module_version": "1.2.0",
      "model_name": "LayoutModel",
      "state": {}
     },
     "d6779796bd844b9eacd0c8400869c935": {
      "model_module": "@jupyter-widgets/controls",
      "model_module_version": "1.5.0",
      "model_name": "ButtonStyleModel",
      "state": {}
     },
     "d67e6015b80a47dd99fef2478d2db34b": {
      "model_module": "@jupyter-widgets/controls",
      "model_module_version": "1.5.0",
      "model_name": "HBoxModel",
      "state": {
       "children": [
        "IPY_MODEL_3a0c06367b034de2a03b53e4c0c8df2d",
        "IPY_MODEL_7a7a623daa5e4471a14b6f5c524db18b",
        "IPY_MODEL_5f68e1e8fe594ff58aabc06757cf099f"
       ],
       "layout": "IPY_MODEL_5a6fa4918e8446dc8735bc5ef6a3182d"
      }
     },
     "d6c54dc8077041f3b832ffc804e4451c": {
      "model_module": "@jupyter-widgets/base",
      "model_module_version": "1.2.0",
      "model_name": "LayoutModel",
      "state": {
       "width": "65%"
      }
     },
     "d6d6a952cf07498da1529ebe17344c35": {
      "model_module": "@jupyter-widgets/base",
      "model_module_version": "1.2.0",
      "model_name": "LayoutModel",
      "state": {}
     },
     "d72bf4ed39944cdd8dc76232fee72bb9": {
      "model_module": "@jupyter-widgets/controls",
      "model_module_version": "1.5.0",
      "model_name": "HTMLModel",
      "state": {
       "layout": "IPY_MODEL_21a60243b9d8469492188c9cdfb7c8a8",
       "style": "IPY_MODEL_4652767ec41242768e440977edf84642",
       "value": "Random_state:"
      }
     },
     "d73ab84fb9d741ff87b1f3e8c92dbadc": {
      "model_module": "@jupyter-widgets/output",
      "model_module_version": "1.0.0",
      "model_name": "OutputModel",
      "state": {
       "layout": "IPY_MODEL_8716d74d79b0485a82da12ac6bb99b47",
       "outputs": [
        {
         "data": {
          "application/vnd.jupyter.widget-view+json": {
           "model_id": "df98569f8e9a4f669ad55c0a3a02a274",
           "version_major": 2,
           "version_minor": 0
          },
          "text/plain": "HTML(value=\"\\n        <table class='ptable striped'>\\n            <thead class='pthead'>\\n            </thead>…"
         },
         "metadata": {},
         "output_type": "display_data"
        }
       ]
      }
     },
     "d7802fe40b4744dba2f4af9ee005678e": {
      "model_module": "@jupyter-widgets/output",
      "model_module_version": "1.0.0",
      "model_name": "OutputModel",
      "state": {
       "layout": "IPY_MODEL_b12e5ec7fb414044be2f3413a724872e"
      }
     },
     "d7b3566cd0aa4c73820a11ef2a9df212": {
      "model_module": "@jupyter-widgets/base",
      "model_module_version": "1.2.0",
      "model_name": "LayoutModel",
      "state": {
       "width": "20%"
      }
     },
     "d7b978ab04154940a5b050c7747acd9e": {
      "model_module": "@jupyter-widgets/controls",
      "model_module_version": "1.5.0",
      "model_name": "DescriptionStyleModel",
      "state": {
       "description_width": ""
      }
     },
     "d7d9d976a85f48f5a482acb05b2e50f9": {
      "model_module": "@jupyter-widgets/controls",
      "model_module_version": "1.5.0",
      "model_name": "DescriptionStyleModel",
      "state": {
       "description_width": "initial"
      }
     },
     "d7e55447a1374827924abebad2e76cd3": {
      "model_module": "@jupyter-widgets/controls",
      "model_module_version": "1.5.0",
      "model_name": "BoxModel",
      "state": {
       "_dom_classes": [
        "inner-card"
       ],
       "children": [
        "IPY_MODEL_cd3e0b3478b647f7a07ee72f64fdf07f",
        "IPY_MODEL_30e61bd62b5f4fb995183efba87fea65",
        "IPY_MODEL_e885220d461f4e4c80de5881761c81bf"
       ],
       "layout": "IPY_MODEL_1133255ed8dc49ef9596ea9381836e84"
      }
     },
     "d7e9d4bce308491d847f096cea0f9c08": {
      "model_module": "@jupyter-widgets/controls",
      "model_module_version": "1.5.0",
      "model_name": "BoundedIntTextModel",
      "state": {
       "layout": "IPY_MODEL_a61c948c257548a99bff8c0c24e540d1",
       "min": 1,
       "style": "IPY_MODEL_78950da4c7f34b0396b0b06ec85ac0ad",
       "value": 5
      }
     },
     "d821a79482554f5697b92f7c553b0b8f": {
      "model_module": "@jupyter-widgets/controls",
      "model_module_version": "1.5.0",
      "model_name": "HTMLModel",
      "state": {
       "layout": "IPY_MODEL_d34e0dd66c3c471c967cb6415ddbf917",
       "style": "IPY_MODEL_2f973d9bda954521abb29682fd97f443",
       "value": "Model name:"
      }
     },
     "d82f6a71136b4ec182f6f98bfd486f44": {
      "model_module": "@jupyter-widgets/base",
      "model_module_version": "1.2.0",
      "model_name": "LayoutModel",
      "state": {
       "align_items": "center",
       "justify_content": "space-between",
       "width": "100%"
      }
     },
     "d83715b73fe24b50970887e9c4ade9bb": {
      "model_module": "@jupyter-widgets/base",
      "model_module_version": "1.2.0",
      "model_name": "LayoutModel",
      "state": {}
     },
     "d84c895434bb4cddb519742019e00d8a": {
      "model_module": "@jupyter-widgets/controls",
      "model_module_version": "1.5.0",
      "model_name": "VBoxModel",
      "state": {
       "children": [
        "IPY_MODEL_7ad68705abaf482b84a85165bd7a2ea9",
        "IPY_MODEL_42c44943f3ab4496a334d5ec5bfa6b88"
       ],
       "layout": "IPY_MODEL_00d565627864488f9a3aefb1f2959480"
      }
     },
     "d8663ca11e8246e5ac49483c83af1e0d": {
      "model_module": "@jupyter-widgets/controls",
      "model_module_version": "1.5.0",
      "model_name": "VBoxModel",
      "state": {
       "children": [
        "IPY_MODEL_b66ef31fa7bc458182786199748b9655",
        "IPY_MODEL_17818a17a78d44e0a7574c7851b3eca2"
       ],
       "layout": "IPY_MODEL_a32d4a862e6445709a6dfc997f88604e"
      }
     },
     "d86f4fb15256403fb032f23f2fb97a7c": {
      "model_module": "@jupyter-widgets/controls",
      "model_module_version": "1.5.0",
      "model_name": "DescriptionStyleModel",
      "state": {
       "description_width": ""
      }
     },
     "d88df5fee07f49df913a912d6b96c6d0": {
      "model_module": "@jupyter-widgets/controls",
      "model_module_version": "1.5.0",
      "model_name": "DescriptionStyleModel",
      "state": {
       "description_width": ""
      }
     },
     "d8c928f589d44a0395251749d2f25709": {
      "model_module": "@jupyter-widgets/base",
      "model_module_version": "1.2.0",
      "model_name": "LayoutModel",
      "state": {
       "justify_content": "space-between"
      }
     },
     "d920f65d05614a2485aea4db9881915e": {
      "model_module": "@jupyter-widgets/base",
      "model_module_version": "1.2.0",
      "model_name": "LayoutModel",
      "state": {}
     },
     "d93acf4fc62b4e74bed1ffcc29b9b711": {
      "model_module": "@jupyter-widgets/base",
      "model_module_version": "1.2.0",
      "model_name": "LayoutModel",
      "state": {}
     },
     "d964e970d7a04c67b9ada779cb0b7426": {
      "model_module": "@jupyter-widgets/controls",
      "model_module_version": "1.5.0",
      "model_name": "ButtonStyleModel",
      "state": {}
     },
     "d96ae94952f84ded81bbe4c71efe1fd5": {
      "model_module": "@jupyter-widgets/controls",
      "model_module_version": "1.5.0",
      "model_name": "TextModel",
      "state": {
       "layout": "IPY_MODEL_96efc273115846fd889fa90bd2f5d4db",
       "placeholder": "Input name",
       "style": "IPY_MODEL_76831ffd7f4e45fb96b74f3763a7dd5e",
       "value": "Tree"
      }
     },
     "d9af1ab32da44971bfdd5dc72fa5e1b5": {
      "model_module": "@jupyter-widgets/controls",
      "model_module_version": "1.5.0",
      "model_name": "DescriptionStyleModel",
      "state": {
       "description_width": ""
      }
     },
     "d9ce994c266a480a8170b179a073fa2d": {
      "model_module": "@jupyter-widgets/base",
      "model_module_version": "1.2.0",
      "model_name": "LayoutModel",
      "state": {
       "display": "flex",
       "flex_flow": "column",
       "width": "100%"
      }
     },
     "da42558befe9459dbda8c520cccf12d5": {
      "model_module": "@jupyter-widgets/base",
      "model_module_version": "1.2.0",
      "model_name": "LayoutModel",
      "state": {}
     },
     "da4a9098d4cf4b94af5d7229ce593a27": {
      "model_module": "@jupyter-widgets/controls",
      "model_module_version": "1.5.0",
      "model_name": "HTMLModel",
      "state": {
       "layout": "IPY_MODEL_9ae393d52a3346e6ae9133337f642972",
       "style": "IPY_MODEL_c796eed5ea5847e699d4ad3b4f104c8c",
       "value": "<div style='margin-top: 5px'></div>"
      }
     },
     "da7653f0ff60408facea36b650a6e251": {
      "model_module": "@jupyter-widgets/controls",
      "model_module_version": "1.5.0",
      "model_name": "HTMLModel",
      "state": {
       "layout": "IPY_MODEL_081eb7f8eaa447628e80faa44ac603f7",
       "style": "IPY_MODEL_301fe5931f91486aab4baf80acb759e8",
       "value": "<div class='divider'></div>"
      }
     },
     "da9319bfa8b6420e9e93d0431cb14fa2": {
      "model_module": "@jupyter-widgets/controls",
      "model_module_version": "1.5.0",
      "model_name": "VBoxModel",
      "state": {
       "children": [
        "IPY_MODEL_ae6d09b17c00414fb8cfb9d2befa0481"
       ],
       "layout": "IPY_MODEL_a7d49cef78e04f6e8a22a0d743601e16"
      }
     },
     "da9c98194a8742519f219de7e5e155f0": {
      "model_module": "@jupyter-widgets/base",
      "model_module_version": "1.2.0",
      "model_name": "LayoutModel",
      "state": {}
     },
     "da9dc16e95e341428a30bb335b598ea1": {
      "model_module": "@jupyter-widgets/controls",
      "model_module_version": "1.5.0",
      "model_name": "DescriptionStyleModel",
      "state": {
       "description_width": ""
      }
     },
     "daa4ca252c6445ec83fd6bfde480b580": {
      "model_module": "@jupyter-widgets/base",
      "model_module_version": "1.2.0",
      "model_name": "LayoutModel",
      "state": {}
     },
     "dab0033f60544fb6b3488d3af0e9ea54": {
      "model_module": "@jupyter-widgets/base",
      "model_module_version": "1.2.0",
      "model_name": "LayoutModel",
      "state": {
       "width": "65%"
      }
     },
     "dab0109148e447378dc3877287a0d3e7": {
      "model_module": "@jupyter-widgets/base",
      "model_module_version": "1.2.0",
      "model_name": "LayoutModel",
      "state": {
       "width": "auto"
      }
     },
     "daf778da288a4651959b9e9aeb125c92": {
      "model_module": "@jupyter-widgets/controls",
      "model_module_version": "1.5.0",
      "model_name": "DescriptionStyleModel",
      "state": {
       "description_width": ""
      }
     },
     "db078d7efa6041259d0274314ddbaab1": {
      "model_module": "@jupyter-widgets/base",
      "model_module_version": "1.2.0",
      "model_name": "LayoutModel",
      "state": {
       "width": "155px"
      }
     },
     "db1a51e6de3342c0aaa440bda10b9604": {
      "model_module": "@jupyter-widgets/controls",
      "model_module_version": "1.5.0",
      "model_name": "ButtonStyleModel",
      "state": {}
     },
     "db2efe5625d8407f9f72d416c11a2e1a": {
      "model_module": "@jupyter-widgets/base",
      "model_module_version": "1.2.0",
      "model_name": "LayoutModel",
      "state": {
       "align_items": "center",
       "display": "flex",
       "flex_flow": "row",
       "width": "100%"
      }
     },
     "db51a326d16c4c9997d98e16f4ac2f45": {
      "model_module": "@jupyter-widgets/controls",
      "model_module_version": "1.5.0",
      "model_name": "HTMLModel",
      "state": {
       "layout": "IPY_MODEL_c1151151983244bbbbe567c97bedeec5",
       "style": "IPY_MODEL_d61cb4fdb45d4e10a4e32edda2939843",
       "value": "Dropout_rate:"
      }
     },
     "db98263b0ccc4b17b6a7814c6e119773": {
      "model_module": "@jupyter-widgets/controls",
      "model_module_version": "1.5.0",
      "model_name": "HTMLModel",
      "state": {
       "layout": "IPY_MODEL_7fe2c24129af4266a89789b009c83cb6",
       "style": "IPY_MODEL_876e652f7861461ab8fc6b3496972701",
       "value": "Max_bins:"
      }
     },
     "dba47c346fc048c3a95b1912c049a23c": {
      "model_module": "@jupyter-widgets/controls",
      "model_module_version": "1.5.0",
      "model_name": "DescriptionStyleModel",
      "state": {
       "description_width": ""
      }
     },
     "dbab9089e9fe44a88d59f93853578042": {
      "model_module": "@jupyter-widgets/controls",
      "model_module_version": "1.5.0",
      "model_name": "BoxModel",
      "state": {
       "_dom_classes": [
        "inner-card"
       ],
       "children": [
        "IPY_MODEL_e22574e22f4e43898188a426c7acbc80",
        "IPY_MODEL_a4b037f4b0964d51bc4ef51a4d1b6a2a",
        "IPY_MODEL_87f99b10945c455b9aa674847347fc57"
       ],
       "layout": "IPY_MODEL_2b106a8b4be74f1aa8bddbca961fa36c"
      }
     },
     "dbd37c6b33be478ea7dd5df60f4655e1": {
      "model_module": "@jupyter-widgets/base",
      "model_module_version": "1.2.0",
      "model_name": "LayoutModel",
      "state": {
       "width": "15%"
      }
     },
     "dbd65f330f774780bba317435760a435": {
      "model_module": "@jupyter-widgets/controls",
      "model_module_version": "1.5.0",
      "model_name": "DescriptionStyleModel",
      "state": {
       "description_width": ""
      }
     },
     "dc1c679aece9436eb877b840635937b9": {
      "model_module": "@jupyter-widgets/base",
      "model_module_version": "1.2.0",
      "model_name": "LayoutModel",
      "state": {
       "width": "65%"
      }
     },
     "dc745e02af9b4d809c4306e540d3c0df": {
      "model_module": "@jupyter-widgets/controls",
      "model_module_version": "1.5.0",
      "model_name": "HTMLModel",
      "state": {
       "layout": "IPY_MODEL_bd32ada5271a4d2dad33f2277967f8e0",
       "style": "IPY_MODEL_19c0b0ad632f41b39cbdd68e13755c0d",
       "value": "Max_epochs:"
      }
     },
     "dcd54fff3c5b488b8df8cf6cc340d519": {
      "model_module": "@jupyter-widgets/base",
      "model_module_version": "1.2.0",
      "model_name": "LayoutModel",
      "state": {
       "width": "auto"
      }
     },
     "dd14efc4dfda494b83fc01b3143404f8": {
      "model_module": "@jupyter-widgets/controls",
      "model_module_version": "1.5.0",
      "model_name": "ButtonModel",
      "state": {
       "_dom_classes": [
        "pbtn"
       ],
       "button_style": "danger",
       "icon": "history",
       "layout": "IPY_MODEL_af2c65b87660449a8ae67d41520a99e7",
       "style": "IPY_MODEL_4fcfcd70a4834b4684bbe42b8ef80208"
      }
     },
     "dd7296293a914ca9a9ce1cde49f0a416": {
      "model_module": "@jupyter-widgets/controls",
      "model_module_version": "1.5.0",
      "model_name": "DescriptionStyleModel",
      "state": {
       "description_width": ""
      }
     },
     "dd85aae4a6424898a54be5ecd20595e5": {
      "model_module": "@jupyter-widgets/base",
      "model_module_version": "1.2.0",
      "model_name": "LayoutModel",
      "state": {
       "width": "100%"
      }
     },
     "dd8e4d2dc5d24b86bde0c0a806b13ac7": {
      "model_module": "@jupyter-widgets/base",
      "model_module_version": "1.2.0",
      "model_name": "LayoutModel",
      "state": {}
     },
     "ddaade8a25bf4f2a806782a88a8b5545": {
      "model_module": "@jupyter-widgets/base",
      "model_module_version": "1.2.0",
      "model_name": "LayoutModel",
      "state": {}
     },
     "ddcffec206d541739c86a9c14adfc39b": {
      "model_module": "@jupyter-widgets/controls",
      "model_module_version": "1.5.0",
      "model_name": "VBoxModel",
      "state": {
       "children": [
        "IPY_MODEL_5dcfa0f744ba42429b2ad51b30f299e9",
        "IPY_MODEL_6283ed0a304e43148219c577de847ed0"
       ],
       "layout": "IPY_MODEL_86ea99be51f64dfc8c0a97bcaab67c64"
      }
     },
     "ddf13a72cb8e4126b839ee634f83bdf8": {
      "model_module": "@jupyter-widgets/controls",
      "model_module_version": "1.5.0",
      "model_name": "HTMLModel",
      "state": {
       "layout": "IPY_MODEL_2a19d7092a7947159b0165493f54a566",
       "style": "IPY_MODEL_67d7c52fe6e7425f97a057a366ccf49c",
       "value": "Reference:"
      }
     },
     "de3d9656df9f4763ab1131174c33b82b": {
      "model_module": "@jupyter-widgets/controls",
      "model_module_version": "1.5.0",
      "model_name": "DescriptionStyleModel",
      "state": {
       "description_width": ""
      }
     },
     "de43619e463a49f185b8df53c5ec6d2b": {
      "model_module": "@jupyter-widgets/base",
      "model_module_version": "1.2.0",
      "model_name": "LayoutModel",
      "state": {}
     },
     "de78e1a6960f4674b81cd2c80d12352e": {
      "model_module": "@jupyter-widgets/controls",
      "model_module_version": "1.5.0",
      "model_name": "DescriptionStyleModel",
      "state": {
       "description_width": "initial"
      }
     },
     "de88889f1f2345cb94187cdbe33c42af": {
      "model_module": "@jupyter-widgets/base",
      "model_module_version": "1.2.0",
      "model_name": "LayoutModel",
      "state": {
       "width": "auto"
      }
     },
     "deb11cf266a5491db66f76e9c4c1e720": {
      "model_module": "@jupyter-widgets/controls",
      "model_module_version": "1.5.0",
      "model_name": "HTMLModel",
      "state": {
       "layout": "IPY_MODEL_e605c2dae9a14e01864a99a5f0bbce6a",
       "style": "IPY_MODEL_6b953a21784f4731a4cb327a39726199",
       "value": "\n        <table class='ptable striped'>\n            <thead class='pthead'>\n                <tr class='ptr'>\n                    <th class='pth'></th><th class='pth'>Model</th><th class='pth'>test_ACC</th><th class='pth'>test_AUC</th><th class='pth'>test_F1</th><th class='pth'>train_ACC</th><th class='pth'>train_AUC</th><th class='pth'>train_F1</th><th class='pth'>Time</th>\n                </tr>\n            </thead>\n\n            <tbody class='ptbody'>\n                <tr class='ptr'><td class='ptd'>0</td><td class='ptd'>XGB2</td><td class='ptd'>0.8495</td><td class='ptd'>0.8480</td><td class='ptd'>0.5979</td><td class='ptd'>0.8551</td><td class='ptd'>0.8549</td><td class='ptd'>0.6134</td><td class='ptd'>0.9</td></tr>\n            </tbody>\n        </table>\n        "
      }
     },
     "dedce80365c44900a38e3dd7882635ea": {
      "model_module": "@jupyter-widgets/controls",
      "model_module_version": "1.5.0",
      "model_name": "BoxModel",
      "state": {
       "_dom_classes": [
        "inner-card"
       ],
       "children": [
        "IPY_MODEL_cd46fc72c9734460b4c39b61f94763f1",
        "IPY_MODEL_2dfc820b90ed4682b69ac055776bfd1e",
        "IPY_MODEL_d38b7c875022463f88787dcffc58a90d"
       ],
       "layout": "IPY_MODEL_b68402c8bf364acdb3fa51eff079b297"
      }
     },
     "dee8b6bdd0514605a1ba5d2e5b1c9c96": {
      "model_module": "@jupyter-widgets/base",
      "model_module_version": "1.2.0",
      "model_name": "LayoutModel",
      "state": {
       "width": "auto"
      }
     },
     "df21af2906f44114ada6cd68312f5867": {
      "model_module": "@jupyter-widgets/controls",
      "model_module_version": "1.5.0",
      "model_name": "ButtonStyleModel",
      "state": {}
     },
     "df4c9bfbfcba452e907bcc6d5dfe09d5": {
      "model_module": "@jupyter-widgets/controls",
      "model_module_version": "1.5.0",
      "model_name": "DescriptionStyleModel",
      "state": {
       "description_width": "initial"
      }
     },
     "df98569f8e9a4f669ad55c0a3a02a274": {
      "model_module": "@jupyter-widgets/controls",
      "model_module_version": "1.5.0",
      "model_name": "HTMLModel",
      "state": {
       "layout": "IPY_MODEL_2a386851387a42b0ae791b49a9a50d3a",
       "style": "IPY_MODEL_98a1a56520b049e297c88cee3abf8436",
       "value": "\n        <table class='ptable striped'>\n            <thead class='pthead'>\n            </thead>\n\n            <tbody class='ptbody'>\n                <tr class='ptr'><td class='ptd'>Excluded columns</td><td class='ptd'>['Minority', 'Majority', 'Age >= 62', 'Age < 62']</td></tr><tr class='ptr'><td class='ptd'>Target variable</td><td class='ptd'>Label</td></tr><tr class='ptr'><td class='ptd'>Sample weight</td><td class='ptd'>None</td></tr><tr class='ptr'><td class='ptd'>Task type</td><td class='ptd'>Classification</td></tr><tr class='ptr'><td class='ptd'>Split method</td><td class='ptd'>Random</td></tr><tr class='ptr'><td class='ptd'>Test ratio</td><td class='ptd'>0.2</td></tr><tr class='ptr'><td class='ptd'>Random state</td><td class='ptd'>0</td></tr>\n            </tbody>\n        </table>\n        "
      }
     },
     "df9bdb50b9d9463ca0b8fd15533dc0bf": {
      "model_module": "@jupyter-widgets/controls",
      "model_module_version": "1.5.0",
      "model_name": "HTMLModel",
      "state": {
       "layout": "IPY_MODEL_f929b7796f484aecbc0deda88782439b",
       "style": "IPY_MODEL_cbfcb0ca206e4b75917d22ffcc9a645f",
       "value": "reg_lambda:"
      }
     },
     "dfb886dbdfcf48bc8e6c8f3e50726565": {
      "model_module": "@jupyter-widgets/controls",
      "model_module_version": "1.5.0",
      "model_name": "DescriptionStyleModel",
      "state": {
       "description_width": "initial"
      }
     },
     "dfdcd9e9442d4bcea41bba91e26cf301": {
      "model_module": "@jupyter-widgets/controls",
      "model_module_version": "1.5.0",
      "model_name": "DescriptionStyleModel",
      "state": {
       "description_width": ""
      }
     },
     "e04ad7704b7b4feb8517c7d20ebc5d19": {
      "model_module": "@jupyter-widgets/controls",
      "model_module_version": "1.5.0",
      "model_name": "DescriptionStyleModel",
      "state": {
       "description_width": ""
      }
     },
     "e0bff9d00481446d856f350813e21034": {
      "model_module": "@jupyter-widgets/controls",
      "model_module_version": "1.5.0",
      "model_name": "DescriptionStyleModel",
      "state": {
       "description_width": ""
      }
     },
     "e0e7325719544a0c99287a791608aae1": {
      "model_module": "@jupyter-widgets/controls",
      "model_module_version": "1.5.0",
      "model_name": "HTMLModel",
      "state": {
       "layout": "IPY_MODEL_642a52e1f85f46d6985e56ce5b4245b4",
       "style": "IPY_MODEL_9df01d6952df47ea97c98380d81bcada",
       "value": "Protected Weight:"
      }
     },
     "e0f6c0ae6ea6400bbbdafd6db3d2e875": {
      "model_module": "@jupyter-widgets/base",
      "model_module_version": "1.2.0",
      "model_name": "LayoutModel",
      "state": {
       "width": "auto"
      }
     },
     "e0f8b1968e684ee390d3dce63b4339d3": {
      "model_module": "@jupyter-widgets/controls",
      "model_module_version": "1.5.0",
      "model_name": "HTMLModel",
      "state": {
       "layout": "IPY_MODEL_b6a6758bbc8545d9863a524d4c6968b6",
       "style": "IPY_MODEL_5e0a8e0d47d644578bb129523e494219",
       "value": "<div class='divider'></div>"
      }
     },
     "e13b738179ed44aba08367cc493439c3": {
      "model_module": "@jupyter-widgets/controls",
      "model_module_version": "1.5.0",
      "model_name": "DescriptionStyleModel",
      "state": {
       "description_width": "initial"
      }
     },
     "e1457b0a47f64f8392c2211a189c7b85": {
      "model_module": "@jupyter-widgets/base",
      "model_module_version": "1.2.0",
      "model_name": "LayoutModel",
      "state": {
       "width": "auto"
      }
     },
     "e14d6da3d839407985dfaf480c55036c": {
      "model_module": "@jupyter-widgets/controls",
      "model_module_version": "1.5.0",
      "model_name": "DescriptionStyleModel",
      "state": {
       "description_width": ""
      }
     },
     "e17f4fa4c5da41289f4fc36ade01f0b2": {
      "model_module": "@jupyter-widgets/base",
      "model_module_version": "1.2.0",
      "model_name": "LayoutModel",
      "state": {}
     },
     "e190c3d1ee3545a6bad0eb94d6ef5596": {
      "model_module": "@jupyter-widgets/controls",
      "model_module_version": "1.5.0",
      "model_name": "HTMLModel",
      "state": {
       "layout": "IPY_MODEL_3470838ce70f48c9b7c129d8227f4f81",
       "style": "IPY_MODEL_64b7f4166eb14536b6146da1fdb74946",
       "value": "Max_epochs:"
      }
     },
     "e1a828e998ea45139a505d5c95623508": {
      "model_module": "@jupyter-widgets/controls",
      "model_module_version": "1.5.0",
      "model_name": "DescriptionStyleModel",
      "state": {
       "description_width": ""
      }
     },
     "e1ecbbe9dbbb45c5b74eb69c1b866d79": {
      "model_module": "@jupyter-widgets/base",
      "model_module_version": "1.2.0",
      "model_name": "LayoutModel",
      "state": {}
     },
     "e209e3e2e3b1495aae0e2281889e1182": {
      "model_module": "@jupyter-widgets/base",
      "model_module_version": "1.2.0",
      "model_name": "LayoutModel",
      "state": {
       "width": "70px"
      }
     },
     "e22574e22f4e43898188a426c7acbc80": {
      "model_module": "@jupyter-widgets/controls",
      "model_module_version": "1.5.0",
      "model_name": "HBoxModel",
      "state": {
       "children": [
        "IPY_MODEL_e3a1a368a812407e998c44551dfcba51",
        "IPY_MODEL_f70d0e68f6ec4ab29d81a5b57729da93"
       ],
       "layout": "IPY_MODEL_fa9afc3845f44874af88477465486711"
      }
     },
     "e2852f7d90e34a1b994c67831fb7705f": {
      "model_module": "@jupyter-widgets/base",
      "model_module_version": "1.2.0",
      "model_name": "LayoutModel",
      "state": {
       "height": "25px",
       "width": "35px"
      }
     },
     "e2e4822abc624dd9aa80cdab28c4112d": {
      "model_module": "@jupyter-widgets/base",
      "model_module_version": "1.2.0",
      "model_name": "LayoutModel",
      "state": {
       "width": "155px"
      }
     },
     "e3513ae6c5204a9db43dee2eeb41e297": {
      "model_module": "@jupyter-widgets/controls",
      "model_module_version": "1.5.0",
      "model_name": "SliderStyleModel",
      "state": {
       "description_width": ""
      }
     },
     "e3844af2e8914b3dbd050b9e52592c5a": {
      "model_module": "@jupyter-widgets/controls",
      "model_module_version": "1.5.0",
      "model_name": "HTMLModel",
      "state": {
       "layout": "IPY_MODEL_c733de35ccbb406486abdc309d4433b1",
       "style": "IPY_MODEL_dd7296293a914ca9a9ce1cde49f0a416",
       "value": "Max_interaction_bins:"
      }
     },
     "e3a1a368a812407e998c44551dfcba51": {
      "model_module": "@jupyter-widgets/controls",
      "model_module_version": "1.5.0",
      "model_name": "BoxModel",
      "state": {
       "children": [
        "IPY_MODEL_70eb0699cb7a48688602173f2e42a009"
       ],
       "layout": "IPY_MODEL_0de76b0c5f3440419eb6fbf86d51a9a9"
      }
     },
     "e3d112812d004d2883fb65cd7d9abd35": {
      "model_module": "@jupyter-widgets/base",
      "model_module_version": "1.2.0",
      "model_name": "LayoutModel",
      "state": {
       "align_items": "center",
       "display": "flex",
       "flex_flow": "column",
       "width": "99%"
      }
     },
     "e3d39bc194d1499c9fcc3a6bb86564bb": {
      "model_module": "@jupyter-widgets/controls",
      "model_module_version": "1.5.0",
      "model_name": "HTMLModel",
      "state": {
       "layout": "IPY_MODEL_905a06d6c7f44110801bdfa5d3bc062a",
       "style": "IPY_MODEL_27bb919b1fd249e6afa7cb95086ac971",
       "value": "Max_iterations:"
      }
     },
     "e3f1e429368747b0a91c71fec829a660": {
      "model_module": "@jupyter-widgets/output",
      "model_module_version": "1.0.0",
      "model_name": "OutputModel",
      "state": {
       "layout": "IPY_MODEL_c3597504ee1041b2a2fedcc634401f04",
       "outputs": [
        {
         "data": {
          "application/vnd.jupyter.widget-view+json": {
           "model_id": "5359f388d2cc47e0a6df52949bdf646a",
           "version_major": 2,
           "version_minor": 0
          },
          "text/plain": "HTML(value=\"\\n        <table class='ptable striped'>\\n            <thead class='pthead'>\\n                <tr …"
         },
         "metadata": {},
         "output_type": "display_data"
        }
       ]
      }
     },
     "e3f2c62b714b4bb6ab6376a0dd4bc3c2": {
      "model_module": "@jupyter-widgets/base",
      "model_module_version": "1.2.0",
      "model_name": "LayoutModel",
      "state": {}
     },
     "e40d2cb51176408894722c7beba2782a": {
      "model_module": "@jupyter-widgets/controls",
      "model_module_version": "1.5.0",
      "model_name": "VBoxModel",
      "state": {
       "children": [
        "IPY_MODEL_b62d7ac7665f4a72834b592f8daa42b2",
        "IPY_MODEL_d398313a081e4bb5ae445af9c79ff32b",
        "IPY_MODEL_f46f293a56f044e0a5f433d8cb9b095b",
        "IPY_MODEL_69de08b886b9478ca4ac47ce3653a801",
        "IPY_MODEL_e3844af2e8914b3dbd050b9e52592c5a",
        "IPY_MODEL_351147870e5e43d782ca98fa3d197d44",
        "IPY_MODEL_ad74737e16d346a0b6ede2c0b7cae210",
        "IPY_MODEL_144f7dc8434d4f018da463fa133bc392",
        "IPY_MODEL_c7f67e7b4662481b8b7063e0d8d48681"
       ],
       "layout": "IPY_MODEL_3ec8e70df4eb468d9ce948704fcb877f"
      }
     },
     "e4104ca803194203b4499c1221734dad": {
      "model_module": "@jupyter-widgets/base",
      "model_module_version": "1.2.0",
      "model_name": "LayoutModel",
      "state": {}
     },
     "e4be78ed0ee14e55a9601329fa289c54": {
      "model_module": "@jupyter-widgets/controls",
      "model_module_version": "1.5.0",
      "model_name": "HBoxModel",
      "state": {
       "children": [
        "IPY_MODEL_5f5fa092a62d4bc993148926c2217424",
        "IPY_MODEL_eb8ccb637e804787b63a682a686deeb1"
       ],
       "layout": "IPY_MODEL_d82f6a71136b4ec182f6f98bfd486f44"
      }
     },
     "e4ce777395084f0e983d59c2c6593e7b": {
      "model_module": "@jupyter-widgets/controls",
      "model_module_version": "1.5.0",
      "model_name": "DescriptionStyleModel",
      "state": {
       "description_width": "initial"
      }
     },
     "e5062d52067643fbb6e4610d01a8cfc8": {
      "model_module": "@jupyter-widgets/controls",
      "model_module_version": "1.5.0",
      "model_name": "DescriptionStyleModel",
      "state": {
       "description_width": ""
      }
     },
     "e52db44a0af8462b8f8d99274cb94bf1": {
      "model_module": "@jupyter-widgets/controls",
      "model_module_version": "1.5.0",
      "model_name": "DropdownModel",
      "state": {
       "_options_labels": [
        "Select Model",
        "XGB2"
       ],
       "index": 1,
       "layout": "IPY_MODEL_f00dc516f420465f979e733552f7306c",
       "style": "IPY_MODEL_c8519d13060d4858928c82482fa03b95"
      }
     },
     "e542745528d0495380eb6c91a62b3bbc": {
      "model_module": "@jupyter-widgets/controls",
      "model_module_version": "1.5.0",
      "model_name": "HTMLModel",
      "state": {
       "layout": "IPY_MODEL_40c068edec93433c83331a3dc6abbdac",
       "style": "IPY_MODEL_91ce20b1acd44e5fb3f6601a42456192",
       "value": "<div class='divider'></div>"
      }
     },
     "e55e0a22ff0e4f6e844a8f175ed4153e": {
      "model_module": "@jupyter-widgets/controls",
      "model_module_version": "1.5.0",
      "model_name": "DescriptionStyleModel",
      "state": {
       "description_width": "initial"
      }
     },
     "e5a074d3fd0e42f78f1a433aeebec18b": {
      "model_module": "@jupyter-widgets/controls",
      "model_module_version": "1.5.0",
      "model_name": "DescriptionStyleModel",
      "state": {
       "description_width": ""
      }
     },
     "e5c6f76735d943b4ab6e71c4f81343bf": {
      "model_module": "@jupyter-widgets/controls",
      "model_module_version": "1.5.0",
      "model_name": "DescriptionStyleModel",
      "state": {
       "description_width": "initial"
      }
     },
     "e605c2dae9a14e01864a99a5f0bbce6a": {
      "model_module": "@jupyter-widgets/base",
      "model_module_version": "1.2.0",
      "model_name": "LayoutModel",
      "state": {}
     },
     "e6241ea252574716947455de57fc245f": {
      "model_module": "@jupyter-widgets/base",
      "model_module_version": "1.2.0",
      "model_name": "LayoutModel",
      "state": {
       "width": "155px"
      }
     },
     "e62ffc9a481844ee900df6b10e999494": {
      "model_module": "@jupyter-widgets/base",
      "model_module_version": "1.2.0",
      "model_name": "LayoutModel",
      "state": {}
     },
     "e63b785a70714bf69157335925352985": {
      "model_module": "@jupyter-widgets/base",
      "model_module_version": "1.2.0",
      "model_name": "LayoutModel",
      "state": {}
     },
     "e6415eb3b04640eaad245f65a62c7d9d": {
      "model_module": "@jupyter-widgets/base",
      "model_module_version": "1.2.0",
      "model_name": "LayoutModel",
      "state": {
       "width": "auto"
      }
     },
     "e66499f5b1a84849b5df2d1261b332fa": {
      "model_module": "@jupyter-widgets/controls",
      "model_module_version": "1.5.0",
      "model_name": "HTMLModel",
      "state": {
       "layout": "IPY_MODEL_c1ba777f54b14bf5a47a1179d7e07e0a",
       "style": "IPY_MODEL_eb55b1e474da471e9f274c690f2edfc6",
       "value": "Model name:"
      }
     },
     "e6bbde1abe144512945298be0284c241": {
      "model_module": "@jupyter-widgets/base",
      "model_module_version": "1.2.0",
      "model_name": "LayoutModel",
      "state": {}
     },
     "e6bc9440ef544293bd7ebda0817ffe91": {
      "model_module": "@jupyter-widgets/controls",
      "model_module_version": "1.5.0",
      "model_name": "CheckboxModel",
      "state": {
       "description": "GAMI-Net",
       "disabled": false,
       "indent": false,
       "layout": "IPY_MODEL_15f81083b0b442f7bc03f72ed2506148",
       "style": "IPY_MODEL_8e65520bef4846e78bdf8478389bf044",
       "value": false
      }
     },
     "e6ddb0180bf049f08b195de004154b6e": {
      "model_module": "@jupyter-widgets/controls",
      "model_module_version": "1.5.0",
      "model_name": "DescriptionStyleModel",
      "state": {
       "description_width": "initial"
      }
     },
     "e6de807919f744d693789961ccb87a76": {
      "model_module": "@jupyter-widgets/controls",
      "model_module_version": "1.5.0",
      "model_name": "VBoxModel",
      "state": {
       "children": [
        "IPY_MODEL_1ae9a5b6ec0141d9a258c7bb76099c63",
        "IPY_MODEL_9a71022d29ca4e819e78f36462137333",
        "IPY_MODEL_0078f1e290c54b39bfd609ef239ec66a",
        "IPY_MODEL_febcafc3c1c84ae28f3c35f9fcee1c8b"
       ],
       "layout": "IPY_MODEL_e6241ea252574716947455de57fc245f"
      }
     },
     "e6f6889063c84f46bc2691f8eb5cc3b6": {
      "model_module": "@jupyter-widgets/base",
      "model_module_version": "1.2.0",
      "model_name": "LayoutModel",
      "state": {}
     },
     "e7005a7624714418a1e04ab4067ba98f": {
      "model_module": "@jupyter-widgets/controls",
      "model_module_version": "1.5.0",
      "model_name": "HTMLModel",
      "state": {
       "layout": "IPY_MODEL_4a666ed4f28d4cac9ffb0017b5f8c065",
       "style": "IPY_MODEL_ca3c5e91498f404282d78553a55a36e5",
       "value": "<div class='divider'></div>"
      }
     },
     "e706981837124f41b5abb97b97dc7a68": {
      "model_module": "@jupyter-widgets/controls",
      "model_module_version": "1.5.0",
      "model_name": "DescriptionStyleModel",
      "state": {
       "description_width": "initial"
      }
     },
     "e70ff42945c944af8885de0b987ab8ce": {
      "model_module": "@jupyter-widgets/controls",
      "model_module_version": "1.5.0",
      "model_name": "HTMLModel",
      "state": {
       "layout": "IPY_MODEL_661ad70eabcc470dbb69c8f90a6b37bd",
       "style": "IPY_MODEL_0e762edc237843a8a219de5f4e9cb6ff",
       "value": "Max_iterations:"
      }
     },
     "e710db9a95954d96b79d3395dc778172": {
      "model_module": "@jupyter-widgets/controls",
      "model_module_version": "1.5.0",
      "model_name": "DescriptionStyleModel",
      "state": {
       "description_width": ""
      }
     },
     "e71f3f5583a14017ad07003370ffdfec": {
      "model_module": "@jupyter-widgets/base",
      "model_module_version": "1.2.0",
      "model_name": "LayoutModel",
      "state": {}
     },
     "e7367c0f549e46efb3936a58051182bc": {
      "model_module": "@jupyter-widgets/controls",
      "model_module_version": "1.5.0",
      "model_name": "HTMLModel",
      "state": {
       "layout": "IPY_MODEL_1bf0fc0be14f4904b4cac265331bebaa",
       "style": "IPY_MODEL_c614c4f2e55c45d5a456c582e6db0cd7",
       "value": "Protected:"
      }
     },
     "e740a185fcf34affa07eaa190d6ce4b9": {
      "model_module": "@jupyter-widgets/base",
      "model_module_version": "1.2.0",
      "model_name": "LayoutModel",
      "state": {
       "width": "auto"
      }
     },
     "e743f6795cc14ac4803841933321951e": {
      "model_module": "@jupyter-widgets/controls",
      "model_module_version": "1.5.0",
      "model_name": "DescriptionStyleModel",
      "state": {
       "description_width": ""
      }
     },
     "e762146946584adda4cfce5515597b5a": {
      "model_module": "@jupyter-widgets/base",
      "model_module_version": "1.2.0",
      "model_name": "LayoutModel",
      "state": {
       "width": "120px"
      }
     },
     "e7678841457e4970aaa9688ac38c2869": {
      "model_module": "@jupyter-widgets/controls",
      "model_module_version": "1.5.0",
      "model_name": "VBoxModel",
      "state": {
       "children": [
        "IPY_MODEL_558eb00f76664453bec70ff016fb14f8",
        "IPY_MODEL_11e62cbf794d4914a25c29804ea692d7"
       ],
       "layout": "IPY_MODEL_393d7655922b4a99aa12f5ddc55a254a"
      }
     },
     "e79adccfbb024dba9dbc5d7a14829956": {
      "model_module": "@jupyter-widgets/base",
      "model_module_version": "1.2.0",
      "model_name": "LayoutModel",
      "state": {}
     },
     "e7ab9c7520ec4955ac2eb538bf383a52": {
      "model_module": "@jupyter-widgets/controls",
      "model_module_version": "1.5.0",
      "model_name": "ButtonStyleModel",
      "state": {}
     },
     "e7b44c35d7854a6ebedb630331770666": {
      "model_module": "@jupyter-widgets/base",
      "model_module_version": "1.2.0",
      "model_name": "LayoutModel",
      "state": {
       "width": "155px"
      }
     },
     "e7c385ebca1a4777ad3e2f44c35fdfd0": {
      "model_module": "@jupyter-widgets/base",
      "model_module_version": "1.2.0",
      "model_name": "LayoutModel",
      "state": {}
     },
     "e82427201b574251a00421b84c16b5bd": {
      "model_module": "@jupyter-widgets/controls",
      "model_module_version": "1.5.0",
      "model_name": "BoundedFloatTextModel",
      "state": {
       "layout": "IPY_MODEL_904ddd7c499245f2a7af2d744ec17650",
       "max": 10,
       "step": null,
       "style": "IPY_MODEL_ba889d879d004f97993b763647c2db5e"
      }
     },
     "e8565ec5d2a7441fb1710457abb9249a": {
      "model_module": "@jupyter-widgets/base",
      "model_module_version": "1.2.0",
      "model_name": "LayoutModel",
      "state": {}
     },
     "e8616e02f497489dba122a00653a211e": {
      "model_module": "@jupyter-widgets/controls",
      "model_module_version": "1.5.0",
      "model_name": "ButtonStyleModel",
      "state": {}
     },
     "e870f3f07f0545cdb3843bcb82670966": {
      "model_module": "@jupyter-widgets/base",
      "model_module_version": "1.2.0",
      "model_name": "LayoutModel",
      "state": {}
     },
     "e8743c39f1e94f71856ef001a2b69675": {
      "model_module": "@jupyter-widgets/base",
      "model_module_version": "1.2.0",
      "model_name": "LayoutModel",
      "state": {}
     },
     "e885220d461f4e4c80de5881761c81bf": {
      "model_module": "@jupyter-widgets/controls",
      "model_module_version": "1.5.0",
      "model_name": "HBoxModel",
      "state": {
       "children": [
        "IPY_MODEL_38bbb0d4761d4b39898f314606aa28bf",
        "IPY_MODEL_951bfb266f524fc9ab43ecb4512e6cae"
       ],
       "layout": "IPY_MODEL_1ee882f38dc944e5b6d57a1f0f407368"
      }
     },
     "e8a46556c57346cfbd326cddb47269f3": {
      "model_module": "@jupyter-widgets/controls",
      "model_module_version": "1.5.0",
      "model_name": "HTMLModel",
      "state": {
       "layout": "IPY_MODEL_6f35729cfa8e45218239c61709381ae2",
       "style": "IPY_MODEL_6c73135d29c6447aa21cdcd90d1ac42d",
       "value": "<div class='divider'></div>"
      }
     },
     "e8acae17e327400f81c78c6f361d722f": {
      "model_module": "@jupyter-widgets/controls",
      "model_module_version": "1.5.0",
      "model_name": "HTMLModel",
      "state": {
       "layout": "IPY_MODEL_11ca4e4c9aca42ec8843c7d48fd3e367",
       "style": "IPY_MODEL_bb92cd32d238432c92da137c69628433",
       "value": "Feature_increasing:"
      }
     },
     "e8b6e3782d9e41438d1d6dd1e5ebf40c": {
      "model_module": "@jupyter-widgets/controls",
      "model_module_version": "1.5.0",
      "model_name": "VBoxModel",
      "state": {
       "children": [
        "IPY_MODEL_6ca328a2ac1f43e289c1027468487bdc",
        "IPY_MODEL_65f8d27f9cf343ca8b89ce62d9af545b",
        "IPY_MODEL_f56fc6eba1a64a238edb0e02fe5bae1a",
        "IPY_MODEL_b53d2335686643b0918cf694cda2b2d1",
        "IPY_MODEL_a93c3ba80cb14aa28ee2d3900fc9ed8a",
        "IPY_MODEL_80de5dcd08aa45f1b835afad8c2b113a",
        "IPY_MODEL_9ee053aaedf14d43b1886a26f763d51b",
        "IPY_MODEL_510a9dc3272e41a4920b0304b6ec2de4"
       ],
       "layout": "IPY_MODEL_a8b339051ac140889a48623c0c33b662"
      }
     },
     "e8dbceb8a1b245afa2c467d96034fcab": {
      "model_module": "@jupyter-widgets/controls",
      "model_module_version": "1.5.0",
      "model_name": "DescriptionStyleModel",
      "state": {
       "description_width": ""
      }
     },
     "e8e1e25840f84f809668b16bb26a5471": {
      "model_module": "@jupyter-widgets/controls",
      "model_module_version": "1.5.0",
      "model_name": "DescriptionStyleModel",
      "state": {
       "description_width": ""
      }
     },
     "e8f840d272e54af19662f65a0a04cfae": {
      "model_module": "@jupyter-widgets/base",
      "model_module_version": "1.2.0",
      "model_name": "LayoutModel",
      "state": {
       "align_items": "center",
       "justify_content": "space-between",
       "width": "100%"
      }
     },
     "e8fb7aa8d02d44468759ce24188e2a02": {
      "model_module": "@jupyter-widgets/controls",
      "model_module_version": "1.5.0",
      "model_name": "DescriptionStyleModel",
      "state": {
       "description_width": ""
      }
     },
     "e946ce953a7e431db0fddd46da5081d5": {
      "model_module": "@jupyter-widgets/controls",
      "model_module_version": "1.5.0",
      "model_name": "TabModel",
      "state": {
       "_dom_classes": [
        "data-summary-tab"
       ],
       "_titles": {
        "0": "Numerical Attributes",
        "1": "Categorical Attributes"
       },
       "children": [
        "IPY_MODEL_e3f1e429368747b0a91c71fec829a660",
        "IPY_MODEL_21eb8555108d4d16a3581768c8fcc53c"
       ],
       "layout": "IPY_MODEL_326aeff0895e481392eb5e2bfb8d6953"
      }
     },
     "e9537328001047378c80c317edec5201": {
      "model_module": "@jupyter-widgets/base",
      "model_module_version": "1.2.0",
      "model_name": "LayoutModel",
      "state": {
       "align_items": "center",
       "display": "flex",
       "flex_flow": "row",
       "justify_content": "space-between",
       "width": "100%"
      }
     },
     "e966d0498a2d4f7296def82ee12523c8": {
      "model_module": "@jupyter-widgets/base",
      "model_module_version": "1.2.0",
      "model_name": "LayoutModel",
      "state": {
       "width": "auto"
      }
     },
     "e9721d4d30744975a74ccba9fb96419e": {
      "model_module": "@jupyter-widgets/base",
      "model_module_version": "1.2.0",
      "model_name": "LayoutModel",
      "state": {
       "width": "auto"
      }
     },
     "e997444463a9460c9c57c9f2494a1440": {
      "model_module": "@jupyter-widgets/controls",
      "model_module_version": "1.5.0",
      "model_name": "TextModel",
      "state": {
       "layout": "IPY_MODEL_825ec199ae754ea08750e0e0f27fc922",
       "placeholder": "1e-3, 1e-3, 1e-4",
       "style": "IPY_MODEL_fa51990013df4f6abf699e5124aef615",
       "value": "1e-3, 1e-3, 1e-4"
      }
     },
     "e9da8f0ef0f449288d642fdac5b17a87": {
      "model_module": "@jupyter-widgets/controls",
      "model_module_version": "1.5.0",
      "model_name": "DescriptionStyleModel",
      "state": {
       "description_width": "initial"
      }
     },
     "e9f6e5fbf9b547e5b1bae0c7330327e5": {
      "model_module": "@jupyter-widgets/controls",
      "model_module_version": "1.5.0",
      "model_name": "BoxModel",
      "state": {
       "_dom_classes": [
        "inner-padding"
       ],
       "children": [
        "IPY_MODEL_3ca1962aa8ad4090befe4ab65e8725b4"
       ],
       "layout": "IPY_MODEL_abd5e33de504430897cd9250d3db968e"
      }
     },
     "ea0ea7ee1a5e4524803f593d22246647": {
      "model_module": "@jupyter-widgets/controls",
      "model_module_version": "1.5.0",
      "model_name": "BoxModel",
      "state": {
       "_dom_classes": [
        "inner-card"
       ],
       "children": [
        "IPY_MODEL_fd34840dc6e743059f74d4560678c95d",
        "IPY_MODEL_2766e6833144475b8eda26446d590328",
        "IPY_MODEL_14ae65600dee44e58abdf9a4acc2d1a8"
       ],
       "layout": "IPY_MODEL_53a3353eae1a4990880d412eca69a751"
      }
     },
     "ea313413bcff4162ad7ce97c0f6ffd61": {
      "model_module": "@jupyter-widgets/base",
      "model_module_version": "1.2.0",
      "model_name": "LayoutModel",
      "state": {
       "width": "auto"
      }
     },
     "ea6ce87fcc28494bbd6e87aff630c794": {
      "model_module": "@jupyter-widgets/controls",
      "model_module_version": "1.5.0",
      "model_name": "HTMLModel",
      "state": {
       "layout": "IPY_MODEL_caf6b93e39f841b891b01596dd3a1400",
       "style": "IPY_MODEL_1f6b57ad8f1e424898d97a652aa21012",
       "value": "Model name:"
      }
     },
     "ea96ab43073f49a585205b0e7350fa2d": {
      "model_module": "@jupyter-widgets/controls",
      "model_module_version": "1.5.0",
      "model_name": "ButtonModel",
      "state": {
       "_dom_classes": [
        "pbtn"
       ],
       "button_style": "danger",
       "description": "OK",
       "layout": "IPY_MODEL_daa4ca252c6445ec83fd6bfde480b580",
       "style": "IPY_MODEL_6dd7338acf764873b5ea3afbe4c842ba"
      }
     },
     "ead0ef0bd3914b45ad31c932bdfa0b3b": {
      "model_module": "@jupyter-widgets/base",
      "model_module_version": "1.2.0",
      "model_name": "LayoutModel",
      "state": {
       "width": "auto"
      }
     },
     "eb2784c507324f22a2ef21963ffe1cb9": {
      "model_module": "@jupyter-widgets/controls",
      "model_module_version": "1.5.0",
      "model_name": "TextModel",
      "state": {
       "layout": "IPY_MODEL_92ae31c3927a424bbc025d084f5a3897",
       "placeholder": "[40,40]...",
       "style": "IPY_MODEL_68bbb4d9cb634182871cfcc716a9b71d",
       "value": "[20,20]"
      }
     },
     "eb51a61e5f204ef0ad5591ee228e42a0": {
      "model_module": "@jupyter-widgets/controls",
      "model_module_version": "1.5.0",
      "model_name": "DescriptionStyleModel",
      "state": {
       "description_width": ""
      }
     },
     "eb55b1e474da471e9f274c690f2edfc6": {
      "model_module": "@jupyter-widgets/controls",
      "model_module_version": "1.5.0",
      "model_name": "DescriptionStyleModel",
      "state": {
       "description_width": ""
      }
     },
     "eb891a67f4224777aba8af015f4ee2cf": {
      "model_module": "@jupyter-widgets/controls",
      "model_module_version": "1.5.0",
      "model_name": "BoundedIntTextModel",
      "state": {
       "layout": "IPY_MODEL_3ad5250c2a054166b62d18ced582c127",
       "max": 100000,
       "style": "IPY_MODEL_c7ec56894d9a4dba899a71ab5cc886d1",
       "value": 5000
      }
     },
     "eb8ccb637e804787b63a682a686deeb1": {
      "model_module": "@jupyter-widgets/controls",
      "model_module_version": "1.5.0",
      "model_name": "ButtonModel",
      "state": {
       "_dom_classes": [
        "pbtn"
       ],
       "button_style": "danger",
       "description": "Register",
       "layout": "IPY_MODEL_3fe3d11f82264d2193e1484e74a74d76",
       "style": "IPY_MODEL_01dbbdb5661842d9ab2ad0a003b70dfd"
      }
     },
     "ebaa441f7d48485688f36c8d56d77203": {
      "model_module": "@jupyter-widgets/controls",
      "model_module_version": "1.5.0",
      "model_name": "DescriptionStyleModel",
      "state": {
       "description_width": ""
      }
     },
     "ebd8a56d589e4f56889e6ca99d1ac2c5": {
      "model_module": "@jupyter-widgets/controls",
      "model_module_version": "1.5.0",
      "model_name": "HTMLModel",
      "state": {
       "layout": "IPY_MODEL_80484217e3b24a038f6309835e7c540c",
       "style": "IPY_MODEL_40a50ed07e67408c81d64e2734cc703a",
       "value": "Max_epochs:"
      }
     },
     "ebdf40921ebc44eb949521d995223958": {
      "model_module": "@jupyter-widgets/controls",
      "model_module_version": "1.5.0",
      "model_name": "HTMLModel",
      "state": {
       "layout": "IPY_MODEL_0aea7d7ab6b4436097810b16e90b2fe9",
       "style": "IPY_MODEL_1ecd0195d5de480ea982ded111ac4715",
       "value": "Model name:"
      }
     },
     "ec05c7bdb44f480db1e108be5876720a": {
      "model_module": "@jupyter-widgets/controls",
      "model_module_version": "1.5.0",
      "model_name": "TextModel",
      "state": {
       "layout": "IPY_MODEL_0560240142ac4dbe8107eae1d2123cf1",
       "placeholder": "Input name",
       "style": "IPY_MODEL_1ade729b762f4d058712effd88039b79",
       "value": "GLM"
      }
     },
     "ec60eef197234e5d972ecd6717c9e1c9": {
      "model_module": "@jupyter-widgets/base",
      "model_module_version": "1.2.0",
      "model_name": "LayoutModel",
      "state": {
       "width": "100px"
      }
     },
     "ec8632ea1aae4968ac944e7910737a83": {
      "model_module": "@jupyter-widgets/output",
      "model_module_version": "1.0.0",
      "model_name": "OutputModel",
      "state": {
       "layout": "IPY_MODEL_65b67daa58ea41029de578ba735d391d",
       "outputs": [
        {
         "data": {
          "text/html": "<p class=\"notification info\">Default Data Preparation Done</p>",
          "text/plain": "<IPython.core.display.HTML object>"
         },
         "metadata": {},
         "output_type": "display_data"
        }
       ]
      }
     },
     "ec91032e969d4581902986f1db5f8b88": {
      "model_module": "@jupyter-widgets/base",
      "model_module_version": "1.2.0",
      "model_name": "LayoutModel",
      "state": {
       "width": "auto"
      }
     },
     "ec97bc5ad2b24faa892e01a2e3c88867": {
      "model_module": "@jupyter-widgets/controls",
      "model_module_version": "1.5.0",
      "model_name": "TextModel",
      "state": {
       "layout": "IPY_MODEL_8563f3f42ceb4d4fb8cb4bafd4f5fc43",
       "placeholder": "Input name",
       "style": "IPY_MODEL_fb7b2d40771a477d95644db3db33674c",
       "value": "GAMI-Net"
      }
     },
     "ec99047ff31146e285f17748b064cd2c": {
      "model_module": "@jupyter-widgets/controls",
      "model_module_version": "1.5.0",
      "model_name": "BoundedFloatTextModel",
      "state": {
       "layout": "IPY_MODEL_5cfb8d25ff8b4263a4eca3a4fc95c67a",
       "step": null,
       "style": "IPY_MODEL_94bfbbb8308747c5a67e95f3873ed505"
      }
     },
     "ecd91008f4ef4be386c9bbad51f1b912": {
      "model_module": "@jupyter-widgets/controls",
      "model_module_version": "1.5.0",
      "model_name": "DropdownModel",
      "state": {
       "_options_labels": [
        "By Weights",
        "Segment",
        "x1",
        "x2",
        "x3",
        "x4",
        "x5",
        "Label",
        "Minority",
        "Majority",
        "Age >= 62",
        "Age < 62"
       ],
       "index": 0,
       "layout": "IPY_MODEL_95ca1d2f4c4f4e2fbaabc4f644f61f6f",
       "style": "IPY_MODEL_d01195ff2dd947f69a4f3ef21e723edd"
      }
     },
     "ecef98d1c3904ca58fe46b0e9e84dd8a": {
      "model_module": "@jupyter-widgets/controls",
      "model_module_version": "1.5.0",
      "model_name": "HTMLModel",
      "state": {
       "layout": "IPY_MODEL_357b19d7b8b640a393da35e804084fa9",
       "style": "IPY_MODEL_a7c72eebf88c4e54b06609b4dc664ae5",
       "value": "<p>Test Ratio:</p>"
      }
     },
     "ecfb0ab2c0214e1a91030fb36aafb722": {
      "model_module": "@jupyter-widgets/base",
      "model_module_version": "1.2.0",
      "model_name": "LayoutModel",
      "state": {
       "width": "auto"
      }
     },
     "ed03d6ed136a407caad0fb20c52abfc2": {
      "model_module": "@jupyter-widgets/base",
      "model_module_version": "1.2.0",
      "model_name": "LayoutModel",
      "state": {
       "width": "99%"
      }
     },
     "ed32b6778c7b455d80970a218b82eb53": {
      "model_module": "@jupyter-widgets/controls",
      "model_module_version": "1.5.0",
      "model_name": "DescriptionStyleModel",
      "state": {
       "description_width": ""
      }
     },
     "ed3c18e55e2642a2a6fd7e012549cd47": {
      "model_module": "@jupyter-widgets/base",
      "model_module_version": "1.2.0",
      "model_name": "LayoutModel",
      "state": {}
     },
     "ed6b099ccee7476996310674112ae9f4": {
      "model_module": "@jupyter-widgets/output",
      "model_module_version": "1.0.0",
      "model_name": "OutputModel",
      "state": {
       "layout": "IPY_MODEL_c6a4da0fb9614dcb893d191cbe5a09c5",
       "outputs": [
        {
         "data": {
          "application/vnd.jupyter.widget-view+json": {
           "model_id": "8d070986b4244517b9f44ea405fdb2c7",
           "version_major": 2,
           "version_minor": 0
          },
          "text/plain": "HTML(value=\"\\n        <table class='ptable striped'>\\n            <thead class='pthead'>\\n            </thead>…"
         },
         "metadata": {},
         "output_type": "display_data"
        }
       ]
      }
     },
     "ed6c07f79b8f43ef8625843eafa67072": {
      "model_module": "@jupyter-widgets/controls",
      "model_module_version": "1.5.0",
      "model_name": "DropdownModel",
      "state": {
       "_options_labels": [
        "gini",
        "entropy",
        "log_loss"
       ],
       "index": 0,
       "layout": "IPY_MODEL_b3fc7f95b7094aa193d19eade88f186b",
       "style": "IPY_MODEL_6fb184c39b86488c8f6570a63eac07b7"
      }
     },
     "ed9a2823de1546e680aacf15c0012c9e": {
      "model_module": "@jupyter-widgets/controls",
      "model_module_version": "1.5.0",
      "model_name": "BoxModel",
      "state": {
       "_dom_classes": [
        "inner-card"
       ],
       "children": [
        "IPY_MODEL_7455692ef13c4fcbb62bb45c7a5ac96a"
       ],
       "layout": "IPY_MODEL_d49a8e0aa7d34b56a598ec600fdf7cd2"
      }
     },
     "eda60380c4aa46869a56596ce00538f5": {
      "model_module": "@jupyter-widgets/controls",
      "model_module_version": "1.5.0",
      "model_name": "BoundedFloatTextModel",
      "state": {
       "layout": "IPY_MODEL_e9721d4d30744975a74ccba9fb96419e",
       "max": 1,
       "step": null,
       "style": "IPY_MODEL_c3b054c4042a44c09b87a1f631398219",
       "value": 1e-05
      }
     },
     "edb69902d3af4277acd254148303a9fe": {
      "model_module": "@jupyter-widgets/base",
      "model_module_version": "1.2.0",
      "model_name": "LayoutModel",
      "state": {
       "width": "100%"
      }
     },
     "ede9c9b7b8f74196819e538c813fd391": {
      "model_module": "@jupyter-widgets/base",
      "model_module_version": "1.2.0",
      "model_name": "LayoutModel",
      "state": {}
     },
     "ee542e6283524b1ea760b1934ac1b340": {
      "model_module": "@jupyter-widgets/controls",
      "model_module_version": "1.5.0",
      "model_name": "DescriptionStyleModel",
      "state": {
       "description_width": "initial"
      }
     },
     "ee59399b326643c1a2ba110c5a5f00ad": {
      "model_module": "@jupyter-widgets/controls",
      "model_module_version": "1.5.0",
      "model_name": "VBoxModel",
      "state": {
       "children": [
        "IPY_MODEL_7f511ad761614281953a81587be2250c",
        "IPY_MODEL_234ff23d7fd14a7994dc5401f1a31bfb",
        "IPY_MODEL_c4ff983260c7402e9f5727c9e1a0088b"
       ],
       "layout": "IPY_MODEL_ce2abdddea9349619934ae2b7ee82ea9"
      }
     },
     "ee718607753047a682a03a9c0c80e488": {
      "model_module": "@jupyter-widgets/output",
      "model_module_version": "1.0.0",
      "model_name": "OutputModel",
      "state": {
       "layout": "IPY_MODEL_b45ecfce67d943a2a0e639efed2b35e9",
       "outputs": [
        {
         "data": {
          "application/vnd.jupyter.widget-view+json": {
           "model_id": "23fc7a0aa5884f8fae206c7f5d079e2c",
           "version_major": 2,
           "version_minor": 0
          },
          "text/plain": "HBox(children=(Dropdown(description='Rank Metric:', layout=Layout(width='55%'), options=('ACC', 'AUC', 'F1'), …"
         },
         "metadata": {},
         "output_type": "display_data"
        }
       ]
      }
     },
     "ee8ad12932344d838fa34bba256dcdcb": {
      "model_module": "@jupyter-widgets/controls",
      "model_module_version": "1.5.0",
      "model_name": "DropdownModel",
      "state": {
       "_options_labels": [
        "Select Model"
       ],
       "description": "Model Name:",
       "index": 0,
       "layout": "IPY_MODEL_9efce2cf7ecb4e4c9f1b4a3c2d277975",
       "style": "IPY_MODEL_0dbe97ceb15246dcb521400d2071aef8"
      }
     },
     "ee9b47cb8a334acc9c57a71f6433f34f": {
      "model_module": "@jupyter-widgets/controls",
      "model_module_version": "1.5.0",
      "model_name": "VBoxModel",
      "state": {
       "children": [
        "IPY_MODEL_e7367c0f549e46efb3936a58051182bc"
       ],
       "layout": "IPY_MODEL_e209e3e2e3b1495aae0e2281889e1182"
      }
     },
     "eeaa3215d8414a63bd54ffff901fba97": {
      "model_module": "@jupyter-widgets/base",
      "model_module_version": "1.2.0",
      "model_name": "LayoutModel",
      "state": {
       "width": "155px"
      }
     },
     "eeecdb0d4da74a63ac15d5124d0c99d5": {
      "model_module": "@jupyter-widgets/controls",
      "model_module_version": "1.5.0",
      "model_name": "HTMLModel",
      "state": {
       "layout": "IPY_MODEL_119fad427692461c94b67e699ddc9fe6",
       "style": "IPY_MODEL_daf778da288a4651959b9e9aeb125c92",
       "value": "Model name:"
      }
     },
     "ef2e7862035e49e5a152d945aa032147": {
      "model_module": "@jupyter-widgets/controls",
      "model_module_version": "1.5.0",
      "model_name": "TextModel",
      "state": {
       "layout": "IPY_MODEL_53d2b091e4f24e4a8789015d578927a9",
       "placeholder": "1000, 1000, 1000",
       "style": "IPY_MODEL_75ab153e47914f85a5193dac0592cc07",
       "value": "1000, 1000, 1000"
      }
     },
     "ef680e6e82b44822b3f9c4b5043e3309": {
      "model_module": "@jupyter-widgets/controls",
      "model_module_version": "1.5.0",
      "model_name": "HBoxModel",
      "state": {
       "_dom_classes": [
        "list-item"
       ],
       "children": [
        "IPY_MODEL_aa97f1a35d1b4eb6a01c92c914738639",
        "IPY_MODEL_f2687326f6344072a4cf9f25bfd21334"
       ],
       "layout": "IPY_MODEL_0224d505ad224aba87f3321f7778a31e"
      }
     },
     "ef7455afb0224513a3675a297c3362be": {
      "model_module": "@jupyter-widgets/controls",
      "model_module_version": "1.5.0",
      "model_name": "DescriptionStyleModel",
      "state": {
       "description_width": ""
      }
     },
     "ef8946fa0d344ba1bb476603233a0acc": {
      "model_module": "@jupyter-widgets/base",
      "model_module_version": "1.2.0",
      "model_name": "LayoutModel",
      "state": {}
     },
     "efa3dc2909a8438bafddc015e3ed5dd1": {
      "model_module": "@jupyter-widgets/base",
      "model_module_version": "1.2.0",
      "model_name": "LayoutModel",
      "state": {
       "display": "flex",
       "flex_flow": "column",
       "width": "auto"
      }
     },
     "efafdd683bc245099d0cc80a91bb3bac": {
      "model_module": "@jupyter-widgets/base",
      "model_module_version": "1.2.0",
      "model_name": "LayoutModel",
      "state": {
       "width": "auto"
      }
     },
     "efd1d2335cee4e2f9b5e34a0a36ab4aa": {
      "model_module": "@jupyter-widgets/base",
      "model_module_version": "1.2.0",
      "model_name": "LayoutModel",
      "state": {}
     },
     "efea85cfbda247c8976aae9419a2eace": {
      "model_module": "@jupyter-widgets/base",
      "model_module_version": "1.2.0",
      "model_name": "LayoutModel",
      "state": {
       "width": "155px"
      }
     },
     "eff65f24c8b04a0a9da08bb2094b6098": {
      "model_module": "@jupyter-widgets/base",
      "model_module_version": "1.2.0",
      "model_name": "LayoutModel",
      "state": {}
     },
     "f00dc516f420465f979e733552f7306c": {
      "model_module": "@jupyter-widgets/base",
      "model_module_version": "1.2.0",
      "model_name": "LayoutModel",
      "state": {
       "width": "40%"
      }
     },
     "f015f82af17a48c6af52dab33c66356a": {
      "model_module": "@jupyter-widgets/controls",
      "model_module_version": "1.5.0",
      "model_name": "HBoxModel",
      "state": {
       "_dom_classes": [
        "list-item"
       ],
       "children": [
        "IPY_MODEL_d1cbb27eb38d45bcac7803906d785a7a",
        "IPY_MODEL_55399fd195234888881202f2855ad6db"
       ],
       "layout": "IPY_MODEL_199538ef9a224d888a0d0890c8f827a6"
      }
     },
     "f055edfa58034dfda8607932cd893ee1": {
      "model_module": "@jupyter-widgets/base",
      "model_module_version": "1.2.0",
      "model_name": "LayoutModel",
      "state": {
       "display": "flex",
       "flex_flow": "column",
       "width": "50%"
      }
     },
     "f0574ac8d5f947938d8845714eca42eb": {
      "model_module": "@jupyter-widgets/controls",
      "model_module_version": "1.5.0",
      "model_name": "CheckboxModel",
      "state": {
       "description": "FIGS",
       "disabled": false,
       "indent": false,
       "layout": "IPY_MODEL_c0284ddc6b75467dba5ecd9d05deeb6b",
       "style": "IPY_MODEL_0891d89959c94388b3b4b462a63208a2",
       "value": false
      }
     },
     "f0670431971f431083e85e1ed14029f7": {
      "model_module": "@jupyter-widgets/controls",
      "model_module_version": "1.5.0",
      "model_name": "DescriptionStyleModel",
      "state": {
       "description_width": "initial"
      }
     },
     "f07aa465c1be497c91cdbf3cd146b37d": {
      "model_module": "@jupyter-widgets/controls",
      "model_module_version": "1.5.0",
      "model_name": "HTMLModel",
      "state": {
       "layout": "IPY_MODEL_fe5ff1bccb5a459b80b5eb9d9a8a8972",
       "style": "IPY_MODEL_89d44e08ce2c4f959bb779ed6bb32456",
       "value": "<h4 style='margin: 10px 0px;'>Monotonic Setting</h4>"
      }
     },
     "f07b8eb9e6b442a0b0cf747c11aff91f": {
      "model_module": "@jupyter-widgets/controls",
      "model_module_version": "1.5.0",
      "model_name": "HTMLModel",
      "state": {
       "layout": "IPY_MODEL_3cc6d02f49a8440a911f00ef578ada26",
       "style": "IPY_MODEL_a3789aaec23142638c46f485c516d6fe",
       "value": "<div class='divider'></div>"
      }
     },
     "f085379567254d1cbc5a6ad2bb3502b1": {
      "model_module": "@jupyter-widgets/base",
      "model_module_version": "1.2.0",
      "model_name": "LayoutModel",
      "state": {
       "width": "99%"
      }
     },
     "f08595239e00413da08df85c44abed5d": {
      "model_module": "@jupyter-widgets/base",
      "model_module_version": "1.2.0",
      "model_name": "LayoutModel",
      "state": {}
     },
     "f09209b86af044ecb14c5122e084e0b1": {
      "model_module": "@jupyter-widgets/base",
      "model_module_version": "1.2.0",
      "model_name": "LayoutModel",
      "state": {
       "width": "auto"
      }
     },
     "f0a18f3f263449bfa3cf59e319f28f60": {
      "model_module": "@jupyter-widgets/controls",
      "model_module_version": "1.5.0",
      "model_name": "HBoxModel",
      "state": {
       "_dom_classes": [
        "list-item"
       ],
       "children": [
        "IPY_MODEL_f0574ac8d5f947938d8845714eca42eb",
        "IPY_MODEL_66fb8f30da02443291c2bb91fe317fc3"
       ],
       "layout": "IPY_MODEL_b46d3140f23d441eb14ecc76dfdf51fd"
      }
     },
     "f0d60fc035c340e8bf884bd10abcdeae": {
      "model_module": "@jupyter-widgets/controls",
      "model_module_version": "1.5.0",
      "model_name": "BoundedIntTextModel",
      "state": {
       "layout": "IPY_MODEL_dab0109148e447378dc3877287a0d3e7",
       "max": 10000,
       "min": 1,
       "style": "IPY_MODEL_8b56fa03843f4fe89469ab641d6e5406",
       "value": 20
      }
     },
     "f155feb326c442ee81eda121d5bf85b7": {
      "model_module": "@jupyter-widgets/controls",
      "model_module_version": "1.5.0",
      "model_name": "HTMLModel",
      "state": {
       "layout": "IPY_MODEL_68a05684258a4bedbfe6c178c65e9e3f",
       "style": "IPY_MODEL_931ca626186045539a3244627ec76c7e",
       "value": "Model name:"
      }
     },
     "f18bcf7d6a9b41a1b81c67ba702804e7": {
      "model_module": "@jupyter-widgets/controls",
      "model_module_version": "1.5.0",
      "model_name": "DescriptionStyleModel",
      "state": {
       "description_width": ""
      }
     },
     "f18e8d1ff4ae4b06a0391a042323898d": {
      "model_module": "@jupyter-widgets/controls",
      "model_module_version": "1.5.0",
      "model_name": "DescriptionStyleModel",
      "state": {
       "description_width": ""
      }
     },
     "f19655bb9d9d4d6bbb007e8135dc5b4e": {
      "model_module": "@jupyter-widgets/controls",
      "model_module_version": "1.5.0",
      "model_name": "ButtonStyleModel",
      "state": {}
     },
     "f19e32710fbd410b8455b49e50e0835a": {
      "model_module": "@jupyter-widgets/base",
      "model_module_version": "1.2.0",
      "model_name": "LayoutModel",
      "state": {
       "width": "100%"
      }
     },
     "f1a75820a1164573b13ae6dd52446dc5": {
      "model_module": "@jupyter-widgets/base",
      "model_module_version": "1.2.0",
      "model_name": "LayoutModel",
      "state": {}
     },
     "f208d8cfedf541b4a29a133982a693a6": {
      "model_module": "@jupyter-widgets/controls",
      "model_module_version": "1.5.0",
      "model_name": "HTMLModel",
      "state": {
       "layout": "IPY_MODEL_c7490ce3afc04b3c85c48eac884d6229",
       "style": "IPY_MODEL_931ea8474edc4a0caa532ea40c2f4320",
       "value": "Update Attribute:"
      }
     },
     "f2143ab9657c491d9176304bd6d9eecb": {
      "model_module": "@jupyter-widgets/base",
      "model_module_version": "1.2.0",
      "model_name": "LayoutModel",
      "state": {}
     },
     "f22e96264d2b40ba870cd7b80b75bee3": {
      "model_module": "@jupyter-widgets/controls",
      "model_module_version": "1.5.0",
      "model_name": "DescriptionStyleModel",
      "state": {
       "description_width": ""
      }
     },
     "f2687326f6344072a4cf9f25bfd21334": {
      "model_module": "@jupyter-widgets/controls",
      "model_module_version": "1.5.0",
      "model_name": "ButtonModel",
      "state": {
       "_dom_classes": [
        "pbtn"
       ],
       "button_style": "danger",
       "icon": "cog",
       "layout": "IPY_MODEL_88dc666088ad4387825a919bd3fb91db",
       "style": "IPY_MODEL_d964e970d7a04c67b9ada779cb0b7426"
      }
     },
     "f2c3bdd978034303b3966f9df702a162": {
      "model_module": "@jupyter-widgets/base",
      "model_module_version": "1.2.0",
      "model_name": "LayoutModel",
      "state": {}
     },
     "f2ce9552dfb7444abecea22e53a763dc": {
      "model_module": "@jupyter-widgets/controls",
      "model_module_version": "1.5.0",
      "model_name": "HBoxModel",
      "state": {
       "children": [
        "IPY_MODEL_2f350c4e90404f35b53a5945a0df42c9",
        "IPY_MODEL_9236fcbbe2864897889c8df95ab87e15",
        "IPY_MODEL_8f6633b3faa64d0ba52c0af8c9897ab5"
       ],
       "layout": "IPY_MODEL_be77e82f7df74363bf71c12679e17bb7"
      }
     },
     "f2f0f983469f4661a0c4f556e7bc0e1a": {
      "model_module": "@jupyter-widgets/controls",
      "model_module_version": "1.5.0",
      "model_name": "BoundedIntTextModel",
      "state": {
       "layout": "IPY_MODEL_4284b9ff49704517bb3e2d7526ecc44d",
       "max": 10000,
       "min": 1,
       "style": "IPY_MODEL_e4ce777395084f0e983d59c2c6593e7b",
       "value": 1000
      }
     },
     "f2f5715dc6184bf3a4bd128b72200e12": {
      "model_module": "@jupyter-widgets/controls",
      "model_module_version": "1.5.0",
      "model_name": "VBoxModel",
      "state": {
       "children": [
        "IPY_MODEL_0589d8b285b3489885af2e648338e093",
        "IPY_MODEL_aaf04d45a72746918d230e2c9d187605"
       ],
       "layout": "IPY_MODEL_af92408784be4780903b79cdf76d7a23"
      }
     },
     "f30f3937493a454cb10f4eb4869c4da5": {
      "model_module": "@jupyter-widgets/base",
      "model_module_version": "1.2.0",
      "model_name": "LayoutModel",
      "state": {}
     },
     "f3714970e260437d925a114699c50a42": {
      "model_module": "@jupyter-widgets/controls",
      "model_module_version": "1.5.0",
      "model_name": "DescriptionStyleModel",
      "state": {
       "description_width": ""
      }
     },
     "f379a6216bfb44219b3393e7c2080d5b": {
      "model_module": "@jupyter-widgets/controls",
      "model_module_version": "1.5.0",
      "model_name": "DescriptionStyleModel",
      "state": {
       "description_width": ""
      }
     },
     "f3ac5dc78b844f5ab6e7998c376dbaaf": {
      "model_module": "@jupyter-widgets/base",
      "model_module_version": "1.2.0",
      "model_name": "LayoutModel",
      "state": {}
     },
     "f3cb173b0c2548caad7fdbe5b6ac05b4": {
      "model_module": "@jupyter-widgets/controls",
      "model_module_version": "1.5.0",
      "model_name": "BoxModel",
      "state": {
       "children": [
        "IPY_MODEL_7e4ef6bde6a045a9aef0a0b2a72368fd",
        "IPY_MODEL_fa178542593a403bac1c7fa990a33c90"
       ],
       "layout": "IPY_MODEL_a922214e598e4968b0d2a5a5527f8ef2"
      }
     },
     "f4082427765b4474ba49aa1b329282a3": {
      "model_module": "@jupyter-widgets/base",
      "model_module_version": "1.2.0",
      "model_name": "LayoutModel",
      "state": {}
     },
     "f468c2bd1cbf4e03bf824218cb98ab71": {
      "model_module": "@jupyter-widgets/base",
      "model_module_version": "1.2.0",
      "model_name": "LayoutModel",
      "state": {
       "width": "65%"
      }
     },
     "f46f293a56f044e0a5f433d8cb9b095b": {
      "model_module": "@jupyter-widgets/controls",
      "model_module_version": "1.5.0",
      "model_name": "HTMLModel",
      "state": {
       "layout": "IPY_MODEL_e17f4fa4c5da41289f4fc36ade01f0b2",
       "style": "IPY_MODEL_9631be19984c4d9882eda6950e160fbd",
       "value": "Inner_bags:"
      }
     },
     "f475feb1d60b4de5b027e88192448313": {
      "model_module": "@jupyter-widgets/controls",
      "model_module_version": "1.5.0",
      "model_name": "HTMLModel",
      "state": {
       "layout": "IPY_MODEL_972879fbab2546d2b3dd07a7a125367d",
       "style": "IPY_MODEL_496808367d2f48a891c85ef7413eaafa",
       "value": "Subnet2_size:"
      }
     },
     "f497a726f1d941b4bd30ad150015bc41": {
      "model_module": "@jupyter-widgets/controls",
      "model_module_version": "1.5.0",
      "model_name": "DescriptionStyleModel",
      "state": {
       "description_width": ""
      }
     },
     "f4ef0db2b427492bbae61f6394066711": {
      "model_module": "@jupyter-widgets/base",
      "model_module_version": "1.2.0",
      "model_name": "LayoutModel",
      "state": {
       "width": "155px"
      }
     },
     "f4effa7ea3e3474fb1f6914082876524": {
      "model_module": "@jupyter-widgets/base",
      "model_module_version": "1.2.0",
      "model_name": "LayoutModel",
      "state": {}
     },
     "f4f72ea76b3041f881cf8d3ad733648b": {
      "model_module": "@jupyter-widgets/base",
      "model_module_version": "1.2.0",
      "model_name": "LayoutModel",
      "state": {
       "width": "99%"
      }
     },
     "f500f3e9bf2b4ae6925f83611b0835d6": {
      "model_module": "@jupyter-widgets/base",
      "model_module_version": "1.2.0",
      "model_name": "LayoutModel",
      "state": {
       "justify_content": "space-between",
       "width": "50%"
      }
     },
     "f52dfb1836984f6e8b3d3b8ff48c958e": {
      "model_module": "@jupyter-widgets/controls",
      "model_module_version": "1.5.0",
      "model_name": "BoxModel",
      "state": {
       "children": [
        "IPY_MODEL_fe2983d6f57b49a5a06fbcf64a7668dc",
        "IPY_MODEL_d168db5908854130af4da4af811474e1"
       ],
       "layout": "IPY_MODEL_ba323e1373e24eabbb62ca869467fe94"
      }
     },
     "f54c9e3900be4511b5b301d0bd892ead": {
      "model_module": "@jupyter-widgets/base",
      "model_module_version": "1.2.0",
      "model_name": "LayoutModel",
      "state": {
       "align_items": "center",
       "display": "flex",
       "flex_flow": "row",
       "width": "100%"
      }
     },
     "f56de60f51ca40e2b078f9a8c4e1fe6b": {
      "model_module": "@jupyter-widgets/base",
      "model_module_version": "1.2.0",
      "model_name": "LayoutModel",
      "state": {
       "align_items": "center",
       "display": "flex",
       "flex_flow": "row",
       "width": "100%"
      }
     },
     "f56fc6eba1a64a238edb0e02fe5bae1a": {
      "model_module": "@jupyter-widgets/controls",
      "model_module_version": "1.5.0",
      "model_name": "HTMLModel",
      "state": {
       "layout": "IPY_MODEL_b4cac921d7d84a07804244da7e68f08a",
       "style": "IPY_MODEL_42966b21de344b7c8326d0926cd7cbd4",
       "value": "Learning_rate:"
      }
     },
     "f570ea6d7f8b420c8a33a1ad4d46d89b": {
      "model_module": "@jupyter-widgets/base",
      "model_module_version": "1.2.0",
      "model_name": "LayoutModel",
      "state": {
       "width": "99%"
      }
     },
     "f576caa0671745158cc8a1130b56d0c3": {
      "model_module": "@jupyter-widgets/base",
      "model_module_version": "1.2.0",
      "model_name": "LayoutModel",
      "state": {}
     },
     "f5cd3e5e99e345a7b67627bafb45e985": {
      "model_module": "@jupyter-widgets/controls",
      "model_module_version": "1.5.0",
      "model_name": "VBoxModel",
      "state": {
       "children": [
        "IPY_MODEL_11fbd4be59cd49559f76db827018e8a8",
        "IPY_MODEL_b66b8ab7e1744e298edbe854b7c8c0b7",
        "IPY_MODEL_714c8550f6924dd4ba8e60815db80c38",
        "IPY_MODEL_f475feb1d60b4de5b027e88192448313",
        "IPY_MODEL_ebd8a56d589e4f56889e6ca99d1ac2c5",
        "IPY_MODEL_99140cd5fc2946d1bdd44b93ddfcd1d7",
        "IPY_MODEL_d72bf4ed39944cdd8dc76232fee72bb9"
       ],
       "layout": "IPY_MODEL_eeaa3215d8414a63bd54ffff901fba97"
      }
     },
     "f5e00eb748014548807b548ae014b150": {
      "model_module": "@jupyter-widgets/controls",
      "model_module_version": "1.5.0",
      "model_name": "DescriptionStyleModel",
      "state": {
       "description_width": "initial"
      }
     },
     "f5ff0f8b485f4f4aa791783ab671f5bf": {
      "model_module": "@jupyter-widgets/base",
      "model_module_version": "1.2.0",
      "model_name": "LayoutModel",
      "state": {
       "height": "80%",
       "width": "60%"
      }
     },
     "f66189b0da654160ba36150f468bd2d8": {
      "model_module": "@jupyter-widgets/controls",
      "model_module_version": "1.5.0",
      "model_name": "ButtonModel",
      "state": {
       "_dom_classes": [
        "pbtn"
       ],
       "button_style": "danger",
       "icon": "cog",
       "layout": "IPY_MODEL_a2365503c91a4689bd4b23aeb5c183ac",
       "style": "IPY_MODEL_8446449e210043868069925e7174f475"
      }
     },
     "f67c23c22e2448adb396bb9fd03d129c": {
      "model_module": "@jupyter-widgets/output",
      "model_module_version": "1.0.0",
      "model_name": "OutputModel",
      "state": {
       "layout": "IPY_MODEL_2dfde259870e4814902cee4bce186626",
       "outputs": [
        {
         "data": {
          "application/vnd.jupyter.widget-view+json": {
           "model_id": "ab9b2f1e68b247509da19be35cbea149",
           "version_major": 2,
           "version_minor": 0
          },
          "text/plain": "VBox(children=(HTML(value=\"<div class='divider'></div>\"), HTML(value=\"<h4 style='margin-top: 0px;margin-bottom…"
         },
         "metadata": {},
         "output_type": "display_data"
        },
        {
         "data": {
          "application/vnd.jupyter.widget-view+json": {
           "model_id": "b915ded2a45e4b7e85fe4125f6297fae",
           "version_major": 2,
           "version_minor": 0
          },
          "text/plain": "HTML(value=\"\\n        <table class='ptable striped'>\\n            <thead class='pthead'>\\n                <tr …"
         },
         "metadata": {},
         "output_type": "display_data"
        }
       ]
      }
     },
     "f6869a0a8ae14f86ae8648bef3b6e686": {
      "model_module": "@jupyter-widgets/controls",
      "model_module_version": "1.5.0",
      "model_name": "HTMLModel",
      "state": {
       "layout": "IPY_MODEL_47f1b235178c4e16870f88991b4f45c4",
       "style": "IPY_MODEL_16260f0bab114d878696b137feff5ac6",
       "value": "<div class='divider'></div>"
      }
     },
     "f699a8fdd88646aa8cd64441244d3156": {
      "model_module": "@jupyter-widgets/controls",
      "model_module_version": "1.5.0",
      "model_name": "DescriptionStyleModel",
      "state": {
       "description_width": "initial"
      }
     },
     "f6b7eb59535e4cfdb55046b6c5b2879f": {
      "model_module": "@jupyter-widgets/base",
      "model_module_version": "1.2.0",
      "model_name": "LayoutModel",
      "state": {
       "align_items": "center",
       "display": "flex",
       "flex_flow": "row",
       "width": "100%"
      }
     },
     "f6bc513240714f428455b8e2fe13b645": {
      "model_module": "@jupyter-widgets/base",
      "model_module_version": "1.2.0",
      "model_name": "LayoutModel",
      "state": {
       "width": "155px"
      }
     },
     "f6e2f3faa85b4fc288c1b2d21fcdef82": {
      "model_module": "@jupyter-widgets/base",
      "model_module_version": "1.2.0",
      "model_name": "LayoutModel",
      "state": {}
     },
     "f70d0e68f6ec4ab29d81a5b57729da93": {
      "model_module": "@jupyter-widgets/controls",
      "model_module_version": "1.5.0",
      "model_name": "TextModel",
      "state": {
       "layout": "IPY_MODEL_91b421a9920b4b6882146a4040fd6c05",
       "placeholder": "Input name",
       "style": "IPY_MODEL_a2646a0a98274016aeb3353211737637",
       "value": "ReLU-DNN"
      }
     },
     "f733e85820b7474fbaa69b0ab51a2078": {
      "model_module": "@jupyter-widgets/controls",
      "model_module_version": "1.5.0",
      "model_name": "DescriptionStyleModel",
      "state": {
       "description_width": ""
      }
     },
     "f761d178021e46c5982d2a173a3b49cc": {
      "model_module": "@jupyter-widgets/controls",
      "model_module_version": "1.5.0",
      "model_name": "DescriptionStyleModel",
      "state": {
       "description_width": "initial"
      }
     },
     "f78e47eb5bd7452dbd6587acd060199b": {
      "model_module": "@jupyter-widgets/controls",
      "model_module_version": "1.5.0",
      "model_name": "DescriptionStyleModel",
      "state": {
       "description_width": "initial"
      }
     },
     "f7d8023fd879413f8c2e939c54aa5ef1": {
      "model_module": "@jupyter-widgets/base",
      "model_module_version": "1.2.0",
      "model_name": "LayoutModel",
      "state": {
       "width": "15%"
      }
     },
     "f7d8d3330a5d446e9cc494826edf9134": {
      "model_module": "@jupyter-widgets/controls",
      "model_module_version": "1.5.0",
      "model_name": "BoundedFloatTextModel",
      "state": {
       "layout": "IPY_MODEL_2685d0381f6945659064a65130a1f352",
       "max": 1,
       "step": null,
       "style": "IPY_MODEL_65d7f019ea74442a9b566fd0f9883ae3",
       "value": 0.0001
      }
     },
     "f7da58b9100f43ed9de9937cbd0f21ba": {
      "model_module": "@jupyter-widgets/base",
      "model_module_version": "1.2.0",
      "model_name": "LayoutModel",
      "state": {}
     },
     "f8349b4dd8034a30af5fb80ac2f3b5e6": {
      "model_module": "@jupyter-widgets/base",
      "model_module_version": "1.2.0",
      "model_name": "LayoutModel",
      "state": {
       "align_items": "center",
       "display": "flex",
       "flex_flow": "row",
       "width": "100%"
      }
     },
     "f85e7b6858094a519b8950d126432ff8": {
      "model_module": "@jupyter-widgets/output",
      "model_module_version": "1.0.0",
      "model_name": "OutputModel",
      "state": {
       "layout": "IPY_MODEL_295226085504460d8af4cac2ce6136f6",
       "outputs": [
        {
         "data": {
          "application/vnd.jupyter.widget-view+json": {
           "model_id": "aa3c29ded8c54206a565784fb982f509",
           "version_major": 2,
           "version_minor": 0
          },
          "text/plain": "HTML(value=\"<p class='notification info'>Model Training Done</p>\")"
         },
         "metadata": {},
         "output_type": "display_data"
        }
       ]
      }
     },
     "f871ab30225b429fb1d97d529aa1c9b7": {
      "model_module": "@jupyter-widgets/controls",
      "model_module_version": "1.5.0",
      "model_name": "BoxModel",
      "state": {
       "children": [
        "IPY_MODEL_01c475a04ccc49b6bf03ae947883522b",
        "IPY_MODEL_3539293100eb4304918c310c8c88df19",
        "IPY_MODEL_f07aa465c1be497c91cdbf3cd146b37d",
        "IPY_MODEL_8f9017cdcf5344f8bf31d35bbb378680"
       ],
       "layout": "IPY_MODEL_2db1c1c5dd8845f1b0e1f688c844ae14"
      }
     },
     "f89090626ee34f62b153d8e7f4f3ba43": {
      "model_module": "@jupyter-widgets/base",
      "model_module_version": "1.2.0",
      "model_name": "LayoutModel",
      "state": {}
     },
     "f8b57902d18a499292aaef51f8860487": {
      "model_module": "@jupyter-widgets/controls",
      "model_module_version": "1.5.0",
      "model_name": "VBoxModel",
      "state": {
       "children": [
        "IPY_MODEL_680e1e264614412ea83fe7cdb4aee184",
        "IPY_MODEL_1e81e5a5825c4930939de8a4f5d199b7",
        "IPY_MODEL_aeca7824225449f3a53812a847c3b854",
        "IPY_MODEL_83547385c9ec4432b3897258f7f13138",
        "IPY_MODEL_49d5ee9ef0174ed2a08d26bf9392984b",
        "IPY_MODEL_7183bddad2f14c96b69975ebc92c6a53",
        "IPY_MODEL_f0d60fc035c340e8bf884bd10abcdeae",
        "IPY_MODEL_956940dd30464894a67de90bc69da224"
       ],
       "layout": "IPY_MODEL_94eadf54074f4993bd6c1c60fb3f6e99"
      }
     },
     "f929b7796f484aecbc0deda88782439b": {
      "model_module": "@jupyter-widgets/base",
      "model_module_version": "1.2.0",
      "model_name": "LayoutModel",
      "state": {}
     },
     "f93df42c2b0b45a0861e5b138aef0c55": {
      "model_module": "@jupyter-widgets/controls",
      "model_module_version": "1.5.0",
      "model_name": "DescriptionStyleModel",
      "state": {
       "description_width": "initial"
      }
     },
     "f94681d37b734e339cca0758b86f8801": {
      "model_module": "@jupyter-widgets/base",
      "model_module_version": "1.2.0",
      "model_name": "LayoutModel",
      "state": {
       "width": "99%"
      }
     },
     "f99f8a3c5613415cb42d594ff453b54f": {
      "model_module": "@jupyter-widgets/base",
      "model_module_version": "1.2.0",
      "model_name": "LayoutModel",
      "state": {}
     },
     "f9fe76a2f9b042cb98fca402256fb8b6": {
      "model_module": "@jupyter-widgets/base",
      "model_module_version": "1.2.0",
      "model_name": "LayoutModel",
      "state": {
       "width": "20%"
      }
     },
     "fa178542593a403bac1c7fa990a33c90": {
      "model_module": "@jupyter-widgets/controls",
      "model_module_version": "1.5.0",
      "model_name": "BoxModel",
      "state": {
       "_dom_classes": [
        "inner-card"
       ],
       "children": [
        "IPY_MODEL_9a304f0586154da09820acd966ed07fe",
        "IPY_MODEL_e542745528d0495380eb6c91a62b3bbc",
        "IPY_MODEL_a37a6bf6c0f743c5aaa8af1271589612"
       ],
       "layout": "IPY_MODEL_7a23240278f6436bb49a995ec989cdd6"
      }
     },
     "fa51990013df4f6abf699e5124aef615": {
      "model_module": "@jupyter-widgets/controls",
      "model_module_version": "1.5.0",
      "model_name": "DescriptionStyleModel",
      "state": {
       "description_width": "initial"
      }
     },
     "fa67cf110c3548f398d87aeb43d733f3": {
      "model_module": "@jupyter-widgets/controls",
      "model_module_version": "1.5.0",
      "model_name": "DropdownModel",
      "state": {
       "_options_labels": [
        "Select Data",
        "CoCircles",
        "Friedman",
        "BikeSharing",
        "TaiwanCredit",
        "CaliforniaHousing_raw",
        "CaliforniaHousing_trim1",
        "CaliforniaHousing_trim2",
        "SolasSimu1",
        "SolasHMDA",
        "Upload new data"
       ],
       "index": 8,
       "layout": "IPY_MODEL_2597f27138974843a1f5a8234678b53d",
       "style": "IPY_MODEL_0a7df788001345dd813a13626ea54329"
      }
     },
     "fa7464822299458cb593fb7e152a2309": {
      "model_module": "@jupyter-widgets/controls",
      "model_module_version": "1.5.0",
      "model_name": "DescriptionStyleModel",
      "state": {
       "description_width": ""
      }
     },
     "fa7e0f0b47d343d38e26ed4e3b167f66": {
      "model_module": "@jupyter-widgets/controls",
      "model_module_version": "1.5.0",
      "model_name": "DescriptionStyleModel",
      "state": {
       "description_width": ""
      }
     },
     "fa90f125eba0410684ad3d152063fe79": {
      "model_module": "@jupyter-widgets/controls",
      "model_module_version": "1.5.0",
      "model_name": "HTMLModel",
      "state": {
       "layout": "IPY_MODEL_3029b328430c4484bcfdb8d958db5414",
       "style": "IPY_MODEL_66f197c93356454998dd2d825d58903b",
       "value": "Smoothness:"
      }
     },
     "fa9afc3845f44874af88477465486711": {
      "model_module": "@jupyter-widgets/base",
      "model_module_version": "1.2.0",
      "model_name": "LayoutModel",
      "state": {
       "width": "99%"
      }
     },
     "fab96d3ea0b34ef8995c8b8f63f77cb1": {
      "model_module": "@jupyter-widgets/controls",
      "model_module_version": "1.5.0",
      "model_name": "DescriptionStyleModel",
      "state": {
       "description_width": ""
      }
     },
     "fac83db79f8d4221a1521ea67ff4c057": {
      "model_module": "@jupyter-widgets/controls",
      "model_module_version": "1.5.0",
      "model_name": "HTMLModel",
      "state": {
       "layout": "IPY_MODEL_5386373ab5d94782a62053f4d31bdec4",
       "style": "IPY_MODEL_5f5d4070b6794396b57fd8a6644b5665",
       "value": "<div style='margin-right: 10px'></div>"
      }
     },
     "facfb73d06a6406db265f8e4dfff79f4": {
      "model_module": "@jupyter-widgets/base",
      "model_module_version": "1.2.0",
      "model_name": "LayoutModel",
      "state": {
       "width": "auto"
      }
     },
     "fae4f6de056a4d2c8f6fe5c785a60427": {
      "model_module": "@jupyter-widgets/controls",
      "model_module_version": "1.5.0",
      "model_name": "DescriptionStyleModel",
      "state": {
       "description_width": "initial"
      }
     },
     "fb7a2e76b01240268246066f7eeda318": {
      "model_module": "@jupyter-widgets/base",
      "model_module_version": "1.2.0",
      "model_name": "LayoutModel",
      "state": {}
     },
     "fb7b2d40771a477d95644db3db33674c": {
      "model_module": "@jupyter-widgets/controls",
      "model_module_version": "1.5.0",
      "model_name": "DescriptionStyleModel",
      "state": {
       "description_width": "initial"
      }
     },
     "fbbd58306b4748dd92db0d5d00032761": {
      "model_module": "@jupyter-widgets/base",
      "model_module_version": "1.2.0",
      "model_name": "LayoutModel",
      "state": {}
     },
     "fbe7196bc2b14f1eb3c4e07ac3b346c4": {
      "model_module": "@jupyter-widgets/controls",
      "model_module_version": "1.5.0",
      "model_name": "HBoxModel",
      "state": {
       "children": [
        "IPY_MODEL_2251aaa251d8476a9032f70642661b8e",
        "IPY_MODEL_c945c1c33c4944c8a8a2884fee4560b2"
       ],
       "layout": "IPY_MODEL_ff63203efd85460e8b7edff6e9e95619"
      }
     },
     "fc2ea0de54f04a7e9c25b81808969ece": {
      "model_module": "@jupyter-widgets/controls",
      "model_module_version": "1.5.0",
      "model_name": "DescriptionStyleModel",
      "state": {
       "description_width": "initial"
      }
     },
     "fc6404eac4544900ae170fadff6c9026": {
      "model_module": "@jupyter-widgets/base",
      "model_module_version": "1.2.0",
      "model_name": "LayoutModel",
      "state": {}
     },
     "fc82325b64a047019fc26e230e213112": {
      "model_module": "@jupyter-widgets/controls",
      "model_module_version": "1.5.0",
      "model_name": "BoxModel",
      "state": {
       "children": [
        "IPY_MODEL_1ec511c533c44c188527aa2d970741f2",
        "IPY_MODEL_385c49028d4c4b2cae10566e98924f86",
        "IPY_MODEL_8339abc6bc3547258b08317335ffe5e1",
        "IPY_MODEL_ed9a2823de1546e680aacf15c0012c9e"
       ],
       "layout": "IPY_MODEL_991e258ee00e4866b31499fdf880aba4"
      }
     },
     "fc8d62e92b3747dc9353dc287d6f761e": {
      "model_module": "@jupyter-widgets/base",
      "model_module_version": "1.2.0",
      "model_name": "LayoutModel",
      "state": {}
     },
     "fca552763ba84de29953f64425ff384c": {
      "model_module": "@jupyter-widgets/output",
      "model_module_version": "1.0.0",
      "model_name": "OutputModel",
      "state": {
       "layout": "IPY_MODEL_af357f2ec6724eae8f2fc2844db0090c"
      }
     },
     "fcc3a9b07749499dbae2f3429758443c": {
      "model_module": "@jupyter-widgets/base",
      "model_module_version": "1.2.0",
      "model_name": "LayoutModel",
      "state": {
       "width": "auto"
      }
     },
     "fcc673417a3948a7bf482a93cda672b6": {
      "model_module": "@jupyter-widgets/base",
      "model_module_version": "1.2.0",
      "model_name": "LayoutModel",
      "state": {
       "width": "auto"
      }
     },
     "fcefc8525c07439fb9fe221145959c29": {
      "model_module": "@jupyter-widgets/controls",
      "model_module_version": "1.5.0",
      "model_name": "BoundedIntTextModel",
      "state": {
       "layout": "IPY_MODEL_99dadb8ffdb043328210feb325093bd4",
       "max": 10000,
       "style": "IPY_MODEL_a2192af173524863b6940307521f5af8",
       "value": 256
      }
     },
     "fd34840dc6e743059f74d4560678c95d": {
      "model_module": "@jupyter-widgets/controls",
      "model_module_version": "1.5.0",
      "model_name": "HBoxModel",
      "state": {
       "children": [
        "IPY_MODEL_79eb791eb62b44acbe69b3a66e90a86f",
        "IPY_MODEL_444f5e5cb8bd42fba2b8d343950e2d95"
       ],
       "layout": "IPY_MODEL_9725b8816d424101a5ea3a318620bb4d"
      }
     },
     "fd44314282d542bb90e8c28d3631b5f4": {
      "model_module": "@jupyter-widgets/base",
      "model_module_version": "1.2.0",
      "model_name": "LayoutModel",
      "state": {
       "width": "155px"
      }
     },
     "fd6363c440df48cfb317bcd03db3a908": {
      "model_module": "@jupyter-widgets/controls",
      "model_module_version": "1.5.0",
      "model_name": "HTMLModel",
      "state": {
       "layout": "IPY_MODEL_71525d0546f34f2f95ecd537a19429c7",
       "style": "IPY_MODEL_00502772983d475e997edd2437039afc",
       "value": "<div style='margin-right: 10px'></div>"
      }
     },
     "fd82ec86bd2b4c5c9f4ed82a032b0c3a": {
      "model_module": "@jupyter-widgets/base",
      "model_module_version": "1.2.0",
      "model_name": "LayoutModel",
      "state": {}
     },
     "fdae37c91a1542669e220914a540871e": {
      "model_module": "@jupyter-widgets/controls",
      "model_module_version": "1.5.0",
      "model_name": "DescriptionStyleModel",
      "state": {
       "description_width": ""
      }
     },
     "fdb35bc0d01f4ed180d166f8ba97f04e": {
      "model_module": "@jupyter-widgets/base",
      "model_module_version": "1.2.0",
      "model_name": "LayoutModel",
      "state": {
       "width": "auto"
      }
     },
     "fe269408596c43938bc16ae3eecf8cfa": {
      "model_module": "@jupyter-widgets/base",
      "model_module_version": "1.2.0",
      "model_name": "LayoutModel",
      "state": {}
     },
     "fe2983d6f57b49a5a06fbcf64a7668dc": {
      "model_module": "@jupyter-widgets/controls",
      "model_module_version": "1.5.0",
      "model_name": "HTMLModel",
      "state": {
       "layout": "IPY_MODEL_a56312a56d32491d97b7a664a81f2b86",
       "style": "IPY_MODEL_6f6584665efb403e95565132550109a6",
       "value": "<h4 style='margin: 10px 0px;'>Customize Model</h4>"
      }
     },
     "fe2c9c0bf0484925ac5caf7e20d58d79": {
      "model_module": "@jupyter-widgets/controls",
      "model_module_version": "1.5.0",
      "model_name": "BoundedIntTextModel",
      "state": {
       "layout": "IPY_MODEL_ead0ef0bd3914b45ad31c932bdfa0b3b",
       "max": 10000,
       "style": "IPY_MODEL_81072f5ac7fd4eef94e5b6aa76dec431"
      }
     },
     "fe5754023ffd4ac9bbde7106d8a78291": {
      "model_module": "@jupyter-widgets/controls",
      "model_module_version": "1.5.0",
      "model_name": "HTMLModel",
      "state": {
       "layout": "IPY_MODEL_da42558befe9459dbda8c520cccf12d5",
       "style": "IPY_MODEL_8990d8f765e14990a4d27f0d8e249cf1",
       "value": "Model name:"
      }
     },
     "fe5ff1bccb5a459b80b5eb9d9a8a8972": {
      "model_module": "@jupyter-widgets/base",
      "model_module_version": "1.2.0",
      "model_name": "LayoutModel",
      "state": {}
     },
     "febcafc3c1c84ae28f3c35f9fcee1c8b": {
      "model_module": "@jupyter-widgets/controls",
      "model_module_version": "1.5.0",
      "model_name": "HTMLModel",
      "state": {
       "layout": "IPY_MODEL_c1c3cb92d1734bc6a5fa6743aa933be8",
       "style": "IPY_MODEL_6ceefda3d26349b495813f5410448136",
       "value": "Prune_parameter:"
      }
     },
     "fecad095fba748f6963b3849ca5af99e": {
      "model_module": "@jupyter-widgets/base",
      "model_module_version": "1.2.0",
      "model_name": "LayoutModel",
      "state": {}
     },
     "fed07bc79edc45bda111c250c2d8f718": {
      "model_module": "@jupyter-widgets/controls",
      "model_module_version": "1.5.0",
      "model_name": "ButtonStyleModel",
      "state": {}
     },
     "fed9cd256bea42579c9a0e6d999f2b08": {
      "model_module": "@jupyter-widgets/controls",
      "model_module_version": "1.5.0",
      "model_name": "DescriptionStyleModel",
      "state": {
       "description_width": ""
      }
     },
     "ff02ccc100e1487daac7c0ad59ad3526": {
      "model_module": "@jupyter-widgets/controls",
      "model_module_version": "1.5.0",
      "model_name": "HTMLModel",
      "state": {
       "layout": "IPY_MODEL_a46c36eace274173ad9cdfd07f35c766",
       "style": "IPY_MODEL_4d62d5c73c5b411aa438f75615b62887",
       "value": "Random_state:"
      }
     },
     "ff1aac4f4bfb40a992780074cafa9150": {
      "model_module": "@jupyter-widgets/controls",
      "model_module_version": "1.5.0",
      "model_name": "HBoxModel",
      "state": {
       "children": [
        "IPY_MODEL_e6de807919f744d693789961ccb87a76",
        "IPY_MODEL_88fb27fef2334dd2897ebbab609bca43"
       ],
       "layout": "IPY_MODEL_8ec089e9e8a14cb2adbe295c89d69c49"
      }
     },
     "ff2eb15da33145bc96cae795917cc2b9": {
      "model_module": "@jupyter-widgets/controls",
      "model_module_version": "1.5.0",
      "model_name": "BoundedIntTextModel",
      "state": {
       "layout": "IPY_MODEL_4dc499cbc8654fc1b526cf987124f58a",
       "max": 10000,
       "min": 1,
       "style": "IPY_MODEL_f78e47eb5bd7452dbd6587acd060199b",
       "value": 100
      }
     },
     "ff63203efd85460e8b7edff6e9e95619": {
      "model_module": "@jupyter-widgets/base",
      "model_module_version": "1.2.0",
      "model_name": "LayoutModel",
      "state": {
       "width": "99%"
      }
     },
     "ff97dbef8b254e0e833c150f3cec7d44": {
      "model_module": "@jupyter-widgets/base",
      "model_module_version": "1.2.0",
      "model_name": "LayoutModel",
      "state": {
       "width": "100%"
      }
     },
     "ff9f26bbef494b46a1a5815eb5a6116c": {
      "model_module": "@jupyter-widgets/base",
      "model_module_version": "1.2.0",
      "model_name": "LayoutModel",
      "state": {
       "height": "25px",
       "width": "35px"
      }
     },
     "ffbea6f057bc48f2bfdd77be2f4a2dbf": {
      "model_module": "@jupyter-widgets/controls",
      "model_module_version": "1.5.0",
      "model_name": "BoundedIntTextModel",
      "state": {
       "layout": "IPY_MODEL_fcc3a9b07749499dbae2f3429758443c",
       "max": 1000,
       "style": "IPY_MODEL_314f7aa474cc432691fc81c99c55d4d4",
       "value": 32
      }
     }
    },
    "version_major": 2,
    "version_minor": 0
   }
  }
 },
 "nbformat": 4,
 "nbformat_minor": 1
}
